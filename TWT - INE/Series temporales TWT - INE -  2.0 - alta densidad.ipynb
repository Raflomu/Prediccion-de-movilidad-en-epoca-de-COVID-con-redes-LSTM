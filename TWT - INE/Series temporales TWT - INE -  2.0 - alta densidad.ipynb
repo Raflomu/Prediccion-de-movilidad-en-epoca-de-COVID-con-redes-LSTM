{
 "cells": [
  {
   "cell_type": "code",
   "execution_count": 1,
   "metadata": {},
   "outputs": [],
   "source": [
    "import pandas as pd\n",
    "import numpy as np\n",
    "from tqdm import tqdm_notebook\n",
    "import os\n",
    "from sklearn.metrics import mean_squared_error, mean_absolute_error\n",
    "from sklearn.preprocessing import MinMaxScaler\n",
    "from keras.models import Sequential\n",
    "from keras.layers import Dense,Activation,Flatten,Dropout\n",
    "\n",
    "import matplotlib.pyplot as plt\n",
    "%matplotlib inline\n",
    "\n",
    "import warnings\n",
    "warnings.filterwarnings(\"ignore\")\n",
    "\n",
    "import datetime\n",
    "from datetime import date, timedelta\n",
    "e_date = datetime.datetime.strptime('2020-06-20', '%Y-%m-%d')\n",
    "i_date = datetime.datetime.strptime('2020-04-01', '%Y-%m-%d')\n",
    "\n",
    "data_path = 'D:/universidad/universidad 4/TFG/recursos para el desarrollo/datos procesados/OD'"
   ]
  },
  {
   "cell_type": "code",
   "execution_count": 2,
   "metadata": {},
   "outputs": [],
   "source": [
    "delta = e_date - i_date\n",
    "\n",
    "target_days = []\n",
    "for i in range(delta.days + 1):\n",
    "    day = i_date + timedelta(days=i)\n",
    "    target_days.append(day)"
   ]
  },
  {
   "cell_type": "code",
   "execution_count": 3,
   "metadata": {},
   "outputs": [],
   "source": [
    "def read_OD_fn(source_type):\n",
    "    ods = {}\n",
    "    for date in tqdm_notebook(target_days):\n",
    "        od_date= pd.read_csv(os.path.join(data_path, 'date_{}_OD_{}.csv'.format(source_type,date.strftime('%Y-%m-%d'))), \n",
    "                            index_col=0)\n",
    "        ods[date] = od_date\n",
    "    return ods"
   ]
  },
  {
   "cell_type": "code",
   "execution_count": 4,
   "metadata": {},
   "outputs": [
    {
     "data": {
      "application/vnd.jupyter.widget-view+json": {
       "model_id": "a1255099bc3646d99a39eac10262ff98",
       "version_major": 2,
       "version_minor": 0
      },
      "text/plain": [
       "  0%|          | 0/81 [00:00<?, ?it/s]"
      ]
     },
     "metadata": {},
     "output_type": "display_data"
    }
   ],
   "source": [
    "ine_ods = read_OD_fn('INE')"
   ]
  },
  {
   "cell_type": "code",
   "execution_count": 5,
   "metadata": {
    "scrolled": true
   },
   "outputs": [
    {
     "data": {
      "application/vnd.jupyter.widget-view+json": {
       "model_id": "254c56ce90b64ec4b38aa74962be0785",
       "version_major": 2,
       "version_minor": 0
      },
      "text/plain": [
       "  0%|          | 0/81 [00:00<?, ?it/s]"
      ]
     },
     "metadata": {},
     "output_type": "display_data"
    }
   ],
   "source": [
    "twt_ods = read_OD_fn('TWT')"
   ]
  },
  {
   "cell_type": "markdown",
   "metadata": {},
   "source": [
    "# Serializar los datos"
   ]
  },
  {
   "cell_type": "code",
   "execution_count": 6,
   "metadata": {
    "scrolled": true
   },
   "outputs": [
    {
     "data": {
      "application/vnd.jupyter.widget-view+json": {
       "model_id": "ca434895e0754e22ab5dad36fa2d20ac",
       "version_major": 2,
       "version_minor": 0
      },
      "text/plain": [
       "  0%|          | 0/81 [00:00<?, ?it/s]"
      ]
     },
     "metadata": {},
     "output_type": "display_data"
    },
    {
     "data": {
      "application/vnd.jupyter.widget-view+json": {
       "model_id": "3b62193b790e4788b3211964f4644fb6",
       "version_major": 2,
       "version_minor": 0
      },
      "text/plain": [
       "  0%|          | 0/81 [00:00<?, ?it/s]"
      ]
     },
     "metadata": {},
     "output_type": "display_data"
    }
   ],
   "source": [
    "lista_twt1 = []\n",
    "lista_twt2 = []\n",
    "lista_twt3 = []\n",
    "lista_twt4 = []\n",
    "lista_twt5 = []\n",
    "\n",
    "for date in tqdm_notebook(target_days):\n",
    "    lista_twt1.append(twt_ods[date].loc['58MA','total'])\n",
    "    lista_twt2.append(twt_ods[date].loc['156B','total'])\n",
    "    lista_twt3.append(twt_ods[date].loc['34CZ','total'])\n",
    "    lista_twt4.append(twt_ods[date].loc['165V','total'])\n",
    "    lista_twt5.append(twt_ods[date].loc['13VI','total'])\n",
    "    \n",
    "    \n",
    "lista_ine1 = []\n",
    "lista_ine2 = []\n",
    "lista_ine3 = []\n",
    "lista_ine4 = []\n",
    "lista_ine5 = []\n",
    "\n",
    "for date in tqdm_notebook(target_days):\n",
    "    lista_ine1.append(ine_ods[date].loc['58MA','total'])\n",
    "    lista_ine2.append(ine_ods[date].loc['156B','total'])\n",
    "    lista_ine3.append(ine_ods[date].loc['34CZ','total'])\n",
    "    lista_ine4.append(ine_ods[date].loc['165V','total'])\n",
    "    lista_ine5.append(ine_ods[date].loc['13VI','total'])\n"
   ]
  },
  {
   "cell_type": "code",
   "execution_count": 7,
   "metadata": {
    "scrolled": true
   },
   "outputs": [],
   "source": [
    "df_twt1 = pd.DataFrame (lista_twt1, columns = ['Viajes'], index= target_days)\n",
    "df_ine1 = pd.DataFrame (lista_ine1, columns = ['Viajes'], index= target_days)\n",
    "\n",
    "df_twt2 = pd.DataFrame (lista_twt2, columns = ['Viajes'], index= target_days)\n",
    "df_ine2 = pd.DataFrame (lista_ine2, columns = ['Viajes'], index= target_days)\n",
    "\n",
    "df_twt3 = pd.DataFrame (lista_twt3, columns = ['Viajes'], index= target_days)\n",
    "df_ine3 = pd.DataFrame (lista_ine3, columns = ['Viajes'], index= target_days)\n",
    "\n",
    "df_twt4 = pd.DataFrame (lista_twt4, columns = ['Viajes'], index= target_days)\n",
    "df_ine4 = pd.DataFrame (lista_ine4, columns = ['Viajes'], index= target_days)\n",
    "\n",
    "df_twt5 = pd.DataFrame (lista_twt5, columns = ['Viajes'], index= target_days)\n",
    "df_ine5 = pd.DataFrame (lista_ine5, columns = ['Viajes'], index= target_days)"
   ]
  },
  {
   "cell_type": "code",
   "execution_count": 8,
   "metadata": {},
   "outputs": [],
   "source": [
    "lista_twt = []\n",
    "lista_ine = []\n",
    "\n",
    "df_twt = df_twt1 + df_twt2 + df_twt3 + df_twt4 + df_twt5\n",
    "df_ine = df_ine1 + df_ine2 + df_ine3 + df_ine4 + df_ine5"
   ]
  },
  {
   "cell_type": "code",
   "execution_count": 9,
   "metadata": {},
   "outputs": [
    {
     "data": {
      "text/html": [
       "<div>\n",
       "<style scoped>\n",
       "    .dataframe tbody tr th:only-of-type {\n",
       "        vertical-align: middle;\n",
       "    }\n",
       "\n",
       "    .dataframe tbody tr th {\n",
       "        vertical-align: top;\n",
       "    }\n",
       "\n",
       "    .dataframe thead th {\n",
       "        text-align: right;\n",
       "    }\n",
       "</style>\n",
       "<table border=\"1\" class=\"dataframe\">\n",
       "  <thead>\n",
       "    <tr style=\"text-align: right;\">\n",
       "      <th></th>\n",
       "      <th>Viajes</th>\n",
       "    </tr>\n",
       "  </thead>\n",
       "  <tbody>\n",
       "    <tr>\n",
       "      <th>2020-04-01</th>\n",
       "      <td>11</td>\n",
       "    </tr>\n",
       "    <tr>\n",
       "      <th>2020-04-02</th>\n",
       "      <td>3</td>\n",
       "    </tr>\n",
       "    <tr>\n",
       "      <th>2020-04-03</th>\n",
       "      <td>14</td>\n",
       "    </tr>\n",
       "    <tr>\n",
       "      <th>2020-04-04</th>\n",
       "      <td>5</td>\n",
       "    </tr>\n",
       "    <tr>\n",
       "      <th>2020-04-05</th>\n",
       "      <td>13</td>\n",
       "    </tr>\n",
       "  </tbody>\n",
       "</table>\n",
       "</div>"
      ],
      "text/plain": [
       "            Viajes\n",
       "2020-04-01      11\n",
       "2020-04-02       3\n",
       "2020-04-03      14\n",
       "2020-04-04       5\n",
       "2020-04-05      13"
      ]
     },
     "execution_count": 9,
     "metadata": {},
     "output_type": "execute_result"
    }
   ],
   "source": [
    "df_twt.head()"
   ]
  },
  {
   "cell_type": "code",
   "execution_count": 10,
   "metadata": {},
   "outputs": [
    {
     "data": {
      "text/html": [
       "<div>\n",
       "<style scoped>\n",
       "    .dataframe tbody tr th:only-of-type {\n",
       "        vertical-align: middle;\n",
       "    }\n",
       "\n",
       "    .dataframe tbody tr th {\n",
       "        vertical-align: top;\n",
       "    }\n",
       "\n",
       "    .dataframe thead th {\n",
       "        text-align: right;\n",
       "    }\n",
       "</style>\n",
       "<table border=\"1\" class=\"dataframe\">\n",
       "  <thead>\n",
       "    <tr style=\"text-align: right;\">\n",
       "      <th></th>\n",
       "      <th>Viajes</th>\n",
       "    </tr>\n",
       "  </thead>\n",
       "  <tbody>\n",
       "    <tr>\n",
       "      <th>2020-04-01</th>\n",
       "      <td>16278</td>\n",
       "    </tr>\n",
       "    <tr>\n",
       "      <th>2020-04-02</th>\n",
       "      <td>16895</td>\n",
       "    </tr>\n",
       "    <tr>\n",
       "      <th>2020-04-03</th>\n",
       "      <td>18153</td>\n",
       "    </tr>\n",
       "    <tr>\n",
       "      <th>2020-04-04</th>\n",
       "      <td>13180</td>\n",
       "    </tr>\n",
       "    <tr>\n",
       "      <th>2020-04-05</th>\n",
       "      <td>11805</td>\n",
       "    </tr>\n",
       "  </tbody>\n",
       "</table>\n",
       "</div>"
      ],
      "text/plain": [
       "            Viajes\n",
       "2020-04-01   16278\n",
       "2020-04-02   16895\n",
       "2020-04-03   18153\n",
       "2020-04-04   13180\n",
       "2020-04-05   11805"
      ]
     },
     "execution_count": 10,
     "metadata": {},
     "output_type": "execute_result"
    }
   ],
   "source": [
    "df_ine.head()"
   ]
  },
  {
   "cell_type": "code",
   "execution_count": 11,
   "metadata": {},
   "outputs": [],
   "source": [
    "del twt_ods\n",
    "del ine_ods"
   ]
  },
  {
   "cell_type": "markdown",
   "metadata": {},
   "source": [
    "# Visualización de datos"
   ]
  },
  {
   "cell_type": "code",
   "execution_count": 12,
   "metadata": {},
   "outputs": [
    {
     "name": "stdout",
     "output_type": "stream",
     "text": [
      "2020-04-01 00:00:00\n",
      "2020-06-20 00:00:00\n"
     ]
    }
   ],
   "source": [
    "print(df_twt.index.min())\n",
    "print(df_ine.index.max())"
   ]
  },
  {
   "cell_type": "code",
   "execution_count": 13,
   "metadata": {
    "scrolled": true
   },
   "outputs": [
    {
     "name": "stdout",
     "output_type": "stream",
     "text": [
      "81\n"
     ]
    }
   ],
   "source": [
    "print(len(df_twt['2020']))"
   ]
  },
  {
   "cell_type": "code",
   "execution_count": 14,
   "metadata": {},
   "outputs": [
    {
     "name": "stdout",
     "output_type": "stream",
     "text": [
      "81\n"
     ]
    }
   ],
   "source": [
    "print(len(df_ine['2020']))"
   ]
  },
  {
   "cell_type": "code",
   "execution_count": 15,
   "metadata": {
    "scrolled": true
   },
   "outputs": [
    {
     "data": {
      "text/html": [
       "<div>\n",
       "<style scoped>\n",
       "    .dataframe tbody tr th:only-of-type {\n",
       "        vertical-align: middle;\n",
       "    }\n",
       "\n",
       "    .dataframe tbody tr th {\n",
       "        vertical-align: top;\n",
       "    }\n",
       "\n",
       "    .dataframe thead th {\n",
       "        text-align: right;\n",
       "    }\n",
       "</style>\n",
       "<table border=\"1\" class=\"dataframe\">\n",
       "  <thead>\n",
       "    <tr style=\"text-align: right;\">\n",
       "      <th></th>\n",
       "      <th>Viajes</th>\n",
       "    </tr>\n",
       "  </thead>\n",
       "  <tbody>\n",
       "    <tr>\n",
       "      <th>count</th>\n",
       "      <td>81.000000</td>\n",
       "    </tr>\n",
       "    <tr>\n",
       "      <th>mean</th>\n",
       "      <td>17.518519</td>\n",
       "    </tr>\n",
       "    <tr>\n",
       "      <th>std</th>\n",
       "      <td>8.148790</td>\n",
       "    </tr>\n",
       "    <tr>\n",
       "      <th>min</th>\n",
       "      <td>0.000000</td>\n",
       "    </tr>\n",
       "    <tr>\n",
       "      <th>25%</th>\n",
       "      <td>11.000000</td>\n",
       "    </tr>\n",
       "    <tr>\n",
       "      <th>50%</th>\n",
       "      <td>16.000000</td>\n",
       "    </tr>\n",
       "    <tr>\n",
       "      <th>75%</th>\n",
       "      <td>24.000000</td>\n",
       "    </tr>\n",
       "    <tr>\n",
       "      <th>max</th>\n",
       "      <td>34.000000</td>\n",
       "    </tr>\n",
       "  </tbody>\n",
       "</table>\n",
       "</div>"
      ],
      "text/plain": [
       "          Viajes\n",
       "count  81.000000\n",
       "mean   17.518519\n",
       "std     8.148790\n",
       "min     0.000000\n",
       "25%    11.000000\n",
       "50%    16.000000\n",
       "75%    24.000000\n",
       "max    34.000000"
      ]
     },
     "execution_count": 15,
     "metadata": {},
     "output_type": "execute_result"
    }
   ],
   "source": [
    "df_twt.describe()"
   ]
  },
  {
   "cell_type": "code",
   "execution_count": 16,
   "metadata": {},
   "outputs": [
    {
     "data": {
      "text/html": [
       "<div>\n",
       "<style scoped>\n",
       "    .dataframe tbody tr th:only-of-type {\n",
       "        vertical-align: middle;\n",
       "    }\n",
       "\n",
       "    .dataframe tbody tr th {\n",
       "        vertical-align: top;\n",
       "    }\n",
       "\n",
       "    .dataframe thead th {\n",
       "        text-align: right;\n",
       "    }\n",
       "</style>\n",
       "<table border=\"1\" class=\"dataframe\">\n",
       "  <thead>\n",
       "    <tr style=\"text-align: right;\">\n",
       "      <th></th>\n",
       "      <th>Viajes</th>\n",
       "    </tr>\n",
       "  </thead>\n",
       "  <tbody>\n",
       "    <tr>\n",
       "      <th>count</th>\n",
       "      <td>81.000000</td>\n",
       "    </tr>\n",
       "    <tr>\n",
       "      <th>mean</th>\n",
       "      <td>30777.061728</td>\n",
       "    </tr>\n",
       "    <tr>\n",
       "      <th>std</th>\n",
       "      <td>13658.229593</td>\n",
       "    </tr>\n",
       "    <tr>\n",
       "      <th>min</th>\n",
       "      <td>10416.000000</td>\n",
       "    </tr>\n",
       "    <tr>\n",
       "      <th>25%</th>\n",
       "      <td>18843.000000</td>\n",
       "    </tr>\n",
       "    <tr>\n",
       "      <th>50%</th>\n",
       "      <td>30457.000000</td>\n",
       "    </tr>\n",
       "    <tr>\n",
       "      <th>75%</th>\n",
       "      <td>42480.000000</td>\n",
       "    </tr>\n",
       "    <tr>\n",
       "      <th>max</th>\n",
       "      <td>55828.000000</td>\n",
       "    </tr>\n",
       "  </tbody>\n",
       "</table>\n",
       "</div>"
      ],
      "text/plain": [
       "             Viajes\n",
       "count     81.000000\n",
       "mean   30777.061728\n",
       "std    13658.229593\n",
       "min    10416.000000\n",
       "25%    18843.000000\n",
       "50%    30457.000000\n",
       "75%    42480.000000\n",
       "max    55828.000000"
      ]
     },
     "execution_count": 16,
     "metadata": {},
     "output_type": "execute_result"
    }
   ],
   "source": [
    "df_ine.describe()"
   ]
  },
  {
   "cell_type": "code",
   "execution_count": 17,
   "metadata": {
    "scrolled": true
   },
   "outputs": [
    {
     "data": {
      "text/html": [
       "<div>\n",
       "<style scoped>\n",
       "    .dataframe tbody tr th:only-of-type {\n",
       "        vertical-align: middle;\n",
       "    }\n",
       "\n",
       "    .dataframe tbody tr th {\n",
       "        vertical-align: top;\n",
       "    }\n",
       "\n",
       "    .dataframe thead th {\n",
       "        text-align: right;\n",
       "    }\n",
       "</style>\n",
       "<table border=\"1\" class=\"dataframe\">\n",
       "  <thead>\n",
       "    <tr style=\"text-align: right;\">\n",
       "      <th></th>\n",
       "      <th>Viajes</th>\n",
       "    </tr>\n",
       "  </thead>\n",
       "  <tbody>\n",
       "    <tr>\n",
       "      <th>2020-04-30</th>\n",
       "      <td>11.033333</td>\n",
       "    </tr>\n",
       "    <tr>\n",
       "      <th>2020-05-31</th>\n",
       "      <td>20.258065</td>\n",
       "    </tr>\n",
       "    <tr>\n",
       "      <th>2020-06-30</th>\n",
       "      <td>23.000000</td>\n",
       "    </tr>\n",
       "  </tbody>\n",
       "</table>\n",
       "</div>"
      ],
      "text/plain": [
       "               Viajes\n",
       "2020-04-30  11.033333\n",
       "2020-05-31  20.258065\n",
       "2020-06-30  23.000000"
      ]
     },
     "execution_count": 17,
     "metadata": {},
     "output_type": "execute_result"
    }
   ],
   "source": [
    "meses = df_twt.resample('M').mean()\n",
    "meses"
   ]
  },
  {
   "cell_type": "code",
   "execution_count": 18,
   "metadata": {},
   "outputs": [
    {
     "data": {
      "text/html": [
       "<div>\n",
       "<style scoped>\n",
       "    .dataframe tbody tr th:only-of-type {\n",
       "        vertical-align: middle;\n",
       "    }\n",
       "\n",
       "    .dataframe tbody tr th {\n",
       "        vertical-align: top;\n",
       "    }\n",
       "\n",
       "    .dataframe thead th {\n",
       "        text-align: right;\n",
       "    }\n",
       "</style>\n",
       "<table border=\"1\" class=\"dataframe\">\n",
       "  <thead>\n",
       "    <tr style=\"text-align: right;\">\n",
       "      <th></th>\n",
       "      <th>Viajes</th>\n",
       "    </tr>\n",
       "  </thead>\n",
       "  <tbody>\n",
       "    <tr>\n",
       "      <th>2020-04-30</th>\n",
       "      <td>18261.733333</td>\n",
       "    </tr>\n",
       "    <tr>\n",
       "      <th>2020-05-31</th>\n",
       "      <td>32278.387097</td>\n",
       "    </tr>\n",
       "    <tr>\n",
       "      <th>2020-06-30</th>\n",
       "      <td>47223.000000</td>\n",
       "    </tr>\n",
       "  </tbody>\n",
       "</table>\n",
       "</div>"
      ],
      "text/plain": [
       "                  Viajes\n",
       "2020-04-30  18261.733333\n",
       "2020-05-31  32278.387097\n",
       "2020-06-30  47223.000000"
      ]
     },
     "execution_count": 18,
     "metadata": {},
     "output_type": "execute_result"
    }
   ],
   "source": [
    "meses = df_ine.resample('M').mean()\n",
    "meses"
   ]
  },
  {
   "cell_type": "code",
   "execution_count": 19,
   "metadata": {
    "scrolled": true
   },
   "outputs": [
    {
     "data": {
      "text/plain": [
       "[<matplotlib.lines.Line2D at 0x1b6c071f9a0>]"
      ]
     },
     "execution_count": 19,
     "metadata": {},
     "output_type": "execute_result"
    },
    {
     "data": {
      "image/png": "[encoded data removed]",
      "text/plain": [
       "<Figure size 432x288 with 1 Axes>"
      ]
     },
     "metadata": {
      "needs_background": "light"
     },
     "output_type": "display_data"
    }
   ],
   "source": [
    "abril = df_twt['2020-04-01':'2020-04-30']\n",
    "plt.plot(abril.values)\n",
    "mayo = df_twt['2020-05-01':'2020-05-31']\n",
    "plt.plot(mayo.values)\n",
    "junio = df_twt['2020-06-01':'2020-06-20']\n",
    "plt.plot(junio.values)"
   ]
  },
  {
   "cell_type": "code",
   "execution_count": 20,
   "metadata": {},
   "outputs": [
    {
     "data": {
      "text/plain": [
       "[<matplotlib.lines.Line2D at 0x1b6c0701d90>]"
      ]
     },
     "execution_count": 20,
     "metadata": {},
     "output_type": "execute_result"
    },
    {
     "data": {
      "image/png": "[encoded data removed]",
      "text/plain": [
       "<Figure size 432x288 with 1 Axes>"
      ]
     },
     "metadata": {
      "needs_background": "light"
     },
     "output_type": "display_data"
    }
   ],
   "source": [
    "abril = df_ine['2020-04-01':'2020-04-30']\n",
    "plt.plot(abril.values)\n",
    "mayo = df_ine['2020-05-01':'2020-05-31']\n",
    "plt.plot(mayo.values)\n",
    "junio = df_ine['2020-06-01':'2020-06-20']\n",
    "plt.plot(junio.values)"
   ]
  },
  {
   "cell_type": "markdown",
   "metadata": {},
   "source": [
    "# Preprocesado de datos"
   ]
  },
  {
   "cell_type": "code",
   "execution_count": 21,
   "metadata": {},
   "outputs": [
    {
     "data": {
      "text/html": [
       "<div>\n",
       "<style scoped>\n",
       "    .dataframe tbody tr th:only-of-type {\n",
       "        vertical-align: middle;\n",
       "    }\n",
       "\n",
       "    .dataframe tbody tr th {\n",
       "        vertical-align: top;\n",
       "    }\n",
       "\n",
       "    .dataframe thead th {\n",
       "        text-align: right;\n",
       "    }\n",
       "</style>\n",
       "<table border=\"1\" class=\"dataframe\">\n",
       "  <thead>\n",
       "    <tr style=\"text-align: right;\">\n",
       "      <th></th>\n",
       "      <th>var1(t-7)</th>\n",
       "      <th>var1(t-6)</th>\n",
       "      <th>var1(t-5)</th>\n",
       "      <th>var1(t-4)</th>\n",
       "      <th>var1(t-3)</th>\n",
       "      <th>var1(t-2)</th>\n",
       "      <th>var1(t-1)</th>\n",
       "      <th>var1(t)</th>\n",
       "    </tr>\n",
       "  </thead>\n",
       "  <tbody>\n",
       "    <tr>\n",
       "      <th>76</th>\n",
       "      <td>0.176471</td>\n",
       "      <td>-0.235294</td>\n",
       "      <td>0.176471</td>\n",
       "      <td>0.529412</td>\n",
       "      <td>1.000000</td>\n",
       "      <td>-0.058824</td>\n",
       "      <td>-0.647059</td>\n",
       "      <td>0.470588</td>\n",
       "    </tr>\n",
       "    <tr>\n",
       "      <th>77</th>\n",
       "      <td>-0.235294</td>\n",
       "      <td>0.176471</td>\n",
       "      <td>0.529412</td>\n",
       "      <td>1.000000</td>\n",
       "      <td>-0.058824</td>\n",
       "      <td>-0.647059</td>\n",
       "      <td>0.470588</td>\n",
       "      <td>0.764706</td>\n",
       "    </tr>\n",
       "    <tr>\n",
       "      <th>78</th>\n",
       "      <td>0.176471</td>\n",
       "      <td>0.529412</td>\n",
       "      <td>1.000000</td>\n",
       "      <td>-0.058824</td>\n",
       "      <td>-0.647059</td>\n",
       "      <td>0.470588</td>\n",
       "      <td>0.764706</td>\n",
       "      <td>0.882353</td>\n",
       "    </tr>\n",
       "    <tr>\n",
       "      <th>79</th>\n",
       "      <td>0.529412</td>\n",
       "      <td>1.000000</td>\n",
       "      <td>-0.058824</td>\n",
       "      <td>-0.647059</td>\n",
       "      <td>0.470588</td>\n",
       "      <td>0.764706</td>\n",
       "      <td>0.882353</td>\n",
       "      <td>0.647059</td>\n",
       "    </tr>\n",
       "    <tr>\n",
       "      <th>80</th>\n",
       "      <td>1.000000</td>\n",
       "      <td>-0.058824</td>\n",
       "      <td>-0.647059</td>\n",
       "      <td>0.470588</td>\n",
       "      <td>0.764706</td>\n",
       "      <td>0.882353</td>\n",
       "      <td>0.647059</td>\n",
       "      <td>0.000000</td>\n",
       "    </tr>\n",
       "  </tbody>\n",
       "</table>\n",
       "</div>"
      ],
      "text/plain": [
       "    var1(t-7)  var1(t-6)  var1(t-5)  var1(t-4)  var1(t-3)  var1(t-2)  \\\n",
       "76   0.176471  -0.235294   0.176471   0.529412   1.000000  -0.058824   \n",
       "77  -0.235294   0.176471   0.529412   1.000000  -0.058824  -0.647059   \n",
       "78   0.176471   0.529412   1.000000  -0.058824  -0.647059   0.470588   \n",
       "79   0.529412   1.000000  -0.058824  -0.647059   0.470588   0.764706   \n",
       "80   1.000000  -0.058824  -0.647059   0.470588   0.764706   0.882353   \n",
       "\n",
       "    var1(t-1)   var1(t)  \n",
       "76  -0.647059  0.470588  \n",
       "77   0.470588  0.764706  \n",
       "78   0.764706  0.882353  \n",
       "79   0.882353  0.647059  \n",
       "80   0.647059  0.000000  "
      ]
     },
     "execution_count": 21,
     "metadata": {},
     "output_type": "execute_result"
    }
   ],
   "source": [
    "# cantidad de dias previos que se usaran para predecir el siguiente dia \n",
    "look_back=7\n",
    "\n",
    "# convertir series en conocimiento supervisado\n",
    "def series_to_supervised(data, n_in=1, n_out=1, dropnan=True):\n",
    "    n_vars = 1 if type(data) is list else data.shape[1]\n",
    "    df = pd.DataFrame(data)\n",
    "    cols, names = list(), list()\n",
    "    # secuencia de entrada (t-n, ... t-1)\n",
    "    for i in range(n_in, 0, -1):\n",
    "        cols.append(df.shift(i))\n",
    "        names += [('var%d(t-%d)' % (j+1, i)) for j in range(n_vars)]\n",
    "    # secuencia del pronostico (t, t+1, ... t+n)\n",
    "    for i in range(0, n_out):\n",
    "        cols.append(df.shift(-i))\n",
    "        if i == 0:\n",
    "            names += [('var%d(t)' % (j+1)) for j in range(n_vars)]\n",
    "        else:\n",
    "            names += [('var%d(t+%d)' % (j+1, i)) for j in range(n_vars)]\n",
    "    # unimos todo\n",
    "    agg = pd.concat(cols, axis=1)\n",
    "    agg.columns = names\n",
    "    # eliminamos todos los valores nulos\n",
    "    if dropnan:\n",
    "        agg.dropna(inplace=True)\n",
    "    return agg\n",
    " \n",
    "# cargamos el dataframe en la variable values\n",
    "values_twt = df_twt.values\n",
    "values_ine = df_ine.values\n",
    "\n",
    "# convertimos los enteros en floats\n",
    "values_twt = values_twt.astype('float32')\n",
    "values_ine = values_ine.astype('float32')\n",
    "\n",
    "# normalizamos los datos a escala de entre -1 y 1\n",
    "scaler = MinMaxScaler(feature_range=(-1, 1))\n",
    "values_twt=values_twt.reshape(-1, 1) # esto lo hacemos porque tenemos 1 sola dimension\n",
    "values_ine=values_ine.reshape(-1, 1) # esto lo hacemos porque tenemos 1 sola dimension\n",
    "scaled_twt = scaler.fit_transform(values_twt)\n",
    "scaled_ine = scaler.fit_transform(values_ine)\n",
    "\n",
    "# usamos la funcion definida previamente\n",
    "reframed_twt = series_to_supervised(scaled_twt, look_back, 1)\n",
    "reframed_ine = series_to_supervised(scaled_ine, look_back, 1)\n",
    "\n",
    "#imprimimos los nuevos datos\n",
    "reframed_twt.tail()"
   ]
  },
  {
   "cell_type": "code",
   "execution_count": 22,
   "metadata": {
    "scrolled": false
   },
   "outputs": [
    {
     "data": {
      "text/html": [
       "<div>\n",
       "<style scoped>\n",
       "    .dataframe tbody tr th:only-of-type {\n",
       "        vertical-align: middle;\n",
       "    }\n",
       "\n",
       "    .dataframe tbody tr th {\n",
       "        vertical-align: top;\n",
       "    }\n",
       "\n",
       "    .dataframe thead th {\n",
       "        text-align: right;\n",
       "    }\n",
       "</style>\n",
       "<table border=\"1\" class=\"dataframe\">\n",
       "  <thead>\n",
       "    <tr style=\"text-align: right;\">\n",
       "      <th></th>\n",
       "      <th>var2(t-7)</th>\n",
       "      <th>var2(t-6)</th>\n",
       "      <th>var2(t-5)</th>\n",
       "      <th>var2(t-4)</th>\n",
       "      <th>var2(t-3)</th>\n",
       "      <th>var2(t-2)</th>\n",
       "      <th>var2(t-1)</th>\n",
       "      <th>var2(t)</th>\n",
       "    </tr>\n",
       "  </thead>\n",
       "  <tbody>\n",
       "    <tr>\n",
       "      <th>76</th>\n",
       "      <td>0.377698</td>\n",
       "      <td>0.872853</td>\n",
       "      <td>0.876464</td>\n",
       "      <td>0.817185</td>\n",
       "      <td>0.426715</td>\n",
       "      <td>0.129569</td>\n",
       "      <td>0.774113</td>\n",
       "      <td>0.881133</td>\n",
       "    </tr>\n",
       "    <tr>\n",
       "      <th>77</th>\n",
       "      <td>0.872853</td>\n",
       "      <td>0.876464</td>\n",
       "      <td>0.817185</td>\n",
       "      <td>0.426715</td>\n",
       "      <td>0.129569</td>\n",
       "      <td>0.774113</td>\n",
       "      <td>0.881133</td>\n",
       "      <td>0.905576</td>\n",
       "    </tr>\n",
       "    <tr>\n",
       "      <th>78</th>\n",
       "      <td>0.876464</td>\n",
       "      <td>0.817185</td>\n",
       "      <td>0.426715</td>\n",
       "      <td>0.129569</td>\n",
       "      <td>0.774113</td>\n",
       "      <td>0.881133</td>\n",
       "      <td>0.905576</td>\n",
       "      <td>0.910684</td>\n",
       "    </tr>\n",
       "    <tr>\n",
       "      <th>79</th>\n",
       "      <td>0.817185</td>\n",
       "      <td>0.426715</td>\n",
       "      <td>0.129569</td>\n",
       "      <td>0.774113</td>\n",
       "      <td>0.881133</td>\n",
       "      <td>0.905576</td>\n",
       "      <td>0.910684</td>\n",
       "      <td>1.000000</td>\n",
       "    </tr>\n",
       "    <tr>\n",
       "      <th>80</th>\n",
       "      <td>0.426715</td>\n",
       "      <td>0.129569</td>\n",
       "      <td>0.774113</td>\n",
       "      <td>0.881133</td>\n",
       "      <td>0.905576</td>\n",
       "      <td>0.910684</td>\n",
       "      <td>1.000000</td>\n",
       "      <td>0.573417</td>\n",
       "    </tr>\n",
       "  </tbody>\n",
       "</table>\n",
       "</div>"
      ],
      "text/plain": [
       "    var2(t-7)  var2(t-6)  var2(t-5)  var2(t-4)  var2(t-3)  var2(t-2)  \\\n",
       "76   0.377698   0.872853   0.876464   0.817185   0.426715   0.129569   \n",
       "77   0.872853   0.876464   0.817185   0.426715   0.129569   0.774113   \n",
       "78   0.876464   0.817185   0.426715   0.129569   0.774113   0.881133   \n",
       "79   0.817185   0.426715   0.129569   0.774113   0.881133   0.905576   \n",
       "80   0.426715   0.129569   0.774113   0.881133   0.905576   0.910684   \n",
       "\n",
       "    var2(t-1)   var2(t)  \n",
       "76   0.774113  0.881133  \n",
       "77   0.881133  0.905576  \n",
       "78   0.905576  0.910684  \n",
       "79   0.910684  1.000000  \n",
       "80   1.000000  0.573417  "
      ]
     },
     "execution_count": 22,
     "metadata": {},
     "output_type": "execute_result"
    }
   ],
   "source": [
    "#cambiamos el nombre de las columnas\n",
    "reframed_ine.columns = ['var2(t-7)', 'var2(t-6)', 'var2(t-5)', 'var2(t-4)', 'var2(t-3)', 'var2(t-2)', 'var2(t-1)', 'var2(t)']\n",
    "reframed_ine.tail()"
   ]
  },
  {
   "cell_type": "code",
   "execution_count": 23,
   "metadata": {
    "scrolled": false
   },
   "outputs": [
    {
     "data": {
      "text/html": [
       "<div>\n",
       "<style scoped>\n",
       "    .dataframe tbody tr th:only-of-type {\n",
       "        vertical-align: middle;\n",
       "    }\n",
       "\n",
       "    .dataframe tbody tr th {\n",
       "        vertical-align: top;\n",
       "    }\n",
       "\n",
       "    .dataframe thead th {\n",
       "        text-align: right;\n",
       "    }\n",
       "</style>\n",
       "<table border=\"1\" class=\"dataframe\">\n",
       "  <thead>\n",
       "    <tr style=\"text-align: right;\">\n",
       "      <th></th>\n",
       "      <th>var1(t-7)</th>\n",
       "      <th>var2(t-7)</th>\n",
       "      <th>var1(t-6)</th>\n",
       "      <th>var2(t-6)</th>\n",
       "      <th>var1(t-5)</th>\n",
       "      <th>var2(t-5)</th>\n",
       "      <th>var1(t-4)</th>\n",
       "      <th>var2(t-4)</th>\n",
       "      <th>var1(t-3)</th>\n",
       "      <th>var2(t-3)</th>\n",
       "      <th>var1(t-2)</th>\n",
       "      <th>var2(t-2)</th>\n",
       "      <th>var1(t-1)</th>\n",
       "      <th>var2(t-1)</th>\n",
       "      <th>var2(t)</th>\n",
       "    </tr>\n",
       "  </thead>\n",
       "  <tbody>\n",
       "    <tr>\n",
       "      <th>76</th>\n",
       "      <td>0.176471</td>\n",
       "      <td>0.377698</td>\n",
       "      <td>-0.235294</td>\n",
       "      <td>0.872853</td>\n",
       "      <td>0.176471</td>\n",
       "      <td>0.876464</td>\n",
       "      <td>0.529412</td>\n",
       "      <td>0.817185</td>\n",
       "      <td>1.000000</td>\n",
       "      <td>0.426715</td>\n",
       "      <td>-0.058824</td>\n",
       "      <td>0.129569</td>\n",
       "      <td>-0.647059</td>\n",
       "      <td>0.774113</td>\n",
       "      <td>0.881133</td>\n",
       "    </tr>\n",
       "    <tr>\n",
       "      <th>77</th>\n",
       "      <td>-0.235294</td>\n",
       "      <td>0.872853</td>\n",
       "      <td>0.176471</td>\n",
       "      <td>0.876464</td>\n",
       "      <td>0.529412</td>\n",
       "      <td>0.817185</td>\n",
       "      <td>1.000000</td>\n",
       "      <td>0.426715</td>\n",
       "      <td>-0.058824</td>\n",
       "      <td>0.129569</td>\n",
       "      <td>-0.647059</td>\n",
       "      <td>0.774113</td>\n",
       "      <td>0.470588</td>\n",
       "      <td>0.881133</td>\n",
       "      <td>0.905576</td>\n",
       "    </tr>\n",
       "    <tr>\n",
       "      <th>78</th>\n",
       "      <td>0.176471</td>\n",
       "      <td>0.876464</td>\n",
       "      <td>0.529412</td>\n",
       "      <td>0.817185</td>\n",
       "      <td>1.000000</td>\n",
       "      <td>0.426715</td>\n",
       "      <td>-0.058824</td>\n",
       "      <td>0.129569</td>\n",
       "      <td>-0.647059</td>\n",
       "      <td>0.774113</td>\n",
       "      <td>0.470588</td>\n",
       "      <td>0.881133</td>\n",
       "      <td>0.764706</td>\n",
       "      <td>0.905576</td>\n",
       "      <td>0.910684</td>\n",
       "    </tr>\n",
       "    <tr>\n",
       "      <th>79</th>\n",
       "      <td>0.529412</td>\n",
       "      <td>0.817185</td>\n",
       "      <td>1.000000</td>\n",
       "      <td>0.426715</td>\n",
       "      <td>-0.058824</td>\n",
       "      <td>0.129569</td>\n",
       "      <td>-0.647059</td>\n",
       "      <td>0.774113</td>\n",
       "      <td>0.470588</td>\n",
       "      <td>0.881133</td>\n",
       "      <td>0.764706</td>\n",
       "      <td>0.905576</td>\n",
       "      <td>0.882353</td>\n",
       "      <td>0.910684</td>\n",
       "      <td>1.000000</td>\n",
       "    </tr>\n",
       "    <tr>\n",
       "      <th>80</th>\n",
       "      <td>1.000000</td>\n",
       "      <td>0.426715</td>\n",
       "      <td>-0.058824</td>\n",
       "      <td>0.129569</td>\n",
       "      <td>-0.647059</td>\n",
       "      <td>0.774113</td>\n",
       "      <td>0.470588</td>\n",
       "      <td>0.881133</td>\n",
       "      <td>0.764706</td>\n",
       "      <td>0.905576</td>\n",
       "      <td>0.882353</td>\n",
       "      <td>0.910684</td>\n",
       "      <td>0.647059</td>\n",
       "      <td>1.000000</td>\n",
       "      <td>0.573417</td>\n",
       "    </tr>\n",
       "  </tbody>\n",
       "</table>\n",
       "</div>"
      ],
      "text/plain": [
       "    var1(t-7)  var2(t-7)  var1(t-6)  var2(t-6)  var1(t-5)  var2(t-5)  \\\n",
       "76   0.176471   0.377698  -0.235294   0.872853   0.176471   0.876464   \n",
       "77  -0.235294   0.872853   0.176471   0.876464   0.529412   0.817185   \n",
       "78   0.176471   0.876464   0.529412   0.817185   1.000000   0.426715   \n",
       "79   0.529412   0.817185   1.000000   0.426715  -0.058824   0.129569   \n",
       "80   1.000000   0.426715  -0.058824   0.129569  -0.647059   0.774113   \n",
       "\n",
       "    var1(t-4)  var2(t-4)  var1(t-3)  var2(t-3)  var1(t-2)  var2(t-2)  \\\n",
       "76   0.529412   0.817185   1.000000   0.426715  -0.058824   0.129569   \n",
       "77   1.000000   0.426715  -0.058824   0.129569  -0.647059   0.774113   \n",
       "78  -0.058824   0.129569  -0.647059   0.774113   0.470588   0.881133   \n",
       "79  -0.647059   0.774113   0.470588   0.881133   0.764706   0.905576   \n",
       "80   0.470588   0.881133   0.764706   0.905576   0.882353   0.910684   \n",
       "\n",
       "    var1(t-1)  var2(t-1)   var2(t)  \n",
       "76  -0.647059   0.774113  0.881133  \n",
       "77   0.470588   0.881133  0.905576  \n",
       "78   0.764706   0.905576  0.910684  \n",
       "79   0.882353   0.910684  1.000000  \n",
       "80   0.647059   1.000000  0.573417  "
      ]
     },
     "execution_count": 23,
     "metadata": {},
     "output_type": "execute_result"
    }
   ],
   "source": [
    "#unimos los datos del ine con los de twitter\n",
    "reframed = pd.concat([reframed_twt.iloc[:, 0], reframed_ine.iloc[:, 0]], axis=1)\n",
    "\n",
    "for i in range(6):\n",
    "    reframed = pd.concat([reframed, reframed_twt.iloc[:, i+1]], axis=1)\n",
    "    reframed = pd.concat([reframed, reframed_ine.iloc[:, i+1]], axis=1)\n",
    "    \n",
    "reframed = pd.concat([reframed, reframed_ine.iloc[:, 7]], axis=1)\n",
    "\n",
    "reframed.tail()"
   ]
  },
  {
   "cell_type": "markdown",
   "metadata": {},
   "source": [
    "# Dividimos los datos en sets de entrenamiento y validacion"
   ]
  },
  {
   "cell_type": "code",
   "execution_count": 24,
   "metadata": {},
   "outputs": [
    {
     "name": "stdout",
     "output_type": "stream",
     "text": [
      "(54, 1, 14) (54,) (20, 1, 14) (20,)\n"
     ]
    }
   ],
   "source": [
    "#dividimos nuestro valores entre sets de entrenamiento y de test\n",
    "values = reframed.values\n",
    "n_train_days = 71 - (10+look_back)\n",
    "train = values[:n_train_days, :]\n",
    "test = values[n_train_days:, :]\n",
    "\n",
    "# split into input and outputs\n",
    "x_train, y_train = train[:, :-1], train[:, -1]\n",
    "x_val, y_val = test[:, :-1], test[:, -1]\n",
    "\n",
    "# reshape input to be 3D [samples, timesteps, features] - preguntar\n",
    "x_train = x_train.reshape((x_train.shape[0], 1, x_train.shape[1]))\n",
    "x_val = x_val.reshape((x_val.shape[0], 1, x_val.shape[1]))\n",
    "print(x_train.shape, y_train.shape, x_val.shape, y_val.shape)"
   ]
  },
  {
   "cell_type": "markdown",
   "metadata": {},
   "source": [
    "# Creamos la red neuronal"
   ]
  },
  {
   "cell_type": "code",
   "execution_count": 25,
   "metadata": {},
   "outputs": [],
   "source": [
    "def crear_modeloFF():\n",
    "    model = Sequential() \n",
    "    model.add(Dense(look_back, input_shape=(1,look_back*2),activation='tanh'))\n",
    "    model.add(Flatten())\n",
    "    model.add(Dense(100, activation='tanh'))\n",
    "    model.add(Dropout(0.30))\n",
    "    model.add(Dense(100, activation='tanh'))\n",
    "    model.add(Dropout(0.30))\n",
    "    model.add(Dense(100, activation='tanh'))\n",
    "    model.add(Dropout(0.30))\n",
    "    model.add(Dense(100, activation='tanh'))\n",
    "    model.add(Dropout(0.30))\n",
    "    model.add(Dense(1, activation='tanh'))\n",
    "    model.compile(loss='mean_absolute_error',optimizer='Adam',metrics=[\"mse\"])\n",
    "    model.summary()\n",
    "    return model"
   ]
  },
  {
   "cell_type": "code",
   "execution_count": 26,
   "metadata": {},
   "outputs": [
    {
     "name": "stdout",
     "output_type": "stream",
     "text": [
      "Model: \"sequential\"\n",
      "_________________________________________________________________\n",
      "Layer (type)                 Output Shape              Param #   \n",
      "=================================================================\n",
      "dense (Dense)                (None, 1, 7)              105       \n",
      "_________________________________________________________________\n",
      "flatten (Flatten)            (None, 7)                 0         \n",
      "_________________________________________________________________\n",
      "dense_1 (Dense)              (None, 100)               800       \n",
      "_________________________________________________________________\n",
      "dropout (Dropout)            (None, 100)               0         \n",
      "_________________________________________________________________\n",
      "dense_2 (Dense)              (None, 100)               10100     \n",
      "_________________________________________________________________\n",
      "dropout_1 (Dropout)          (None, 100)               0         \n",
      "_________________________________________________________________\n",
      "dense_3 (Dense)              (None, 100)               10100     \n",
      "_________________________________________________________________\n",
      "dropout_2 (Dropout)          (None, 100)               0         \n",
      "_________________________________________________________________\n",
      "dense_4 (Dense)              (None, 100)               10100     \n",
      "_________________________________________________________________\n",
      "dropout_3 (Dropout)          (None, 100)               0         \n",
      "_________________________________________________________________\n",
      "dense_5 (Dense)              (None, 1)                 101       \n",
      "=================================================================\n",
      "Total params: 31,306\n",
      "Trainable params: 31,306\n",
      "Non-trainable params: 0\n",
      "_________________________________________________________________\n",
      "Epoch 1/200\n",
      "8/8 [==============================] - 3s 273ms/step - loss: 0.4575 - mse: 0.3230 - val_loss: 0.2165 - val_mse: 0.0884\n",
      "Epoch 2/200\n",
      "8/8 [==============================] - 0s 14ms/step - loss: 0.3270 - mse: 0.1469 - val_loss: 0.2002 - val_mse: 0.0762\n",
      "Epoch 3/200\n",
      "8/8 [==============================] - 0s 14ms/step - loss: 0.2468 - mse: 0.0923 - val_loss: 0.1755 - val_mse: 0.0482\n",
      "Epoch 4/200\n",
      "8/8 [==============================] - 0s 13ms/step - loss: 0.2354 - mse: 0.0992 - val_loss: 0.1804 - val_mse: 0.0445\n",
      "Epoch 5/200\n",
      "8/8 [==============================] - 0s 12ms/step - loss: 0.2589 - mse: 0.1170 - val_loss: 0.1585 - val_mse: 0.0345\n",
      "Epoch 6/200\n",
      "8/8 [==============================] - 0s 14ms/step - loss: 0.2595 - mse: 0.0972 - val_loss: 0.1565 - val_mse: 0.0348\n",
      "Epoch 7/200\n",
      "8/8 [==============================] - 0s 12ms/step - loss: 0.2186 - mse: 0.0779 - val_loss: 0.1616 - val_mse: 0.0393\n",
      "Epoch 8/200\n",
      "8/8 [==============================] - 0s 13ms/step - loss: 0.1982 - mse: 0.0560 - val_loss: 0.1713 - val_mse: 0.0433\n",
      "Epoch 9/200\n",
      "8/8 [==============================] - 0s 12ms/step - loss: 0.2033 - mse: 0.0559 - val_loss: 0.1443 - val_mse: 0.0293\n",
      "Epoch 10/200\n",
      "8/8 [==============================] - 0s 13ms/step - loss: 0.2187 - mse: 0.0860 - val_loss: 0.1466 - val_mse: 0.0308\n",
      "Epoch 11/200\n",
      "8/8 [==============================] - 0s 13ms/step - loss: 0.2037 - mse: 0.0764 - val_loss: 0.1554 - val_mse: 0.0349\n",
      "Epoch 12/200\n",
      "8/8 [==============================] - 0s 12ms/step - loss: 0.2101 - mse: 0.0679 - val_loss: 0.1440 - val_mse: 0.0296\n",
      "Epoch 13/200\n",
      "8/8 [==============================] - 0s 13ms/step - loss: 0.2030 - mse: 0.0701 - val_loss: 0.1552 - val_mse: 0.0313\n",
      "Epoch 14/200\n",
      "8/8 [==============================] - 0s 12ms/step - loss: 0.2384 - mse: 0.0835 - val_loss: 0.1698 - val_mse: 0.0398\n",
      "Epoch 15/200\n",
      "8/8 [==============================] - 0s 14ms/step - loss: 0.2037 - mse: 0.0662 - val_loss: 0.1635 - val_mse: 0.0393\n",
      "Epoch 16/200\n",
      "8/8 [==============================] - 0s 14ms/step - loss: 0.1766 - mse: 0.0467 - val_loss: 0.1484 - val_mse: 0.0296\n",
      "Epoch 17/200\n",
      "8/8 [==============================] - 0s 11ms/step - loss: 0.2168 - mse: 0.0832 - val_loss: 0.1482 - val_mse: 0.0303\n",
      "Epoch 18/200\n",
      "8/8 [==============================] - 0s 8ms/step - loss: 0.1989 - mse: 0.0661 - val_loss: 0.1633 - val_mse: 0.0384\n",
      "Epoch 19/200\n",
      "8/8 [==============================] - 0s 8ms/step - loss: 0.2563 - mse: 0.1172 - val_loss: 0.2236 - val_mse: 0.0754\n",
      "Epoch 20/200\n",
      "8/8 [==============================] - 0s 8ms/step - loss: 0.2097 - mse: 0.0743 - val_loss: 0.1564 - val_mse: 0.0381\n",
      "Epoch 21/200\n",
      "8/8 [==============================] - 0s 8ms/step - loss: 0.2161 - mse: 0.0781 - val_loss: 0.1477 - val_mse: 0.0341\n",
      "Epoch 22/200\n",
      "8/8 [==============================] - 0s 8ms/step - loss: 0.2038 - mse: 0.0651 - val_loss: 0.1377 - val_mse: 0.0295\n",
      "Epoch 23/200\n",
      "8/8 [==============================] - 0s 8ms/step - loss: 0.2459 - mse: 0.0936 - val_loss: 0.1756 - val_mse: 0.0432\n",
      "Epoch 24/200\n",
      "8/8 [==============================] - 0s 8ms/step - loss: 0.1912 - mse: 0.0711 - val_loss: 0.1940 - val_mse: 0.0552\n",
      "Epoch 25/200\n",
      "8/8 [==============================] - 0s 8ms/step - loss: 0.2131 - mse: 0.0790 - val_loss: 0.1770 - val_mse: 0.0450\n",
      "Epoch 26/200\n",
      "8/8 [==============================] - 0s 8ms/step - loss: 0.1601 - mse: 0.0434 - val_loss: 0.1702 - val_mse: 0.0408\n",
      "Epoch 27/200\n",
      "8/8 [==============================] - 0s 9ms/step - loss: 0.1688 - mse: 0.0444 - val_loss: 0.1778 - val_mse: 0.0451\n",
      "Epoch 28/200\n",
      "8/8 [==============================] - 0s 8ms/step - loss: 0.1635 - mse: 0.0413 - val_loss: 0.1789 - val_mse: 0.0478\n",
      "Epoch 29/200\n",
      "8/8 [==============================] - 0s 8ms/step - loss: 0.2070 - mse: 0.0650 - val_loss: 0.2001 - val_mse: 0.0618\n",
      "Epoch 30/200\n",
      "8/8 [==============================] - 0s 8ms/step - loss: 0.2301 - mse: 0.0804 - val_loss: 0.1426 - val_mse: 0.0296\n",
      "Epoch 31/200\n",
      "8/8 [==============================] - 0s 8ms/step - loss: 0.1888 - mse: 0.0581 - val_loss: 0.1479 - val_mse: 0.0305\n",
      "Epoch 32/200\n",
      "8/8 [==============================] - 0s 9ms/step - loss: 0.2223 - mse: 0.0880 - val_loss: 0.1594 - val_mse: 0.0329\n",
      "Epoch 33/200\n",
      "8/8 [==============================] - 0s 7ms/step - loss: 0.1938 - mse: 0.0628 - val_loss: 0.1497 - val_mse: 0.0304\n",
      "Epoch 34/200\n",
      "8/8 [==============================] - 0s 8ms/step - loss: 0.2027 - mse: 0.0661 - val_loss: 0.1441 - val_mse: 0.0296\n",
      "Epoch 35/200\n",
      "8/8 [==============================] - 0s 7ms/step - loss: 0.1593 - mse: 0.0441 - val_loss: 0.1605 - val_mse: 0.0427\n",
      "Epoch 36/200\n",
      "8/8 [==============================] - 0s 8ms/step - loss: 0.1873 - mse: 0.0500 - val_loss: 0.1534 - val_mse: 0.0356\n",
      "Epoch 37/200\n",
      "8/8 [==============================] - 0s 8ms/step - loss: 0.1861 - mse: 0.0599 - val_loss: 0.1515 - val_mse: 0.0330\n",
      "Epoch 38/200\n",
      "8/8 [==============================] - 0s 8ms/step - loss: 0.1758 - mse: 0.0448 - val_loss: 0.1456 - val_mse: 0.0327\n",
      "Epoch 39/200\n",
      "8/8 [==============================] - 0s 8ms/step - loss: 0.1838 - mse: 0.0536 - val_loss: 0.2373 - val_mse: 0.0799\n",
      "Epoch 40/200\n",
      "8/8 [==============================] - 0s 7ms/step - loss: 0.2082 - mse: 0.0646 - val_loss: 0.2288 - val_mse: 0.0751\n",
      "Epoch 41/200\n",
      "8/8 [==============================] - 0s 8ms/step - loss: 0.2039 - mse: 0.0663 - val_loss: 0.1467 - val_mse: 0.0342\n",
      "Epoch 42/200\n",
      "8/8 [==============================] - 0s 8ms/step - loss: 0.1756 - mse: 0.0477 - val_loss: 0.1439 - val_mse: 0.0290\n",
      "Epoch 43/200\n",
      "8/8 [==============================] - 0s 8ms/step - loss: 0.2082 - mse: 0.0621 - val_loss: 0.1483 - val_mse: 0.0295\n",
      "Epoch 44/200\n",
      "8/8 [==============================] - 0s 8ms/step - loss: 0.1963 - mse: 0.0720 - val_loss: 0.1458 - val_mse: 0.0305\n",
      "Epoch 45/200\n",
      "8/8 [==============================] - 0s 8ms/step - loss: 0.1689 - mse: 0.0463 - val_loss: 0.2224 - val_mse: 0.0698\n",
      "Epoch 46/200\n",
      "8/8 [==============================] - 0s 8ms/step - loss: 0.2057 - mse: 0.0719 - val_loss: 0.1580 - val_mse: 0.0401\n",
      "Epoch 47/200\n",
      "8/8 [==============================] - 0s 8ms/step - loss: 0.2199 - mse: 0.0786 - val_loss: 0.1552 - val_mse: 0.0417\n",
      "Epoch 48/200\n",
      "8/8 [==============================] - 0s 8ms/step - loss: 0.1855 - mse: 0.0637 - val_loss: 0.1894 - val_mse: 0.0576\n",
      "Epoch 49/200\n",
      "8/8 [==============================] - 0s 9ms/step - loss: 0.2054 - mse: 0.0733 - val_loss: 0.1736 - val_mse: 0.0502\n",
      "Epoch 50/200\n"
     ]
    },
    {
     "name": "stdout",
     "output_type": "stream",
     "text": [
      "8/8 [==============================] - 0s 8ms/step - loss: 0.1959 - mse: 0.0599 - val_loss: 0.1437 - val_mse: 0.0348\n",
      "Epoch 51/200\n",
      "8/8 [==============================] - 0s 8ms/step - loss: 0.1754 - mse: 0.0463 - val_loss: 0.1394 - val_mse: 0.0298\n",
      "Epoch 52/200\n",
      "8/8 [==============================] - 0s 8ms/step - loss: 0.1855 - mse: 0.0506 - val_loss: 0.1376 - val_mse: 0.0265\n",
      "Epoch 53/200\n",
      "8/8 [==============================] - 0s 7ms/step - loss: 0.1901 - mse: 0.0544 - val_loss: 0.1382 - val_mse: 0.0281\n",
      "Epoch 54/200\n",
      "8/8 [==============================] - 0s 8ms/step - loss: 0.1533 - mse: 0.0352 - val_loss: 0.1336 - val_mse: 0.0260\n",
      "Epoch 55/200\n",
      "8/8 [==============================] - 0s 7ms/step - loss: 0.1715 - mse: 0.0511 - val_loss: 0.1285 - val_mse: 0.0246\n",
      "Epoch 56/200\n",
      "8/8 [==============================] - 0s 8ms/step - loss: 0.1485 - mse: 0.0406 - val_loss: 0.1389 - val_mse: 0.0314\n",
      "Epoch 57/200\n",
      "8/8 [==============================] - 0s 8ms/step - loss: 0.1721 - mse: 0.0504 - val_loss: 0.1652 - val_mse: 0.0465\n",
      "Epoch 58/200\n",
      "8/8 [==============================] - 0s 7ms/step - loss: 0.2064 - mse: 0.0663 - val_loss: 0.1315 - val_mse: 0.0242\n",
      "Epoch 59/200\n",
      "8/8 [==============================] - 0s 8ms/step - loss: 0.1787 - mse: 0.0492 - val_loss: 0.1375 - val_mse: 0.0260\n",
      "Epoch 60/200\n",
      "8/8 [==============================] - 0s 7ms/step - loss: 0.1454 - mse: 0.0359 - val_loss: 0.1365 - val_mse: 0.0260\n",
      "Epoch 61/200\n",
      "8/8 [==============================] - 0s 8ms/step - loss: 0.1509 - mse: 0.0375 - val_loss: 0.1369 - val_mse: 0.0265\n",
      "Epoch 62/200\n",
      "8/8 [==============================] - 0s 7ms/step - loss: 0.1495 - mse: 0.0359 - val_loss: 0.1374 - val_mse: 0.0261\n",
      "Epoch 63/200\n",
      "8/8 [==============================] - 0s 8ms/step - loss: 0.1548 - mse: 0.0395 - val_loss: 0.1410 - val_mse: 0.0304\n",
      "Epoch 64/200\n",
      "8/8 [==============================] - 0s 8ms/step - loss: 0.1619 - mse: 0.0448 - val_loss: 0.1638 - val_mse: 0.0423\n",
      "Epoch 65/200\n",
      "8/8 [==============================] - 0s 8ms/step - loss: 0.1884 - mse: 0.0565 - val_loss: 0.1553 - val_mse: 0.0373\n",
      "Epoch 66/200\n",
      "8/8 [==============================] - 0s 8ms/step - loss: 0.1832 - mse: 0.0515 - val_loss: 0.1387 - val_mse: 0.0284\n",
      "Epoch 67/200\n",
      "8/8 [==============================] - 0s 8ms/step - loss: 0.1408 - mse: 0.0318 - val_loss: 0.1405 - val_mse: 0.0311\n",
      "Epoch 68/200\n",
      "8/8 [==============================] - 0s 7ms/step - loss: 0.1745 - mse: 0.0446 - val_loss: 0.1554 - val_mse: 0.0390\n",
      "Epoch 69/200\n",
      "8/8 [==============================] - 0s 8ms/step - loss: 0.1573 - mse: 0.0392 - val_loss: 0.1502 - val_mse: 0.0376\n",
      "Epoch 70/200\n",
      "8/8 [==============================] - 0s 7ms/step - loss: 0.1515 - mse: 0.0362 - val_loss: 0.1300 - val_mse: 0.0254\n",
      "Epoch 71/200\n",
      "8/8 [==============================] - 0s 8ms/step - loss: 0.2020 - mse: 0.0649 - val_loss: 0.1332 - val_mse: 0.0256\n",
      "Epoch 72/200\n",
      "8/8 [==============================] - 0s 8ms/step - loss: 0.1814 - mse: 0.0571 - val_loss: 0.1542 - val_mse: 0.0347\n",
      "Epoch 73/200\n",
      "8/8 [==============================] - 0s 8ms/step - loss: 0.1208 - mse: 0.0230 - val_loss: 0.1355 - val_mse: 0.0260\n",
      "Epoch 74/200\n",
      "8/8 [==============================] - 0s 7ms/step - loss: 0.1520 - mse: 0.0379 - val_loss: 0.1328 - val_mse: 0.0244\n",
      "Epoch 75/200\n",
      "8/8 [==============================] - 0s 8ms/step - loss: 0.1381 - mse: 0.0286 - val_loss: 0.1427 - val_mse: 0.0327\n",
      "Epoch 76/200\n",
      "8/8 [==============================] - 0s 8ms/step - loss: 0.1717 - mse: 0.0532 - val_loss: 0.1323 - val_mse: 0.0311\n",
      "Epoch 77/200\n",
      "8/8 [==============================] - 0s 8ms/step - loss: 0.1564 - mse: 0.0414 - val_loss: 0.1247 - val_mse: 0.0265\n",
      "Epoch 78/200\n",
      "8/8 [==============================] - 0s 8ms/step - loss: 0.1344 - mse: 0.0377 - val_loss: 0.1227 - val_mse: 0.0224\n",
      "Epoch 79/200\n",
      "8/8 [==============================] - 0s 8ms/step - loss: 0.1366 - mse: 0.0293 - val_loss: 0.1188 - val_mse: 0.0215\n",
      "Epoch 80/200\n",
      "8/8 [==============================] - 0s 8ms/step - loss: 0.1313 - mse: 0.0298 - val_loss: 0.1253 - val_mse: 0.0264\n",
      "Epoch 81/200\n",
      "8/8 [==============================] - 0s 7ms/step - loss: 0.1707 - mse: 0.0482 - val_loss: 0.1475 - val_mse: 0.0338\n",
      "Epoch 82/200\n",
      "8/8 [==============================] - 0s 8ms/step - loss: 0.1566 - mse: 0.0389 - val_loss: 0.1419 - val_mse: 0.0309\n",
      "Epoch 83/200\n",
      "8/8 [==============================] - 0s 8ms/step - loss: 0.1446 - mse: 0.0378 - val_loss: 0.1361 - val_mse: 0.0288\n",
      "Epoch 84/200\n",
      "8/8 [==============================] - 0s 8ms/step - loss: 0.1976 - mse: 0.0593 - val_loss: 0.1273 - val_mse: 0.0251\n",
      "Epoch 85/200\n",
      "8/8 [==============================] - ETA: 0s - loss: 0.2024 - mse: 0.072 - 0s 8ms/step - loss: 0.1870 - mse: 0.0610 - val_loss: 0.1250 - val_mse: 0.0241\n",
      "Epoch 86/200\n",
      "8/8 [==============================] - 0s 8ms/step - loss: 0.1747 - mse: 0.0520 - val_loss: 0.1301 - val_mse: 0.0246\n",
      "Epoch 87/200\n",
      "8/8 [==============================] - 0s 8ms/step - loss: 0.1680 - mse: 0.0457 - val_loss: 0.1507 - val_mse: 0.0345\n",
      "Epoch 88/200\n",
      "8/8 [==============================] - 0s 8ms/step - loss: 0.1528 - mse: 0.0392 - val_loss: 0.1245 - val_mse: 0.0228\n",
      "Epoch 89/200\n",
      "8/8 [==============================] - 0s 8ms/step - loss: 0.1928 - mse: 0.0564 - val_loss: 0.1333 - val_mse: 0.0249\n",
      "Epoch 90/200\n",
      "8/8 [==============================] - 0s 8ms/step - loss: 0.1185 - mse: 0.0225 - val_loss: 0.1334 - val_mse: 0.0303\n",
      "Epoch 91/200\n",
      "8/8 [==============================] - 0s 9ms/step - loss: 0.1793 - mse: 0.0517 - val_loss: 0.1564 - val_mse: 0.0410\n",
      "Epoch 92/200\n",
      "8/8 [==============================] - 0s 8ms/step - loss: 0.1692 - mse: 0.0424 - val_loss: 0.1286 - val_mse: 0.0238\n",
      "Epoch 93/200\n",
      "8/8 [==============================] - 0s 8ms/step - loss: 0.1387 - mse: 0.0260 - val_loss: 0.1300 - val_mse: 0.0234\n",
      "Epoch 94/200\n",
      "8/8 [==============================] - 0s 8ms/step - loss: 0.1933 - mse: 0.0565 - val_loss: 0.1252 - val_mse: 0.0221\n",
      "Epoch 95/200\n",
      "8/8 [==============================] - 0s 7ms/step - loss: 0.1431 - mse: 0.0408 - val_loss: 0.1322 - val_mse: 0.0297\n",
      "Epoch 96/200\n",
      "8/8 [==============================] - 0s 8ms/step - loss: 0.1422 - mse: 0.0319 - val_loss: 0.1303 - val_mse: 0.0293\n",
      "Epoch 97/200\n",
      "8/8 [==============================] - 0s 8ms/step - loss: 0.1510 - mse: 0.0364 - val_loss: 0.1271 - val_mse: 0.0235\n",
      "Epoch 98/200\n",
      "8/8 [==============================] - 0s 8ms/step - loss: 0.1521 - mse: 0.0324 - val_loss: 0.1251 - val_mse: 0.0226\n",
      "Epoch 99/200\n",
      "8/8 [==============================] - 0s 8ms/step - loss: 0.1408 - mse: 0.0378 - val_loss: 0.1199 - val_mse: 0.0212\n",
      "Epoch 100/200\n",
      "8/8 [==============================] - 0s 9ms/step - loss: 0.1669 - mse: 0.0390 - val_loss: 0.1211 - val_mse: 0.0227\n",
      "Epoch 101/200\n",
      "8/8 [==============================] - 0s 8ms/step - loss: 0.1312 - mse: 0.0303 - val_loss: 0.1249 - val_mse: 0.0239\n",
      "Epoch 102/200\n",
      "8/8 [==============================] - 0s 8ms/step - loss: 0.1574 - mse: 0.0399 - val_loss: 0.1257 - val_mse: 0.0235\n",
      "Epoch 103/200\n",
      "8/8 [==============================] - 0s 8ms/step - loss: 0.1684 - mse: 0.0376 - val_loss: 0.1260 - val_mse: 0.0263\n",
      "Epoch 104/200\n",
      "8/8 [==============================] - 0s 8ms/step - loss: 0.1362 - mse: 0.0359 - val_loss: 0.1259 - val_mse: 0.0262\n",
      "Epoch 105/200\n",
      "8/8 [==============================] - 0s 8ms/step - loss: 0.1647 - mse: 0.0448 - val_loss: 0.1221 - val_mse: 0.0215\n",
      "Epoch 106/200\n",
      "8/8 [==============================] - 0s 8ms/step - loss: 0.1423 - mse: 0.0307 - val_loss: 0.1248 - val_mse: 0.0272\n",
      "Epoch 107/200\n",
      "8/8 [==============================] - 0s 8ms/step - loss: 0.1465 - mse: 0.0368 - val_loss: 0.1536 - val_mse: 0.0373\n",
      "Epoch 108/200\n",
      "8/8 [==============================] - 0s 7ms/step - loss: 0.1441 - mse: 0.0301 - val_loss: 0.1217 - val_mse: 0.0235\n",
      "Epoch 109/200\n",
      "8/8 [==============================] - 0s 8ms/step - loss: 0.1505 - mse: 0.0350 - val_loss: 0.1393 - val_mse: 0.0260\n",
      "Epoch 110/200\n",
      "8/8 [==============================] - 0s 8ms/step - loss: 0.1629 - mse: 0.0412 - val_loss: 0.1338 - val_mse: 0.0244\n",
      "Epoch 111/200\n",
      "8/8 [==============================] - 0s 8ms/step - loss: 0.1929 - mse: 0.0520 - val_loss: 0.1265 - val_mse: 0.0233\n",
      "Epoch 112/200\n",
      "8/8 [==============================] - 0s 8ms/step - loss: 0.1470 - mse: 0.0376 - val_loss: 0.1325 - val_mse: 0.0297\n"
     ]
    },
    {
     "name": "stdout",
     "output_type": "stream",
     "text": [
      "Epoch 113/200\n",
      "8/8 [==============================] - 0s 8ms/step - loss: 0.1424 - mse: 0.0326 - val_loss: 0.1229 - val_mse: 0.0240\n",
      "Epoch 114/200\n",
      "8/8 [==============================] - 0s 8ms/step - loss: 0.1432 - mse: 0.0346 - val_loss: 0.1231 - val_mse: 0.0216\n",
      "Epoch 115/200\n",
      "8/8 [==============================] - 0s 8ms/step - loss: 0.1601 - mse: 0.0432 - val_loss: 0.1195 - val_mse: 0.0221\n",
      "Epoch 116/200\n",
      "8/8 [==============================] - 0s 8ms/step - loss: 0.1306 - mse: 0.0273 - val_loss: 0.1296 - val_mse: 0.0244\n",
      "Epoch 117/200\n",
      "8/8 [==============================] - 0s 8ms/step - loss: 0.1391 - mse: 0.0334 - val_loss: 0.1211 - val_mse: 0.0213\n",
      "Epoch 118/200\n",
      "8/8 [==============================] - 0s 8ms/step - loss: 0.1406 - mse: 0.0385 - val_loss: 0.1227 - val_mse: 0.0215\n",
      "Epoch 119/200\n",
      "8/8 [==============================] - 0s 8ms/step - loss: 0.1576 - mse: 0.0480 - val_loss: 0.1261 - val_mse: 0.0228\n",
      "Epoch 120/200\n",
      "8/8 [==============================] - 0s 9ms/step - loss: 0.1434 - mse: 0.0337 - val_loss: 0.1233 - val_mse: 0.0226\n",
      "Epoch 121/200\n",
      "8/8 [==============================] - 0s 8ms/step - loss: 0.1476 - mse: 0.0436 - val_loss: 0.1272 - val_mse: 0.0238\n",
      "Epoch 122/200\n",
      "8/8 [==============================] - 0s 8ms/step - loss: 0.1401 - mse: 0.0381 - val_loss: 0.1336 - val_mse: 0.0266\n",
      "Epoch 123/200\n",
      "8/8 [==============================] - 0s 7ms/step - loss: 0.1329 - mse: 0.0338 - val_loss: 0.1296 - val_mse: 0.0243\n",
      "Epoch 124/200\n",
      "8/8 [==============================] - 0s 8ms/step - loss: 0.1301 - mse: 0.0249 - val_loss: 0.1242 - val_mse: 0.0234\n",
      "Epoch 125/200\n",
      "8/8 [==============================] - 0s 8ms/step - loss: 0.1433 - mse: 0.0356 - val_loss: 0.1245 - val_mse: 0.0217\n",
      "Epoch 126/200\n",
      "8/8 [==============================] - 0s 8ms/step - loss: 0.1152 - mse: 0.0215 - val_loss: 0.1248 - val_mse: 0.0215\n",
      "Epoch 127/200\n",
      "8/8 [==============================] - 0s 8ms/step - loss: 0.1432 - mse: 0.0324 - val_loss: 0.1193 - val_mse: 0.0214\n",
      "Epoch 128/200\n",
      "8/8 [==============================] - 0s 8ms/step - loss: 0.1649 - mse: 0.0444 - val_loss: 0.1170 - val_mse: 0.0212\n",
      "Epoch 129/200\n",
      "8/8 [==============================] - 0s 8ms/step - loss: 0.1427 - mse: 0.0368 - val_loss: 0.1265 - val_mse: 0.0226\n",
      "Epoch 130/200\n",
      "8/8 [==============================] - 0s 8ms/step - loss: 0.1473 - mse: 0.0309 - val_loss: 0.1226 - val_mse: 0.0228\n",
      "Epoch 131/200\n",
      "8/8 [==============================] - 0s 8ms/step - loss: 0.1632 - mse: 0.0479 - val_loss: 0.1320 - val_mse: 0.0278\n",
      "Epoch 132/200\n",
      "8/8 [==============================] - 0s 8ms/step - loss: 0.1435 - mse: 0.0304 - val_loss: 0.1216 - val_mse: 0.0207\n",
      "Epoch 133/200\n",
      "8/8 [==============================] - 0s 8ms/step - loss: 0.1147 - mse: 0.0235 - val_loss: 0.1295 - val_mse: 0.0223\n",
      "Epoch 134/200\n",
      "8/8 [==============================] - 0s 8ms/step - loss: 0.1333 - mse: 0.0313 - val_loss: 0.1231 - val_mse: 0.0221\n",
      "Epoch 135/200\n",
      "8/8 [==============================] - 0s 7ms/step - loss: 0.1602 - mse: 0.0434 - val_loss: 0.1232 - val_mse: 0.0240\n",
      "Epoch 136/200\n",
      "8/8 [==============================] - 0s 9ms/step - loss: 0.1258 - mse: 0.0264 - val_loss: 0.1309 - val_mse: 0.0237\n",
      "Epoch 137/200\n",
      "8/8 [==============================] - 0s 8ms/step - loss: 0.1551 - mse: 0.0444 - val_loss: 0.1218 - val_mse: 0.0212\n",
      "Epoch 138/200\n",
      "8/8 [==============================] - 0s 8ms/step - loss: 0.1432 - mse: 0.0300 - val_loss: 0.1187 - val_mse: 0.0219\n",
      "Epoch 139/200\n",
      "8/8 [==============================] - 0s 8ms/step - loss: 0.1717 - mse: 0.0517 - val_loss: 0.1172 - val_mse: 0.0211\n",
      "Epoch 140/200\n",
      "8/8 [==============================] - 0s 8ms/step - loss: 0.1398 - mse: 0.0294 - val_loss: 0.1151 - val_mse: 0.0196\n",
      "Epoch 141/200\n",
      "8/8 [==============================] - 0s 8ms/step - loss: 0.1395 - mse: 0.0319 - val_loss: 0.1159 - val_mse: 0.0197\n",
      "Epoch 142/200\n",
      "8/8 [==============================] - 0s 8ms/step - loss: 0.1778 - mse: 0.0511 - val_loss: 0.1477 - val_mse: 0.0337\n",
      "Epoch 143/200\n",
      "8/8 [==============================] - 0s 8ms/step - loss: 0.1494 - mse: 0.0431 - val_loss: 0.1867 - val_mse: 0.0477\n",
      "Epoch 144/200\n",
      "8/8 [==============================] - 0s 8ms/step - loss: 0.1390 - mse: 0.0384 - val_loss: 0.1358 - val_mse: 0.0258\n",
      "Epoch 145/200\n",
      "8/8 [==============================] - 0s 8ms/step - loss: 0.1338 - mse: 0.0283 - val_loss: 0.1272 - val_mse: 0.0227\n",
      "Epoch 146/200\n",
      "8/8 [==============================] - 0s 8ms/step - loss: 0.1429 - mse: 0.0324 - val_loss: 0.1219 - val_mse: 0.0214\n",
      "Epoch 147/200\n",
      "8/8 [==============================] - 0s 8ms/step - loss: 0.1211 - mse: 0.0243 - val_loss: 0.1219 - val_mse: 0.0210\n",
      "Epoch 148/200\n",
      "8/8 [==============================] - 0s 8ms/step - loss: 0.1434 - mse: 0.0345 - val_loss: 0.1189 - val_mse: 0.0213\n",
      "Epoch 149/200\n",
      "8/8 [==============================] - 0s 8ms/step - loss: 0.1662 - mse: 0.0506 - val_loss: 0.1256 - val_mse: 0.0216\n",
      "Epoch 150/200\n",
      "8/8 [==============================] - 0s 7ms/step - loss: 0.1325 - mse: 0.0315 - val_loss: 0.1276 - val_mse: 0.0222\n",
      "Epoch 151/200\n",
      "8/8 [==============================] - 0s 7ms/step - loss: 0.1493 - mse: 0.0360 - val_loss: 0.1305 - val_mse: 0.0230\n",
      "Epoch 152/200\n",
      "8/8 [==============================] - 0s 8ms/step - loss: 0.1300 - mse: 0.0301 - val_loss: 0.1301 - val_mse: 0.0227\n",
      "Epoch 153/200\n",
      "8/8 [==============================] - 0s 9ms/step - loss: 0.1631 - mse: 0.0416 - val_loss: 0.1383 - val_mse: 0.0265\n",
      "Epoch 154/200\n",
      "8/8 [==============================] - 0s 13ms/step - loss: 0.1367 - mse: 0.0293 - val_loss: 0.1301 - val_mse: 0.0238\n",
      "Epoch 155/200\n",
      "8/8 [==============================] - ETA: 0s - loss: 0.0646 - mse: 0.006 - 0s 12ms/step - loss: 0.1105 - mse: 0.0197 - val_loss: 0.1222 - val_mse: 0.0222\n",
      "Epoch 156/200\n",
      "8/8 [==============================] - 0s 10ms/step - loss: 0.1233 - mse: 0.0258 - val_loss: 0.1258 - val_mse: 0.0238\n",
      "Epoch 157/200\n",
      "8/8 [==============================] - 0s 11ms/step - loss: 0.1385 - mse: 0.0348 - val_loss: 0.1265 - val_mse: 0.0219\n",
      "Epoch 158/200\n",
      "8/8 [==============================] - 0s 7ms/step - loss: 0.1446 - mse: 0.0311 - val_loss: 0.1274 - val_mse: 0.0225\n",
      "Epoch 159/200\n",
      "8/8 [==============================] - 0s 8ms/step - loss: 0.1457 - mse: 0.0365 - val_loss: 0.1210 - val_mse: 0.0223\n",
      "Epoch 160/200\n",
      "8/8 [==============================] - 0s 7ms/step - loss: 0.1438 - mse: 0.0324 - val_loss: 0.1136 - val_mse: 0.0199\n",
      "Epoch 161/200\n",
      "8/8 [==============================] - 0s 8ms/step - loss: 0.1403 - mse: 0.0316 - val_loss: 0.1282 - val_mse: 0.0246\n",
      "Epoch 162/200\n",
      "8/8 [==============================] - 0s 8ms/step - loss: 0.1299 - mse: 0.0299 - val_loss: 0.1354 - val_mse: 0.0269\n",
      "Epoch 163/200\n",
      "8/8 [==============================] - ETA: 0s - loss: 0.1777 - mse: 0.049 - 0s 8ms/step - loss: 0.1546 - mse: 0.0408 - val_loss: 0.1278 - val_mse: 0.0227\n",
      "Epoch 164/200\n",
      "8/8 [==============================] - 0s 8ms/step - loss: 0.1616 - mse: 0.0455 - val_loss: 0.1530 - val_mse: 0.0351\n",
      "Epoch 165/200\n",
      "8/8 [==============================] - 0s 8ms/step - loss: 0.1348 - mse: 0.0312 - val_loss: 0.1231 - val_mse: 0.0224\n",
      "Epoch 166/200\n",
      "8/8 [==============================] - 0s 9ms/step - loss: 0.1411 - mse: 0.0358 - val_loss: 0.1358 - val_mse: 0.0249\n",
      "Epoch 167/200\n",
      "8/8 [==============================] - 0s 8ms/step - loss: 0.1257 - mse: 0.0274 - val_loss: 0.1377 - val_mse: 0.0253\n",
      "Epoch 168/200\n",
      "8/8 [==============================] - 0s 8ms/step - loss: 0.1375 - mse: 0.0282 - val_loss: 0.1252 - val_mse: 0.0223\n",
      "Epoch 169/200\n",
      "8/8 [==============================] - 0s 8ms/step - loss: 0.1379 - mse: 0.0322 - val_loss: 0.1233 - val_mse: 0.0234\n",
      "Epoch 170/200\n",
      "8/8 [==============================] - 0s 8ms/step - loss: 0.1366 - mse: 0.0260 - val_loss: 0.1178 - val_mse: 0.0213\n",
      "Epoch 171/200\n",
      "8/8 [==============================] - 0s 8ms/step - loss: 0.1253 - mse: 0.0309 - val_loss: 0.1210 - val_mse: 0.0235\n",
      "Epoch 172/200\n",
      "8/8 [==============================] - 0s 8ms/step - loss: 0.1495 - mse: 0.0375 - val_loss: 0.1275 - val_mse: 0.0220\n",
      "Epoch 173/200\n",
      "8/8 [==============================] - 0s 10ms/step - loss: 0.1292 - mse: 0.0266 - val_loss: 0.1274 - val_mse: 0.0223\n",
      "Epoch 174/200\n",
      "8/8 [==============================] - 0s 11ms/step - loss: 0.1460 - mse: 0.0374 - val_loss: 0.1313 - val_mse: 0.0233\n"
     ]
    },
    {
     "name": "stdout",
     "output_type": "stream",
     "text": [
      "Epoch 175/200\n",
      "8/8 [==============================] - 0s 9ms/step - loss: 0.1301 - mse: 0.0257 - val_loss: 0.1418 - val_mse: 0.0268\n",
      "Epoch 176/200\n",
      "8/8 [==============================] - 0s 7ms/step - loss: 0.1303 - mse: 0.0247 - val_loss: 0.1406 - val_mse: 0.0262\n",
      "Epoch 177/200\n",
      "8/8 [==============================] - 0s 8ms/step - loss: 0.1477 - mse: 0.0372 - val_loss: 0.1429 - val_mse: 0.0276\n",
      "Epoch 178/200\n",
      "8/8 [==============================] - 0s 8ms/step - loss: 0.1315 - mse: 0.0296 - val_loss: 0.1352 - val_mse: 0.0251\n",
      "Epoch 179/200\n",
      "8/8 [==============================] - 0s 8ms/step - loss: 0.1616 - mse: 0.0449 - val_loss: 0.1315 - val_mse: 0.0240\n",
      "Epoch 180/200\n",
      "8/8 [==============================] - 0s 8ms/step - loss: 0.1106 - mse: 0.0228 - val_loss: 0.1265 - val_mse: 0.0238\n",
      "Epoch 181/200\n",
      "8/8 [==============================] - 0s 8ms/step - loss: 0.1481 - mse: 0.0349 - val_loss: 0.1242 - val_mse: 0.0214\n",
      "Epoch 182/200\n",
      "8/8 [==============================] - 0s 7ms/step - loss: 0.1439 - mse: 0.0312 - val_loss: 0.1304 - val_mse: 0.0228\n",
      "Epoch 183/200\n",
      "8/8 [==============================] - 0s 8ms/step - loss: 0.1632 - mse: 0.0408 - val_loss: 0.1293 - val_mse: 0.0226\n",
      "Epoch 184/200\n",
      "8/8 [==============================] - 0s 8ms/step - loss: 0.1594 - mse: 0.0447 - val_loss: 0.1285 - val_mse: 0.0231\n",
      "Epoch 185/200\n",
      "8/8 [==============================] - 0s 9ms/step - loss: 0.1244 - mse: 0.0290 - val_loss: 0.1305 - val_mse: 0.0236\n",
      "Epoch 186/200\n",
      "8/8 [==============================] - 0s 8ms/step - loss: 0.1446 - mse: 0.0333 - val_loss: 0.1278 - val_mse: 0.0227\n",
      "Epoch 187/200\n",
      "8/8 [==============================] - 0s 9ms/step - loss: 0.1456 - mse: 0.0360 - val_loss: 0.1279 - val_mse: 0.0224\n",
      "Epoch 188/200\n",
      "8/8 [==============================] - 0s 8ms/step - loss: 0.1341 - mse: 0.0297 - val_loss: 0.1284 - val_mse: 0.0225\n",
      "Epoch 189/200\n",
      "8/8 [==============================] - 0s 9ms/step - loss: 0.1531 - mse: 0.0449 - val_loss: 0.1232 - val_mse: 0.0226\n",
      "Epoch 190/200\n",
      "8/8 [==============================] - 0s 9ms/step - loss: 0.1107 - mse: 0.0236 - val_loss: 0.1256 - val_mse: 0.0228\n",
      "Epoch 191/200\n",
      "8/8 [==============================] - 0s 8ms/step - loss: 0.1296 - mse: 0.0319 - val_loss: 0.1342 - val_mse: 0.0255\n",
      "Epoch 192/200\n",
      "8/8 [==============================] - 0s 12ms/step - loss: 0.1733 - mse: 0.0498 - val_loss: 0.1233 - val_mse: 0.0216\n",
      "Epoch 193/200\n",
      "8/8 [==============================] - 0s 7ms/step - loss: 0.1534 - mse: 0.0438 - val_loss: 0.1260 - val_mse: 0.0226\n",
      "Epoch 194/200\n",
      "8/8 [==============================] - 0s 8ms/step - loss: 0.1603 - mse: 0.0403 - val_loss: 0.1375 - val_mse: 0.0268\n",
      "Epoch 195/200\n",
      "8/8 [==============================] - 0s 8ms/step - loss: 0.1307 - mse: 0.0293 - val_loss: 0.1417 - val_mse: 0.0271\n",
      "Epoch 196/200\n",
      "8/8 [==============================] - 0s 8ms/step - loss: 0.1719 - mse: 0.0506 - val_loss: 0.1353 - val_mse: 0.0243\n",
      "Epoch 197/200\n",
      "8/8 [==============================] - 0s 7ms/step - loss: 0.1188 - mse: 0.0250 - val_loss: 0.1271 - val_mse: 0.0215\n",
      "Epoch 198/200\n",
      "8/8 [==============================] - 0s 8ms/step - loss: 0.1242 - mse: 0.0295 - val_loss: 0.1233 - val_mse: 0.0206\n",
      "Epoch 199/200\n",
      "8/8 [==============================] - 0s 8ms/step - loss: 0.1283 - mse: 0.0276 - val_loss: 0.1218 - val_mse: 0.0220\n",
      "Epoch 200/200\n",
      "8/8 [==============================] - 0s 8ms/step - loss: 0.1502 - mse: 0.0371 - val_loss: 0.1272 - val_mse: 0.0213\n"
     ]
    }
   ],
   "source": [
    "EPOCHS=200\n",
    "\n",
    "model = crear_modeloFF()\n",
    "\n",
    "history=model.fit(x_train,y_train,epochs=EPOCHS,validation_data=(x_val,y_val),batch_size=look_back)"
   ]
  },
  {
   "cell_type": "markdown",
   "metadata": {},
   "source": [
    "# Visualizamos resultados"
   ]
  },
  {
   "cell_type": "code",
   "execution_count": 27,
   "metadata": {},
   "outputs": [],
   "source": [
    "def mape(actual, pred): \n",
    "    actual, pred = np.array(actual), np.array(pred)\n",
    "    return np.mean(np.abs((actual - pred) / actual)) * 100\n",
    "\n",
    "\n",
    "def compute_metrics_fn(y_valid_resc, y_hat_resc):\n",
    "    mae_ = mean_absolute_error(y_valid_resc, y_hat_resc)\n",
    "    mse_ = mean_squared_error(y_valid_resc, y_hat_resc)\n",
    "    rmse_ = mean_squared_error(y_valid_resc, y_hat_resc, squared = False)\n",
    "    cvrmse_ = rmse_/np.mean(y_valid_resc)*100\n",
    "    mape_ = mape(y_valid_resc, y_hat_resc)\n",
    "    \n",
    "    return mae_, mse_, rmse_, cvrmse_, mape_"
   ]
  },
  {
   "cell_type": "code",
   "execution_count": 28,
   "metadata": {},
   "outputs": [],
   "source": [
    "# hacemos las predicciones\n",
    "trainPredict = model.predict(x_train)\n",
    "testPredict = model.predict(x_val)\n",
    "\n",
    "# invertimos las predicciones\n",
    "trainPredict = scaler.inverse_transform(trainPredict)\n",
    "trainY = y_train.reshape(y_train.shape[0], 1)\n",
    "trainY_scalerInverse = scaler.inverse_transform(trainY)\n",
    "testPredict = scaler.inverse_transform(testPredict)\n",
    "testY = y_val.reshape(y_val.shape[0], 1)\n",
    "testY_scalerInverse = scaler.inverse_transform(testY)"
   ]
  },
  {
   "cell_type": "code",
   "execution_count": 29,
   "metadata": {},
   "outputs": [
    {
     "name": "stdout",
     "output_type": "stream",
     "text": [
      "Resultado del entrenamiento: 2692.13 MAE\n",
      "Resultado del entrenamiento: 12663214.00 MSE\n",
      "Resultado del entrenamiento: 3558.54 RMSE\n",
      "Resultado del entrenamiento: 13.40 CVRMSE\n",
      "Resultado del entrenamiento: 12.04 MAPE \n",
      "\n",
      "Resultado del test: 2887.67 MAE\n",
      "Resultado del test: 10961310.00 MSE\n",
      "Resultado del test: 3310.79 RMSE\n",
      "Resultado del test: 7.01 CVRMSE\n",
      "Resultado del test: 6.34 MAPE\n"
     ]
    }
   ],
   "source": [
    "# calculamos las metricas de error\n",
    "trainScore_MAE, trainScore_MSE, trainScore_RMSE, trainScore_CVRMSE, trainScore_MAPE  =  compute_metrics_fn(trainY_scalerInverse, trainPredict)\n",
    "print('Resultado del entrenamiento: %.2f MAE' % (trainScore_MAE))\n",
    "print('Resultado del entrenamiento: %.2f MSE' % (trainScore_MSE))\n",
    "print('Resultado del entrenamiento: %.2f RMSE' % (trainScore_RMSE))\n",
    "print('Resultado del entrenamiento: %.2f CVRMSE' % (trainScore_CVRMSE))\n",
    "print('Resultado del entrenamiento: %.2f MAPE \\n' % (trainScore_MAPE))\n",
    "\n",
    "testScore_MAE, testScore_MSE, testScore_RMSE, testScore_CVRMSE, testScore_MAPE  =  compute_metrics_fn(testY_scalerInverse, testPredict)\n",
    "print('Resultado del test: %.2f MAE' % (testScore_MAE))\n",
    "print('Resultado del test: %.2f MSE' % (testScore_MSE))\n",
    "print('Resultado del test: %.2f RMSE' % (testScore_RMSE))\n",
    "print('Resultado del test: %.2f CVRMSE' % (testScore_CVRMSE))\n",
    "print('Resultado del test: %.2f MAPE' % (testScore_MAPE))"
   ]
  },
  {
   "cell_type": "code",
   "execution_count": 30,
   "metadata": {},
   "outputs": [
    {
     "data": {
      "image/png": "[encoded data removed]",
      "text/plain": [
       "<Figure size 432x288 with 1 Axes>"
      ]
     },
     "metadata": {
      "needs_background": "light"
     },
     "output_type": "display_data"
    }
   ],
   "source": [
    "plt.plot(df_ine.values)\n",
    "plt.grid(True)\n",
    "plt.title(\"Viajes totales según el INE\", fontsize = 15)\n",
    "plt.xlabel(\"Tiempo (dias)\", fontsize = 10)\n",
    "plt.ylabel(\"viajes (en miles)\", fontsize = 10)\n",
    "plt.show()"
   ]
  },
  {
   "cell_type": "code",
   "execution_count": 31,
   "metadata": {},
   "outputs": [
    {
     "data": {
      "image/png": "[encoded data removed]",
      "text/plain": [
       "<Figure size 432x288 with 1 Axes>"
      ]
     },
     "metadata": {
      "needs_background": "light"
     },
     "output_type": "display_data"
    }
   ],
   "source": [
    "plt.plot(df_twt.values)\n",
    "plt.grid(True)\n",
    "plt.title(\"Viajes totales según TWT\", fontsize = 15)\n",
    "plt.xlabel(\"Tiempo (dias)\", fontsize = 10)\n",
    "plt.ylabel(\"viajes (en miles)\", fontsize = 10)\n",
    "plt.show()"
   ]
  },
  {
   "cell_type": "code",
   "execution_count": 32,
   "metadata": {},
   "outputs": [
    {
     "data": {
      "image/png": "[encoded data removed]",
      "text/plain": [
       "<Figure size 432x288 with 1 Axes>"
      ]
     },
     "metadata": {
      "needs_background": "light"
     },
     "output_type": "display_data"
    }
   ],
   "source": [
    "dataset = df_ine.values\n",
    "dataset = dataset.astype('float32')\n",
    "# predicciones del entrenamiento de cambio para plotear\n",
    "trainPredictPlot = np.empty_like(dataset)\n",
    "trainPredictPlot[:, :] = np.nan\n",
    "trainPredictPlot[look_back:len(trainPredict)+look_back, :] = trainPredict\n",
    "# predicciones del test de cambio para plotear\n",
    "testPredictPlot = np.empty_like(dataset)\n",
    "testPredictPlot[:, :] = np.nan\n",
    "testPredictPlot[len(trainPredict)+(look_back):len(dataset), :] = testPredict\n",
    "# plot baseline and predictions\n",
    "plt.plot(df_ine.values)\n",
    "# ploteamos linea base y predicciones\n",
    "plt.plot(trainPredictPlot,'r', linewidth = 2)\n",
    "plt.plot(testPredictPlot,'m', linewidth = 2)\n",
    "plt.legend( ('Datos', 'Prediccion datos entramiento', 'Prediccion sobre los datos de test'), loc = 'upper left')\n",
    "plt.grid(True)\n",
    "plt.title(\"Viajes totales\", fontsize = 15)\n",
    "plt.xlabel(\"Tiempo (dias)\", fontsize = 10)\n",
    "plt.ylabel(\"viajes (en miles)\", fontsize = 10)\n",
    "plt.show()"
   ]
  },
  {
   "cell_type": "code",
   "execution_count": 33,
   "metadata": {},
   "outputs": [
    {
     "data": {
      "image/png": "[encoded data removed]",
      "text/plain": [
       "<Figure size 432x288 with 1 Axes>"
      ]
     },
     "metadata": {
      "needs_background": "light"
     },
     "output_type": "display_data"
    }
   ],
   "source": [
    "results=model.predict(x_val)\n",
    "\n",
    "plt.scatter(range(len(y_val)),y_val,c='g')\n",
    "plt.scatter(range(len(results)),results,c='r')\n",
    "plt.title('validate')\n",
    "plt.xlabel(\"Tiempo (dias)\", fontsize = 10)\n",
    "plt.ylabel(\"viajes (en miles)\", fontsize = 10)\n",
    "plt.show()"
   ]
  },
  {
   "cell_type": "code",
   "execution_count": 34,
   "metadata": {},
   "outputs": [
    {
     "data": {
      "image/png": "[encoded data removed]",
      "text/plain": [
       "<Figure size 432x288 with 1 Axes>"
      ]
     },
     "metadata": {
      "needs_background": "light"
     },
     "output_type": "display_data"
    }
   ],
   "source": [
    "plt.plot(history.history['loss'])\n",
    "plt.plot(history.history['val_loss'])\n",
    "plt.title('loss')\n",
    "plt.legend( ('training loss', 'validate loss'), loc = 'upper right')\n",
    "plt.show()"
   ]
  },
  {
   "cell_type": "markdown",
   "metadata": {},
   "source": [
    "# Prediccion a futuro"
   ]
  },
  {
   "cell_type": "code",
   "execution_count": 35,
   "metadata": {},
   "outputs": [
    {
     "data": {
      "text/html": [
       "<div>\n",
       "<style scoped>\n",
       "    .dataframe tbody tr th:only-of-type {\n",
       "        vertical-align: middle;\n",
       "    }\n",
       "\n",
       "    .dataframe tbody tr th {\n",
       "        vertical-align: top;\n",
       "    }\n",
       "\n",
       "    .dataframe thead th {\n",
       "        text-align: right;\n",
       "    }\n",
       "</style>\n",
       "<table border=\"1\" class=\"dataframe\">\n",
       "  <thead>\n",
       "    <tr style=\"text-align: right;\">\n",
       "      <th></th>\n",
       "      <th>Viajes</th>\n",
       "    </tr>\n",
       "  </thead>\n",
       "  <tbody>\n",
       "    <tr>\n",
       "      <th>2020-06-07</th>\n",
       "      <td>22</td>\n",
       "    </tr>\n",
       "    <tr>\n",
       "      <th>2020-06-08</th>\n",
       "      <td>27</td>\n",
       "    </tr>\n",
       "    <tr>\n",
       "      <th>2020-06-09</th>\n",
       "      <td>20</td>\n",
       "    </tr>\n",
       "    <tr>\n",
       "      <th>2020-06-10</th>\n",
       "      <td>13</td>\n",
       "    </tr>\n",
       "    <tr>\n",
       "      <th>2020-06-11</th>\n",
       "      <td>20</td>\n",
       "    </tr>\n",
       "    <tr>\n",
       "      <th>2020-06-12</th>\n",
       "      <td>26</td>\n",
       "    </tr>\n",
       "    <tr>\n",
       "      <th>2020-06-13</th>\n",
       "      <td>34</td>\n",
       "    </tr>\n",
       "    <tr>\n",
       "      <th>2020-06-14</th>\n",
       "      <td>16</td>\n",
       "    </tr>\n",
       "    <tr>\n",
       "      <th>2020-06-15</th>\n",
       "      <td>6</td>\n",
       "    </tr>\n",
       "    <tr>\n",
       "      <th>2020-06-16</th>\n",
       "      <td>25</td>\n",
       "    </tr>\n",
       "    <tr>\n",
       "      <th>2020-06-17</th>\n",
       "      <td>30</td>\n",
       "    </tr>\n",
       "    <tr>\n",
       "      <th>2020-06-18</th>\n",
       "      <td>32</td>\n",
       "    </tr>\n",
       "    <tr>\n",
       "      <th>2020-06-19</th>\n",
       "      <td>28</td>\n",
       "    </tr>\n",
       "    <tr>\n",
       "      <th>2020-06-20</th>\n",
       "      <td>17</td>\n",
       "    </tr>\n",
       "  </tbody>\n",
       "</table>\n",
       "</div>"
      ],
      "text/plain": [
       "            Viajes\n",
       "2020-06-07      22\n",
       "2020-06-08      27\n",
       "2020-06-09      20\n",
       "2020-06-10      13\n",
       "2020-06-11      20\n",
       "2020-06-12      26\n",
       "2020-06-13      34\n",
       "2020-06-14      16\n",
       "2020-06-15       6\n",
       "2020-06-16      25\n",
       "2020-06-17      30\n",
       "2020-06-18      32\n",
       "2020-06-19      28\n",
       "2020-06-20      17"
      ]
     },
     "execution_count": 35,
     "metadata": {},
     "output_type": "execute_result"
    }
   ],
   "source": [
    "# usaremos los 14 ultimos dias del confinamiento en junio para predecir como habrian sido los dias del 21 al 27 en caso de que\n",
    "# el confinamiento se hubiese alargado por una semana mas\n",
    "\n",
    "ultimosDias_twt = df_twt['2020-6-7':'2020-6-20']\n",
    "ultimosDias_ine = df_ine['2020-6-7':'2020-6-20']\n",
    "ultimosDias_twt"
   ]
  },
  {
   "cell_type": "markdown",
   "metadata": {},
   "source": [
    "# Preparamos los datos para el test"
   ]
  },
  {
   "cell_type": "code",
   "execution_count": 36,
   "metadata": {},
   "outputs": [
    {
     "data": {
      "text/html": [
       "<div>\n",
       "<style scoped>\n",
       "    .dataframe tbody tr th:only-of-type {\n",
       "        vertical-align: middle;\n",
       "    }\n",
       "\n",
       "    .dataframe tbody tr th {\n",
       "        vertical-align: top;\n",
       "    }\n",
       "\n",
       "    .dataframe thead th {\n",
       "        text-align: right;\n",
       "    }\n",
       "</style>\n",
       "<table border=\"1\" class=\"dataframe\">\n",
       "  <thead>\n",
       "    <tr style=\"text-align: right;\">\n",
       "      <th></th>\n",
       "      <th>var1(t-7)</th>\n",
       "      <th>var2(t-7)</th>\n",
       "      <th>var1(t-6)</th>\n",
       "      <th>var2(t-6)</th>\n",
       "      <th>var1(t-5)</th>\n",
       "      <th>var2(t-5)</th>\n",
       "      <th>var1(t-4)</th>\n",
       "      <th>var2(t-4)</th>\n",
       "      <th>var1(t-3)</th>\n",
       "      <th>var2(t-3)</th>\n",
       "      <th>var1(t-2)</th>\n",
       "      <th>var2(t-2)</th>\n",
       "      <th>var1(t-1)</th>\n",
       "      <th>var2(t-1)</th>\n",
       "    </tr>\n",
       "  </thead>\n",
       "  <tbody>\n",
       "    <tr>\n",
       "      <th>7</th>\n",
       "      <td>0.142857</td>\n",
       "      <td>-1.000000</td>\n",
       "      <td>0.500000</td>\n",
       "      <td>-0.001815</td>\n",
       "      <td>0.000000</td>\n",
       "      <td>-0.115321</td>\n",
       "      <td>-0.500000</td>\n",
       "      <td>0.772121</td>\n",
       "      <td>0.000000</td>\n",
       "      <td>0.778593</td>\n",
       "      <td>0.428571</td>\n",
       "      <td>0.672350</td>\n",
       "      <td>1.000000</td>\n",
       "      <td>-0.027468</td>\n",
       "    </tr>\n",
       "    <tr>\n",
       "      <th>8</th>\n",
       "      <td>0.500000</td>\n",
       "      <td>-0.001815</td>\n",
       "      <td>0.000000</td>\n",
       "      <td>-0.115321</td>\n",
       "      <td>-0.500000</td>\n",
       "      <td>0.772121</td>\n",
       "      <td>0.000000</td>\n",
       "      <td>0.778593</td>\n",
       "      <td>0.428571</td>\n",
       "      <td>0.672350</td>\n",
       "      <td>1.000000</td>\n",
       "      <td>-0.027468</td>\n",
       "      <td>-0.285714</td>\n",
       "      <td>-0.560028</td>\n",
       "    </tr>\n",
       "    <tr>\n",
       "      <th>9</th>\n",
       "      <td>0.000000</td>\n",
       "      <td>-0.115321</td>\n",
       "      <td>-0.500000</td>\n",
       "      <td>0.772121</td>\n",
       "      <td>0.000000</td>\n",
       "      <td>0.778593</td>\n",
       "      <td>0.428571</td>\n",
       "      <td>0.672350</td>\n",
       "      <td>1.000000</td>\n",
       "      <td>-0.027468</td>\n",
       "      <td>-0.285714</td>\n",
       "      <td>-0.560028</td>\n",
       "      <td>-1.000000</td>\n",
       "      <td>0.595154</td>\n",
       "    </tr>\n",
       "    <tr>\n",
       "      <th>10</th>\n",
       "      <td>-0.500000</td>\n",
       "      <td>0.772121</td>\n",
       "      <td>0.000000</td>\n",
       "      <td>0.778593</td>\n",
       "      <td>0.428571</td>\n",
       "      <td>0.672350</td>\n",
       "      <td>1.000000</td>\n",
       "      <td>-0.027468</td>\n",
       "      <td>-0.285714</td>\n",
       "      <td>-0.560028</td>\n",
       "      <td>-1.000000</td>\n",
       "      <td>0.595154</td>\n",
       "      <td>0.357143</td>\n",
       "      <td>0.786960</td>\n",
       "    </tr>\n",
       "    <tr>\n",
       "      <th>11</th>\n",
       "      <td>0.000000</td>\n",
       "      <td>0.778593</td>\n",
       "      <td>0.428571</td>\n",
       "      <td>0.672350</td>\n",
       "      <td>1.000000</td>\n",
       "      <td>-0.027468</td>\n",
       "      <td>-0.285714</td>\n",
       "      <td>-0.560028</td>\n",
       "      <td>-1.000000</td>\n",
       "      <td>0.595154</td>\n",
       "      <td>0.357143</td>\n",
       "      <td>0.786960</td>\n",
       "      <td>0.714286</td>\n",
       "      <td>0.830768</td>\n",
       "    </tr>\n",
       "    <tr>\n",
       "      <th>12</th>\n",
       "      <td>0.428571</td>\n",
       "      <td>0.672350</td>\n",
       "      <td>1.000000</td>\n",
       "      <td>-0.027468</td>\n",
       "      <td>-0.285714</td>\n",
       "      <td>-0.560028</td>\n",
       "      <td>-1.000000</td>\n",
       "      <td>0.595154</td>\n",
       "      <td>0.357143</td>\n",
       "      <td>0.786960</td>\n",
       "      <td>0.714286</td>\n",
       "      <td>0.830768</td>\n",
       "      <td>0.857143</td>\n",
       "      <td>0.839924</td>\n",
       "    </tr>\n",
       "    <tr>\n",
       "      <th>13</th>\n",
       "      <td>1.000000</td>\n",
       "      <td>-0.027468</td>\n",
       "      <td>-0.285714</td>\n",
       "      <td>-0.560028</td>\n",
       "      <td>-1.000000</td>\n",
       "      <td>0.595154</td>\n",
       "      <td>0.357143</td>\n",
       "      <td>0.786960</td>\n",
       "      <td>0.714286</td>\n",
       "      <td>0.830768</td>\n",
       "      <td>0.857143</td>\n",
       "      <td>0.839924</td>\n",
       "      <td>0.571429</td>\n",
       "      <td>1.000000</td>\n",
       "    </tr>\n",
       "  </tbody>\n",
       "</table>\n",
       "</div>"
      ],
      "text/plain": [
       "    var1(t-7)  var2(t-7)  var1(t-6)  var2(t-6)  var1(t-5)  var2(t-5)  \\\n",
       "7    0.142857  -1.000000   0.500000  -0.001815   0.000000  -0.115321   \n",
       "8    0.500000  -0.001815   0.000000  -0.115321  -0.500000   0.772121   \n",
       "9    0.000000  -0.115321  -0.500000   0.772121   0.000000   0.778593   \n",
       "10  -0.500000   0.772121   0.000000   0.778593   0.428571   0.672350   \n",
       "11   0.000000   0.778593   0.428571   0.672350   1.000000  -0.027468   \n",
       "12   0.428571   0.672350   1.000000  -0.027468  -0.285714  -0.560028   \n",
       "13   1.000000  -0.027468  -0.285714  -0.560028  -1.000000   0.595154   \n",
       "\n",
       "    var1(t-4)  var2(t-4)  var1(t-3)  var2(t-3)  var1(t-2)  var2(t-2)  \\\n",
       "7   -0.500000   0.772121   0.000000   0.778593   0.428571   0.672350   \n",
       "8    0.000000   0.778593   0.428571   0.672350   1.000000  -0.027468   \n",
       "9    0.428571   0.672350   1.000000  -0.027468  -0.285714  -0.560028   \n",
       "10   1.000000  -0.027468  -0.285714  -0.560028  -1.000000   0.595154   \n",
       "11  -0.285714  -0.560028  -1.000000   0.595154   0.357143   0.786960   \n",
       "12  -1.000000   0.595154   0.357143   0.786960   0.714286   0.830768   \n",
       "13   0.357143   0.786960   0.714286   0.830768   0.857143   0.839924   \n",
       "\n",
       "    var1(t-1)  var2(t-1)  \n",
       "7    1.000000  -0.027468  \n",
       "8   -0.285714  -0.560028  \n",
       "9   -1.000000   0.595154  \n",
       "10   0.357143   0.786960  \n",
       "11   0.714286   0.830768  \n",
       "12   0.857143   0.839924  \n",
       "13   0.571429   1.000000  "
      ]
     },
     "execution_count": 36,
     "metadata": {},
     "output_type": "execute_result"
    }
   ],
   "source": [
    "# cargamos el dataframe en la variable values\n",
    "values_twt = ultimosDias_twt.values\n",
    "values_ine = ultimosDias_ine.values\n",
    "\n",
    "# convertimos los enteros en floats\n",
    "values_twt = values_twt.astype('float32')\n",
    "values_ine = values_ine.astype('float32')\n",
    "\n",
    "# normalizamos los datos a escala de entre -1 y 1\n",
    "values_twt =values_twt.reshape(-1, 1)\n",
    "scaled_twt = scaler.fit_transform(values_twt)\n",
    "values_ine =values_ine.reshape(-1, 1) # esto lo hacemos porque tenemos 1 sola dimension\n",
    "scaled_ine = scaler.fit_transform(values_ine)\n",
    "\n",
    "# usamos la funcion definida previamente\n",
    "reframed_twt = series_to_supervised(scaled_twt, look_back, 1)\n",
    "reframed_ine = series_to_supervised(scaled_ine, look_back, 1)\n",
    "\n",
    "# eliminamos la ultima columna pues es parte de lo que queremos hayar\n",
    "reframed_twt.drop(reframed_twt.columns[[7]], inplace=True, axis=1)\n",
    "reframed_ine.drop(reframed_ine.columns[[7]], inplace=True, axis=1)\n",
    "\n",
    "#unimos los dataframes\n",
    "reframed_ine.columns = ['var2(t-7)', 'var2(t-6)', 'var2(t-5)', 'var2(t-4)', 'var2(t-3)', 'var2(t-2)', 'var2(t-1)']\n",
    "reframed = pd.concat([reframed_twt.iloc[:, 0], reframed_ine.iloc[:, 0]], axis=1)\n",
    "\n",
    "for i in range(6):\n",
    "    reframed = pd.concat([reframed, reframed_twt.iloc[:, i+1]], axis=1)\n",
    "    reframed = pd.concat([reframed, reframed_ine.iloc[:, i+1]], axis=1)\n",
    "\n",
    "#mostramos el set de entrenamiento\n",
    "reframed.head(7)"
   ]
  },
  {
   "cell_type": "code",
   "execution_count": 37,
   "metadata": {},
   "outputs": [
    {
     "name": "stdout",
     "output_type": "stream",
     "text": [
      "(1, 1, 14)\n"
     ]
    },
    {
     "data": {
      "text/plain": [
       "array([[[ 1.        , -0.02746844, -0.28571427, -0.5600283 ,\n",
       "         -1.        ,  0.59515357,  0.35714293,  0.78696036,\n",
       "          0.71428585,  0.83076787,  0.8571429 ,  0.8399241 ,\n",
       "          0.57142854,  1.0000002 ]]], dtype=float32)"
      ]
     },
     "execution_count": 37,
     "metadata": {},
     "output_type": "execute_result"
    }
   ],
   "source": [
    "values = reframed.values\n",
    "\n",
    "#tomamos los valores para realizar el test\n",
    "x_test = values[6:, :]\n",
    "\n",
    "# reshape input to be 3D [samples, timesteps, features] - preguntar\n",
    "x_test = x_test.reshape((x_test.shape[0], 1, x_test.shape[1]))\n",
    "print(x_test.shape)\n",
    "x_test"
   ]
  },
  {
   "cell_type": "code",
   "execution_count": 38,
   "metadata": {},
   "outputs": [],
   "source": [
    "#definimos la funcion para realizar el desplazamiento que se hara en el array cada prediccion pues para hacer\n",
    "#la siguiente prediccion eliminamos el dia mas antiguo, desplazamos un lugar el resto de dias y añadimos el ultimo dia que\n",
    "#se ha predecido, esto es por que para predecir un dia se usan los 7 dias previos\n",
    "\n",
    "def agregarNuevoValor(x_test,nuevoValor):\n",
    "    for i in range(x_test.shape[2]-1):\n",
    "        x_test[0][0][i] = x_test[0][0][i+1]\n",
    "    x_test[0][0][x_test.shape[2]-1]=nuevoValor\n",
    "    return x_test"
   ]
  },
  {
   "cell_type": "markdown",
   "metadata": {},
   "source": [
    "# Predicciones para la proxima semana"
   ]
  },
  {
   "cell_type": "code",
   "execution_count": 39,
   "metadata": {},
   "outputs": [
    {
     "name": "stdout",
     "output_type": "stream",
     "text": [
      "[[[ 1.         -0.02746844 -0.28571427 -0.5600283  -1.\n",
      "    0.59515357  0.35714293  0.78696036  0.71428585  0.83076787\n",
      "    0.8571429   0.8399241   0.57142854  1.0000002 ]]]\n",
      "[[[-0.02746844 -0.28571427 -0.5600283  -1.          0.59515357\n",
      "    0.35714293  0.78696036  0.71428585  0.83076787  0.8571429\n",
      "    0.8399241   0.57142854  1.0000002   0.4328107 ]]]\n",
      "[[[-0.28571427 -0.5600283  -1.          0.59515357  0.35714293\n",
      "    0.78696036  0.71428585  0.83076787  0.8571429   0.8399241\n",
      "    0.57142854  1.0000002   0.4328107   0.25257236]]]\n",
      "[[[-0.5600283  -1.          0.59515357  0.35714293  0.78696036\n",
      "    0.71428585  0.83076787  0.8571429   0.8399241   0.57142854\n",
      "    1.0000002   0.4328107   0.25257236 -0.09009209]]]\n",
      "[[[-1.          0.59515357  0.35714293  0.78696036  0.71428585\n",
      "    0.83076787  0.8571429   0.8399241   0.57142854  1.0000002\n",
      "    0.4328107   0.25257236 -0.09009209 -0.63056827]]]\n",
      "[[[ 0.59515357  0.35714293  0.78696036  0.71428585  0.83076787\n",
      "    0.8571429   0.8399241   0.57142854  1.0000002   0.4328107\n",
      "    0.25257236 -0.09009209 -0.63056827  0.47379842]]]\n",
      "[[[ 0.35714293  0.78696036  0.71428585  0.83076787  0.8571429\n",
      "    0.8399241   0.57142854  1.0000002   0.4328107   0.25257236\n",
      "   -0.09009209 -0.63056827  0.47379842  0.6258946 ]]]\n"
     ]
    }
   ],
   "source": [
    "results=[]\n",
    "for i in range(7):\n",
    "    parcial=model.predict(x_test)\n",
    "    results.append(parcial[0])\n",
    "    print(x_test)\n",
    "    x_test=agregarNuevoValor(x_test,parcial[0])"
   ]
  },
  {
   "cell_type": "markdown",
   "metadata": {},
   "source": [
    "# Re-Convertimos los resultados"
   ]
  },
  {
   "cell_type": "code",
   "execution_count": 40,
   "metadata": {},
   "outputs": [
    {
     "name": "stdout",
     "output_type": "stream",
     "text": [
      "[array([0.4328107], dtype=float32), array([0.25257236], dtype=float32), array([-0.09009209], dtype=float32), array([-0.63056827], dtype=float32), array([0.47379842], dtype=float32), array([0.6258946], dtype=float32), array([0.7884419], dtype=float32)]\n"
     ]
    },
    {
     "data": {
      "text/plain": [
       "array([[48642.27771187],\n",
       "       [46358.83816639],\n",
       "       [42017.6221252 ],\n",
       "       [35170.32929973],\n",
       "       [49161.55127781],\n",
       "       [51088.45786175],\n",
       "       [53147.76953932]])"
      ]
     },
     "execution_count": 40,
     "metadata": {},
     "output_type": "execute_result"
    }
   ],
   "source": [
    "adimen = [x for x in results]    \n",
    "print(adimen)\n",
    "inverted = scaler.inverse_transform(adimen)\n",
    "inverted"
   ]
  },
  {
   "cell_type": "markdown",
   "metadata": {},
   "source": [
    "# Visualizamos el pronostico"
   ]
  },
  {
   "cell_type": "code",
   "execution_count": 41,
   "metadata": {},
   "outputs": [
    {
     "data": {
      "text/plain": [
       "<AxesSubplot:>"
      ]
     },
     "execution_count": 41,
     "metadata": {},
     "output_type": "execute_result"
    },
    {
     "data": {
      "image/png": "[encoded data removed]",
      "text/plain": [
       "<Figure size 432x288 with 1 Axes>"
      ]
     },
     "metadata": {
      "needs_background": "light"
     },
     "output_type": "display_data"
    }
   ],
   "source": [
    "prediccion = pd.DataFrame(inverted)\n",
    "prediccion.columns = ['pronostico']\n",
    "prediccion.plot()"
   ]
  },
  {
   "cell_type": "markdown",
   "metadata": {},
   "source": [
    "# Prediccion con datos actuales"
   ]
  },
  {
   "cell_type": "code",
   "execution_count": 42,
   "metadata": {
    "scrolled": true
   },
   "outputs": [
    {
     "data": {
      "text/html": [
       "<div>\n",
       "<style scoped>\n",
       "    .dataframe tbody tr th:only-of-type {\n",
       "        vertical-align: middle;\n",
       "    }\n",
       "\n",
       "    .dataframe tbody tr th {\n",
       "        vertical-align: top;\n",
       "    }\n",
       "\n",
       "    .dataframe thead th {\n",
       "        text-align: right;\n",
       "    }\n",
       "</style>\n",
       "<table border=\"1\" class=\"dataframe\">\n",
       "  <thead>\n",
       "    <tr style=\"text-align: right;\">\n",
       "      <th></th>\n",
       "      <th>Viajes</th>\n",
       "    </tr>\n",
       "  </thead>\n",
       "  <tbody>\n",
       "    <tr>\n",
       "      <th>2020-05-11</th>\n",
       "      <td>18</td>\n",
       "    </tr>\n",
       "    <tr>\n",
       "      <th>2020-05-12</th>\n",
       "      <td>10</td>\n",
       "    </tr>\n",
       "    <tr>\n",
       "      <th>2020-05-13</th>\n",
       "      <td>26</td>\n",
       "    </tr>\n",
       "    <tr>\n",
       "      <th>2020-05-14</th>\n",
       "      <td>16</td>\n",
       "    </tr>\n",
       "    <tr>\n",
       "      <th>2020-05-15</th>\n",
       "      <td>15</td>\n",
       "    </tr>\n",
       "    <tr>\n",
       "      <th>2020-05-16</th>\n",
       "      <td>11</td>\n",
       "    </tr>\n",
       "    <tr>\n",
       "      <th>2020-05-17</th>\n",
       "      <td>14</td>\n",
       "    </tr>\n",
       "    <tr>\n",
       "      <th>2020-05-18</th>\n",
       "      <td>23</td>\n",
       "    </tr>\n",
       "    <tr>\n",
       "      <th>2020-05-19</th>\n",
       "      <td>18</td>\n",
       "    </tr>\n",
       "    <tr>\n",
       "      <th>2020-05-20</th>\n",
       "      <td>24</td>\n",
       "    </tr>\n",
       "    <tr>\n",
       "      <th>2020-05-21</th>\n",
       "      <td>30</td>\n",
       "    </tr>\n",
       "    <tr>\n",
       "      <th>2020-05-22</th>\n",
       "      <td>31</td>\n",
       "    </tr>\n",
       "    <tr>\n",
       "      <th>2020-05-23</th>\n",
       "      <td>29</td>\n",
       "    </tr>\n",
       "    <tr>\n",
       "      <th>2020-05-24</th>\n",
       "      <td>15</td>\n",
       "    </tr>\n",
       "  </tbody>\n",
       "</table>\n",
       "</div>"
      ],
      "text/plain": [
       "            Viajes\n",
       "2020-05-11      18\n",
       "2020-05-12      10\n",
       "2020-05-13      26\n",
       "2020-05-14      16\n",
       "2020-05-15      15\n",
       "2020-05-16      11\n",
       "2020-05-17      14\n",
       "2020-05-18      23\n",
       "2020-05-19      18\n",
       "2020-05-20      24\n",
       "2020-05-21      30\n",
       "2020-05-22      31\n",
       "2020-05-23      29\n",
       "2020-05-24      15"
      ]
     },
     "execution_count": 42,
     "metadata": {},
     "output_type": "execute_result"
    }
   ],
   "source": [
    "# usaremos 14 dias que poseemos para predecir los 7 dias siguientes tras esto compararemos los resultados con los que\n",
    "# poseemos para ver el grado de error\n",
    "\n",
    "Dias_twt = df_twt['2020-5-11':'2020-5-24']\n",
    "Dias_ine = df_ine['2020-5-11':'2020-5-24']\n",
    "Dias_twt"
   ]
  },
  {
   "cell_type": "markdown",
   "metadata": {},
   "source": [
    "# Preparamos los datos para el test"
   ]
  },
  {
   "cell_type": "code",
   "execution_count": 43,
   "metadata": {},
   "outputs": [
    {
     "data": {
      "text/html": [
       "<div>\n",
       "<style scoped>\n",
       "    .dataframe tbody tr th:only-of-type {\n",
       "        vertical-align: middle;\n",
       "    }\n",
       "\n",
       "    .dataframe tbody tr th {\n",
       "        vertical-align: top;\n",
       "    }\n",
       "\n",
       "    .dataframe thead th {\n",
       "        text-align: right;\n",
       "    }\n",
       "</style>\n",
       "<table border=\"1\" class=\"dataframe\">\n",
       "  <thead>\n",
       "    <tr style=\"text-align: right;\">\n",
       "      <th></th>\n",
       "      <th>var1(t-7)</th>\n",
       "      <th>var2(t-7)</th>\n",
       "      <th>var1(t-6)</th>\n",
       "      <th>var2(t-6)</th>\n",
       "      <th>var1(t-5)</th>\n",
       "      <th>var2(t-5)</th>\n",
       "      <th>var1(t-4)</th>\n",
       "      <th>var2(t-4)</th>\n",
       "      <th>var1(t-3)</th>\n",
       "      <th>var2(t-3)</th>\n",
       "      <th>var1(t-2)</th>\n",
       "      <th>var2(t-2)</th>\n",
       "      <th>var1(t-1)</th>\n",
       "      <th>var2(t-1)</th>\n",
       "    </tr>\n",
       "  </thead>\n",
       "  <tbody>\n",
       "    <tr>\n",
       "      <th>7</th>\n",
       "      <td>-0.238095</td>\n",
       "      <td>0.164794</td>\n",
       "      <td>-1.000000</td>\n",
       "      <td>0.460416</td>\n",
       "      <td>0.523810</td>\n",
       "      <td>0.467377</td>\n",
       "      <td>-0.428571</td>\n",
       "      <td>0.372442</td>\n",
       "      <td>-0.523809</td>\n",
       "      <td>0.350050</td>\n",
       "      <td>-0.904762</td>\n",
       "      <td>-0.706810</td>\n",
       "      <td>-0.619048</td>\n",
       "      <td>-1.000000</td>\n",
       "    </tr>\n",
       "    <tr>\n",
       "      <th>8</th>\n",
       "      <td>-1.000000</td>\n",
       "      <td>0.460416</td>\n",
       "      <td>0.523810</td>\n",
       "      <td>0.467377</td>\n",
       "      <td>-0.428571</td>\n",
       "      <td>0.372442</td>\n",
       "      <td>-0.523809</td>\n",
       "      <td>0.350050</td>\n",
       "      <td>-0.904762</td>\n",
       "      <td>-0.706810</td>\n",
       "      <td>-0.619048</td>\n",
       "      <td>-1.000000</td>\n",
       "      <td>0.238095</td>\n",
       "      <td>0.680728</td>\n",
       "    </tr>\n",
       "    <tr>\n",
       "      <th>9</th>\n",
       "      <td>0.523810</td>\n",
       "      <td>0.467377</td>\n",
       "      <td>-0.428571</td>\n",
       "      <td>0.372442</td>\n",
       "      <td>-0.523809</td>\n",
       "      <td>0.350050</td>\n",
       "      <td>-0.904762</td>\n",
       "      <td>-0.706810</td>\n",
       "      <td>-0.619048</td>\n",
       "      <td>-1.000000</td>\n",
       "      <td>0.238095</td>\n",
       "      <td>0.680728</td>\n",
       "      <td>-0.238095</td>\n",
       "      <td>0.954210</td>\n",
       "    </tr>\n",
       "    <tr>\n",
       "      <th>10</th>\n",
       "      <td>-0.428571</td>\n",
       "      <td>0.372442</td>\n",
       "      <td>-0.523809</td>\n",
       "      <td>0.350050</td>\n",
       "      <td>-0.904762</td>\n",
       "      <td>-0.706810</td>\n",
       "      <td>-0.619048</td>\n",
       "      <td>-1.000000</td>\n",
       "      <td>0.238095</td>\n",
       "      <td>0.680728</td>\n",
       "      <td>-0.238095</td>\n",
       "      <td>0.954210</td>\n",
       "      <td>0.333333</td>\n",
       "      <td>0.967545</td>\n",
       "    </tr>\n",
       "    <tr>\n",
       "      <th>11</th>\n",
       "      <td>-0.523809</td>\n",
       "      <td>0.350050</td>\n",
       "      <td>-0.904762</td>\n",
       "      <td>-0.706810</td>\n",
       "      <td>-0.619048</td>\n",
       "      <td>-1.000000</td>\n",
       "      <td>0.238095</td>\n",
       "      <td>0.680728</td>\n",
       "      <td>-0.238095</td>\n",
       "      <td>0.954210</td>\n",
       "      <td>0.333333</td>\n",
       "      <td>0.967545</td>\n",
       "      <td>0.904762</td>\n",
       "      <td>0.967880</td>\n",
       "    </tr>\n",
       "    <tr>\n",
       "      <th>12</th>\n",
       "      <td>-0.904762</td>\n",
       "      <td>-0.706810</td>\n",
       "      <td>-0.619048</td>\n",
       "      <td>-1.000000</td>\n",
       "      <td>0.238095</td>\n",
       "      <td>0.680728</td>\n",
       "      <td>-0.238095</td>\n",
       "      <td>0.954210</td>\n",
       "      <td>0.333333</td>\n",
       "      <td>0.967545</td>\n",
       "      <td>0.904762</td>\n",
       "      <td>0.967880</td>\n",
       "      <td>1.000000</td>\n",
       "      <td>1.000000</td>\n",
       "    </tr>\n",
       "    <tr>\n",
       "      <th>13</th>\n",
       "      <td>-0.619048</td>\n",
       "      <td>-1.000000</td>\n",
       "      <td>0.238095</td>\n",
       "      <td>0.680728</td>\n",
       "      <td>-0.238095</td>\n",
       "      <td>0.954210</td>\n",
       "      <td>0.333333</td>\n",
       "      <td>0.967545</td>\n",
       "      <td>0.904762</td>\n",
       "      <td>0.967880</td>\n",
       "      <td>1.000000</td>\n",
       "      <td>1.000000</td>\n",
       "      <td>0.809524</td>\n",
       "      <td>0.140725</td>\n",
       "    </tr>\n",
       "  </tbody>\n",
       "</table>\n",
       "</div>"
      ],
      "text/plain": [
       "    var1(t-7)  var2(t-7)  var1(t-6)  var2(t-6)  var1(t-5)  var2(t-5)  \\\n",
       "7   -0.238095   0.164794  -1.000000   0.460416   0.523810   0.467377   \n",
       "8   -1.000000   0.460416   0.523810   0.467377  -0.428571   0.372442   \n",
       "9    0.523810   0.467377  -0.428571   0.372442  -0.523809   0.350050   \n",
       "10  -0.428571   0.372442  -0.523809   0.350050  -0.904762  -0.706810   \n",
       "11  -0.523809   0.350050  -0.904762  -0.706810  -0.619048  -1.000000   \n",
       "12  -0.904762  -0.706810  -0.619048  -1.000000   0.238095   0.680728   \n",
       "13  -0.619048  -1.000000   0.238095   0.680728  -0.238095   0.954210   \n",
       "\n",
       "    var1(t-4)  var2(t-4)  var1(t-3)  var2(t-3)  var1(t-2)  var2(t-2)  \\\n",
       "7   -0.428571   0.372442  -0.523809   0.350050  -0.904762  -0.706810   \n",
       "8   -0.523809   0.350050  -0.904762  -0.706810  -0.619048  -1.000000   \n",
       "9   -0.904762  -0.706810  -0.619048  -1.000000   0.238095   0.680728   \n",
       "10  -0.619048  -1.000000   0.238095   0.680728  -0.238095   0.954210   \n",
       "11   0.238095   0.680728  -0.238095   0.954210   0.333333   0.967545   \n",
       "12  -0.238095   0.954210   0.333333   0.967545   0.904762   0.967880   \n",
       "13   0.333333   0.967545   0.904762   0.967880   1.000000   1.000000   \n",
       "\n",
       "    var1(t-1)  var2(t-1)  \n",
       "7   -0.619048  -1.000000  \n",
       "8    0.238095   0.680728  \n",
       "9   -0.238095   0.954210  \n",
       "10   0.333333   0.967545  \n",
       "11   0.904762   0.967880  \n",
       "12   1.000000   1.000000  \n",
       "13   0.809524   0.140725  "
      ]
     },
     "execution_count": 43,
     "metadata": {},
     "output_type": "execute_result"
    }
   ],
   "source": [
    "# cargamos el dataframe en la variable values\n",
    "values_twt = Dias_twt.values\n",
    "values_ine = Dias_ine.values\n",
    "\n",
    "# convertimos los enteros en floats\n",
    "values_twt = values_twt.astype('float32')\n",
    "values_ine = values_ine.astype('float32')\n",
    "\n",
    "# normalizamos los datos a escala de entre -1 y 1\n",
    "values_twt =values_twt.reshape(-1, 1)\n",
    "scaled_twt = scaler.fit_transform(values_twt)\n",
    "values_ine =values_ine.reshape(-1, 1) # esto lo hacemos porque tenemos 1 sola dimension\n",
    "scaled_ine = scaler.fit_transform(values_ine)\n",
    "\n",
    "# usamos la funcion definida previamente\n",
    "reframed_twt = series_to_supervised(scaled_twt, look_back, 1)\n",
    "reframed_ine = series_to_supervised(scaled_ine, look_back, 1)\n",
    "\n",
    "# eliminamos la ultima columna pues es parte de lo que queremos hayar\n",
    "reframed_twt.drop(reframed_twt.columns[[7]], inplace=True, axis=1)\n",
    "reframed_ine.drop(reframed_ine.columns[[7]], inplace=True, axis=1)\n",
    "\n",
    "#unimos los dataframes\n",
    "reframed_ine.columns = ['var2(t-7)', 'var2(t-6)', 'var2(t-5)', 'var2(t-4)', 'var2(t-3)', 'var2(t-2)', 'var2(t-1)']\n",
    "reframed = pd.concat([reframed_twt.iloc[:, 0], reframed_ine.iloc[:, 0]], axis=1)\n",
    "\n",
    "for i in range(6):\n",
    "    reframed = pd.concat([reframed, reframed_twt.iloc[:, i+1]], axis=1)\n",
    "    reframed = pd.concat([reframed, reframed_ine.iloc[:, i+1]], axis=1)\n",
    "\n",
    "#mostramos el set de entrenamiento\n",
    "reframed.head(7)"
   ]
  },
  {
   "cell_type": "code",
   "execution_count": 44,
   "metadata": {},
   "outputs": [
    {
     "name": "stdout",
     "output_type": "stream",
     "text": [
      "(1, 1, 14)\n"
     ]
    },
    {
     "data": {
      "text/plain": [
       "array([[[-0.6190475 , -1.        ,  0.23809528,  0.68072796,\n",
       "         -0.23809516,  0.95421004,  0.3333335 ,  0.96754456,\n",
       "          0.904762  ,  0.96788   ,  1.        ,  1.        ,\n",
       "          0.8095238 ,  0.14072466]]], dtype=float32)"
      ]
     },
     "execution_count": 44,
     "metadata": {},
     "output_type": "execute_result"
    }
   ],
   "source": [
    "values = reframed.values\n",
    "\n",
    "#tomamos los valores para realizar el test\n",
    "x_test = values[6:, :]\n",
    "\n",
    "# reshape input to be 3D [samples, timesteps, features] - preguntar\n",
    "x_test = x_test.reshape((x_test.shape[0], 1, x_test.shape[1]))\n",
    "print(x_test.shape)\n",
    "x_test"
   ]
  },
  {
   "cell_type": "code",
   "execution_count": 45,
   "metadata": {},
   "outputs": [],
   "source": [
    "#en la linea 24 definimos la funcion para realizar el desplazamiento que se hara en el array cada prediccion pues para hacer\n",
    "#la siguiente prediccion eliminamos el dia mas antiguo, desplazamos un lugar el resto de dias y añadimos el ultimo dia que\n",
    "#se ha predecido, esto es por que para predecir un dia se usan los 7 dias previos, y que usaremos a continuación"
   ]
  },
  {
   "cell_type": "markdown",
   "metadata": {},
   "source": [
    "# Realizamos la prediccion "
   ]
  },
  {
   "cell_type": "code",
   "execution_count": 46,
   "metadata": {},
   "outputs": [
    {
     "name": "stdout",
     "output_type": "stream",
     "text": [
      "[[[-0.6190475  -1.          0.23809528  0.68072796 -0.23809516\n",
      "    0.95421004  0.3333335   0.96754456  0.904762    0.96788\n",
      "    1.          1.          0.8095238   0.14072466]]]\n",
      "[[[-1.          0.23809528  0.68072796 -0.23809516  0.95421004\n",
      "    0.3333335   0.96754456  0.904762    0.96788     1.\n",
      "    1.          0.8095238   0.14072466 -0.63560665]]]\n",
      "[[[ 0.23809528  0.68072796 -0.23809516  0.95421004  0.3333335\n",
      "    0.96754456  0.904762    0.96788     1.          1.\n",
      "    0.8095238   0.14072466 -0.63560665  0.16202536]]]\n",
      "[[[ 0.68072796 -0.23809516  0.95421004  0.3333335   0.96754456\n",
      "    0.904762    0.96788     1.          1.          0.8095238\n",
      "    0.14072466 -0.63560665  0.16202536  0.79292685]]]\n",
      "[[[-0.23809516  0.95421004  0.3333335   0.96754456  0.904762\n",
      "    0.96788     1.          1.          0.8095238   0.14072466\n",
      "   -0.63560665  0.16202536  0.79292685  0.40518707]]]\n",
      "[[[ 0.95421004  0.3333335   0.96754456  0.904762    0.96788\n",
      "    1.          1.          0.8095238   0.14072466 -0.63560665\n",
      "    0.16202536  0.79292685  0.40518707  0.67174304]]]\n",
      "[[[ 0.3333335   0.96754456  0.904762    0.96788     1.\n",
      "    1.          0.8095238   0.14072466 -0.63560665  0.16202536\n",
      "    0.79292685  0.40518707  0.67174304  0.2438861 ]]]\n"
     ]
    }
   ],
   "source": [
    "results=[]\n",
    "for i in range(7):\n",
    "    parcial=model.predict(x_test)\n",
    "    results.append(parcial[0])\n",
    "    print(x_test)\n",
    "    x_test=agregarNuevoValor(x_test,parcial[0])"
   ]
  },
  {
   "cell_type": "markdown",
   "metadata": {},
   "source": [
    "# Re-Convertimos los resultados"
   ]
  },
  {
   "cell_type": "code",
   "execution_count": 47,
   "metadata": {
    "scrolled": false
   },
   "outputs": [
    {
     "name": "stdout",
     "output_type": "stream",
     "text": [
      "[array([-0.63560665], dtype=float32), array([0.16202536], dtype=float32), array([0.79292685], dtype=float32), array([0.40518707], dtype=float32), array([0.67174304], dtype=float32), array([0.2438861], dtype=float32), array([0.7228846], dtype=float32)]\n"
     ]
    },
    {
     "data": {
      "text/plain": [
       "array([[22320],\n",
       "       [31831],\n",
       "       [39354],\n",
       "       [34730],\n",
       "       [37909],\n",
       "       [32807],\n",
       "       [38519]])"
      ]
     },
     "execution_count": 47,
     "metadata": {},
     "output_type": "execute_result"
    }
   ],
   "source": [
    "adimen = [x for x in results]    \n",
    "print(adimen)\n",
    "inverted = scaler.inverse_transform(adimen)\n",
    "\n",
    "#en nuestro problema no tienen sentido los decimales pues no se pueden hacer 0.5 viajes o 0.25 viajes\n",
    "inverted = inverted.round()\n",
    "inverted = inverted.astype(int)\n",
    "inverted"
   ]
  },
  {
   "cell_type": "markdown",
   "metadata": {},
   "source": [
    "# Visualizamos el pronostico"
   ]
  },
  {
   "cell_type": "code",
   "execution_count": 48,
   "metadata": {
    "scrolled": false
   },
   "outputs": [
    {
     "data": {
      "text/plain": [
       "<AxesSubplot:>"
      ]
     },
     "execution_count": 48,
     "metadata": {},
     "output_type": "execute_result"
    },
    {
     "data": {
      "image/png": "[encoded data removed]",
      "text/plain": [
       "<Figure size 432x288 with 1 Axes>"
      ]
     },
     "metadata": {
      "needs_background": "light"
     },
     "output_type": "display_data"
    }
   ],
   "source": [
    "e_date = datetime.datetime.strptime('2020-05-31', '%Y-%m-%d')\n",
    "i_date = datetime.datetime.strptime('2020-05-25', '%Y-%m-%d')\n",
    "delta = e_date - i_date\n",
    "\n",
    "index_days = []\n",
    "for i in range(delta.days + 1):\n",
    "    day = i_date + timedelta(days=i)\n",
    "    index_days.append(day)\n",
    "\n",
    "prediccion = pd.DataFrame(inverted, index= index_days)\n",
    "prediccion.columns = ['pronostico']\n",
    "prediccion.plot()"
   ]
  },
  {
   "cell_type": "code",
   "execution_count": 49,
   "metadata": {},
   "outputs": [
    {
     "data": {
      "text/html": [
       "<div>\n",
       "<style scoped>\n",
       "    .dataframe tbody tr th:only-of-type {\n",
       "        vertical-align: middle;\n",
       "    }\n",
       "\n",
       "    .dataframe tbody tr th {\n",
       "        vertical-align: top;\n",
       "    }\n",
       "\n",
       "    .dataframe thead th {\n",
       "        text-align: right;\n",
       "    }\n",
       "</style>\n",
       "<table border=\"1\" class=\"dataframe\">\n",
       "  <thead>\n",
       "    <tr style=\"text-align: right;\">\n",
       "      <th></th>\n",
       "      <th>real</th>\n",
       "      <th>prediccion</th>\n",
       "    </tr>\n",
       "  </thead>\n",
       "  <tbody>\n",
       "    <tr>\n",
       "      <th>2020-05-25</th>\n",
       "      <td>42126</td>\n",
       "      <td>22320</td>\n",
       "    </tr>\n",
       "    <tr>\n",
       "      <th>2020-05-26</th>\n",
       "      <td>45321</td>\n",
       "      <td>31831</td>\n",
       "    </tr>\n",
       "    <tr>\n",
       "      <th>2020-05-27</th>\n",
       "      <td>46185</td>\n",
       "      <td>39354</td>\n",
       "    </tr>\n",
       "    <tr>\n",
       "      <th>2020-05-28</th>\n",
       "      <td>47441</td>\n",
       "      <td>34730</td>\n",
       "    </tr>\n",
       "    <tr>\n",
       "      <th>2020-05-29</th>\n",
       "      <td>48454</td>\n",
       "      <td>37909</td>\n",
       "    </tr>\n",
       "    <tr>\n",
       "      <th>2020-05-30</th>\n",
       "      <td>40358</td>\n",
       "      <td>32807</td>\n",
       "    </tr>\n",
       "    <tr>\n",
       "      <th>2020-05-31</th>\n",
       "      <td>29599</td>\n",
       "      <td>38519</td>\n",
       "    </tr>\n",
       "  </tbody>\n",
       "</table>\n",
       "</div>"
      ],
      "text/plain": [
       "             real  prediccion\n",
       "2020-05-25  42126       22320\n",
       "2020-05-26  45321       31831\n",
       "2020-05-27  46185       39354\n",
       "2020-05-28  47441       34730\n",
       "2020-05-29  48454       37909\n",
       "2020-05-30  40358       32807\n",
       "2020-05-31  29599       38519"
      ]
     },
     "execution_count": 49,
     "metadata": {},
     "output_type": "execute_result"
    }
   ],
   "source": [
    "datosReales = df_ine['2020-5-25':'2020-5-31']\n",
    "\n",
    "compara = pd.concat([datosReales, prediccion], axis=1)\n",
    "compara.columns = ['real', 'prediccion']\n",
    "compara"
   ]
  },
  {
   "cell_type": "code",
   "execution_count": 50,
   "metadata": {},
   "outputs": [
    {
     "data": {
      "text/plain": [
       "<AxesSubplot:>"
      ]
     },
     "execution_count": 50,
     "metadata": {},
     "output_type": "execute_result"
    },
    {
     "data": {
      "image/png": "[encoded data removed]",
      "text/plain": [
       "<Figure size 432x288 with 1 Axes>"
      ]
     },
     "metadata": {
      "needs_background": "light"
     },
     "output_type": "display_data"
    }
   ],
   "source": [
    "compara['real'].plot()\n",
    "compara['prediccion'].plot()"
   ]
  },
  {
   "cell_type": "code",
   "execution_count": 51,
   "metadata": {
    "scrolled": false
   },
   "outputs": [
    {
     "name": "stdout",
     "output_type": "stream",
     "text": [
      "Resultado del test: 11407.71 MAE\n",
      "Resultado del test: 147181549.14 MSE\n",
      "Resultado del test: 12131.84 RMSE\n",
      "Resultado del test: 35.76 CVRMSE\n",
      "Resultado del test: 37.01 MAPE\n"
     ]
    }
   ],
   "source": [
    "# calculamos las metricas de error\n",
    "testScore_MAE, testScore_MSE, testScore_RMSE, testScore_CVRMSE, testScore_MAPE  =  compute_metrics_fn(prediccion, datosReales)\n",
    "print('Resultado del test: %.2f MAE' % (testScore_MAE))\n",
    "print('Resultado del test: %.2f MSE' % (testScore_MSE))\n",
    "print('Resultado del test: %.2f RMSE' % (testScore_RMSE))\n",
    "print('Resultado del test: %.2f CVRMSE' % (testScore_CVRMSE))\n",
    "print('Resultado del test: %.2f MAPE' % (testScore_MAPE))"
   ]
  },
  {
   "cell_type": "code",
   "execution_count": 52,
   "metadata": {},
   "outputs": [
    {
     "name": "stdout",
     "output_type": "stream",
     "text": [
      "Resultado del test dia 1: 19806.00 MAE\n",
      "Resultado del test dia 1: 392277636.00 MSE\n",
      "Resultado del test dia 1: 19806.00 RMSE\n",
      "Resultado del test dia 1: 88.74 CVRMSE\n",
      "Resultado del test dia 1: 88.74 MAPE \n",
      "\n",
      "Resultado del test dia 2: 13490.00 MAE\n",
      "Resultado del test dia 2: 181980100.00 MSE\n",
      "Resultado del test dia 2: 13490.00 RMSE\n",
      "Resultado del test dia 2: 42.38 CVRMSE\n",
      "Resultado del test dia 2: 42.38 MAPE \n",
      "\n",
      "Resultado del test dia 3: 6831.00 MAE\n",
      "Resultado del test dia 3: 46662561.00 MSE\n",
      "Resultado del test dia 3: 6831.00 RMSE\n",
      "Resultado del test dia 3: 17.36 CVRMSE\n",
      "Resultado del test dia 3: 17.36 MAPE \n",
      "\n",
      "Resultado del test dia 4: 12711.00 MAE\n",
      "Resultado del test dia 4: 161569521.00 MSE\n",
      "Resultado del test dia 4: 12711.00 RMSE\n",
      "Resultado del test dia 4: 36.60 CVRMSE\n",
      "Resultado del test dia 4: 36.60 MAPE \n",
      "\n",
      "Resultado del test dia 5: 10545.00 MAE\n",
      "Resultado del test dia 5: 111197025.00 MSE\n",
      "Resultado del test dia 5: 10545.00 RMSE\n",
      "Resultado del test dia 5: 27.82 CVRMSE\n",
      "Resultado del test dia 5: 27.82 MAPE \n",
      "\n",
      "Resultado del test dia 6: 7551.00 MAE\n",
      "Resultado del test dia 6: 57017601.00 MSE\n",
      "Resultado del test dia 6: 7551.00 RMSE\n",
      "Resultado del test dia 6: 23.02 CVRMSE\n",
      "Resultado del test dia 6: 23.02 MAPE \n",
      "\n",
      "Resultado del test dia 7: 8920.00 MAE\n",
      "Resultado del test dia 7: 79566400.00 MSE\n",
      "Resultado del test dia 7: 8920.00 RMSE\n",
      "Resultado del test dia 7: 23.16 CVRMSE\n",
      "Resultado del test dia 7: 23.16 MAPE \n",
      "\n"
     ]
    }
   ],
   "source": [
    "# calculamos las metricas de error para cada dia por separado\n",
    "for i in range(7):\n",
    "    testScore_MAE, testScore_MSE, testScore_RMSE, testScore_CVRMSE, testScore_MAPE  =  compute_metrics_fn(prediccion.values[i], datosReales.values[i])\n",
    "    day = i + 1\n",
    "    print('Resultado del test dia %d: %.2f MAE' % (day, testScore_MAE))\n",
    "    print('Resultado del test dia %d: %.2f MSE' % (day, testScore_MSE))\n",
    "    print('Resultado del test dia %d: %.2f RMSE' % (day, testScore_RMSE))\n",
    "    print('Resultado del test dia %d: %.2f CVRMSE' % (day, testScore_CVRMSE))\n",
    "    print('Resultado del test dia %d: %.2f MAPE \\n' % (day, testScore_MAPE))"
   ]
  }
 ],
 "metadata": {
  "kernelspec": {
   "display_name": "Python 3",
   "language": "python",
   "name": "python3"
  },
  "language_info": {
   "codemirror_mode": {
    "name": "ipython",
    "version": 3
   },
   "file_extension": ".py",
   "mimetype": "text/x-python",
   "name": "python",
   "nbconvert_exporter": "python",
   "pygments_lexer": "ipython3",
   "version": "3.8.5"
  }
 },
 "nbformat": 4,
 "nbformat_minor": 4
}
