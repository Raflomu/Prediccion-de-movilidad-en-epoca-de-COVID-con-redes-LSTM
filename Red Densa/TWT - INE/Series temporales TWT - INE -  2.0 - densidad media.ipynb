{
 "cells": [
  {
   "cell_type": "code",
   "execution_count": 1,
   "metadata": {},
   "outputs": [],
   "source": [
    "import pandas as pd\n",
    "import numpy as np\n",
    "from tqdm import tqdm_notebook\n",
    "import os\n",
    "from sklearn.metrics import mean_squared_error, mean_absolute_error\n",
    "from sklearn.preprocessing import MinMaxScaler\n",
    "from keras.models import Sequential\n",
    "from keras.layers import Dense,Activation,Flatten,Dropout\n",
    "\n",
    "import matplotlib.pyplot as plt\n",
    "%matplotlib inline\n",
    "\n",
    "import warnings\n",
    "warnings.filterwarnings(\"ignore\")\n",
    "\n",
    "import datetime\n",
    "from datetime import date, timedelta\n",
    "e_date = datetime.datetime.strptime('2020-06-20', '%Y-%m-%d')\n",
    "i_date = datetime.datetime.strptime('2020-04-01', '%Y-%m-%d')\n",
    "\n",
    "data_path = 'D:/universidad/universidad 4/TFG/recursos para el desarrollo/datos procesados/OD'"
   ]
  },
  {
   "cell_type": "code",
   "execution_count": 2,
   "metadata": {},
   "outputs": [],
   "source": [
    "delta = e_date - i_date\n",
    "\n",
    "target_days = []\n",
    "for i in range(delta.days + 1):\n",
    "    day = i_date + timedelta(days=i)\n",
    "    target_days.append(day)"
   ]
  },
  {
   "cell_type": "code",
   "execution_count": 3,
   "metadata": {},
   "outputs": [],
   "source": [
    "def read_OD_fn(source_type):\n",
    "    ods = {}\n",
    "    for date in tqdm_notebook(target_days):\n",
    "        od_date= pd.read_csv(os.path.join(data_path, 'date_{}_OD_{}.csv'.format(source_type,date.strftime('%Y-%m-%d'))), \n",
    "                            index_col=0)\n",
    "        ods[date] = od_date\n",
    "    return ods"
   ]
  },
  {
   "cell_type": "code",
   "execution_count": 4,
   "metadata": {},
   "outputs": [
    {
     "data": {
      "application/vnd.jupyter.widget-view+json": {
       "model_id": "1311638d324747f99c09278a2e9746dc",
       "version_major": 2,
       "version_minor": 0
      },
      "text/plain": [
       "  0%|          | 0/81 [00:00<?, ?it/s]"
      ]
     },
     "metadata": {},
     "output_type": "display_data"
    }
   ],
   "source": [
    "ine_ods = read_OD_fn('INE')"
   ]
  },
  {
   "cell_type": "code",
   "execution_count": 5,
   "metadata": {
    "scrolled": true
   },
   "outputs": [
    {
     "data": {
      "application/vnd.jupyter.widget-view+json": {
       "model_id": "68c22c98f703437682d0cb497e749c8a",
       "version_major": 2,
       "version_minor": 0
      },
      "text/plain": [
       "  0%|          | 0/81 [00:00<?, ?it/s]"
      ]
     },
     "metadata": {},
     "output_type": "display_data"
    }
   ],
   "source": [
    "twt_ods = read_OD_fn('TWT')"
   ]
  },
  {
   "cell_type": "markdown",
   "metadata": {},
   "source": [
    "# Serializar los datos"
   ]
  },
  {
   "cell_type": "code",
   "execution_count": 6,
   "metadata": {
    "scrolled": true
   },
   "outputs": [
    {
     "data": {
      "application/vnd.jupyter.widget-view+json": {
       "model_id": "fba98b2c596348afb92ae3ba6059685c",
       "version_major": 2,
       "version_minor": 0
      },
      "text/plain": [
       "  0%|          | 0/81 [00:00<?, ?it/s]"
      ]
     },
     "metadata": {},
     "output_type": "display_data"
    },
    {
     "data": {
      "application/vnd.jupyter.widget-view+json": {
       "model_id": "99c58f4b47c8449986c2347992722707",
       "version_major": 2,
       "version_minor": 0
      },
      "text/plain": [
       "  0%|          | 0/81 [00:00<?, ?it/s]"
      ]
     },
     "metadata": {},
     "output_type": "display_data"
    }
   ],
   "source": [
    "lista_twt1 = []\n",
    "lista_twt2 = []\n",
    "lista_twt3 = []\n",
    "lista_twt4 = []\n",
    "lista_twt5 = []\n",
    "\n",
    "for date in tqdm_notebook(target_days):\n",
    "    lista_twt1.append(twt_ods[date].loc['18GU','total'])\n",
    "    lista_twt2.append(twt_ods[date].loc['013B','total'])\n",
    "    lista_twt3.append(twt_ods[date].loc['021S','total'])\n",
    "    lista_twt4.append(twt_ods[date].loc['219M','total'])\n",
    "    lista_twt5.append(twt_ods[date].loc['01CA','total'])\n",
    "    \n",
    "    \n",
    "lista_ine1 = []\n",
    "lista_ine2 = []\n",
    "lista_ine3 = []\n",
    "lista_ine4 = []\n",
    "lista_ine5 = []\n",
    "\n",
    "for date in tqdm_notebook(target_days):\n",
    "    lista_ine1.append(ine_ods[date].loc['18GU','total'])\n",
    "    lista_ine2.append(ine_ods[date].loc['013B','total'])\n",
    "    lista_ine3.append(ine_ods[date].loc['021S','total'])\n",
    "    lista_ine4.append(ine_ods[date].loc['219M','total'])\n",
    "    lista_ine5.append(ine_ods[date].loc['01CA','total'])\n",
    "    "
   ]
  },
  {
   "cell_type": "code",
   "execution_count": 7,
   "metadata": {
    "scrolled": true
   },
   "outputs": [],
   "source": [
    "df_twt1 = pd.DataFrame (lista_twt1, columns = ['Viajes'], index= target_days)\n",
    "df_ine1 = pd.DataFrame (lista_ine1, columns = ['Viajes'], index= target_days)\n",
    "\n",
    "df_twt2 = pd.DataFrame (lista_twt2, columns = ['Viajes'], index= target_days)\n",
    "df_ine2 = pd.DataFrame (lista_ine2, columns = ['Viajes'], index= target_days)\n",
    "\n",
    "df_twt3 = pd.DataFrame (lista_twt3, columns = ['Viajes'], index= target_days)\n",
    "df_ine3 = pd.DataFrame (lista_ine3, columns = ['Viajes'], index= target_days)\n",
    "\n",
    "df_twt4 = pd.DataFrame (lista_twt4, columns = ['Viajes'], index= target_days)\n",
    "df_ine4 = pd.DataFrame (lista_ine4, columns = ['Viajes'], index= target_days)\n",
    "\n",
    "df_twt5 = pd.DataFrame (lista_twt5, columns = ['Viajes'], index= target_days)\n",
    "df_ine5 = pd.DataFrame (lista_ine5, columns = ['Viajes'], index= target_days)"
   ]
  },
  {
   "cell_type": "code",
   "execution_count": 8,
   "metadata": {},
   "outputs": [],
   "source": [
    "lista_twt = []\n",
    "lista_ine = []\n",
    "\n",
    "df_twt = df_twt1 + df_twt2 + df_twt3 + df_twt4 + df_twt5\n",
    "df_ine = df_ine1 + df_ine2 + df_ine3 + df_ine4 + df_ine5"
   ]
  },
  {
   "cell_type": "code",
   "execution_count": 9,
   "metadata": {},
   "outputs": [
    {
     "data": {
      "text/html": [
       "<div>\n",
       "<style scoped>\n",
       "    .dataframe tbody tr th:only-of-type {\n",
       "        vertical-align: middle;\n",
       "    }\n",
       "\n",
       "    .dataframe tbody tr th {\n",
       "        vertical-align: top;\n",
       "    }\n",
       "\n",
       "    .dataframe thead th {\n",
       "        text-align: right;\n",
       "    }\n",
       "</style>\n",
       "<table border=\"1\" class=\"dataframe\">\n",
       "  <thead>\n",
       "    <tr style=\"text-align: right;\">\n",
       "      <th></th>\n",
       "      <th>Viajes</th>\n",
       "    </tr>\n",
       "  </thead>\n",
       "  <tbody>\n",
       "    <tr>\n",
       "      <th>2020-04-01</th>\n",
       "      <td>0</td>\n",
       "    </tr>\n",
       "    <tr>\n",
       "      <th>2020-04-02</th>\n",
       "      <td>0</td>\n",
       "    </tr>\n",
       "    <tr>\n",
       "      <th>2020-04-03</th>\n",
       "      <td>0</td>\n",
       "    </tr>\n",
       "    <tr>\n",
       "      <th>2020-04-04</th>\n",
       "      <td>0</td>\n",
       "    </tr>\n",
       "    <tr>\n",
       "      <th>2020-04-05</th>\n",
       "      <td>0</td>\n",
       "    </tr>\n",
       "  </tbody>\n",
       "</table>\n",
       "</div>"
      ],
      "text/plain": [
       "            Viajes\n",
       "2020-04-01       0\n",
       "2020-04-02       0\n",
       "2020-04-03       0\n",
       "2020-04-04       0\n",
       "2020-04-05       0"
      ]
     },
     "execution_count": 9,
     "metadata": {},
     "output_type": "execute_result"
    }
   ],
   "source": [
    "df_twt.head()"
   ]
  },
  {
   "cell_type": "code",
   "execution_count": 10,
   "metadata": {},
   "outputs": [
    {
     "data": {
      "text/html": [
       "<div>\n",
       "<style scoped>\n",
       "    .dataframe tbody tr th:only-of-type {\n",
       "        vertical-align: middle;\n",
       "    }\n",
       "\n",
       "    .dataframe tbody tr th {\n",
       "        vertical-align: top;\n",
       "    }\n",
       "\n",
       "    .dataframe thead th {\n",
       "        text-align: right;\n",
       "    }\n",
       "</style>\n",
       "<table border=\"1\" class=\"dataframe\">\n",
       "  <thead>\n",
       "    <tr style=\"text-align: right;\">\n",
       "      <th></th>\n",
       "      <th>Viajes</th>\n",
       "    </tr>\n",
       "  </thead>\n",
       "  <tbody>\n",
       "    <tr>\n",
       "      <th>2020-04-01</th>\n",
       "      <td>3314</td>\n",
       "    </tr>\n",
       "    <tr>\n",
       "      <th>2020-04-02</th>\n",
       "      <td>3220</td>\n",
       "    </tr>\n",
       "    <tr>\n",
       "      <th>2020-04-03</th>\n",
       "      <td>3934</td>\n",
       "    </tr>\n",
       "    <tr>\n",
       "      <th>2020-04-04</th>\n",
       "      <td>3141</td>\n",
       "    </tr>\n",
       "    <tr>\n",
       "      <th>2020-04-05</th>\n",
       "      <td>2520</td>\n",
       "    </tr>\n",
       "  </tbody>\n",
       "</table>\n",
       "</div>"
      ],
      "text/plain": [
       "            Viajes\n",
       "2020-04-01    3314\n",
       "2020-04-02    3220\n",
       "2020-04-03    3934\n",
       "2020-04-04    3141\n",
       "2020-04-05    2520"
      ]
     },
     "execution_count": 10,
     "metadata": {},
     "output_type": "execute_result"
    }
   ],
   "source": [
    "df_ine.head()"
   ]
  },
  {
   "cell_type": "code",
   "execution_count": 11,
   "metadata": {},
   "outputs": [],
   "source": [
    "del twt_ods\n",
    "del ine_ods"
   ]
  },
  {
   "cell_type": "markdown",
   "metadata": {},
   "source": [
    "# Visualización de datos"
   ]
  },
  {
   "cell_type": "code",
   "execution_count": 12,
   "metadata": {},
   "outputs": [
    {
     "name": "stdout",
     "output_type": "stream",
     "text": [
      "2020-04-01 00:00:00\n",
      "2020-06-20 00:00:00\n"
     ]
    }
   ],
   "source": [
    "print(df_twt.index.min())\n",
    "print(df_ine.index.max())"
   ]
  },
  {
   "cell_type": "code",
   "execution_count": 13,
   "metadata": {
    "scrolled": true
   },
   "outputs": [
    {
     "name": "stdout",
     "output_type": "stream",
     "text": [
      "81\n"
     ]
    }
   ],
   "source": [
    "print(len(df_twt['2020']))"
   ]
  },
  {
   "cell_type": "code",
   "execution_count": 14,
   "metadata": {},
   "outputs": [
    {
     "name": "stdout",
     "output_type": "stream",
     "text": [
      "81\n"
     ]
    }
   ],
   "source": [
    "print(len(df_ine['2020']))"
   ]
  },
  {
   "cell_type": "code",
   "execution_count": 15,
   "metadata": {
    "scrolled": true
   },
   "outputs": [
    {
     "data": {
      "text/html": [
       "<div>\n",
       "<style scoped>\n",
       "    .dataframe tbody tr th:only-of-type {\n",
       "        vertical-align: middle;\n",
       "    }\n",
       "\n",
       "    .dataframe tbody tr th {\n",
       "        vertical-align: top;\n",
       "    }\n",
       "\n",
       "    .dataframe thead th {\n",
       "        text-align: right;\n",
       "    }\n",
       "</style>\n",
       "<table border=\"1\" class=\"dataframe\">\n",
       "  <thead>\n",
       "    <tr style=\"text-align: right;\">\n",
       "      <th></th>\n",
       "      <th>Viajes</th>\n",
       "    </tr>\n",
       "  </thead>\n",
       "  <tbody>\n",
       "    <tr>\n",
       "      <th>count</th>\n",
       "      <td>81.000000</td>\n",
       "    </tr>\n",
       "    <tr>\n",
       "      <th>mean</th>\n",
       "      <td>1.148148</td>\n",
       "    </tr>\n",
       "    <tr>\n",
       "      <th>std</th>\n",
       "      <td>1.467235</td>\n",
       "    </tr>\n",
       "    <tr>\n",
       "      <th>min</th>\n",
       "      <td>0.000000</td>\n",
       "    </tr>\n",
       "    <tr>\n",
       "      <th>25%</th>\n",
       "      <td>0.000000</td>\n",
       "    </tr>\n",
       "    <tr>\n",
       "      <th>50%</th>\n",
       "      <td>0.000000</td>\n",
       "    </tr>\n",
       "    <tr>\n",
       "      <th>75%</th>\n",
       "      <td>2.000000</td>\n",
       "    </tr>\n",
       "    <tr>\n",
       "      <th>max</th>\n",
       "      <td>6.000000</td>\n",
       "    </tr>\n",
       "  </tbody>\n",
       "</table>\n",
       "</div>"
      ],
      "text/plain": [
       "          Viajes\n",
       "count  81.000000\n",
       "mean    1.148148\n",
       "std     1.467235\n",
       "min     0.000000\n",
       "25%     0.000000\n",
       "50%     0.000000\n",
       "75%     2.000000\n",
       "max     6.000000"
      ]
     },
     "execution_count": 15,
     "metadata": {},
     "output_type": "execute_result"
    }
   ],
   "source": [
    "df_twt.describe()"
   ]
  },
  {
   "cell_type": "code",
   "execution_count": 16,
   "metadata": {},
   "outputs": [
    {
     "data": {
      "text/html": [
       "<div>\n",
       "<style scoped>\n",
       "    .dataframe tbody tr th:only-of-type {\n",
       "        vertical-align: middle;\n",
       "    }\n",
       "\n",
       "    .dataframe tbody tr th {\n",
       "        vertical-align: top;\n",
       "    }\n",
       "\n",
       "    .dataframe thead th {\n",
       "        text-align: right;\n",
       "    }\n",
       "</style>\n",
       "<table border=\"1\" class=\"dataframe\">\n",
       "  <thead>\n",
       "    <tr style=\"text-align: right;\">\n",
       "      <th></th>\n",
       "      <th>Viajes</th>\n",
       "    </tr>\n",
       "  </thead>\n",
       "  <tbody>\n",
       "    <tr>\n",
       "      <th>count</th>\n",
       "      <td>81.000000</td>\n",
       "    </tr>\n",
       "    <tr>\n",
       "      <th>mean</th>\n",
       "      <td>4188.802469</td>\n",
       "    </tr>\n",
       "    <tr>\n",
       "      <th>std</th>\n",
       "      <td>922.684743</td>\n",
       "    </tr>\n",
       "    <tr>\n",
       "      <th>min</th>\n",
       "      <td>2282.000000</td>\n",
       "    </tr>\n",
       "    <tr>\n",
       "      <th>25%</th>\n",
       "      <td>3503.000000</td>\n",
       "    </tr>\n",
       "    <tr>\n",
       "      <th>50%</th>\n",
       "      <td>4243.000000</td>\n",
       "    </tr>\n",
       "    <tr>\n",
       "      <th>75%</th>\n",
       "      <td>4933.000000</td>\n",
       "    </tr>\n",
       "    <tr>\n",
       "      <th>max</th>\n",
       "      <td>5827.000000</td>\n",
       "    </tr>\n",
       "  </tbody>\n",
       "</table>\n",
       "</div>"
      ],
      "text/plain": [
       "            Viajes\n",
       "count    81.000000\n",
       "mean   4188.802469\n",
       "std     922.684743\n",
       "min    2282.000000\n",
       "25%    3503.000000\n",
       "50%    4243.000000\n",
       "75%    4933.000000\n",
       "max    5827.000000"
      ]
     },
     "execution_count": 16,
     "metadata": {},
     "output_type": "execute_result"
    }
   ],
   "source": [
    "df_ine.describe()"
   ]
  },
  {
   "cell_type": "code",
   "execution_count": 17,
   "metadata": {
    "scrolled": true
   },
   "outputs": [
    {
     "data": {
      "text/html": [
       "<div>\n",
       "<style scoped>\n",
       "    .dataframe tbody tr th:only-of-type {\n",
       "        vertical-align: middle;\n",
       "    }\n",
       "\n",
       "    .dataframe tbody tr th {\n",
       "        vertical-align: top;\n",
       "    }\n",
       "\n",
       "    .dataframe thead th {\n",
       "        text-align: right;\n",
       "    }\n",
       "</style>\n",
       "<table border=\"1\" class=\"dataframe\">\n",
       "  <thead>\n",
       "    <tr style=\"text-align: right;\">\n",
       "      <th></th>\n",
       "      <th>Viajes</th>\n",
       "    </tr>\n",
       "  </thead>\n",
       "  <tbody>\n",
       "    <tr>\n",
       "      <th>2020-04-30</th>\n",
       "      <td>0.800000</td>\n",
       "    </tr>\n",
       "    <tr>\n",
       "      <th>2020-05-31</th>\n",
       "      <td>1.548387</td>\n",
       "    </tr>\n",
       "    <tr>\n",
       "      <th>2020-06-30</th>\n",
       "      <td>1.050000</td>\n",
       "    </tr>\n",
       "  </tbody>\n",
       "</table>\n",
       "</div>"
      ],
      "text/plain": [
       "              Viajes\n",
       "2020-04-30  0.800000\n",
       "2020-05-31  1.548387\n",
       "2020-06-30  1.050000"
      ]
     },
     "execution_count": 17,
     "metadata": {},
     "output_type": "execute_result"
    }
   ],
   "source": [
    "meses = df_twt.resample('M').mean()\n",
    "meses"
   ]
  },
  {
   "cell_type": "code",
   "execution_count": 18,
   "metadata": {},
   "outputs": [
    {
     "data": {
      "text/html": [
       "<div>\n",
       "<style scoped>\n",
       "    .dataframe tbody tr th:only-of-type {\n",
       "        vertical-align: middle;\n",
       "    }\n",
       "\n",
       "    .dataframe tbody tr th {\n",
       "        vertical-align: top;\n",
       "    }\n",
       "\n",
       "    .dataframe thead th {\n",
       "        text-align: right;\n",
       "    }\n",
       "</style>\n",
       "<table border=\"1\" class=\"dataframe\">\n",
       "  <thead>\n",
       "    <tr style=\"text-align: right;\">\n",
       "      <th></th>\n",
       "      <th>Viajes</th>\n",
       "    </tr>\n",
       "  </thead>\n",
       "  <tbody>\n",
       "    <tr>\n",
       "      <th>2020-04-30</th>\n",
       "      <td>3410.966667</td>\n",
       "    </tr>\n",
       "    <tr>\n",
       "      <th>2020-05-31</th>\n",
       "      <td>4262.193548</td>\n",
       "    </tr>\n",
       "    <tr>\n",
       "      <th>2020-06-30</th>\n",
       "      <td>5241.800000</td>\n",
       "    </tr>\n",
       "  </tbody>\n",
       "</table>\n",
       "</div>"
      ],
      "text/plain": [
       "                 Viajes\n",
       "2020-04-30  3410.966667\n",
       "2020-05-31  4262.193548\n",
       "2020-06-30  5241.800000"
      ]
     },
     "execution_count": 18,
     "metadata": {},
     "output_type": "execute_result"
    }
   ],
   "source": [
    "meses = df_ine.resample('M').mean()\n",
    "meses"
   ]
  },
  {
   "cell_type": "code",
   "execution_count": 19,
   "metadata": {
    "scrolled": true
   },
   "outputs": [
    {
     "data": {
      "text/plain": [
       "[<matplotlib.lines.Line2D at 0x1f61ebb6f10>]"
      ]
     },
     "execution_count": 19,
     "metadata": {},
     "output_type": "execute_result"
    },
    {
     "data": {
      "image/png": "[encoded data removed]",
      "text/plain": [
       "<Figure size 432x288 with 1 Axes>"
      ]
     },
     "metadata": {
      "needs_background": "light"
     },
     "output_type": "display_data"
    }
   ],
   "source": [
    "abril = df_twt['2020-04-01':'2020-04-30']\n",
    "plt.plot(abril.values)\n",
    "mayo = df_twt['2020-05-01':'2020-05-31']\n",
    "plt.plot(mayo.values)\n",
    "junio = df_twt['2020-06-01':'2020-06-20']\n",
    "plt.plot(junio.values)"
   ]
  },
  {
   "cell_type": "code",
   "execution_count": 20,
   "metadata": {},
   "outputs": [
    {
     "data": {
      "text/plain": [
       "[<matplotlib.lines.Line2D at 0x1f6664af7c0>]"
      ]
     },
     "execution_count": 20,
     "metadata": {},
     "output_type": "execute_result"
    },
    {
     "data": {
      "image/png": "[encoded data removed]",
      "text/plain": [
       "<Figure size 432x288 with 1 Axes>"
      ]
     },
     "metadata": {
      "needs_background": "light"
     },
     "output_type": "display_data"
    }
   ],
   "source": [
    "abril = df_ine['2020-04-01':'2020-04-30']\n",
    "plt.plot(abril.values)\n",
    "mayo = df_ine['2020-05-01':'2020-05-31']\n",
    "plt.plot(mayo.values)\n",
    "junio = df_ine['2020-06-01':'2020-06-20']\n",
    "plt.plot(junio.values)"
   ]
  },
  {
   "cell_type": "markdown",
   "metadata": {},
   "source": [
    "# Preprocesado de datos"
   ]
  },
  {
   "cell_type": "code",
   "execution_count": 21,
   "metadata": {},
   "outputs": [
    {
     "data": {
      "text/html": [
       "<div>\n",
       "<style scoped>\n",
       "    .dataframe tbody tr th:only-of-type {\n",
       "        vertical-align: middle;\n",
       "    }\n",
       "\n",
       "    .dataframe tbody tr th {\n",
       "        vertical-align: top;\n",
       "    }\n",
       "\n",
       "    .dataframe thead th {\n",
       "        text-align: right;\n",
       "    }\n",
       "</style>\n",
       "<table border=\"1\" class=\"dataframe\">\n",
       "  <thead>\n",
       "    <tr style=\"text-align: right;\">\n",
       "      <th></th>\n",
       "      <th>var1(t-7)</th>\n",
       "      <th>var1(t-6)</th>\n",
       "      <th>var1(t-5)</th>\n",
       "      <th>var1(t-4)</th>\n",
       "      <th>var1(t-3)</th>\n",
       "      <th>var1(t-2)</th>\n",
       "      <th>var1(t-1)</th>\n",
       "      <th>var1(t)</th>\n",
       "    </tr>\n",
       "  </thead>\n",
       "  <tbody>\n",
       "    <tr>\n",
       "      <th>76</th>\n",
       "      <td>-0.333333</td>\n",
       "      <td>-0.333333</td>\n",
       "      <td>-1.000000</td>\n",
       "      <td>-0.333333</td>\n",
       "      <td>-1.000000</td>\n",
       "      <td>-1.000000</td>\n",
       "      <td>-0.333333</td>\n",
       "      <td>-1.000000</td>\n",
       "    </tr>\n",
       "    <tr>\n",
       "      <th>77</th>\n",
       "      <td>-0.333333</td>\n",
       "      <td>-1.000000</td>\n",
       "      <td>-0.333333</td>\n",
       "      <td>-1.000000</td>\n",
       "      <td>-1.000000</td>\n",
       "      <td>-0.333333</td>\n",
       "      <td>-1.000000</td>\n",
       "      <td>-1.000000</td>\n",
       "    </tr>\n",
       "    <tr>\n",
       "      <th>78</th>\n",
       "      <td>-1.000000</td>\n",
       "      <td>-0.333333</td>\n",
       "      <td>-1.000000</td>\n",
       "      <td>-1.000000</td>\n",
       "      <td>-0.333333</td>\n",
       "      <td>-1.000000</td>\n",
       "      <td>-1.000000</td>\n",
       "      <td>-0.333333</td>\n",
       "    </tr>\n",
       "    <tr>\n",
       "      <th>79</th>\n",
       "      <td>-0.333333</td>\n",
       "      <td>-1.000000</td>\n",
       "      <td>-1.000000</td>\n",
       "      <td>-0.333333</td>\n",
       "      <td>-1.000000</td>\n",
       "      <td>-1.000000</td>\n",
       "      <td>-0.333333</td>\n",
       "      <td>-1.000000</td>\n",
       "    </tr>\n",
       "    <tr>\n",
       "      <th>80</th>\n",
       "      <td>-1.000000</td>\n",
       "      <td>-1.000000</td>\n",
       "      <td>-0.333333</td>\n",
       "      <td>-1.000000</td>\n",
       "      <td>-1.000000</td>\n",
       "      <td>-0.333333</td>\n",
       "      <td>-1.000000</td>\n",
       "      <td>-1.000000</td>\n",
       "    </tr>\n",
       "  </tbody>\n",
       "</table>\n",
       "</div>"
      ],
      "text/plain": [
       "    var1(t-7)  var1(t-6)  var1(t-5)  var1(t-4)  var1(t-3)  var1(t-2)  \\\n",
       "76  -0.333333  -0.333333  -1.000000  -0.333333  -1.000000  -1.000000   \n",
       "77  -0.333333  -1.000000  -0.333333  -1.000000  -1.000000  -0.333333   \n",
       "78  -1.000000  -0.333333  -1.000000  -1.000000  -0.333333  -1.000000   \n",
       "79  -0.333333  -1.000000  -1.000000  -0.333333  -1.000000  -1.000000   \n",
       "80  -1.000000  -1.000000  -0.333333  -1.000000  -1.000000  -0.333333   \n",
       "\n",
       "    var1(t-1)   var1(t)  \n",
       "76  -0.333333 -1.000000  \n",
       "77  -1.000000 -1.000000  \n",
       "78  -1.000000 -0.333333  \n",
       "79  -0.333333 -1.000000  \n",
       "80  -1.000000 -1.000000  "
      ]
     },
     "execution_count": 21,
     "metadata": {},
     "output_type": "execute_result"
    }
   ],
   "source": [
    "# cantidad de dias previos que se usaran para predecir el siguiente dia \n",
    "look_back=7\n",
    "\n",
    "# convertir series en conocimiento supervisado\n",
    "def series_to_supervised(data, n_in=1, n_out=1, dropnan=True):\n",
    "    n_vars = 1 if type(data) is list else data.shape[1]\n",
    "    df = pd.DataFrame(data)\n",
    "    cols, names = list(), list()\n",
    "    # secuencia de entrada (t-n, ... t-1)\n",
    "    for i in range(n_in, 0, -1):\n",
    "        cols.append(df.shift(i))\n",
    "        names += [('var%d(t-%d)' % (j+1, i)) for j in range(n_vars)]\n",
    "    # secuencia del pronostico (t, t+1, ... t+n)\n",
    "    for i in range(0, n_out):\n",
    "        cols.append(df.shift(-i))\n",
    "        if i == 0:\n",
    "            names += [('var%d(t)' % (j+1)) for j in range(n_vars)]\n",
    "        else:\n",
    "            names += [('var%d(t+%d)' % (j+1, i)) for j in range(n_vars)]\n",
    "    # unimos todo\n",
    "    agg = pd.concat(cols, axis=1)\n",
    "    agg.columns = names\n",
    "    # eliminamos todos los valores nulos\n",
    "    if dropnan:\n",
    "        agg.dropna(inplace=True)\n",
    "    return agg\n",
    " \n",
    "# cargamos el dataframe en la variable values\n",
    "values_twt = df_twt.values\n",
    "values_ine = df_ine.values\n",
    "\n",
    "# convertimos los enteros en floats\n",
    "values_twt = values_twt.astype('float32')\n",
    "values_ine = values_ine.astype('float32')\n",
    "\n",
    "# normalizamos los datos a escala de entre -1 y 1\n",
    "scaler = MinMaxScaler(feature_range=(-1, 1))\n",
    "values_twt=values_twt.reshape(-1, 1) # esto lo hacemos porque tenemos 1 sola dimension\n",
    "values_ine=values_ine.reshape(-1, 1) # esto lo hacemos porque tenemos 1 sola dimension\n",
    "scaled_twt = scaler.fit_transform(values_twt)\n",
    "scaled_ine = scaler.fit_transform(values_ine)\n",
    "\n",
    "# usamos la funcion definida previamente\n",
    "reframed_twt = series_to_supervised(scaled_twt, look_back, 1)\n",
    "reframed_ine = series_to_supervised(scaled_ine, look_back, 1)\n",
    "\n",
    "#imprimimos los nuevos datos\n",
    "reframed_twt.tail()"
   ]
  },
  {
   "cell_type": "code",
   "execution_count": 22,
   "metadata": {
    "scrolled": false
   },
   "outputs": [
    {
     "data": {
      "text/html": [
       "<div>\n",
       "<style scoped>\n",
       "    .dataframe tbody tr th:only-of-type {\n",
       "        vertical-align: middle;\n",
       "    }\n",
       "\n",
       "    .dataframe tbody tr th {\n",
       "        vertical-align: top;\n",
       "    }\n",
       "\n",
       "    .dataframe thead th {\n",
       "        text-align: right;\n",
       "    }\n",
       "</style>\n",
       "<table border=\"1\" class=\"dataframe\">\n",
       "  <thead>\n",
       "    <tr style=\"text-align: right;\">\n",
       "      <th></th>\n",
       "      <th>var2(t-7)</th>\n",
       "      <th>var2(t-6)</th>\n",
       "      <th>var2(t-5)</th>\n",
       "      <th>var2(t-4)</th>\n",
       "      <th>var2(t-3)</th>\n",
       "      <th>var2(t-2)</th>\n",
       "      <th>var2(t-1)</th>\n",
       "      <th>var2(t)</th>\n",
       "    </tr>\n",
       "  </thead>\n",
       "  <tbody>\n",
       "    <tr>\n",
       "      <th>76</th>\n",
       "      <td>0.339916</td>\n",
       "      <td>0.822285</td>\n",
       "      <td>0.737095</td>\n",
       "      <td>0.892243</td>\n",
       "      <td>0.559380</td>\n",
       "      <td>-0.013822</td>\n",
       "      <td>0.614105</td>\n",
       "      <td>0.686883</td>\n",
       "    </tr>\n",
       "    <tr>\n",
       "      <th>77</th>\n",
       "      <td>0.822285</td>\n",
       "      <td>0.737095</td>\n",
       "      <td>0.892243</td>\n",
       "      <td>0.559380</td>\n",
       "      <td>-0.013822</td>\n",
       "      <td>0.614105</td>\n",
       "      <td>0.686883</td>\n",
       "      <td>0.924401</td>\n",
       "    </tr>\n",
       "    <tr>\n",
       "      <th>78</th>\n",
       "      <td>0.737095</td>\n",
       "      <td>0.892243</td>\n",
       "      <td>0.559380</td>\n",
       "      <td>-0.013822</td>\n",
       "      <td>0.614105</td>\n",
       "      <td>0.686883</td>\n",
       "      <td>0.924401</td>\n",
       "      <td>0.897885</td>\n",
       "    </tr>\n",
       "    <tr>\n",
       "      <th>79</th>\n",
       "      <td>0.892243</td>\n",
       "      <td>0.559380</td>\n",
       "      <td>-0.013822</td>\n",
       "      <td>0.614105</td>\n",
       "      <td>0.686883</td>\n",
       "      <td>0.924401</td>\n",
       "      <td>0.897885</td>\n",
       "      <td>1.000000</td>\n",
       "    </tr>\n",
       "    <tr>\n",
       "      <th>80</th>\n",
       "      <td>0.559380</td>\n",
       "      <td>-0.013822</td>\n",
       "      <td>0.614105</td>\n",
       "      <td>0.686883</td>\n",
       "      <td>0.924401</td>\n",
       "      <td>0.897885</td>\n",
       "      <td>1.000000</td>\n",
       "      <td>0.801975</td>\n",
       "    </tr>\n",
       "  </tbody>\n",
       "</table>\n",
       "</div>"
      ],
      "text/plain": [
       "    var2(t-7)  var2(t-6)  var2(t-5)  var2(t-4)  var2(t-3)  var2(t-2)  \\\n",
       "76   0.339916   0.822285   0.737095   0.892243   0.559380  -0.013822   \n",
       "77   0.822285   0.737095   0.892243   0.559380  -0.013822   0.614105   \n",
       "78   0.737095   0.892243   0.559380  -0.013822   0.614105   0.686883   \n",
       "79   0.892243   0.559380  -0.013822   0.614105   0.686883   0.924401   \n",
       "80   0.559380  -0.013822   0.614105   0.686883   0.924401   0.897885   \n",
       "\n",
       "    var2(t-1)   var2(t)  \n",
       "76   0.614105  0.686883  \n",
       "77   0.686883  0.924401  \n",
       "78   0.924401  0.897885  \n",
       "79   0.897885  1.000000  \n",
       "80   1.000000  0.801975  "
      ]
     },
     "execution_count": 22,
     "metadata": {},
     "output_type": "execute_result"
    }
   ],
   "source": [
    "#cambiamos el nombre de las columnas\n",
    "reframed_ine.columns = ['var2(t-7)', 'var2(t-6)', 'var2(t-5)', 'var2(t-4)', 'var2(t-3)', 'var2(t-2)', 'var2(t-1)', 'var2(t)']\n",
    "reframed_ine.tail()"
   ]
  },
  {
   "cell_type": "code",
   "execution_count": 23,
   "metadata": {
    "scrolled": false
   },
   "outputs": [
    {
     "data": {
      "text/html": [
       "<div>\n",
       "<style scoped>\n",
       "    .dataframe tbody tr th:only-of-type {\n",
       "        vertical-align: middle;\n",
       "    }\n",
       "\n",
       "    .dataframe tbody tr th {\n",
       "        vertical-align: top;\n",
       "    }\n",
       "\n",
       "    .dataframe thead th {\n",
       "        text-align: right;\n",
       "    }\n",
       "</style>\n",
       "<table border=\"1\" class=\"dataframe\">\n",
       "  <thead>\n",
       "    <tr style=\"text-align: right;\">\n",
       "      <th></th>\n",
       "      <th>var1(t-7)</th>\n",
       "      <th>var2(t-7)</th>\n",
       "      <th>var1(t-6)</th>\n",
       "      <th>var2(t-6)</th>\n",
       "      <th>var1(t-5)</th>\n",
       "      <th>var2(t-5)</th>\n",
       "      <th>var1(t-4)</th>\n",
       "      <th>var2(t-4)</th>\n",
       "      <th>var1(t-3)</th>\n",
       "      <th>var2(t-3)</th>\n",
       "      <th>var1(t-2)</th>\n",
       "      <th>var2(t-2)</th>\n",
       "      <th>var1(t-1)</th>\n",
       "      <th>var2(t-1)</th>\n",
       "      <th>var2(t)</th>\n",
       "    </tr>\n",
       "  </thead>\n",
       "  <tbody>\n",
       "    <tr>\n",
       "      <th>76</th>\n",
       "      <td>-0.333333</td>\n",
       "      <td>0.339916</td>\n",
       "      <td>-0.333333</td>\n",
       "      <td>0.822285</td>\n",
       "      <td>-1.000000</td>\n",
       "      <td>0.737095</td>\n",
       "      <td>-0.333333</td>\n",
       "      <td>0.892243</td>\n",
       "      <td>-1.000000</td>\n",
       "      <td>0.559380</td>\n",
       "      <td>-1.000000</td>\n",
       "      <td>-0.013822</td>\n",
       "      <td>-0.333333</td>\n",
       "      <td>0.614105</td>\n",
       "      <td>0.686883</td>\n",
       "    </tr>\n",
       "    <tr>\n",
       "      <th>77</th>\n",
       "      <td>-0.333333</td>\n",
       "      <td>0.822285</td>\n",
       "      <td>-1.000000</td>\n",
       "      <td>0.737095</td>\n",
       "      <td>-0.333333</td>\n",
       "      <td>0.892243</td>\n",
       "      <td>-1.000000</td>\n",
       "      <td>0.559380</td>\n",
       "      <td>-1.000000</td>\n",
       "      <td>-0.013822</td>\n",
       "      <td>-0.333333</td>\n",
       "      <td>0.614105</td>\n",
       "      <td>-1.000000</td>\n",
       "      <td>0.686883</td>\n",
       "      <td>0.924401</td>\n",
       "    </tr>\n",
       "    <tr>\n",
       "      <th>78</th>\n",
       "      <td>-1.000000</td>\n",
       "      <td>0.737095</td>\n",
       "      <td>-0.333333</td>\n",
       "      <td>0.892243</td>\n",
       "      <td>-1.000000</td>\n",
       "      <td>0.559380</td>\n",
       "      <td>-1.000000</td>\n",
       "      <td>-0.013822</td>\n",
       "      <td>-0.333333</td>\n",
       "      <td>0.614105</td>\n",
       "      <td>-1.000000</td>\n",
       "      <td>0.686883</td>\n",
       "      <td>-1.000000</td>\n",
       "      <td>0.924401</td>\n",
       "      <td>0.897885</td>\n",
       "    </tr>\n",
       "    <tr>\n",
       "      <th>79</th>\n",
       "      <td>-0.333333</td>\n",
       "      <td>0.892243</td>\n",
       "      <td>-1.000000</td>\n",
       "      <td>0.559380</td>\n",
       "      <td>-1.000000</td>\n",
       "      <td>-0.013822</td>\n",
       "      <td>-0.333333</td>\n",
       "      <td>0.614105</td>\n",
       "      <td>-1.000000</td>\n",
       "      <td>0.686883</td>\n",
       "      <td>-1.000000</td>\n",
       "      <td>0.924401</td>\n",
       "      <td>-0.333333</td>\n",
       "      <td>0.897885</td>\n",
       "      <td>1.000000</td>\n",
       "    </tr>\n",
       "    <tr>\n",
       "      <th>80</th>\n",
       "      <td>-1.000000</td>\n",
       "      <td>0.559380</td>\n",
       "      <td>-1.000000</td>\n",
       "      <td>-0.013822</td>\n",
       "      <td>-0.333333</td>\n",
       "      <td>0.614105</td>\n",
       "      <td>-1.000000</td>\n",
       "      <td>0.686883</td>\n",
       "      <td>-1.000000</td>\n",
       "      <td>0.924401</td>\n",
       "      <td>-0.333333</td>\n",
       "      <td>0.897885</td>\n",
       "      <td>-1.000000</td>\n",
       "      <td>1.000000</td>\n",
       "      <td>0.801975</td>\n",
       "    </tr>\n",
       "  </tbody>\n",
       "</table>\n",
       "</div>"
      ],
      "text/plain": [
       "    var1(t-7)  var2(t-7)  var1(t-6)  var2(t-6)  var1(t-5)  var2(t-5)  \\\n",
       "76  -0.333333   0.339916  -0.333333   0.822285  -1.000000   0.737095   \n",
       "77  -0.333333   0.822285  -1.000000   0.737095  -0.333333   0.892243   \n",
       "78  -1.000000   0.737095  -0.333333   0.892243  -1.000000   0.559380   \n",
       "79  -0.333333   0.892243  -1.000000   0.559380  -1.000000  -0.013822   \n",
       "80  -1.000000   0.559380  -1.000000  -0.013822  -0.333333   0.614105   \n",
       "\n",
       "    var1(t-4)  var2(t-4)  var1(t-3)  var2(t-3)  var1(t-2)  var2(t-2)  \\\n",
       "76  -0.333333   0.892243  -1.000000   0.559380  -1.000000  -0.013822   \n",
       "77  -1.000000   0.559380  -1.000000  -0.013822  -0.333333   0.614105   \n",
       "78  -1.000000  -0.013822  -0.333333   0.614105  -1.000000   0.686883   \n",
       "79  -0.333333   0.614105  -1.000000   0.686883  -1.000000   0.924401   \n",
       "80  -1.000000   0.686883  -1.000000   0.924401  -0.333333   0.897885   \n",
       "\n",
       "    var1(t-1)  var2(t-1)   var2(t)  \n",
       "76  -0.333333   0.614105  0.686883  \n",
       "77  -1.000000   0.686883  0.924401  \n",
       "78  -1.000000   0.924401  0.897885  \n",
       "79  -0.333333   0.897885  1.000000  \n",
       "80  -1.000000   1.000000  0.801975  "
      ]
     },
     "execution_count": 23,
     "metadata": {},
     "output_type": "execute_result"
    }
   ],
   "source": [
    "#unimos los datos del ine con los de twitter\n",
    "reframed = pd.concat([reframed_twt.iloc[:, 0], reframed_ine.iloc[:, 0]], axis=1)\n",
    "\n",
    "for i in range(6):\n",
    "    reframed = pd.concat([reframed, reframed_twt.iloc[:, i+1]], axis=1)\n",
    "    reframed = pd.concat([reframed, reframed_ine.iloc[:, i+1]], axis=1)\n",
    "    \n",
    "reframed = pd.concat([reframed, reframed_ine.iloc[:, 7]], axis=1)\n",
    "\n",
    "reframed.tail()"
   ]
  },
  {
   "cell_type": "markdown",
   "metadata": {},
   "source": [
    "# Dividimos los datos en sets de entrenamiento y validacion"
   ]
  },
  {
   "cell_type": "code",
   "execution_count": 24,
   "metadata": {},
   "outputs": [
    {
     "name": "stdout",
     "output_type": "stream",
     "text": [
      "(54, 1, 14) (54,) (20, 1, 14) (20,)\n"
     ]
    }
   ],
   "source": [
    "#dividimos nuestro valores entre sets de entrenamiento y de test\n",
    "values = reframed.values\n",
    "n_train_days = 71 - (10+look_back)\n",
    "train = values[:n_train_days, :]\n",
    "test = values[n_train_days:, :]\n",
    "\n",
    "# split into input and outputs\n",
    "x_train, y_train = train[:, :-1], train[:, -1]\n",
    "x_val, y_val = test[:, :-1], test[:, -1]\n",
    "\n",
    "# reshape input to be 3D [samples, timesteps, features] - preguntar\n",
    "x_train = x_train.reshape((x_train.shape[0], 1, x_train.shape[1]))\n",
    "x_val = x_val.reshape((x_val.shape[0], 1, x_val.shape[1]))\n",
    "print(x_train.shape, y_train.shape, x_val.shape, y_val.shape)"
   ]
  },
  {
   "cell_type": "markdown",
   "metadata": {},
   "source": [
    "# Creamos la red neuronal"
   ]
  },
  {
   "cell_type": "code",
   "execution_count": 25,
   "metadata": {},
   "outputs": [],
   "source": [
    "def crear_modeloFF():\n",
    "    model = Sequential() \n",
    "    model.add(Dense(look_back, input_shape=(1,look_back*2),activation='tanh'))\n",
    "    model.add(Flatten())\n",
    "    model.add(Dense(100, activation='tanh'))\n",
    "    model.add(Dropout(0.30))\n",
    "    model.add(Dense(100, activation='tanh'))\n",
    "    model.add(Dropout(0.30))\n",
    "    model.add(Dense(100, activation='tanh'))\n",
    "    model.add(Dropout(0.30))\n",
    "    model.add(Dense(100, activation='tanh'))\n",
    "    model.add(Dropout(0.30))\n",
    "    model.add(Dense(1, activation='tanh'))\n",
    "    model.compile(loss='mean_absolute_error',optimizer='Adam',metrics=[\"mse\"])\n",
    "    model.summary()\n",
    "    return model"
   ]
  },
  {
   "cell_type": "code",
   "execution_count": 26,
   "metadata": {},
   "outputs": [
    {
     "name": "stdout",
     "output_type": "stream",
     "text": [
      "Model: \"sequential\"\n",
      "_________________________________________________________________\n",
      "Layer (type)                 Output Shape              Param #   \n",
      "=================================================================\n",
      "dense (Dense)                (None, 1, 7)              105       \n",
      "_________________________________________________________________\n",
      "flatten (Flatten)            (None, 7)                 0         \n",
      "_________________________________________________________________\n",
      "dense_1 (Dense)              (None, 100)               800       \n",
      "_________________________________________________________________\n",
      "dropout (Dropout)            (None, 100)               0         \n",
      "_________________________________________________________________\n",
      "dense_2 (Dense)              (None, 100)               10100     \n",
      "_________________________________________________________________\n",
      "dropout_1 (Dropout)          (None, 100)               0         \n",
      "_________________________________________________________________\n",
      "dense_3 (Dense)              (None, 100)               10100     \n",
      "_________________________________________________________________\n",
      "dropout_2 (Dropout)          (None, 100)               0         \n",
      "_________________________________________________________________\n",
      "dense_4 (Dense)              (None, 100)               10100     \n",
      "_________________________________________________________________\n",
      "dropout_3 (Dropout)          (None, 100)               0         \n",
      "_________________________________________________________________\n",
      "dense_5 (Dense)              (None, 1)                 101       \n",
      "=================================================================\n",
      "Total params: 31,306\n",
      "Trainable params: 31,306\n",
      "Non-trainable params: 0\n",
      "_________________________________________________________________\n",
      "Epoch 1/200\n",
      "8/8 [==============================] - 3s 302ms/step - loss: 0.4382 - mse: 0.2821 - val_loss: 0.3230 - val_mse: 0.1369\n",
      "Epoch 2/200\n",
      "8/8 [==============================] - 0s 13ms/step - loss: 0.4241 - mse: 0.2501 - val_loss: 0.2140 - val_mse: 0.0810\n",
      "Epoch 3/200\n",
      "8/8 [==============================] - 0s 13ms/step - loss: 0.3530 - mse: 0.2138 - val_loss: 0.2180 - val_mse: 0.0772\n",
      "Epoch 4/200\n",
      "8/8 [==============================] - 0s 15ms/step - loss: 0.3974 - mse: 0.2255 - val_loss: 0.2844 - val_mse: 0.1042\n",
      "Epoch 5/200\n",
      "8/8 [==============================] - 0s 13ms/step - loss: 0.4085 - mse: 0.3403 - val_loss: 0.3522 - val_mse: 0.1602\n",
      "Epoch 6/200\n",
      "8/8 [==============================] - 0s 14ms/step - loss: 0.4365 - mse: 0.2980 - val_loss: 0.2512 - val_mse: 0.0962\n",
      "Epoch 7/200\n",
      "8/8 [==============================] - 0s 13ms/step - loss: 0.3300 - mse: 0.1557 - val_loss: 0.2307 - val_mse: 0.0795\n",
      "Epoch 8/200\n",
      "8/8 [==============================] - 0s 15ms/step - loss: 0.3376 - mse: 0.1990 - val_loss: 0.3547 - val_mse: 0.1522\n",
      "Epoch 9/200\n",
      "8/8 [==============================] - 0s 14ms/step - loss: 0.3792 - mse: 0.2296 - val_loss: 0.4259 - val_mse: 0.2086\n",
      "Epoch 10/200\n",
      "8/8 [==============================] - 0s 13ms/step - loss: 0.3989 - mse: 0.2385 - val_loss: 0.4244 - val_mse: 0.2044\n",
      "Epoch 11/200\n",
      "8/8 [==============================] - 0s 15ms/step - loss: 0.3245 - mse: 0.1731 - val_loss: 0.3850 - val_mse: 0.1755\n",
      "Epoch 12/200\n",
      "8/8 [==============================] - 0s 13ms/step - loss: 0.3012 - mse: 0.1340 - val_loss: 0.2678 - val_mse: 0.0969\n",
      "Epoch 13/200\n",
      "8/8 [==============================] - 0s 15ms/step - loss: 0.3446 - mse: 0.2076 - val_loss: 0.2090 - val_mse: 0.0709\n",
      "Epoch 14/200\n",
      "8/8 [==============================] - 0s 14ms/step - loss: 0.3311 - mse: 0.1784 - val_loss: 0.2576 - val_mse: 0.0927\n",
      "Epoch 15/200\n",
      "8/8 [==============================] - 0s 13ms/step - loss: 0.3003 - mse: 0.1475 - val_loss: 0.3367 - val_mse: 0.1341\n",
      "Epoch 16/200\n",
      "8/8 [==============================] - 0s 14ms/step - loss: 0.3251 - mse: 0.1517 - val_loss: 0.2498 - val_mse: 0.0878\n",
      "Epoch 17/200\n",
      "8/8 [==============================] - 0s 15ms/step - loss: 0.3548 - mse: 0.2033 - val_loss: 0.2230 - val_mse: 0.0775\n",
      "Epoch 18/200\n",
      "8/8 [==============================] - 0s 10ms/step - loss: 0.3241 - mse: 0.1775 - val_loss: 0.2367 - val_mse: 0.0789\n",
      "Epoch 19/200\n",
      "8/8 [==============================] - 0s 9ms/step - loss: 0.3665 - mse: 0.2130 - val_loss: 0.2841 - val_mse: 0.1032\n",
      "Epoch 20/200\n",
      "8/8 [==============================] - 0s 8ms/step - loss: 0.3033 - mse: 0.1420 - val_loss: 0.2669 - val_mse: 0.0959\n",
      "Epoch 21/200\n",
      "8/8 [==============================] - 0s 8ms/step - loss: 0.3168 - mse: 0.1569 - val_loss: 0.2790 - val_mse: 0.1020\n",
      "Epoch 22/200\n",
      "8/8 [==============================] - 0s 9ms/step - loss: 0.2795 - mse: 0.1202 - val_loss: 0.2242 - val_mse: 0.0784\n",
      "Epoch 23/200\n",
      "8/8 [==============================] - 0s 8ms/step - loss: 0.3280 - mse: 0.1694 - val_loss: 0.2182 - val_mse: 0.0749\n",
      "Epoch 24/200\n",
      "8/8 [==============================] - 0s 8ms/step - loss: 0.3614 - mse: 0.1973 - val_loss: 0.2329 - val_mse: 0.0766\n",
      "Epoch 25/200\n",
      "8/8 [==============================] - 0s 8ms/step - loss: 0.2731 - mse: 0.1006 - val_loss: 0.2377 - val_mse: 0.0770\n",
      "Epoch 26/200\n",
      "8/8 [==============================] - ETA: 0s - loss: 0.2361 - mse: 0.108 - 0s 7ms/step - loss: 0.3025 - mse: 0.1639 - val_loss: 0.2407 - val_mse: 0.0809\n",
      "Epoch 27/200\n",
      "8/8 [==============================] - 0s 10ms/step - loss: 0.3737 - mse: 0.2291 - val_loss: 0.2753 - val_mse: 0.0960\n",
      "Epoch 28/200\n",
      "8/8 [==============================] - 0s 8ms/step - loss: 0.3204 - mse: 0.1732 - val_loss: 0.3314 - val_mse: 0.1320\n",
      "Epoch 29/200\n",
      "8/8 [==============================] - 0s 8ms/step - loss: 0.3929 - mse: 0.2095 - val_loss: 0.3052 - val_mse: 0.1143\n",
      "Epoch 30/200\n",
      "8/8 [==============================] - 0s 9ms/step - loss: 0.3679 - mse: 0.2136 - val_loss: 0.2386 - val_mse: 0.0837\n",
      "Epoch 31/200\n",
      "8/8 [==============================] - 0s 9ms/step - loss: 0.3634 - mse: 0.1847 - val_loss: 0.2087 - val_mse: 0.0720\n",
      "Epoch 32/200\n",
      "8/8 [==============================] - 0s 10ms/step - loss: 0.3271 - mse: 0.1643 - val_loss: 0.2081 - val_mse: 0.0686\n",
      "Epoch 33/200\n",
      "8/8 [==============================] - 0s 9ms/step - loss: 0.3060 - mse: 0.1528 - val_loss: 0.2544 - val_mse: 0.0838\n",
      "Epoch 34/200\n",
      "8/8 [==============================] - 0s 9ms/step - loss: 0.2770 - mse: 0.1355 - val_loss: 0.2559 - val_mse: 0.0902\n",
      "Epoch 35/200\n",
      "8/8 [==============================] - 0s 9ms/step - loss: 0.3429 - mse: 0.1844 - val_loss: 0.2544 - val_mse: 0.0884\n",
      "Epoch 36/200\n",
      "8/8 [==============================] - 0s 9ms/step - loss: 0.2947 - mse: 0.1449 - val_loss: 0.2523 - val_mse: 0.0864\n",
      "Epoch 37/200\n",
      "8/8 [==============================] - 0s 10ms/step - loss: 0.3229 - mse: 0.1491 - val_loss: 0.2988 - val_mse: 0.1098\n",
      "Epoch 38/200\n",
      "8/8 [==============================] - 0s 9ms/step - loss: 0.3040 - mse: 0.1304 - val_loss: 0.2804 - val_mse: 0.0978\n",
      "Epoch 39/200\n",
      "8/8 [==============================] - 0s 9ms/step - loss: 0.2891 - mse: 0.1307 - val_loss: 0.2528 - val_mse: 0.0863\n",
      "Epoch 40/200\n",
      "8/8 [==============================] - 0s 9ms/step - loss: 0.2889 - mse: 0.1712 - val_loss: 0.2309 - val_mse: 0.0806\n",
      "Epoch 41/200\n",
      "8/8 [==============================] - 0s 9ms/step - loss: 0.2792 - mse: 0.1378 - val_loss: 0.2560 - val_mse: 0.0896\n",
      "Epoch 42/200\n",
      "8/8 [==============================] - 0s 7ms/step - loss: 0.2926 - mse: 0.1495 - val_loss: 0.2543 - val_mse: 0.0853\n",
      "Epoch 43/200\n",
      "8/8 [==============================] - 0s 7ms/step - loss: 0.3331 - mse: 0.1725 - val_loss: 0.2157 - val_mse: 0.0689\n",
      "Epoch 44/200\n",
      "8/8 [==============================] - 0s 9ms/step - loss: 0.3123 - mse: 0.1596 - val_loss: 0.2213 - val_mse: 0.0696\n",
      "Epoch 45/200\n",
      "8/8 [==============================] - 0s 8ms/step - loss: 0.2870 - mse: 0.1375 - val_loss: 0.2203 - val_mse: 0.0663\n",
      "Epoch 46/200\n",
      "8/8 [==============================] - 0s 10ms/step - loss: 0.3452 - mse: 0.1690 - val_loss: 0.1988 - val_mse: 0.0619\n",
      "Epoch 47/200\n",
      "8/8 [==============================] - 0s 7ms/step - loss: 0.2778 - mse: 0.1110 - val_loss: 0.2369 - val_mse: 0.0766\n",
      "Epoch 48/200\n",
      "8/8 [==============================] - 0s 8ms/step - loss: 0.2568 - mse: 0.1096 - val_loss: 0.2589 - val_mse: 0.0845\n",
      "Epoch 49/200\n",
      "8/8 [==============================] - 0s 8ms/step - loss: 0.2590 - mse: 0.1016 - val_loss: 0.2473 - val_mse: 0.0779\n"
     ]
    },
    {
     "name": "stdout",
     "output_type": "stream",
     "text": [
      "Epoch 50/200\n",
      "8/8 [==============================] - 0s 8ms/step - loss: 0.2577 - mse: 0.1175 - val_loss: 0.2233 - val_mse: 0.0697\n",
      "Epoch 51/200\n",
      "8/8 [==============================] - 0s 7ms/step - loss: 0.3310 - mse: 0.1622 - val_loss: 0.2269 - val_mse: 0.0700\n",
      "Epoch 52/200\n",
      "8/8 [==============================] - 0s 8ms/step - loss: 0.2473 - mse: 0.0953 - val_loss: 0.2532 - val_mse: 0.0811\n",
      "Epoch 53/200\n",
      "8/8 [==============================] - 0s 8ms/step - loss: 0.2518 - mse: 0.1184 - val_loss: 0.2123 - val_mse: 0.0653\n",
      "Epoch 54/200\n",
      "8/8 [==============================] - 0s 9ms/step - loss: 0.2556 - mse: 0.1316 - val_loss: 0.1976 - val_mse: 0.0614\n",
      "Epoch 55/200\n",
      "8/8 [==============================] - 0s 9ms/step - loss: 0.3244 - mse: 0.1592 - val_loss: 0.2084 - val_mse: 0.0646\n",
      "Epoch 56/200\n",
      "8/8 [==============================] - 0s 7ms/step - loss: 0.2631 - mse: 0.1159 - val_loss: 0.2283 - val_mse: 0.0678\n",
      "Epoch 57/200\n",
      "8/8 [==============================] - 0s 8ms/step - loss: 0.2616 - mse: 0.1141 - val_loss: 0.2831 - val_mse: 0.0954\n",
      "Epoch 58/200\n",
      "8/8 [==============================] - 0s 8ms/step - loss: 0.2747 - mse: 0.1243 - val_loss: 0.2658 - val_mse: 0.0847\n",
      "Epoch 59/200\n",
      "8/8 [==============================] - 0s 8ms/step - loss: 0.2588 - mse: 0.1275 - val_loss: 0.2160 - val_mse: 0.0678\n",
      "Epoch 60/200\n",
      "8/8 [==============================] - 0s 10ms/step - loss: 0.2783 - mse: 0.1258 - val_loss: 0.2086 - val_mse: 0.0699\n",
      "Epoch 61/200\n",
      "8/8 [==============================] - 0s 7ms/step - loss: 0.2694 - mse: 0.1122 - val_loss: 0.2010 - val_mse: 0.0652\n",
      "Epoch 62/200\n",
      "8/8 [==============================] - 0s 8ms/step - loss: 0.3261 - mse: 0.1683 - val_loss: 0.1997 - val_mse: 0.0696\n",
      "Epoch 63/200\n",
      "8/8 [==============================] - 0s 7ms/step - loss: 0.2908 - mse: 0.1454 - val_loss: 0.2026 - val_mse: 0.0675\n",
      "Epoch 64/200\n",
      "8/8 [==============================] - 0s 8ms/step - loss: 0.2939 - mse: 0.1403 - val_loss: 0.2203 - val_mse: 0.0653\n",
      "Epoch 65/200\n",
      "8/8 [==============================] - 0s 8ms/step - loss: 0.3105 - mse: 0.1594 - val_loss: 0.2168 - val_mse: 0.0663\n",
      "Epoch 66/200\n",
      "8/8 [==============================] - 0s 9ms/step - loss: 0.2616 - mse: 0.0974 - val_loss: 0.2346 - val_mse: 0.0733\n",
      "Epoch 67/200\n",
      "8/8 [==============================] - 0s 10ms/step - loss: 0.2545 - mse: 0.1095 - val_loss: 0.2121 - val_mse: 0.0663\n",
      "Epoch 68/200\n",
      "8/8 [==============================] - 0s 8ms/step - loss: 0.2491 - mse: 0.1026 - val_loss: 0.1881 - val_mse: 0.0647\n",
      "Epoch 69/200\n",
      "8/8 [==============================] - 0s 8ms/step - loss: 0.2578 - mse: 0.1037 - val_loss: 0.1945 - val_mse: 0.0601\n",
      "Epoch 70/200\n",
      "8/8 [==============================] - 0s 8ms/step - loss: 0.2453 - mse: 0.0916 - val_loss: 0.2357 - val_mse: 0.0712\n",
      "Epoch 71/200\n",
      "8/8 [==============================] - 0s 8ms/step - loss: 0.2801 - mse: 0.1124 - val_loss: 0.2072 - val_mse: 0.0598\n",
      "Epoch 72/200\n",
      "8/8 [==============================] - 0s 10ms/step - loss: 0.2438 - mse: 0.0975 - val_loss: 0.1763 - val_mse: 0.0600\n",
      "Epoch 73/200\n",
      "8/8 [==============================] - 0s 9ms/step - loss: 0.2709 - mse: 0.1091 - val_loss: 0.1932 - val_mse: 0.0576\n",
      "Epoch 74/200\n",
      "8/8 [==============================] - 0s 8ms/step - loss: 0.2454 - mse: 0.0972 - val_loss: 0.2116 - val_mse: 0.0608\n",
      "Epoch 75/200\n",
      "8/8 [==============================] - 0s 8ms/step - loss: 0.2932 - mse: 0.1215 - val_loss: 0.2051 - val_mse: 0.0586\n",
      "Epoch 76/200\n",
      "8/8 [==============================] - 0s 7ms/step - loss: 0.3089 - mse: 0.1474 - val_loss: 0.1969 - val_mse: 0.0564\n",
      "Epoch 77/200\n",
      "8/8 [==============================] - 0s 8ms/step - loss: 0.2918 - mse: 0.1621 - val_loss: 0.1797 - val_mse: 0.0569\n",
      "Epoch 78/200\n",
      "8/8 [==============================] - 0s 10ms/step - loss: 0.2149 - mse: 0.0820 - val_loss: 0.2026 - val_mse: 0.0609\n",
      "Epoch 79/200\n",
      "8/8 [==============================] - 0s 9ms/step - loss: 0.2359 - mse: 0.0921 - val_loss: 0.1775 - val_mse: 0.0691\n",
      "Epoch 80/200\n",
      "8/8 [==============================] - 0s 8ms/step - loss: 0.2751 - mse: 0.1260 - val_loss: 0.1728 - val_mse: 0.0644\n",
      "Epoch 81/200\n",
      "8/8 [==============================] - 0s 8ms/step - loss: 0.2159 - mse: 0.0880 - val_loss: 0.1799 - val_mse: 0.0615\n",
      "Epoch 82/200\n",
      "8/8 [==============================] - 0s 9ms/step - loss: 0.2472 - mse: 0.1000 - val_loss: 0.1885 - val_mse: 0.0600\n",
      "Epoch 83/200\n",
      "8/8 [==============================] - 0s 9ms/step - loss: 0.2298 - mse: 0.0925 - val_loss: 0.2012 - val_mse: 0.0608\n",
      "Epoch 84/200\n",
      "8/8 [==============================] - 0s 8ms/step - loss: 0.2264 - mse: 0.0858 - val_loss: 0.1823 - val_mse: 0.0631\n",
      "Epoch 85/200\n",
      "8/8 [==============================] - 0s 9ms/step - loss: 0.2301 - mse: 0.0879 - val_loss: 0.1889 - val_mse: 0.0571\n",
      "Epoch 86/200\n",
      "8/8 [==============================] - 0s 8ms/step - loss: 0.2436 - mse: 0.1014 - val_loss: 0.1903 - val_mse: 0.0512\n",
      "Epoch 87/200\n",
      "8/8 [==============================] - 0s 8ms/step - loss: 0.2233 - mse: 0.0839 - val_loss: 0.1760 - val_mse: 0.0506\n",
      "Epoch 88/200\n",
      "8/8 [==============================] - 0s 7ms/step - loss: 0.2624 - mse: 0.1034 - val_loss: 0.1737 - val_mse: 0.0554\n",
      "Epoch 89/200\n",
      "8/8 [==============================] - 0s 8ms/step - loss: 0.2909 - mse: 0.1272 - val_loss: 0.1760 - val_mse: 0.0607\n",
      "Epoch 90/200\n",
      "8/8 [==============================] - 0s 9ms/step - loss: 0.2623 - mse: 0.1046 - val_loss: 0.1829 - val_mse: 0.0591\n",
      "Epoch 91/200\n",
      "8/8 [==============================] - 0s 10ms/step - loss: 0.2454 - mse: 0.0937 - val_loss: 0.1885 - val_mse: 0.0562\n",
      "Epoch 92/200\n",
      "8/8 [==============================] - 0s 9ms/step - loss: 0.2377 - mse: 0.0985 - val_loss: 0.1940 - val_mse: 0.0533\n",
      "Epoch 93/200\n",
      "8/8 [==============================] - 0s 8ms/step - loss: 0.2603 - mse: 0.1199 - val_loss: 0.2002 - val_mse: 0.0543\n",
      "Epoch 94/200\n",
      "8/8 [==============================] - 0s 8ms/step - loss: 0.3093 - mse: 0.1501 - val_loss: 0.1803 - val_mse: 0.0515\n",
      "Epoch 95/200\n",
      "8/8 [==============================] - 0s 8ms/step - loss: 0.1872 - mse: 0.0639 - val_loss: 0.1866 - val_mse: 0.0539\n",
      "Epoch 96/200\n",
      "8/8 [==============================] - 0s 8ms/step - loss: 0.2565 - mse: 0.1034 - val_loss: 0.1968 - val_mse: 0.0545\n",
      "Epoch 97/200\n",
      "8/8 [==============================] - 0s 7ms/step - loss: 0.2062 - mse: 0.0694 - val_loss: 0.1954 - val_mse: 0.0555\n",
      "Epoch 98/200\n",
      "8/8 [==============================] - 0s 8ms/step - loss: 0.2236 - mse: 0.0713 - val_loss: 0.1780 - val_mse: 0.0557\n",
      "Epoch 99/200\n",
      "8/8 [==============================] - 0s 8ms/step - loss: 0.2506 - mse: 0.0954 - val_loss: 0.1722 - val_mse: 0.0607\n",
      "Epoch 100/200\n",
      "8/8 [==============================] - 0s 8ms/step - loss: 0.2351 - mse: 0.0883 - val_loss: 0.1665 - val_mse: 0.0540\n",
      "Epoch 101/200\n",
      "8/8 [==============================] - 0s 7ms/step - loss: 0.2476 - mse: 0.1067 - val_loss: 0.1724 - val_mse: 0.0526\n",
      "Epoch 102/200\n",
      "8/8 [==============================] - 0s 8ms/step - loss: 0.2119 - mse: 0.0722 - val_loss: 0.1864 - val_mse: 0.0544\n",
      "Epoch 103/200\n",
      "8/8 [==============================] - 0s 7ms/step - loss: 0.1923 - mse: 0.0715 - val_loss: 0.2008 - val_mse: 0.0594\n",
      "Epoch 104/200\n",
      "8/8 [==============================] - 0s 7ms/step - loss: 0.2187 - mse: 0.0981 - val_loss: 0.1901 - val_mse: 0.0584\n",
      "Epoch 105/200\n",
      "8/8 [==============================] - 0s 8ms/step - loss: 0.2192 - mse: 0.0826 - val_loss: 0.1777 - val_mse: 0.0610\n",
      "Epoch 106/200\n",
      "8/8 [==============================] - 0s 8ms/step - loss: 0.2407 - mse: 0.0783 - val_loss: 0.1812 - val_mse: 0.0591\n",
      "Epoch 107/200\n",
      "8/8 [==============================] - 0s 7ms/step - loss: 0.2736 - mse: 0.1177 - val_loss: 0.1687 - val_mse: 0.0578\n",
      "Epoch 108/200\n",
      "8/8 [==============================] - 0s 8ms/step - loss: 0.2555 - mse: 0.1120 - val_loss: 0.2046 - val_mse: 0.0568\n",
      "Epoch 109/200\n",
      "8/8 [==============================] - 0s 9ms/step - loss: 0.1984 - mse: 0.0656 - val_loss: 0.1883 - val_mse: 0.0532\n",
      "Epoch 110/200\n",
      "8/8 [==============================] - 0s 9ms/step - loss: 0.2304 - mse: 0.0817 - val_loss: 0.1625 - val_mse: 0.0529\n",
      "Epoch 111/200\n",
      "8/8 [==============================] - 0s 9ms/step - loss: 0.2412 - mse: 0.0969 - val_loss: 0.1700 - val_mse: 0.0539\n",
      "Epoch 112/200\n",
      "8/8 [==============================] - 0s 8ms/step - loss: 0.2700 - mse: 0.1221 - val_loss: 0.1652 - val_mse: 0.0568\n"
     ]
    },
    {
     "name": "stdout",
     "output_type": "stream",
     "text": [
      "Epoch 113/200\n",
      "8/8 [==============================] - 0s 10ms/step - loss: 0.2240 - mse: 0.0882 - val_loss: 0.1707 - val_mse: 0.0613\n",
      "Epoch 114/200\n",
      "8/8 [==============================] - 0s 8ms/step - loss: 0.2257 - mse: 0.0835 - val_loss: 0.1873 - val_mse: 0.0561\n",
      "Epoch 115/200\n",
      "8/8 [==============================] - 0s 8ms/step - loss: 0.2116 - mse: 0.0727 - val_loss: 0.1651 - val_mse: 0.0546\n",
      "Epoch 116/200\n",
      "8/8 [==============================] - 0s 8ms/step - loss: 0.2626 - mse: 0.1157 - val_loss: 0.1677 - val_mse: 0.0500\n",
      "Epoch 117/200\n",
      "8/8 [==============================] - 0s 8ms/step - loss: 0.2163 - mse: 0.0720 - val_loss: 0.2035 - val_mse: 0.0531\n",
      "Epoch 118/200\n",
      "8/8 [==============================] - 0s 8ms/step - loss: 0.2311 - mse: 0.1029 - val_loss: 0.2203 - val_mse: 0.0580\n",
      "Epoch 119/200\n",
      "8/8 [==============================] - 0s 8ms/step - loss: 0.2313 - mse: 0.0890 - val_loss: 0.2160 - val_mse: 0.0559\n",
      "Epoch 120/200\n",
      "8/8 [==============================] - 0s 8ms/step - loss: 0.1732 - mse: 0.0568 - val_loss: 0.1940 - val_mse: 0.0517\n",
      "Epoch 121/200\n",
      "8/8 [==============================] - 0s 8ms/step - loss: 0.2718 - mse: 0.1138 - val_loss: 0.1616 - val_mse: 0.0529\n",
      "Epoch 122/200\n",
      "8/8 [==============================] - 0s 11ms/step - loss: 0.1939 - mse: 0.0559 - val_loss: 0.1691 - val_mse: 0.0505\n",
      "Epoch 123/200\n",
      "8/8 [==============================] - 0s 8ms/step - loss: 0.2477 - mse: 0.1027 - val_loss: 0.2080 - val_mse: 0.0542\n",
      "Epoch 124/200\n",
      "8/8 [==============================] - 0s 7ms/step - loss: 0.2345 - mse: 0.0959 - val_loss: 0.1812 - val_mse: 0.0508\n",
      "Epoch 125/200\n",
      "8/8 [==============================] - 0s 8ms/step - loss: 0.2201 - mse: 0.0848 - val_loss: 0.1759 - val_mse: 0.0504\n",
      "Epoch 126/200\n",
      "8/8 [==============================] - 0s 7ms/step - loss: 0.1927 - mse: 0.0606 - val_loss: 0.1798 - val_mse: 0.0508\n",
      "Epoch 127/200\n",
      "8/8 [==============================] - 0s 8ms/step - loss: 0.1870 - mse: 0.0718 - val_loss: 0.1854 - val_mse: 0.0490\n",
      "Epoch 128/200\n",
      "8/8 [==============================] - 0s 8ms/step - loss: 0.2326 - mse: 0.0916 - val_loss: 0.1672 - val_mse: 0.0469\n",
      "Epoch 129/200\n",
      "8/8 [==============================] - 0s 10ms/step - loss: 0.2091 - mse: 0.0688 - val_loss: 0.1689 - val_mse: 0.0481\n",
      "Epoch 130/200\n",
      "8/8 [==============================] - 0s 9ms/step - loss: 0.2183 - mse: 0.0723 - val_loss: 0.1941 - val_mse: 0.0488\n",
      "Epoch 131/200\n",
      "8/8 [==============================] - 0s 9ms/step - loss: 0.2167 - mse: 0.0724 - val_loss: 0.1780 - val_mse: 0.0508\n",
      "Epoch 132/200\n",
      "8/8 [==============================] - 0s 8ms/step - loss: 0.2079 - mse: 0.0758 - val_loss: 0.1658 - val_mse: 0.0605\n",
      "Epoch 133/200\n",
      "8/8 [==============================] - 0s 8ms/step - loss: 0.2310 - mse: 0.0860 - val_loss: 0.1644 - val_mse: 0.0589\n",
      "Epoch 134/200\n",
      "8/8 [==============================] - 0s 9ms/step - loss: 0.2310 - mse: 0.0982 - val_loss: 0.1973 - val_mse: 0.0548\n",
      "Epoch 135/200\n",
      "8/8 [==============================] - 0s 10ms/step - loss: 0.2351 - mse: 0.0922 - val_loss: 0.2172 - val_mse: 0.0594\n",
      "Epoch 136/200\n",
      "8/8 [==============================] - 0s 9ms/step - loss: 0.2252 - mse: 0.0830 - val_loss: 0.2044 - val_mse: 0.0558\n",
      "Epoch 137/200\n",
      "8/8 [==============================] - 0s 9ms/step - loss: 0.2430 - mse: 0.1057 - val_loss: 0.1738 - val_mse: 0.0530\n",
      "Epoch 138/200\n",
      "8/8 [==============================] - 0s 9ms/step - loss: 0.2409 - mse: 0.0917 - val_loss: 0.1762 - val_mse: 0.0546\n",
      "Epoch 139/200\n",
      "8/8 [==============================] - 0s 8ms/step - loss: 0.1735 - mse: 0.0574 - val_loss: 0.1827 - val_mse: 0.0566\n",
      "Epoch 140/200\n",
      "8/8 [==============================] - 0s 8ms/step - loss: 0.2486 - mse: 0.0971 - val_loss: 0.1871 - val_mse: 0.0585\n",
      "Epoch 141/200\n",
      "8/8 [==============================] - 0s 8ms/step - loss: 0.2596 - mse: 0.1080 - val_loss: 0.1974 - val_mse: 0.0573\n",
      "Epoch 142/200\n",
      "8/8 [==============================] - 0s 8ms/step - loss: 0.2378 - mse: 0.0831 - val_loss: 0.1911 - val_mse: 0.0536\n",
      "Epoch 143/200\n",
      "8/8 [==============================] - 0s 10ms/step - loss: 0.2070 - mse: 0.0658 - val_loss: 0.1769 - val_mse: 0.0511\n",
      "Epoch 144/200\n",
      "8/8 [==============================] - 0s 9ms/step - loss: 0.2361 - mse: 0.1011 - val_loss: 0.1738 - val_mse: 0.0522\n",
      "Epoch 145/200\n",
      "8/8 [==============================] - 0s 9ms/step - loss: 0.2207 - mse: 0.0819 - val_loss: 0.1666 - val_mse: 0.0548\n",
      "Epoch 146/200\n",
      "8/8 [==============================] - 0s 9ms/step - loss: 0.2031 - mse: 0.0643 - val_loss: 0.1652 - val_mse: 0.0554\n",
      "Epoch 147/200\n",
      "8/8 [==============================] - 0s 8ms/step - loss: 0.2147 - mse: 0.0926 - val_loss: 0.1604 - val_mse: 0.0573\n",
      "Epoch 148/200\n",
      "8/8 [==============================] - 0s 10ms/step - loss: 0.1986 - mse: 0.0739 - val_loss: 0.1708 - val_mse: 0.0524\n",
      "Epoch 149/200\n",
      "8/8 [==============================] - 0s 8ms/step - loss: 0.2403 - mse: 0.0899 - val_loss: 0.2404 - val_mse: 0.0670\n",
      "Epoch 150/200\n",
      "8/8 [==============================] - 0s 8ms/step - loss: 0.2225 - mse: 0.0853 - val_loss: 0.2381 - val_mse: 0.0659\n",
      "Epoch 151/200\n",
      "8/8 [==============================] - 0s 9ms/step - loss: 0.2472 - mse: 0.1064 - val_loss: 0.1971 - val_mse: 0.0551\n",
      "Epoch 152/200\n",
      "8/8 [==============================] - 0s 11ms/step - loss: 0.2506 - mse: 0.1111 - val_loss: 0.1718 - val_mse: 0.0572\n",
      "Epoch 153/200\n",
      "8/8 [==============================] - 0s 10ms/step - loss: 0.2060 - mse: 0.0742 - val_loss: 0.1661 - val_mse: 0.0617\n",
      "Epoch 154/200\n",
      "8/8 [==============================] - 0s 9ms/step - loss: 0.2575 - mse: 0.1147 - val_loss: 0.1695 - val_mse: 0.0551\n",
      "Epoch 155/200\n",
      "8/8 [==============================] - 0s 9ms/step - loss: 0.2284 - mse: 0.1022 - val_loss: 0.1759 - val_mse: 0.0548\n",
      "Epoch 156/200\n",
      "8/8 [==============================] - 0s 10ms/step - loss: 0.2104 - mse: 0.0721 - val_loss: 0.1773 - val_mse: 0.0567\n",
      "Epoch 157/200\n",
      "8/8 [==============================] - 0s 9ms/step - loss: 0.2500 - mse: 0.0984 - val_loss: 0.2021 - val_mse: 0.0578\n",
      "Epoch 158/200\n",
      "8/8 [==============================] - 0s 10ms/step - loss: 0.2260 - mse: 0.0819 - val_loss: 0.1808 - val_mse: 0.0566\n",
      "Epoch 159/200\n",
      "8/8 [==============================] - 0s 8ms/step - loss: 0.2250 - mse: 0.0959 - val_loss: 0.1974 - val_mse: 0.0548\n",
      "Epoch 160/200\n",
      "8/8 [==============================] - 0s 8ms/step - loss: 0.1909 - mse: 0.0575 - val_loss: 0.2156 - val_mse: 0.0577\n",
      "Epoch 161/200\n",
      "8/8 [==============================] - 0s 8ms/step - loss: 0.2143 - mse: 0.0890 - val_loss: 0.1971 - val_mse: 0.0554\n",
      "Epoch 162/200\n",
      "8/8 [==============================] - 0s 9ms/step - loss: 0.1939 - mse: 0.0652 - val_loss: 0.1688 - val_mse: 0.0595\n",
      "Epoch 163/200\n",
      "8/8 [==============================] - 0s 8ms/step - loss: 0.2221 - mse: 0.0889 - val_loss: 0.1693 - val_mse: 0.0594\n",
      "Epoch 164/200\n",
      "8/8 [==============================] - 0s 8ms/step - loss: 0.2446 - mse: 0.0971 - val_loss: 0.2121 - val_mse: 0.0579\n",
      "Epoch 165/200\n",
      "8/8 [==============================] - 0s 7ms/step - loss: 0.2811 - mse: 0.1394 - val_loss: 0.2180 - val_mse: 0.0592\n",
      "Epoch 166/200\n",
      "8/8 [==============================] - 0s 8ms/step - loss: 0.2275 - mse: 0.0831 - val_loss: 0.1712 - val_mse: 0.0572\n",
      "Epoch 167/200\n",
      "8/8 [==============================] - 0s 9ms/step - loss: 0.2211 - mse: 0.0802 - val_loss: 0.1774 - val_mse: 0.0547\n",
      "Epoch 168/200\n",
      "8/8 [==============================] - 0s 8ms/step - loss: 0.2007 - mse: 0.0664 - val_loss: 0.1663 - val_mse: 0.0587\n",
      "Epoch 169/200\n",
      "8/8 [==============================] - 0s 7ms/step - loss: 0.2420 - mse: 0.0867 - val_loss: 0.1722 - val_mse: 0.0544\n",
      "Epoch 170/200\n",
      "8/8 [==============================] - 0s 7ms/step - loss: 0.2490 - mse: 0.1026 - val_loss: 0.1737 - val_mse: 0.0527\n",
      "Epoch 171/200\n",
      "8/8 [==============================] - 0s 8ms/step - loss: 0.1838 - mse: 0.0586 - val_loss: 0.1952 - val_mse: 0.0528\n",
      "Epoch 172/200\n",
      "8/8 [==============================] - 0s 8ms/step - loss: 0.2413 - mse: 0.0835 - val_loss: 0.1652 - val_mse: 0.0528\n",
      "Epoch 173/200\n",
      "8/8 [==============================] - 0s 8ms/step - loss: 0.2179 - mse: 0.0787 - val_loss: 0.1875 - val_mse: 0.0509\n",
      "Epoch 174/200\n",
      "8/8 [==============================] - 0s 8ms/step - loss: 0.1853 - mse: 0.0624 - val_loss: 0.2065 - val_mse: 0.0542\n",
      "Epoch 175/200\n"
     ]
    },
    {
     "name": "stdout",
     "output_type": "stream",
     "text": [
      "8/8 [==============================] - 0s 8ms/step - loss: 0.2311 - mse: 0.0929 - val_loss: 0.1937 - val_mse: 0.0536\n",
      "Epoch 176/200\n",
      "8/8 [==============================] - 0s 7ms/step - loss: 0.2242 - mse: 0.0802 - val_loss: 0.1598 - val_mse: 0.0565\n",
      "Epoch 177/200\n",
      "8/8 [==============================] - 0s 8ms/step - loss: 0.2362 - mse: 0.0870 - val_loss: 0.1703 - val_mse: 0.0689\n",
      "Epoch 178/200\n",
      "8/8 [==============================] - 0s 8ms/step - loss: 0.2203 - mse: 0.0851 - val_loss: 0.1610 - val_mse: 0.0587\n",
      "Epoch 179/200\n",
      "8/8 [==============================] - 0s 7ms/step - loss: 0.2083 - mse: 0.0774 - val_loss: 0.1927 - val_mse: 0.0538\n",
      "Epoch 180/200\n",
      "8/8 [==============================] - 0s 8ms/step - loss: 0.2167 - mse: 0.0871 - val_loss: 0.1693 - val_mse: 0.0573\n",
      "Epoch 181/200\n",
      "8/8 [==============================] - 0s 8ms/step - loss: 0.2389 - mse: 0.1028 - val_loss: 0.1700 - val_mse: 0.0555\n",
      "Epoch 182/200\n",
      "8/8 [==============================] - 0s 8ms/step - loss: 0.1817 - mse: 0.0762 - val_loss: 0.1808 - val_mse: 0.0536\n",
      "Epoch 183/200\n",
      "8/8 [==============================] - 0s 9ms/step - loss: 0.1801 - mse: 0.0660 - val_loss: 0.1831 - val_mse: 0.0529\n",
      "Epoch 184/200\n",
      "8/8 [==============================] - 0s 8ms/step - loss: 0.1752 - mse: 0.0602 - val_loss: 0.2050 - val_mse: 0.0544\n",
      "Epoch 185/200\n",
      "8/8 [==============================] - 0s 8ms/step - loss: 0.2013 - mse: 0.0679 - val_loss: 0.1736 - val_mse: 0.0510\n",
      "Epoch 186/200\n",
      "8/8 [==============================] - 0s 9ms/step - loss: 0.1744 - mse: 0.0549 - val_loss: 0.2005 - val_mse: 0.0525\n",
      "Epoch 187/200\n",
      "8/8 [==============================] - 0s 9ms/step - loss: 0.2557 - mse: 0.0986 - val_loss: 0.1703 - val_mse: 0.0491\n",
      "Epoch 188/200\n",
      "8/8 [==============================] - 0s 9ms/step - loss: 0.2272 - mse: 0.0942 - val_loss: 0.1663 - val_mse: 0.0494\n",
      "Epoch 189/200\n",
      "8/8 [==============================] - 0s 8ms/step - loss: 0.2240 - mse: 0.0873 - val_loss: 0.1756 - val_mse: 0.0478\n",
      "Epoch 190/200\n",
      "8/8 [==============================] - 0s 8ms/step - loss: 0.2012 - mse: 0.0701 - val_loss: 0.1717 - val_mse: 0.0479\n",
      "Epoch 191/200\n",
      "8/8 [==============================] - 0s 8ms/step - loss: 0.1785 - mse: 0.0548 - val_loss: 0.1691 - val_mse: 0.0475\n",
      "Epoch 192/200\n",
      "8/8 [==============================] - 0s 8ms/step - loss: 0.1785 - mse: 0.0617 - val_loss: 0.1737 - val_mse: 0.0468\n",
      "Epoch 193/200\n",
      "8/8 [==============================] - 0s 8ms/step - loss: 0.2114 - mse: 0.0805 - val_loss: 0.2226 - val_mse: 0.0589\n",
      "Epoch 194/200\n",
      "8/8 [==============================] - 0s 10ms/step - loss: 0.2093 - mse: 0.0684 - val_loss: 0.1821 - val_mse: 0.0458\n",
      "Epoch 195/200\n",
      "8/8 [==============================] - 0s 12ms/step - loss: 0.1650 - mse: 0.0471 - val_loss: 0.1529 - val_mse: 0.0480\n",
      "Epoch 196/200\n",
      "8/8 [==============================] - 0s 8ms/step - loss: 0.1583 - mse: 0.0510 - val_loss: 0.1637 - val_mse: 0.0456\n",
      "Epoch 197/200\n",
      "8/8 [==============================] - 0s 9ms/step - loss: 0.1955 - mse: 0.0711 - val_loss: 0.1736 - val_mse: 0.0441\n",
      "Epoch 198/200\n",
      "8/8 [==============================] - 0s 12ms/step - loss: 0.2181 - mse: 0.0892 - val_loss: 0.1857 - val_mse: 0.0465\n",
      "Epoch 199/200\n",
      "8/8 [==============================] - 0s 9ms/step - loss: 0.1884 - mse: 0.0552 - val_loss: 0.1748 - val_mse: 0.0460\n",
      "Epoch 200/200\n",
      "8/8 [==============================] - 0s 11ms/step - loss: 0.2068 - mse: 0.0815 - val_loss: 0.1778 - val_mse: 0.0454\n"
     ]
    }
   ],
   "source": [
    "EPOCHS=200\n",
    "\n",
    "model = crear_modeloFF()\n",
    "\n",
    "history=model.fit(x_train,y_train,epochs=EPOCHS,validation_data=(x_val,y_val),batch_size=look_back)"
   ]
  },
  {
   "cell_type": "markdown",
   "metadata": {},
   "source": [
    "# Visualizamos resultados"
   ]
  },
  {
   "cell_type": "code",
   "execution_count": 27,
   "metadata": {},
   "outputs": [],
   "source": [
    "def mape(actual, pred): \n",
    "    actual, pred = np.array(actual), np.array(pred)\n",
    "    return np.mean(np.abs((actual - pred) / actual)) * 100\n",
    "\n",
    "\n",
    "def compute_metrics_fn(y_valid_resc, y_hat_resc):\n",
    "    mae_ = mean_absolute_error(y_valid_resc, y_hat_resc)\n",
    "    mse_ = mean_squared_error(y_valid_resc, y_hat_resc)\n",
    "    rmse_ = mean_squared_error(y_valid_resc, y_hat_resc, squared = False)\n",
    "    cvrmse_ = rmse_/np.mean(y_valid_resc)*100\n",
    "    mape_ = mape(y_valid_resc, y_hat_resc)\n",
    "    \n",
    "    return mae_, mse_, rmse_, cvrmse_, mape_"
   ]
  },
  {
   "cell_type": "code",
   "execution_count": 28,
   "metadata": {},
   "outputs": [],
   "source": [
    "# hacemos las predicciones\n",
    "trainPredict = model.predict(x_train)\n",
    "testPredict = model.predict(x_val)\n",
    "\n",
    "# invertimos las predicciones\n",
    "trainPredict = scaler.inverse_transform(trainPredict)\n",
    "trainY = y_train.reshape(y_train.shape[0], 1)\n",
    "trainY_scalerInverse = scaler.inverse_transform(trainY)\n",
    "testPredict = scaler.inverse_transform(testPredict)\n",
    "testY = y_val.reshape(y_val.shape[0], 1)\n",
    "testY_scalerInverse = scaler.inverse_transform(testY)"
   ]
  },
  {
   "cell_type": "code",
   "execution_count": 29,
   "metadata": {},
   "outputs": [
    {
     "name": "stdout",
     "output_type": "stream",
     "text": [
      "Resultado del entrenamiento: 312.35 MAE\n",
      "Resultado del entrenamiento: 176558.41 MSE\n",
      "Resultado del entrenamiento: 420.19 RMSE\n",
      "Resultado del entrenamiento: 10.75 CVRMSE\n",
      "Resultado del entrenamiento: 9.21 MAPE \n",
      "\n",
      "Resultado del test: 315.21 MAE\n",
      "Resultado del test: 142590.89 MSE\n",
      "Resultado del test: 377.61 RMSE\n",
      "Resultado del test: 7.20 CVRMSE\n",
      "Resultado del test: 6.31 MAPE\n"
     ]
    }
   ],
   "source": [
    "# calculamos las metricas de error\n",
    "trainScore_MAE, trainScore_MSE, trainScore_RMSE, trainScore_CVRMSE, trainScore_MAPE  =  compute_metrics_fn(trainY_scalerInverse, trainPredict)\n",
    "print('Resultado del entrenamiento: %.2f MAE' % (trainScore_MAE))\n",
    "print('Resultado del entrenamiento: %.2f MSE' % (trainScore_MSE))\n",
    "print('Resultado del entrenamiento: %.2f RMSE' % (trainScore_RMSE))\n",
    "print('Resultado del entrenamiento: %.2f CVRMSE' % (trainScore_CVRMSE))\n",
    "print('Resultado del entrenamiento: %.2f MAPE \\n' % (trainScore_MAPE))\n",
    "\n",
    "testScore_MAE, testScore_MSE, testScore_RMSE, testScore_CVRMSE, testScore_MAPE  =  compute_metrics_fn(testY_scalerInverse, testPredict)\n",
    "print('Resultado del test: %.2f MAE' % (testScore_MAE))\n",
    "print('Resultado del test: %.2f MSE' % (testScore_MSE))\n",
    "print('Resultado del test: %.2f RMSE' % (testScore_RMSE))\n",
    "print('Resultado del test: %.2f CVRMSE' % (testScore_CVRMSE))\n",
    "print('Resultado del test: %.2f MAPE' % (testScore_MAPE))"
   ]
  },
  {
   "cell_type": "code",
   "execution_count": 30,
   "metadata": {},
   "outputs": [
    {
     "data": {
      "image/png": "[encoded data removed]",
      "text/plain": [
       "<Figure size 432x288 with 1 Axes>"
      ]
     },
     "metadata": {
      "needs_background": "light"
     },
     "output_type": "display_data"
    }
   ],
   "source": [
    "plt.plot(df_ine.values)\n",
    "plt.grid(True)\n",
    "plt.title(\"Viajes totales según el INE\", fontsize = 15)\n",
    "plt.xlabel(\"Tiempo (dias)\", fontsize = 10)\n",
    "plt.ylabel(\"viajes (en miles)\", fontsize = 10)\n",
    "plt.show()"
   ]
  },
  {
   "cell_type": "code",
   "execution_count": 31,
   "metadata": {},
   "outputs": [
    {
     "data": {
      "image/png": "[encoded data removed]",
      "text/plain": [
       "<Figure size 432x288 with 1 Axes>"
      ]
     },
     "metadata": {
      "needs_background": "light"
     },
     "output_type": "display_data"
    }
   ],
   "source": [
    "plt.plot(df_twt.values)\n",
    "plt.grid(True)\n",
    "plt.title(\"Viajes totales según TWT\", fontsize = 15)\n",
    "plt.xlabel(\"Tiempo (dias)\", fontsize = 10)\n",
    "plt.ylabel(\"viajes (en miles)\", fontsize = 10)\n",
    "plt.show()"
   ]
  },
  {
   "cell_type": "code",
   "execution_count": 32,
   "metadata": {},
   "outputs": [
    {
     "data": {
      "image/png": "[encoded data removed]",
      "text/plain": [
       "<Figure size 432x288 with 1 Axes>"
      ]
     },
     "metadata": {
      "needs_background": "light"
     },
     "output_type": "display_data"
    }
   ],
   "source": [
    "dataset = df_ine.values\n",
    "dataset = dataset.astype('float32')\n",
    "# predicciones del entrenamiento de cambio para plotear\n",
    "trainPredictPlot = np.empty_like(dataset)\n",
    "trainPredictPlot[:, :] = np.nan\n",
    "trainPredictPlot[look_back:len(trainPredict)+look_back, :] = trainPredict\n",
    "# predicciones del test de cambio para plotear\n",
    "testPredictPlot = np.empty_like(dataset)\n",
    "testPredictPlot[:, :] = np.nan\n",
    "testPredictPlot[len(trainPredict)+(look_back):len(dataset), :] = testPredict\n",
    "# plot baseline and predictions\n",
    "plt.plot(df_ine.values)\n",
    "# ploteamos linea base y predicciones\n",
    "plt.plot(trainPredictPlot,'r', linewidth = 2)\n",
    "plt.plot(testPredictPlot,'m', linewidth = 2)\n",
    "plt.legend( ('Datos', 'Prediccion datos entramiento', 'Prediccion sobre los datos de test'), loc = 'upper left')\n",
    "plt.grid(True)\n",
    "plt.title(\"Viajes totales\", fontsize = 15)\n",
    "plt.xlabel(\"Tiempo (dias)\", fontsize = 10)\n",
    "plt.ylabel(\"viajes (en miles)\", fontsize = 10)\n",
    "plt.show()"
   ]
  },
  {
   "cell_type": "code",
   "execution_count": 33,
   "metadata": {},
   "outputs": [
    {
     "data": {
      "image/png": "[encoded data removed]",
      "text/plain": [
       "<Figure size 432x288 with 1 Axes>"
      ]
     },
     "metadata": {
      "needs_background": "light"
     },
     "output_type": "display_data"
    }
   ],
   "source": [
    "results=model.predict(x_val)\n",
    "\n",
    "plt.scatter(range(len(y_val)),y_val,c='g')\n",
    "plt.scatter(range(len(results)),results,c='r')\n",
    "plt.title('validate')\n",
    "plt.xlabel(\"Tiempo (dias)\", fontsize = 10)\n",
    "plt.ylabel(\"viajes (en miles)\", fontsize = 10)\n",
    "plt.show()"
   ]
  },
  {
   "cell_type": "code",
   "execution_count": 34,
   "metadata": {},
   "outputs": [
    {
     "data": {
      "image/png": "[encoded data removed]",
      "text/plain": [
       "<Figure size 432x288 with 1 Axes>"
      ]
     },
     "metadata": {
      "needs_background": "light"
     },
     "output_type": "display_data"
    }
   ],
   "source": [
    "plt.plot(history.history['loss'])\n",
    "plt.plot(history.history['val_loss'])\n",
    "plt.title('loss')\n",
    "plt.legend( ('training loss', 'validate loss'), loc = 'upper right')\n",
    "plt.show()"
   ]
  },
  {
   "cell_type": "markdown",
   "metadata": {},
   "source": [
    "# Prediccion a futuro"
   ]
  },
  {
   "cell_type": "code",
   "execution_count": 35,
   "metadata": {},
   "outputs": [
    {
     "data": {
      "text/html": [
       "<div>\n",
       "<style scoped>\n",
       "    .dataframe tbody tr th:only-of-type {\n",
       "        vertical-align: middle;\n",
       "    }\n",
       "\n",
       "    .dataframe tbody tr th {\n",
       "        vertical-align: top;\n",
       "    }\n",
       "\n",
       "    .dataframe thead th {\n",
       "        text-align: right;\n",
       "    }\n",
       "</style>\n",
       "<table border=\"1\" class=\"dataframe\">\n",
       "  <thead>\n",
       "    <tr style=\"text-align: right;\">\n",
       "      <th></th>\n",
       "      <th>Viajes</th>\n",
       "    </tr>\n",
       "  </thead>\n",
       "  <tbody>\n",
       "    <tr>\n",
       "      <th>2020-06-07</th>\n",
       "      <td>0</td>\n",
       "    </tr>\n",
       "    <tr>\n",
       "      <th>2020-06-08</th>\n",
       "      <td>5</td>\n",
       "    </tr>\n",
       "    <tr>\n",
       "      <th>2020-06-09</th>\n",
       "      <td>2</td>\n",
       "    </tr>\n",
       "    <tr>\n",
       "      <th>2020-06-10</th>\n",
       "      <td>2</td>\n",
       "    </tr>\n",
       "    <tr>\n",
       "      <th>2020-06-11</th>\n",
       "      <td>0</td>\n",
       "    </tr>\n",
       "    <tr>\n",
       "      <th>2020-06-12</th>\n",
       "      <td>2</td>\n",
       "    </tr>\n",
       "    <tr>\n",
       "      <th>2020-06-13</th>\n",
       "      <td>0</td>\n",
       "    </tr>\n",
       "    <tr>\n",
       "      <th>2020-06-14</th>\n",
       "      <td>0</td>\n",
       "    </tr>\n",
       "    <tr>\n",
       "      <th>2020-06-15</th>\n",
       "      <td>2</td>\n",
       "    </tr>\n",
       "    <tr>\n",
       "      <th>2020-06-16</th>\n",
       "      <td>0</td>\n",
       "    </tr>\n",
       "    <tr>\n",
       "      <th>2020-06-17</th>\n",
       "      <td>0</td>\n",
       "    </tr>\n",
       "    <tr>\n",
       "      <th>2020-06-18</th>\n",
       "      <td>2</td>\n",
       "    </tr>\n",
       "    <tr>\n",
       "      <th>2020-06-19</th>\n",
       "      <td>0</td>\n",
       "    </tr>\n",
       "    <tr>\n",
       "      <th>2020-06-20</th>\n",
       "      <td>0</td>\n",
       "    </tr>\n",
       "  </tbody>\n",
       "</table>\n",
       "</div>"
      ],
      "text/plain": [
       "            Viajes\n",
       "2020-06-07       0\n",
       "2020-06-08       5\n",
       "2020-06-09       2\n",
       "2020-06-10       2\n",
       "2020-06-11       0\n",
       "2020-06-12       2\n",
       "2020-06-13       0\n",
       "2020-06-14       0\n",
       "2020-06-15       2\n",
       "2020-06-16       0\n",
       "2020-06-17       0\n",
       "2020-06-18       2\n",
       "2020-06-19       0\n",
       "2020-06-20       0"
      ]
     },
     "execution_count": 35,
     "metadata": {},
     "output_type": "execute_result"
    }
   ],
   "source": [
    "# usaremos los 14 ultimos dias del confinamiento en junio para predecir como habrian sido los dias del 21 al 27 en caso de que\n",
    "# el confinamiento se hubiese alargado por una semana mas\n",
    "\n",
    "ultimosDias_twt = df_twt['2020-6-7':'2020-6-20']\n",
    "ultimosDias_ine = df_ine['2020-6-7':'2020-6-20']\n",
    "ultimosDias_twt"
   ]
  },
  {
   "cell_type": "markdown",
   "metadata": {},
   "source": [
    "# Preparamos los datos para el test"
   ]
  },
  {
   "cell_type": "code",
   "execution_count": 36,
   "metadata": {},
   "outputs": [
    {
     "data": {
      "text/html": [
       "<div>\n",
       "<style scoped>\n",
       "    .dataframe tbody tr th:only-of-type {\n",
       "        vertical-align: middle;\n",
       "    }\n",
       "\n",
       "    .dataframe tbody tr th {\n",
       "        vertical-align: top;\n",
       "    }\n",
       "\n",
       "    .dataframe thead th {\n",
       "        text-align: right;\n",
       "    }\n",
       "</style>\n",
       "<table border=\"1\" class=\"dataframe\">\n",
       "  <thead>\n",
       "    <tr style=\"text-align: right;\">\n",
       "      <th></th>\n",
       "      <th>var1(t-7)</th>\n",
       "      <th>var2(t-7)</th>\n",
       "      <th>var1(t-6)</th>\n",
       "      <th>var2(t-6)</th>\n",
       "      <th>var1(t-5)</th>\n",
       "      <th>var2(t-5)</th>\n",
       "      <th>var1(t-4)</th>\n",
       "      <th>var2(t-4)</th>\n",
       "      <th>var1(t-3)</th>\n",
       "      <th>var2(t-3)</th>\n",
       "      <th>var1(t-2)</th>\n",
       "      <th>var2(t-2)</th>\n",
       "      <th>var1(t-1)</th>\n",
       "      <th>var2(t-1)</th>\n",
       "    </tr>\n",
       "  </thead>\n",
       "  <tbody>\n",
       "    <tr>\n",
       "      <th>7</th>\n",
       "      <td>-1.0</td>\n",
       "      <td>-0.690595</td>\n",
       "      <td>1.0</td>\n",
       "      <td>0.139678</td>\n",
       "      <td>-0.2</td>\n",
       "      <td>-0.302170</td>\n",
       "      <td>-0.2</td>\n",
       "      <td>0.649416</td>\n",
       "      <td>-1.0</td>\n",
       "      <td>0.481358</td>\n",
       "      <td>-0.2</td>\n",
       "      <td>0.787424</td>\n",
       "      <td>-1.0</td>\n",
       "      <td>0.130774</td>\n",
       "    </tr>\n",
       "    <tr>\n",
       "      <th>8</th>\n",
       "      <td>1.0</td>\n",
       "      <td>0.139678</td>\n",
       "      <td>-0.2</td>\n",
       "      <td>-0.302170</td>\n",
       "      <td>-0.2</td>\n",
       "      <td>0.649416</td>\n",
       "      <td>-1.0</td>\n",
       "      <td>0.481358</td>\n",
       "      <td>-0.2</td>\n",
       "      <td>0.787424</td>\n",
       "      <td>-1.0</td>\n",
       "      <td>0.130774</td>\n",
       "      <td>-1.0</td>\n",
       "      <td>-1.000000</td>\n",
       "    </tr>\n",
       "    <tr>\n",
       "      <th>9</th>\n",
       "      <td>-0.2</td>\n",
       "      <td>-0.302170</td>\n",
       "      <td>-0.2</td>\n",
       "      <td>0.649416</td>\n",
       "      <td>-1.0</td>\n",
       "      <td>0.481358</td>\n",
       "      <td>-0.2</td>\n",
       "      <td>0.787424</td>\n",
       "      <td>-1.0</td>\n",
       "      <td>0.130774</td>\n",
       "      <td>-1.0</td>\n",
       "      <td>-1.000000</td>\n",
       "      <td>-0.2</td>\n",
       "      <td>0.238731</td>\n",
       "    </tr>\n",
       "    <tr>\n",
       "      <th>10</th>\n",
       "      <td>-0.2</td>\n",
       "      <td>0.649416</td>\n",
       "      <td>-1.0</td>\n",
       "      <td>0.481358</td>\n",
       "      <td>-0.2</td>\n",
       "      <td>0.787424</td>\n",
       "      <td>-1.0</td>\n",
       "      <td>0.130774</td>\n",
       "      <td>-1.0</td>\n",
       "      <td>-1.000000</td>\n",
       "      <td>-0.2</td>\n",
       "      <td>0.238731</td>\n",
       "      <td>-1.0</td>\n",
       "      <td>0.382304</td>\n",
       "    </tr>\n",
       "    <tr>\n",
       "      <th>11</th>\n",
       "      <td>-1.0</td>\n",
       "      <td>0.481358</td>\n",
       "      <td>-0.2</td>\n",
       "      <td>0.787424</td>\n",
       "      <td>-1.0</td>\n",
       "      <td>0.130774</td>\n",
       "      <td>-1.0</td>\n",
       "      <td>-1.000000</td>\n",
       "      <td>-0.2</td>\n",
       "      <td>0.238731</td>\n",
       "      <td>-1.0</td>\n",
       "      <td>0.382304</td>\n",
       "      <td>-1.0</td>\n",
       "      <td>0.850863</td>\n",
       "    </tr>\n",
       "    <tr>\n",
       "      <th>12</th>\n",
       "      <td>-0.2</td>\n",
       "      <td>0.787424</td>\n",
       "      <td>-1.0</td>\n",
       "      <td>0.130774</td>\n",
       "      <td>-1.0</td>\n",
       "      <td>-1.000000</td>\n",
       "      <td>-0.2</td>\n",
       "      <td>0.238731</td>\n",
       "      <td>-1.0</td>\n",
       "      <td>0.382304</td>\n",
       "      <td>-1.0</td>\n",
       "      <td>0.850863</td>\n",
       "      <td>-0.2</td>\n",
       "      <td>0.798553</td>\n",
       "    </tr>\n",
       "    <tr>\n",
       "      <th>13</th>\n",
       "      <td>-1.0</td>\n",
       "      <td>0.130774</td>\n",
       "      <td>-1.0</td>\n",
       "      <td>-1.000000</td>\n",
       "      <td>-0.2</td>\n",
       "      <td>0.238731</td>\n",
       "      <td>-1.0</td>\n",
       "      <td>0.382304</td>\n",
       "      <td>-1.0</td>\n",
       "      <td>0.850863</td>\n",
       "      <td>-0.2</td>\n",
       "      <td>0.798553</td>\n",
       "      <td>-1.0</td>\n",
       "      <td>1.000000</td>\n",
       "    </tr>\n",
       "  </tbody>\n",
       "</table>\n",
       "</div>"
      ],
      "text/plain": [
       "    var1(t-7)  var2(t-7)  var1(t-6)  var2(t-6)  var1(t-5)  var2(t-5)  \\\n",
       "7        -1.0  -0.690595        1.0   0.139678       -0.2  -0.302170   \n",
       "8         1.0   0.139678       -0.2  -0.302170       -0.2   0.649416   \n",
       "9        -0.2  -0.302170       -0.2   0.649416       -1.0   0.481358   \n",
       "10       -0.2   0.649416       -1.0   0.481358       -0.2   0.787424   \n",
       "11       -1.0   0.481358       -0.2   0.787424       -1.0   0.130774   \n",
       "12       -0.2   0.787424       -1.0   0.130774       -1.0  -1.000000   \n",
       "13       -1.0   0.130774       -1.0  -1.000000       -0.2   0.238731   \n",
       "\n",
       "    var1(t-4)  var2(t-4)  var1(t-3)  var2(t-3)  var1(t-2)  var2(t-2)  \\\n",
       "7        -0.2   0.649416       -1.0   0.481358       -0.2   0.787424   \n",
       "8        -1.0   0.481358       -0.2   0.787424       -1.0   0.130774   \n",
       "9        -0.2   0.787424       -1.0   0.130774       -1.0  -1.000000   \n",
       "10       -1.0   0.130774       -1.0  -1.000000       -0.2   0.238731   \n",
       "11       -1.0  -1.000000       -0.2   0.238731       -1.0   0.382304   \n",
       "12       -0.2   0.238731       -1.0   0.382304       -1.0   0.850863   \n",
       "13       -1.0   0.382304       -1.0   0.850863       -0.2   0.798553   \n",
       "\n",
       "    var1(t-1)  var2(t-1)  \n",
       "7        -1.0   0.130774  \n",
       "8        -1.0  -1.000000  \n",
       "9        -0.2   0.238731  \n",
       "10       -1.0   0.382304  \n",
       "11       -1.0   0.850863  \n",
       "12       -0.2   0.798553  \n",
       "13       -1.0   1.000000  "
      ]
     },
     "execution_count": 36,
     "metadata": {},
     "output_type": "execute_result"
    }
   ],
   "source": [
    "# cargamos el dataframe en la variable values\n",
    "values_twt = ultimosDias_twt.values\n",
    "values_ine = ultimosDias_ine.values\n",
    "\n",
    "# convertimos los enteros en floats\n",
    "values_twt = values_twt.astype('float32')\n",
    "values_ine = values_ine.astype('float32')\n",
    "\n",
    "# normalizamos los datos a escala de entre -1 y 1\n",
    "values_twt =values_twt.reshape(-1, 1)\n",
    "scaled_twt = scaler.fit_transform(values_twt)\n",
    "values_ine =values_ine.reshape(-1, 1) # esto lo hacemos porque tenemos 1 sola dimension\n",
    "scaled_ine = scaler.fit_transform(values_ine)\n",
    "\n",
    "# usamos la funcion definida previamente\n",
    "reframed_twt = series_to_supervised(scaled_twt, look_back, 1)\n",
    "reframed_ine = series_to_supervised(scaled_ine, look_back, 1)\n",
    "\n",
    "# eliminamos la ultima columna pues es parte de lo que queremos hayar\n",
    "reframed_twt.drop(reframed_twt.columns[[7]], inplace=True, axis=1)\n",
    "reframed_ine.drop(reframed_ine.columns[[7]], inplace=True, axis=1)\n",
    "\n",
    "#unimos los dataframes\n",
    "reframed_ine.columns = ['var2(t-7)', 'var2(t-6)', 'var2(t-5)', 'var2(t-4)', 'var2(t-3)', 'var2(t-2)', 'var2(t-1)']\n",
    "reframed = pd.concat([reframed_twt.iloc[:, 0], reframed_ine.iloc[:, 0]], axis=1)\n",
    "\n",
    "for i in range(6):\n",
    "    reframed = pd.concat([reframed, reframed_twt.iloc[:, i+1]], axis=1)\n",
    "    reframed = pd.concat([reframed, reframed_ine.iloc[:, i+1]], axis=1)\n",
    "\n",
    "#mostramos el set de entrenamiento\n",
    "reframed.head(7)"
   ]
  },
  {
   "cell_type": "code",
   "execution_count": 37,
   "metadata": {},
   "outputs": [
    {
     "name": "stdout",
     "output_type": "stream",
     "text": [
      "(1, 1, 14)\n"
     ]
    },
    {
     "data": {
      "text/plain": [
       "array([[[-1.        ,  0.13077354, -1.        , -1.        ,\n",
       "         -0.19999999,  0.23873138, -1.        ,  0.3823037 ,\n",
       "         -1.        ,  0.8508625 , -0.19999999,  0.79855347,\n",
       "         -1.        ,  1.        ]]], dtype=float32)"
      ]
     },
     "execution_count": 37,
     "metadata": {},
     "output_type": "execute_result"
    }
   ],
   "source": [
    "values = reframed.values\n",
    "\n",
    "#tomamos los valores para realizar el test\n",
    "x_test = values[6:, :]\n",
    "\n",
    "# reshape input to be 3D [samples, timesteps, features] - preguntar\n",
    "x_test = x_test.reshape((x_test.shape[0], 1, x_test.shape[1]))\n",
    "print(x_test.shape)\n",
    "x_test"
   ]
  },
  {
   "cell_type": "code",
   "execution_count": 38,
   "metadata": {},
   "outputs": [],
   "source": [
    "#definimos la funcion para realizar el desplazamiento que se hara en el array cada prediccion pues para hacer\n",
    "#la siguiente prediccion eliminamos el dia mas antiguo, desplazamos un lugar el resto de dias y añadimos el ultimo dia que\n",
    "#se ha predecido, esto es por que para predecir un dia se usan los 7 dias previos\n",
    "\n",
    "def agregarNuevoValor(x_test,nuevoValor):\n",
    "    for i in range(x_test.shape[2]-1):\n",
    "        x_test[0][0][i] = x_test[0][0][i+1]\n",
    "    x_test[0][0][x_test.shape[2]-1]=nuevoValor\n",
    "    return x_test"
   ]
  },
  {
   "cell_type": "markdown",
   "metadata": {},
   "source": [
    "# Predicciones para la proxima semana"
   ]
  },
  {
   "cell_type": "code",
   "execution_count": 39,
   "metadata": {},
   "outputs": [
    {
     "name": "stdout",
     "output_type": "stream",
     "text": [
      "[[[-1.          0.13077354 -1.         -1.         -0.19999999\n",
      "    0.23873138 -1.          0.3823037  -1.          0.8508625\n",
      "   -0.19999999  0.79855347 -1.          1.        ]]]\n",
      "[[[ 0.13077354 -1.         -1.         -0.19999999  0.23873138\n",
      "   -1.          0.3823037  -1.          0.8508625  -0.19999999\n",
      "    0.79855347 -1.          1.          0.62648344]]]\n",
      "[[[-1.         -1.         -0.19999999  0.23873138 -1.\n",
      "    0.3823037  -1.          0.8508625  -0.19999999  0.79855347\n",
      "   -1.          1.          0.62648344 -0.03279938]]]\n",
      "[[[-1.         -0.19999999  0.23873138 -1.          0.3823037\n",
      "   -1.          0.8508625  -0.19999999  0.79855347 -1.\n",
      "    1.          0.62648344 -0.03279938  0.287803  ]]]\n",
      "[[[-0.19999999  0.23873138 -1.          0.3823037  -1.\n",
      "    0.8508625  -0.19999999  0.79855347 -1.          1.\n",
      "    0.62648344 -0.03279938  0.287803   -0.04756409]]]\n",
      "[[[ 0.23873138 -1.          0.3823037  -1.          0.8508625\n",
      "   -0.19999999  0.79855347 -1.          1.          0.62648344\n",
      "   -0.03279938  0.287803   -0.04756409  0.48608738]]]\n",
      "[[[-1.          0.3823037  -1.          0.8508625  -0.19999999\n",
      "    0.79855347 -1.          1.          0.62648344 -0.03279938\n",
      "    0.287803   -0.04756409  0.48608738 -0.1107199 ]]]\n"
     ]
    }
   ],
   "source": [
    "results=[]\n",
    "for i in range(7):\n",
    "    parcial=model.predict(x_test)\n",
    "    results.append(parcial[0])\n",
    "    print(x_test)\n",
    "    x_test=agregarNuevoValor(x_test,parcial[0])"
   ]
  },
  {
   "cell_type": "markdown",
   "metadata": {},
   "source": [
    "# Re-Convertimos los resultados"
   ]
  },
  {
   "cell_type": "code",
   "execution_count": 40,
   "metadata": {},
   "outputs": [
    {
     "name": "stdout",
     "output_type": "stream",
     "text": [
      "[array([0.62648344], dtype=float32), array([-0.03279938], dtype=float32), array([0.287803], dtype=float32), array([-0.04756409], dtype=float32), array([0.48608738], dtype=float32), array([-0.1107199], dtype=float32), array([0.5798031], dtype=float32)]\n"
     ]
    },
    {
     "data": {
      "text/plain": [
       "array([[5491.39526873],\n",
       "       [4899.02967708],\n",
       "       [5187.09090023],\n",
       "       [4885.76359125],\n",
       "       [5365.24941524],\n",
       "       [4829.01809712],\n",
       "       [5449.45299282]])"
      ]
     },
     "execution_count": 40,
     "metadata": {},
     "output_type": "execute_result"
    }
   ],
   "source": [
    "adimen = [x for x in results]    \n",
    "print(adimen)\n",
    "inverted = scaler.inverse_transform(adimen)\n",
    "inverted"
   ]
  },
  {
   "cell_type": "markdown",
   "metadata": {},
   "source": [
    "# Visualizamos el pronostico"
   ]
  },
  {
   "cell_type": "code",
   "execution_count": 41,
   "metadata": {},
   "outputs": [
    {
     "data": {
      "text/plain": [
       "<AxesSubplot:>"
      ]
     },
     "execution_count": 41,
     "metadata": {},
     "output_type": "execute_result"
    },
    {
     "data": {
      "image/png": "[encoded data removed]",
      "text/plain": [
       "<Figure size 432x288 with 1 Axes>"
      ]
     },
     "metadata": {
      "needs_background": "light"
     },
     "output_type": "display_data"
    }
   ],
   "source": [
    "prediccion = pd.DataFrame(inverted)\n",
    "prediccion.columns = ['pronostico']\n",
    "prediccion.plot()"
   ]
  },
  {
   "cell_type": "markdown",
   "metadata": {},
   "source": [
    "# Prediccion con datos actuales"
   ]
  },
  {
   "cell_type": "code",
   "execution_count": 42,
   "metadata": {
    "scrolled": true
   },
   "outputs": [
    {
     "data": {
      "text/html": [
       "<div>\n",
       "<style scoped>\n",
       "    .dataframe tbody tr th:only-of-type {\n",
       "        vertical-align: middle;\n",
       "    }\n",
       "\n",
       "    .dataframe tbody tr th {\n",
       "        vertical-align: top;\n",
       "    }\n",
       "\n",
       "    .dataframe thead th {\n",
       "        text-align: right;\n",
       "    }\n",
       "</style>\n",
       "<table border=\"1\" class=\"dataframe\">\n",
       "  <thead>\n",
       "    <tr style=\"text-align: right;\">\n",
       "      <th></th>\n",
       "      <th>Viajes</th>\n",
       "    </tr>\n",
       "  </thead>\n",
       "  <tbody>\n",
       "    <tr>\n",
       "      <th>2020-05-11</th>\n",
       "      <td>0</td>\n",
       "    </tr>\n",
       "    <tr>\n",
       "      <th>2020-05-12</th>\n",
       "      <td>0</td>\n",
       "    </tr>\n",
       "    <tr>\n",
       "      <th>2020-05-13</th>\n",
       "      <td>2</td>\n",
       "    </tr>\n",
       "    <tr>\n",
       "      <th>2020-05-14</th>\n",
       "      <td>1</td>\n",
       "    </tr>\n",
       "    <tr>\n",
       "      <th>2020-05-15</th>\n",
       "      <td>2</td>\n",
       "    </tr>\n",
       "    <tr>\n",
       "      <th>2020-05-16</th>\n",
       "      <td>3</td>\n",
       "    </tr>\n",
       "    <tr>\n",
       "      <th>2020-05-17</th>\n",
       "      <td>3</td>\n",
       "    </tr>\n",
       "    <tr>\n",
       "      <th>2020-05-18</th>\n",
       "      <td>2</td>\n",
       "    </tr>\n",
       "    <tr>\n",
       "      <th>2020-05-19</th>\n",
       "      <td>0</td>\n",
       "    </tr>\n",
       "    <tr>\n",
       "      <th>2020-05-20</th>\n",
       "      <td>0</td>\n",
       "    </tr>\n",
       "    <tr>\n",
       "      <th>2020-05-21</th>\n",
       "      <td>0</td>\n",
       "    </tr>\n",
       "    <tr>\n",
       "      <th>2020-05-22</th>\n",
       "      <td>0</td>\n",
       "    </tr>\n",
       "    <tr>\n",
       "      <th>2020-05-23</th>\n",
       "      <td>4</td>\n",
       "    </tr>\n",
       "    <tr>\n",
       "      <th>2020-05-24</th>\n",
       "      <td>2</td>\n",
       "    </tr>\n",
       "  </tbody>\n",
       "</table>\n",
       "</div>"
      ],
      "text/plain": [
       "            Viajes\n",
       "2020-05-11       0\n",
       "2020-05-12       0\n",
       "2020-05-13       2\n",
       "2020-05-14       1\n",
       "2020-05-15       2\n",
       "2020-05-16       3\n",
       "2020-05-17       3\n",
       "2020-05-18       2\n",
       "2020-05-19       0\n",
       "2020-05-20       0\n",
       "2020-05-21       0\n",
       "2020-05-22       0\n",
       "2020-05-23       4\n",
       "2020-05-24       2"
      ]
     },
     "execution_count": 42,
     "metadata": {},
     "output_type": "execute_result"
    }
   ],
   "source": [
    "# usaremos 14 dias que poseemos para predecir los 7 dias siguientes tras esto compararemos los resultados con los que\n",
    "# poseemos para ver el grado de error\n",
    "\n",
    "Dias_twt = df_twt['2020-5-11':'2020-5-24']\n",
    "Dias_ine = df_ine['2020-5-11':'2020-5-24']\n",
    "Dias_twt"
   ]
  },
  {
   "cell_type": "markdown",
   "metadata": {},
   "source": [
    "# Preparamos los datos para el test"
   ]
  },
  {
   "cell_type": "code",
   "execution_count": 43,
   "metadata": {},
   "outputs": [
    {
     "data": {
      "text/html": [
       "<div>\n",
       "<style scoped>\n",
       "    .dataframe tbody tr th:only-of-type {\n",
       "        vertical-align: middle;\n",
       "    }\n",
       "\n",
       "    .dataframe tbody tr th {\n",
       "        vertical-align: top;\n",
       "    }\n",
       "\n",
       "    .dataframe thead th {\n",
       "        text-align: right;\n",
       "    }\n",
       "</style>\n",
       "<table border=\"1\" class=\"dataframe\">\n",
       "  <thead>\n",
       "    <tr style=\"text-align: right;\">\n",
       "      <th></th>\n",
       "      <th>var1(t-7)</th>\n",
       "      <th>var2(t-7)</th>\n",
       "      <th>var1(t-6)</th>\n",
       "      <th>var2(t-6)</th>\n",
       "      <th>var1(t-5)</th>\n",
       "      <th>var2(t-5)</th>\n",
       "      <th>var1(t-4)</th>\n",
       "      <th>var2(t-4)</th>\n",
       "      <th>var1(t-3)</th>\n",
       "      <th>var2(t-3)</th>\n",
       "      <th>var1(t-2)</th>\n",
       "      <th>var2(t-2)</th>\n",
       "      <th>var1(t-1)</th>\n",
       "      <th>var2(t-1)</th>\n",
       "    </tr>\n",
       "  </thead>\n",
       "  <tbody>\n",
       "    <tr>\n",
       "      <th>7</th>\n",
       "      <td>-1.0</td>\n",
       "      <td>0.088062</td>\n",
       "      <td>-1.0</td>\n",
       "      <td>0.428571</td>\n",
       "      <td>0.0</td>\n",
       "      <td>0.574690</td>\n",
       "      <td>-0.5</td>\n",
       "      <td>0.260274</td>\n",
       "      <td>0.0</td>\n",
       "      <td>0.161122</td>\n",
       "      <td>0.5</td>\n",
       "      <td>0.364645</td>\n",
       "      <td>0.5</td>\n",
       "      <td>-1.000000</td>\n",
       "    </tr>\n",
       "    <tr>\n",
       "      <th>8</th>\n",
       "      <td>-1.0</td>\n",
       "      <td>0.428571</td>\n",
       "      <td>0.0</td>\n",
       "      <td>0.574690</td>\n",
       "      <td>-0.5</td>\n",
       "      <td>0.260274</td>\n",
       "      <td>0.0</td>\n",
       "      <td>0.161122</td>\n",
       "      <td>0.5</td>\n",
       "      <td>0.364645</td>\n",
       "      <td>0.5</td>\n",
       "      <td>-1.000000</td>\n",
       "      <td>0.0</td>\n",
       "      <td>0.348989</td>\n",
       "    </tr>\n",
       "    <tr>\n",
       "      <th>9</th>\n",
       "      <td>0.0</td>\n",
       "      <td>0.574690</td>\n",
       "      <td>-0.5</td>\n",
       "      <td>0.260274</td>\n",
       "      <td>0.0</td>\n",
       "      <td>0.161122</td>\n",
       "      <td>0.5</td>\n",
       "      <td>0.364645</td>\n",
       "      <td>0.5</td>\n",
       "      <td>-1.000000</td>\n",
       "      <td>0.0</td>\n",
       "      <td>0.348989</td>\n",
       "      <td>-1.0</td>\n",
       "      <td>1.000000</td>\n",
       "    </tr>\n",
       "    <tr>\n",
       "      <th>10</th>\n",
       "      <td>-0.5</td>\n",
       "      <td>0.260274</td>\n",
       "      <td>0.0</td>\n",
       "      <td>0.161122</td>\n",
       "      <td>0.5</td>\n",
       "      <td>0.364645</td>\n",
       "      <td>0.5</td>\n",
       "      <td>-1.000000</td>\n",
       "      <td>0.0</td>\n",
       "      <td>0.348989</td>\n",
       "      <td>-1.0</td>\n",
       "      <td>1.000000</td>\n",
       "      <td>-1.0</td>\n",
       "      <td>0.463796</td>\n",
       "    </tr>\n",
       "    <tr>\n",
       "      <th>11</th>\n",
       "      <td>0.0</td>\n",
       "      <td>0.161122</td>\n",
       "      <td>0.5</td>\n",
       "      <td>0.364645</td>\n",
       "      <td>0.5</td>\n",
       "      <td>-1.000000</td>\n",
       "      <td>0.0</td>\n",
       "      <td>0.348989</td>\n",
       "      <td>-1.0</td>\n",
       "      <td>1.000000</td>\n",
       "      <td>-1.0</td>\n",
       "      <td>0.463796</td>\n",
       "      <td>-1.0</td>\n",
       "      <td>0.510763</td>\n",
       "    </tr>\n",
       "    <tr>\n",
       "      <th>12</th>\n",
       "      <td>0.5</td>\n",
       "      <td>0.364645</td>\n",
       "      <td>0.5</td>\n",
       "      <td>-1.000000</td>\n",
       "      <td>0.0</td>\n",
       "      <td>0.348989</td>\n",
       "      <td>-1.0</td>\n",
       "      <td>1.000000</td>\n",
       "      <td>-1.0</td>\n",
       "      <td>0.463796</td>\n",
       "      <td>-1.0</td>\n",
       "      <td>0.510763</td>\n",
       "      <td>-1.0</td>\n",
       "      <td>0.754729</td>\n",
       "    </tr>\n",
       "    <tr>\n",
       "      <th>13</th>\n",
       "      <td>0.5</td>\n",
       "      <td>-1.000000</td>\n",
       "      <td>0.0</td>\n",
       "      <td>0.348989</td>\n",
       "      <td>-1.0</td>\n",
       "      <td>1.000000</td>\n",
       "      <td>-1.0</td>\n",
       "      <td>0.463796</td>\n",
       "      <td>-1.0</td>\n",
       "      <td>0.510763</td>\n",
       "      <td>-1.0</td>\n",
       "      <td>0.754729</td>\n",
       "      <td>1.0</td>\n",
       "      <td>0.668623</td>\n",
       "    </tr>\n",
       "  </tbody>\n",
       "</table>\n",
       "</div>"
      ],
      "text/plain": [
       "    var1(t-7)  var2(t-7)  var1(t-6)  var2(t-6)  var1(t-5)  var2(t-5)  \\\n",
       "7        -1.0   0.088062       -1.0   0.428571        0.0   0.574690   \n",
       "8        -1.0   0.428571        0.0   0.574690       -0.5   0.260274   \n",
       "9         0.0   0.574690       -0.5   0.260274        0.0   0.161122   \n",
       "10       -0.5   0.260274        0.0   0.161122        0.5   0.364645   \n",
       "11        0.0   0.161122        0.5   0.364645        0.5  -1.000000   \n",
       "12        0.5   0.364645        0.5  -1.000000        0.0   0.348989   \n",
       "13        0.5  -1.000000        0.0   0.348989       -1.0   1.000000   \n",
       "\n",
       "    var1(t-4)  var2(t-4)  var1(t-3)  var2(t-3)  var1(t-2)  var2(t-2)  \\\n",
       "7        -0.5   0.260274        0.0   0.161122        0.5   0.364645   \n",
       "8         0.0   0.161122        0.5   0.364645        0.5  -1.000000   \n",
       "9         0.5   0.364645        0.5  -1.000000        0.0   0.348989   \n",
       "10        0.5  -1.000000        0.0   0.348989       -1.0   1.000000   \n",
       "11        0.0   0.348989       -1.0   1.000000       -1.0   0.463796   \n",
       "12       -1.0   1.000000       -1.0   0.463796       -1.0   0.510763   \n",
       "13       -1.0   0.463796       -1.0   0.510763       -1.0   0.754729   \n",
       "\n",
       "    var1(t-1)  var2(t-1)  \n",
       "7         0.5  -1.000000  \n",
       "8         0.0   0.348989  \n",
       "9        -1.0   1.000000  \n",
       "10       -1.0   0.463796  \n",
       "11       -1.0   0.510763  \n",
       "12       -1.0   0.754729  \n",
       "13        1.0   0.668623  "
      ]
     },
     "execution_count": 43,
     "metadata": {},
     "output_type": "execute_result"
    }
   ],
   "source": [
    "# cargamos el dataframe en la variable values\n",
    "values_twt = Dias_twt.values\n",
    "values_ine = Dias_ine.values\n",
    "\n",
    "# convertimos los enteros en floats\n",
    "values_twt = values_twt.astype('float32')\n",
    "values_ine = values_ine.astype('float32')\n",
    "\n",
    "# normalizamos los datos a escala de entre -1 y 1\n",
    "values_twt =values_twt.reshape(-1, 1)\n",
    "scaled_twt = scaler.fit_transform(values_twt)\n",
    "values_ine =values_ine.reshape(-1, 1) # esto lo hacemos porque tenemos 1 sola dimension\n",
    "scaled_ine = scaler.fit_transform(values_ine)\n",
    "\n",
    "# usamos la funcion definida previamente\n",
    "reframed_twt = series_to_supervised(scaled_twt, look_back, 1)\n",
    "reframed_ine = series_to_supervised(scaled_ine, look_back, 1)\n",
    "\n",
    "# eliminamos la ultima columna pues es parte de lo que queremos hayar\n",
    "reframed_twt.drop(reframed_twt.columns[[7]], inplace=True, axis=1)\n",
    "reframed_ine.drop(reframed_ine.columns[[7]], inplace=True, axis=1)\n",
    "\n",
    "#unimos los dataframes\n",
    "reframed_ine.columns = ['var2(t-7)', 'var2(t-6)', 'var2(t-5)', 'var2(t-4)', 'var2(t-3)', 'var2(t-2)', 'var2(t-1)']\n",
    "reframed = pd.concat([reframed_twt.iloc[:, 0], reframed_ine.iloc[:, 0]], axis=1)\n",
    "\n",
    "for i in range(6):\n",
    "    reframed = pd.concat([reframed, reframed_twt.iloc[:, i+1]], axis=1)\n",
    "    reframed = pd.concat([reframed, reframed_ine.iloc[:, i+1]], axis=1)\n",
    "\n",
    "#mostramos el set de entrenamiento\n",
    "reframed.head(7)"
   ]
  },
  {
   "cell_type": "code",
   "execution_count": 44,
   "metadata": {},
   "outputs": [
    {
     "name": "stdout",
     "output_type": "stream",
     "text": [
      "(1, 1, 14)\n"
     ]
    },
    {
     "data": {
      "text/plain": [
       "array([[[ 0.5       , -1.        ,  0.        ,  0.34898853,\n",
       "         -1.        ,  1.        , -1.        ,  0.46379614,\n",
       "         -1.        ,  0.51076317, -1.        ,  0.7547293 ,\n",
       "          1.        ,  0.66862345]]], dtype=float32)"
      ]
     },
     "execution_count": 44,
     "metadata": {},
     "output_type": "execute_result"
    }
   ],
   "source": [
    "values = reframed.values\n",
    "\n",
    "#tomamos los valores para realizar el test\n",
    "x_test = values[6:, :]\n",
    "\n",
    "# reshape input to be 3D [samples, timesteps, features] - preguntar\n",
    "x_test = x_test.reshape((x_test.shape[0], 1, x_test.shape[1]))\n",
    "print(x_test.shape)\n",
    "x_test"
   ]
  },
  {
   "cell_type": "code",
   "execution_count": 45,
   "metadata": {},
   "outputs": [],
   "source": [
    "#en la linea 24 definimos la funcion para realizar el desplazamiento que se hara en el array cada prediccion pues para hacer\n",
    "#la siguiente prediccion eliminamos el dia mas antiguo, desplazamos un lugar el resto de dias y añadimos el ultimo dia que\n",
    "#se ha predecido, esto es por que para predecir un dia se usan los 7 dias previos, y que usaremos a continuación"
   ]
  },
  {
   "cell_type": "markdown",
   "metadata": {},
   "source": [
    "# Realizamos la prediccion "
   ]
  },
  {
   "cell_type": "code",
   "execution_count": 46,
   "metadata": {},
   "outputs": [
    {
     "name": "stdout",
     "output_type": "stream",
     "text": [
      "[[[ 0.5        -1.          0.          0.34898853 -1.\n",
      "    1.         -1.          0.46379614 -1.          0.51076317\n",
      "   -1.          0.7547293   1.          0.66862345]]]\n",
      "[[[-1.          0.          0.34898853 -1.          1.\n",
      "   -1.          0.46379614 -1.          0.51076317 -1.\n",
      "    0.7547293   1.          0.66862345  0.34274963]]]\n",
      "[[[ 0.          0.34898853 -1.          1.         -1.\n",
      "    0.46379614 -1.          0.51076317 -1.          0.7547293\n",
      "    1.          0.66862345  0.34274963  0.11691508]]]\n",
      "[[[ 0.34898853 -1.          1.         -1.          0.46379614\n",
      "   -1.          0.51076317 -1.          0.7547293   1.\n",
      "    0.66862345  0.34274963  0.11691508  0.49399367]]]\n",
      "[[[-1.          1.         -1.          0.46379614 -1.\n",
      "    0.51076317 -1.          0.7547293   1.          0.66862345\n",
      "    0.34274963  0.11691508  0.49399367 -0.20676583]]]\n",
      "[[[ 1.         -1.          0.46379614 -1.          0.51076317\n",
      "   -1.          0.7547293   1.          0.66862345  0.34274963\n",
      "    0.11691508  0.49399367 -0.20676583  0.6870598 ]]]\n",
      "[[[-1.          0.46379614 -1.          0.51076317 -1.\n",
      "    0.7547293   1.          0.66862345  0.34274963  0.11691508\n",
      "    0.49399367 -0.20676583  0.6870598  -0.22664487]]]\n"
     ]
    }
   ],
   "source": [
    "results=[]\n",
    "for i in range(7):\n",
    "    parcial=model.predict(x_test)\n",
    "    results.append(parcial[0])\n",
    "    print(x_test)\n",
    "    x_test=agregarNuevoValor(x_test,parcial[0])"
   ]
  },
  {
   "cell_type": "markdown",
   "metadata": {},
   "source": [
    "# Re-Convertimos los resultados"
   ]
  },
  {
   "cell_type": "code",
   "execution_count": 47,
   "metadata": {
    "scrolled": false
   },
   "outputs": [
    {
     "name": "stdout",
     "output_type": "stream",
     "text": [
      "[array([0.34274963], dtype=float32), array([0.11691508], dtype=float32), array([0.49399367], dtype=float32), array([-0.20676583], dtype=float32), array([0.6870598], dtype=float32), array([-0.22664487], dtype=float32), array([0.5893037], dtype=float32)]\n"
     ]
    },
    {
     "data": {
      "text/plain": [
       "array([[4328],\n",
       "       [4155],\n",
       "       [4444],\n",
       "       [3907],\n",
       "       [4592],\n",
       "       [3892],\n",
       "       [4517]])"
      ]
     },
     "execution_count": 47,
     "metadata": {},
     "output_type": "execute_result"
    }
   ],
   "source": [
    "adimen = [x for x in results]    \n",
    "print(adimen)\n",
    "inverted = scaler.inverse_transform(adimen)\n",
    "\n",
    "#en nuestro problema no tienen sentido los decimales pues no se pueden hacer 0.5 viajes o 0.25 viajes\n",
    "inverted = inverted.round()\n",
    "inverted = inverted.astype(int)\n",
    "inverted"
   ]
  },
  {
   "cell_type": "markdown",
   "metadata": {},
   "source": [
    "# Visualizamos el pronostico"
   ]
  },
  {
   "cell_type": "code",
   "execution_count": 48,
   "metadata": {
    "scrolled": false
   },
   "outputs": [
    {
     "data": {
      "text/plain": [
       "<AxesSubplot:>"
      ]
     },
     "execution_count": 48,
     "metadata": {},
     "output_type": "execute_result"
    },
    {
     "data": {
      "image/png": "[encoded data removed]",
      "text/plain": [
       "<Figure size 432x288 with 1 Axes>"
      ]
     },
     "metadata": {
      "needs_background": "light"
     },
     "output_type": "display_data"
    }
   ],
   "source": [
    "e_date = datetime.datetime.strptime('2020-05-31', '%Y-%m-%d')\n",
    "i_date = datetime.datetime.strptime('2020-05-25', '%Y-%m-%d')\n",
    "delta = e_date - i_date\n",
    "\n",
    "index_days = []\n",
    "for i in range(delta.days + 1):\n",
    "    day = i_date + timedelta(days=i)\n",
    "    index_days.append(day)\n",
    "\n",
    "prediccion = pd.DataFrame(inverted, index= index_days)\n",
    "prediccion.columns = ['pronostico']\n",
    "prediccion.plot()"
   ]
  },
  {
   "cell_type": "code",
   "execution_count": 49,
   "metadata": {},
   "outputs": [
    {
     "data": {
      "text/html": [
       "<div>\n",
       "<style scoped>\n",
       "    .dataframe tbody tr th:only-of-type {\n",
       "        vertical-align: middle;\n",
       "    }\n",
       "\n",
       "    .dataframe tbody tr th {\n",
       "        vertical-align: top;\n",
       "    }\n",
       "\n",
       "    .dataframe thead th {\n",
       "        text-align: right;\n",
       "    }\n",
       "</style>\n",
       "<table border=\"1\" class=\"dataframe\">\n",
       "  <thead>\n",
       "    <tr style=\"text-align: right;\">\n",
       "      <th></th>\n",
       "      <th>real</th>\n",
       "      <th>prediccion</th>\n",
       "    </tr>\n",
       "  </thead>\n",
       "  <tbody>\n",
       "    <tr>\n",
       "      <th>2020-05-25</th>\n",
       "      <td>4688</td>\n",
       "      <td>4328</td>\n",
       "    </tr>\n",
       "    <tr>\n",
       "      <th>2020-05-26</th>\n",
       "      <td>5272</td>\n",
       "      <td>4155</td>\n",
       "    </tr>\n",
       "    <tr>\n",
       "      <th>2020-05-27</th>\n",
       "      <td>5220</td>\n",
       "      <td>4444</td>\n",
       "    </tr>\n",
       "    <tr>\n",
       "      <th>2020-05-28</th>\n",
       "      <td>4933</td>\n",
       "      <td>3907</td>\n",
       "    </tr>\n",
       "    <tr>\n",
       "      <th>2020-05-29</th>\n",
       "      <td>5435</td>\n",
       "      <td>4592</td>\n",
       "    </tr>\n",
       "    <tr>\n",
       "      <th>2020-05-30</th>\n",
       "      <td>5217</td>\n",
       "      <td>3892</td>\n",
       "    </tr>\n",
       "    <tr>\n",
       "      <th>2020-05-31</th>\n",
       "      <td>4351</td>\n",
       "      <td>4517</td>\n",
       "    </tr>\n",
       "  </tbody>\n",
       "</table>\n",
       "</div>"
      ],
      "text/plain": [
       "            real  prediccion\n",
       "2020-05-25  4688        4328\n",
       "2020-05-26  5272        4155\n",
       "2020-05-27  5220        4444\n",
       "2020-05-28  4933        3907\n",
       "2020-05-29  5435        4592\n",
       "2020-05-30  5217        3892\n",
       "2020-05-31  4351        4517"
      ]
     },
     "execution_count": 49,
     "metadata": {},
     "output_type": "execute_result"
    }
   ],
   "source": [
    "datosReales = df_ine['2020-5-25':'2020-5-31']\n",
    "\n",
    "compara = pd.concat([datosReales, prediccion], axis=1)\n",
    "compara.columns = ['real', 'prediccion']\n",
    "compara"
   ]
  },
  {
   "cell_type": "code",
   "execution_count": 50,
   "metadata": {},
   "outputs": [
    {
     "data": {
      "text/plain": [
       "<AxesSubplot:>"
      ]
     },
     "execution_count": 50,
     "metadata": {},
     "output_type": "execute_result"
    },
    {
     "data": {
      "image/png": "[encoded data removed]",
      "text/plain": [
       "<Figure size 432x288 with 1 Axes>"
      ]
     },
     "metadata": {
      "needs_background": "light"
     },
     "output_type": "display_data"
    }
   ],
   "source": [
    "compara['real'].plot()\n",
    "compara['prediccion'].plot()"
   ]
  },
  {
   "cell_type": "code",
   "execution_count": 51,
   "metadata": {
    "scrolled": false
   },
   "outputs": [
    {
     "name": "stdout",
     "output_type": "stream",
     "text": [
      "Resultado del test: 801.86 MAE\n",
      "Resultado del test: 789424.43 MSE\n",
      "Resultado del test: 888.50 RMSE\n",
      "Resultado del test: 20.85 CVRMSE\n",
      "Resultado del test: 19.29 MAPE\n"
     ]
    }
   ],
   "source": [
    "# calculamos las metricas de error\n",
    "testScore_MAE, testScore_MSE, testScore_RMSE, testScore_CVRMSE, testScore_MAPE  =  compute_metrics_fn(prediccion, datosReales)\n",
    "print('Resultado del test: %.2f MAE' % (testScore_MAE))\n",
    "print('Resultado del test: %.2f MSE' % (testScore_MSE))\n",
    "print('Resultado del test: %.2f RMSE' % (testScore_RMSE))\n",
    "print('Resultado del test: %.2f CVRMSE' % (testScore_CVRMSE))\n",
    "print('Resultado del test: %.2f MAPE' % (testScore_MAPE))"
   ]
  },
  {
   "cell_type": "code",
   "execution_count": 52,
   "metadata": {},
   "outputs": [
    {
     "name": "stdout",
     "output_type": "stream",
     "text": [
      "Resultado del test dia 1: 360.00 MAE\n",
      "Resultado del test dia 1: 129600.00 MSE\n",
      "Resultado del test dia 1: 360.00 RMSE\n",
      "Resultado del test dia 1: 8.32 CVRMSE\n",
      "Resultado del test dia 1: 8.32 MAPE \n",
      "\n",
      "Resultado del test dia 2: 1117.00 MAE\n",
      "Resultado del test dia 2: 1247689.00 MSE\n",
      "Resultado del test dia 2: 1117.00 RMSE\n",
      "Resultado del test dia 2: 26.88 CVRMSE\n",
      "Resultado del test dia 2: 26.88 MAPE \n",
      "\n",
      "Resultado del test dia 3: 776.00 MAE\n",
      "Resultado del test dia 3: 602176.00 MSE\n",
      "Resultado del test dia 3: 776.00 RMSE\n",
      "Resultado del test dia 3: 17.46 CVRMSE\n",
      "Resultado del test dia 3: 17.46 MAPE \n",
      "\n",
      "Resultado del test dia 4: 1026.00 MAE\n",
      "Resultado del test dia 4: 1052676.00 MSE\n",
      "Resultado del test dia 4: 1026.00 RMSE\n",
      "Resultado del test dia 4: 26.26 CVRMSE\n",
      "Resultado del test dia 4: 26.26 MAPE \n",
      "\n",
      "Resultado del test dia 5: 843.00 MAE\n",
      "Resultado del test dia 5: 710649.00 MSE\n",
      "Resultado del test dia 5: 843.00 RMSE\n",
      "Resultado del test dia 5: 18.36 CVRMSE\n",
      "Resultado del test dia 5: 18.36 MAPE \n",
      "\n",
      "Resultado del test dia 6: 1325.00 MAE\n",
      "Resultado del test dia 6: 1755625.00 MSE\n",
      "Resultado del test dia 6: 1325.00 RMSE\n",
      "Resultado del test dia 6: 34.04 CVRMSE\n",
      "Resultado del test dia 6: 34.04 MAPE \n",
      "\n",
      "Resultado del test dia 7: 166.00 MAE\n",
      "Resultado del test dia 7: 27556.00 MSE\n",
      "Resultado del test dia 7: 166.00 RMSE\n",
      "Resultado del test dia 7: 3.68 CVRMSE\n",
      "Resultado del test dia 7: 3.68 MAPE \n",
      "\n"
     ]
    }
   ],
   "source": [
    "# calculamos las metricas de error para cada dia por separado\n",
    "for i in range(7):\n",
    "    testScore_MAE, testScore_MSE, testScore_RMSE, testScore_CVRMSE, testScore_MAPE  =  compute_metrics_fn(prediccion.values[i], datosReales.values[i])\n",
    "    day = i + 1\n",
    "    print('Resultado del test dia %d: %.2f MAE' % (day, testScore_MAE))\n",
    "    print('Resultado del test dia %d: %.2f MSE' % (day, testScore_MSE))\n",
    "    print('Resultado del test dia %d: %.2f RMSE' % (day, testScore_RMSE))\n",
    "    print('Resultado del test dia %d: %.2f CVRMSE' % (day, testScore_CVRMSE))\n",
    "    print('Resultado del test dia %d: %.2f MAPE \\n' % (day, testScore_MAPE))"
   ]
  }
 ],
 "metadata": {
  "kernelspec": {
   "display_name": "Python 3",
   "language": "python",
   "name": "python3"
  },
  "language_info": {
   "codemirror_mode": {
    "name": "ipython",
    "version": 3
   },
   "file_extension": ".py",
   "mimetype": "text/x-python",
   "name": "python",
   "nbconvert_exporter": "python",
   "pygments_lexer": "ipython3",
   "version": "3.8.5"
  }
 },
 "nbformat": 4,
 "nbformat_minor": 4
}
