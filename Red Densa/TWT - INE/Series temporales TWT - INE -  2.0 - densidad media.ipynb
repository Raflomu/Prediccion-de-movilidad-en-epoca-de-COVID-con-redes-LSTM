{
 "cells": [
  {
   "cell_type": "code",
   "execution_count": 1,
   "metadata": {},
   "outputs": [],
   "source": [
    "import pandas as pd\n",
    "import numpy as np\n",
    "from tqdm import tqdm_notebook\n",
    "import os\n",
    "from sklearn.metrics import mean_squared_error, mean_absolute_error\n",
    "from sklearn.preprocessing import MinMaxScaler\n",
    "from keras.models import Sequential\n",
    "from keras.layers import Dense,Activation,Flatten,Dropout\n",
    "\n",
    "import matplotlib.pyplot as plt\n",
    "%matplotlib inline\n",
    "\n",
    "import warnings\n",
    "warnings.filterwarnings(\"ignore\")\n",
    "\n",
    "import datetime\n",
    "from datetime import date, timedelta\n",
    "e_date = datetime.datetime.strptime('2020-06-20', '%Y-%m-%d')\n",
    "i_date = datetime.datetime.strptime('2020-04-01', '%Y-%m-%d')\n",
    "\n",
    "data_path = 'D:/universidad/universidad 4/TFG/recursos para el desarrollo/datos procesados/OD'"
   ]
  },
  {
   "cell_type": "code",
   "execution_count": 2,
   "metadata": {},
   "outputs": [],
   "source": [
    "delta = e_date - i_date\n",
    "\n",
    "target_days = []\n",
    "for i in range(delta.days + 1):\n",
    "    day = i_date + timedelta(days=i)\n",
    "    target_days.append(day)"
   ]
  },
  {
   "cell_type": "code",
   "execution_count": 3,
   "metadata": {},
   "outputs": [],
   "source": [
    "def read_OD_fn(source_type):\n",
    "    ods = {}\n",
    "    for date in tqdm_notebook(target_days):\n",
    "        od_date= pd.read_csv(os.path.join(data_path, 'date_{}_OD_{}.csv'.format(source_type,date.strftime('%Y-%m-%d'))), \n",
    "                            index_col=0)\n",
    "        ods[date] = od_date\n",
    "    return ods"
   ]
  },
  {
   "cell_type": "code",
   "execution_count": 4,
   "metadata": {},
   "outputs": [
    {
     "data": {
      "application/vnd.jupyter.widget-view+json": {
       "model_id": "b50c8102737042b598b9f6d47b70d0cf",
       "version_major": 2,
       "version_minor": 0
      },
      "text/plain": [
       "  0%|          | 0/81 [00:00<?, ?it/s]"
      ]
     },
     "metadata": {},
     "output_type": "display_data"
    }
   ],
   "source": [
    "ine_ods = read_OD_fn('INE')"
   ]
  },
  {
   "cell_type": "code",
   "execution_count": 5,
   "metadata": {
    "scrolled": true
   },
   "outputs": [
    {
     "data": {
      "application/vnd.jupyter.widget-view+json": {
       "model_id": "4136ddacba4a48189413622b24ecfa2f",
       "version_major": 2,
       "version_minor": 0
      },
      "text/plain": [
       "  0%|          | 0/81 [00:00<?, ?it/s]"
      ]
     },
     "metadata": {},
     "output_type": "display_data"
    }
   ],
   "source": [
    "twt_ods = read_OD_fn('TWT')"
   ]
  },
  {
   "cell_type": "markdown",
   "metadata": {},
   "source": [
    "# Serializar los datos"
   ]
  },
  {
   "cell_type": "code",
   "execution_count": 6,
   "metadata": {
    "scrolled": true
   },
   "outputs": [
    {
     "data": {
      "application/vnd.jupyter.widget-view+json": {
       "model_id": "1445d183cf4548f4957dc4c5957bfb19",
       "version_major": 2,
       "version_minor": 0
      },
      "text/plain": [
       "  0%|          | 0/81 [00:00<?, ?it/s]"
      ]
     },
     "metadata": {},
     "output_type": "display_data"
    },
    {
     "data": {
      "application/vnd.jupyter.widget-view+json": {
       "model_id": "ad8331f18bfe4489896c965ef54e4919",
       "version_major": 2,
       "version_minor": 0
      },
      "text/plain": [
       "  0%|          | 0/81 [00:00<?, ?it/s]"
      ]
     },
     "metadata": {},
     "output_type": "display_data"
    }
   ],
   "source": [
    "lista_twt1 = []\n",
    "lista_twt2 = []\n",
    "lista_twt3 = []\n",
    "lista_twt4 = []\n",
    "lista_twt5 = []\n",
    "\n",
    "for date in tqdm_notebook(target_days):\n",
    "    lista_twt1.append(twt_ods[date].loc['18GU','total'])\n",
    "    lista_twt2.append(twt_ods[date].loc['013B','total'])\n",
    "    lista_twt3.append(twt_ods[date].loc['021S','total'])\n",
    "    lista_twt4.append(twt_ods[date].loc['219M','total'])\n",
    "    lista_twt5.append(twt_ods[date].loc['01CA','total'])\n",
    "    \n",
    "    \n",
    "lista_ine1 = []\n",
    "lista_ine2 = []\n",
    "lista_ine3 = []\n",
    "lista_ine4 = []\n",
    "lista_ine5 = []\n",
    "\n",
    "for date in tqdm_notebook(target_days):\n",
    "    lista_ine1.append(ine_ods[date].loc['18GU','total'])\n",
    "    lista_ine2.append(ine_ods[date].loc['013B','total'])\n",
    "    lista_ine3.append(ine_ods[date].loc['021S','total'])\n",
    "    lista_ine4.append(ine_ods[date].loc['219M','total'])\n",
    "    lista_ine5.append(ine_ods[date].loc['01CA','total'])\n",
    "    "
   ]
  },
  {
   "cell_type": "code",
   "execution_count": 7,
   "metadata": {
    "scrolled": true
   },
   "outputs": [],
   "source": [
    "df_twt1 = pd.DataFrame (lista_twt1, columns = ['Viajes'], index= target_days)\n",
    "df_ine1 = pd.DataFrame (lista_ine1, columns = ['Viajes'], index= target_days)\n",
    "\n",
    "df_twt2 = pd.DataFrame (lista_twt2, columns = ['Viajes'], index= target_days)\n",
    "df_ine2 = pd.DataFrame (lista_ine2, columns = ['Viajes'], index= target_days)\n",
    "\n",
    "df_twt3 = pd.DataFrame (lista_twt3, columns = ['Viajes'], index= target_days)\n",
    "df_ine3 = pd.DataFrame (lista_ine3, columns = ['Viajes'], index= target_days)\n",
    "\n",
    "df_twt4 = pd.DataFrame (lista_twt4, columns = ['Viajes'], index= target_days)\n",
    "df_ine4 = pd.DataFrame (lista_ine4, columns = ['Viajes'], index= target_days)\n",
    "\n",
    "df_twt5 = pd.DataFrame (lista_twt5, columns = ['Viajes'], index= target_days)\n",
    "df_ine5 = pd.DataFrame (lista_ine5, columns = ['Viajes'], index= target_days)"
   ]
  },
  {
   "cell_type": "code",
   "execution_count": 8,
   "metadata": {},
   "outputs": [],
   "source": [
    "lista_twt = []\n",
    "lista_ine = []\n",
    "\n",
    "df_twt = df_twt1 + df_twt2 + df_twt3 + df_twt4 + df_twt5\n",
    "df_ine = df_ine1 + df_ine2 + df_ine3 + df_ine4 + df_ine5"
   ]
  },
  {
   "cell_type": "code",
   "execution_count": 9,
   "metadata": {},
   "outputs": [
    {
     "data": {
      "text/html": [
       "<div>\n",
       "<style scoped>\n",
       "    .dataframe tbody tr th:only-of-type {\n",
       "        vertical-align: middle;\n",
       "    }\n",
       "\n",
       "    .dataframe tbody tr th {\n",
       "        vertical-align: top;\n",
       "    }\n",
       "\n",
       "    .dataframe thead th {\n",
       "        text-align: right;\n",
       "    }\n",
       "</style>\n",
       "<table border=\"1\" class=\"dataframe\">\n",
       "  <thead>\n",
       "    <tr style=\"text-align: right;\">\n",
       "      <th></th>\n",
       "      <th>Viajes</th>\n",
       "    </tr>\n",
       "  </thead>\n",
       "  <tbody>\n",
       "    <tr>\n",
       "      <th>2020-04-01</th>\n",
       "      <td>0</td>\n",
       "    </tr>\n",
       "    <tr>\n",
       "      <th>2020-04-02</th>\n",
       "      <td>0</td>\n",
       "    </tr>\n",
       "    <tr>\n",
       "      <th>2020-04-03</th>\n",
       "      <td>0</td>\n",
       "    </tr>\n",
       "    <tr>\n",
       "      <th>2020-04-04</th>\n",
       "      <td>0</td>\n",
       "    </tr>\n",
       "    <tr>\n",
       "      <th>2020-04-05</th>\n",
       "      <td>0</td>\n",
       "    </tr>\n",
       "  </tbody>\n",
       "</table>\n",
       "</div>"
      ],
      "text/plain": [
       "            Viajes\n",
       "2020-04-01       0\n",
       "2020-04-02       0\n",
       "2020-04-03       0\n",
       "2020-04-04       0\n",
       "2020-04-05       0"
      ]
     },
     "execution_count": 9,
     "metadata": {},
     "output_type": "execute_result"
    }
   ],
   "source": [
    "df_twt.head()"
   ]
  },
  {
   "cell_type": "code",
   "execution_count": 10,
   "metadata": {},
   "outputs": [
    {
     "data": {
      "text/html": [
       "<div>\n",
       "<style scoped>\n",
       "    .dataframe tbody tr th:only-of-type {\n",
       "        vertical-align: middle;\n",
       "    }\n",
       "\n",
       "    .dataframe tbody tr th {\n",
       "        vertical-align: top;\n",
       "    }\n",
       "\n",
       "    .dataframe thead th {\n",
       "        text-align: right;\n",
       "    }\n",
       "</style>\n",
       "<table border=\"1\" class=\"dataframe\">\n",
       "  <thead>\n",
       "    <tr style=\"text-align: right;\">\n",
       "      <th></th>\n",
       "      <th>Viajes</th>\n",
       "    </tr>\n",
       "  </thead>\n",
       "  <tbody>\n",
       "    <tr>\n",
       "      <th>2020-04-01</th>\n",
       "      <td>3314</td>\n",
       "    </tr>\n",
       "    <tr>\n",
       "      <th>2020-04-02</th>\n",
       "      <td>3220</td>\n",
       "    </tr>\n",
       "    <tr>\n",
       "      <th>2020-04-03</th>\n",
       "      <td>3934</td>\n",
       "    </tr>\n",
       "    <tr>\n",
       "      <th>2020-04-04</th>\n",
       "      <td>3141</td>\n",
       "    </tr>\n",
       "    <tr>\n",
       "      <th>2020-04-05</th>\n",
       "      <td>2520</td>\n",
       "    </tr>\n",
       "  </tbody>\n",
       "</table>\n",
       "</div>"
      ],
      "text/plain": [
       "            Viajes\n",
       "2020-04-01    3314\n",
       "2020-04-02    3220\n",
       "2020-04-03    3934\n",
       "2020-04-04    3141\n",
       "2020-04-05    2520"
      ]
     },
     "execution_count": 10,
     "metadata": {},
     "output_type": "execute_result"
    }
   ],
   "source": [
    "df_ine.head()"
   ]
  },
  {
   "cell_type": "code",
   "execution_count": 11,
   "metadata": {},
   "outputs": [],
   "source": [
    "del twt_ods\n",
    "del ine_ods"
   ]
  },
  {
   "cell_type": "markdown",
   "metadata": {},
   "source": [
    "# Visualización de datos"
   ]
  },
  {
   "cell_type": "code",
   "execution_count": 12,
   "metadata": {},
   "outputs": [
    {
     "name": "stdout",
     "output_type": "stream",
     "text": [
      "2020-04-01 00:00:00\n",
      "2020-06-20 00:00:00\n"
     ]
    }
   ],
   "source": [
    "print(df_twt.index.min())\n",
    "print(df_ine.index.max())"
   ]
  },
  {
   "cell_type": "code",
   "execution_count": 13,
   "metadata": {
    "scrolled": true
   },
   "outputs": [
    {
     "name": "stdout",
     "output_type": "stream",
     "text": [
      "81\n"
     ]
    }
   ],
   "source": [
    "print(len(df_twt['2020']))"
   ]
  },
  {
   "cell_type": "code",
   "execution_count": 14,
   "metadata": {},
   "outputs": [
    {
     "name": "stdout",
     "output_type": "stream",
     "text": [
      "81\n"
     ]
    }
   ],
   "source": [
    "print(len(df_ine['2020']))"
   ]
  },
  {
   "cell_type": "code",
   "execution_count": 15,
   "metadata": {
    "scrolled": true
   },
   "outputs": [
    {
     "data": {
      "text/html": [
       "<div>\n",
       "<style scoped>\n",
       "    .dataframe tbody tr th:only-of-type {\n",
       "        vertical-align: middle;\n",
       "    }\n",
       "\n",
       "    .dataframe tbody tr th {\n",
       "        vertical-align: top;\n",
       "    }\n",
       "\n",
       "    .dataframe thead th {\n",
       "        text-align: right;\n",
       "    }\n",
       "</style>\n",
       "<table border=\"1\" class=\"dataframe\">\n",
       "  <thead>\n",
       "    <tr style=\"text-align: right;\">\n",
       "      <th></th>\n",
       "      <th>Viajes</th>\n",
       "    </tr>\n",
       "  </thead>\n",
       "  <tbody>\n",
       "    <tr>\n",
       "      <th>count</th>\n",
       "      <td>81.000000</td>\n",
       "    </tr>\n",
       "    <tr>\n",
       "      <th>mean</th>\n",
       "      <td>1.148148</td>\n",
       "    </tr>\n",
       "    <tr>\n",
       "      <th>std</th>\n",
       "      <td>1.467235</td>\n",
       "    </tr>\n",
       "    <tr>\n",
       "      <th>min</th>\n",
       "      <td>0.000000</td>\n",
       "    </tr>\n",
       "    <tr>\n",
       "      <th>25%</th>\n",
       "      <td>0.000000</td>\n",
       "    </tr>\n",
       "    <tr>\n",
       "      <th>50%</th>\n",
       "      <td>0.000000</td>\n",
       "    </tr>\n",
       "    <tr>\n",
       "      <th>75%</th>\n",
       "      <td>2.000000</td>\n",
       "    </tr>\n",
       "    <tr>\n",
       "      <th>max</th>\n",
       "      <td>6.000000</td>\n",
       "    </tr>\n",
       "  </tbody>\n",
       "</table>\n",
       "</div>"
      ],
      "text/plain": [
       "          Viajes\n",
       "count  81.000000\n",
       "mean    1.148148\n",
       "std     1.467235\n",
       "min     0.000000\n",
       "25%     0.000000\n",
       "50%     0.000000\n",
       "75%     2.000000\n",
       "max     6.000000"
      ]
     },
     "execution_count": 15,
     "metadata": {},
     "output_type": "execute_result"
    }
   ],
   "source": [
    "df_twt.describe()"
   ]
  },
  {
   "cell_type": "code",
   "execution_count": 16,
   "metadata": {},
   "outputs": [
    {
     "data": {
      "text/html": [
       "<div>\n",
       "<style scoped>\n",
       "    .dataframe tbody tr th:only-of-type {\n",
       "        vertical-align: middle;\n",
       "    }\n",
       "\n",
       "    .dataframe tbody tr th {\n",
       "        vertical-align: top;\n",
       "    }\n",
       "\n",
       "    .dataframe thead th {\n",
       "        text-align: right;\n",
       "    }\n",
       "</style>\n",
       "<table border=\"1\" class=\"dataframe\">\n",
       "  <thead>\n",
       "    <tr style=\"text-align: right;\">\n",
       "      <th></th>\n",
       "      <th>Viajes</th>\n",
       "    </tr>\n",
       "  </thead>\n",
       "  <tbody>\n",
       "    <tr>\n",
       "      <th>count</th>\n",
       "      <td>81.000000</td>\n",
       "    </tr>\n",
       "    <tr>\n",
       "      <th>mean</th>\n",
       "      <td>4188.802469</td>\n",
       "    </tr>\n",
       "    <tr>\n",
       "      <th>std</th>\n",
       "      <td>922.684743</td>\n",
       "    </tr>\n",
       "    <tr>\n",
       "      <th>min</th>\n",
       "      <td>2282.000000</td>\n",
       "    </tr>\n",
       "    <tr>\n",
       "      <th>25%</th>\n",
       "      <td>3503.000000</td>\n",
       "    </tr>\n",
       "    <tr>\n",
       "      <th>50%</th>\n",
       "      <td>4243.000000</td>\n",
       "    </tr>\n",
       "    <tr>\n",
       "      <th>75%</th>\n",
       "      <td>4933.000000</td>\n",
       "    </tr>\n",
       "    <tr>\n",
       "      <th>max</th>\n",
       "      <td>5827.000000</td>\n",
       "    </tr>\n",
       "  </tbody>\n",
       "</table>\n",
       "</div>"
      ],
      "text/plain": [
       "            Viajes\n",
       "count    81.000000\n",
       "mean   4188.802469\n",
       "std     922.684743\n",
       "min    2282.000000\n",
       "25%    3503.000000\n",
       "50%    4243.000000\n",
       "75%    4933.000000\n",
       "max    5827.000000"
      ]
     },
     "execution_count": 16,
     "metadata": {},
     "output_type": "execute_result"
    }
   ],
   "source": [
    "df_ine.describe()"
   ]
  },
  {
   "cell_type": "code",
   "execution_count": 17,
   "metadata": {
    "scrolled": true
   },
   "outputs": [
    {
     "data": {
      "text/html": [
       "<div>\n",
       "<style scoped>\n",
       "    .dataframe tbody tr th:only-of-type {\n",
       "        vertical-align: middle;\n",
       "    }\n",
       "\n",
       "    .dataframe tbody tr th {\n",
       "        vertical-align: top;\n",
       "    }\n",
       "\n",
       "    .dataframe thead th {\n",
       "        text-align: right;\n",
       "    }\n",
       "</style>\n",
       "<table border=\"1\" class=\"dataframe\">\n",
       "  <thead>\n",
       "    <tr style=\"text-align: right;\">\n",
       "      <th></th>\n",
       "      <th>Viajes</th>\n",
       "    </tr>\n",
       "  </thead>\n",
       "  <tbody>\n",
       "    <tr>\n",
       "      <th>2020-04-30</th>\n",
       "      <td>0.800000</td>\n",
       "    </tr>\n",
       "    <tr>\n",
       "      <th>2020-05-31</th>\n",
       "      <td>1.548387</td>\n",
       "    </tr>\n",
       "    <tr>\n",
       "      <th>2020-06-30</th>\n",
       "      <td>1.050000</td>\n",
       "    </tr>\n",
       "  </tbody>\n",
       "</table>\n",
       "</div>"
      ],
      "text/plain": [
       "              Viajes\n",
       "2020-04-30  0.800000\n",
       "2020-05-31  1.548387\n",
       "2020-06-30  1.050000"
      ]
     },
     "execution_count": 17,
     "metadata": {},
     "output_type": "execute_result"
    }
   ],
   "source": [
    "meses = df_twt.resample('M').mean()\n",
    "meses"
   ]
  },
  {
   "cell_type": "code",
   "execution_count": 18,
   "metadata": {},
   "outputs": [
    {
     "data": {
      "text/html": [
       "<div>\n",
       "<style scoped>\n",
       "    .dataframe tbody tr th:only-of-type {\n",
       "        vertical-align: middle;\n",
       "    }\n",
       "\n",
       "    .dataframe tbody tr th {\n",
       "        vertical-align: top;\n",
       "    }\n",
       "\n",
       "    .dataframe thead th {\n",
       "        text-align: right;\n",
       "    }\n",
       "</style>\n",
       "<table border=\"1\" class=\"dataframe\">\n",
       "  <thead>\n",
       "    <tr style=\"text-align: right;\">\n",
       "      <th></th>\n",
       "      <th>Viajes</th>\n",
       "    </tr>\n",
       "  </thead>\n",
       "  <tbody>\n",
       "    <tr>\n",
       "      <th>2020-04-30</th>\n",
       "      <td>3410.966667</td>\n",
       "    </tr>\n",
       "    <tr>\n",
       "      <th>2020-05-31</th>\n",
       "      <td>4262.193548</td>\n",
       "    </tr>\n",
       "    <tr>\n",
       "      <th>2020-06-30</th>\n",
       "      <td>5241.800000</td>\n",
       "    </tr>\n",
       "  </tbody>\n",
       "</table>\n",
       "</div>"
      ],
      "text/plain": [
       "                 Viajes\n",
       "2020-04-30  3410.966667\n",
       "2020-05-31  4262.193548\n",
       "2020-06-30  5241.800000"
      ]
     },
     "execution_count": 18,
     "metadata": {},
     "output_type": "execute_result"
    }
   ],
   "source": [
    "meses = df_ine.resample('M').mean()\n",
    "meses"
   ]
  },
  {
   "cell_type": "code",
   "execution_count": 19,
   "metadata": {
    "scrolled": true
   },
   "outputs": [
    {
     "data": {
      "text/plain": [
       "[<matplotlib.lines.Line2D at 0x19c4929bb80>]"
      ]
     },
     "execution_count": 19,
     "metadata": {},
     "output_type": "execute_result"
    },
    {
     "data": {
      "image/png": "[encoded data removed]",
      "text/plain": [
       "<Figure size 432x288 with 1 Axes>"
      ]
     },
     "metadata": {
      "needs_background": "light"
     },
     "output_type": "display_data"
    }
   ],
   "source": [
    "abril = df_twt['2020-04-01':'2020-04-30']\n",
    "plt.plot(abril.values)\n",
    "mayo = df_twt['2020-05-01':'2020-05-31']\n",
    "plt.plot(mayo.values)\n",
    "junio = df_twt['2020-06-01':'2020-06-20']\n",
    "plt.plot(junio.values)"
   ]
  },
  {
   "cell_type": "code",
   "execution_count": 20,
   "metadata": {},
   "outputs": [
    {
     "data": {
      "text/plain": [
       "[<matplotlib.lines.Line2D at 0x19c6c00dd00>]"
      ]
     },
     "execution_count": 20,
     "metadata": {},
     "output_type": "execute_result"
    },
    {
     "data": {
      "image/png": "[encoded data removed]",
      "text/plain": [
       "<Figure size 432x288 with 1 Axes>"
      ]
     },
     "metadata": {
      "needs_background": "light"
     },
     "output_type": "display_data"
    }
   ],
   "source": [
    "abril = df_ine['2020-04-01':'2020-04-30']\n",
    "plt.plot(abril.values)\n",
    "mayo = df_ine['2020-05-01':'2020-05-31']\n",
    "plt.plot(mayo.values)\n",
    "junio = df_ine['2020-06-01':'2020-06-20']\n",
    "plt.plot(junio.values)"
   ]
  },
  {
   "cell_type": "markdown",
   "metadata": {},
   "source": [
    "# Preprocesado de datos"
   ]
  },
  {
   "cell_type": "code",
   "execution_count": 21,
   "metadata": {},
   "outputs": [
    {
     "data": {
      "text/html": [
       "<div>\n",
       "<style scoped>\n",
       "    .dataframe tbody tr th:only-of-type {\n",
       "        vertical-align: middle;\n",
       "    }\n",
       "\n",
       "    .dataframe tbody tr th {\n",
       "        vertical-align: top;\n",
       "    }\n",
       "\n",
       "    .dataframe thead th {\n",
       "        text-align: right;\n",
       "    }\n",
       "</style>\n",
       "<table border=\"1\" class=\"dataframe\">\n",
       "  <thead>\n",
       "    <tr style=\"text-align: right;\">\n",
       "      <th></th>\n",
       "      <th>var1(t-7)</th>\n",
       "      <th>var1(t-6)</th>\n",
       "      <th>var1(t-5)</th>\n",
       "      <th>var1(t-4)</th>\n",
       "      <th>var1(t-3)</th>\n",
       "      <th>var1(t-2)</th>\n",
       "      <th>var1(t-1)</th>\n",
       "      <th>var1(t)</th>\n",
       "    </tr>\n",
       "  </thead>\n",
       "  <tbody>\n",
       "    <tr>\n",
       "      <th>76</th>\n",
       "      <td>-0.333333</td>\n",
       "      <td>-0.333333</td>\n",
       "      <td>-1.000000</td>\n",
       "      <td>-0.333333</td>\n",
       "      <td>-1.000000</td>\n",
       "      <td>-1.000000</td>\n",
       "      <td>-0.333333</td>\n",
       "      <td>-1.000000</td>\n",
       "    </tr>\n",
       "    <tr>\n",
       "      <th>77</th>\n",
       "      <td>-0.333333</td>\n",
       "      <td>-1.000000</td>\n",
       "      <td>-0.333333</td>\n",
       "      <td>-1.000000</td>\n",
       "      <td>-1.000000</td>\n",
       "      <td>-0.333333</td>\n",
       "      <td>-1.000000</td>\n",
       "      <td>-1.000000</td>\n",
       "    </tr>\n",
       "    <tr>\n",
       "      <th>78</th>\n",
       "      <td>-1.000000</td>\n",
       "      <td>-0.333333</td>\n",
       "      <td>-1.000000</td>\n",
       "      <td>-1.000000</td>\n",
       "      <td>-0.333333</td>\n",
       "      <td>-1.000000</td>\n",
       "      <td>-1.000000</td>\n",
       "      <td>-0.333333</td>\n",
       "    </tr>\n",
       "    <tr>\n",
       "      <th>79</th>\n",
       "      <td>-0.333333</td>\n",
       "      <td>-1.000000</td>\n",
       "      <td>-1.000000</td>\n",
       "      <td>-0.333333</td>\n",
       "      <td>-1.000000</td>\n",
       "      <td>-1.000000</td>\n",
       "      <td>-0.333333</td>\n",
       "      <td>-1.000000</td>\n",
       "    </tr>\n",
       "    <tr>\n",
       "      <th>80</th>\n",
       "      <td>-1.000000</td>\n",
       "      <td>-1.000000</td>\n",
       "      <td>-0.333333</td>\n",
       "      <td>-1.000000</td>\n",
       "      <td>-1.000000</td>\n",
       "      <td>-0.333333</td>\n",
       "      <td>-1.000000</td>\n",
       "      <td>-1.000000</td>\n",
       "    </tr>\n",
       "  </tbody>\n",
       "</table>\n",
       "</div>"
      ],
      "text/plain": [
       "    var1(t-7)  var1(t-6)  var1(t-5)  var1(t-4)  var1(t-3)  var1(t-2)  \\\n",
       "76  -0.333333  -0.333333  -1.000000  -0.333333  -1.000000  -1.000000   \n",
       "77  -0.333333  -1.000000  -0.333333  -1.000000  -1.000000  -0.333333   \n",
       "78  -1.000000  -0.333333  -1.000000  -1.000000  -0.333333  -1.000000   \n",
       "79  -0.333333  -1.000000  -1.000000  -0.333333  -1.000000  -1.000000   \n",
       "80  -1.000000  -1.000000  -0.333333  -1.000000  -1.000000  -0.333333   \n",
       "\n",
       "    var1(t-1)   var1(t)  \n",
       "76  -0.333333 -1.000000  \n",
       "77  -1.000000 -1.000000  \n",
       "78  -1.000000 -0.333333  \n",
       "79  -0.333333 -1.000000  \n",
       "80  -1.000000 -1.000000  "
      ]
     },
     "execution_count": 21,
     "metadata": {},
     "output_type": "execute_result"
    }
   ],
   "source": [
    "# cantidad de dias previos que se usaran para predecir el siguiente dia \n",
    "look_back=7\n",
    "\n",
    "# convertir series en conocimiento supervisado\n",
    "def series_to_supervised(data, n_in=1, n_out=1, dropnan=True):\n",
    "    n_vars = 1 if type(data) is list else data.shape[1]\n",
    "    df = pd.DataFrame(data)\n",
    "    cols, names = list(), list()\n",
    "    # secuencia de entrada (t-n, ... t-1)\n",
    "    for i in range(n_in, 0, -1):\n",
    "        cols.append(df.shift(i))\n",
    "        names += [('var%d(t-%d)' % (j+1, i)) for j in range(n_vars)]\n",
    "    # secuencia del pronostico (t, t+1, ... t+n)\n",
    "    for i in range(0, n_out):\n",
    "        cols.append(df.shift(-i))\n",
    "        if i == 0:\n",
    "            names += [('var%d(t)' % (j+1)) for j in range(n_vars)]\n",
    "        else:\n",
    "            names += [('var%d(t+%d)' % (j+1, i)) for j in range(n_vars)]\n",
    "    # unimos todo\n",
    "    agg = pd.concat(cols, axis=1)\n",
    "    agg.columns = names\n",
    "    # eliminamos todos los valores nulos\n",
    "    if dropnan:\n",
    "        agg.dropna(inplace=True)\n",
    "    return agg\n",
    " \n",
    "# cargamos el dataframe en la variable values\n",
    "values_twt = df_twt.values\n",
    "values_ine = df_ine.values\n",
    "\n",
    "# convertimos los enteros en floats\n",
    "values_twt = values_twt.astype('float32')\n",
    "values_ine = values_ine.astype('float32')\n",
    "\n",
    "# normalizamos los datos a escala de entre -1 y 1\n",
    "scaler = MinMaxScaler(feature_range=(-1, 1))\n",
    "values_twt=values_twt.reshape(-1, 1) # esto lo hacemos porque tenemos 1 sola dimension\n",
    "values_ine=values_ine.reshape(-1, 1) # esto lo hacemos porque tenemos 1 sola dimension\n",
    "scaled_twt = scaler.fit_transform(values_twt)\n",
    "scaled_ine = scaler.fit_transform(values_ine)\n",
    "\n",
    "# usamos la funcion definida previamente\n",
    "reframed_twt = series_to_supervised(scaled_twt, look_back, 1)\n",
    "reframed_ine = series_to_supervised(scaled_ine, look_back, 1)\n",
    "\n",
    "#imprimimos los nuevos datos\n",
    "reframed_twt.tail()"
   ]
  },
  {
   "cell_type": "code",
   "execution_count": 22,
   "metadata": {
    "scrolled": false
   },
   "outputs": [
    {
     "data": {
      "text/html": [
       "<div>\n",
       "<style scoped>\n",
       "    .dataframe tbody tr th:only-of-type {\n",
       "        vertical-align: middle;\n",
       "    }\n",
       "\n",
       "    .dataframe tbody tr th {\n",
       "        vertical-align: top;\n",
       "    }\n",
       "\n",
       "    .dataframe thead th {\n",
       "        text-align: right;\n",
       "    }\n",
       "</style>\n",
       "<table border=\"1\" class=\"dataframe\">\n",
       "  <thead>\n",
       "    <tr style=\"text-align: right;\">\n",
       "      <th></th>\n",
       "      <th>var2(t-7)</th>\n",
       "      <th>var2(t-6)</th>\n",
       "      <th>var2(t-5)</th>\n",
       "      <th>var2(t-4)</th>\n",
       "      <th>var2(t-3)</th>\n",
       "      <th>var2(t-2)</th>\n",
       "      <th>var2(t-1)</th>\n",
       "      <th>var2(t)</th>\n",
       "    </tr>\n",
       "  </thead>\n",
       "  <tbody>\n",
       "    <tr>\n",
       "      <th>76</th>\n",
       "      <td>0.339916</td>\n",
       "      <td>0.822285</td>\n",
       "      <td>0.737095</td>\n",
       "      <td>0.892243</td>\n",
       "      <td>0.559380</td>\n",
       "      <td>-0.013822</td>\n",
       "      <td>0.614105</td>\n",
       "      <td>0.686883</td>\n",
       "    </tr>\n",
       "    <tr>\n",
       "      <th>77</th>\n",
       "      <td>0.822285</td>\n",
       "      <td>0.737095</td>\n",
       "      <td>0.892243</td>\n",
       "      <td>0.559380</td>\n",
       "      <td>-0.013822</td>\n",
       "      <td>0.614105</td>\n",
       "      <td>0.686883</td>\n",
       "      <td>0.924401</td>\n",
       "    </tr>\n",
       "    <tr>\n",
       "      <th>78</th>\n",
       "      <td>0.737095</td>\n",
       "      <td>0.892243</td>\n",
       "      <td>0.559380</td>\n",
       "      <td>-0.013822</td>\n",
       "      <td>0.614105</td>\n",
       "      <td>0.686883</td>\n",
       "      <td>0.924401</td>\n",
       "      <td>0.897885</td>\n",
       "    </tr>\n",
       "    <tr>\n",
       "      <th>79</th>\n",
       "      <td>0.892243</td>\n",
       "      <td>0.559380</td>\n",
       "      <td>-0.013822</td>\n",
       "      <td>0.614105</td>\n",
       "      <td>0.686883</td>\n",
       "      <td>0.924401</td>\n",
       "      <td>0.897885</td>\n",
       "      <td>1.000000</td>\n",
       "    </tr>\n",
       "    <tr>\n",
       "      <th>80</th>\n",
       "      <td>0.559380</td>\n",
       "      <td>-0.013822</td>\n",
       "      <td>0.614105</td>\n",
       "      <td>0.686883</td>\n",
       "      <td>0.924401</td>\n",
       "      <td>0.897885</td>\n",
       "      <td>1.000000</td>\n",
       "      <td>0.801975</td>\n",
       "    </tr>\n",
       "  </tbody>\n",
       "</table>\n",
       "</div>"
      ],
      "text/plain": [
       "    var2(t-7)  var2(t-6)  var2(t-5)  var2(t-4)  var2(t-3)  var2(t-2)  \\\n",
       "76   0.339916   0.822285   0.737095   0.892243   0.559380  -0.013822   \n",
       "77   0.822285   0.737095   0.892243   0.559380  -0.013822   0.614105   \n",
       "78   0.737095   0.892243   0.559380  -0.013822   0.614105   0.686883   \n",
       "79   0.892243   0.559380  -0.013822   0.614105   0.686883   0.924401   \n",
       "80   0.559380  -0.013822   0.614105   0.686883   0.924401   0.897885   \n",
       "\n",
       "    var2(t-1)   var2(t)  \n",
       "76   0.614105  0.686883  \n",
       "77   0.686883  0.924401  \n",
       "78   0.924401  0.897885  \n",
       "79   0.897885  1.000000  \n",
       "80   1.000000  0.801975  "
      ]
     },
     "execution_count": 22,
     "metadata": {},
     "output_type": "execute_result"
    }
   ],
   "source": [
    "#cambiamos el nombre de las columnas\n",
    "reframed_ine.columns = ['var2(t-7)', 'var2(t-6)', 'var2(t-5)', 'var2(t-4)', 'var2(t-3)', 'var2(t-2)', 'var2(t-1)', 'var2(t)']\n",
    "reframed_ine.tail()"
   ]
  },
  {
   "cell_type": "code",
   "execution_count": 23,
   "metadata": {
    "scrolled": false
   },
   "outputs": [
    {
     "data": {
      "text/html": [
       "<div>\n",
       "<style scoped>\n",
       "    .dataframe tbody tr th:only-of-type {\n",
       "        vertical-align: middle;\n",
       "    }\n",
       "\n",
       "    .dataframe tbody tr th {\n",
       "        vertical-align: top;\n",
       "    }\n",
       "\n",
       "    .dataframe thead th {\n",
       "        text-align: right;\n",
       "    }\n",
       "</style>\n",
       "<table border=\"1\" class=\"dataframe\">\n",
       "  <thead>\n",
       "    <tr style=\"text-align: right;\">\n",
       "      <th></th>\n",
       "      <th>var1(t-7)</th>\n",
       "      <th>var2(t-7)</th>\n",
       "      <th>var1(t-6)</th>\n",
       "      <th>var2(t-6)</th>\n",
       "      <th>var1(t-5)</th>\n",
       "      <th>var2(t-5)</th>\n",
       "      <th>var1(t-4)</th>\n",
       "      <th>var2(t-4)</th>\n",
       "      <th>var1(t-3)</th>\n",
       "      <th>var2(t-3)</th>\n",
       "      <th>var1(t-2)</th>\n",
       "      <th>var2(t-2)</th>\n",
       "      <th>var1(t-1)</th>\n",
       "      <th>var2(t-1)</th>\n",
       "      <th>var2(t)</th>\n",
       "    </tr>\n",
       "  </thead>\n",
       "  <tbody>\n",
       "    <tr>\n",
       "      <th>76</th>\n",
       "      <td>-0.333333</td>\n",
       "      <td>0.339916</td>\n",
       "      <td>-0.333333</td>\n",
       "      <td>0.822285</td>\n",
       "      <td>-1.000000</td>\n",
       "      <td>0.737095</td>\n",
       "      <td>-0.333333</td>\n",
       "      <td>0.892243</td>\n",
       "      <td>-1.000000</td>\n",
       "      <td>0.559380</td>\n",
       "      <td>-1.000000</td>\n",
       "      <td>-0.013822</td>\n",
       "      <td>-0.333333</td>\n",
       "      <td>0.614105</td>\n",
       "      <td>0.686883</td>\n",
       "    </tr>\n",
       "    <tr>\n",
       "      <th>77</th>\n",
       "      <td>-0.333333</td>\n",
       "      <td>0.822285</td>\n",
       "      <td>-1.000000</td>\n",
       "      <td>0.737095</td>\n",
       "      <td>-0.333333</td>\n",
       "      <td>0.892243</td>\n",
       "      <td>-1.000000</td>\n",
       "      <td>0.559380</td>\n",
       "      <td>-1.000000</td>\n",
       "      <td>-0.013822</td>\n",
       "      <td>-0.333333</td>\n",
       "      <td>0.614105</td>\n",
       "      <td>-1.000000</td>\n",
       "      <td>0.686883</td>\n",
       "      <td>0.924401</td>\n",
       "    </tr>\n",
       "    <tr>\n",
       "      <th>78</th>\n",
       "      <td>-1.000000</td>\n",
       "      <td>0.737095</td>\n",
       "      <td>-0.333333</td>\n",
       "      <td>0.892243</td>\n",
       "      <td>-1.000000</td>\n",
       "      <td>0.559380</td>\n",
       "      <td>-1.000000</td>\n",
       "      <td>-0.013822</td>\n",
       "      <td>-0.333333</td>\n",
       "      <td>0.614105</td>\n",
       "      <td>-1.000000</td>\n",
       "      <td>0.686883</td>\n",
       "      <td>-1.000000</td>\n",
       "      <td>0.924401</td>\n",
       "      <td>0.897885</td>\n",
       "    </tr>\n",
       "    <tr>\n",
       "      <th>79</th>\n",
       "      <td>-0.333333</td>\n",
       "      <td>0.892243</td>\n",
       "      <td>-1.000000</td>\n",
       "      <td>0.559380</td>\n",
       "      <td>-1.000000</td>\n",
       "      <td>-0.013822</td>\n",
       "      <td>-0.333333</td>\n",
       "      <td>0.614105</td>\n",
       "      <td>-1.000000</td>\n",
       "      <td>0.686883</td>\n",
       "      <td>-1.000000</td>\n",
       "      <td>0.924401</td>\n",
       "      <td>-0.333333</td>\n",
       "      <td>0.897885</td>\n",
       "      <td>1.000000</td>\n",
       "    </tr>\n",
       "    <tr>\n",
       "      <th>80</th>\n",
       "      <td>-1.000000</td>\n",
       "      <td>0.559380</td>\n",
       "      <td>-1.000000</td>\n",
       "      <td>-0.013822</td>\n",
       "      <td>-0.333333</td>\n",
       "      <td>0.614105</td>\n",
       "      <td>-1.000000</td>\n",
       "      <td>0.686883</td>\n",
       "      <td>-1.000000</td>\n",
       "      <td>0.924401</td>\n",
       "      <td>-0.333333</td>\n",
       "      <td>0.897885</td>\n",
       "      <td>-1.000000</td>\n",
       "      <td>1.000000</td>\n",
       "      <td>0.801975</td>\n",
       "    </tr>\n",
       "  </tbody>\n",
       "</table>\n",
       "</div>"
      ],
      "text/plain": [
       "    var1(t-7)  var2(t-7)  var1(t-6)  var2(t-6)  var1(t-5)  var2(t-5)  \\\n",
       "76  -0.333333   0.339916  -0.333333   0.822285  -1.000000   0.737095   \n",
       "77  -0.333333   0.822285  -1.000000   0.737095  -0.333333   0.892243   \n",
       "78  -1.000000   0.737095  -0.333333   0.892243  -1.000000   0.559380   \n",
       "79  -0.333333   0.892243  -1.000000   0.559380  -1.000000  -0.013822   \n",
       "80  -1.000000   0.559380  -1.000000  -0.013822  -0.333333   0.614105   \n",
       "\n",
       "    var1(t-4)  var2(t-4)  var1(t-3)  var2(t-3)  var1(t-2)  var2(t-2)  \\\n",
       "76  -0.333333   0.892243  -1.000000   0.559380  -1.000000  -0.013822   \n",
       "77  -1.000000   0.559380  -1.000000  -0.013822  -0.333333   0.614105   \n",
       "78  -1.000000  -0.013822  -0.333333   0.614105  -1.000000   0.686883   \n",
       "79  -0.333333   0.614105  -1.000000   0.686883  -1.000000   0.924401   \n",
       "80  -1.000000   0.686883  -1.000000   0.924401  -0.333333   0.897885   \n",
       "\n",
       "    var1(t-1)  var2(t-1)   var2(t)  \n",
       "76  -0.333333   0.614105  0.686883  \n",
       "77  -1.000000   0.686883  0.924401  \n",
       "78  -1.000000   0.924401  0.897885  \n",
       "79  -0.333333   0.897885  1.000000  \n",
       "80  -1.000000   1.000000  0.801975  "
      ]
     },
     "execution_count": 23,
     "metadata": {},
     "output_type": "execute_result"
    }
   ],
   "source": [
    "#unimos los datos del ine con los de twitter\n",
    "reframed = pd.concat([reframed_twt.iloc[:, 0], reframed_ine.iloc[:, 0]], axis=1)\n",
    "\n",
    "for i in range(6):\n",
    "    reframed = pd.concat([reframed, reframed_twt.iloc[:, i+1]], axis=1)\n",
    "    reframed = pd.concat([reframed, reframed_ine.iloc[:, i+1]], axis=1)\n",
    "    \n",
    "reframed = pd.concat([reframed, reframed_ine.iloc[:, 7]], axis=1)\n",
    "\n",
    "reframed.tail()"
   ]
  },
  {
   "cell_type": "markdown",
   "metadata": {},
   "source": [
    "# Dividimos los datos en sets de entrenamiento y validacion"
   ]
  },
  {
   "cell_type": "code",
   "execution_count": 24,
   "metadata": {},
   "outputs": [
    {
     "name": "stdout",
     "output_type": "stream",
     "text": [
      "(54, 1, 14) (54,) (20, 1, 14) (20,)\n"
     ]
    }
   ],
   "source": [
    "#dividimos nuestro valores entre sets de entrenamiento y de test\n",
    "values = reframed.values\n",
    "n_train_days = 71 - (10+look_back)\n",
    "train = values[:n_train_days, :]\n",
    "test = values[n_train_days:, :]\n",
    "\n",
    "# split into input and outputs\n",
    "x_train, y_train = train[:, :-1], train[:, -1]\n",
    "x_val, y_val = test[:, :-1], test[:, -1]\n",
    "\n",
    "# reshape input to be 3D [samples, timesteps, features] - preguntar\n",
    "x_train = x_train.reshape((x_train.shape[0], 1, x_train.shape[1]))\n",
    "x_val = x_val.reshape((x_val.shape[0], 1, x_val.shape[1]))\n",
    "print(x_train.shape, y_train.shape, x_val.shape, y_val.shape)"
   ]
  },
  {
   "cell_type": "markdown",
   "metadata": {},
   "source": [
    "# Creamos la red neuronal"
   ]
  },
  {
   "cell_type": "code",
   "execution_count": 25,
   "metadata": {},
   "outputs": [],
   "source": [
    "def crear_modeloFF():\n",
    "    model = Sequential() \n",
    "    model.add(Dense(look_back, input_shape=(1,look_back*2),activation='tanh'))\n",
    "    model.add(Flatten())\n",
    "    model.add(Dense(100, activation='tanh'))\n",
    "    model.add(Dropout(0.30))\n",
    "    model.add(Dense(100, activation='tanh'))\n",
    "    model.add(Dropout(0.30))\n",
    "    model.add(Dense(100, activation='tanh'))\n",
    "    model.add(Dropout(0.30))\n",
    "    model.add(Dense(100, activation='tanh'))\n",
    "    model.add(Dropout(0.30))\n",
    "    model.add(Dense(1, activation='tanh'))\n",
    "    model.compile(loss='mean_absolute_error',optimizer='Adam',metrics=[\"mse\"])\n",
    "    model.summary()\n",
    "    return model"
   ]
  },
  {
   "cell_type": "code",
   "execution_count": 26,
   "metadata": {},
   "outputs": [
    {
     "name": "stdout",
     "output_type": "stream",
     "text": [
      "Model: \"sequential\"\n",
      "_________________________________________________________________\n",
      "Layer (type)                 Output Shape              Param #   \n",
      "=================================================================\n",
      "dense (Dense)                (None, 1, 7)              105       \n",
      "_________________________________________________________________\n",
      "flatten (Flatten)            (None, 7)                 0         \n",
      "_________________________________________________________________\n",
      "dense_1 (Dense)              (None, 100)               800       \n",
      "_________________________________________________________________\n",
      "dropout (Dropout)            (None, 100)               0         \n",
      "_________________________________________________________________\n",
      "dense_2 (Dense)              (None, 100)               10100     \n",
      "_________________________________________________________________\n",
      "dropout_1 (Dropout)          (None, 100)               0         \n",
      "_________________________________________________________________\n",
      "dense_3 (Dense)              (None, 100)               10100     \n",
      "_________________________________________________________________\n",
      "dropout_2 (Dropout)          (None, 100)               0         \n",
      "_________________________________________________________________\n",
      "dense_4 (Dense)              (None, 100)               10100     \n",
      "_________________________________________________________________\n",
      "dropout_3 (Dropout)          (None, 100)               0         \n",
      "_________________________________________________________________\n",
      "dense_5 (Dense)              (None, 1)                 101       \n",
      "=================================================================\n",
      "Total params: 31,306\n",
      "Trainable params: 31,306\n",
      "Non-trainable params: 0\n",
      "_________________________________________________________________\n",
      "Epoch 1/200\n",
      "8/8 [==============================] - 4s 398ms/step - loss: 0.5110 - mse: 0.3944 - val_loss: 0.3059 - val_mse: 0.2041\n",
      "Epoch 2/200\n",
      "8/8 [==============================] - 0s 13ms/step - loss: 0.3981 - mse: 0.2339 - val_loss: 0.4145 - val_mse: 0.2812\n",
      "Epoch 3/200\n",
      "8/8 [==============================] - 0s 13ms/step - loss: 0.3679 - mse: 0.2125 - val_loss: 0.5045 - val_mse: 0.3168\n",
      "Epoch 4/200\n",
      "8/8 [==============================] - 0s 17ms/step - loss: 0.4068 - mse: 0.2524 - val_loss: 0.6977 - val_mse: 0.5482\n",
      "Epoch 5/200\n",
      "8/8 [==============================] - 0s 16ms/step - loss: 0.4630 - mse: 0.3097 - val_loss: 0.5171 - val_mse: 0.3161\n",
      "Epoch 6/200\n",
      "8/8 [==============================] - 0s 14ms/step - loss: 0.3275 - mse: 0.1613 - val_loss: 0.3408 - val_mse: 0.1537\n",
      "Epoch 7/200\n",
      "8/8 [==============================] - 0s 14ms/step - loss: 0.3673 - mse: 0.2048 - val_loss: 0.3503 - val_mse: 0.1722\n",
      "Epoch 8/200\n",
      "8/8 [==============================] - 0s 17ms/step - loss: 0.3080 - mse: 0.1543 - val_loss: 0.4155 - val_mse: 0.2224\n",
      "Epoch 9/200\n",
      "8/8 [==============================] - 0s 14ms/step - loss: 0.4076 - mse: 0.2442 - val_loss: 0.4043 - val_mse: 0.2086\n",
      "Epoch 10/200\n",
      "8/8 [==============================] - 0s 12ms/step - loss: 0.3312 - mse: 0.1614 - val_loss: 0.3278 - val_mse: 0.1482\n",
      "Epoch 11/200\n",
      "8/8 [==============================] - 0s 14ms/step - loss: 0.3369 - mse: 0.1719 - val_loss: 0.2698 - val_mse: 0.1008\n",
      "Epoch 12/200\n",
      "8/8 [==============================] - 0s 13ms/step - loss: 0.3868 - mse: 0.2396 - val_loss: 0.3054 - val_mse: 0.1323\n",
      "Epoch 13/200\n",
      "8/8 [==============================] - 0s 13ms/step - loss: 0.3809 - mse: 0.2253 - val_loss: 0.3980 - val_mse: 0.2068\n",
      "Epoch 14/200\n",
      "8/8 [==============================] - 0s 13ms/step - loss: 0.3767 - mse: 0.1995 - val_loss: 0.4478 - val_mse: 0.2467\n",
      "Epoch 15/200\n",
      "8/8 [==============================] - 0s 12ms/step - loss: 0.3399 - mse: 0.1574 - val_loss: 0.4457 - val_mse: 0.2395\n",
      "Epoch 16/200\n",
      "8/8 [==============================] - 0s 17ms/step - loss: 0.2516 - mse: 0.0951 - val_loss: 0.3586 - val_mse: 0.1662\n",
      "Epoch 17/200\n",
      "8/8 [==============================] - 0s 12ms/step - loss: 0.3286 - mse: 0.1585 - val_loss: 0.2642 - val_mse: 0.0961\n",
      "Epoch 18/200\n",
      "8/8 [==============================] - 0s 8ms/step - loss: 0.3288 - mse: 0.1780 - val_loss: 0.3196 - val_mse: 0.1376\n",
      "Epoch 19/200\n",
      "8/8 [==============================] - 0s 9ms/step - loss: 0.2684 - mse: 0.1107 - val_loss: 0.4117 - val_mse: 0.2242\n",
      "Epoch 20/200\n",
      "8/8 [==============================] - 0s 8ms/step - loss: 0.3397 - mse: 0.1566 - val_loss: 0.3627 - val_mse: 0.1792\n",
      "Epoch 21/200\n",
      "8/8 [==============================] - 0s 7ms/step - loss: 0.3810 - mse: 0.2079 - val_loss: 0.3074 - val_mse: 0.1275\n",
      "Epoch 22/200\n",
      "8/8 [==============================] - 0s 8ms/step - loss: 0.2584 - mse: 0.1110 - val_loss: 0.2112 - val_mse: 0.0662\n",
      "Epoch 23/200\n",
      "8/8 [==============================] - 0s 8ms/step - loss: 0.3574 - mse: 0.1750 - val_loss: 0.2114 - val_mse: 0.0600\n",
      "Epoch 24/200\n",
      "8/8 [==============================] - 0s 8ms/step - loss: 0.3201 - mse: 0.1481 - val_loss: 0.2270 - val_mse: 0.0703\n",
      "Epoch 25/200\n",
      "8/8 [==============================] - 0s 9ms/step - loss: 0.2722 - mse: 0.1251 - val_loss: 0.2230 - val_mse: 0.0633\n",
      "Epoch 26/200\n",
      "8/8 [==============================] - 0s 9ms/step - loss: 0.2907 - mse: 0.1309 - val_loss: 0.1924 - val_mse: 0.0481\n",
      "Epoch 27/200\n",
      "8/8 [==============================] - 0s 8ms/step - loss: 0.2730 - mse: 0.1231 - val_loss: 0.2213 - val_mse: 0.0633\n",
      "Epoch 28/200\n",
      "8/8 [==============================] - 0s 8ms/step - loss: 0.2590 - mse: 0.1095 - val_loss: 0.2375 - val_mse: 0.0725\n",
      "Epoch 29/200\n",
      "8/8 [==============================] - 0s 9ms/step - loss: 0.2718 - mse: 0.1377 - val_loss: 0.2755 - val_mse: 0.0982\n",
      "Epoch 30/200\n",
      "8/8 [==============================] - 0s 10ms/step - loss: 0.2525 - mse: 0.1089 - val_loss: 0.3693 - val_mse: 0.1855\n",
      "Epoch 31/200\n",
      "8/8 [==============================] - 0s 12ms/step - loss: 0.2885 - mse: 0.1258 - val_loss: 0.3817 - val_mse: 0.2022\n",
      "Epoch 32/200\n",
      "8/8 [==============================] - 0s 10ms/step - loss: 0.2955 - mse: 0.1320 - val_loss: 0.2867 - val_mse: 0.1202\n",
      "Epoch 33/200\n",
      "8/8 [==============================] - 0s 10ms/step - loss: 0.2219 - mse: 0.0784 - val_loss: 0.2172 - val_mse: 0.0677\n",
      "Epoch 34/200\n",
      "8/8 [==============================] - 0s 8ms/step - loss: 0.2561 - mse: 0.0966 - val_loss: 0.2404 - val_mse: 0.0753\n",
      "Epoch 35/200\n",
      "8/8 [==============================] - 0s 8ms/step - loss: 0.2784 - mse: 0.1197 - val_loss: 0.2720 - val_mse: 0.0920\n",
      "Epoch 36/200\n",
      "8/8 [==============================] - 0s 8ms/step - loss: 0.2637 - mse: 0.0999 - val_loss: 0.2834 - val_mse: 0.0990\n",
      "Epoch 37/200\n",
      "8/8 [==============================] - 0s 8ms/step - loss: 0.2784 - mse: 0.1058 - val_loss: 0.2870 - val_mse: 0.1088\n",
      "Epoch 38/200\n",
      "8/8 [==============================] - 0s 8ms/step - loss: 0.2309 - mse: 0.0878 - val_loss: 0.2904 - val_mse: 0.1137\n",
      "Epoch 39/200\n",
      "8/8 [==============================] - 0s 7ms/step - loss: 0.2154 - mse: 0.0771 - val_loss: 0.3012 - val_mse: 0.1132\n",
      "Epoch 40/200\n",
      "8/8 [==============================] - 0s 7ms/step - loss: 0.2784 - mse: 0.1212 - val_loss: 0.2632 - val_mse: 0.0897\n",
      "Epoch 41/200\n",
      "8/8 [==============================] - 0s 7ms/step - loss: 0.2766 - mse: 0.1302 - val_loss: 0.2026 - val_mse: 0.0536\n",
      "Epoch 42/200\n",
      "8/8 [==============================] - 0s 7ms/step - loss: 0.2737 - mse: 0.1423 - val_loss: 0.2086 - val_mse: 0.0577\n",
      "Epoch 43/200\n",
      "8/8 [==============================] - 0s 8ms/step - loss: 0.3179 - mse: 0.1569 - val_loss: 0.2319 - val_mse: 0.0691\n",
      "Epoch 44/200\n",
      "8/8 [==============================] - 0s 8ms/step - loss: 0.2295 - mse: 0.1038 - val_loss: 0.2433 - val_mse: 0.0799\n",
      "Epoch 45/200\n",
      "8/8 [==============================] - 0s 8ms/step - loss: 0.2102 - mse: 0.0721 - val_loss: 0.2495 - val_mse: 0.0850\n",
      "Epoch 46/200\n",
      "8/8 [==============================] - 0s 7ms/step - loss: 0.2711 - mse: 0.1123 - val_loss: 0.1983 - val_mse: 0.0530\n",
      "Epoch 47/200\n",
      "8/8 [==============================] - 0s 7ms/step - loss: 0.2692 - mse: 0.1165 - val_loss: 0.2158 - val_mse: 0.0581\n",
      "Epoch 48/200\n",
      "8/8 [==============================] - 0s 7ms/step - loss: 0.2265 - mse: 0.0913 - val_loss: 0.2230 - val_mse: 0.0610\n",
      "Epoch 49/200\n",
      "8/8 [==============================] - 0s 7ms/step - loss: 0.2312 - mse: 0.0709 - val_loss: 0.2829 - val_mse: 0.0934\n",
      "Epoch 50/200\n"
     ]
    },
    {
     "name": "stdout",
     "output_type": "stream",
     "text": [
      "8/8 [==============================] - 0s 7ms/step - loss: 0.3099 - mse: 0.1418 - val_loss: 0.2790 - val_mse: 0.0931\n",
      "Epoch 51/200\n",
      "8/8 [==============================] - 0s 7ms/step - loss: 0.2258 - mse: 0.0876 - val_loss: 0.2537 - val_mse: 0.0828\n",
      "Epoch 52/200\n",
      "8/8 [==============================] - 0s 7ms/step - loss: 0.2579 - mse: 0.0983 - val_loss: 0.2138 - val_mse: 0.0628\n",
      "Epoch 53/200\n",
      "8/8 [==============================] - 0s 7ms/step - loss: 0.2291 - mse: 0.0909 - val_loss: 0.1968 - val_mse: 0.0531\n",
      "Epoch 54/200\n",
      "8/8 [==============================] - 0s 7ms/step - loss: 0.2400 - mse: 0.0827 - val_loss: 0.1754 - val_mse: 0.0475\n",
      "Epoch 55/200\n",
      "8/8 [==============================] - 0s 6ms/step - loss: 0.2462 - mse: 0.0933 - val_loss: 0.1785 - val_mse: 0.0477\n",
      "Epoch 56/200\n",
      "8/8 [==============================] - 0s 8ms/step - loss: 0.2492 - mse: 0.0971 - val_loss: 0.2235 - val_mse: 0.0637\n",
      "Epoch 57/200\n",
      "8/8 [==============================] - 0s 8ms/step - loss: 0.2206 - mse: 0.0843 - val_loss: 0.2692 - val_mse: 0.0894\n",
      "Epoch 58/200\n",
      "8/8 [==============================] - 0s 7ms/step - loss: 0.2617 - mse: 0.0995 - val_loss: 0.2481 - val_mse: 0.0779\n",
      "Epoch 59/200\n",
      "8/8 [==============================] - 0s 7ms/step - loss: 0.2477 - mse: 0.0923 - val_loss: 0.2235 - val_mse: 0.0657\n",
      "Epoch 60/200\n",
      "8/8 [==============================] - 0s 8ms/step - loss: 0.2673 - mse: 0.1075 - val_loss: 0.1885 - val_mse: 0.0536\n",
      "Epoch 61/200\n",
      "8/8 [==============================] - 0s 8ms/step - loss: 0.2527 - mse: 0.0942 - val_loss: 0.2016 - val_mse: 0.0558\n",
      "Epoch 62/200\n",
      "8/8 [==============================] - 0s 8ms/step - loss: 0.1823 - mse: 0.0537 - val_loss: 0.2447 - val_mse: 0.0740\n",
      "Epoch 63/200\n",
      "8/8 [==============================] - 0s 7ms/step - loss: 0.2818 - mse: 0.1204 - val_loss: 0.2429 - val_mse: 0.0734\n",
      "Epoch 64/200\n",
      "8/8 [==============================] - 0s 10ms/step - loss: 0.3037 - mse: 0.1389 - val_loss: 0.2187 - val_mse: 0.0671\n",
      "Epoch 65/200\n",
      "8/8 [==============================] - 0s 8ms/step - loss: 0.2404 - mse: 0.0896 - val_loss: 0.2157 - val_mse: 0.0637\n",
      "Epoch 66/200\n",
      "8/8 [==============================] - 0s 10ms/step - loss: 0.2537 - mse: 0.1081 - val_loss: 0.2197 - val_mse: 0.0663\n",
      "Epoch 67/200\n",
      "8/8 [==============================] - 0s 8ms/step - loss: 0.2563 - mse: 0.1149 - val_loss: 0.2401 - val_mse: 0.0730\n",
      "Epoch 68/200\n",
      "8/8 [==============================] - 0s 9ms/step - loss: 0.2824 - mse: 0.1350 - val_loss: 0.2721 - val_mse: 0.0898\n",
      "Epoch 69/200\n",
      "8/8 [==============================] - 0s 10ms/step - loss: 0.2342 - mse: 0.0801 - val_loss: 0.2660 - val_mse: 0.0899\n",
      "Epoch 70/200\n",
      "8/8 [==============================] - 0s 10ms/step - loss: 0.2655 - mse: 0.1050 - val_loss: 0.2342 - val_mse: 0.0749\n",
      "Epoch 71/200\n",
      "8/8 [==============================] - 0s 10ms/step - loss: 0.2657 - mse: 0.1116 - val_loss: 0.2206 - val_mse: 0.0697\n",
      "Epoch 72/200\n",
      "8/8 [==============================] - 0s 12ms/step - loss: 0.2510 - mse: 0.0993 - val_loss: 0.2182 - val_mse: 0.0674\n",
      "Epoch 73/200\n",
      "8/8 [==============================] - 0s 19ms/step - loss: 0.2145 - mse: 0.0794 - val_loss: 0.1756 - val_mse: 0.0462\n",
      "Epoch 74/200\n",
      "8/8 [==============================] - 0s 16ms/step - loss: 0.2877 - mse: 0.1229 - val_loss: 0.1803 - val_mse: 0.0466\n",
      "Epoch 75/200\n",
      "8/8 [==============================] - 0s 15ms/step - loss: 0.2262 - mse: 0.0848 - val_loss: 0.2034 - val_mse: 0.0546\n",
      "Epoch 76/200\n",
      "8/8 [==============================] - 0s 13ms/step - loss: 0.2033 - mse: 0.0700 - val_loss: 0.2572 - val_mse: 0.0815\n",
      "Epoch 77/200\n",
      "8/8 [==============================] - 0s 11ms/step - loss: 0.2382 - mse: 0.0878 - val_loss: 0.2665 - val_mse: 0.0877\n",
      "Epoch 78/200\n",
      "8/8 [==============================] - 0s 12ms/step - loss: 0.2656 - mse: 0.1145 - val_loss: 0.2440 - val_mse: 0.0734\n",
      "Epoch 79/200\n",
      "8/8 [==============================] - 0s 13ms/step - loss: 0.2398 - mse: 0.0987 - val_loss: 0.2308 - val_mse: 0.0651\n",
      "Epoch 80/200\n",
      "8/8 [==============================] - 0s 14ms/step - loss: 0.2476 - mse: 0.0977 - val_loss: 0.2139 - val_mse: 0.0590\n",
      "Epoch 81/200\n",
      "8/8 [==============================] - 0s 16ms/step - loss: 0.2493 - mse: 0.0937 - val_loss: 0.2270 - val_mse: 0.0663\n",
      "Epoch 82/200\n",
      "8/8 [==============================] - 0s 13ms/step - loss: 0.2373 - mse: 0.0886 - val_loss: 0.2216 - val_mse: 0.0645\n",
      "Epoch 83/200\n",
      "8/8 [==============================] - 0s 12ms/step - loss: 0.2403 - mse: 0.1021 - val_loss: 0.2045 - val_mse: 0.0619\n",
      "Epoch 84/200\n",
      "8/8 [==============================] - 0s 14ms/step - loss: 0.2563 - mse: 0.0904 - val_loss: 0.1925 - val_mse: 0.0609\n",
      "Epoch 85/200\n",
      "8/8 [==============================] - 0s 12ms/step - loss: 0.1842 - mse: 0.0520 - val_loss: 0.1893 - val_mse: 0.0549\n",
      "Epoch 86/200\n",
      "8/8 [==============================] - 0s 10ms/step - loss: 0.2850 - mse: 0.1195 - val_loss: 0.2266 - val_mse: 0.0731\n",
      "Epoch 87/200\n",
      "8/8 [==============================] - 0s 10ms/step - loss: 0.2473 - mse: 0.1079 - val_loss: 0.2078 - val_mse: 0.0685\n",
      "Epoch 88/200\n",
      "8/8 [==============================] - 0s 11ms/step - loss: 0.2674 - mse: 0.1204 - val_loss: 0.2232 - val_mse: 0.0715\n",
      "Epoch 89/200\n",
      "8/8 [==============================] - 0s 12ms/step - loss: 0.1936 - mse: 0.0662 - val_loss: 0.2250 - val_mse: 0.0684\n",
      "Epoch 90/200\n",
      "8/8 [==============================] - 0s 12ms/step - loss: 0.2546 - mse: 0.1011 - val_loss: 0.2281 - val_mse: 0.0697\n",
      "Epoch 91/200\n",
      "8/8 [==============================] - 0s 12ms/step - loss: 0.2224 - mse: 0.0833 - val_loss: 0.2110 - val_mse: 0.0613\n",
      "Epoch 92/200\n",
      "8/8 [==============================] - 0s 14ms/step - loss: 0.2264 - mse: 0.0850 - val_loss: 0.1833 - val_mse: 0.0553\n",
      "Epoch 93/200\n",
      "8/8 [==============================] - 0s 14ms/step - loss: 0.2314 - mse: 0.0803 - val_loss: 0.1890 - val_mse: 0.0560\n",
      "Epoch 94/200\n",
      "8/8 [==============================] - 0s 10ms/step - loss: 0.2181 - mse: 0.0799 - val_loss: 0.2263 - val_mse: 0.0684\n",
      "Epoch 95/200\n",
      "8/8 [==============================] - 0s 10ms/step - loss: 0.2238 - mse: 0.0795 - val_loss: 0.2402 - val_mse: 0.0727\n",
      "Epoch 96/200\n",
      "8/8 [==============================] - 0s 10ms/step - loss: 0.2265 - mse: 0.0880 - val_loss: 0.2099 - val_mse: 0.0607\n",
      "Epoch 97/200\n",
      "8/8 [==============================] - 0s 10ms/step - loss: 0.2109 - mse: 0.0722 - val_loss: 0.1777 - val_mse: 0.0502\n",
      "Epoch 98/200\n",
      "8/8 [==============================] - 0s 11ms/step - loss: 0.2401 - mse: 0.0846 - val_loss: 0.2291 - val_mse: 0.0674\n",
      "Epoch 99/200\n",
      "8/8 [==============================] - 0s 10ms/step - loss: 0.1921 - mse: 0.0658 - val_loss: 0.2718 - val_mse: 0.0899\n",
      "Epoch 100/200\n",
      "8/8 [==============================] - 0s 10ms/step - loss: 0.2625 - mse: 0.1116 - val_loss: 0.2560 - val_mse: 0.0807\n",
      "Epoch 101/200\n",
      "8/8 [==============================] - 0s 11ms/step - loss: 0.2530 - mse: 0.0918 - val_loss: 0.2236 - val_mse: 0.0647\n",
      "Epoch 102/200\n",
      "8/8 [==============================] - 0s 10ms/step - loss: 0.2220 - mse: 0.0763 - val_loss: 0.2052 - val_mse: 0.0564\n",
      "Epoch 103/200\n",
      "8/8 [==============================] - 0s 11ms/step - loss: 0.2317 - mse: 0.0834 - val_loss: 0.1851 - val_mse: 0.0502\n",
      "Epoch 104/200\n",
      "8/8 [==============================] - 0s 10ms/step - loss: 0.2454 - mse: 0.0920 - val_loss: 0.1974 - val_mse: 0.0557\n",
      "Epoch 105/200\n",
      "8/8 [==============================] - 0s 10ms/step - loss: 0.2270 - mse: 0.0908 - val_loss: 0.2325 - val_mse: 0.0710\n",
      "Epoch 106/200\n",
      "8/8 [==============================] - 0s 10ms/step - loss: 0.2308 - mse: 0.0827 - val_loss: 0.2273 - val_mse: 0.0685\n",
      "Epoch 107/200\n",
      "8/8 [==============================] - 0s 10ms/step - loss: 0.2102 - mse: 0.0739 - val_loss: 0.2041 - val_mse: 0.0589\n",
      "Epoch 108/200\n",
      "8/8 [==============================] - 0s 10ms/step - loss: 0.2313 - mse: 0.0845 - val_loss: 0.1885 - val_mse: 0.0583\n",
      "Epoch 109/200\n",
      "8/8 [==============================] - 0s 10ms/step - loss: 0.2574 - mse: 0.1013 - val_loss: 0.1843 - val_mse: 0.0548\n",
      "Epoch 110/200\n",
      "8/8 [==============================] - 0s 8ms/step - loss: 0.2407 - mse: 0.1122 - val_loss: 0.2322 - val_mse: 0.0715\n",
      "Epoch 111/200\n",
      "8/8 [==============================] - 0s 8ms/step - loss: 0.2553 - mse: 0.1061 - val_loss: 0.2710 - val_mse: 0.0917\n",
      "Epoch 112/200\n",
      "8/8 [==============================] - 0s 8ms/step - loss: 0.2241 - mse: 0.0783 - val_loss: 0.2560 - val_mse: 0.0838\n"
     ]
    },
    {
     "name": "stdout",
     "output_type": "stream",
     "text": [
      "Epoch 113/200\n",
      "8/8 [==============================] - 0s 8ms/step - loss: 0.2360 - mse: 0.0894 - val_loss: 0.2422 - val_mse: 0.0762\n",
      "Epoch 114/200\n",
      "8/8 [==============================] - 0s 10ms/step - loss: 0.2468 - mse: 0.0878 - val_loss: 0.2051 - val_mse: 0.0591\n",
      "Epoch 115/200\n",
      "8/8 [==============================] - 0s 9ms/step - loss: 0.2026 - mse: 0.0626 - val_loss: 0.2000 - val_mse: 0.0554\n",
      "Epoch 116/200\n",
      "8/8 [==============================] - 0s 9ms/step - loss: 0.2265 - mse: 0.0758 - val_loss: 0.1988 - val_mse: 0.0538\n",
      "Epoch 117/200\n",
      "8/8 [==============================] - 0s 7ms/step - loss: 0.1937 - mse: 0.0562 - val_loss: 0.1781 - val_mse: 0.0490\n",
      "Epoch 118/200\n",
      "8/8 [==============================] - 0s 8ms/step - loss: 0.1915 - mse: 0.0599 - val_loss: 0.1689 - val_mse: 0.0479\n",
      "Epoch 119/200\n",
      "8/8 [==============================] - 0s 7ms/step - loss: 0.1949 - mse: 0.0639 - val_loss: 0.1660 - val_mse: 0.0468\n",
      "Epoch 120/200\n",
      "8/8 [==============================] - 0s 8ms/step - loss: 0.2376 - mse: 0.0840 - val_loss: 0.1633 - val_mse: 0.0465\n",
      "Epoch 121/200\n",
      "8/8 [==============================] - 0s 8ms/step - loss: 0.1922 - mse: 0.0686 - val_loss: 0.1947 - val_mse: 0.0548\n",
      "Epoch 122/200\n",
      "8/8 [==============================] - 0s 8ms/step - loss: 0.2249 - mse: 0.0850 - val_loss: 0.1940 - val_mse: 0.0561\n",
      "Epoch 123/200\n",
      "8/8 [==============================] - 0s 8ms/step - loss: 0.2387 - mse: 0.0858 - val_loss: 0.2022 - val_mse: 0.0601\n",
      "Epoch 124/200\n",
      "8/8 [==============================] - 0s 8ms/step - loss: 0.2107 - mse: 0.0711 - val_loss: 0.1974 - val_mse: 0.0591\n",
      "Epoch 125/200\n",
      "8/8 [==============================] - 0s 8ms/step - loss: 0.2372 - mse: 0.0931 - val_loss: 0.2142 - val_mse: 0.0668\n",
      "Epoch 126/200\n",
      "8/8 [==============================] - 0s 9ms/step - loss: 0.1995 - mse: 0.0682 - val_loss: 0.2147 - val_mse: 0.0681\n",
      "Epoch 127/200\n",
      "8/8 [==============================] - 0s 9ms/step - loss: 0.2538 - mse: 0.1081 - val_loss: 0.2262 - val_mse: 0.0731\n",
      "Epoch 128/200\n",
      "8/8 [==============================] - 0s 8ms/step - loss: 0.2008 - mse: 0.0634 - val_loss: 0.2180 - val_mse: 0.0685\n",
      "Epoch 129/200\n",
      "8/8 [==============================] - 0s 14ms/step - loss: 0.2281 - mse: 0.0832 - val_loss: 0.2184 - val_mse: 0.0678\n",
      "Epoch 130/200\n",
      "8/8 [==============================] - 0s 17ms/step - loss: 0.2173 - mse: 0.0715 - val_loss: 0.1775 - val_mse: 0.0546\n",
      "Epoch 131/200\n",
      "8/8 [==============================] - 0s 14ms/step - loss: 0.2399 - mse: 0.1056 - val_loss: 0.1709 - val_mse: 0.0559\n",
      "Epoch 132/200\n",
      "8/8 [==============================] - 0s 13ms/step - loss: 0.2200 - mse: 0.0845 - val_loss: 0.1748 - val_mse: 0.0547\n",
      "Epoch 133/200\n",
      "8/8 [==============================] - 0s 11ms/step - loss: 0.2145 - mse: 0.0737 - val_loss: 0.1755 - val_mse: 0.0537\n",
      "Epoch 134/200\n",
      "8/8 [==============================] - 0s 15ms/step - loss: 0.2616 - mse: 0.0993 - val_loss: 0.1817 - val_mse: 0.0535\n",
      "Epoch 135/200\n",
      "8/8 [==============================] - 0s 17ms/step - loss: 0.1972 - mse: 0.0589 - val_loss: 0.1860 - val_mse: 0.0570\n",
      "Epoch 136/200\n",
      "8/8 [==============================] - 0s 12ms/step - loss: 0.2486 - mse: 0.1149 - val_loss: 0.1935 - val_mse: 0.0591\n",
      "Epoch 137/200\n",
      "8/8 [==============================] - 0s 11ms/step - loss: 0.2554 - mse: 0.1205 - val_loss: 0.1939 - val_mse: 0.0607\n",
      "Epoch 138/200\n",
      "8/8 [==============================] - 0s 13ms/step - loss: 0.1831 - mse: 0.0707 - val_loss: 0.1982 - val_mse: 0.0618\n",
      "Epoch 139/200\n",
      "8/8 [==============================] - 0s 15ms/step - loss: 0.2056 - mse: 0.0604 - val_loss: 0.1991 - val_mse: 0.0616\n",
      "Epoch 140/200\n",
      "8/8 [==============================] - 0s 12ms/step - loss: 0.2302 - mse: 0.0829 - val_loss: 0.1851 - val_mse: 0.0559\n",
      "Epoch 141/200\n",
      "8/8 [==============================] - 0s 9ms/step - loss: 0.2011 - mse: 0.0733 - val_loss: 0.1770 - val_mse: 0.0552\n",
      "Epoch 142/200\n",
      "8/8 [==============================] - 0s 9ms/step - loss: 0.2248 - mse: 0.0848 - val_loss: 0.1794 - val_mse: 0.0560\n",
      "Epoch 143/200\n",
      "8/8 [==============================] - 0s 9ms/step - loss: 0.2188 - mse: 0.0762 - val_loss: 0.2075 - val_mse: 0.0662\n",
      "Epoch 144/200\n",
      "8/8 [==============================] - 0s 9ms/step - loss: 0.2072 - mse: 0.0648 - val_loss: 0.2274 - val_mse: 0.0728\n",
      "Epoch 145/200\n",
      "8/8 [==============================] - 0s 12ms/step - loss: 0.2286 - mse: 0.0862 - val_loss: 0.1949 - val_mse: 0.0619\n",
      "Epoch 146/200\n",
      "8/8 [==============================] - 0s 15ms/step - loss: 0.1838 - mse: 0.0610 - val_loss: 0.1844 - val_mse: 0.0579\n",
      "Epoch 147/200\n",
      "8/8 [==============================] - 0s 20ms/step - loss: 0.1759 - mse: 0.0535 - val_loss: 0.1777 - val_mse: 0.0570\n",
      "Epoch 148/200\n",
      "8/8 [==============================] - 0s 10ms/step - loss: 0.1717 - mse: 0.0506 - val_loss: 0.1677 - val_mse: 0.0500\n",
      "Epoch 149/200\n",
      "8/8 [==============================] - 0s 9ms/step - loss: 0.1811 - mse: 0.0560 - val_loss: 0.1646 - val_mse: 0.0476\n",
      "Epoch 150/200\n",
      "8/8 [==============================] - 0s 10ms/step - loss: 0.2184 - mse: 0.0746 - val_loss: 0.1708 - val_mse: 0.0498\n",
      "Epoch 151/200\n",
      "8/8 [==============================] - 0s 11ms/step - loss: 0.1878 - mse: 0.0560 - val_loss: 0.1924 - val_mse: 0.0594\n",
      "Epoch 152/200\n",
      "8/8 [==============================] - 0s 10ms/step - loss: 0.1708 - mse: 0.0586 - val_loss: 0.2090 - val_mse: 0.0686\n",
      "Epoch 153/200\n",
      "8/8 [==============================] - 0s 11ms/step - loss: 0.2054 - mse: 0.0619 - val_loss: 0.2217 - val_mse: 0.0736\n",
      "Epoch 154/200\n",
      "8/8 [==============================] - 0s 10ms/step - loss: 0.1961 - mse: 0.0667 - val_loss: 0.1932 - val_mse: 0.0614\n",
      "Epoch 155/200\n",
      "8/8 [==============================] - 0s 11ms/step - loss: 0.2021 - mse: 0.0709 - val_loss: 0.1742 - val_mse: 0.0536\n",
      "Epoch 156/200\n",
      "8/8 [==============================] - 0s 12ms/step - loss: 0.1878 - mse: 0.0658 - val_loss: 0.1695 - val_mse: 0.0547\n",
      "Epoch 157/200\n",
      "8/8 [==============================] - 0s 13ms/step - loss: 0.2096 - mse: 0.0737 - val_loss: 0.1741 - val_mse: 0.0581\n",
      "Epoch 158/200\n",
      "8/8 [==============================] - 0s 12ms/step - loss: 0.2033 - mse: 0.0708 - val_loss: 0.1791 - val_mse: 0.0601\n",
      "Epoch 159/200\n",
      "8/8 [==============================] - 0s 12ms/step - loss: 0.2099 - mse: 0.0873 - val_loss: 0.1729 - val_mse: 0.0554\n",
      "Epoch 160/200\n",
      "8/8 [==============================] - 0s 12ms/step - loss: 0.1654 - mse: 0.0463 - val_loss: 0.1769 - val_mse: 0.0568\n",
      "Epoch 161/200\n",
      "8/8 [==============================] - 0s 10ms/step - loss: 0.1807 - mse: 0.0589 - val_loss: 0.1793 - val_mse: 0.0595\n",
      "Epoch 162/200\n",
      "8/8 [==============================] - 0s 8ms/step - loss: 0.2003 - mse: 0.0658 - val_loss: 0.2146 - val_mse: 0.0748\n",
      "Epoch 163/200\n",
      "8/8 [==============================] - 0s 8ms/step - loss: 0.2116 - mse: 0.0630 - val_loss: 0.2093 - val_mse: 0.0698\n",
      "Epoch 164/200\n",
      "8/8 [==============================] - 0s 8ms/step - loss: 0.1945 - mse: 0.0546 - val_loss: 0.2099 - val_mse: 0.0700\n",
      "Epoch 165/200\n",
      "8/8 [==============================] - 0s 8ms/step - loss: 0.2411 - mse: 0.0925 - val_loss: 0.2083 - val_mse: 0.0692\n",
      "Epoch 166/200\n",
      "8/8 [==============================] - 0s 10ms/step - loss: 0.2000 - mse: 0.0698 - val_loss: 0.2049 - val_mse: 0.0663\n",
      "Epoch 167/200\n",
      "8/8 [==============================] - 0s 7ms/step - loss: 0.1953 - mse: 0.0639 - val_loss: 0.1975 - val_mse: 0.0633\n",
      "Epoch 168/200\n",
      "8/8 [==============================] - 0s 7ms/step - loss: 0.2005 - mse: 0.0659 - val_loss: 0.1987 - val_mse: 0.0628\n",
      "Epoch 169/200\n",
      "8/8 [==============================] - 0s 7ms/step - loss: 0.2453 - mse: 0.0940 - val_loss: 0.2027 - val_mse: 0.0640\n",
      "Epoch 170/200\n",
      "8/8 [==============================] - 0s 8ms/step - loss: 0.2199 - mse: 0.0742 - val_loss: 0.2007 - val_mse: 0.0672\n",
      "Epoch 171/200\n",
      "8/8 [==============================] - 0s 8ms/step - loss: 0.2231 - mse: 0.0748 - val_loss: 0.1907 - val_mse: 0.0640\n",
      "Epoch 172/200\n",
      "8/8 [==============================] - 0s 7ms/step - loss: 0.1939 - mse: 0.0670 - val_loss: 0.1887 - val_mse: 0.0634\n",
      "Epoch 173/200\n",
      "8/8 [==============================] - 0s 8ms/step - loss: 0.2178 - mse: 0.0769 - val_loss: 0.1836 - val_mse: 0.0597\n",
      "Epoch 174/200\n",
      "8/8 [==============================] - 0s 8ms/step - loss: 0.1690 - mse: 0.0473 - val_loss: 0.1826 - val_mse: 0.0630\n",
      "Epoch 175/200\n",
      "8/8 [==============================] - 0s 9ms/step - loss: 0.1800 - mse: 0.0556 - val_loss: 0.1955 - val_mse: 0.0695\n",
      "Epoch 176/200\n",
      "8/8 [==============================] - 0s 7ms/step - loss: 0.1913 - mse: 0.0624 - val_loss: 0.2116 - val_mse: 0.0760\n",
      "Epoch 177/200\n",
      "8/8 [==============================] - 0s 7ms/step - loss: 0.1783 - mse: 0.0548 - val_loss: 0.1987 - val_mse: 0.0671\n",
      "Epoch 178/200\n",
      "8/8 [==============================] - 0s 8ms/step - loss: 0.1684 - mse: 0.0449 - val_loss: 0.1949 - val_mse: 0.0641\n",
      "Epoch 179/200\n",
      "8/8 [==============================] - 0s 8ms/step - loss: 0.1823 - mse: 0.0580 - val_loss: 0.1979 - val_mse: 0.0669\n",
      "Epoch 180/200\n",
      "8/8 [==============================] - 0s 9ms/step - loss: 0.2023 - mse: 0.0664 - val_loss: 0.1862 - val_mse: 0.0601\n",
      "Epoch 181/200\n",
      "8/8 [==============================] - 0s 9ms/step - loss: 0.1959 - mse: 0.0626 - val_loss: 0.1951 - val_mse: 0.0646\n",
      "Epoch 182/200\n",
      "8/8 [==============================] - 0s 8ms/step - loss: 0.1893 - mse: 0.0569 - val_loss: 0.1890 - val_mse: 0.0614\n",
      "Epoch 183/200\n",
      "8/8 [==============================] - 0s 8ms/step - loss: 0.1975 - mse: 0.0649 - val_loss: 0.1859 - val_mse: 0.0598\n",
      "Epoch 184/200\n",
      "8/8 [==============================] - 0s 7ms/step - loss: 0.2065 - mse: 0.0597 - val_loss: 0.1926 - val_mse: 0.0601\n",
      "Epoch 185/200\n",
      "8/8 [==============================] - 0s 7ms/step - loss: 0.2043 - mse: 0.0666 - val_loss: 0.1949 - val_mse: 0.0601\n",
      "Epoch 186/200\n",
      "8/8 [==============================] - 0s 7ms/step - loss: 0.1575 - mse: 0.0478 - val_loss: 0.1744 - val_mse: 0.0541\n",
      "Epoch 187/200\n",
      "8/8 [==============================] - 0s 13ms/step - loss: 0.1830 - mse: 0.0506 - val_loss: 0.1787 - val_mse: 0.0578\n",
      "Epoch 188/200\n",
      "8/8 [==============================] - 0s 8ms/step - loss: 0.1915 - mse: 0.0545 - val_loss: 0.1842 - val_mse: 0.0606\n",
      "Epoch 189/200\n",
      "8/8 [==============================] - 0s 17ms/step - loss: 0.1993 - mse: 0.0679 - val_loss: 0.1794 - val_mse: 0.0586\n",
      "Epoch 190/200\n",
      "8/8 [==============================] - 0s 16ms/step - loss: 0.1669 - mse: 0.0467 - val_loss: 0.1878 - val_mse: 0.0609\n",
      "Epoch 191/200\n",
      "8/8 [==============================] - 0s 14ms/step - loss: 0.2014 - mse: 0.0776 - val_loss: 0.1665 - val_mse: 0.0527\n",
      "Epoch 192/200\n",
      "8/8 [==============================] - 0s 13ms/step - loss: 0.1856 - mse: 0.0637 - val_loss: 0.1664 - val_mse: 0.0539\n",
      "Epoch 193/200\n",
      "8/8 [==============================] - 0s 13ms/step - loss: 0.2033 - mse: 0.0681 - val_loss: 0.1650 - val_mse: 0.0521\n",
      "Epoch 194/200\n",
      "8/8 [==============================] - 0s 12ms/step - loss: 0.1823 - mse: 0.0524 - val_loss: 0.1906 - val_mse: 0.0623\n",
      "Epoch 195/200\n",
      "8/8 [==============================] - 0s 12ms/step - loss: 0.2143 - mse: 0.0795 - val_loss: 0.1859 - val_mse: 0.0607\n",
      "Epoch 196/200\n",
      "8/8 [==============================] - 0s 12ms/step - loss: 0.1614 - mse: 0.0409 - val_loss: 0.1732 - val_mse: 0.0549\n",
      "Epoch 197/200\n",
      "8/8 [==============================] - 0s 11ms/step - loss: 0.1849 - mse: 0.0587 - val_loss: 0.1809 - val_mse: 0.0588\n",
      "Epoch 198/200\n",
      "8/8 [==============================] - 0s 10ms/step - loss: 0.1789 - mse: 0.0580 - val_loss: 0.1997 - val_mse: 0.0691\n",
      "Epoch 199/200\n",
      "8/8 [==============================] - 0s 10ms/step - loss: 0.1619 - mse: 0.0414 - val_loss: 0.1981 - val_mse: 0.0698\n",
      "Epoch 200/200\n",
      "8/8 [==============================] - 0s 10ms/step - loss: 0.1813 - mse: 0.0553 - val_loss: 0.1887 - val_mse: 0.0698\n"
     ]
    }
   ],
   "source": [
    "EPOCHS=200\n",
    "\n",
    "model = crear_modeloFF()\n",
    "\n",
    "history=model.fit(x_train,y_train,epochs=EPOCHS,validation_data=(x_val,y_val),batch_size=look_back)"
   ]
  },
  {
   "cell_type": "markdown",
   "metadata": {},
   "source": [
    "# Visualizamos resultados"
   ]
  },
  {
   "cell_type": "code",
   "execution_count": 27,
   "metadata": {},
   "outputs": [],
   "source": [
    "def mape(actual, pred): \n",
    "    actual, pred = np.array(actual), np.array(pred)\n",
    "    return np.mean(np.abs((actual - pred) / actual)) * 100\n",
    "\n",
    "\n",
    "def compute_metrics_fn(y_valid_resc, y_hat_resc):\n",
    "    mae_ = mean_absolute_error(y_valid_resc, y_hat_resc)\n",
    "    mse_ = mean_squared_error(y_valid_resc, y_hat_resc)\n",
    "    rmse_ = mean_squared_error(y_valid_resc, y_hat_resc, squared = False)\n",
    "    cvrmse_ = rmse_/np.mean(y_valid_resc)*100\n",
    "    mape_ = mape(y_valid_resc, y_hat_resc)\n",
    "    \n",
    "    return mae_, mse_, rmse_, cvrmse_, mape_"
   ]
  },
  {
   "cell_type": "code",
   "execution_count": 28,
   "metadata": {},
   "outputs": [],
   "source": [
    "# hacemos las predicciones\n",
    "trainPredict = model.predict(x_train)\n",
    "testPredict = model.predict(x_val)\n",
    "\n",
    "# invertimos las predicciones\n",
    "trainPredict = scaler.inverse_transform(trainPredict)\n",
    "trainY = y_train.reshape(y_train.shape[0], 1)\n",
    "trainY_scalerInverse = scaler.inverse_transform(trainY)\n",
    "testPredict = scaler.inverse_transform(testPredict)\n",
    "testY = y_val.reshape(y_val.shape[0], 1)\n",
    "testY_scalerInverse = scaler.inverse_transform(testY)"
   ]
  },
  {
   "cell_type": "code",
   "execution_count": 29,
   "metadata": {},
   "outputs": [
    {
     "name": "stdout",
     "output_type": "stream",
     "text": [
      "Resultado del entrenamiento: 286.71 MAE\n",
      "Resultado del entrenamiento: 147055.38 MSE\n",
      "Resultado del entrenamiento: 383.48 RMSE\n",
      "Resultado del entrenamiento: 9.81 CVRMSE\n",
      "Resultado del entrenamiento: 8.25 MAPE \n",
      "\n",
      "Resultado del test: 334.47 MAE\n",
      "Resultado del test: 219380.28 MSE\n",
      "Resultado del test: 468.38 RMSE\n",
      "Resultado del test: 8.94 CVRMSE\n",
      "Resultado del test: 6.52 MAPE\n"
     ]
    }
   ],
   "source": [
    "# calculamos las metricas de error\n",
    "trainScore_MAE, trainScore_MSE, trainScore_RMSE, trainScore_CVRMSE, trainScore_MAPE  =  compute_metrics_fn(trainY_scalerInverse, trainPredict)\n",
    "print('Resultado del entrenamiento: %.2f MAE' % (trainScore_MAE))\n",
    "print('Resultado del entrenamiento: %.2f MSE' % (trainScore_MSE))\n",
    "print('Resultado del entrenamiento: %.2f RMSE' % (trainScore_RMSE))\n",
    "print('Resultado del entrenamiento: %.2f CVRMSE' % (trainScore_CVRMSE))\n",
    "print('Resultado del entrenamiento: %.2f MAPE \\n' % (trainScore_MAPE))\n",
    "\n",
    "testScore_MAE, testScore_MSE, testScore_RMSE, testScore_CVRMSE, testScore_MAPE  =  compute_metrics_fn(testY_scalerInverse, testPredict)\n",
    "print('Resultado del test: %.2f MAE' % (testScore_MAE))\n",
    "print('Resultado del test: %.2f MSE' % (testScore_MSE))\n",
    "print('Resultado del test: %.2f RMSE' % (testScore_RMSE))\n",
    "print('Resultado del test: %.2f CVRMSE' % (testScore_CVRMSE))\n",
    "print('Resultado del test: %.2f MAPE' % (testScore_MAPE))"
   ]
  },
  {
   "cell_type": "code",
   "execution_count": 30,
   "metadata": {},
   "outputs": [
    {
     "data": {
      "image/png": "[encoded data removed]",
      "text/plain": [
       "<Figure size 432x288 with 1 Axes>"
      ]
     },
     "metadata": {
      "needs_background": "light"
     },
     "output_type": "display_data"
    }
   ],
   "source": [
    "dataset = df_ine.values\n",
    "dataset = dataset.astype('float32')\n",
    "# predicciones del entrenamiento de cambio para plotear\n",
    "trainPredictPlot = np.empty_like(dataset)\n",
    "trainPredictPlot[:, :] = np.nan\n",
    "trainPredictPlot[look_back:len(trainPredict)+look_back, :] = trainPredict\n",
    "# predicciones del test de cambio para plotear\n",
    "testPredictPlot = np.empty_like(dataset)\n",
    "testPredictPlot[:, :] = np.nan\n",
    "testPredictPlot[len(trainPredict)+(look_back):len(dataset), :] = testPredict\n",
    "# plot baseline and predictions\n",
    "plt.plot(df_ine.values)\n",
    "# ploteamos linea base y predicciones\n",
    "plt.plot(trainPredictPlot,'r', linewidth = 2)\n",
    "plt.plot(testPredictPlot,'m', linewidth = 2)\n",
    "plt.legend( ('Datos', 'Prediccion datos entramiento', 'Prediccion sobre los datos de test'), loc = 'upper left')\n",
    "plt.grid(True)\n",
    "plt.title(\"Viajes totales\", fontsize = 15)\n",
    "plt.xlabel(\"Tiempo (dias)\", fontsize = 10)\n",
    "plt.ylabel(\"viajes (en miles)\", fontsize = 10)\n",
    "plt.show()"
   ]
  },
  {
   "cell_type": "code",
   "execution_count": 31,
   "metadata": {},
   "outputs": [
    {
     "data": {
      "image/png": "[encoded data removed]",
      "text/plain": [
       "<Figure size 432x288 with 1 Axes>"
      ]
     },
     "metadata": {
      "needs_background": "light"
     },
     "output_type": "display_data"
    }
   ],
   "source": [
    "results=model.predict(x_val)\n",
    "\n",
    "plt.scatter(range(len(y_val)),y_val,c='g')\n",
    "plt.scatter(range(len(results)),results,c='r')\n",
    "plt.title('validate')\n",
    "plt.xlabel(\"Tiempo (dias)\", fontsize = 10)\n",
    "plt.ylabel(\"viajes (en miles)\", fontsize = 10)\n",
    "plt.show()"
   ]
  },
  {
   "cell_type": "code",
   "execution_count": 32,
   "metadata": {},
   "outputs": [
    {
     "data": {
      "image/png": "[encoded data removed]",
      "text/plain": [
       "<Figure size 432x288 with 1 Axes>"
      ]
     },
     "metadata": {
      "needs_background": "light"
     },
     "output_type": "display_data"
    }
   ],
   "source": [
    "plt.plot(history.history['loss'])\n",
    "plt.plot(history.history['val_loss'])\n",
    "plt.title('loss')\n",
    "plt.legend( ('training loss', 'validate loss'), loc = 'upper right')\n",
    "plt.show()"
   ]
  },
  {
   "cell_type": "markdown",
   "metadata": {},
   "source": [
    "# Prediccion a futuro"
   ]
  },
  {
   "cell_type": "code",
   "execution_count": 33,
   "metadata": {},
   "outputs": [
    {
     "data": {
      "text/html": [
       "<div>\n",
       "<style scoped>\n",
       "    .dataframe tbody tr th:only-of-type {\n",
       "        vertical-align: middle;\n",
       "    }\n",
       "\n",
       "    .dataframe tbody tr th {\n",
       "        vertical-align: top;\n",
       "    }\n",
       "\n",
       "    .dataframe thead th {\n",
       "        text-align: right;\n",
       "    }\n",
       "</style>\n",
       "<table border=\"1\" class=\"dataframe\">\n",
       "  <thead>\n",
       "    <tr style=\"text-align: right;\">\n",
       "      <th></th>\n",
       "      <th>Viajes</th>\n",
       "    </tr>\n",
       "  </thead>\n",
       "  <tbody>\n",
       "    <tr>\n",
       "      <th>2020-06-07</th>\n",
       "      <td>0</td>\n",
       "    </tr>\n",
       "    <tr>\n",
       "      <th>2020-06-08</th>\n",
       "      <td>5</td>\n",
       "    </tr>\n",
       "    <tr>\n",
       "      <th>2020-06-09</th>\n",
       "      <td>2</td>\n",
       "    </tr>\n",
       "    <tr>\n",
       "      <th>2020-06-10</th>\n",
       "      <td>2</td>\n",
       "    </tr>\n",
       "    <tr>\n",
       "      <th>2020-06-11</th>\n",
       "      <td>0</td>\n",
       "    </tr>\n",
       "    <tr>\n",
       "      <th>2020-06-12</th>\n",
       "      <td>2</td>\n",
       "    </tr>\n",
       "    <tr>\n",
       "      <th>2020-06-13</th>\n",
       "      <td>0</td>\n",
       "    </tr>\n",
       "    <tr>\n",
       "      <th>2020-06-14</th>\n",
       "      <td>0</td>\n",
       "    </tr>\n",
       "    <tr>\n",
       "      <th>2020-06-15</th>\n",
       "      <td>2</td>\n",
       "    </tr>\n",
       "    <tr>\n",
       "      <th>2020-06-16</th>\n",
       "      <td>0</td>\n",
       "    </tr>\n",
       "    <tr>\n",
       "      <th>2020-06-17</th>\n",
       "      <td>0</td>\n",
       "    </tr>\n",
       "    <tr>\n",
       "      <th>2020-06-18</th>\n",
       "      <td>2</td>\n",
       "    </tr>\n",
       "    <tr>\n",
       "      <th>2020-06-19</th>\n",
       "      <td>0</td>\n",
       "    </tr>\n",
       "    <tr>\n",
       "      <th>2020-06-20</th>\n",
       "      <td>0</td>\n",
       "    </tr>\n",
       "  </tbody>\n",
       "</table>\n",
       "</div>"
      ],
      "text/plain": [
       "            Viajes\n",
       "2020-06-07       0\n",
       "2020-06-08       5\n",
       "2020-06-09       2\n",
       "2020-06-10       2\n",
       "2020-06-11       0\n",
       "2020-06-12       2\n",
       "2020-06-13       0\n",
       "2020-06-14       0\n",
       "2020-06-15       2\n",
       "2020-06-16       0\n",
       "2020-06-17       0\n",
       "2020-06-18       2\n",
       "2020-06-19       0\n",
       "2020-06-20       0"
      ]
     },
     "execution_count": 33,
     "metadata": {},
     "output_type": "execute_result"
    }
   ],
   "source": [
    "# usaremos los 14 ultimos dias del confinamiento en junio para predecir como habrian sido los dias del 21 al 27 en caso de que\n",
    "# el confinamiento se hubiese alargado por una semana mas\n",
    "\n",
    "ultimosDias_twt = df_twt['2020-6-7':'2020-6-20']\n",
    "ultimosDias_ine = df_ine['2020-6-7':'2020-6-20']\n",
    "ultimosDias_twt"
   ]
  },
  {
   "cell_type": "markdown",
   "metadata": {},
   "source": [
    "# Preparamos los datos para el test"
   ]
  },
  {
   "cell_type": "code",
   "execution_count": 34,
   "metadata": {},
   "outputs": [
    {
     "data": {
      "text/html": [
       "<div>\n",
       "<style scoped>\n",
       "    .dataframe tbody tr th:only-of-type {\n",
       "        vertical-align: middle;\n",
       "    }\n",
       "\n",
       "    .dataframe tbody tr th {\n",
       "        vertical-align: top;\n",
       "    }\n",
       "\n",
       "    .dataframe thead th {\n",
       "        text-align: right;\n",
       "    }\n",
       "</style>\n",
       "<table border=\"1\" class=\"dataframe\">\n",
       "  <thead>\n",
       "    <tr style=\"text-align: right;\">\n",
       "      <th></th>\n",
       "      <th>var1(t-7)</th>\n",
       "      <th>var2(t-7)</th>\n",
       "      <th>var1(t-6)</th>\n",
       "      <th>var2(t-6)</th>\n",
       "      <th>var1(t-5)</th>\n",
       "      <th>var2(t-5)</th>\n",
       "      <th>var1(t-4)</th>\n",
       "      <th>var2(t-4)</th>\n",
       "      <th>var1(t-3)</th>\n",
       "      <th>var2(t-3)</th>\n",
       "      <th>var1(t-2)</th>\n",
       "      <th>var2(t-2)</th>\n",
       "      <th>var1(t-1)</th>\n",
       "      <th>var2(t-1)</th>\n",
       "    </tr>\n",
       "  </thead>\n",
       "  <tbody>\n",
       "    <tr>\n",
       "      <th>7</th>\n",
       "      <td>-1.0</td>\n",
       "      <td>-0.690595</td>\n",
       "      <td>1.0</td>\n",
       "      <td>0.139678</td>\n",
       "      <td>-0.2</td>\n",
       "      <td>-0.302170</td>\n",
       "      <td>-0.2</td>\n",
       "      <td>0.649416</td>\n",
       "      <td>-1.0</td>\n",
       "      <td>0.481358</td>\n",
       "      <td>-0.2</td>\n",
       "      <td>0.787424</td>\n",
       "      <td>-1.0</td>\n",
       "      <td>0.130774</td>\n",
       "    </tr>\n",
       "    <tr>\n",
       "      <th>8</th>\n",
       "      <td>1.0</td>\n",
       "      <td>0.139678</td>\n",
       "      <td>-0.2</td>\n",
       "      <td>-0.302170</td>\n",
       "      <td>-0.2</td>\n",
       "      <td>0.649416</td>\n",
       "      <td>-1.0</td>\n",
       "      <td>0.481358</td>\n",
       "      <td>-0.2</td>\n",
       "      <td>0.787424</td>\n",
       "      <td>-1.0</td>\n",
       "      <td>0.130774</td>\n",
       "      <td>-1.0</td>\n",
       "      <td>-1.000000</td>\n",
       "    </tr>\n",
       "    <tr>\n",
       "      <th>9</th>\n",
       "      <td>-0.2</td>\n",
       "      <td>-0.302170</td>\n",
       "      <td>-0.2</td>\n",
       "      <td>0.649416</td>\n",
       "      <td>-1.0</td>\n",
       "      <td>0.481358</td>\n",
       "      <td>-0.2</td>\n",
       "      <td>0.787424</td>\n",
       "      <td>-1.0</td>\n",
       "      <td>0.130774</td>\n",
       "      <td>-1.0</td>\n",
       "      <td>-1.000000</td>\n",
       "      <td>-0.2</td>\n",
       "      <td>0.238731</td>\n",
       "    </tr>\n",
       "    <tr>\n",
       "      <th>10</th>\n",
       "      <td>-0.2</td>\n",
       "      <td>0.649416</td>\n",
       "      <td>-1.0</td>\n",
       "      <td>0.481358</td>\n",
       "      <td>-0.2</td>\n",
       "      <td>0.787424</td>\n",
       "      <td>-1.0</td>\n",
       "      <td>0.130774</td>\n",
       "      <td>-1.0</td>\n",
       "      <td>-1.000000</td>\n",
       "      <td>-0.2</td>\n",
       "      <td>0.238731</td>\n",
       "      <td>-1.0</td>\n",
       "      <td>0.382304</td>\n",
       "    </tr>\n",
       "    <tr>\n",
       "      <th>11</th>\n",
       "      <td>-1.0</td>\n",
       "      <td>0.481358</td>\n",
       "      <td>-0.2</td>\n",
       "      <td>0.787424</td>\n",
       "      <td>-1.0</td>\n",
       "      <td>0.130774</td>\n",
       "      <td>-1.0</td>\n",
       "      <td>-1.000000</td>\n",
       "      <td>-0.2</td>\n",
       "      <td>0.238731</td>\n",
       "      <td>-1.0</td>\n",
       "      <td>0.382304</td>\n",
       "      <td>-1.0</td>\n",
       "      <td>0.850863</td>\n",
       "    </tr>\n",
       "    <tr>\n",
       "      <th>12</th>\n",
       "      <td>-0.2</td>\n",
       "      <td>0.787424</td>\n",
       "      <td>-1.0</td>\n",
       "      <td>0.130774</td>\n",
       "      <td>-1.0</td>\n",
       "      <td>-1.000000</td>\n",
       "      <td>-0.2</td>\n",
       "      <td>0.238731</td>\n",
       "      <td>-1.0</td>\n",
       "      <td>0.382304</td>\n",
       "      <td>-1.0</td>\n",
       "      <td>0.850863</td>\n",
       "      <td>-0.2</td>\n",
       "      <td>0.798553</td>\n",
       "    </tr>\n",
       "    <tr>\n",
       "      <th>13</th>\n",
       "      <td>-1.0</td>\n",
       "      <td>0.130774</td>\n",
       "      <td>-1.0</td>\n",
       "      <td>-1.000000</td>\n",
       "      <td>-0.2</td>\n",
       "      <td>0.238731</td>\n",
       "      <td>-1.0</td>\n",
       "      <td>0.382304</td>\n",
       "      <td>-1.0</td>\n",
       "      <td>0.850863</td>\n",
       "      <td>-0.2</td>\n",
       "      <td>0.798553</td>\n",
       "      <td>-1.0</td>\n",
       "      <td>1.000000</td>\n",
       "    </tr>\n",
       "  </tbody>\n",
       "</table>\n",
       "</div>"
      ],
      "text/plain": [
       "    var1(t-7)  var2(t-7)  var1(t-6)  var2(t-6)  var1(t-5)  var2(t-5)  \\\n",
       "7        -1.0  -0.690595        1.0   0.139678       -0.2  -0.302170   \n",
       "8         1.0   0.139678       -0.2  -0.302170       -0.2   0.649416   \n",
       "9        -0.2  -0.302170       -0.2   0.649416       -1.0   0.481358   \n",
       "10       -0.2   0.649416       -1.0   0.481358       -0.2   0.787424   \n",
       "11       -1.0   0.481358       -0.2   0.787424       -1.0   0.130774   \n",
       "12       -0.2   0.787424       -1.0   0.130774       -1.0  -1.000000   \n",
       "13       -1.0   0.130774       -1.0  -1.000000       -0.2   0.238731   \n",
       "\n",
       "    var1(t-4)  var2(t-4)  var1(t-3)  var2(t-3)  var1(t-2)  var2(t-2)  \\\n",
       "7        -0.2   0.649416       -1.0   0.481358       -0.2   0.787424   \n",
       "8        -1.0   0.481358       -0.2   0.787424       -1.0   0.130774   \n",
       "9        -0.2   0.787424       -1.0   0.130774       -1.0  -1.000000   \n",
       "10       -1.0   0.130774       -1.0  -1.000000       -0.2   0.238731   \n",
       "11       -1.0  -1.000000       -0.2   0.238731       -1.0   0.382304   \n",
       "12       -0.2   0.238731       -1.0   0.382304       -1.0   0.850863   \n",
       "13       -1.0   0.382304       -1.0   0.850863       -0.2   0.798553   \n",
       "\n",
       "    var1(t-1)  var2(t-1)  \n",
       "7        -1.0   0.130774  \n",
       "8        -1.0  -1.000000  \n",
       "9        -0.2   0.238731  \n",
       "10       -1.0   0.382304  \n",
       "11       -1.0   0.850863  \n",
       "12       -0.2   0.798553  \n",
       "13       -1.0   1.000000  "
      ]
     },
     "execution_count": 34,
     "metadata": {},
     "output_type": "execute_result"
    }
   ],
   "source": [
    "# cargamos el dataframe en la variable values\n",
    "values_twt = ultimosDias_twt.values\n",
    "values_ine = ultimosDias_ine.values\n",
    "\n",
    "# convertimos los enteros en floats\n",
    "values_twt = values_twt.astype('float32')\n",
    "values_ine = values_ine.astype('float32')\n",
    "\n",
    "# normalizamos los datos a escala de entre -1 y 1\n",
    "values_twt =values_twt.reshape(-1, 1)\n",
    "scaled_twt = scaler.fit_transform(values_twt)\n",
    "values_ine =values_ine.reshape(-1, 1) # esto lo hacemos porque tenemos 1 sola dimension\n",
    "scaled_ine = scaler.fit_transform(values_ine)\n",
    "\n",
    "# usamos la funcion definida previamente\n",
    "reframed_twt = series_to_supervised(scaled_twt, look_back, 1)\n",
    "reframed_ine = series_to_supervised(scaled_ine, look_back, 1)\n",
    "\n",
    "# eliminamos la ultima columna pues es parte de lo que queremos hayar\n",
    "reframed_twt.drop(reframed_twt.columns[[7]], inplace=True, axis=1)\n",
    "reframed_ine.drop(reframed_ine.columns[[7]], inplace=True, axis=1)\n",
    "\n",
    "#unimos los dataframes\n",
    "reframed_ine.columns = ['var2(t-7)', 'var2(t-6)', 'var2(t-5)', 'var2(t-4)', 'var2(t-3)', 'var2(t-2)', 'var2(t-1)']\n",
    "reframed = pd.concat([reframed_twt.iloc[:, 0], reframed_ine.iloc[:, 0]], axis=1)\n",
    "\n",
    "for i in range(6):\n",
    "    reframed = pd.concat([reframed, reframed_twt.iloc[:, i+1]], axis=1)\n",
    "    reframed = pd.concat([reframed, reframed_ine.iloc[:, i+1]], axis=1)\n",
    "\n",
    "#mostramos el set de entrenamiento\n",
    "reframed.head(7)"
   ]
  },
  {
   "cell_type": "code",
   "execution_count": 35,
   "metadata": {},
   "outputs": [
    {
     "name": "stdout",
     "output_type": "stream",
     "text": [
      "(1, 1, 14)\n"
     ]
    },
    {
     "data": {
      "text/plain": [
       "array([[[-1.        ,  0.13077354, -1.        , -1.        ,\n",
       "         -0.19999999,  0.23873138, -1.        ,  0.3823037 ,\n",
       "         -1.        ,  0.8508625 , -0.19999999,  0.79855347,\n",
       "         -1.        ,  1.        ]]], dtype=float32)"
      ]
     },
     "execution_count": 35,
     "metadata": {},
     "output_type": "execute_result"
    }
   ],
   "source": [
    "values = reframed.values\n",
    "\n",
    "#tomamos los valores para realizar el test\n",
    "x_test = values[6:, :]\n",
    "\n",
    "# reshape input to be 3D [samples, timesteps, features] - preguntar\n",
    "x_test = x_test.reshape((x_test.shape[0], 1, x_test.shape[1]))\n",
    "print(x_test.shape)\n",
    "x_test"
   ]
  },
  {
   "cell_type": "code",
   "execution_count": 36,
   "metadata": {},
   "outputs": [],
   "source": [
    "#definimos la funcion para realizar el desplazamiento que se hara en el array cada prediccion pues para hacer\n",
    "#la siguiente prediccion eliminamos el dia mas antiguo, desplazamos un lugar el resto de dias y añadimos el ultimo dia que\n",
    "#se ha predecido, esto es por que para predecir un dia se usan los 7 dias previos\n",
    "\n",
    "def agregarNuevoValor(x_test,nuevoValor):\n",
    "    for i in range(x_test.shape[2]-1):\n",
    "        x_test[0][0][i] = x_test[0][0][i+1]\n",
    "    x_test[0][0][x_test.shape[2]-1]=nuevoValor\n",
    "    return x_test"
   ]
  },
  {
   "cell_type": "markdown",
   "metadata": {},
   "source": [
    "# Predicciones para la proxima semana"
   ]
  },
  {
   "cell_type": "code",
   "execution_count": 37,
   "metadata": {},
   "outputs": [
    {
     "name": "stdout",
     "output_type": "stream",
     "text": [
      "[[[-1.          0.13077354 -1.         -1.         -0.19999999\n",
      "    0.23873138 -1.          0.3823037  -1.          0.8508625\n",
      "   -0.19999999  0.79855347 -1.          1.        ]]]\n",
      "[[[ 0.13077354 -1.         -1.         -0.19999999  0.23873138\n",
      "   -1.          0.3823037  -1.          0.8508625  -0.19999999\n",
      "    0.79855347 -1.          1.          0.6693913 ]]]\n",
      "[[[-1.         -1.         -0.19999999  0.23873138 -1.\n",
      "    0.3823037  -1.          0.8508625  -0.19999999  0.79855347\n",
      "   -1.          1.          0.6693913   0.507582  ]]]\n",
      "[[[-1.         -0.19999999  0.23873138 -1.          0.3823037\n",
      "   -1.          0.8508625  -0.19999999  0.79855347 -1.\n",
      "    1.          0.6693913   0.507582    0.3538367 ]]]\n",
      "[[[-0.19999999  0.23873138 -1.          0.3823037  -1.\n",
      "    0.8508625  -0.19999999  0.79855347 -1.          1.\n",
      "    0.6693913   0.507582    0.3538367   0.07546335]]]\n",
      "[[[ 0.23873138 -1.          0.3823037  -1.          0.8508625\n",
      "   -0.19999999  0.79855347 -1.          1.          0.6693913\n",
      "    0.507582    0.3538367   0.07546335  0.7086466 ]]]\n",
      "[[[-1.          0.3823037  -1.          0.8508625  -0.19999999\n",
      "    0.79855347 -1.          1.          0.6693913   0.507582\n",
      "    0.3538367   0.07546335  0.7086466   0.11353825]]]\n"
     ]
    }
   ],
   "source": [
    "results=[]\n",
    "for i in range(7):\n",
    "    parcial=model.predict(x_test)\n",
    "    results.append(parcial[0])\n",
    "    print(x_test)\n",
    "    x_test=agregarNuevoValor(x_test,parcial[0])"
   ]
  },
  {
   "cell_type": "markdown",
   "metadata": {},
   "source": [
    "# Re-Convertimos los resultados"
   ]
  },
  {
   "cell_type": "code",
   "execution_count": 38,
   "metadata": {},
   "outputs": [
    {
     "name": "stdout",
     "output_type": "stream",
     "text": [
      "[array([0.6693913], dtype=float32), array([0.507582], dtype=float32), array([0.3538367], dtype=float32), array([0.07546335], dtype=float32), array([0.7086466], dtype=float32), array([0.11353825], dtype=float32), array([0.69973207], dtype=float32)]\n"
     ]
    },
    {
     "data": {
      "text/plain": [
       "array([[5529.94795606],\n",
       "       [5384.56233681],\n",
       "       [5246.42216933],\n",
       "       [4996.30373505],\n",
       "       [5565.21886057],\n",
       "       [5030.51403417],\n",
       "       [5557.20915544]])"
      ]
     },
     "execution_count": 38,
     "metadata": {},
     "output_type": "execute_result"
    }
   ],
   "source": [
    "adimen = [x for x in results]    \n",
    "print(adimen)\n",
    "inverted = scaler.inverse_transform(adimen)\n",
    "inverted"
   ]
  },
  {
   "cell_type": "markdown",
   "metadata": {},
   "source": [
    "# Visualizamos el pronostico"
   ]
  },
  {
   "cell_type": "code",
   "execution_count": 39,
   "metadata": {},
   "outputs": [
    {
     "data": {
      "text/plain": [
       "<AxesSubplot:>"
      ]
     },
     "execution_count": 39,
     "metadata": {},
     "output_type": "execute_result"
    },
    {
     "data": {
      "image/png": "[encoded data removed]",
      "text/plain": [
       "<Figure size 432x288 with 1 Axes>"
      ]
     },
     "metadata": {
      "needs_background": "light"
     },
     "output_type": "display_data"
    }
   ],
   "source": [
    "prediccion = pd.DataFrame(inverted)\n",
    "prediccion.columns = ['pronostico']\n",
    "prediccion.plot()"
   ]
  },
  {
   "cell_type": "markdown",
   "metadata": {},
   "source": [
    "# Prediccion con datos actuales"
   ]
  },
  {
   "cell_type": "code",
   "execution_count": 40,
   "metadata": {
    "scrolled": true
   },
   "outputs": [
    {
     "data": {
      "text/html": [
       "<div>\n",
       "<style scoped>\n",
       "    .dataframe tbody tr th:only-of-type {\n",
       "        vertical-align: middle;\n",
       "    }\n",
       "\n",
       "    .dataframe tbody tr th {\n",
       "        vertical-align: top;\n",
       "    }\n",
       "\n",
       "    .dataframe thead th {\n",
       "        text-align: right;\n",
       "    }\n",
       "</style>\n",
       "<table border=\"1\" class=\"dataframe\">\n",
       "  <thead>\n",
       "    <tr style=\"text-align: right;\">\n",
       "      <th></th>\n",
       "      <th>Viajes</th>\n",
       "    </tr>\n",
       "  </thead>\n",
       "  <tbody>\n",
       "    <tr>\n",
       "      <th>2020-05-11</th>\n",
       "      <td>0</td>\n",
       "    </tr>\n",
       "    <tr>\n",
       "      <th>2020-05-12</th>\n",
       "      <td>0</td>\n",
       "    </tr>\n",
       "    <tr>\n",
       "      <th>2020-05-13</th>\n",
       "      <td>2</td>\n",
       "    </tr>\n",
       "    <tr>\n",
       "      <th>2020-05-14</th>\n",
       "      <td>1</td>\n",
       "    </tr>\n",
       "    <tr>\n",
       "      <th>2020-05-15</th>\n",
       "      <td>2</td>\n",
       "    </tr>\n",
       "    <tr>\n",
       "      <th>2020-05-16</th>\n",
       "      <td>3</td>\n",
       "    </tr>\n",
       "    <tr>\n",
       "      <th>2020-05-17</th>\n",
       "      <td>3</td>\n",
       "    </tr>\n",
       "    <tr>\n",
       "      <th>2020-05-18</th>\n",
       "      <td>2</td>\n",
       "    </tr>\n",
       "    <tr>\n",
       "      <th>2020-05-19</th>\n",
       "      <td>0</td>\n",
       "    </tr>\n",
       "    <tr>\n",
       "      <th>2020-05-20</th>\n",
       "      <td>0</td>\n",
       "    </tr>\n",
       "    <tr>\n",
       "      <th>2020-05-21</th>\n",
       "      <td>0</td>\n",
       "    </tr>\n",
       "    <tr>\n",
       "      <th>2020-05-22</th>\n",
       "      <td>0</td>\n",
       "    </tr>\n",
       "    <tr>\n",
       "      <th>2020-05-23</th>\n",
       "      <td>4</td>\n",
       "    </tr>\n",
       "    <tr>\n",
       "      <th>2020-05-24</th>\n",
       "      <td>2</td>\n",
       "    </tr>\n",
       "  </tbody>\n",
       "</table>\n",
       "</div>"
      ],
      "text/plain": [
       "            Viajes\n",
       "2020-05-11       0\n",
       "2020-05-12       0\n",
       "2020-05-13       2\n",
       "2020-05-14       1\n",
       "2020-05-15       2\n",
       "2020-05-16       3\n",
       "2020-05-17       3\n",
       "2020-05-18       2\n",
       "2020-05-19       0\n",
       "2020-05-20       0\n",
       "2020-05-21       0\n",
       "2020-05-22       0\n",
       "2020-05-23       4\n",
       "2020-05-24       2"
      ]
     },
     "execution_count": 40,
     "metadata": {},
     "output_type": "execute_result"
    }
   ],
   "source": [
    "# usaremos 14 dias que poseemos para predecir los 7 dias siguientes tras esto compararemos los resultados con los que\n",
    "# poseemos para ver el grado de error\n",
    "\n",
    "Dias_twt = df_twt['2020-5-11':'2020-5-24']\n",
    "Dias_ine = df_ine['2020-5-11':'2020-5-24']\n",
    "Dias_twt"
   ]
  },
  {
   "cell_type": "markdown",
   "metadata": {},
   "source": [
    "# Preparamos los datos para el test"
   ]
  },
  {
   "cell_type": "code",
   "execution_count": 41,
   "metadata": {},
   "outputs": [
    {
     "data": {
      "text/html": [
       "<div>\n",
       "<style scoped>\n",
       "    .dataframe tbody tr th:only-of-type {\n",
       "        vertical-align: middle;\n",
       "    }\n",
       "\n",
       "    .dataframe tbody tr th {\n",
       "        vertical-align: top;\n",
       "    }\n",
       "\n",
       "    .dataframe thead th {\n",
       "        text-align: right;\n",
       "    }\n",
       "</style>\n",
       "<table border=\"1\" class=\"dataframe\">\n",
       "  <thead>\n",
       "    <tr style=\"text-align: right;\">\n",
       "      <th></th>\n",
       "      <th>var1(t-7)</th>\n",
       "      <th>var2(t-7)</th>\n",
       "      <th>var1(t-6)</th>\n",
       "      <th>var2(t-6)</th>\n",
       "      <th>var1(t-5)</th>\n",
       "      <th>var2(t-5)</th>\n",
       "      <th>var1(t-4)</th>\n",
       "      <th>var2(t-4)</th>\n",
       "      <th>var1(t-3)</th>\n",
       "      <th>var2(t-3)</th>\n",
       "      <th>var1(t-2)</th>\n",
       "      <th>var2(t-2)</th>\n",
       "      <th>var1(t-1)</th>\n",
       "      <th>var2(t-1)</th>\n",
       "    </tr>\n",
       "  </thead>\n",
       "  <tbody>\n",
       "    <tr>\n",
       "      <th>7</th>\n",
       "      <td>-1.0</td>\n",
       "      <td>0.088062</td>\n",
       "      <td>-1.0</td>\n",
       "      <td>0.428571</td>\n",
       "      <td>0.0</td>\n",
       "      <td>0.574690</td>\n",
       "      <td>-0.5</td>\n",
       "      <td>0.260274</td>\n",
       "      <td>0.0</td>\n",
       "      <td>0.161122</td>\n",
       "      <td>0.5</td>\n",
       "      <td>0.364645</td>\n",
       "      <td>0.5</td>\n",
       "      <td>-1.000000</td>\n",
       "    </tr>\n",
       "    <tr>\n",
       "      <th>8</th>\n",
       "      <td>-1.0</td>\n",
       "      <td>0.428571</td>\n",
       "      <td>0.0</td>\n",
       "      <td>0.574690</td>\n",
       "      <td>-0.5</td>\n",
       "      <td>0.260274</td>\n",
       "      <td>0.0</td>\n",
       "      <td>0.161122</td>\n",
       "      <td>0.5</td>\n",
       "      <td>0.364645</td>\n",
       "      <td>0.5</td>\n",
       "      <td>-1.000000</td>\n",
       "      <td>0.0</td>\n",
       "      <td>0.348989</td>\n",
       "    </tr>\n",
       "    <tr>\n",
       "      <th>9</th>\n",
       "      <td>0.0</td>\n",
       "      <td>0.574690</td>\n",
       "      <td>-0.5</td>\n",
       "      <td>0.260274</td>\n",
       "      <td>0.0</td>\n",
       "      <td>0.161122</td>\n",
       "      <td>0.5</td>\n",
       "      <td>0.364645</td>\n",
       "      <td>0.5</td>\n",
       "      <td>-1.000000</td>\n",
       "      <td>0.0</td>\n",
       "      <td>0.348989</td>\n",
       "      <td>-1.0</td>\n",
       "      <td>1.000000</td>\n",
       "    </tr>\n",
       "    <tr>\n",
       "      <th>10</th>\n",
       "      <td>-0.5</td>\n",
       "      <td>0.260274</td>\n",
       "      <td>0.0</td>\n",
       "      <td>0.161122</td>\n",
       "      <td>0.5</td>\n",
       "      <td>0.364645</td>\n",
       "      <td>0.5</td>\n",
       "      <td>-1.000000</td>\n",
       "      <td>0.0</td>\n",
       "      <td>0.348989</td>\n",
       "      <td>-1.0</td>\n",
       "      <td>1.000000</td>\n",
       "      <td>-1.0</td>\n",
       "      <td>0.463796</td>\n",
       "    </tr>\n",
       "    <tr>\n",
       "      <th>11</th>\n",
       "      <td>0.0</td>\n",
       "      <td>0.161122</td>\n",
       "      <td>0.5</td>\n",
       "      <td>0.364645</td>\n",
       "      <td>0.5</td>\n",
       "      <td>-1.000000</td>\n",
       "      <td>0.0</td>\n",
       "      <td>0.348989</td>\n",
       "      <td>-1.0</td>\n",
       "      <td>1.000000</td>\n",
       "      <td>-1.0</td>\n",
       "      <td>0.463796</td>\n",
       "      <td>-1.0</td>\n",
       "      <td>0.510763</td>\n",
       "    </tr>\n",
       "    <tr>\n",
       "      <th>12</th>\n",
       "      <td>0.5</td>\n",
       "      <td>0.364645</td>\n",
       "      <td>0.5</td>\n",
       "      <td>-1.000000</td>\n",
       "      <td>0.0</td>\n",
       "      <td>0.348989</td>\n",
       "      <td>-1.0</td>\n",
       "      <td>1.000000</td>\n",
       "      <td>-1.0</td>\n",
       "      <td>0.463796</td>\n",
       "      <td>-1.0</td>\n",
       "      <td>0.510763</td>\n",
       "      <td>-1.0</td>\n",
       "      <td>0.754729</td>\n",
       "    </tr>\n",
       "    <tr>\n",
       "      <th>13</th>\n",
       "      <td>0.5</td>\n",
       "      <td>-1.000000</td>\n",
       "      <td>0.0</td>\n",
       "      <td>0.348989</td>\n",
       "      <td>-1.0</td>\n",
       "      <td>1.000000</td>\n",
       "      <td>-1.0</td>\n",
       "      <td>0.463796</td>\n",
       "      <td>-1.0</td>\n",
       "      <td>0.510763</td>\n",
       "      <td>-1.0</td>\n",
       "      <td>0.754729</td>\n",
       "      <td>1.0</td>\n",
       "      <td>0.668623</td>\n",
       "    </tr>\n",
       "  </tbody>\n",
       "</table>\n",
       "</div>"
      ],
      "text/plain": [
       "    var1(t-7)  var2(t-7)  var1(t-6)  var2(t-6)  var1(t-5)  var2(t-5)  \\\n",
       "7        -1.0   0.088062       -1.0   0.428571        0.0   0.574690   \n",
       "8        -1.0   0.428571        0.0   0.574690       -0.5   0.260274   \n",
       "9         0.0   0.574690       -0.5   0.260274        0.0   0.161122   \n",
       "10       -0.5   0.260274        0.0   0.161122        0.5   0.364645   \n",
       "11        0.0   0.161122        0.5   0.364645        0.5  -1.000000   \n",
       "12        0.5   0.364645        0.5  -1.000000        0.0   0.348989   \n",
       "13        0.5  -1.000000        0.0   0.348989       -1.0   1.000000   \n",
       "\n",
       "    var1(t-4)  var2(t-4)  var1(t-3)  var2(t-3)  var1(t-2)  var2(t-2)  \\\n",
       "7        -0.5   0.260274        0.0   0.161122        0.5   0.364645   \n",
       "8         0.0   0.161122        0.5   0.364645        0.5  -1.000000   \n",
       "9         0.5   0.364645        0.5  -1.000000        0.0   0.348989   \n",
       "10        0.5  -1.000000        0.0   0.348989       -1.0   1.000000   \n",
       "11        0.0   0.348989       -1.0   1.000000       -1.0   0.463796   \n",
       "12       -1.0   1.000000       -1.0   0.463796       -1.0   0.510763   \n",
       "13       -1.0   0.463796       -1.0   0.510763       -1.0   0.754729   \n",
       "\n",
       "    var1(t-1)  var2(t-1)  \n",
       "7         0.5  -1.000000  \n",
       "8         0.0   0.348989  \n",
       "9        -1.0   1.000000  \n",
       "10       -1.0   0.463796  \n",
       "11       -1.0   0.510763  \n",
       "12       -1.0   0.754729  \n",
       "13        1.0   0.668623  "
      ]
     },
     "execution_count": 41,
     "metadata": {},
     "output_type": "execute_result"
    }
   ],
   "source": [
    "# cargamos el dataframe en la variable values\n",
    "values_twt = Dias_twt.values\n",
    "values_ine = Dias_ine.values\n",
    "\n",
    "# convertimos los enteros en floats\n",
    "values_twt = values_twt.astype('float32')\n",
    "values_ine = values_ine.astype('float32')\n",
    "\n",
    "# normalizamos los datos a escala de entre -1 y 1\n",
    "values_twt =values_twt.reshape(-1, 1)\n",
    "scaled_twt = scaler.fit_transform(values_twt)\n",
    "values_ine =values_ine.reshape(-1, 1) # esto lo hacemos porque tenemos 1 sola dimension\n",
    "scaled_ine = scaler.fit_transform(values_ine)\n",
    "\n",
    "# usamos la funcion definida previamente\n",
    "reframed_twt = series_to_supervised(scaled_twt, look_back, 1)\n",
    "reframed_ine = series_to_supervised(scaled_ine, look_back, 1)\n",
    "\n",
    "# eliminamos la ultima columna pues es parte de lo que queremos hayar\n",
    "reframed_twt.drop(reframed_twt.columns[[7]], inplace=True, axis=1)\n",
    "reframed_ine.drop(reframed_ine.columns[[7]], inplace=True, axis=1)\n",
    "\n",
    "#unimos los dataframes\n",
    "reframed_ine.columns = ['var2(t-7)', 'var2(t-6)', 'var2(t-5)', 'var2(t-4)', 'var2(t-3)', 'var2(t-2)', 'var2(t-1)']\n",
    "reframed = pd.concat([reframed_twt.iloc[:, 0], reframed_ine.iloc[:, 0]], axis=1)\n",
    "\n",
    "for i in range(6):\n",
    "    reframed = pd.concat([reframed, reframed_twt.iloc[:, i+1]], axis=1)\n",
    "    reframed = pd.concat([reframed, reframed_ine.iloc[:, i+1]], axis=1)\n",
    "\n",
    "#mostramos el set de entrenamiento\n",
    "reframed.head(7)"
   ]
  },
  {
   "cell_type": "code",
   "execution_count": 42,
   "metadata": {},
   "outputs": [
    {
     "name": "stdout",
     "output_type": "stream",
     "text": [
      "(1, 1, 14)\n"
     ]
    },
    {
     "data": {
      "text/plain": [
       "array([[[ 0.5       , -1.        ,  0.        ,  0.34898853,\n",
       "         -1.        ,  1.        , -1.        ,  0.46379614,\n",
       "         -1.        ,  0.51076317, -1.        ,  0.7547293 ,\n",
       "          1.        ,  0.66862345]]], dtype=float32)"
      ]
     },
     "execution_count": 42,
     "metadata": {},
     "output_type": "execute_result"
    }
   ],
   "source": [
    "values = reframed.values\n",
    "\n",
    "#tomamos los valores para realizar el test\n",
    "x_test = values[6:, :]\n",
    "\n",
    "# reshape input to be 3D [samples, timesteps, features] - preguntar\n",
    "x_test = x_test.reshape((x_test.shape[0], 1, x_test.shape[1]))\n",
    "print(x_test.shape)\n",
    "x_test"
   ]
  },
  {
   "cell_type": "code",
   "execution_count": 43,
   "metadata": {},
   "outputs": [],
   "source": [
    "#en la linea 24 definimos la funcion para realizar el desplazamiento que se hara en el array cada prediccion pues para hacer\n",
    "#la siguiente prediccion eliminamos el dia mas antiguo, desplazamos un lugar el resto de dias y añadimos el ultimo dia que\n",
    "#se ha predecido, esto es por que para predecir un dia se usan los 7 dias previos, y que usaremos a continuación"
   ]
  },
  {
   "cell_type": "markdown",
   "metadata": {},
   "source": [
    "# Realizamos la prediccion "
   ]
  },
  {
   "cell_type": "code",
   "execution_count": 44,
   "metadata": {},
   "outputs": [
    {
     "name": "stdout",
     "output_type": "stream",
     "text": [
      "[[[ 0.5        -1.          0.          0.34898853 -1.\n",
      "    1.         -1.          0.46379614 -1.          0.51076317\n",
      "   -1.          0.7547293   1.          0.66862345]]]\n",
      "[[[-1.          0.          0.34898853 -1.          1.\n",
      "   -1.          0.46379614 -1.          0.51076317 -1.\n",
      "    0.7547293   1.          0.66862345  0.24319449]]]\n",
      "[[[ 0.          0.34898853 -1.          1.         -1.\n",
      "    0.46379614 -1.          0.51076317 -1.          0.7547293\n",
      "    1.          0.66862345  0.24319449  0.4030672 ]]]\n",
      "[[[ 0.34898853 -1.          1.         -1.          0.46379614\n",
      "   -1.          0.51076317 -1.          0.7547293   1.\n",
      "    0.66862345  0.24319449  0.4030672   0.7384408 ]]]\n",
      "[[[-1.          1.         -1.          0.46379614 -1.\n",
      "    0.51076317 -1.          0.7547293   1.          0.66862345\n",
      "    0.24319449  0.4030672   0.7384408   0.05557364]]]\n",
      "[[[ 1.         -1.          0.46379614 -1.          0.51076317\n",
      "   -1.          0.7547293   1.          0.66862345  0.24319449\n",
      "    0.4030672   0.7384408   0.05557364  0.67346054]]]\n",
      "[[[-1.          0.46379614 -1.          0.51076317 -1.\n",
      "    0.7547293   1.          0.66862345  0.24319449  0.4030672\n",
      "    0.7384408   0.05557364  0.67346054  0.206976  ]]]\n"
     ]
    }
   ],
   "source": [
    "results=[]\n",
    "for i in range(7):\n",
    "    parcial=model.predict(x_test)\n",
    "    results.append(parcial[0])\n",
    "    print(x_test)\n",
    "    x_test=agregarNuevoValor(x_test,parcial[0])"
   ]
  },
  {
   "cell_type": "markdown",
   "metadata": {},
   "source": [
    "# Re-Convertimos los resultados"
   ]
  },
  {
   "cell_type": "code",
   "execution_count": 45,
   "metadata": {
    "scrolled": false
   },
   "outputs": [
    {
     "name": "stdout",
     "output_type": "stream",
     "text": [
      "[array([0.24319449], dtype=float32), array([0.4030672], dtype=float32), array([0.7384408], dtype=float32), array([0.05557364], dtype=float32), array([0.67346054], dtype=float32), array([0.206976], dtype=float32), array([0.6487296], dtype=float32)]\n"
     ]
    },
    {
     "data": {
      "text/plain": [
       "array([[4252],\n",
       "       [4374],\n",
       "       [4632],\n",
       "       [4108],\n",
       "       [4582],\n",
       "       [4224],\n",
       "       [4563]])"
      ]
     },
     "execution_count": 45,
     "metadata": {},
     "output_type": "execute_result"
    }
   ],
   "source": [
    "adimen = [x for x in results]    \n",
    "print(adimen)\n",
    "inverted = scaler.inverse_transform(adimen)\n",
    "\n",
    "#en nuestro problema no tienen sentido los decimales pues no se pueden hacer 0.5 viajes o 0.25 viajes\n",
    "inverted = inverted.round()\n",
    "inverted = inverted.astype(int)\n",
    "inverted"
   ]
  },
  {
   "cell_type": "markdown",
   "metadata": {},
   "source": [
    "# Visualizamos el pronostico"
   ]
  },
  {
   "cell_type": "code",
   "execution_count": 46,
   "metadata": {
    "scrolled": false
   },
   "outputs": [
    {
     "data": {
      "text/plain": [
       "<AxesSubplot:>"
      ]
     },
     "execution_count": 46,
     "metadata": {},
     "output_type": "execute_result"
    },
    {
     "data": {
      "image/png": "[encoded data removed]",
      "text/plain": [
       "<Figure size 432x288 with 1 Axes>"
      ]
     },
     "metadata": {
      "needs_background": "light"
     },
     "output_type": "display_data"
    }
   ],
   "source": [
    "e_date = datetime.datetime.strptime('2020-05-31', '%Y-%m-%d')\n",
    "i_date = datetime.datetime.strptime('2020-05-25', '%Y-%m-%d')\n",
    "delta = e_date - i_date\n",
    "\n",
    "index_days = []\n",
    "for i in range(delta.days + 1):\n",
    "    day = i_date + timedelta(days=i)\n",
    "    index_days.append(day)\n",
    "\n",
    "prediccion = pd.DataFrame(inverted, index= index_days)\n",
    "prediccion.columns = ['pronostico']\n",
    "prediccion.plot()"
   ]
  },
  {
   "cell_type": "code",
   "execution_count": 47,
   "metadata": {},
   "outputs": [
    {
     "data": {
      "text/html": [
       "<div>\n",
       "<style scoped>\n",
       "    .dataframe tbody tr th:only-of-type {\n",
       "        vertical-align: middle;\n",
       "    }\n",
       "\n",
       "    .dataframe tbody tr th {\n",
       "        vertical-align: top;\n",
       "    }\n",
       "\n",
       "    .dataframe thead th {\n",
       "        text-align: right;\n",
       "    }\n",
       "</style>\n",
       "<table border=\"1\" class=\"dataframe\">\n",
       "  <thead>\n",
       "    <tr style=\"text-align: right;\">\n",
       "      <th></th>\n",
       "      <th>real</th>\n",
       "      <th>prediccion</th>\n",
       "    </tr>\n",
       "  </thead>\n",
       "  <tbody>\n",
       "    <tr>\n",
       "      <th>2020-05-25</th>\n",
       "      <td>4688</td>\n",
       "      <td>4252</td>\n",
       "    </tr>\n",
       "    <tr>\n",
       "      <th>2020-05-26</th>\n",
       "      <td>5272</td>\n",
       "      <td>4374</td>\n",
       "    </tr>\n",
       "    <tr>\n",
       "      <th>2020-05-27</th>\n",
       "      <td>5220</td>\n",
       "      <td>4632</td>\n",
       "    </tr>\n",
       "    <tr>\n",
       "      <th>2020-05-28</th>\n",
       "      <td>4933</td>\n",
       "      <td>4108</td>\n",
       "    </tr>\n",
       "    <tr>\n",
       "      <th>2020-05-29</th>\n",
       "      <td>5435</td>\n",
       "      <td>4582</td>\n",
       "    </tr>\n",
       "    <tr>\n",
       "      <th>2020-05-30</th>\n",
       "      <td>5217</td>\n",
       "      <td>4224</td>\n",
       "    </tr>\n",
       "    <tr>\n",
       "      <th>2020-05-31</th>\n",
       "      <td>4351</td>\n",
       "      <td>4563</td>\n",
       "    </tr>\n",
       "  </tbody>\n",
       "</table>\n",
       "</div>"
      ],
      "text/plain": [
       "            real  prediccion\n",
       "2020-05-25  4688        4252\n",
       "2020-05-26  5272        4374\n",
       "2020-05-27  5220        4632\n",
       "2020-05-28  4933        4108\n",
       "2020-05-29  5435        4582\n",
       "2020-05-30  5217        4224\n",
       "2020-05-31  4351        4563"
      ]
     },
     "execution_count": 47,
     "metadata": {},
     "output_type": "execute_result"
    }
   ],
   "source": [
    "datosReales = df_ine['2020-5-25':'2020-5-31']\n",
    "\n",
    "compara = pd.concat([datosReales, prediccion], axis=1)\n",
    "compara.columns = ['real', 'prediccion']\n",
    "compara"
   ]
  },
  {
   "cell_type": "code",
   "execution_count": 48,
   "metadata": {},
   "outputs": [
    {
     "data": {
      "text/plain": [
       "<AxesSubplot:>"
      ]
     },
     "execution_count": 48,
     "metadata": {},
     "output_type": "execute_result"
    },
    {
     "data": {
      "image/png": "[encoded data removed]",
      "text/plain": [
       "<Figure size 432x288 with 1 Axes>"
      ]
     },
     "metadata": {
      "needs_background": "light"
     },
     "output_type": "display_data"
    }
   ],
   "source": [
    "compara['real'].plot()\n",
    "compara['prediccion'].plot()"
   ]
  },
  {
   "cell_type": "code",
   "execution_count": 49,
   "metadata": {
    "scrolled": false
   },
   "outputs": [
    {
     "name": "stdout",
     "output_type": "stream",
     "text": [
      "Resultado del test: 686.43 MAE\n",
      "Resultado del test: 540210.14 MSE\n",
      "Resultado del test: 734.99 RMSE\n",
      "Resultado del test: 16.74 CVRMSE\n",
      "Resultado del test: 15.76 MAPE\n"
     ]
    }
   ],
   "source": [
    "# calculamos las metricas de error\n",
    "testScore_MAE, testScore_MSE, testScore_RMSE, testScore_CVRMSE, testScore_MAPE  =  compute_metrics_fn(prediccion, datosReales)\n",
    "print('Resultado del test: %.2f MAE' % (testScore_MAE))\n",
    "print('Resultado del test: %.2f MSE' % (testScore_MSE))\n",
    "print('Resultado del test: %.2f RMSE' % (testScore_RMSE))\n",
    "print('Resultado del test: %.2f CVRMSE' % (testScore_CVRMSE))\n",
    "print('Resultado del test: %.2f MAPE' % (testScore_MAPE))"
   ]
  },
  {
   "cell_type": "code",
   "execution_count": null,
   "metadata": {},
   "outputs": [],
   "source": []
  }
 ],
 "metadata": {
  "kernelspec": {
   "display_name": "Python 3",
   "language": "python",
   "name": "python3"
  },
  "language_info": {
   "codemirror_mode": {
    "name": "ipython",
    "version": 3
   },
   "file_extension": ".py",
   "mimetype": "text/x-python",
   "name": "python",
   "nbconvert_exporter": "python",
   "pygments_lexer": "ipython3",
   "version": "3.8.5"
  }
 },
 "nbformat": 4,
 "nbformat_minor": 4
}
