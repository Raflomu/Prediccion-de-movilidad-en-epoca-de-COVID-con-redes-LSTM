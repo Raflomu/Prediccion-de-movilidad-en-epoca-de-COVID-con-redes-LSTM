{
 "cells": [
  {
   "cell_type": "code",
   "execution_count": 1,
   "metadata": {},
   "outputs": [],
   "source": [
    "import pandas as pd\n",
    "import numpy as np\n",
    "from tqdm import tqdm_notebook\n",
    "import os\n",
    "from sklearn.metrics import mean_squared_error, mean_absolute_error\n",
    "from sklearn.preprocessing import MinMaxScaler\n",
    "from keras.models import Sequential\n",
    "from keras.layers import Dense,Activation,Flatten,Dropout\n",
    "\n",
    "import matplotlib.pyplot as plt\n",
    "%matplotlib inline\n",
    "\n",
    "import warnings\n",
    "warnings.filterwarnings(\"ignore\")\n",
    "\n",
    "import datetime\n",
    "from datetime import date, timedelta\n",
    "e_date = datetime.datetime.strptime('2020-06-20', '%Y-%m-%d')\n",
    "i_date = datetime.datetime.strptime('2020-04-01', '%Y-%m-%d')\n",
    "\n",
    "data_path = 'D:/universidad/universidad 4/TFG/recursos para el desarrollo/datos procesados/OD'"
   ]
  },
  {
   "cell_type": "code",
   "execution_count": 2,
   "metadata": {},
   "outputs": [],
   "source": [
    "delta = e_date - i_date\n",
    "\n",
    "target_days = []\n",
    "for i in range(delta.days + 1):\n",
    "    day = i_date + timedelta(days=i)\n",
    "    target_days.append(day)"
   ]
  },
  {
   "cell_type": "code",
   "execution_count": 3,
   "metadata": {},
   "outputs": [],
   "source": [
    "def read_OD_fn(source_type):\n",
    "    ods = {}\n",
    "    for date in tqdm_notebook(target_days):\n",
    "        od_date= pd.read_csv(os.path.join(data_path, 'date_{}_OD_{}.csv'.format(source_type,date.strftime('%Y-%m-%d'))), \n",
    "                            index_col=0)\n",
    "        ods[date] = od_date\n",
    "    return ods"
   ]
  },
  {
   "cell_type": "code",
   "execution_count": 4,
   "metadata": {},
   "outputs": [
    {
     "data": {
      "application/vnd.jupyter.widget-view+json": {
       "model_id": "a60010bd0d8140478f58dff570a318a9",
       "version_major": 2,
       "version_minor": 0
      },
      "text/plain": [
       "  0%|          | 0/81 [00:00<?, ?it/s]"
      ]
     },
     "metadata": {},
     "output_type": "display_data"
    }
   ],
   "source": [
    "ine_ods = read_OD_fn('INE')"
   ]
  },
  {
   "cell_type": "code",
   "execution_count": 5,
   "metadata": {
    "scrolled": true
   },
   "outputs": [
    {
     "data": {
      "application/vnd.jupyter.widget-view+json": {
       "model_id": "167472398cd54641b77be87225e0a0e9",
       "version_major": 2,
       "version_minor": 0
      },
      "text/plain": [
       "  0%|          | 0/81 [00:00<?, ?it/s]"
      ]
     },
     "metadata": {},
     "output_type": "display_data"
    }
   ],
   "source": [
    "twt_ods = read_OD_fn('TWT')"
   ]
  },
  {
   "cell_type": "markdown",
   "metadata": {},
   "source": [
    "# Serializar los datos"
   ]
  },
  {
   "cell_type": "code",
   "execution_count": 6,
   "metadata": {
    "scrolled": true
   },
   "outputs": [
    {
     "data": {
      "application/vnd.jupyter.widget-view+json": {
       "model_id": "9cd4a34fee8846a089a37006c57e31e0",
       "version_major": 2,
       "version_minor": 0
      },
      "text/plain": [
       "  0%|          | 0/81 [00:00<?, ?it/s]"
      ]
     },
     "metadata": {},
     "output_type": "display_data"
    },
    {
     "data": {
      "application/vnd.jupyter.widget-view+json": {
       "model_id": "76a7b119456843678cada823334da266",
       "version_major": 2,
       "version_minor": 0
      },
      "text/plain": [
       "  0%|          | 0/81 [00:00<?, ?it/s]"
      ]
     },
     "metadata": {},
     "output_type": "display_data"
    }
   ],
   "source": [
    "lista_twt1 = []\n",
    "lista_twt2 = []\n",
    "lista_twt3 = []\n",
    "lista_twt4 = []\n",
    "lista_twt5 = []\n",
    "\n",
    "for date in tqdm_notebook(target_days):\n",
    "    lista_twt1.append(twt_ods[date].loc['58MA','total'])\n",
    "    lista_twt2.append(twt_ods[date].loc['156B','total'])\n",
    "    lista_twt3.append(twt_ods[date].loc['34CZ','total'])\n",
    "    lista_twt4.append(twt_ods[date].loc['165V','total'])\n",
    "    lista_twt5.append(twt_ods[date].loc['13VI','total'])\n",
    "    \n",
    "    \n",
    "lista_ine1 = []\n",
    "lista_ine2 = []\n",
    "lista_ine3 = []\n",
    "lista_ine4 = []\n",
    "lista_ine5 = []\n",
    "\n",
    "for date in tqdm_notebook(target_days):\n",
    "    lista_ine1.append(ine_ods[date].loc['58MA','total'])\n",
    "    lista_ine2.append(ine_ods[date].loc['156B','total'])\n",
    "    lista_ine3.append(ine_ods[date].loc['34CZ','total'])\n",
    "    lista_ine4.append(ine_ods[date].loc['165V','total'])\n",
    "    lista_ine5.append(ine_ods[date].loc['13VI','total'])\n"
   ]
  },
  {
   "cell_type": "code",
   "execution_count": 7,
   "metadata": {
    "scrolled": true
   },
   "outputs": [],
   "source": [
    "df_twt1 = pd.DataFrame (lista_twt1, columns = ['Viajes'], index= target_days)\n",
    "df_ine1 = pd.DataFrame (lista_ine1, columns = ['Viajes'], index= target_days)\n",
    "\n",
    "df_twt2 = pd.DataFrame (lista_twt2, columns = ['Viajes'], index= target_days)\n",
    "df_ine2 = pd.DataFrame (lista_ine2, columns = ['Viajes'], index= target_days)\n",
    "\n",
    "df_twt3 = pd.DataFrame (lista_twt3, columns = ['Viajes'], index= target_days)\n",
    "df_ine3 = pd.DataFrame (lista_ine3, columns = ['Viajes'], index= target_days)\n",
    "\n",
    "df_twt4 = pd.DataFrame (lista_twt4, columns = ['Viajes'], index= target_days)\n",
    "df_ine4 = pd.DataFrame (lista_ine4, columns = ['Viajes'], index= target_days)\n",
    "\n",
    "df_twt5 = pd.DataFrame (lista_twt5, columns = ['Viajes'], index= target_days)\n",
    "df_ine5 = pd.DataFrame (lista_ine5, columns = ['Viajes'], index= target_days)"
   ]
  },
  {
   "cell_type": "code",
   "execution_count": 8,
   "metadata": {},
   "outputs": [],
   "source": [
    "lista_twt = []\n",
    "lista_ine = []\n",
    "\n",
    "df_twt = df_twt1 + df_twt2 + df_twt3 + df_twt4 + df_twt5\n",
    "df_ine = df_ine1 + df_ine2 + df_ine3 + df_ine4 + df_ine5"
   ]
  },
  {
   "cell_type": "code",
   "execution_count": 9,
   "metadata": {},
   "outputs": [
    {
     "data": {
      "text/html": [
       "<div>\n",
       "<style scoped>\n",
       "    .dataframe tbody tr th:only-of-type {\n",
       "        vertical-align: middle;\n",
       "    }\n",
       "\n",
       "    .dataframe tbody tr th {\n",
       "        vertical-align: top;\n",
       "    }\n",
       "\n",
       "    .dataframe thead th {\n",
       "        text-align: right;\n",
       "    }\n",
       "</style>\n",
       "<table border=\"1\" class=\"dataframe\">\n",
       "  <thead>\n",
       "    <tr style=\"text-align: right;\">\n",
       "      <th></th>\n",
       "      <th>Viajes</th>\n",
       "    </tr>\n",
       "  </thead>\n",
       "  <tbody>\n",
       "    <tr>\n",
       "      <th>2020-04-01</th>\n",
       "      <td>11</td>\n",
       "    </tr>\n",
       "    <tr>\n",
       "      <th>2020-04-02</th>\n",
       "      <td>3</td>\n",
       "    </tr>\n",
       "    <tr>\n",
       "      <th>2020-04-03</th>\n",
       "      <td>14</td>\n",
       "    </tr>\n",
       "    <tr>\n",
       "      <th>2020-04-04</th>\n",
       "      <td>5</td>\n",
       "    </tr>\n",
       "    <tr>\n",
       "      <th>2020-04-05</th>\n",
       "      <td>13</td>\n",
       "    </tr>\n",
       "  </tbody>\n",
       "</table>\n",
       "</div>"
      ],
      "text/plain": [
       "            Viajes\n",
       "2020-04-01      11\n",
       "2020-04-02       3\n",
       "2020-04-03      14\n",
       "2020-04-04       5\n",
       "2020-04-05      13"
      ]
     },
     "execution_count": 9,
     "metadata": {},
     "output_type": "execute_result"
    }
   ],
   "source": [
    "df_twt.head()"
   ]
  },
  {
   "cell_type": "code",
   "execution_count": 10,
   "metadata": {},
   "outputs": [
    {
     "data": {
      "text/html": [
       "<div>\n",
       "<style scoped>\n",
       "    .dataframe tbody tr th:only-of-type {\n",
       "        vertical-align: middle;\n",
       "    }\n",
       "\n",
       "    .dataframe tbody tr th {\n",
       "        vertical-align: top;\n",
       "    }\n",
       "\n",
       "    .dataframe thead th {\n",
       "        text-align: right;\n",
       "    }\n",
       "</style>\n",
       "<table border=\"1\" class=\"dataframe\">\n",
       "  <thead>\n",
       "    <tr style=\"text-align: right;\">\n",
       "      <th></th>\n",
       "      <th>Viajes</th>\n",
       "    </tr>\n",
       "  </thead>\n",
       "  <tbody>\n",
       "    <tr>\n",
       "      <th>2020-04-01</th>\n",
       "      <td>16278</td>\n",
       "    </tr>\n",
       "    <tr>\n",
       "      <th>2020-04-02</th>\n",
       "      <td>16895</td>\n",
       "    </tr>\n",
       "    <tr>\n",
       "      <th>2020-04-03</th>\n",
       "      <td>18153</td>\n",
       "    </tr>\n",
       "    <tr>\n",
       "      <th>2020-04-04</th>\n",
       "      <td>13180</td>\n",
       "    </tr>\n",
       "    <tr>\n",
       "      <th>2020-04-05</th>\n",
       "      <td>11805</td>\n",
       "    </tr>\n",
       "  </tbody>\n",
       "</table>\n",
       "</div>"
      ],
      "text/plain": [
       "            Viajes\n",
       "2020-04-01   16278\n",
       "2020-04-02   16895\n",
       "2020-04-03   18153\n",
       "2020-04-04   13180\n",
       "2020-04-05   11805"
      ]
     },
     "execution_count": 10,
     "metadata": {},
     "output_type": "execute_result"
    }
   ],
   "source": [
    "df_ine.head()"
   ]
  },
  {
   "cell_type": "code",
   "execution_count": 11,
   "metadata": {},
   "outputs": [],
   "source": [
    "del twt_ods\n",
    "del ine_ods"
   ]
  },
  {
   "cell_type": "markdown",
   "metadata": {},
   "source": [
    "# Visualización de datos"
   ]
  },
  {
   "cell_type": "code",
   "execution_count": 12,
   "metadata": {},
   "outputs": [
    {
     "name": "stdout",
     "output_type": "stream",
     "text": [
      "2020-04-01 00:00:00\n",
      "2020-06-20 00:00:00\n"
     ]
    }
   ],
   "source": [
    "print(df_twt.index.min())\n",
    "print(df_ine.index.max())"
   ]
  },
  {
   "cell_type": "code",
   "execution_count": 13,
   "metadata": {
    "scrolled": true
   },
   "outputs": [
    {
     "name": "stdout",
     "output_type": "stream",
     "text": [
      "81\n"
     ]
    }
   ],
   "source": [
    "print(len(df_twt['2020']))"
   ]
  },
  {
   "cell_type": "code",
   "execution_count": 14,
   "metadata": {},
   "outputs": [
    {
     "name": "stdout",
     "output_type": "stream",
     "text": [
      "81\n"
     ]
    }
   ],
   "source": [
    "print(len(df_ine['2020']))"
   ]
  },
  {
   "cell_type": "code",
   "execution_count": 15,
   "metadata": {
    "scrolled": true
   },
   "outputs": [
    {
     "data": {
      "text/html": [
       "<div>\n",
       "<style scoped>\n",
       "    .dataframe tbody tr th:only-of-type {\n",
       "        vertical-align: middle;\n",
       "    }\n",
       "\n",
       "    .dataframe tbody tr th {\n",
       "        vertical-align: top;\n",
       "    }\n",
       "\n",
       "    .dataframe thead th {\n",
       "        text-align: right;\n",
       "    }\n",
       "</style>\n",
       "<table border=\"1\" class=\"dataframe\">\n",
       "  <thead>\n",
       "    <tr style=\"text-align: right;\">\n",
       "      <th></th>\n",
       "      <th>Viajes</th>\n",
       "    </tr>\n",
       "  </thead>\n",
       "  <tbody>\n",
       "    <tr>\n",
       "      <th>count</th>\n",
       "      <td>81.000000</td>\n",
       "    </tr>\n",
       "    <tr>\n",
       "      <th>mean</th>\n",
       "      <td>17.518519</td>\n",
       "    </tr>\n",
       "    <tr>\n",
       "      <th>std</th>\n",
       "      <td>8.148790</td>\n",
       "    </tr>\n",
       "    <tr>\n",
       "      <th>min</th>\n",
       "      <td>0.000000</td>\n",
       "    </tr>\n",
       "    <tr>\n",
       "      <th>25%</th>\n",
       "      <td>11.000000</td>\n",
       "    </tr>\n",
       "    <tr>\n",
       "      <th>50%</th>\n",
       "      <td>16.000000</td>\n",
       "    </tr>\n",
       "    <tr>\n",
       "      <th>75%</th>\n",
       "      <td>24.000000</td>\n",
       "    </tr>\n",
       "    <tr>\n",
       "      <th>max</th>\n",
       "      <td>34.000000</td>\n",
       "    </tr>\n",
       "  </tbody>\n",
       "</table>\n",
       "</div>"
      ],
      "text/plain": [
       "          Viajes\n",
       "count  81.000000\n",
       "mean   17.518519\n",
       "std     8.148790\n",
       "min     0.000000\n",
       "25%    11.000000\n",
       "50%    16.000000\n",
       "75%    24.000000\n",
       "max    34.000000"
      ]
     },
     "execution_count": 15,
     "metadata": {},
     "output_type": "execute_result"
    }
   ],
   "source": [
    "df_twt.describe()"
   ]
  },
  {
   "cell_type": "code",
   "execution_count": 16,
   "metadata": {},
   "outputs": [
    {
     "data": {
      "text/html": [
       "<div>\n",
       "<style scoped>\n",
       "    .dataframe tbody tr th:only-of-type {\n",
       "        vertical-align: middle;\n",
       "    }\n",
       "\n",
       "    .dataframe tbody tr th {\n",
       "        vertical-align: top;\n",
       "    }\n",
       "\n",
       "    .dataframe thead th {\n",
       "        text-align: right;\n",
       "    }\n",
       "</style>\n",
       "<table border=\"1\" class=\"dataframe\">\n",
       "  <thead>\n",
       "    <tr style=\"text-align: right;\">\n",
       "      <th></th>\n",
       "      <th>Viajes</th>\n",
       "    </tr>\n",
       "  </thead>\n",
       "  <tbody>\n",
       "    <tr>\n",
       "      <th>count</th>\n",
       "      <td>81.000000</td>\n",
       "    </tr>\n",
       "    <tr>\n",
       "      <th>mean</th>\n",
       "      <td>30777.061728</td>\n",
       "    </tr>\n",
       "    <tr>\n",
       "      <th>std</th>\n",
       "      <td>13658.229593</td>\n",
       "    </tr>\n",
       "    <tr>\n",
       "      <th>min</th>\n",
       "      <td>10416.000000</td>\n",
       "    </tr>\n",
       "    <tr>\n",
       "      <th>25%</th>\n",
       "      <td>18843.000000</td>\n",
       "    </tr>\n",
       "    <tr>\n",
       "      <th>50%</th>\n",
       "      <td>30457.000000</td>\n",
       "    </tr>\n",
       "    <tr>\n",
       "      <th>75%</th>\n",
       "      <td>42480.000000</td>\n",
       "    </tr>\n",
       "    <tr>\n",
       "      <th>max</th>\n",
       "      <td>55828.000000</td>\n",
       "    </tr>\n",
       "  </tbody>\n",
       "</table>\n",
       "</div>"
      ],
      "text/plain": [
       "             Viajes\n",
       "count     81.000000\n",
       "mean   30777.061728\n",
       "std    13658.229593\n",
       "min    10416.000000\n",
       "25%    18843.000000\n",
       "50%    30457.000000\n",
       "75%    42480.000000\n",
       "max    55828.000000"
      ]
     },
     "execution_count": 16,
     "metadata": {},
     "output_type": "execute_result"
    }
   ],
   "source": [
    "df_ine.describe()"
   ]
  },
  {
   "cell_type": "code",
   "execution_count": 17,
   "metadata": {
    "scrolled": true
   },
   "outputs": [
    {
     "data": {
      "text/html": [
       "<div>\n",
       "<style scoped>\n",
       "    .dataframe tbody tr th:only-of-type {\n",
       "        vertical-align: middle;\n",
       "    }\n",
       "\n",
       "    .dataframe tbody tr th {\n",
       "        vertical-align: top;\n",
       "    }\n",
       "\n",
       "    .dataframe thead th {\n",
       "        text-align: right;\n",
       "    }\n",
       "</style>\n",
       "<table border=\"1\" class=\"dataframe\">\n",
       "  <thead>\n",
       "    <tr style=\"text-align: right;\">\n",
       "      <th></th>\n",
       "      <th>Viajes</th>\n",
       "    </tr>\n",
       "  </thead>\n",
       "  <tbody>\n",
       "    <tr>\n",
       "      <th>2020-04-30</th>\n",
       "      <td>11.033333</td>\n",
       "    </tr>\n",
       "    <tr>\n",
       "      <th>2020-05-31</th>\n",
       "      <td>20.258065</td>\n",
       "    </tr>\n",
       "    <tr>\n",
       "      <th>2020-06-30</th>\n",
       "      <td>23.000000</td>\n",
       "    </tr>\n",
       "  </tbody>\n",
       "</table>\n",
       "</div>"
      ],
      "text/plain": [
       "               Viajes\n",
       "2020-04-30  11.033333\n",
       "2020-05-31  20.258065\n",
       "2020-06-30  23.000000"
      ]
     },
     "execution_count": 17,
     "metadata": {},
     "output_type": "execute_result"
    }
   ],
   "source": [
    "meses = df_twt.resample('M').mean()\n",
    "meses"
   ]
  },
  {
   "cell_type": "code",
   "execution_count": 18,
   "metadata": {},
   "outputs": [
    {
     "data": {
      "text/html": [
       "<div>\n",
       "<style scoped>\n",
       "    .dataframe tbody tr th:only-of-type {\n",
       "        vertical-align: middle;\n",
       "    }\n",
       "\n",
       "    .dataframe tbody tr th {\n",
       "        vertical-align: top;\n",
       "    }\n",
       "\n",
       "    .dataframe thead th {\n",
       "        text-align: right;\n",
       "    }\n",
       "</style>\n",
       "<table border=\"1\" class=\"dataframe\">\n",
       "  <thead>\n",
       "    <tr style=\"text-align: right;\">\n",
       "      <th></th>\n",
       "      <th>Viajes</th>\n",
       "    </tr>\n",
       "  </thead>\n",
       "  <tbody>\n",
       "    <tr>\n",
       "      <th>2020-04-30</th>\n",
       "      <td>18261.733333</td>\n",
       "    </tr>\n",
       "    <tr>\n",
       "      <th>2020-05-31</th>\n",
       "      <td>32278.387097</td>\n",
       "    </tr>\n",
       "    <tr>\n",
       "      <th>2020-06-30</th>\n",
       "      <td>47223.000000</td>\n",
       "    </tr>\n",
       "  </tbody>\n",
       "</table>\n",
       "</div>"
      ],
      "text/plain": [
       "                  Viajes\n",
       "2020-04-30  18261.733333\n",
       "2020-05-31  32278.387097\n",
       "2020-06-30  47223.000000"
      ]
     },
     "execution_count": 18,
     "metadata": {},
     "output_type": "execute_result"
    }
   ],
   "source": [
    "meses = df_ine.resample('M').mean()\n",
    "meses"
   ]
  },
  {
   "cell_type": "code",
   "execution_count": 19,
   "metadata": {
    "scrolled": true
   },
   "outputs": [
    {
     "data": {
      "text/plain": [
       "[<matplotlib.lines.Line2D at 0x25d2f046730>]"
      ]
     },
     "execution_count": 19,
     "metadata": {},
     "output_type": "execute_result"
    },
    {
     "data": {
      "image/png": "[encoded data removed]",
      "text/plain": [
       "<Figure size 432x288 with 1 Axes>"
      ]
     },
     "metadata": {
      "needs_background": "light"
     },
     "output_type": "display_data"
    }
   ],
   "source": [
    "abril = df_twt['2020-04-01':'2020-04-30']\n",
    "plt.plot(abril.values)\n",
    "mayo = df_twt['2020-05-01':'2020-05-31']\n",
    "plt.plot(mayo.values)\n",
    "junio = df_twt['2020-06-01':'2020-06-20']\n",
    "plt.plot(junio.values)"
   ]
  },
  {
   "cell_type": "code",
   "execution_count": 20,
   "metadata": {},
   "outputs": [
    {
     "data": {
      "text/plain": [
       "[<matplotlib.lines.Line2D at 0x25d20059ee0>]"
      ]
     },
     "execution_count": 20,
     "metadata": {},
     "output_type": "execute_result"
    },
    {
     "data": {
      "image/png": "[encoded data removed]",
      "text/plain": [
       "<Figure size 432x288 with 1 Axes>"
      ]
     },
     "metadata": {
      "needs_background": "light"
     },
     "output_type": "display_data"
    }
   ],
   "source": [
    "abril = df_ine['2020-04-01':'2020-04-30']\n",
    "plt.plot(abril.values)\n",
    "mayo = df_ine['2020-05-01':'2020-05-31']\n",
    "plt.plot(mayo.values)\n",
    "junio = df_ine['2020-06-01':'2020-06-20']\n",
    "plt.plot(junio.values)"
   ]
  },
  {
   "cell_type": "markdown",
   "metadata": {},
   "source": [
    "# Preprocesado de datos"
   ]
  },
  {
   "cell_type": "code",
   "execution_count": 21,
   "metadata": {},
   "outputs": [
    {
     "data": {
      "text/html": [
       "<div>\n",
       "<style scoped>\n",
       "    .dataframe tbody tr th:only-of-type {\n",
       "        vertical-align: middle;\n",
       "    }\n",
       "\n",
       "    .dataframe tbody tr th {\n",
       "        vertical-align: top;\n",
       "    }\n",
       "\n",
       "    .dataframe thead th {\n",
       "        text-align: right;\n",
       "    }\n",
       "</style>\n",
       "<table border=\"1\" class=\"dataframe\">\n",
       "  <thead>\n",
       "    <tr style=\"text-align: right;\">\n",
       "      <th></th>\n",
       "      <th>var1(t-7)</th>\n",
       "      <th>var1(t-6)</th>\n",
       "      <th>var1(t-5)</th>\n",
       "      <th>var1(t-4)</th>\n",
       "      <th>var1(t-3)</th>\n",
       "      <th>var1(t-2)</th>\n",
       "      <th>var1(t-1)</th>\n",
       "      <th>var1(t)</th>\n",
       "    </tr>\n",
       "  </thead>\n",
       "  <tbody>\n",
       "    <tr>\n",
       "      <th>76</th>\n",
       "      <td>0.176471</td>\n",
       "      <td>-0.235294</td>\n",
       "      <td>0.176471</td>\n",
       "      <td>0.529412</td>\n",
       "      <td>1.000000</td>\n",
       "      <td>-0.058824</td>\n",
       "      <td>-0.647059</td>\n",
       "      <td>0.470588</td>\n",
       "    </tr>\n",
       "    <tr>\n",
       "      <th>77</th>\n",
       "      <td>-0.235294</td>\n",
       "      <td>0.176471</td>\n",
       "      <td>0.529412</td>\n",
       "      <td>1.000000</td>\n",
       "      <td>-0.058824</td>\n",
       "      <td>-0.647059</td>\n",
       "      <td>0.470588</td>\n",
       "      <td>0.764706</td>\n",
       "    </tr>\n",
       "    <tr>\n",
       "      <th>78</th>\n",
       "      <td>0.176471</td>\n",
       "      <td>0.529412</td>\n",
       "      <td>1.000000</td>\n",
       "      <td>-0.058824</td>\n",
       "      <td>-0.647059</td>\n",
       "      <td>0.470588</td>\n",
       "      <td>0.764706</td>\n",
       "      <td>0.882353</td>\n",
       "    </tr>\n",
       "    <tr>\n",
       "      <th>79</th>\n",
       "      <td>0.529412</td>\n",
       "      <td>1.000000</td>\n",
       "      <td>-0.058824</td>\n",
       "      <td>-0.647059</td>\n",
       "      <td>0.470588</td>\n",
       "      <td>0.764706</td>\n",
       "      <td>0.882353</td>\n",
       "      <td>0.647059</td>\n",
       "    </tr>\n",
       "    <tr>\n",
       "      <th>80</th>\n",
       "      <td>1.000000</td>\n",
       "      <td>-0.058824</td>\n",
       "      <td>-0.647059</td>\n",
       "      <td>0.470588</td>\n",
       "      <td>0.764706</td>\n",
       "      <td>0.882353</td>\n",
       "      <td>0.647059</td>\n",
       "      <td>0.000000</td>\n",
       "    </tr>\n",
       "  </tbody>\n",
       "</table>\n",
       "</div>"
      ],
      "text/plain": [
       "    var1(t-7)  var1(t-6)  var1(t-5)  var1(t-4)  var1(t-3)  var1(t-2)  \\\n",
       "76   0.176471  -0.235294   0.176471   0.529412   1.000000  -0.058824   \n",
       "77  -0.235294   0.176471   0.529412   1.000000  -0.058824  -0.647059   \n",
       "78   0.176471   0.529412   1.000000  -0.058824  -0.647059   0.470588   \n",
       "79   0.529412   1.000000  -0.058824  -0.647059   0.470588   0.764706   \n",
       "80   1.000000  -0.058824  -0.647059   0.470588   0.764706   0.882353   \n",
       "\n",
       "    var1(t-1)   var1(t)  \n",
       "76  -0.647059  0.470588  \n",
       "77   0.470588  0.764706  \n",
       "78   0.764706  0.882353  \n",
       "79   0.882353  0.647059  \n",
       "80   0.647059  0.000000  "
      ]
     },
     "execution_count": 21,
     "metadata": {},
     "output_type": "execute_result"
    }
   ],
   "source": [
    "# cantidad de dias previos que se usaran para predecir el siguiente dia \n",
    "look_back=7\n",
    "\n",
    "# convertir series en conocimiento supervisado\n",
    "def series_to_supervised(data, n_in=1, n_out=1, dropnan=True):\n",
    "    n_vars = 1 if type(data) is list else data.shape[1]\n",
    "    df = pd.DataFrame(data)\n",
    "    cols, names = list(), list()\n",
    "    # secuencia de entrada (t-n, ... t-1)\n",
    "    for i in range(n_in, 0, -1):\n",
    "        cols.append(df.shift(i))\n",
    "        names += [('var%d(t-%d)' % (j+1, i)) for j in range(n_vars)]\n",
    "    # secuencia del pronostico (t, t+1, ... t+n)\n",
    "    for i in range(0, n_out):\n",
    "        cols.append(df.shift(-i))\n",
    "        if i == 0:\n",
    "            names += [('var%d(t)' % (j+1)) for j in range(n_vars)]\n",
    "        else:\n",
    "            names += [('var%d(t+%d)' % (j+1, i)) for j in range(n_vars)]\n",
    "    # unimos todo\n",
    "    agg = pd.concat(cols, axis=1)\n",
    "    agg.columns = names\n",
    "    # eliminamos todos los valores nulos\n",
    "    if dropnan:\n",
    "        agg.dropna(inplace=True)\n",
    "    return agg\n",
    " \n",
    "# cargamos el dataframe en la variable values\n",
    "values_twt = df_twt.values\n",
    "values_ine = df_ine.values\n",
    "\n",
    "# convertimos los enteros en floats\n",
    "values_twt = values_twt.astype('float32')\n",
    "values_ine = values_ine.astype('float32')\n",
    "\n",
    "# normalizamos los datos a escala de entre -1 y 1\n",
    "scaler = MinMaxScaler(feature_range=(-1, 1))\n",
    "values_twt=values_twt.reshape(-1, 1) # esto lo hacemos porque tenemos 1 sola dimension\n",
    "values_ine=values_ine.reshape(-1, 1) # esto lo hacemos porque tenemos 1 sola dimension\n",
    "scaled_twt = scaler.fit_transform(values_twt)\n",
    "scaled_ine = scaler.fit_transform(values_ine)\n",
    "\n",
    "# usamos la funcion definida previamente\n",
    "reframed_twt = series_to_supervised(scaled_twt, look_back, 1)\n",
    "reframed_ine = series_to_supervised(scaled_ine, look_back, 1)\n",
    "\n",
    "#imprimimos los nuevos datos\n",
    "reframed_twt.tail()"
   ]
  },
  {
   "cell_type": "code",
   "execution_count": 22,
   "metadata": {
    "scrolled": false
   },
   "outputs": [
    {
     "data": {
      "text/html": [
       "<div>\n",
       "<style scoped>\n",
       "    .dataframe tbody tr th:only-of-type {\n",
       "        vertical-align: middle;\n",
       "    }\n",
       "\n",
       "    .dataframe tbody tr th {\n",
       "        vertical-align: top;\n",
       "    }\n",
       "\n",
       "    .dataframe thead th {\n",
       "        text-align: right;\n",
       "    }\n",
       "</style>\n",
       "<table border=\"1\" class=\"dataframe\">\n",
       "  <thead>\n",
       "    <tr style=\"text-align: right;\">\n",
       "      <th></th>\n",
       "      <th>var2(t-7)</th>\n",
       "      <th>var2(t-6)</th>\n",
       "      <th>var2(t-5)</th>\n",
       "      <th>var2(t-4)</th>\n",
       "      <th>var2(t-3)</th>\n",
       "      <th>var2(t-2)</th>\n",
       "      <th>var2(t-1)</th>\n",
       "      <th>var2(t)</th>\n",
       "    </tr>\n",
       "  </thead>\n",
       "  <tbody>\n",
       "    <tr>\n",
       "      <th>76</th>\n",
       "      <td>0.377698</td>\n",
       "      <td>0.872853</td>\n",
       "      <td>0.876464</td>\n",
       "      <td>0.817185</td>\n",
       "      <td>0.426715</td>\n",
       "      <td>0.129569</td>\n",
       "      <td>0.774113</td>\n",
       "      <td>0.881133</td>\n",
       "    </tr>\n",
       "    <tr>\n",
       "      <th>77</th>\n",
       "      <td>0.872853</td>\n",
       "      <td>0.876464</td>\n",
       "      <td>0.817185</td>\n",
       "      <td>0.426715</td>\n",
       "      <td>0.129569</td>\n",
       "      <td>0.774113</td>\n",
       "      <td>0.881133</td>\n",
       "      <td>0.905576</td>\n",
       "    </tr>\n",
       "    <tr>\n",
       "      <th>78</th>\n",
       "      <td>0.876464</td>\n",
       "      <td>0.817185</td>\n",
       "      <td>0.426715</td>\n",
       "      <td>0.129569</td>\n",
       "      <td>0.774113</td>\n",
       "      <td>0.881133</td>\n",
       "      <td>0.905576</td>\n",
       "      <td>0.910684</td>\n",
       "    </tr>\n",
       "    <tr>\n",
       "      <th>79</th>\n",
       "      <td>0.817185</td>\n",
       "      <td>0.426715</td>\n",
       "      <td>0.129569</td>\n",
       "      <td>0.774113</td>\n",
       "      <td>0.881133</td>\n",
       "      <td>0.905576</td>\n",
       "      <td>0.910684</td>\n",
       "      <td>1.000000</td>\n",
       "    </tr>\n",
       "    <tr>\n",
       "      <th>80</th>\n",
       "      <td>0.426715</td>\n",
       "      <td>0.129569</td>\n",
       "      <td>0.774113</td>\n",
       "      <td>0.881133</td>\n",
       "      <td>0.905576</td>\n",
       "      <td>0.910684</td>\n",
       "      <td>1.000000</td>\n",
       "      <td>0.573417</td>\n",
       "    </tr>\n",
       "  </tbody>\n",
       "</table>\n",
       "</div>"
      ],
      "text/plain": [
       "    var2(t-7)  var2(t-6)  var2(t-5)  var2(t-4)  var2(t-3)  var2(t-2)  \\\n",
       "76   0.377698   0.872853   0.876464   0.817185   0.426715   0.129569   \n",
       "77   0.872853   0.876464   0.817185   0.426715   0.129569   0.774113   \n",
       "78   0.876464   0.817185   0.426715   0.129569   0.774113   0.881133   \n",
       "79   0.817185   0.426715   0.129569   0.774113   0.881133   0.905576   \n",
       "80   0.426715   0.129569   0.774113   0.881133   0.905576   0.910684   \n",
       "\n",
       "    var2(t-1)   var2(t)  \n",
       "76   0.774113  0.881133  \n",
       "77   0.881133  0.905576  \n",
       "78   0.905576  0.910684  \n",
       "79   0.910684  1.000000  \n",
       "80   1.000000  0.573417  "
      ]
     },
     "execution_count": 22,
     "metadata": {},
     "output_type": "execute_result"
    }
   ],
   "source": [
    "#cambiamos el nombre de las columnas\n",
    "reframed_ine.columns = ['var2(t-7)', 'var2(t-6)', 'var2(t-5)', 'var2(t-4)', 'var2(t-3)', 'var2(t-2)', 'var2(t-1)', 'var2(t)']\n",
    "reframed_ine.tail()"
   ]
  },
  {
   "cell_type": "code",
   "execution_count": 23,
   "metadata": {
    "scrolled": false
   },
   "outputs": [
    {
     "data": {
      "text/html": [
       "<div>\n",
       "<style scoped>\n",
       "    .dataframe tbody tr th:only-of-type {\n",
       "        vertical-align: middle;\n",
       "    }\n",
       "\n",
       "    .dataframe tbody tr th {\n",
       "        vertical-align: top;\n",
       "    }\n",
       "\n",
       "    .dataframe thead th {\n",
       "        text-align: right;\n",
       "    }\n",
       "</style>\n",
       "<table border=\"1\" class=\"dataframe\">\n",
       "  <thead>\n",
       "    <tr style=\"text-align: right;\">\n",
       "      <th></th>\n",
       "      <th>var1(t-7)</th>\n",
       "      <th>var2(t-7)</th>\n",
       "      <th>var1(t-6)</th>\n",
       "      <th>var2(t-6)</th>\n",
       "      <th>var1(t-5)</th>\n",
       "      <th>var2(t-5)</th>\n",
       "      <th>var1(t-4)</th>\n",
       "      <th>var2(t-4)</th>\n",
       "      <th>var1(t-3)</th>\n",
       "      <th>var2(t-3)</th>\n",
       "      <th>var1(t-2)</th>\n",
       "      <th>var2(t-2)</th>\n",
       "      <th>var1(t-1)</th>\n",
       "      <th>var2(t-1)</th>\n",
       "      <th>var2(t)</th>\n",
       "    </tr>\n",
       "  </thead>\n",
       "  <tbody>\n",
       "    <tr>\n",
       "      <th>76</th>\n",
       "      <td>0.176471</td>\n",
       "      <td>0.377698</td>\n",
       "      <td>-0.235294</td>\n",
       "      <td>0.872853</td>\n",
       "      <td>0.176471</td>\n",
       "      <td>0.876464</td>\n",
       "      <td>0.529412</td>\n",
       "      <td>0.817185</td>\n",
       "      <td>1.000000</td>\n",
       "      <td>0.426715</td>\n",
       "      <td>-0.058824</td>\n",
       "      <td>0.129569</td>\n",
       "      <td>-0.647059</td>\n",
       "      <td>0.774113</td>\n",
       "      <td>0.881133</td>\n",
       "    </tr>\n",
       "    <tr>\n",
       "      <th>77</th>\n",
       "      <td>-0.235294</td>\n",
       "      <td>0.872853</td>\n",
       "      <td>0.176471</td>\n",
       "      <td>0.876464</td>\n",
       "      <td>0.529412</td>\n",
       "      <td>0.817185</td>\n",
       "      <td>1.000000</td>\n",
       "      <td>0.426715</td>\n",
       "      <td>-0.058824</td>\n",
       "      <td>0.129569</td>\n",
       "      <td>-0.647059</td>\n",
       "      <td>0.774113</td>\n",
       "      <td>0.470588</td>\n",
       "      <td>0.881133</td>\n",
       "      <td>0.905576</td>\n",
       "    </tr>\n",
       "    <tr>\n",
       "      <th>78</th>\n",
       "      <td>0.176471</td>\n",
       "      <td>0.876464</td>\n",
       "      <td>0.529412</td>\n",
       "      <td>0.817185</td>\n",
       "      <td>1.000000</td>\n",
       "      <td>0.426715</td>\n",
       "      <td>-0.058824</td>\n",
       "      <td>0.129569</td>\n",
       "      <td>-0.647059</td>\n",
       "      <td>0.774113</td>\n",
       "      <td>0.470588</td>\n",
       "      <td>0.881133</td>\n",
       "      <td>0.764706</td>\n",
       "      <td>0.905576</td>\n",
       "      <td>0.910684</td>\n",
       "    </tr>\n",
       "    <tr>\n",
       "      <th>79</th>\n",
       "      <td>0.529412</td>\n",
       "      <td>0.817185</td>\n",
       "      <td>1.000000</td>\n",
       "      <td>0.426715</td>\n",
       "      <td>-0.058824</td>\n",
       "      <td>0.129569</td>\n",
       "      <td>-0.647059</td>\n",
       "      <td>0.774113</td>\n",
       "      <td>0.470588</td>\n",
       "      <td>0.881133</td>\n",
       "      <td>0.764706</td>\n",
       "      <td>0.905576</td>\n",
       "      <td>0.882353</td>\n",
       "      <td>0.910684</td>\n",
       "      <td>1.000000</td>\n",
       "    </tr>\n",
       "    <tr>\n",
       "      <th>80</th>\n",
       "      <td>1.000000</td>\n",
       "      <td>0.426715</td>\n",
       "      <td>-0.058824</td>\n",
       "      <td>0.129569</td>\n",
       "      <td>-0.647059</td>\n",
       "      <td>0.774113</td>\n",
       "      <td>0.470588</td>\n",
       "      <td>0.881133</td>\n",
       "      <td>0.764706</td>\n",
       "      <td>0.905576</td>\n",
       "      <td>0.882353</td>\n",
       "      <td>0.910684</td>\n",
       "      <td>0.647059</td>\n",
       "      <td>1.000000</td>\n",
       "      <td>0.573417</td>\n",
       "    </tr>\n",
       "  </tbody>\n",
       "</table>\n",
       "</div>"
      ],
      "text/plain": [
       "    var1(t-7)  var2(t-7)  var1(t-6)  var2(t-6)  var1(t-5)  var2(t-5)  \\\n",
       "76   0.176471   0.377698  -0.235294   0.872853   0.176471   0.876464   \n",
       "77  -0.235294   0.872853   0.176471   0.876464   0.529412   0.817185   \n",
       "78   0.176471   0.876464   0.529412   0.817185   1.000000   0.426715   \n",
       "79   0.529412   0.817185   1.000000   0.426715  -0.058824   0.129569   \n",
       "80   1.000000   0.426715  -0.058824   0.129569  -0.647059   0.774113   \n",
       "\n",
       "    var1(t-4)  var2(t-4)  var1(t-3)  var2(t-3)  var1(t-2)  var2(t-2)  \\\n",
       "76   0.529412   0.817185   1.000000   0.426715  -0.058824   0.129569   \n",
       "77   1.000000   0.426715  -0.058824   0.129569  -0.647059   0.774113   \n",
       "78  -0.058824   0.129569  -0.647059   0.774113   0.470588   0.881133   \n",
       "79  -0.647059   0.774113   0.470588   0.881133   0.764706   0.905576   \n",
       "80   0.470588   0.881133   0.764706   0.905576   0.882353   0.910684   \n",
       "\n",
       "    var1(t-1)  var2(t-1)   var2(t)  \n",
       "76  -0.647059   0.774113  0.881133  \n",
       "77   0.470588   0.881133  0.905576  \n",
       "78   0.764706   0.905576  0.910684  \n",
       "79   0.882353   0.910684  1.000000  \n",
       "80   0.647059   1.000000  0.573417  "
      ]
     },
     "execution_count": 23,
     "metadata": {},
     "output_type": "execute_result"
    }
   ],
   "source": [
    "#unimos los datos del ine con los de twitter\n",
    "reframed = pd.concat([reframed_twt.iloc[:, 0], reframed_ine.iloc[:, 0]], axis=1)\n",
    "\n",
    "for i in range(6):\n",
    "    reframed = pd.concat([reframed, reframed_twt.iloc[:, i+1]], axis=1)\n",
    "    reframed = pd.concat([reframed, reframed_ine.iloc[:, i+1]], axis=1)\n",
    "    \n",
    "reframed = pd.concat([reframed, reframed_ine.iloc[:, 7]], axis=1)\n",
    "\n",
    "reframed.tail()"
   ]
  },
  {
   "cell_type": "markdown",
   "metadata": {},
   "source": [
    "# Dividimos los datos en sets de entrenamiento y validacion"
   ]
  },
  {
   "cell_type": "code",
   "execution_count": 24,
   "metadata": {},
   "outputs": [
    {
     "name": "stdout",
     "output_type": "stream",
     "text": [
      "(54, 1, 14) (54,) (20, 1, 14) (20,)\n"
     ]
    }
   ],
   "source": [
    "#dividimos nuestro valores entre sets de entrenamiento y de test\n",
    "values = reframed.values\n",
    "n_train_days = 71 - (10+look_back)\n",
    "train = values[:n_train_days, :]\n",
    "test = values[n_train_days:, :]\n",
    "\n",
    "# split into input and outputs\n",
    "x_train, y_train = train[:, :-1], train[:, -1]\n",
    "x_val, y_val = test[:, :-1], test[:, -1]\n",
    "\n",
    "# reshape input to be 3D [samples, timesteps, features] - preguntar\n",
    "x_train = x_train.reshape((x_train.shape[0], 1, x_train.shape[1]))\n",
    "x_val = x_val.reshape((x_val.shape[0], 1, x_val.shape[1]))\n",
    "print(x_train.shape, y_train.shape, x_val.shape, y_val.shape)"
   ]
  },
  {
   "cell_type": "markdown",
   "metadata": {},
   "source": [
    "# Creamos la red neuronal"
   ]
  },
  {
   "cell_type": "code",
   "execution_count": 25,
   "metadata": {},
   "outputs": [],
   "source": [
    "def crear_modeloFF():\n",
    "    model = Sequential() \n",
    "    model.add(Dense(look_back, input_shape=(1,look_back*2),activation='tanh'))\n",
    "    model.add(Flatten())\n",
    "    model.add(Dense(100, activation='tanh'))\n",
    "    model.add(Dropout(0.30))\n",
    "    model.add(Dense(100, activation='tanh'))\n",
    "    model.add(Dropout(0.30))\n",
    "    model.add(Dense(100, activation='tanh'))\n",
    "    model.add(Dropout(0.30))\n",
    "    model.add(Dense(100, activation='tanh'))\n",
    "    model.add(Dropout(0.30))\n",
    "    model.add(Dense(1, activation='tanh'))\n",
    "    model.compile(loss='mean_absolute_error',optimizer='Adam',metrics=[\"mse\"])\n",
    "    model.summary()\n",
    "    return model"
   ]
  },
  {
   "cell_type": "code",
   "execution_count": 26,
   "metadata": {},
   "outputs": [
    {
     "name": "stdout",
     "output_type": "stream",
     "text": [
      "Model: \"sequential\"\n",
      "_________________________________________________________________\n",
      "Layer (type)                 Output Shape              Param #   \n",
      "=================================================================\n",
      "dense (Dense)                (None, 1, 7)              105       \n",
      "_________________________________________________________________\n",
      "flatten (Flatten)            (None, 7)                 0         \n",
      "_________________________________________________________________\n",
      "dense_1 (Dense)              (None, 100)               800       \n",
      "_________________________________________________________________\n",
      "dropout (Dropout)            (None, 100)               0         \n",
      "_________________________________________________________________\n",
      "dense_2 (Dense)              (None, 100)               10100     \n",
      "_________________________________________________________________\n",
      "dropout_1 (Dropout)          (None, 100)               0         \n",
      "_________________________________________________________________\n",
      "dense_3 (Dense)              (None, 100)               10100     \n",
      "_________________________________________________________________\n",
      "dropout_2 (Dropout)          (None, 100)               0         \n",
      "_________________________________________________________________\n",
      "dense_4 (Dense)              (None, 100)               10100     \n",
      "_________________________________________________________________\n",
      "dropout_3 (Dropout)          (None, 100)               0         \n",
      "_________________________________________________________________\n",
      "dense_5 (Dense)              (None, 1)                 101       \n",
      "=================================================================\n",
      "Total params: 31,306\n",
      "Trainable params: 31,306\n",
      "Non-trainable params: 0\n",
      "_________________________________________________________________\n",
      "Epoch 1/200\n",
      "8/8 [==============================] - 3s 322ms/step - loss: 0.4554 - mse: 0.3327 - val_loss: 0.2886 - val_mse: 0.1234\n",
      "Epoch 2/200\n",
      "8/8 [==============================] - 0s 13ms/step - loss: 0.3536 - mse: 0.2049 - val_loss: 0.3472 - val_mse: 0.1597\n",
      "Epoch 3/200\n",
      "8/8 [==============================] - 0s 13ms/step - loss: 0.3235 - mse: 0.1826 - val_loss: 0.4299 - val_mse: 0.2895\n",
      "Epoch 4/200\n",
      "8/8 [==============================] - 0s 13ms/step - loss: 0.4067 - mse: 0.2476 - val_loss: 0.4027 - val_mse: 0.2314\n",
      "Epoch 5/200\n",
      "8/8 [==============================] - 0s 13ms/step - loss: 0.3564 - mse: 0.2084 - val_loss: 0.4571 - val_mse: 0.2955\n",
      "Epoch 6/200\n",
      "8/8 [==============================] - 0s 13ms/step - loss: 0.2668 - mse: 0.1175 - val_loss: 0.4162 - val_mse: 0.2371\n",
      "Epoch 7/200\n",
      "8/8 [==============================] - 0s 13ms/step - loss: 0.2520 - mse: 0.0992 - val_loss: 0.3996 - val_mse: 0.2465\n",
      "Epoch 8/200\n",
      "8/8 [==============================] - 0s 13ms/step - loss: 0.2887 - mse: 0.1490 - val_loss: 0.4187 - val_mse: 0.2822\n",
      "Epoch 9/200\n",
      "8/8 [==============================] - 0s 12ms/step - loss: 0.3098 - mse: 0.1603 - val_loss: 0.4182 - val_mse: 0.2813\n",
      "Epoch 10/200\n",
      "8/8 [==============================] - 0s 13ms/step - loss: 0.2935 - mse: 0.1555 - val_loss: 0.3718 - val_mse: 0.2071\n",
      "Epoch 11/200\n",
      "8/8 [==============================] - 0s 12ms/step - loss: 0.3042 - mse: 0.1560 - val_loss: 0.3559 - val_mse: 0.1734\n",
      "Epoch 12/200\n",
      "8/8 [==============================] - 0s 13ms/step - loss: 0.3165 - mse: 0.1647 - val_loss: 0.3623 - val_mse: 0.1758\n",
      "Epoch 13/200\n",
      "8/8 [==============================] - 0s 12ms/step - loss: 0.3309 - mse: 0.1857 - val_loss: 0.3298 - val_mse: 0.1511\n",
      "Epoch 14/200\n",
      "8/8 [==============================] - 0s 12ms/step - loss: 0.2981 - mse: 0.1472 - val_loss: 0.3337 - val_mse: 0.1705\n",
      "Epoch 15/200\n",
      "8/8 [==============================] - 0s 13ms/step - loss: 0.2479 - mse: 0.1058 - val_loss: 0.3375 - val_mse: 0.1663\n",
      "Epoch 16/200\n",
      "8/8 [==============================] - 0s 14ms/step - loss: 0.2215 - mse: 0.0755 - val_loss: 0.3092 - val_mse: 0.1398\n",
      "Epoch 17/200\n",
      "8/8 [==============================] - 0s 11ms/step - loss: 0.2402 - mse: 0.0925 - val_loss: 0.3018 - val_mse: 0.1319\n",
      "Epoch 18/200\n",
      "8/8 [==============================] - 0s 8ms/step - loss: 0.2796 - mse: 0.1200 - val_loss: 0.2700 - val_mse: 0.1053\n",
      "Epoch 19/200\n",
      "8/8 [==============================] - 0s 8ms/step - loss: 0.2826 - mse: 0.1317 - val_loss: 0.2561 - val_mse: 0.0947\n",
      "Epoch 20/200\n",
      "8/8 [==============================] - 0s 8ms/step - loss: 0.2556 - mse: 0.1131 - val_loss: 0.2591 - val_mse: 0.0945\n",
      "Epoch 21/200\n",
      "8/8 [==============================] - 0s 8ms/step - loss: 0.2297 - mse: 0.0869 - val_loss: 0.2378 - val_mse: 0.0830\n",
      "Epoch 22/200\n",
      "8/8 [==============================] - 0s 8ms/step - loss: 0.2334 - mse: 0.0805 - val_loss: 0.2479 - val_mse: 0.0962\n",
      "Epoch 23/200\n",
      "8/8 [==============================] - 0s 8ms/step - loss: 0.2175 - mse: 0.0805 - val_loss: 0.2766 - val_mse: 0.1194\n",
      "Epoch 24/200\n",
      "8/8 [==============================] - 0s 8ms/step - loss: 0.2205 - mse: 0.0746 - val_loss: 0.2136 - val_mse: 0.0728\n",
      "Epoch 25/200\n",
      "8/8 [==============================] - 0s 8ms/step - loss: 0.2724 - mse: 0.1221 - val_loss: 0.2201 - val_mse: 0.0751\n",
      "Epoch 26/200\n",
      "8/8 [==============================] - 0s 8ms/step - loss: 0.2354 - mse: 0.0926 - val_loss: 0.2574 - val_mse: 0.1023\n",
      "Epoch 27/200\n",
      "8/8 [==============================] - 0s 8ms/step - loss: 0.2091 - mse: 0.0745 - val_loss: 0.2307 - val_mse: 0.0841\n",
      "Epoch 28/200\n",
      "8/8 [==============================] - 0s 8ms/step - loss: 0.2283 - mse: 0.0856 - val_loss: 0.2951 - val_mse: 0.1412\n",
      "Epoch 29/200\n",
      "8/8 [==============================] - 0s 8ms/step - loss: 0.2582 - mse: 0.0938 - val_loss: 0.2391 - val_mse: 0.1019\n",
      "Epoch 30/200\n",
      "8/8 [==============================] - 0s 7ms/step - loss: 0.2233 - mse: 0.0907 - val_loss: 0.2397 - val_mse: 0.0990\n",
      "Epoch 31/200\n",
      "8/8 [==============================] - 0s 8ms/step - loss: 0.2438 - mse: 0.1119 - val_loss: 0.2342 - val_mse: 0.0885\n",
      "Epoch 32/200\n",
      "8/8 [==============================] - 0s 8ms/step - loss: 0.1790 - mse: 0.0530 - val_loss: 0.2130 - val_mse: 0.0744\n",
      "Epoch 33/200\n",
      "8/8 [==============================] - 0s 8ms/step - loss: 0.1841 - mse: 0.0663 - val_loss: 0.2105 - val_mse: 0.0771\n",
      "Epoch 34/200\n",
      "8/8 [==============================] - 0s 8ms/step - loss: 0.2396 - mse: 0.0885 - val_loss: 0.2307 - val_mse: 0.0871\n",
      "Epoch 35/200\n",
      "8/8 [==============================] - 0s 8ms/step - loss: 0.1876 - mse: 0.0706 - val_loss: 0.2034 - val_mse: 0.0632\n",
      "Epoch 36/200\n",
      "8/8 [==============================] - 0s 8ms/step - loss: 0.1964 - mse: 0.0785 - val_loss: 0.2083 - val_mse: 0.0647\n",
      "Epoch 37/200\n",
      "8/8 [==============================] - 0s 7ms/step - loss: 0.2490 - mse: 0.1051 - val_loss: 0.1973 - val_mse: 0.0631\n",
      "Epoch 38/200\n",
      "8/8 [==============================] - 0s 8ms/step - loss: 0.1785 - mse: 0.0615 - val_loss: 0.2401 - val_mse: 0.0895\n",
      "Epoch 39/200\n",
      "8/8 [==============================] - 0s 8ms/step - loss: 0.2374 - mse: 0.0856 - val_loss: 0.1989 - val_mse: 0.0741\n",
      "Epoch 40/200\n",
      "8/8 [==============================] - 0s 8ms/step - loss: 0.2219 - mse: 0.0925 - val_loss: 0.1942 - val_mse: 0.0633\n",
      "Epoch 41/200\n",
      "8/8 [==============================] - 0s 8ms/step - loss: 0.1769 - mse: 0.0506 - val_loss: 0.2168 - val_mse: 0.0855\n",
      "Epoch 42/200\n",
      "8/8 [==============================] - 0s 8ms/step - loss: 0.2076 - mse: 0.0736 - val_loss: 0.2609 - val_mse: 0.1084\n",
      "Epoch 43/200\n",
      "8/8 [==============================] - 0s 8ms/step - loss: 0.2197 - mse: 0.0830 - val_loss: 0.3215 - val_mse: 0.1502\n",
      "Epoch 44/200\n",
      "8/8 [==============================] - 0s 8ms/step - loss: 0.2072 - mse: 0.0660 - val_loss: 0.2372 - val_mse: 0.0891\n",
      "Epoch 45/200\n",
      "8/8 [==============================] - 0s 8ms/step - loss: 0.1677 - mse: 0.0508 - val_loss: 0.2021 - val_mse: 0.0599\n",
      "Epoch 46/200\n",
      "8/8 [==============================] - 0s 8ms/step - loss: 0.2460 - mse: 0.1006 - val_loss: 0.1829 - val_mse: 0.0451\n",
      "Epoch 47/200\n",
      "8/8 [==============================] - 0s 7ms/step - loss: 0.2048 - mse: 0.0620 - val_loss: 0.1576 - val_mse: 0.0363\n",
      "Epoch 48/200\n",
      "8/8 [==============================] - 0s 8ms/step - loss: 0.1909 - mse: 0.0596 - val_loss: 0.1576 - val_mse: 0.0358\n",
      "Epoch 49/200\n",
      "8/8 [==============================] - 0s 8ms/step - loss: 0.2039 - mse: 0.0721 - val_loss: 0.1601 - val_mse: 0.0375\n",
      "Epoch 50/200\n"
     ]
    },
    {
     "name": "stdout",
     "output_type": "stream",
     "text": [
      "8/8 [==============================] - 0s 8ms/step - loss: 0.2109 - mse: 0.0697 - val_loss: 0.1670 - val_mse: 0.0450\n",
      "Epoch 51/200\n",
      "8/8 [==============================] - 0s 7ms/step - loss: 0.1516 - mse: 0.0393 - val_loss: 0.1680 - val_mse: 0.0446\n",
      "Epoch 52/200\n",
      "8/8 [==============================] - 0s 8ms/step - loss: 0.1711 - mse: 0.0509 - val_loss: 0.1979 - val_mse: 0.0557\n",
      "Epoch 53/200\n",
      "8/8 [==============================] - 0s 8ms/step - loss: 0.2351 - mse: 0.0744 - val_loss: 0.1631 - val_mse: 0.0364\n",
      "Epoch 54/200\n",
      "8/8 [==============================] - 0s 8ms/step - loss: 0.2201 - mse: 0.0765 - val_loss: 0.1520 - val_mse: 0.0314\n",
      "Epoch 55/200\n",
      "8/8 [==============================] - 0s 8ms/step - loss: 0.1824 - mse: 0.0572 - val_loss: 0.1450 - val_mse: 0.0342\n",
      "Epoch 56/200\n",
      "8/8 [==============================] - 0s 8ms/step - loss: 0.1694 - mse: 0.0509 - val_loss: 0.1574 - val_mse: 0.0396\n",
      "Epoch 57/200\n",
      "8/8 [==============================] - 0s 8ms/step - loss: 0.1350 - mse: 0.0341 - val_loss: 0.1635 - val_mse: 0.0367\n",
      "Epoch 58/200\n",
      "8/8 [==============================] - 0s 8ms/step - loss: 0.2186 - mse: 0.0745 - val_loss: 0.1815 - val_mse: 0.0458\n",
      "Epoch 59/200\n",
      "8/8 [==============================] - 0s 8ms/step - loss: 0.2296 - mse: 0.0825 - val_loss: 0.1808 - val_mse: 0.0455\n",
      "Epoch 60/200\n",
      "8/8 [==============================] - 0s 8ms/step - loss: 0.1615 - mse: 0.0463 - val_loss: 0.1744 - val_mse: 0.0464\n",
      "Epoch 61/200\n",
      "8/8 [==============================] - 0s 8ms/step - loss: 0.1940 - mse: 0.0624 - val_loss: 0.1577 - val_mse: 0.0437\n",
      "Epoch 62/200\n",
      "8/8 [==============================] - 0s 7ms/step - loss: 0.1972 - mse: 0.0652 - val_loss: 0.1561 - val_mse: 0.0434\n",
      "Epoch 63/200\n",
      "8/8 [==============================] - 0s 7ms/step - loss: 0.2273 - mse: 0.0777 - val_loss: 0.1770 - val_mse: 0.0454\n",
      "Epoch 64/200\n",
      "8/8 [==============================] - 0s 8ms/step - loss: 0.1636 - mse: 0.0522 - val_loss: 0.1819 - val_mse: 0.0456\n",
      "Epoch 65/200\n",
      "8/8 [==============================] - 0s 8ms/step - loss: 0.1770 - mse: 0.0558 - val_loss: 0.1580 - val_mse: 0.0386\n",
      "Epoch 66/200\n",
      "8/8 [==============================] - 0s 12ms/step - loss: 0.2234 - mse: 0.0845 - val_loss: 0.1588 - val_mse: 0.0382\n",
      "Epoch 67/200\n",
      "8/8 [==============================] - 0s 8ms/step - loss: 0.1892 - mse: 0.0661 - val_loss: 0.1902 - val_mse: 0.0557\n",
      "Epoch 68/200\n",
      "8/8 [==============================] - 0s 7ms/step - loss: 0.1898 - mse: 0.0562 - val_loss: 0.2023 - val_mse: 0.0606\n",
      "Epoch 69/200\n",
      "8/8 [==============================] - 0s 7ms/step - loss: 0.1791 - mse: 0.0570 - val_loss: 0.1665 - val_mse: 0.0424\n",
      "Epoch 70/200\n",
      "8/8 [==============================] - 0s 8ms/step - loss: 0.1994 - mse: 0.0771 - val_loss: 0.1704 - val_mse: 0.0426\n",
      "Epoch 71/200\n",
      "8/8 [==============================] - 0s 8ms/step - loss: 0.2227 - mse: 0.0966 - val_loss: 0.1646 - val_mse: 0.0385\n",
      "Epoch 72/200\n",
      "8/8 [==============================] - 0s 8ms/step - loss: 0.1598 - mse: 0.0412 - val_loss: 0.1522 - val_mse: 0.0330\n",
      "Epoch 73/200\n",
      "8/8 [==============================] - 0s 8ms/step - loss: 0.2068 - mse: 0.0649 - val_loss: 0.1560 - val_mse: 0.0354\n",
      "Epoch 74/200\n",
      "8/8 [==============================] - 0s 8ms/step - loss: 0.2262 - mse: 0.0834 - val_loss: 0.1503 - val_mse: 0.0325\n",
      "Epoch 75/200\n",
      "8/8 [==============================] - 0s 8ms/step - loss: 0.2100 - mse: 0.0632 - val_loss: 0.1546 - val_mse: 0.0344\n",
      "Epoch 76/200\n",
      "8/8 [==============================] - 0s 8ms/step - loss: 0.1742 - mse: 0.0504 - val_loss: 0.1468 - val_mse: 0.0333\n",
      "Epoch 77/200\n",
      "8/8 [==============================] - 0s 8ms/step - loss: 0.1822 - mse: 0.0570 - val_loss: 0.1499 - val_mse: 0.0333\n",
      "Epoch 78/200\n",
      "8/8 [==============================] - 0s 8ms/step - loss: 0.1828 - mse: 0.0501 - val_loss: 0.1518 - val_mse: 0.0332\n",
      "Epoch 79/200\n",
      "8/8 [==============================] - 0s 8ms/step - loss: 0.2103 - mse: 0.0670 - val_loss: 0.1622 - val_mse: 0.0397\n",
      "Epoch 80/200\n",
      "8/8 [==============================] - 0s 8ms/step - loss: 0.1891 - mse: 0.0570 - val_loss: 0.1499 - val_mse: 0.0341\n",
      "Epoch 81/200\n",
      "8/8 [==============================] - 0s 8ms/step - loss: 0.1522 - mse: 0.0362 - val_loss: 0.1432 - val_mse: 0.0337\n",
      "Epoch 82/200\n",
      "8/8 [==============================] - 0s 8ms/step - loss: 0.1432 - mse: 0.0367 - val_loss: 0.1500 - val_mse: 0.0330\n",
      "Epoch 83/200\n",
      "8/8 [==============================] - 0s 9ms/step - loss: 0.1627 - mse: 0.0423 - val_loss: 0.1501 - val_mse: 0.0343\n",
      "Epoch 84/200\n",
      "8/8 [==============================] - 0s 8ms/step - loss: 0.1461 - mse: 0.0337 - val_loss: 0.1480 - val_mse: 0.0345\n",
      "Epoch 85/200\n",
      "8/8 [==============================] - 0s 7ms/step - loss: 0.1988 - mse: 0.0693 - val_loss: 0.1541 - val_mse: 0.0339\n",
      "Epoch 86/200\n",
      "8/8 [==============================] - 0s 9ms/step - loss: 0.1480 - mse: 0.0408 - val_loss: 0.1566 - val_mse: 0.0339\n",
      "Epoch 87/200\n",
      "8/8 [==============================] - 0s 10ms/step - loss: 0.1945 - mse: 0.0626 - val_loss: 0.1578 - val_mse: 0.0357\n",
      "Epoch 88/200\n",
      "8/8 [==============================] - 0s 9ms/step - loss: 0.1426 - mse: 0.0319 - val_loss: 0.1650 - val_mse: 0.0385\n",
      "Epoch 89/200\n",
      "8/8 [==============================] - 0s 10ms/step - loss: 0.1731 - mse: 0.0579 - val_loss: 0.1747 - val_mse: 0.0444\n",
      "Epoch 90/200\n",
      "8/8 [==============================] - 0s 8ms/step - loss: 0.1475 - mse: 0.0362 - val_loss: 0.1894 - val_mse: 0.0507\n",
      "Epoch 91/200\n",
      "8/8 [==============================] - 0s 8ms/step - loss: 0.1637 - mse: 0.0420 - val_loss: 0.1450 - val_mse: 0.0324\n",
      "Epoch 92/200\n",
      "8/8 [==============================] - 0s 7ms/step - loss: 0.1859 - mse: 0.0593 - val_loss: 0.1405 - val_mse: 0.0304\n",
      "Epoch 93/200\n",
      "8/8 [==============================] - 0s 8ms/step - loss: 0.1495 - mse: 0.0382 - val_loss: 0.1474 - val_mse: 0.0310\n",
      "Epoch 94/200\n",
      "8/8 [==============================] - 0s 7ms/step - loss: 0.1551 - mse: 0.0371 - val_loss: 0.1578 - val_mse: 0.0402\n",
      "Epoch 95/200\n",
      "8/8 [==============================] - 0s 8ms/step - loss: 0.1549 - mse: 0.0368 - val_loss: 0.1635 - val_mse: 0.0422\n",
      "Epoch 96/200\n",
      "8/8 [==============================] - 0s 8ms/step - loss: 0.1860 - mse: 0.0563 - val_loss: 0.1417 - val_mse: 0.0281\n",
      "Epoch 97/200\n",
      "8/8 [==============================] - 0s 8ms/step - loss: 0.1966 - mse: 0.0549 - val_loss: 0.1424 - val_mse: 0.0294\n",
      "Epoch 98/200\n",
      "8/8 [==============================] - 0s 8ms/step - loss: 0.1447 - mse: 0.0349 - val_loss: 0.1619 - val_mse: 0.0367\n",
      "Epoch 99/200\n",
      "8/8 [==============================] - 0s 8ms/step - loss: 0.1890 - mse: 0.0543 - val_loss: 0.1550 - val_mse: 0.0358\n",
      "Epoch 100/200\n",
      "8/8 [==============================] - 0s 8ms/step - loss: 0.1412 - mse: 0.0372 - val_loss: 0.1348 - val_mse: 0.0276\n",
      "Epoch 101/200\n",
      "8/8 [==============================] - 0s 7ms/step - loss: 0.1696 - mse: 0.0430 - val_loss: 0.1428 - val_mse: 0.0309\n",
      "Epoch 102/200\n",
      "8/8 [==============================] - 0s 7ms/step - loss: 0.1682 - mse: 0.0404 - val_loss: 0.1478 - val_mse: 0.0305\n",
      "Epoch 103/200\n",
      "8/8 [==============================] - 0s 8ms/step - loss: 0.1406 - mse: 0.0336 - val_loss: 0.1480 - val_mse: 0.0297\n",
      "Epoch 104/200\n",
      "8/8 [==============================] - 0s 8ms/step - loss: 0.1513 - mse: 0.0399 - val_loss: 0.1467 - val_mse: 0.0289\n",
      "Epoch 105/200\n",
      "8/8 [==============================] - 0s 8ms/step - loss: 0.1341 - mse: 0.0306 - val_loss: 0.1397 - val_mse: 0.0270\n",
      "Epoch 106/200\n",
      "8/8 [==============================] - 0s 8ms/step - loss: 0.1771 - mse: 0.0485 - val_loss: 0.1500 - val_mse: 0.0325\n",
      "Epoch 107/200\n",
      "8/8 [==============================] - 0s 8ms/step - loss: 0.1685 - mse: 0.0433 - val_loss: 0.1408 - val_mse: 0.0279\n",
      "Epoch 108/200\n",
      "8/8 [==============================] - 0s 8ms/step - loss: 0.1584 - mse: 0.0395 - val_loss: 0.1457 - val_mse: 0.0292\n",
      "Epoch 109/200\n",
      "8/8 [==============================] - 0s 8ms/step - loss: 0.1496 - mse: 0.0404 - val_loss: 0.1363 - val_mse: 0.0262\n",
      "Epoch 110/200\n",
      "8/8 [==============================] - 0s 8ms/step - loss: 0.1365 - mse: 0.0290 - val_loss: 0.1343 - val_mse: 0.0277\n",
      "Epoch 111/200\n",
      "8/8 [==============================] - 0s 7ms/step - loss: 0.1378 - mse: 0.0298 - val_loss: 0.1323 - val_mse: 0.0251\n",
      "Epoch 112/200\n",
      "8/8 [==============================] - 0s 8ms/step - loss: 0.1650 - mse: 0.0369 - val_loss: 0.1342 - val_mse: 0.0268\n"
     ]
    },
    {
     "name": "stdout",
     "output_type": "stream",
     "text": [
      "Epoch 113/200\n",
      "8/8 [==============================] - 0s 7ms/step - loss: 0.1593 - mse: 0.0477 - val_loss: 0.1358 - val_mse: 0.0262\n",
      "Epoch 114/200\n",
      "8/8 [==============================] - 0s 8ms/step - loss: 0.1672 - mse: 0.0395 - val_loss: 0.1351 - val_mse: 0.0260\n",
      "Epoch 115/200\n",
      "8/8 [==============================] - 0s 8ms/step - loss: 0.1364 - mse: 0.0355 - val_loss: 0.1413 - val_mse: 0.0271\n",
      "Epoch 116/200\n",
      "8/8 [==============================] - 0s 8ms/step - loss: 0.1558 - mse: 0.0340 - val_loss: 0.1488 - val_mse: 0.0305\n",
      "Epoch 117/200\n",
      "8/8 [==============================] - 0s 8ms/step - loss: 0.1559 - mse: 0.0373 - val_loss: 0.1648 - val_mse: 0.0395\n",
      "Epoch 118/200\n",
      "8/8 [==============================] - 0s 8ms/step - loss: 0.1617 - mse: 0.0393 - val_loss: 0.1480 - val_mse: 0.0292\n",
      "Epoch 119/200\n",
      "8/8 [==============================] - 0s 8ms/step - loss: 0.1730 - mse: 0.0471 - val_loss: 0.1435 - val_mse: 0.0288\n",
      "Epoch 120/200\n",
      "8/8 [==============================] - 0s 8ms/step - loss: 0.1373 - mse: 0.0306 - val_loss: 0.1576 - val_mse: 0.0378\n",
      "Epoch 121/200\n",
      "8/8 [==============================] - 0s 8ms/step - loss: 0.1295 - mse: 0.0263 - val_loss: 0.1431 - val_mse: 0.0305\n",
      "Epoch 122/200\n",
      "8/8 [==============================] - 0s 8ms/step - loss: 0.1374 - mse: 0.0305 - val_loss: 0.1393 - val_mse: 0.0277\n",
      "Epoch 123/200\n",
      "8/8 [==============================] - 0s 8ms/step - loss: 0.1338 - mse: 0.0276 - val_loss: 0.1387 - val_mse: 0.0260\n",
      "Epoch 124/200\n",
      "8/8 [==============================] - 0s 8ms/step - loss: 0.1694 - mse: 0.0407 - val_loss: 0.1378 - val_mse: 0.0254\n",
      "Epoch 125/200\n",
      "8/8 [==============================] - 0s 8ms/step - loss: 0.1961 - mse: 0.0577 - val_loss: 0.1423 - val_mse: 0.0268\n",
      "Epoch 126/200\n",
      "8/8 [==============================] - 0s 8ms/step - loss: 0.1814 - mse: 0.0536 - val_loss: 0.1503 - val_mse: 0.0317\n",
      "Epoch 127/200\n",
      "8/8 [==============================] - 0s 8ms/step - loss: 0.1701 - mse: 0.0434 - val_loss: 0.1441 - val_mse: 0.0301\n",
      "Epoch 128/200\n",
      "8/8 [==============================] - 0s 8ms/step - loss: 0.1533 - mse: 0.0444 - val_loss: 0.1396 - val_mse: 0.0291\n",
      "Epoch 129/200\n",
      "8/8 [==============================] - 0s 8ms/step - loss: 0.1448 - mse: 0.0356 - val_loss: 0.1409 - val_mse: 0.0283\n",
      "Epoch 130/200\n",
      "8/8 [==============================] - 0s 7ms/step - loss: 0.1629 - mse: 0.0501 - val_loss: 0.1519 - val_mse: 0.0307\n",
      "Epoch 131/200\n",
      "8/8 [==============================] - 0s 8ms/step - loss: 0.1505 - mse: 0.0327 - val_loss: 0.1456 - val_mse: 0.0288\n",
      "Epoch 132/200\n",
      "8/8 [==============================] - 0s 8ms/step - loss: 0.1363 - mse: 0.0301 - val_loss: 0.1386 - val_mse: 0.0258\n",
      "Epoch 133/200\n",
      "8/8 [==============================] - 0s 9ms/step - loss: 0.1547 - mse: 0.0358 - val_loss: 0.1423 - val_mse: 0.0271\n",
      "Epoch 134/200\n",
      "8/8 [==============================] - 0s 8ms/step - loss: 0.1762 - mse: 0.0497 - val_loss: 0.1367 - val_mse: 0.0272\n",
      "Epoch 135/200\n",
      "8/8 [==============================] - 0s 8ms/step - loss: 0.1697 - mse: 0.0458 - val_loss: 0.1305 - val_mse: 0.0249\n",
      "Epoch 136/200\n",
      "8/8 [==============================] - 0s 8ms/step - loss: 0.1534 - mse: 0.0435 - val_loss: 0.1340 - val_mse: 0.0264\n",
      "Epoch 137/200\n",
      "8/8 [==============================] - 0s 7ms/step - loss: 0.1442 - mse: 0.0365 - val_loss: 0.1338 - val_mse: 0.0266\n",
      "Epoch 138/200\n",
      "8/8 [==============================] - 0s 8ms/step - loss: 0.1556 - mse: 0.0441 - val_loss: 0.1415 - val_mse: 0.0267\n",
      "Epoch 139/200\n",
      "8/8 [==============================] - 0s 8ms/step - loss: 0.1840 - mse: 0.0547 - val_loss: 0.1428 - val_mse: 0.0265\n",
      "Epoch 140/200\n",
      "8/8 [==============================] - 0s 8ms/step - loss: 0.1632 - mse: 0.0392 - val_loss: 0.1465 - val_mse: 0.0284\n",
      "Epoch 141/200\n",
      "8/8 [==============================] - 0s 7ms/step - loss: 0.1451 - mse: 0.0319 - val_loss: 0.1437 - val_mse: 0.0260\n",
      "Epoch 142/200\n",
      "8/8 [==============================] - 0s 7ms/step - loss: 0.1459 - mse: 0.0310 - val_loss: 0.1544 - val_mse: 0.0351\n",
      "Epoch 143/200\n",
      "8/8 [==============================] - 0s 7ms/step - loss: 0.1671 - mse: 0.0451 - val_loss: 0.1435 - val_mse: 0.0270\n",
      "Epoch 144/200\n",
      "8/8 [==============================] - 0s 7ms/step - loss: 0.1255 - mse: 0.0251 - val_loss: 0.1543 - val_mse: 0.0337\n",
      "Epoch 145/200\n",
      "8/8 [==============================] - 0s 8ms/step - loss: 0.1850 - mse: 0.0496 - val_loss: 0.1318 - val_mse: 0.0231\n",
      "Epoch 146/200\n",
      "8/8 [==============================] - 0s 8ms/step - loss: 0.1561 - mse: 0.0350 - val_loss: 0.1384 - val_mse: 0.0247\n",
      "Epoch 147/200\n",
      "8/8 [==============================] - 0s 8ms/step - loss: 0.1573 - mse: 0.0425 - val_loss: 0.1382 - val_mse: 0.0248\n",
      "Epoch 148/200\n",
      "8/8 [==============================] - 0s 7ms/step - loss: 0.1403 - mse: 0.0328 - val_loss: 0.1463 - val_mse: 0.0279\n",
      "Epoch 149/200\n",
      "8/8 [==============================] - 0s 7ms/step - loss: 0.1683 - mse: 0.0464 - val_loss: 0.1536 - val_mse: 0.0318\n",
      "Epoch 150/200\n",
      "8/8 [==============================] - 0s 8ms/step - loss: 0.1452 - mse: 0.0365 - val_loss: 0.1469 - val_mse: 0.0279\n",
      "Epoch 151/200\n",
      "8/8 [==============================] - 0s 8ms/step - loss: 0.1390 - mse: 0.0283 - val_loss: 0.1427 - val_mse: 0.0258\n",
      "Epoch 152/200\n",
      "8/8 [==============================] - 0s 8ms/step - loss: 0.1480 - mse: 0.0354 - val_loss: 0.1445 - val_mse: 0.0290\n",
      "Epoch 153/200\n",
      "8/8 [==============================] - 0s 7ms/step - loss: 0.1617 - mse: 0.0413 - val_loss: 0.1397 - val_mse: 0.0253\n",
      "Epoch 154/200\n",
      "8/8 [==============================] - 0s 8ms/step - loss: 0.1247 - mse: 0.0243 - val_loss: 0.1373 - val_mse: 0.0244\n",
      "Epoch 155/200\n",
      "8/8 [==============================] - 0s 8ms/step - loss: 0.1364 - mse: 0.0301 - val_loss: 0.1376 - val_mse: 0.0243\n",
      "Epoch 156/200\n",
      "8/8 [==============================] - 0s 8ms/step - loss: 0.1523 - mse: 0.0388 - val_loss: 0.1393 - val_mse: 0.0256\n",
      "Epoch 157/200\n",
      "8/8 [==============================] - 0s 8ms/step - loss: 0.1509 - mse: 0.0386 - val_loss: 0.1402 - val_mse: 0.0257\n",
      "Epoch 158/200\n",
      "8/8 [==============================] - 0s 8ms/step - loss: 0.1522 - mse: 0.0381 - val_loss: 0.1340 - val_mse: 0.0241\n",
      "Epoch 159/200\n",
      "8/8 [==============================] - ETA: 0s - loss: 0.1459 - mse: 0.030 - 0s 9ms/step - loss: 0.1374 - mse: 0.0302 - val_loss: 0.1457 - val_mse: 0.0289\n",
      "Epoch 160/200\n",
      "8/8 [==============================] - 0s 8ms/step - loss: 0.1586 - mse: 0.0411 - val_loss: 0.1379 - val_mse: 0.0252\n",
      "Epoch 161/200\n",
      "8/8 [==============================] - 0s 8ms/step - loss: 0.1516 - mse: 0.0378 - val_loss: 0.1451 - val_mse: 0.0266\n",
      "Epoch 162/200\n",
      "8/8 [==============================] - 0s 7ms/step - loss: 0.1499 - mse: 0.0370 - val_loss: 0.1465 - val_mse: 0.0275\n",
      "Epoch 163/200\n",
      "8/8 [==============================] - 0s 7ms/step - loss: 0.1843 - mse: 0.0601 - val_loss: 0.1519 - val_mse: 0.0296\n",
      "Epoch 164/200\n",
      "8/8 [==============================] - 0s 8ms/step - loss: 0.1247 - mse: 0.0284 - val_loss: 0.1550 - val_mse: 0.0304\n",
      "Epoch 165/200\n",
      "8/8 [==============================] - 0s 8ms/step - loss: 0.1502 - mse: 0.0348 - val_loss: 0.1552 - val_mse: 0.0307\n",
      "Epoch 166/200\n",
      "8/8 [==============================] - 0s 7ms/step - loss: 0.1485 - mse: 0.0363 - val_loss: 0.1422 - val_mse: 0.0281\n",
      "Epoch 167/200\n",
      "8/8 [==============================] - 0s 17ms/step - loss: 0.1651 - mse: 0.0431 - val_loss: 0.1353 - val_mse: 0.0257\n",
      "Epoch 168/200\n",
      "8/8 [==============================] - 0s 12ms/step - loss: 0.1482 - mse: 0.0298 - val_loss: 0.1475 - val_mse: 0.0290\n",
      "Epoch 169/200\n",
      "8/8 [==============================] - 0s 7ms/step - loss: 0.1410 - mse: 0.0319 - val_loss: 0.1455 - val_mse: 0.0282\n",
      "Epoch 170/200\n",
      "8/8 [==============================] - 0s 7ms/step - loss: 0.1395 - mse: 0.0295 - val_loss: 0.1431 - val_mse: 0.0271\n",
      "Epoch 171/200\n",
      "8/8 [==============================] - 0s 8ms/step - loss: 0.1347 - mse: 0.0260 - val_loss: 0.1429 - val_mse: 0.0265\n",
      "Epoch 172/200\n",
      "8/8 [==============================] - 0s 10ms/step - loss: 0.1287 - mse: 0.0270 - val_loss: 0.1496 - val_mse: 0.0278\n",
      "Epoch 173/200\n",
      "8/8 [==============================] - 0s 8ms/step - loss: 0.1470 - mse: 0.0341 - val_loss: 0.1514 - val_mse: 0.0283\n",
      "Epoch 174/200\n",
      "8/8 [==============================] - 0s 8ms/step - loss: 0.1323 - mse: 0.0261 - val_loss: 0.1500 - val_mse: 0.0276\n",
      "Epoch 175/200\n",
      "8/8 [==============================] - 0s 8ms/step - loss: 0.1302 - mse: 0.0287 - val_loss: 0.1430 - val_mse: 0.0258\n",
      "Epoch 176/200\n",
      "8/8 [==============================] - 0s 7ms/step - loss: 0.1504 - mse: 0.0308 - val_loss: 0.1310 - val_mse: 0.0244\n",
      "Epoch 177/200\n",
      "8/8 [==============================] - 0s 8ms/step - loss: 0.1503 - mse: 0.0312 - val_loss: 0.1313 - val_mse: 0.0236\n",
      "Epoch 178/200\n",
      "8/8 [==============================] - 0s 8ms/step - loss: 0.1314 - mse: 0.0330 - val_loss: 0.1524 - val_mse: 0.0305\n",
      "Epoch 179/200\n",
      "8/8 [==============================] - 0s 10ms/step - loss: 0.1853 - mse: 0.0504 - val_loss: 0.1608 - val_mse: 0.0350\n",
      "Epoch 180/200\n",
      "8/8 [==============================] - 0s 8ms/step - loss: 0.1669 - mse: 0.0477 - val_loss: 0.1560 - val_mse: 0.0315\n",
      "Epoch 181/200\n",
      "8/8 [==============================] - 0s 8ms/step - loss: 0.1375 - mse: 0.0322 - val_loss: 0.1497 - val_mse: 0.0283\n",
      "Epoch 182/200\n",
      "8/8 [==============================] - 0s 8ms/step - loss: 0.1034 - mse: 0.0169 - val_loss: 0.1431 - val_mse: 0.0268\n",
      "Epoch 183/200\n",
      "8/8 [==============================] - 0s 9ms/step - loss: 0.1507 - mse: 0.0327 - val_loss: 0.1477 - val_mse: 0.0282\n",
      "Epoch 184/200\n",
      "8/8 [==============================] - 0s 7ms/step - loss: 0.1146 - mse: 0.0218 - val_loss: 0.1612 - val_mse: 0.0356\n",
      "Epoch 185/200\n",
      "8/8 [==============================] - 0s 7ms/step - loss: 0.1636 - mse: 0.0401 - val_loss: 0.1510 - val_mse: 0.0290\n",
      "Epoch 186/200\n",
      "8/8 [==============================] - 0s 7ms/step - loss: 0.1518 - mse: 0.0415 - val_loss: 0.1430 - val_mse: 0.0264\n",
      "Epoch 187/200\n",
      "8/8 [==============================] - 0s 8ms/step - loss: 0.1416 - mse: 0.0361 - val_loss: 0.1422 - val_mse: 0.0260\n",
      "Epoch 188/200\n",
      "8/8 [==============================] - 0s 9ms/step - loss: 0.1326 - mse: 0.0285 - val_loss: 0.1415 - val_mse: 0.0264\n",
      "Epoch 189/200\n",
      "8/8 [==============================] - 0s 8ms/step - loss: 0.1659 - mse: 0.0446 - val_loss: 0.1408 - val_mse: 0.0252\n",
      "Epoch 190/200\n",
      "8/8 [==============================] - 0s 8ms/step - loss: 0.1316 - mse: 0.0313 - val_loss: 0.1447 - val_mse: 0.0263\n",
      "Epoch 191/200\n",
      "8/8 [==============================] - 0s 9ms/step - loss: 0.1585 - mse: 0.0379 - val_loss: 0.1486 - val_mse: 0.0284\n",
      "Epoch 192/200\n",
      "8/8 [==============================] - 0s 8ms/step - loss: 0.1418 - mse: 0.0317 - val_loss: 0.1443 - val_mse: 0.0266\n",
      "Epoch 193/200\n",
      "8/8 [==============================] - 0s 8ms/step - loss: 0.1252 - mse: 0.0262 - val_loss: 0.1431 - val_mse: 0.0261\n",
      "Epoch 194/200\n",
      "8/8 [==============================] - 0s 7ms/step - loss: 0.1343 - mse: 0.0281 - val_loss: 0.1481 - val_mse: 0.0286\n",
      "Epoch 195/200\n",
      "8/8 [==============================] - 0s 8ms/step - loss: 0.1538 - mse: 0.0330 - val_loss: 0.1488 - val_mse: 0.0276\n",
      "Epoch 196/200\n",
      "8/8 [==============================] - 0s 8ms/step - loss: 0.1458 - mse: 0.0334 - val_loss: 0.1536 - val_mse: 0.0294\n",
      "Epoch 197/200\n",
      "8/8 [==============================] - 0s 8ms/step - loss: 0.1483 - mse: 0.0346 - val_loss: 0.1558 - val_mse: 0.0306\n",
      "Epoch 198/200\n",
      "8/8 [==============================] - 0s 8ms/step - loss: 0.1379 - mse: 0.0284 - val_loss: 0.1450 - val_mse: 0.0265\n",
      "Epoch 199/200\n",
      "8/8 [==============================] - 0s 8ms/step - loss: 0.1016 - mse: 0.0174 - val_loss: 0.1483 - val_mse: 0.0276\n",
      "Epoch 200/200\n",
      "8/8 [==============================] - 0s 8ms/step - loss: 0.1257 - mse: 0.0288 - val_loss: 0.1468 - val_mse: 0.0269\n"
     ]
    }
   ],
   "source": [
    "EPOCHS=200\n",
    "\n",
    "model = crear_modeloFF()\n",
    "\n",
    "history=model.fit(x_train,y_train,epochs=EPOCHS,validation_data=(x_val,y_val),batch_size=look_back)"
   ]
  },
  {
   "cell_type": "markdown",
   "metadata": {},
   "source": [
    "# Visualizamos resultados"
   ]
  },
  {
   "cell_type": "code",
   "execution_count": 27,
   "metadata": {},
   "outputs": [],
   "source": [
    "def mape(actual, pred): \n",
    "    actual, pred = np.array(actual), np.array(pred)\n",
    "    return np.mean(np.abs((actual - pred) / actual)) * 100\n",
    "\n",
    "\n",
    "def compute_metrics_fn(y_valid_resc, y_hat_resc):\n",
    "    mae_ = mean_absolute_error(y_valid_resc, y_hat_resc)\n",
    "    mse_ = mean_squared_error(y_valid_resc, y_hat_resc)\n",
    "    rmse_ = mean_squared_error(y_valid_resc, y_hat_resc, squared = False)\n",
    "    cvrmse_ = rmse_/np.mean(y_valid_resc)*100\n",
    "    mape_ = mape(y_valid_resc, y_hat_resc)\n",
    "    \n",
    "    return mae_, mse_, rmse_, cvrmse_, mape_"
   ]
  },
  {
   "cell_type": "code",
   "execution_count": 28,
   "metadata": {},
   "outputs": [],
   "source": [
    "# hacemos las predicciones\n",
    "trainPredict = model.predict(x_train)\n",
    "testPredict = model.predict(x_val)\n",
    "\n",
    "# invertimos las predicciones\n",
    "trainPredict = scaler.inverse_transform(trainPredict)\n",
    "trainY = y_train.reshape(y_train.shape[0], 1)\n",
    "trainY_scalerInverse = scaler.inverse_transform(trainY)\n",
    "testPredict = scaler.inverse_transform(testPredict)\n",
    "testY = y_val.reshape(y_val.shape[0], 1)\n",
    "testY_scalerInverse = scaler.inverse_transform(testY)"
   ]
  },
  {
   "cell_type": "code",
   "execution_count": 29,
   "metadata": {},
   "outputs": [
    {
     "name": "stdout",
     "output_type": "stream",
     "text": [
      "Resultado del entrenamiento: 2362.40 MAE\n",
      "Resultado del entrenamiento: 9741623.00 MSE\n",
      "Resultado del entrenamiento: 3121.16 RMSE\n",
      "Resultado del entrenamiento: 11.75 CVRMSE\n",
      "Resultado del entrenamiento: 11.12 MAPE \n",
      "\n",
      "Resultado del test: 3332.98 MAE\n",
      "Resultado del test: 13869504.00 MSE\n",
      "Resultado del test: 3724.18 RMSE\n",
      "Resultado del test: 7.89 CVRMSE\n",
      "Resultado del test: 7.35 MAPE\n"
     ]
    }
   ],
   "source": [
    "# calculamos las metricas de error\n",
    "trainScore_MAE, trainScore_MSE, trainScore_RMSE, trainScore_CVRMSE, trainScore_MAPE  =  compute_metrics_fn(trainY_scalerInverse, trainPredict)\n",
    "print('Resultado del entrenamiento: %.2f MAE' % (trainScore_MAE))\n",
    "print('Resultado del entrenamiento: %.2f MSE' % (trainScore_MSE))\n",
    "print('Resultado del entrenamiento: %.2f RMSE' % (trainScore_RMSE))\n",
    "print('Resultado del entrenamiento: %.2f CVRMSE' % (trainScore_CVRMSE))\n",
    "print('Resultado del entrenamiento: %.2f MAPE \\n' % (trainScore_MAPE))\n",
    "\n",
    "testScore_MAE, testScore_MSE, testScore_RMSE, testScore_CVRMSE, testScore_MAPE  =  compute_metrics_fn(testY_scalerInverse, testPredict)\n",
    "print('Resultado del test: %.2f MAE' % (testScore_MAE))\n",
    "print('Resultado del test: %.2f MSE' % (testScore_MSE))\n",
    "print('Resultado del test: %.2f RMSE' % (testScore_RMSE))\n",
    "print('Resultado del test: %.2f CVRMSE' % (testScore_CVRMSE))\n",
    "print('Resultado del test: %.2f MAPE' % (testScore_MAPE))"
   ]
  },
  {
   "cell_type": "code",
   "execution_count": 30,
   "metadata": {},
   "outputs": [
    {
     "data": {
      "image/png": "[encoded data removed]",
      "text/plain": [
       "<Figure size 432x288 with 1 Axes>"
      ]
     },
     "metadata": {
      "needs_background": "light"
     },
     "output_type": "display_data"
    }
   ],
   "source": [
    "dataset = df_ine.values\n",
    "dataset = dataset.astype('float32')\n",
    "# predicciones del entrenamiento de cambio para plotear\n",
    "trainPredictPlot = np.empty_like(dataset)\n",
    "trainPredictPlot[:, :] = np.nan\n",
    "trainPredictPlot[look_back:len(trainPredict)+look_back, :] = trainPredict\n",
    "# predicciones del test de cambio para plotear\n",
    "testPredictPlot = np.empty_like(dataset)\n",
    "testPredictPlot[:, :] = np.nan\n",
    "testPredictPlot[len(trainPredict)+(look_back):len(dataset), :] = testPredict\n",
    "# plot baseline and predictions\n",
    "plt.plot(df_ine.values)\n",
    "# ploteamos linea base y predicciones\n",
    "plt.plot(trainPredictPlot,'r', linewidth = 2)\n",
    "plt.plot(testPredictPlot,'m', linewidth = 2)\n",
    "plt.legend( ('Datos', 'Prediccion datos entramiento', 'Prediccion sobre los datos de test'), loc = 'upper left')\n",
    "plt.grid(True)\n",
    "plt.title(\"Viajes totales\", fontsize = 15)\n",
    "plt.xlabel(\"Tiempo (dias)\", fontsize = 10)\n",
    "plt.ylabel(\"viajes (en miles)\", fontsize = 10)\n",
    "plt.show()"
   ]
  },
  {
   "cell_type": "code",
   "execution_count": 31,
   "metadata": {},
   "outputs": [
    {
     "data": {
      "image/png": "[encoded data removed]",
      "text/plain": [
       "<Figure size 432x288 with 1 Axes>"
      ]
     },
     "metadata": {
      "needs_background": "light"
     },
     "output_type": "display_data"
    }
   ],
   "source": [
    "results=model.predict(x_val)\n",
    "\n",
    "plt.scatter(range(len(y_val)),y_val,c='g')\n",
    "plt.scatter(range(len(results)),results,c='r')\n",
    "plt.title('validate')\n",
    "plt.xlabel(\"Tiempo (dias)\", fontsize = 10)\n",
    "plt.ylabel(\"viajes (en miles)\", fontsize = 10)\n",
    "plt.show()"
   ]
  },
  {
   "cell_type": "code",
   "execution_count": 32,
   "metadata": {},
   "outputs": [
    {
     "data": {
      "image/png": "[encoded data removed]",
      "text/plain": [
       "<Figure size 432x288 with 1 Axes>"
      ]
     },
     "metadata": {
      "needs_background": "light"
     },
     "output_type": "display_data"
    }
   ],
   "source": [
    "plt.plot(history.history['loss'])\n",
    "plt.plot(history.history['val_loss'])\n",
    "plt.title('loss')\n",
    "plt.legend( ('training loss', 'validate loss'), loc = 'upper right')\n",
    "plt.show()"
   ]
  },
  {
   "cell_type": "markdown",
   "metadata": {},
   "source": [
    "# Prediccion a futuro"
   ]
  },
  {
   "cell_type": "code",
   "execution_count": 33,
   "metadata": {},
   "outputs": [
    {
     "data": {
      "text/html": [
       "<div>\n",
       "<style scoped>\n",
       "    .dataframe tbody tr th:only-of-type {\n",
       "        vertical-align: middle;\n",
       "    }\n",
       "\n",
       "    .dataframe tbody tr th {\n",
       "        vertical-align: top;\n",
       "    }\n",
       "\n",
       "    .dataframe thead th {\n",
       "        text-align: right;\n",
       "    }\n",
       "</style>\n",
       "<table border=\"1\" class=\"dataframe\">\n",
       "  <thead>\n",
       "    <tr style=\"text-align: right;\">\n",
       "      <th></th>\n",
       "      <th>Viajes</th>\n",
       "    </tr>\n",
       "  </thead>\n",
       "  <tbody>\n",
       "    <tr>\n",
       "      <th>2020-06-07</th>\n",
       "      <td>22</td>\n",
       "    </tr>\n",
       "    <tr>\n",
       "      <th>2020-06-08</th>\n",
       "      <td>27</td>\n",
       "    </tr>\n",
       "    <tr>\n",
       "      <th>2020-06-09</th>\n",
       "      <td>20</td>\n",
       "    </tr>\n",
       "    <tr>\n",
       "      <th>2020-06-10</th>\n",
       "      <td>13</td>\n",
       "    </tr>\n",
       "    <tr>\n",
       "      <th>2020-06-11</th>\n",
       "      <td>20</td>\n",
       "    </tr>\n",
       "    <tr>\n",
       "      <th>2020-06-12</th>\n",
       "      <td>26</td>\n",
       "    </tr>\n",
       "    <tr>\n",
       "      <th>2020-06-13</th>\n",
       "      <td>34</td>\n",
       "    </tr>\n",
       "    <tr>\n",
       "      <th>2020-06-14</th>\n",
       "      <td>16</td>\n",
       "    </tr>\n",
       "    <tr>\n",
       "      <th>2020-06-15</th>\n",
       "      <td>6</td>\n",
       "    </tr>\n",
       "    <tr>\n",
       "      <th>2020-06-16</th>\n",
       "      <td>25</td>\n",
       "    </tr>\n",
       "    <tr>\n",
       "      <th>2020-06-17</th>\n",
       "      <td>30</td>\n",
       "    </tr>\n",
       "    <tr>\n",
       "      <th>2020-06-18</th>\n",
       "      <td>32</td>\n",
       "    </tr>\n",
       "    <tr>\n",
       "      <th>2020-06-19</th>\n",
       "      <td>28</td>\n",
       "    </tr>\n",
       "    <tr>\n",
       "      <th>2020-06-20</th>\n",
       "      <td>17</td>\n",
       "    </tr>\n",
       "  </tbody>\n",
       "</table>\n",
       "</div>"
      ],
      "text/plain": [
       "            Viajes\n",
       "2020-06-07      22\n",
       "2020-06-08      27\n",
       "2020-06-09      20\n",
       "2020-06-10      13\n",
       "2020-06-11      20\n",
       "2020-06-12      26\n",
       "2020-06-13      34\n",
       "2020-06-14      16\n",
       "2020-06-15       6\n",
       "2020-06-16      25\n",
       "2020-06-17      30\n",
       "2020-06-18      32\n",
       "2020-06-19      28\n",
       "2020-06-20      17"
      ]
     },
     "execution_count": 33,
     "metadata": {},
     "output_type": "execute_result"
    }
   ],
   "source": [
    "# usaremos los 14 ultimos dias del confinamiento en junio para predecir como habrian sido los dias del 21 al 27 en caso de que\n",
    "# el confinamiento se hubiese alargado por una semana mas\n",
    "\n",
    "ultimosDias_twt = df_twt['2020-6-7':'2020-6-20']\n",
    "ultimosDias_ine = df_ine['2020-6-7':'2020-6-20']\n",
    "ultimosDias_twt"
   ]
  },
  {
   "cell_type": "markdown",
   "metadata": {},
   "source": [
    "# Preparamos los datos para el test"
   ]
  },
  {
   "cell_type": "code",
   "execution_count": 34,
   "metadata": {},
   "outputs": [
    {
     "data": {
      "text/html": [
       "<div>\n",
       "<style scoped>\n",
       "    .dataframe tbody tr th:only-of-type {\n",
       "        vertical-align: middle;\n",
       "    }\n",
       "\n",
       "    .dataframe tbody tr th {\n",
       "        vertical-align: top;\n",
       "    }\n",
       "\n",
       "    .dataframe thead th {\n",
       "        text-align: right;\n",
       "    }\n",
       "</style>\n",
       "<table border=\"1\" class=\"dataframe\">\n",
       "  <thead>\n",
       "    <tr style=\"text-align: right;\">\n",
       "      <th></th>\n",
       "      <th>var1(t-7)</th>\n",
       "      <th>var2(t-7)</th>\n",
       "      <th>var1(t-6)</th>\n",
       "      <th>var2(t-6)</th>\n",
       "      <th>var1(t-5)</th>\n",
       "      <th>var2(t-5)</th>\n",
       "      <th>var1(t-4)</th>\n",
       "      <th>var2(t-4)</th>\n",
       "      <th>var1(t-3)</th>\n",
       "      <th>var2(t-3)</th>\n",
       "      <th>var1(t-2)</th>\n",
       "      <th>var2(t-2)</th>\n",
       "      <th>var1(t-1)</th>\n",
       "      <th>var2(t-1)</th>\n",
       "    </tr>\n",
       "  </thead>\n",
       "  <tbody>\n",
       "    <tr>\n",
       "      <th>7</th>\n",
       "      <td>0.142857</td>\n",
       "      <td>-1.000000</td>\n",
       "      <td>0.500000</td>\n",
       "      <td>-0.001815</td>\n",
       "      <td>0.000000</td>\n",
       "      <td>-0.115321</td>\n",
       "      <td>-0.500000</td>\n",
       "      <td>0.772121</td>\n",
       "      <td>0.000000</td>\n",
       "      <td>0.778593</td>\n",
       "      <td>0.428571</td>\n",
       "      <td>0.672350</td>\n",
       "      <td>1.000000</td>\n",
       "      <td>-0.027468</td>\n",
       "    </tr>\n",
       "    <tr>\n",
       "      <th>8</th>\n",
       "      <td>0.500000</td>\n",
       "      <td>-0.001815</td>\n",
       "      <td>0.000000</td>\n",
       "      <td>-0.115321</td>\n",
       "      <td>-0.500000</td>\n",
       "      <td>0.772121</td>\n",
       "      <td>0.000000</td>\n",
       "      <td>0.778593</td>\n",
       "      <td>0.428571</td>\n",
       "      <td>0.672350</td>\n",
       "      <td>1.000000</td>\n",
       "      <td>-0.027468</td>\n",
       "      <td>-0.285714</td>\n",
       "      <td>-0.560028</td>\n",
       "    </tr>\n",
       "    <tr>\n",
       "      <th>9</th>\n",
       "      <td>0.000000</td>\n",
       "      <td>-0.115321</td>\n",
       "      <td>-0.500000</td>\n",
       "      <td>0.772121</td>\n",
       "      <td>0.000000</td>\n",
       "      <td>0.778593</td>\n",
       "      <td>0.428571</td>\n",
       "      <td>0.672350</td>\n",
       "      <td>1.000000</td>\n",
       "      <td>-0.027468</td>\n",
       "      <td>-0.285714</td>\n",
       "      <td>-0.560028</td>\n",
       "      <td>-1.000000</td>\n",
       "      <td>0.595154</td>\n",
       "    </tr>\n",
       "    <tr>\n",
       "      <th>10</th>\n",
       "      <td>-0.500000</td>\n",
       "      <td>0.772121</td>\n",
       "      <td>0.000000</td>\n",
       "      <td>0.778593</td>\n",
       "      <td>0.428571</td>\n",
       "      <td>0.672350</td>\n",
       "      <td>1.000000</td>\n",
       "      <td>-0.027468</td>\n",
       "      <td>-0.285714</td>\n",
       "      <td>-0.560028</td>\n",
       "      <td>-1.000000</td>\n",
       "      <td>0.595154</td>\n",
       "      <td>0.357143</td>\n",
       "      <td>0.786960</td>\n",
       "    </tr>\n",
       "    <tr>\n",
       "      <th>11</th>\n",
       "      <td>0.000000</td>\n",
       "      <td>0.778593</td>\n",
       "      <td>0.428571</td>\n",
       "      <td>0.672350</td>\n",
       "      <td>1.000000</td>\n",
       "      <td>-0.027468</td>\n",
       "      <td>-0.285714</td>\n",
       "      <td>-0.560028</td>\n",
       "      <td>-1.000000</td>\n",
       "      <td>0.595154</td>\n",
       "      <td>0.357143</td>\n",
       "      <td>0.786960</td>\n",
       "      <td>0.714286</td>\n",
       "      <td>0.830768</td>\n",
       "    </tr>\n",
       "    <tr>\n",
       "      <th>12</th>\n",
       "      <td>0.428571</td>\n",
       "      <td>0.672350</td>\n",
       "      <td>1.000000</td>\n",
       "      <td>-0.027468</td>\n",
       "      <td>-0.285714</td>\n",
       "      <td>-0.560028</td>\n",
       "      <td>-1.000000</td>\n",
       "      <td>0.595154</td>\n",
       "      <td>0.357143</td>\n",
       "      <td>0.786960</td>\n",
       "      <td>0.714286</td>\n",
       "      <td>0.830768</td>\n",
       "      <td>0.857143</td>\n",
       "      <td>0.839924</td>\n",
       "    </tr>\n",
       "    <tr>\n",
       "      <th>13</th>\n",
       "      <td>1.000000</td>\n",
       "      <td>-0.027468</td>\n",
       "      <td>-0.285714</td>\n",
       "      <td>-0.560028</td>\n",
       "      <td>-1.000000</td>\n",
       "      <td>0.595154</td>\n",
       "      <td>0.357143</td>\n",
       "      <td>0.786960</td>\n",
       "      <td>0.714286</td>\n",
       "      <td>0.830768</td>\n",
       "      <td>0.857143</td>\n",
       "      <td>0.839924</td>\n",
       "      <td>0.571429</td>\n",
       "      <td>1.000000</td>\n",
       "    </tr>\n",
       "  </tbody>\n",
       "</table>\n",
       "</div>"
      ],
      "text/plain": [
       "    var1(t-7)  var2(t-7)  var1(t-6)  var2(t-6)  var1(t-5)  var2(t-5)  \\\n",
       "7    0.142857  -1.000000   0.500000  -0.001815   0.000000  -0.115321   \n",
       "8    0.500000  -0.001815   0.000000  -0.115321  -0.500000   0.772121   \n",
       "9    0.000000  -0.115321  -0.500000   0.772121   0.000000   0.778593   \n",
       "10  -0.500000   0.772121   0.000000   0.778593   0.428571   0.672350   \n",
       "11   0.000000   0.778593   0.428571   0.672350   1.000000  -0.027468   \n",
       "12   0.428571   0.672350   1.000000  -0.027468  -0.285714  -0.560028   \n",
       "13   1.000000  -0.027468  -0.285714  -0.560028  -1.000000   0.595154   \n",
       "\n",
       "    var1(t-4)  var2(t-4)  var1(t-3)  var2(t-3)  var1(t-2)  var2(t-2)  \\\n",
       "7   -0.500000   0.772121   0.000000   0.778593   0.428571   0.672350   \n",
       "8    0.000000   0.778593   0.428571   0.672350   1.000000  -0.027468   \n",
       "9    0.428571   0.672350   1.000000  -0.027468  -0.285714  -0.560028   \n",
       "10   1.000000  -0.027468  -0.285714  -0.560028  -1.000000   0.595154   \n",
       "11  -0.285714  -0.560028  -1.000000   0.595154   0.357143   0.786960   \n",
       "12  -1.000000   0.595154   0.357143   0.786960   0.714286   0.830768   \n",
       "13   0.357143   0.786960   0.714286   0.830768   0.857143   0.839924   \n",
       "\n",
       "    var1(t-1)  var2(t-1)  \n",
       "7    1.000000  -0.027468  \n",
       "8   -0.285714  -0.560028  \n",
       "9   -1.000000   0.595154  \n",
       "10   0.357143   0.786960  \n",
       "11   0.714286   0.830768  \n",
       "12   0.857143   0.839924  \n",
       "13   0.571429   1.000000  "
      ]
     },
     "execution_count": 34,
     "metadata": {},
     "output_type": "execute_result"
    }
   ],
   "source": [
    "# cargamos el dataframe en la variable values\n",
    "values_twt = ultimosDias_twt.values\n",
    "values_ine = ultimosDias_ine.values\n",
    "\n",
    "# convertimos los enteros en floats\n",
    "values_twt = values_twt.astype('float32')\n",
    "values_ine = values_ine.astype('float32')\n",
    "\n",
    "# normalizamos los datos a escala de entre -1 y 1\n",
    "values_twt =values_twt.reshape(-1, 1)\n",
    "scaled_twt = scaler.fit_transform(values_twt)\n",
    "values_ine =values_ine.reshape(-1, 1) # esto lo hacemos porque tenemos 1 sola dimension\n",
    "scaled_ine = scaler.fit_transform(values_ine)\n",
    "\n",
    "# usamos la funcion definida previamente\n",
    "reframed_twt = series_to_supervised(scaled_twt, look_back, 1)\n",
    "reframed_ine = series_to_supervised(scaled_ine, look_back, 1)\n",
    "\n",
    "# eliminamos la ultima columna pues es parte de lo que queremos hayar\n",
    "reframed_twt.drop(reframed_twt.columns[[7]], inplace=True, axis=1)\n",
    "reframed_ine.drop(reframed_ine.columns[[7]], inplace=True, axis=1)\n",
    "\n",
    "#unimos los dataframes\n",
    "reframed_ine.columns = ['var2(t-7)', 'var2(t-6)', 'var2(t-5)', 'var2(t-4)', 'var2(t-3)', 'var2(t-2)', 'var2(t-1)']\n",
    "reframed = pd.concat([reframed_twt.iloc[:, 0], reframed_ine.iloc[:, 0]], axis=1)\n",
    "\n",
    "for i in range(6):\n",
    "    reframed = pd.concat([reframed, reframed_twt.iloc[:, i+1]], axis=1)\n",
    "    reframed = pd.concat([reframed, reframed_ine.iloc[:, i+1]], axis=1)\n",
    "\n",
    "#mostramos el set de entrenamiento\n",
    "reframed.head(7)"
   ]
  },
  {
   "cell_type": "code",
   "execution_count": 35,
   "metadata": {},
   "outputs": [
    {
     "name": "stdout",
     "output_type": "stream",
     "text": [
      "(1, 1, 14)\n"
     ]
    },
    {
     "data": {
      "text/plain": [
       "array([[[ 1.        , -0.02746844, -0.28571427, -0.5600283 ,\n",
       "         -1.        ,  0.59515357,  0.35714293,  0.78696036,\n",
       "          0.71428585,  0.83076787,  0.8571429 ,  0.8399241 ,\n",
       "          0.57142854,  1.0000002 ]]], dtype=float32)"
      ]
     },
     "execution_count": 35,
     "metadata": {},
     "output_type": "execute_result"
    }
   ],
   "source": [
    "values = reframed.values\n",
    "\n",
    "#tomamos los valores para realizar el test\n",
    "x_test = values[6:, :]\n",
    "\n",
    "# reshape input to be 3D [samples, timesteps, features] - preguntar\n",
    "x_test = x_test.reshape((x_test.shape[0], 1, x_test.shape[1]))\n",
    "print(x_test.shape)\n",
    "x_test"
   ]
  },
  {
   "cell_type": "code",
   "execution_count": 36,
   "metadata": {},
   "outputs": [],
   "source": [
    "#definimos la funcion para realizar el desplazamiento que se hara en el array cada prediccion pues para hacer\n",
    "#la siguiente prediccion eliminamos el dia mas antiguo, desplazamos un lugar el resto de dias y añadimos el ultimo dia que\n",
    "#se ha predecido, esto es por que para predecir un dia se usan los 7 dias previos\n",
    "\n",
    "def agregarNuevoValor(x_test,nuevoValor):\n",
    "    for i in range(x_test.shape[2]-1):\n",
    "        x_test[0][0][i] = x_test[0][0][i+1]\n",
    "    x_test[0][0][x_test.shape[2]-1]=nuevoValor\n",
    "    return x_test"
   ]
  },
  {
   "cell_type": "markdown",
   "metadata": {},
   "source": [
    "# Predicciones para la proxima semana"
   ]
  },
  {
   "cell_type": "code",
   "execution_count": 37,
   "metadata": {},
   "outputs": [
    {
     "name": "stdout",
     "output_type": "stream",
     "text": [
      "[[[ 1.         -0.02746844 -0.28571427 -0.5600283  -1.\n",
      "    0.59515357  0.35714293  0.78696036  0.71428585  0.83076787\n",
      "    0.8571429   0.8399241   0.57142854  1.0000002 ]]]\n",
      "[[[-0.02746844 -0.28571427 -0.5600283  -1.          0.59515357\n",
      "    0.35714293  0.78696036  0.71428585  0.83076787  0.8571429\n",
      "    0.8399241   0.57142854  1.0000002   0.47523203]]]\n",
      "[[[-0.28571427 -0.5600283  -1.          0.59515357  0.35714293\n",
      "    0.78696036  0.71428585  0.83076787  0.8571429   0.8399241\n",
      "    0.57142854  1.0000002   0.47523203  0.25263587]]]\n",
      "[[[-0.5600283  -1.          0.59515357  0.35714293  0.78696036\n",
      "    0.71428585  0.83076787  0.8571429   0.8399241   0.57142854\n",
      "    1.0000002   0.47523203  0.25263587 -0.14571176]]]\n",
      "[[[-1.          0.59515357  0.35714293  0.78696036  0.71428585\n",
      "    0.83076787  0.8571429   0.8399241   0.57142854  1.0000002\n",
      "    0.47523203  0.25263587 -0.14571176 -0.58543956]]]\n",
      "[[[ 0.59515357  0.35714293  0.78696036  0.71428585  0.83076787\n",
      "    0.8571429   0.8399241   0.57142854  1.0000002   0.47523203\n",
      "    0.25263587 -0.14571176 -0.58543956  0.5655647 ]]]\n",
      "[[[ 0.35714293  0.78696036  0.71428585  0.83076787  0.8571429\n",
      "    0.8399241   0.57142854  1.0000002   0.47523203  0.25263587\n",
      "   -0.14571176 -0.58543956  0.5655647   0.7125673 ]]]\n"
     ]
    }
   ],
   "source": [
    "results=[]\n",
    "for i in range(7):\n",
    "    parcial=model.predict(x_test)\n",
    "    results.append(parcial[0])\n",
    "    print(x_test)\n",
    "    x_test=agregarNuevoValor(x_test,parcial[0])"
   ]
  },
  {
   "cell_type": "markdown",
   "metadata": {},
   "source": [
    "# Re-Convertimos los resultados"
   ]
  },
  {
   "cell_type": "code",
   "execution_count": 38,
   "metadata": {},
   "outputs": [
    {
     "name": "stdout",
     "output_type": "stream",
     "text": [
      "[array([0.47523203], dtype=float32), array([0.25263587], dtype=float32), array([-0.14571176], dtype=float32), array([-0.58543956], dtype=float32), array([0.5655647], dtype=float32), array([0.7125673], dtype=float32), array([0.8080414], dtype=float32)]\n"
     ]
    },
    {
     "data": {
      "text/plain": [
       "array([[49179.713695  ],\n",
       "       [46359.64275875],\n",
       "       [41312.97648207],\n",
       "       [35742.06485519],\n",
       "       [50324.13815916],\n",
       "       [52186.51462325],\n",
       "       [53396.07557765]])"
      ]
     },
     "execution_count": 38,
     "metadata": {},
     "output_type": "execute_result"
    }
   ],
   "source": [
    "adimen = [x for x in results]    \n",
    "print(adimen)\n",
    "inverted = scaler.inverse_transform(adimen)\n",
    "inverted"
   ]
  },
  {
   "cell_type": "markdown",
   "metadata": {},
   "source": [
    "# Visualizamos el pronostico"
   ]
  },
  {
   "cell_type": "code",
   "execution_count": 39,
   "metadata": {},
   "outputs": [
    {
     "data": {
      "text/plain": [
       "<AxesSubplot:>"
      ]
     },
     "execution_count": 39,
     "metadata": {},
     "output_type": "execute_result"
    },
    {
     "data": {
      "image/png": "[encoded data removed]",
      "text/plain": [
       "<Figure size 432x288 with 1 Axes>"
      ]
     },
     "metadata": {
      "needs_background": "light"
     },
     "output_type": "display_data"
    }
   ],
   "source": [
    "prediccion = pd.DataFrame(inverted)\n",
    "prediccion.columns = ['pronostico']\n",
    "prediccion.plot()"
   ]
  },
  {
   "cell_type": "markdown",
   "metadata": {},
   "source": [
    "# Prediccion con datos actuales"
   ]
  },
  {
   "cell_type": "code",
   "execution_count": 40,
   "metadata": {
    "scrolled": true
   },
   "outputs": [
    {
     "data": {
      "text/html": [
       "<div>\n",
       "<style scoped>\n",
       "    .dataframe tbody tr th:only-of-type {\n",
       "        vertical-align: middle;\n",
       "    }\n",
       "\n",
       "    .dataframe tbody tr th {\n",
       "        vertical-align: top;\n",
       "    }\n",
       "\n",
       "    .dataframe thead th {\n",
       "        text-align: right;\n",
       "    }\n",
       "</style>\n",
       "<table border=\"1\" class=\"dataframe\">\n",
       "  <thead>\n",
       "    <tr style=\"text-align: right;\">\n",
       "      <th></th>\n",
       "      <th>Viajes</th>\n",
       "    </tr>\n",
       "  </thead>\n",
       "  <tbody>\n",
       "    <tr>\n",
       "      <th>2020-05-11</th>\n",
       "      <td>18</td>\n",
       "    </tr>\n",
       "    <tr>\n",
       "      <th>2020-05-12</th>\n",
       "      <td>10</td>\n",
       "    </tr>\n",
       "    <tr>\n",
       "      <th>2020-05-13</th>\n",
       "      <td>26</td>\n",
       "    </tr>\n",
       "    <tr>\n",
       "      <th>2020-05-14</th>\n",
       "      <td>16</td>\n",
       "    </tr>\n",
       "    <tr>\n",
       "      <th>2020-05-15</th>\n",
       "      <td>15</td>\n",
       "    </tr>\n",
       "    <tr>\n",
       "      <th>2020-05-16</th>\n",
       "      <td>11</td>\n",
       "    </tr>\n",
       "    <tr>\n",
       "      <th>2020-05-17</th>\n",
       "      <td>14</td>\n",
       "    </tr>\n",
       "    <tr>\n",
       "      <th>2020-05-18</th>\n",
       "      <td>23</td>\n",
       "    </tr>\n",
       "    <tr>\n",
       "      <th>2020-05-19</th>\n",
       "      <td>18</td>\n",
       "    </tr>\n",
       "    <tr>\n",
       "      <th>2020-05-20</th>\n",
       "      <td>24</td>\n",
       "    </tr>\n",
       "    <tr>\n",
       "      <th>2020-05-21</th>\n",
       "      <td>30</td>\n",
       "    </tr>\n",
       "    <tr>\n",
       "      <th>2020-05-22</th>\n",
       "      <td>31</td>\n",
       "    </tr>\n",
       "    <tr>\n",
       "      <th>2020-05-23</th>\n",
       "      <td>29</td>\n",
       "    </tr>\n",
       "    <tr>\n",
       "      <th>2020-05-24</th>\n",
       "      <td>15</td>\n",
       "    </tr>\n",
       "  </tbody>\n",
       "</table>\n",
       "</div>"
      ],
      "text/plain": [
       "            Viajes\n",
       "2020-05-11      18\n",
       "2020-05-12      10\n",
       "2020-05-13      26\n",
       "2020-05-14      16\n",
       "2020-05-15      15\n",
       "2020-05-16      11\n",
       "2020-05-17      14\n",
       "2020-05-18      23\n",
       "2020-05-19      18\n",
       "2020-05-20      24\n",
       "2020-05-21      30\n",
       "2020-05-22      31\n",
       "2020-05-23      29\n",
       "2020-05-24      15"
      ]
     },
     "execution_count": 40,
     "metadata": {},
     "output_type": "execute_result"
    }
   ],
   "source": [
    "# usaremos 14 dias que poseemos para predecir los 7 dias siguientes tras esto compararemos los resultados con los que\n",
    "# poseemos para ver el grado de error\n",
    "\n",
    "Dias_twt = df_twt['2020-5-11':'2020-5-24']\n",
    "Dias_ine = df_ine['2020-5-11':'2020-5-24']\n",
    "Dias_twt"
   ]
  },
  {
   "cell_type": "markdown",
   "metadata": {},
   "source": [
    "# Preparamos los datos para el test"
   ]
  },
  {
   "cell_type": "code",
   "execution_count": 41,
   "metadata": {},
   "outputs": [
    {
     "data": {
      "text/html": [
       "<div>\n",
       "<style scoped>\n",
       "    .dataframe tbody tr th:only-of-type {\n",
       "        vertical-align: middle;\n",
       "    }\n",
       "\n",
       "    .dataframe tbody tr th {\n",
       "        vertical-align: top;\n",
       "    }\n",
       "\n",
       "    .dataframe thead th {\n",
       "        text-align: right;\n",
       "    }\n",
       "</style>\n",
       "<table border=\"1\" class=\"dataframe\">\n",
       "  <thead>\n",
       "    <tr style=\"text-align: right;\">\n",
       "      <th></th>\n",
       "      <th>var1(t-7)</th>\n",
       "      <th>var2(t-7)</th>\n",
       "      <th>var1(t-6)</th>\n",
       "      <th>var2(t-6)</th>\n",
       "      <th>var1(t-5)</th>\n",
       "      <th>var2(t-5)</th>\n",
       "      <th>var1(t-4)</th>\n",
       "      <th>var2(t-4)</th>\n",
       "      <th>var1(t-3)</th>\n",
       "      <th>var2(t-3)</th>\n",
       "      <th>var1(t-2)</th>\n",
       "      <th>var2(t-2)</th>\n",
       "      <th>var1(t-1)</th>\n",
       "      <th>var2(t-1)</th>\n",
       "    </tr>\n",
       "  </thead>\n",
       "  <tbody>\n",
       "    <tr>\n",
       "      <th>7</th>\n",
       "      <td>-0.238095</td>\n",
       "      <td>0.164794</td>\n",
       "      <td>-1.000000</td>\n",
       "      <td>0.460416</td>\n",
       "      <td>0.523810</td>\n",
       "      <td>0.467377</td>\n",
       "      <td>-0.428571</td>\n",
       "      <td>0.372442</td>\n",
       "      <td>-0.523809</td>\n",
       "      <td>0.350050</td>\n",
       "      <td>-0.904762</td>\n",
       "      <td>-0.706810</td>\n",
       "      <td>-0.619048</td>\n",
       "      <td>-1.000000</td>\n",
       "    </tr>\n",
       "    <tr>\n",
       "      <th>8</th>\n",
       "      <td>-1.000000</td>\n",
       "      <td>0.460416</td>\n",
       "      <td>0.523810</td>\n",
       "      <td>0.467377</td>\n",
       "      <td>-0.428571</td>\n",
       "      <td>0.372442</td>\n",
       "      <td>-0.523809</td>\n",
       "      <td>0.350050</td>\n",
       "      <td>-0.904762</td>\n",
       "      <td>-0.706810</td>\n",
       "      <td>-0.619048</td>\n",
       "      <td>-1.000000</td>\n",
       "      <td>0.238095</td>\n",
       "      <td>0.680728</td>\n",
       "    </tr>\n",
       "    <tr>\n",
       "      <th>9</th>\n",
       "      <td>0.523810</td>\n",
       "      <td>0.467377</td>\n",
       "      <td>-0.428571</td>\n",
       "      <td>0.372442</td>\n",
       "      <td>-0.523809</td>\n",
       "      <td>0.350050</td>\n",
       "      <td>-0.904762</td>\n",
       "      <td>-0.706810</td>\n",
       "      <td>-0.619048</td>\n",
       "      <td>-1.000000</td>\n",
       "      <td>0.238095</td>\n",
       "      <td>0.680728</td>\n",
       "      <td>-0.238095</td>\n",
       "      <td>0.954210</td>\n",
       "    </tr>\n",
       "    <tr>\n",
       "      <th>10</th>\n",
       "      <td>-0.428571</td>\n",
       "      <td>0.372442</td>\n",
       "      <td>-0.523809</td>\n",
       "      <td>0.350050</td>\n",
       "      <td>-0.904762</td>\n",
       "      <td>-0.706810</td>\n",
       "      <td>-0.619048</td>\n",
       "      <td>-1.000000</td>\n",
       "      <td>0.238095</td>\n",
       "      <td>0.680728</td>\n",
       "      <td>-0.238095</td>\n",
       "      <td>0.954210</td>\n",
       "      <td>0.333333</td>\n",
       "      <td>0.967545</td>\n",
       "    </tr>\n",
       "    <tr>\n",
       "      <th>11</th>\n",
       "      <td>-0.523809</td>\n",
       "      <td>0.350050</td>\n",
       "      <td>-0.904762</td>\n",
       "      <td>-0.706810</td>\n",
       "      <td>-0.619048</td>\n",
       "      <td>-1.000000</td>\n",
       "      <td>0.238095</td>\n",
       "      <td>0.680728</td>\n",
       "      <td>-0.238095</td>\n",
       "      <td>0.954210</td>\n",
       "      <td>0.333333</td>\n",
       "      <td>0.967545</td>\n",
       "      <td>0.904762</td>\n",
       "      <td>0.967880</td>\n",
       "    </tr>\n",
       "    <tr>\n",
       "      <th>12</th>\n",
       "      <td>-0.904762</td>\n",
       "      <td>-0.706810</td>\n",
       "      <td>-0.619048</td>\n",
       "      <td>-1.000000</td>\n",
       "      <td>0.238095</td>\n",
       "      <td>0.680728</td>\n",
       "      <td>-0.238095</td>\n",
       "      <td>0.954210</td>\n",
       "      <td>0.333333</td>\n",
       "      <td>0.967545</td>\n",
       "      <td>0.904762</td>\n",
       "      <td>0.967880</td>\n",
       "      <td>1.000000</td>\n",
       "      <td>1.000000</td>\n",
       "    </tr>\n",
       "    <tr>\n",
       "      <th>13</th>\n",
       "      <td>-0.619048</td>\n",
       "      <td>-1.000000</td>\n",
       "      <td>0.238095</td>\n",
       "      <td>0.680728</td>\n",
       "      <td>-0.238095</td>\n",
       "      <td>0.954210</td>\n",
       "      <td>0.333333</td>\n",
       "      <td>0.967545</td>\n",
       "      <td>0.904762</td>\n",
       "      <td>0.967880</td>\n",
       "      <td>1.000000</td>\n",
       "      <td>1.000000</td>\n",
       "      <td>0.809524</td>\n",
       "      <td>0.140725</td>\n",
       "    </tr>\n",
       "  </tbody>\n",
       "</table>\n",
       "</div>"
      ],
      "text/plain": [
       "    var1(t-7)  var2(t-7)  var1(t-6)  var2(t-6)  var1(t-5)  var2(t-5)  \\\n",
       "7   -0.238095   0.164794  -1.000000   0.460416   0.523810   0.467377   \n",
       "8   -1.000000   0.460416   0.523810   0.467377  -0.428571   0.372442   \n",
       "9    0.523810   0.467377  -0.428571   0.372442  -0.523809   0.350050   \n",
       "10  -0.428571   0.372442  -0.523809   0.350050  -0.904762  -0.706810   \n",
       "11  -0.523809   0.350050  -0.904762  -0.706810  -0.619048  -1.000000   \n",
       "12  -0.904762  -0.706810  -0.619048  -1.000000   0.238095   0.680728   \n",
       "13  -0.619048  -1.000000   0.238095   0.680728  -0.238095   0.954210   \n",
       "\n",
       "    var1(t-4)  var2(t-4)  var1(t-3)  var2(t-3)  var1(t-2)  var2(t-2)  \\\n",
       "7   -0.428571   0.372442  -0.523809   0.350050  -0.904762  -0.706810   \n",
       "8   -0.523809   0.350050  -0.904762  -0.706810  -0.619048  -1.000000   \n",
       "9   -0.904762  -0.706810  -0.619048  -1.000000   0.238095   0.680728   \n",
       "10  -0.619048  -1.000000   0.238095   0.680728  -0.238095   0.954210   \n",
       "11   0.238095   0.680728  -0.238095   0.954210   0.333333   0.967545   \n",
       "12  -0.238095   0.954210   0.333333   0.967545   0.904762   0.967880   \n",
       "13   0.333333   0.967545   0.904762   0.967880   1.000000   1.000000   \n",
       "\n",
       "    var1(t-1)  var2(t-1)  \n",
       "7   -0.619048  -1.000000  \n",
       "8    0.238095   0.680728  \n",
       "9   -0.238095   0.954210  \n",
       "10   0.333333   0.967545  \n",
       "11   0.904762   0.967880  \n",
       "12   1.000000   1.000000  \n",
       "13   0.809524   0.140725  "
      ]
     },
     "execution_count": 41,
     "metadata": {},
     "output_type": "execute_result"
    }
   ],
   "source": [
    "# cargamos el dataframe en la variable values\n",
    "values_twt = Dias_twt.values\n",
    "values_ine = Dias_ine.values\n",
    "\n",
    "# convertimos los enteros en floats\n",
    "values_twt = values_twt.astype('float32')\n",
    "values_ine = values_ine.astype('float32')\n",
    "\n",
    "# normalizamos los datos a escala de entre -1 y 1\n",
    "values_twt =values_twt.reshape(-1, 1)\n",
    "scaled_twt = scaler.fit_transform(values_twt)\n",
    "values_ine =values_ine.reshape(-1, 1) # esto lo hacemos porque tenemos 1 sola dimension\n",
    "scaled_ine = scaler.fit_transform(values_ine)\n",
    "\n",
    "# usamos la funcion definida previamente\n",
    "reframed_twt = series_to_supervised(scaled_twt, look_back, 1)\n",
    "reframed_ine = series_to_supervised(scaled_ine, look_back, 1)\n",
    "\n",
    "# eliminamos la ultima columna pues es parte de lo que queremos hayar\n",
    "reframed_twt.drop(reframed_twt.columns[[7]], inplace=True, axis=1)\n",
    "reframed_ine.drop(reframed_ine.columns[[7]], inplace=True, axis=1)\n",
    "\n",
    "#unimos los dataframes\n",
    "reframed_ine.columns = ['var2(t-7)', 'var2(t-6)', 'var2(t-5)', 'var2(t-4)', 'var2(t-3)', 'var2(t-2)', 'var2(t-1)']\n",
    "reframed = pd.concat([reframed_twt.iloc[:, 0], reframed_ine.iloc[:, 0]], axis=1)\n",
    "\n",
    "for i in range(6):\n",
    "    reframed = pd.concat([reframed, reframed_twt.iloc[:, i+1]], axis=1)\n",
    "    reframed = pd.concat([reframed, reframed_ine.iloc[:, i+1]], axis=1)\n",
    "\n",
    "#mostramos el set de entrenamiento\n",
    "reframed.head(7)"
   ]
  },
  {
   "cell_type": "code",
   "execution_count": 42,
   "metadata": {},
   "outputs": [
    {
     "name": "stdout",
     "output_type": "stream",
     "text": [
      "(1, 1, 14)\n"
     ]
    },
    {
     "data": {
      "text/plain": [
       "array([[[-0.6190475 , -1.        ,  0.23809528,  0.68072796,\n",
       "         -0.23809516,  0.95421004,  0.3333335 ,  0.96754456,\n",
       "          0.904762  ,  0.96788   ,  1.        ,  1.        ,\n",
       "          0.8095238 ,  0.14072466]]], dtype=float32)"
      ]
     },
     "execution_count": 42,
     "metadata": {},
     "output_type": "execute_result"
    }
   ],
   "source": [
    "values = reframed.values\n",
    "\n",
    "#tomamos los valores para realizar el test\n",
    "x_test = values[6:, :]\n",
    "\n",
    "# reshape input to be 3D [samples, timesteps, features] - preguntar\n",
    "x_test = x_test.reshape((x_test.shape[0], 1, x_test.shape[1]))\n",
    "print(x_test.shape)\n",
    "x_test"
   ]
  },
  {
   "cell_type": "code",
   "execution_count": 43,
   "metadata": {},
   "outputs": [],
   "source": [
    "#en la linea 24 definimos la funcion para realizar el desplazamiento que se hara en el array cada prediccion pues para hacer\n",
    "#la siguiente prediccion eliminamos el dia mas antiguo, desplazamos un lugar el resto de dias y añadimos el ultimo dia que\n",
    "#se ha predecido, esto es por que para predecir un dia se usan los 7 dias previos, y que usaremos a continuación"
   ]
  },
  {
   "cell_type": "markdown",
   "metadata": {},
   "source": [
    "# Realizamos la prediccion "
   ]
  },
  {
   "cell_type": "code",
   "execution_count": 44,
   "metadata": {},
   "outputs": [
    {
     "name": "stdout",
     "output_type": "stream",
     "text": [
      "[[[-0.6190475  -1.          0.23809528  0.68072796 -0.23809516\n",
      "    0.95421004  0.3333335   0.96754456  0.904762    0.96788\n",
      "    1.          1.          0.8095238   0.14072466]]]\n",
      "[[[-1.          0.23809528  0.68072796 -0.23809516  0.95421004\n",
      "    0.3333335   0.96754456  0.904762    0.96788     1.\n",
      "    1.          0.8095238   0.14072466 -0.541004  ]]]\n",
      "[[[ 0.23809528  0.68072796 -0.23809516  0.95421004  0.3333335\n",
      "    0.96754456  0.904762    0.96788     1.          1.\n",
      "    0.8095238   0.14072466 -0.541004    0.36708996]]]\n",
      "[[[ 0.68072796 -0.23809516  0.95421004  0.3333335   0.96754456\n",
      "    0.904762    0.96788     1.          1.          0.8095238\n",
      "    0.14072466 -0.541004    0.36708996  0.7928051 ]]]\n",
      "[[[-0.23809516  0.95421004  0.3333335   0.96754456  0.904762\n",
      "    0.96788     1.          1.          0.8095238   0.14072466\n",
      "   -0.541004    0.36708996  0.7928051   0.47885036]]]\n",
      "[[[ 0.95421004  0.3333335   0.96754456  0.904762    0.96788\n",
      "    1.          1.          0.8095238   0.14072466 -0.541004\n",
      "    0.36708996  0.7928051   0.47885036  0.75523686]]]\n",
      "[[[ 0.3333335   0.96754456  0.904762    0.96788     1.\n",
      "    1.          0.8095238   0.14072466 -0.541004    0.36708996\n",
      "    0.7928051   0.47885036  0.75523686  0.62452364]]]\n"
     ]
    }
   ],
   "source": [
    "results=[]\n",
    "for i in range(7):\n",
    "    parcial=model.predict(x_test)\n",
    "    results.append(parcial[0])\n",
    "    print(x_test)\n",
    "    x_test=agregarNuevoValor(x_test,parcial[0])"
   ]
  },
  {
   "cell_type": "markdown",
   "metadata": {},
   "source": [
    "# Re-Convertimos los resultados"
   ]
  },
  {
   "cell_type": "code",
   "execution_count": 45,
   "metadata": {
    "scrolled": false
   },
   "outputs": [
    {
     "name": "stdout",
     "output_type": "stream",
     "text": [
      "[array([-0.541004], dtype=float32), array([0.36708996], dtype=float32), array([0.7928051], dtype=float32), array([0.47885036], dtype=float32), array([0.75523686], dtype=float32), array([0.62452364], dtype=float32), array([0.81660956], dtype=float32)]\n"
     ]
    },
    {
     "data": {
      "text/plain": [
       "array([[23448],\n",
       "       [34276],\n",
       "       [39352],\n",
       "       [35609],\n",
       "       [38904],\n",
       "       [37346],\n",
       "       [39636]])"
      ]
     },
     "execution_count": 45,
     "metadata": {},
     "output_type": "execute_result"
    }
   ],
   "source": [
    "adimen = [x for x in results]    \n",
    "print(adimen)\n",
    "inverted = scaler.inverse_transform(adimen)\n",
    "\n",
    "#en nuestro problema no tienen sentido los decimales pues no se pueden hacer 0.5 viajes o 0.25 viajes\n",
    "inverted = inverted.round()\n",
    "inverted = inverted.astype(int)\n",
    "inverted"
   ]
  },
  {
   "cell_type": "markdown",
   "metadata": {},
   "source": [
    "# Visualizamos el pronostico"
   ]
  },
  {
   "cell_type": "code",
   "execution_count": 46,
   "metadata": {
    "scrolled": false
   },
   "outputs": [
    {
     "data": {
      "text/plain": [
       "<AxesSubplot:>"
      ]
     },
     "execution_count": 46,
     "metadata": {},
     "output_type": "execute_result"
    },
    {
     "data": {
      "image/png": "[encoded data removed]",
      "text/plain": [
       "<Figure size 432x288 with 1 Axes>"
      ]
     },
     "metadata": {
      "needs_background": "light"
     },
     "output_type": "display_data"
    }
   ],
   "source": [
    "e_date = datetime.datetime.strptime('2020-05-31', '%Y-%m-%d')\n",
    "i_date = datetime.datetime.strptime('2020-05-25', '%Y-%m-%d')\n",
    "delta = e_date - i_date\n",
    "\n",
    "index_days = []\n",
    "for i in range(delta.days + 1):\n",
    "    day = i_date + timedelta(days=i)\n",
    "    index_days.append(day)\n",
    "\n",
    "prediccion = pd.DataFrame(inverted, index= index_days)\n",
    "prediccion.columns = ['pronostico']\n",
    "prediccion.plot()"
   ]
  },
  {
   "cell_type": "code",
   "execution_count": 47,
   "metadata": {},
   "outputs": [
    {
     "data": {
      "text/html": [
       "<div>\n",
       "<style scoped>\n",
       "    .dataframe tbody tr th:only-of-type {\n",
       "        vertical-align: middle;\n",
       "    }\n",
       "\n",
       "    .dataframe tbody tr th {\n",
       "        vertical-align: top;\n",
       "    }\n",
       "\n",
       "    .dataframe thead th {\n",
       "        text-align: right;\n",
       "    }\n",
       "</style>\n",
       "<table border=\"1\" class=\"dataframe\">\n",
       "  <thead>\n",
       "    <tr style=\"text-align: right;\">\n",
       "      <th></th>\n",
       "      <th>real</th>\n",
       "      <th>prediccion</th>\n",
       "    </tr>\n",
       "  </thead>\n",
       "  <tbody>\n",
       "    <tr>\n",
       "      <th>2020-05-25</th>\n",
       "      <td>42126</td>\n",
       "      <td>23448</td>\n",
       "    </tr>\n",
       "    <tr>\n",
       "      <th>2020-05-26</th>\n",
       "      <td>45321</td>\n",
       "      <td>34276</td>\n",
       "    </tr>\n",
       "    <tr>\n",
       "      <th>2020-05-27</th>\n",
       "      <td>46185</td>\n",
       "      <td>39352</td>\n",
       "    </tr>\n",
       "    <tr>\n",
       "      <th>2020-05-28</th>\n",
       "      <td>47441</td>\n",
       "      <td>35609</td>\n",
       "    </tr>\n",
       "    <tr>\n",
       "      <th>2020-05-29</th>\n",
       "      <td>48454</td>\n",
       "      <td>38904</td>\n",
       "    </tr>\n",
       "    <tr>\n",
       "      <th>2020-05-30</th>\n",
       "      <td>40358</td>\n",
       "      <td>37346</td>\n",
       "    </tr>\n",
       "    <tr>\n",
       "      <th>2020-05-31</th>\n",
       "      <td>29599</td>\n",
       "      <td>39636</td>\n",
       "    </tr>\n",
       "  </tbody>\n",
       "</table>\n",
       "</div>"
      ],
      "text/plain": [
       "             real  prediccion\n",
       "2020-05-25  42126       23448\n",
       "2020-05-26  45321       34276\n",
       "2020-05-27  46185       39352\n",
       "2020-05-28  47441       35609\n",
       "2020-05-29  48454       38904\n",
       "2020-05-30  40358       37346\n",
       "2020-05-31  29599       39636"
      ]
     },
     "execution_count": 47,
     "metadata": {},
     "output_type": "execute_result"
    }
   ],
   "source": [
    "datosReales = df_ine['2020-5-25':'2020-5-31']\n",
    "\n",
    "compara = pd.concat([datosReales, prediccion], axis=1)\n",
    "compara.columns = ['real', 'prediccion']\n",
    "compara"
   ]
  },
  {
   "cell_type": "code",
   "execution_count": 48,
   "metadata": {},
   "outputs": [
    {
     "data": {
      "text/plain": [
       "<AxesSubplot:>"
      ]
     },
     "execution_count": 48,
     "metadata": {},
     "output_type": "execute_result"
    },
    {
     "data": {
      "image/png": "[encoded data removed]",
      "text/plain": [
       "<Figure size 432x288 with 1 Axes>"
      ]
     },
     "metadata": {
      "needs_background": "light"
     },
     "output_type": "display_data"
    }
   ],
   "source": [
    "compara['real'].plot()\n",
    "compara['prediccion'].plot()"
   ]
  },
  {
   "cell_type": "code",
   "execution_count": 49,
   "metadata": {
    "scrolled": false
   },
   "outputs": [
    {
     "name": "stdout",
     "output_type": "stream",
     "text": [
      "Resultado del test: 10141.00 MAE\n",
      "Resultado del test: 122651690.71 MSE\n",
      "Resultado del test: 11074.82 RMSE\n",
      "Resultado del test: 31.19 CVRMSE\n",
      "Resultado del test: 31.49 MAPE\n"
     ]
    }
   ],
   "source": [
    "# calculamos las metricas de error\n",
    "testScore_MAE, testScore_MSE, testScore_RMSE, testScore_CVRMSE, testScore_MAPE  =  compute_metrics_fn(prediccion, datosReales)\n",
    "print('Resultado del test: %.2f MAE' % (testScore_MAE))\n",
    "print('Resultado del test: %.2f MSE' % (testScore_MSE))\n",
    "print('Resultado del test: %.2f RMSE' % (testScore_RMSE))\n",
    "print('Resultado del test: %.2f CVRMSE' % (testScore_CVRMSE))\n",
    "print('Resultado del test: %.2f MAPE' % (testScore_MAPE))"
   ]
  },
  {
   "cell_type": "code",
   "execution_count": null,
   "metadata": {},
   "outputs": [],
   "source": []
  }
 ],
 "metadata": {
  "kernelspec": {
   "display_name": "Python 3",
   "language": "python",
   "name": "python3"
  },
  "language_info": {
   "codemirror_mode": {
    "name": "ipython",
    "version": 3
   },
   "file_extension": ".py",
   "mimetype": "text/x-python",
   "name": "python",
   "nbconvert_exporter": "python",
   "pygments_lexer": "ipython3",
   "version": "3.8.5"
  }
 },
 "nbformat": 4,
 "nbformat_minor": 4
}
