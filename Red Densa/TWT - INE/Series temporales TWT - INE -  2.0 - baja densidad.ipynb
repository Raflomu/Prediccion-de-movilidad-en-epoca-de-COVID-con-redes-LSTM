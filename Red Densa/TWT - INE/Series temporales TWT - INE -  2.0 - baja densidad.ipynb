{
 "cells": [
  {
   "cell_type": "code",
   "execution_count": 1,
   "metadata": {},
   "outputs": [],
   "source": [
    "import pandas as pd\n",
    "import numpy as np\n",
    "from tqdm import tqdm_notebook\n",
    "import os\n",
    "from sklearn.metrics import mean_squared_error, mean_absolute_error\n",
    "from sklearn.preprocessing import MinMaxScaler\n",
    "from keras.models import Sequential\n",
    "from keras.layers import Dense,Activation,Flatten,Dropout\n",
    "\n",
    "import matplotlib.pyplot as plt\n",
    "%matplotlib inline\n",
    "\n",
    "import warnings\n",
    "warnings.filterwarnings(\"ignore\")\n",
    "\n",
    "import datetime\n",
    "from datetime import date, timedelta\n",
    "e_date = datetime.datetime.strptime('2020-06-20', '%Y-%m-%d')\n",
    "i_date = datetime.datetime.strptime('2020-04-01', '%Y-%m-%d')\n",
    "\n",
    "data_path = 'D:/universidad/universidad 4/TFG/recursos para el desarrollo/datos procesados/OD'"
   ]
  },
  {
   "cell_type": "code",
   "execution_count": 2,
   "metadata": {},
   "outputs": [],
   "source": [
    "delta = e_date - i_date\n",
    "\n",
    "target_days = []\n",
    "for i in range(delta.days + 1):\n",
    "    day = i_date + timedelta(days=i)\n",
    "    target_days.append(day)"
   ]
  },
  {
   "cell_type": "code",
   "execution_count": 3,
   "metadata": {},
   "outputs": [],
   "source": [
    "def read_OD_fn(source_type):\n",
    "    ods = {}\n",
    "    for date in tqdm_notebook(target_days):\n",
    "        od_date= pd.read_csv(os.path.join(data_path, 'date_{}_OD_{}.csv'.format(source_type,date.strftime('%Y-%m-%d'))), \n",
    "                            index_col=0)\n",
    "        ods[date] = od_date\n",
    "    return ods"
   ]
  },
  {
   "cell_type": "code",
   "execution_count": 4,
   "metadata": {},
   "outputs": [
    {
     "data": {
      "application/vnd.jupyter.widget-view+json": {
       "model_id": "d4dceeebf49044d38d9220080fc9d8af",
       "version_major": 2,
       "version_minor": 0
      },
      "text/plain": [
       "  0%|          | 0/81 [00:00<?, ?it/s]"
      ]
     },
     "metadata": {},
     "output_type": "display_data"
    }
   ],
   "source": [
    "ine_ods = read_OD_fn('INE')"
   ]
  },
  {
   "cell_type": "code",
   "execution_count": 5,
   "metadata": {
    "scrolled": true
   },
   "outputs": [
    {
     "data": {
      "application/vnd.jupyter.widget-view+json": {
       "model_id": "5bbfde12d78446038cad2091b4443256",
       "version_major": 2,
       "version_minor": 0
      },
      "text/plain": [
       "  0%|          | 0/81 [00:00<?, ?it/s]"
      ]
     },
     "metadata": {},
     "output_type": "display_data"
    }
   ],
   "source": [
    "twt_ods = read_OD_fn('TWT')"
   ]
  },
  {
   "cell_type": "markdown",
   "metadata": {},
   "source": [
    "# Serializar los datos"
   ]
  },
  {
   "cell_type": "code",
   "execution_count": 6,
   "metadata": {
    "scrolled": true
   },
   "outputs": [
    {
     "data": {
      "application/vnd.jupyter.widget-view+json": {
       "model_id": "6385ad7d9fed4f3e9873b798ae2d6b18",
       "version_major": 2,
       "version_minor": 0
      },
      "text/plain": [
       "  0%|          | 0/81 [00:00<?, ?it/s]"
      ]
     },
     "metadata": {},
     "output_type": "display_data"
    },
    {
     "data": {
      "application/vnd.jupyter.widget-view+json": {
       "model_id": "49dd78920dde4abf8bc5c162609be766",
       "version_major": 2,
       "version_minor": 0
      },
      "text/plain": [
       "  0%|          | 0/81 [00:00<?, ?it/s]"
      ]
     },
     "metadata": {},
     "output_type": "display_data"
    }
   ],
   "source": [
    "lista_twt1 = []\n",
    "lista_twt2 = []\n",
    "lista_twt3 = []\n",
    "lista_twt4 = []\n",
    "lista_twt5 = []\n",
    "\n",
    "for date in tqdm_notebook(target_days):\n",
    "    lista_twt1.append(twt_ods[date].loc['11CA','total'])\n",
    "    lista_twt2.append(twt_ods[date].loc['33PO','total'])\n",
    "    lista_twt3.append(twt_ods[date].loc['026V','total'])\n",
    "    lista_twt4.append(twt_ods[date].loc['21BU','total'])\n",
    "    lista_twt5.append(twt_ods[date].loc['49GI','total'])\n",
    "    \n",
    "    \n",
    "lista_ine1 = []\n",
    "lista_ine2 = []\n",
    "lista_ine3 = []\n",
    "lista_ine4 = []\n",
    "lista_ine5 = []\n",
    "\n",
    "for date in tqdm_notebook(target_days):\n",
    "    lista_ine1.append(ine_ods[date].loc['11CA','total'])\n",
    "    lista_ine2.append(ine_ods[date].loc['33PO','total'])\n",
    "    lista_ine3.append(ine_ods[date].loc['026V','total'])\n",
    "    lista_ine4.append(ine_ods[date].loc['21BU','total'])\n",
    "    lista_ine5.append(ine_ods[date].loc['49GI','total'])\n",
    "    "
   ]
  },
  {
   "cell_type": "code",
   "execution_count": 7,
   "metadata": {
    "scrolled": true
   },
   "outputs": [],
   "source": [
    "df_twt1 = pd.DataFrame (lista_twt1, columns = ['Viajes'], index= target_days)\n",
    "df_ine1 = pd.DataFrame (lista_ine1, columns = ['Viajes'], index= target_days)\n",
    "\n",
    "df_twt2 = pd.DataFrame (lista_twt2, columns = ['Viajes'], index= target_days)\n",
    "df_ine2 = pd.DataFrame (lista_ine2, columns = ['Viajes'], index= target_days)\n",
    "\n",
    "df_twt3 = pd.DataFrame (lista_twt3, columns = ['Viajes'], index= target_days)\n",
    "df_ine3 = pd.DataFrame (lista_ine3, columns = ['Viajes'], index= target_days)\n",
    "\n",
    "df_twt4 = pd.DataFrame (lista_twt4, columns = ['Viajes'], index= target_days)\n",
    "df_ine4 = pd.DataFrame (lista_ine4, columns = ['Viajes'], index= target_days)\n",
    "\n",
    "df_twt5 = pd.DataFrame (lista_twt5, columns = ['Viajes'], index= target_days)\n",
    "df_ine5 = pd.DataFrame (lista_ine5, columns = ['Viajes'], index= target_days)"
   ]
  },
  {
   "cell_type": "code",
   "execution_count": 8,
   "metadata": {},
   "outputs": [],
   "source": [
    "lista_twt = []\n",
    "lista_ine = []\n",
    "\n",
    "df_twt = df_twt1 + df_twt2 + df_twt3 + df_twt4 + df_twt5\n",
    "df_ine = df_ine1 + df_ine2 + df_ine3 + df_ine4 + df_ine5"
   ]
  },
  {
   "cell_type": "code",
   "execution_count": 9,
   "metadata": {},
   "outputs": [
    {
     "data": {
      "text/html": [
       "<div>\n",
       "<style scoped>\n",
       "    .dataframe tbody tr th:only-of-type {\n",
       "        vertical-align: middle;\n",
       "    }\n",
       "\n",
       "    .dataframe tbody tr th {\n",
       "        vertical-align: top;\n",
       "    }\n",
       "\n",
       "    .dataframe thead th {\n",
       "        text-align: right;\n",
       "    }\n",
       "</style>\n",
       "<table border=\"1\" class=\"dataframe\">\n",
       "  <thead>\n",
       "    <tr style=\"text-align: right;\">\n",
       "      <th></th>\n",
       "      <th>Viajes</th>\n",
       "    </tr>\n",
       "  </thead>\n",
       "  <tbody>\n",
       "    <tr>\n",
       "      <th>2020-04-01</th>\n",
       "      <td>0</td>\n",
       "    </tr>\n",
       "    <tr>\n",
       "      <th>2020-04-02</th>\n",
       "      <td>2</td>\n",
       "    </tr>\n",
       "    <tr>\n",
       "      <th>2020-04-03</th>\n",
       "      <td>0</td>\n",
       "    </tr>\n",
       "    <tr>\n",
       "      <th>2020-04-04</th>\n",
       "      <td>0</td>\n",
       "    </tr>\n",
       "    <tr>\n",
       "      <th>2020-04-05</th>\n",
       "      <td>0</td>\n",
       "    </tr>\n",
       "  </tbody>\n",
       "</table>\n",
       "</div>"
      ],
      "text/plain": [
       "            Viajes\n",
       "2020-04-01       0\n",
       "2020-04-02       2\n",
       "2020-04-03       0\n",
       "2020-04-04       0\n",
       "2020-04-05       0"
      ]
     },
     "execution_count": 9,
     "metadata": {},
     "output_type": "execute_result"
    }
   ],
   "source": [
    "df_twt.head()"
   ]
  },
  {
   "cell_type": "code",
   "execution_count": 10,
   "metadata": {},
   "outputs": [
    {
     "data": {
      "text/html": [
       "<div>\n",
       "<style scoped>\n",
       "    .dataframe tbody tr th:only-of-type {\n",
       "        vertical-align: middle;\n",
       "    }\n",
       "\n",
       "    .dataframe tbody tr th {\n",
       "        vertical-align: top;\n",
       "    }\n",
       "\n",
       "    .dataframe thead th {\n",
       "        text-align: right;\n",
       "    }\n",
       "</style>\n",
       "<table border=\"1\" class=\"dataframe\">\n",
       "  <thead>\n",
       "    <tr style=\"text-align: right;\">\n",
       "      <th></th>\n",
       "      <th>Viajes</th>\n",
       "    </tr>\n",
       "  </thead>\n",
       "  <tbody>\n",
       "    <tr>\n",
       "      <th>2020-04-01</th>\n",
       "      <td>194</td>\n",
       "    </tr>\n",
       "    <tr>\n",
       "      <th>2020-04-02</th>\n",
       "      <td>183</td>\n",
       "    </tr>\n",
       "    <tr>\n",
       "      <th>2020-04-03</th>\n",
       "      <td>317</td>\n",
       "    </tr>\n",
       "    <tr>\n",
       "      <th>2020-04-04</th>\n",
       "      <td>177</td>\n",
       "    </tr>\n",
       "    <tr>\n",
       "      <th>2020-04-05</th>\n",
       "      <td>142</td>\n",
       "    </tr>\n",
       "  </tbody>\n",
       "</table>\n",
       "</div>"
      ],
      "text/plain": [
       "            Viajes\n",
       "2020-04-01     194\n",
       "2020-04-02     183\n",
       "2020-04-03     317\n",
       "2020-04-04     177\n",
       "2020-04-05     142"
      ]
     },
     "execution_count": 10,
     "metadata": {},
     "output_type": "execute_result"
    }
   ],
   "source": [
    "df_ine.head()"
   ]
  },
  {
   "cell_type": "code",
   "execution_count": 11,
   "metadata": {},
   "outputs": [],
   "source": [
    "del twt_ods\n",
    "del ine_ods"
   ]
  },
  {
   "cell_type": "markdown",
   "metadata": {},
   "source": [
    "# Visualización de datos"
   ]
  },
  {
   "cell_type": "code",
   "execution_count": 12,
   "metadata": {},
   "outputs": [
    {
     "name": "stdout",
     "output_type": "stream",
     "text": [
      "2020-04-01 00:00:00\n",
      "2020-06-20 00:00:00\n"
     ]
    }
   ],
   "source": [
    "print(df_twt.index.min())\n",
    "print(df_ine.index.max())"
   ]
  },
  {
   "cell_type": "code",
   "execution_count": 13,
   "metadata": {
    "scrolled": true
   },
   "outputs": [
    {
     "name": "stdout",
     "output_type": "stream",
     "text": [
      "81\n"
     ]
    }
   ],
   "source": [
    "print(len(df_twt['2020']))"
   ]
  },
  {
   "cell_type": "code",
   "execution_count": 14,
   "metadata": {},
   "outputs": [
    {
     "name": "stdout",
     "output_type": "stream",
     "text": [
      "81\n"
     ]
    }
   ],
   "source": [
    "print(len(df_ine['2020']))"
   ]
  },
  {
   "cell_type": "code",
   "execution_count": 15,
   "metadata": {
    "scrolled": true
   },
   "outputs": [
    {
     "data": {
      "text/html": [
       "<div>\n",
       "<style scoped>\n",
       "    .dataframe tbody tr th:only-of-type {\n",
       "        vertical-align: middle;\n",
       "    }\n",
       "\n",
       "    .dataframe tbody tr th {\n",
       "        vertical-align: top;\n",
       "    }\n",
       "\n",
       "    .dataframe thead th {\n",
       "        text-align: right;\n",
       "    }\n",
       "</style>\n",
       "<table border=\"1\" class=\"dataframe\">\n",
       "  <thead>\n",
       "    <tr style=\"text-align: right;\">\n",
       "      <th></th>\n",
       "      <th>Viajes</th>\n",
       "    </tr>\n",
       "  </thead>\n",
       "  <tbody>\n",
       "    <tr>\n",
       "      <th>count</th>\n",
       "      <td>81.000000</td>\n",
       "    </tr>\n",
       "    <tr>\n",
       "      <th>mean</th>\n",
       "      <td>0.407407</td>\n",
       "    </tr>\n",
       "    <tr>\n",
       "      <th>std</th>\n",
       "      <td>0.862812</td>\n",
       "    </tr>\n",
       "    <tr>\n",
       "      <th>min</th>\n",
       "      <td>0.000000</td>\n",
       "    </tr>\n",
       "    <tr>\n",
       "      <th>25%</th>\n",
       "      <td>0.000000</td>\n",
       "    </tr>\n",
       "    <tr>\n",
       "      <th>50%</th>\n",
       "      <td>0.000000</td>\n",
       "    </tr>\n",
       "    <tr>\n",
       "      <th>75%</th>\n",
       "      <td>0.000000</td>\n",
       "    </tr>\n",
       "    <tr>\n",
       "      <th>max</th>\n",
       "      <td>4.000000</td>\n",
       "    </tr>\n",
       "  </tbody>\n",
       "</table>\n",
       "</div>"
      ],
      "text/plain": [
       "          Viajes\n",
       "count  81.000000\n",
       "mean    0.407407\n",
       "std     0.862812\n",
       "min     0.000000\n",
       "25%     0.000000\n",
       "50%     0.000000\n",
       "75%     0.000000\n",
       "max     4.000000"
      ]
     },
     "execution_count": 15,
     "metadata": {},
     "output_type": "execute_result"
    }
   ],
   "source": [
    "df_twt.describe()"
   ]
  },
  {
   "cell_type": "code",
   "execution_count": 16,
   "metadata": {},
   "outputs": [
    {
     "data": {
      "text/html": [
       "<div>\n",
       "<style scoped>\n",
       "    .dataframe tbody tr th:only-of-type {\n",
       "        vertical-align: middle;\n",
       "    }\n",
       "\n",
       "    .dataframe tbody tr th {\n",
       "        vertical-align: top;\n",
       "    }\n",
       "\n",
       "    .dataframe thead th {\n",
       "        text-align: right;\n",
       "    }\n",
       "</style>\n",
       "<table border=\"1\" class=\"dataframe\">\n",
       "  <thead>\n",
       "    <tr style=\"text-align: right;\">\n",
       "      <th></th>\n",
       "      <th>Viajes</th>\n",
       "    </tr>\n",
       "  </thead>\n",
       "  <tbody>\n",
       "    <tr>\n",
       "      <th>count</th>\n",
       "      <td>81.000000</td>\n",
       "    </tr>\n",
       "    <tr>\n",
       "      <th>mean</th>\n",
       "      <td>366.592593</td>\n",
       "    </tr>\n",
       "    <tr>\n",
       "      <th>std</th>\n",
       "      <td>108.663446</td>\n",
       "    </tr>\n",
       "    <tr>\n",
       "      <th>min</th>\n",
       "      <td>110.000000</td>\n",
       "    </tr>\n",
       "    <tr>\n",
       "      <th>25%</th>\n",
       "      <td>303.000000</td>\n",
       "    </tr>\n",
       "    <tr>\n",
       "      <th>50%</th>\n",
       "      <td>390.000000</td>\n",
       "    </tr>\n",
       "    <tr>\n",
       "      <th>75%</th>\n",
       "      <td>433.000000</td>\n",
       "    </tr>\n",
       "    <tr>\n",
       "      <th>max</th>\n",
       "      <td>614.000000</td>\n",
       "    </tr>\n",
       "  </tbody>\n",
       "</table>\n",
       "</div>"
      ],
      "text/plain": [
       "           Viajes\n",
       "count   81.000000\n",
       "mean   366.592593\n",
       "std    108.663446\n",
       "min    110.000000\n",
       "25%    303.000000\n",
       "50%    390.000000\n",
       "75%    433.000000\n",
       "max    614.000000"
      ]
     },
     "execution_count": 16,
     "metadata": {},
     "output_type": "execute_result"
    }
   ],
   "source": [
    "df_ine.describe()"
   ]
  },
  {
   "cell_type": "code",
   "execution_count": 17,
   "metadata": {
    "scrolled": true
   },
   "outputs": [
    {
     "data": {
      "text/html": [
       "<div>\n",
       "<style scoped>\n",
       "    .dataframe tbody tr th:only-of-type {\n",
       "        vertical-align: middle;\n",
       "    }\n",
       "\n",
       "    .dataframe tbody tr th {\n",
       "        vertical-align: top;\n",
       "    }\n",
       "\n",
       "    .dataframe thead th {\n",
       "        text-align: right;\n",
       "    }\n",
       "</style>\n",
       "<table border=\"1\" class=\"dataframe\">\n",
       "  <thead>\n",
       "    <tr style=\"text-align: right;\">\n",
       "      <th></th>\n",
       "      <th>Viajes</th>\n",
       "    </tr>\n",
       "  </thead>\n",
       "  <tbody>\n",
       "    <tr>\n",
       "      <th>2020-04-30</th>\n",
       "      <td>0.366667</td>\n",
       "    </tr>\n",
       "    <tr>\n",
       "      <th>2020-05-31</th>\n",
       "      <td>0.387097</td>\n",
       "    </tr>\n",
       "    <tr>\n",
       "      <th>2020-06-30</th>\n",
       "      <td>0.500000</td>\n",
       "    </tr>\n",
       "  </tbody>\n",
       "</table>\n",
       "</div>"
      ],
      "text/plain": [
       "              Viajes\n",
       "2020-04-30  0.366667\n",
       "2020-05-31  0.387097\n",
       "2020-06-30  0.500000"
      ]
     },
     "execution_count": 17,
     "metadata": {},
     "output_type": "execute_result"
    }
   ],
   "source": [
    "meses = df_twt.resample('M').mean()\n",
    "meses"
   ]
  },
  {
   "cell_type": "code",
   "execution_count": 18,
   "metadata": {},
   "outputs": [
    {
     "data": {
      "text/html": [
       "<div>\n",
       "<style scoped>\n",
       "    .dataframe tbody tr th:only-of-type {\n",
       "        vertical-align: middle;\n",
       "    }\n",
       "\n",
       "    .dataframe tbody tr th {\n",
       "        vertical-align: top;\n",
       "    }\n",
       "\n",
       "    .dataframe thead th {\n",
       "        text-align: right;\n",
       "    }\n",
       "</style>\n",
       "<table border=\"1\" class=\"dataframe\">\n",
       "  <thead>\n",
       "    <tr style=\"text-align: right;\">\n",
       "      <th></th>\n",
       "      <th>Viajes</th>\n",
       "    </tr>\n",
       "  </thead>\n",
       "  <tbody>\n",
       "    <tr>\n",
       "      <th>2020-04-30</th>\n",
       "      <td>276.233333</td>\n",
       "    </tr>\n",
       "    <tr>\n",
       "      <th>2020-05-31</th>\n",
       "      <td>402.096774</td>\n",
       "    </tr>\n",
       "    <tr>\n",
       "      <th>2020-06-30</th>\n",
       "      <td>447.100000</td>\n",
       "    </tr>\n",
       "  </tbody>\n",
       "</table>\n",
       "</div>"
      ],
      "text/plain": [
       "                Viajes\n",
       "2020-04-30  276.233333\n",
       "2020-05-31  402.096774\n",
       "2020-06-30  447.100000"
      ]
     },
     "execution_count": 18,
     "metadata": {},
     "output_type": "execute_result"
    }
   ],
   "source": [
    "meses = df_ine.resample('M').mean()\n",
    "meses"
   ]
  },
  {
   "cell_type": "code",
   "execution_count": 19,
   "metadata": {
    "scrolled": true
   },
   "outputs": [
    {
     "data": {
      "text/plain": [
       "[<matplotlib.lines.Line2D at 0x24224c42850>]"
      ]
     },
     "execution_count": 19,
     "metadata": {},
     "output_type": "execute_result"
    },
    {
     "data": {
      "image/png": "[encoded data removed]",
      "text/plain": [
       "<Figure size 432x288 with 1 Axes>"
      ]
     },
     "metadata": {
      "needs_background": "light"
     },
     "output_type": "display_data"
    }
   ],
   "source": [
    "abril = df_twt['2020-04-01':'2020-04-30']\n",
    "plt.plot(abril.values)\n",
    "mayo = df_twt['2020-05-01':'2020-05-31']\n",
    "plt.plot(mayo.values)\n",
    "junio = df_twt['2020-06-01':'2020-06-20']\n",
    "plt.plot(junio.values)"
   ]
  },
  {
   "cell_type": "code",
   "execution_count": 20,
   "metadata": {},
   "outputs": [
    {
     "data": {
      "text/plain": [
       "[<matplotlib.lines.Line2D at 0x24206ca1760>]"
      ]
     },
     "execution_count": 20,
     "metadata": {},
     "output_type": "execute_result"
    },
    {
     "data": {
      "image/png": "[encoded data removed]",
      "text/plain": [
       "<Figure size 432x288 with 1 Axes>"
      ]
     },
     "metadata": {
      "needs_background": "light"
     },
     "output_type": "display_data"
    }
   ],
   "source": [
    "abril = df_ine['2020-04-01':'2020-04-30']\n",
    "plt.plot(abril.values)\n",
    "mayo = df_ine['2020-05-01':'2020-05-31']\n",
    "plt.plot(mayo.values)\n",
    "junio = df_ine['2020-06-01':'2020-06-20']\n",
    "plt.plot(junio.values)"
   ]
  },
  {
   "cell_type": "markdown",
   "metadata": {},
   "source": [
    "# Preprocesado de datos"
   ]
  },
  {
   "cell_type": "code",
   "execution_count": 21,
   "metadata": {},
   "outputs": [
    {
     "data": {
      "text/html": [
       "<div>\n",
       "<style scoped>\n",
       "    .dataframe tbody tr th:only-of-type {\n",
       "        vertical-align: middle;\n",
       "    }\n",
       "\n",
       "    .dataframe tbody tr th {\n",
       "        vertical-align: top;\n",
       "    }\n",
       "\n",
       "    .dataframe thead th {\n",
       "        text-align: right;\n",
       "    }\n",
       "</style>\n",
       "<table border=\"1\" class=\"dataframe\">\n",
       "  <thead>\n",
       "    <tr style=\"text-align: right;\">\n",
       "      <th></th>\n",
       "      <th>var1(t-7)</th>\n",
       "      <th>var1(t-6)</th>\n",
       "      <th>var1(t-5)</th>\n",
       "      <th>var1(t-4)</th>\n",
       "      <th>var1(t-3)</th>\n",
       "      <th>var1(t-2)</th>\n",
       "      <th>var1(t-1)</th>\n",
       "      <th>var1(t)</th>\n",
       "    </tr>\n",
       "  </thead>\n",
       "  <tbody>\n",
       "    <tr>\n",
       "      <th>76</th>\n",
       "      <td>0.0</td>\n",
       "      <td>-1.0</td>\n",
       "      <td>-1.0</td>\n",
       "      <td>0.0</td>\n",
       "      <td>-1.0</td>\n",
       "      <td>-1.0</td>\n",
       "      <td>-1.0</td>\n",
       "      <td>-1.0</td>\n",
       "    </tr>\n",
       "    <tr>\n",
       "      <th>77</th>\n",
       "      <td>-1.0</td>\n",
       "      <td>-1.0</td>\n",
       "      <td>0.0</td>\n",
       "      <td>-1.0</td>\n",
       "      <td>-1.0</td>\n",
       "      <td>-1.0</td>\n",
       "      <td>-1.0</td>\n",
       "      <td>0.5</td>\n",
       "    </tr>\n",
       "    <tr>\n",
       "      <th>78</th>\n",
       "      <td>-1.0</td>\n",
       "      <td>0.0</td>\n",
       "      <td>-1.0</td>\n",
       "      <td>-1.0</td>\n",
       "      <td>-1.0</td>\n",
       "      <td>-1.0</td>\n",
       "      <td>0.5</td>\n",
       "      <td>-0.5</td>\n",
       "    </tr>\n",
       "    <tr>\n",
       "      <th>79</th>\n",
       "      <td>0.0</td>\n",
       "      <td>-1.0</td>\n",
       "      <td>-1.0</td>\n",
       "      <td>-1.0</td>\n",
       "      <td>-1.0</td>\n",
       "      <td>0.5</td>\n",
       "      <td>-0.5</td>\n",
       "      <td>-1.0</td>\n",
       "    </tr>\n",
       "    <tr>\n",
       "      <th>80</th>\n",
       "      <td>-1.0</td>\n",
       "      <td>-1.0</td>\n",
       "      <td>-1.0</td>\n",
       "      <td>-1.0</td>\n",
       "      <td>0.5</td>\n",
       "      <td>-0.5</td>\n",
       "      <td>-1.0</td>\n",
       "      <td>-1.0</td>\n",
       "    </tr>\n",
       "  </tbody>\n",
       "</table>\n",
       "</div>"
      ],
      "text/plain": [
       "    var1(t-7)  var1(t-6)  var1(t-5)  var1(t-4)  var1(t-3)  var1(t-2)  \\\n",
       "76        0.0       -1.0       -1.0        0.0       -1.0       -1.0   \n",
       "77       -1.0       -1.0        0.0       -1.0       -1.0       -1.0   \n",
       "78       -1.0        0.0       -1.0       -1.0       -1.0       -1.0   \n",
       "79        0.0       -1.0       -1.0       -1.0       -1.0        0.5   \n",
       "80       -1.0       -1.0       -1.0       -1.0        0.5       -0.5   \n",
       "\n",
       "    var1(t-1)  var1(t)  \n",
       "76       -1.0     -1.0  \n",
       "77       -1.0      0.5  \n",
       "78        0.5     -0.5  \n",
       "79       -0.5     -1.0  \n",
       "80       -1.0     -1.0  "
      ]
     },
     "execution_count": 21,
     "metadata": {},
     "output_type": "execute_result"
    }
   ],
   "source": [
    "# cantidad de dias previos que se usaran para predecir el siguiente dia \n",
    "look_back=7\n",
    "\n",
    "# convertir series en conocimiento supervisado\n",
    "def series_to_supervised(data, n_in=1, n_out=1, dropnan=True):\n",
    "    n_vars = 1 if type(data) is list else data.shape[1]\n",
    "    df = pd.DataFrame(data)\n",
    "    cols, names = list(), list()\n",
    "    # secuencia de entrada (t-n, ... t-1)\n",
    "    for i in range(n_in, 0, -1):\n",
    "        cols.append(df.shift(i))\n",
    "        names += [('var%d(t-%d)' % (j+1, i)) for j in range(n_vars)]\n",
    "    # secuencia del pronostico (t, t+1, ... t+n)\n",
    "    for i in range(0, n_out):\n",
    "        cols.append(df.shift(-i))\n",
    "        if i == 0:\n",
    "            names += [('var%d(t)' % (j+1)) for j in range(n_vars)]\n",
    "        else:\n",
    "            names += [('var%d(t+%d)' % (j+1, i)) for j in range(n_vars)]\n",
    "    # unimos todo\n",
    "    agg = pd.concat(cols, axis=1)\n",
    "    agg.columns = names\n",
    "    # eliminamos todos los valores nulos\n",
    "    if dropnan:\n",
    "        agg.dropna(inplace=True)\n",
    "    return agg\n",
    " \n",
    "# cargamos el dataframe en la variable values\n",
    "values_twt = df_twt.values\n",
    "values_ine = df_ine.values\n",
    "\n",
    "# convertimos los enteros en floats\n",
    "values_twt = values_twt.astype('float32')\n",
    "values_ine = values_ine.astype('float32')\n",
    "\n",
    "# normalizamos los datos a escala de entre -1 y 1\n",
    "scaler = MinMaxScaler(feature_range=(-1, 1))\n",
    "values_twt=values_twt.reshape(-1, 1) # esto lo hacemos porque tenemos 1 sola dimension\n",
    "values_ine=values_ine.reshape(-1, 1) # esto lo hacemos porque tenemos 1 sola dimension\n",
    "scaled_twt = scaler.fit_transform(values_twt)\n",
    "scaled_ine = scaler.fit_transform(values_ine)\n",
    "\n",
    "# usamos la funcion definida previamente\n",
    "reframed_twt = series_to_supervised(scaled_twt, look_back, 1)\n",
    "reframed_ine = series_to_supervised(scaled_ine, look_back, 1)\n",
    "\n",
    "#imprimimos los nuevos datos\n",
    "reframed_twt.tail()"
   ]
  },
  {
   "cell_type": "code",
   "execution_count": 22,
   "metadata": {
    "scrolled": false
   },
   "outputs": [
    {
     "data": {
      "text/html": [
       "<div>\n",
       "<style scoped>\n",
       "    .dataframe tbody tr th:only-of-type {\n",
       "        vertical-align: middle;\n",
       "    }\n",
       "\n",
       "    .dataframe tbody tr th {\n",
       "        vertical-align: top;\n",
       "    }\n",
       "\n",
       "    .dataframe thead th {\n",
       "        text-align: right;\n",
       "    }\n",
       "</style>\n",
       "<table border=\"1\" class=\"dataframe\">\n",
       "  <thead>\n",
       "    <tr style=\"text-align: right;\">\n",
       "      <th></th>\n",
       "      <th>var2(t-7)</th>\n",
       "      <th>var2(t-6)</th>\n",
       "      <th>var2(t-5)</th>\n",
       "      <th>var2(t-4)</th>\n",
       "      <th>var2(t-3)</th>\n",
       "      <th>var2(t-2)</th>\n",
       "      <th>var2(t-1)</th>\n",
       "      <th>var2(t)</th>\n",
       "    </tr>\n",
       "  </thead>\n",
       "  <tbody>\n",
       "    <tr>\n",
       "      <th>76</th>\n",
       "      <td>0.202381</td>\n",
       "      <td>0.333333</td>\n",
       "      <td>0.384921</td>\n",
       "      <td>0.202381</td>\n",
       "      <td>0.134921</td>\n",
       "      <td>0.075397</td>\n",
       "      <td>1.000000</td>\n",
       "      <td>0.420635</td>\n",
       "    </tr>\n",
       "    <tr>\n",
       "      <th>77</th>\n",
       "      <td>0.333333</td>\n",
       "      <td>0.384921</td>\n",
       "      <td>0.202381</td>\n",
       "      <td>0.134921</td>\n",
       "      <td>0.075397</td>\n",
       "      <td>1.000000</td>\n",
       "      <td>0.420635</td>\n",
       "      <td>0.361111</td>\n",
       "    </tr>\n",
       "    <tr>\n",
       "      <th>78</th>\n",
       "      <td>0.384921</td>\n",
       "      <td>0.202381</td>\n",
       "      <td>0.134921</td>\n",
       "      <td>0.075397</td>\n",
       "      <td>1.000000</td>\n",
       "      <td>0.420635</td>\n",
       "      <td>0.361111</td>\n",
       "      <td>0.345238</td>\n",
       "    </tr>\n",
       "    <tr>\n",
       "      <th>79</th>\n",
       "      <td>0.202381</td>\n",
       "      <td>0.134921</td>\n",
       "      <td>0.075397</td>\n",
       "      <td>1.000000</td>\n",
       "      <td>0.420635</td>\n",
       "      <td>0.361111</td>\n",
       "      <td>0.345238</td>\n",
       "      <td>0.710318</td>\n",
       "    </tr>\n",
       "    <tr>\n",
       "      <th>80</th>\n",
       "      <td>0.134921</td>\n",
       "      <td>0.075397</td>\n",
       "      <td>1.000000</td>\n",
       "      <td>0.420635</td>\n",
       "      <td>0.361111</td>\n",
       "      <td>0.345238</td>\n",
       "      <td>0.710318</td>\n",
       "      <td>0.111111</td>\n",
       "    </tr>\n",
       "  </tbody>\n",
       "</table>\n",
       "</div>"
      ],
      "text/plain": [
       "    var2(t-7)  var2(t-6)  var2(t-5)  var2(t-4)  var2(t-3)  var2(t-2)  \\\n",
       "76   0.202381   0.333333   0.384921   0.202381   0.134921   0.075397   \n",
       "77   0.333333   0.384921   0.202381   0.134921   0.075397   1.000000   \n",
       "78   0.384921   0.202381   0.134921   0.075397   1.000000   0.420635   \n",
       "79   0.202381   0.134921   0.075397   1.000000   0.420635   0.361111   \n",
       "80   0.134921   0.075397   1.000000   0.420635   0.361111   0.345238   \n",
       "\n",
       "    var2(t-1)   var2(t)  \n",
       "76   1.000000  0.420635  \n",
       "77   0.420635  0.361111  \n",
       "78   0.361111  0.345238  \n",
       "79   0.345238  0.710318  \n",
       "80   0.710318  0.111111  "
      ]
     },
     "execution_count": 22,
     "metadata": {},
     "output_type": "execute_result"
    }
   ],
   "source": [
    "#cambiamos el nombre de las columnas\n",
    "reframed_ine.columns = ['var2(t-7)', 'var2(t-6)', 'var2(t-5)', 'var2(t-4)', 'var2(t-3)', 'var2(t-2)', 'var2(t-1)', 'var2(t)']\n",
    "reframed_ine.tail()"
   ]
  },
  {
   "cell_type": "code",
   "execution_count": 23,
   "metadata": {
    "scrolled": false
   },
   "outputs": [
    {
     "data": {
      "text/html": [
       "<div>\n",
       "<style scoped>\n",
       "    .dataframe tbody tr th:only-of-type {\n",
       "        vertical-align: middle;\n",
       "    }\n",
       "\n",
       "    .dataframe tbody tr th {\n",
       "        vertical-align: top;\n",
       "    }\n",
       "\n",
       "    .dataframe thead th {\n",
       "        text-align: right;\n",
       "    }\n",
       "</style>\n",
       "<table border=\"1\" class=\"dataframe\">\n",
       "  <thead>\n",
       "    <tr style=\"text-align: right;\">\n",
       "      <th></th>\n",
       "      <th>var1(t-7)</th>\n",
       "      <th>var2(t-7)</th>\n",
       "      <th>var1(t-6)</th>\n",
       "      <th>var2(t-6)</th>\n",
       "      <th>var1(t-5)</th>\n",
       "      <th>var2(t-5)</th>\n",
       "      <th>var1(t-4)</th>\n",
       "      <th>var2(t-4)</th>\n",
       "      <th>var1(t-3)</th>\n",
       "      <th>var2(t-3)</th>\n",
       "      <th>var1(t-2)</th>\n",
       "      <th>var2(t-2)</th>\n",
       "      <th>var1(t-1)</th>\n",
       "      <th>var2(t-1)</th>\n",
       "      <th>var2(t)</th>\n",
       "    </tr>\n",
       "  </thead>\n",
       "  <tbody>\n",
       "    <tr>\n",
       "      <th>76</th>\n",
       "      <td>0.0</td>\n",
       "      <td>0.202381</td>\n",
       "      <td>-1.0</td>\n",
       "      <td>0.333333</td>\n",
       "      <td>-1.0</td>\n",
       "      <td>0.384921</td>\n",
       "      <td>0.0</td>\n",
       "      <td>0.202381</td>\n",
       "      <td>-1.0</td>\n",
       "      <td>0.134921</td>\n",
       "      <td>-1.0</td>\n",
       "      <td>0.075397</td>\n",
       "      <td>-1.0</td>\n",
       "      <td>1.000000</td>\n",
       "      <td>0.420635</td>\n",
       "    </tr>\n",
       "    <tr>\n",
       "      <th>77</th>\n",
       "      <td>-1.0</td>\n",
       "      <td>0.333333</td>\n",
       "      <td>-1.0</td>\n",
       "      <td>0.384921</td>\n",
       "      <td>0.0</td>\n",
       "      <td>0.202381</td>\n",
       "      <td>-1.0</td>\n",
       "      <td>0.134921</td>\n",
       "      <td>-1.0</td>\n",
       "      <td>0.075397</td>\n",
       "      <td>-1.0</td>\n",
       "      <td>1.000000</td>\n",
       "      <td>-1.0</td>\n",
       "      <td>0.420635</td>\n",
       "      <td>0.361111</td>\n",
       "    </tr>\n",
       "    <tr>\n",
       "      <th>78</th>\n",
       "      <td>-1.0</td>\n",
       "      <td>0.384921</td>\n",
       "      <td>0.0</td>\n",
       "      <td>0.202381</td>\n",
       "      <td>-1.0</td>\n",
       "      <td>0.134921</td>\n",
       "      <td>-1.0</td>\n",
       "      <td>0.075397</td>\n",
       "      <td>-1.0</td>\n",
       "      <td>1.000000</td>\n",
       "      <td>-1.0</td>\n",
       "      <td>0.420635</td>\n",
       "      <td>0.5</td>\n",
       "      <td>0.361111</td>\n",
       "      <td>0.345238</td>\n",
       "    </tr>\n",
       "    <tr>\n",
       "      <th>79</th>\n",
       "      <td>0.0</td>\n",
       "      <td>0.202381</td>\n",
       "      <td>-1.0</td>\n",
       "      <td>0.134921</td>\n",
       "      <td>-1.0</td>\n",
       "      <td>0.075397</td>\n",
       "      <td>-1.0</td>\n",
       "      <td>1.000000</td>\n",
       "      <td>-1.0</td>\n",
       "      <td>0.420635</td>\n",
       "      <td>0.5</td>\n",
       "      <td>0.361111</td>\n",
       "      <td>-0.5</td>\n",
       "      <td>0.345238</td>\n",
       "      <td>0.710318</td>\n",
       "    </tr>\n",
       "    <tr>\n",
       "      <th>80</th>\n",
       "      <td>-1.0</td>\n",
       "      <td>0.134921</td>\n",
       "      <td>-1.0</td>\n",
       "      <td>0.075397</td>\n",
       "      <td>-1.0</td>\n",
       "      <td>1.000000</td>\n",
       "      <td>-1.0</td>\n",
       "      <td>0.420635</td>\n",
       "      <td>0.5</td>\n",
       "      <td>0.361111</td>\n",
       "      <td>-0.5</td>\n",
       "      <td>0.345238</td>\n",
       "      <td>-1.0</td>\n",
       "      <td>0.710318</td>\n",
       "      <td>0.111111</td>\n",
       "    </tr>\n",
       "  </tbody>\n",
       "</table>\n",
       "</div>"
      ],
      "text/plain": [
       "    var1(t-7)  var2(t-7)  var1(t-6)  var2(t-6)  var1(t-5)  var2(t-5)  \\\n",
       "76        0.0   0.202381       -1.0   0.333333       -1.0   0.384921   \n",
       "77       -1.0   0.333333       -1.0   0.384921        0.0   0.202381   \n",
       "78       -1.0   0.384921        0.0   0.202381       -1.0   0.134921   \n",
       "79        0.0   0.202381       -1.0   0.134921       -1.0   0.075397   \n",
       "80       -1.0   0.134921       -1.0   0.075397       -1.0   1.000000   \n",
       "\n",
       "    var1(t-4)  var2(t-4)  var1(t-3)  var2(t-3)  var1(t-2)  var2(t-2)  \\\n",
       "76        0.0   0.202381       -1.0   0.134921       -1.0   0.075397   \n",
       "77       -1.0   0.134921       -1.0   0.075397       -1.0   1.000000   \n",
       "78       -1.0   0.075397       -1.0   1.000000       -1.0   0.420635   \n",
       "79       -1.0   1.000000       -1.0   0.420635        0.5   0.361111   \n",
       "80       -1.0   0.420635        0.5   0.361111       -0.5   0.345238   \n",
       "\n",
       "    var1(t-1)  var2(t-1)   var2(t)  \n",
       "76       -1.0   1.000000  0.420635  \n",
       "77       -1.0   0.420635  0.361111  \n",
       "78        0.5   0.361111  0.345238  \n",
       "79       -0.5   0.345238  0.710318  \n",
       "80       -1.0   0.710318  0.111111  "
      ]
     },
     "execution_count": 23,
     "metadata": {},
     "output_type": "execute_result"
    }
   ],
   "source": [
    "#unimos los datos del ine con los de twitter\n",
    "reframed = pd.concat([reframed_twt.iloc[:, 0], reframed_ine.iloc[:, 0]], axis=1)\n",
    "\n",
    "for i in range(6):\n",
    "    reframed = pd.concat([reframed, reframed_twt.iloc[:, i+1]], axis=1)\n",
    "    reframed = pd.concat([reframed, reframed_ine.iloc[:, i+1]], axis=1)\n",
    "    \n",
    "reframed = pd.concat([reframed, reframed_ine.iloc[:, 7]], axis=1)\n",
    "\n",
    "reframed.tail()"
   ]
  },
  {
   "cell_type": "markdown",
   "metadata": {},
   "source": [
    "# Dividimos los datos en sets de entrenamiento y validacion"
   ]
  },
  {
   "cell_type": "code",
   "execution_count": 24,
   "metadata": {},
   "outputs": [
    {
     "name": "stdout",
     "output_type": "stream",
     "text": [
      "(54, 1, 14) (54,) (20, 1, 14) (20,)\n"
     ]
    }
   ],
   "source": [
    "#dividimos nuestro valores entre sets de entrenamiento y de test\n",
    "values = reframed.values\n",
    "n_train_days = 71 - (10+look_back)\n",
    "train = values[:n_train_days, :]\n",
    "test = values[n_train_days:, :]\n",
    "\n",
    "# split into input and outputs\n",
    "x_train, y_train = train[:, :-1], train[:, -1]\n",
    "x_val, y_val = test[:, :-1], test[:, -1]\n",
    "\n",
    "# reshape input to be 3D [samples, timesteps, features] - preguntar\n",
    "x_train = x_train.reshape((x_train.shape[0], 1, x_train.shape[1]))\n",
    "x_val = x_val.reshape((x_val.shape[0], 1, x_val.shape[1]))\n",
    "print(x_train.shape, y_train.shape, x_val.shape, y_val.shape)"
   ]
  },
  {
   "cell_type": "markdown",
   "metadata": {},
   "source": [
    "# Creamos la red neuronal"
   ]
  },
  {
   "cell_type": "code",
   "execution_count": 25,
   "metadata": {},
   "outputs": [],
   "source": [
    "def crear_modeloFF():\n",
    "    model = Sequential() \n",
    "    model.add(Dense(look_back, input_shape=(1,look_back*2),activation='tanh'))\n",
    "    model.add(Flatten())\n",
    "    model.add(Dense(100, activation='tanh'))\n",
    "    model.add(Dropout(0.30))\n",
    "    model.add(Dense(100, activation='tanh'))\n",
    "    model.add(Dropout(0.30))\n",
    "    model.add(Dense(100, activation='tanh'))\n",
    "    model.add(Dropout(0.30))\n",
    "    model.add(Dense(100, activation='tanh'))\n",
    "    model.add(Dropout(0.30))\n",
    "    model.add(Dense(1, activation='tanh'))\n",
    "    model.compile(loss='mean_absolute_error',optimizer='Adam',metrics=[\"mse\"])\n",
    "    model.summary()\n",
    "    return model"
   ]
  },
  {
   "cell_type": "code",
   "execution_count": 26,
   "metadata": {},
   "outputs": [
    {
     "name": "stdout",
     "output_type": "stream",
     "text": [
      "Model: \"sequential\"\n",
      "_________________________________________________________________\n",
      "Layer (type)                 Output Shape              Param #   \n",
      "=================================================================\n",
      "dense (Dense)                (None, 1, 7)              105       \n",
      "_________________________________________________________________\n",
      "flatten (Flatten)            (None, 7)                 0         \n",
      "_________________________________________________________________\n",
      "dense_1 (Dense)              (None, 100)               800       \n",
      "_________________________________________________________________\n",
      "dropout (Dropout)            (None, 100)               0         \n",
      "_________________________________________________________________\n",
      "dense_2 (Dense)              (None, 100)               10100     \n",
      "_________________________________________________________________\n",
      "dropout_1 (Dropout)          (None, 100)               0         \n",
      "_________________________________________________________________\n",
      "dense_3 (Dense)              (None, 100)               10100     \n",
      "_________________________________________________________________\n",
      "dropout_2 (Dropout)          (None, 100)               0         \n",
      "_________________________________________________________________\n",
      "dense_4 (Dense)              (None, 100)               10100     \n",
      "_________________________________________________________________\n",
      "dropout_3 (Dropout)          (None, 100)               0         \n",
      "_________________________________________________________________\n",
      "dense_5 (Dense)              (None, 1)                 101       \n",
      "=================================================================\n",
      "Total params: 31,306\n",
      "Trainable params: 31,306\n",
      "Non-trainable params: 0\n",
      "_________________________________________________________________\n",
      "Epoch 1/200\n",
      "8/8 [==============================] - 3s 284ms/step - loss: 0.5171 - mse: 0.3636 - val_loss: 0.2478 - val_mse: 0.1263\n",
      "Epoch 2/200\n",
      "8/8 [==============================] - 0s 13ms/step - loss: 0.4947 - mse: 0.3695 - val_loss: 0.3114 - val_mse: 0.1359\n",
      "Epoch 3/200\n",
      "8/8 [==============================] - 0s 14ms/step - loss: 0.4484 - mse: 0.3150 - val_loss: 0.3051 - val_mse: 0.1326\n",
      "Epoch 4/200\n",
      "8/8 [==============================] - 0s 15ms/step - loss: 0.3674 - mse: 0.2010 - val_loss: 0.2931 - val_mse: 0.1187\n",
      "Epoch 5/200\n",
      "8/8 [==============================] - 0s 12ms/step - loss: 0.4179 - mse: 0.2845 - val_loss: 0.3254 - val_mse: 0.1673\n",
      "Epoch 6/200\n",
      "8/8 [==============================] - 0s 13ms/step - loss: 0.3892 - mse: 0.2163 - val_loss: 0.2875 - val_mse: 0.1248\n",
      "Epoch 7/200\n",
      "8/8 [==============================] - 0s 13ms/step - loss: 0.3210 - mse: 0.1723 - val_loss: 0.3134 - val_mse: 0.1241\n",
      "Epoch 8/200\n",
      "8/8 [==============================] - 0s 13ms/step - loss: 0.3916 - mse: 0.2112 - val_loss: 0.2910 - val_mse: 0.1208\n",
      "Epoch 9/200\n",
      "8/8 [==============================] - 0s 13ms/step - loss: 0.2939 - mse: 0.1506 - val_loss: 0.3130 - val_mse: 0.1321\n",
      "Epoch 10/200\n",
      "8/8 [==============================] - 0s 13ms/step - loss: 0.3498 - mse: 0.1761 - val_loss: 0.3180 - val_mse: 0.1450\n",
      "Epoch 11/200\n",
      "8/8 [==============================] - 0s 12ms/step - loss: 0.2750 - mse: 0.1228 - val_loss: 0.3427 - val_mse: 0.1728\n",
      "Epoch 12/200\n",
      "8/8 [==============================] - 0s 13ms/step - loss: 0.2610 - mse: 0.1121 - val_loss: 0.3453 - val_mse: 0.1560\n",
      "Epoch 13/200\n",
      "8/8 [==============================] - 0s 14ms/step - loss: 0.2793 - mse: 0.1295 - val_loss: 0.3404 - val_mse: 0.1802\n",
      "Epoch 14/200\n",
      "8/8 [==============================] - 0s 12ms/step - loss: 0.2385 - mse: 0.0986 - val_loss: 0.3544 - val_mse: 0.1742\n",
      "Epoch 15/200\n",
      "8/8 [==============================] - 0s 12ms/step - loss: 0.3193 - mse: 0.1468 - val_loss: 0.3117 - val_mse: 0.1369\n",
      "Epoch 16/200\n",
      "8/8 [==============================] - 0s 13ms/step - loss: 0.3301 - mse: 0.1690 - val_loss: 0.3028 - val_mse: 0.1270\n",
      "Epoch 17/200\n",
      "8/8 [==============================] - 0s 13ms/step - loss: 0.3496 - mse: 0.1730 - val_loss: 0.3070 - val_mse: 0.1317\n",
      "Epoch 18/200\n",
      "8/8 [==============================] - 0s 9ms/step - loss: 0.2762 - mse: 0.1266 - val_loss: 0.3237 - val_mse: 0.1418\n",
      "Epoch 19/200\n",
      "8/8 [==============================] - 0s 7ms/step - loss: 0.3087 - mse: 0.1459 - val_loss: 0.3480 - val_mse: 0.1634\n",
      "Epoch 20/200\n",
      "8/8 [==============================] - 0s 7ms/step - loss: 0.3470 - mse: 0.1637 - val_loss: 0.3266 - val_mse: 0.1452\n",
      "Epoch 21/200\n",
      "8/8 [==============================] - 0s 8ms/step - loss: 0.2696 - mse: 0.1373 - val_loss: 0.3451 - val_mse: 0.1526\n",
      "Epoch 22/200\n",
      "8/8 [==============================] - 0s 7ms/step - loss: 0.2853 - mse: 0.1259 - val_loss: 0.3109 - val_mse: 0.1335\n",
      "Epoch 23/200\n",
      "8/8 [==============================] - 0s 7ms/step - loss: 0.2644 - mse: 0.1163 - val_loss: 0.3099 - val_mse: 0.1516\n",
      "Epoch 24/200\n",
      "8/8 [==============================] - 0s 8ms/step - loss: 0.2806 - mse: 0.1179 - val_loss: 0.3221 - val_mse: 0.1455\n",
      "Epoch 25/200\n",
      "8/8 [==============================] - 0s 8ms/step - loss: 0.2884 - mse: 0.1123 - val_loss: 0.3335 - val_mse: 0.1542\n",
      "Epoch 26/200\n",
      "8/8 [==============================] - 0s 9ms/step - loss: 0.2337 - mse: 0.0974 - val_loss: 0.3067 - val_mse: 0.1498\n",
      "Epoch 27/200\n",
      "8/8 [==============================] - 0s 8ms/step - loss: 0.2770 - mse: 0.1237 - val_loss: 0.3057 - val_mse: 0.1362\n",
      "Epoch 28/200\n",
      "8/8 [==============================] - 0s 7ms/step - loss: 0.2303 - mse: 0.0838 - val_loss: 0.3095 - val_mse: 0.1399\n",
      "Epoch 29/200\n",
      "8/8 [==============================] - 0s 7ms/step - loss: 0.2562 - mse: 0.1080 - val_loss: 0.3166 - val_mse: 0.1409\n",
      "Epoch 30/200\n",
      "8/8 [==============================] - 0s 7ms/step - loss: 0.2646 - mse: 0.1119 - val_loss: 0.3427 - val_mse: 0.1543\n",
      "Epoch 31/200\n",
      "8/8 [==============================] - 0s 7ms/step - loss: 0.2487 - mse: 0.0836 - val_loss: 0.3507 - val_mse: 0.1687\n",
      "Epoch 32/200\n",
      "8/8 [==============================] - 0s 8ms/step - loss: 0.2157 - mse: 0.0745 - val_loss: 0.3537 - val_mse: 0.1787\n",
      "Epoch 33/200\n",
      "8/8 [==============================] - 0s 7ms/step - loss: 0.2456 - mse: 0.0926 - val_loss: 0.3325 - val_mse: 0.1534\n",
      "Epoch 34/200\n",
      "8/8 [==============================] - 0s 8ms/step - loss: 0.2294 - mse: 0.0881 - val_loss: 0.3255 - val_mse: 0.1544\n",
      "Epoch 35/200\n",
      "8/8 [==============================] - 0s 7ms/step - loss: 0.2164 - mse: 0.0835 - val_loss: 0.3231 - val_mse: 0.1552\n",
      "Epoch 36/200\n",
      "8/8 [==============================] - 0s 7ms/step - loss: 0.2011 - mse: 0.0731 - val_loss: 0.3253 - val_mse: 0.1559\n",
      "Epoch 37/200\n",
      "8/8 [==============================] - 0s 7ms/step - loss: 0.2722 - mse: 0.1140 - val_loss: 0.3524 - val_mse: 0.1840\n",
      "Epoch 38/200\n",
      "8/8 [==============================] - 0s 8ms/step - loss: 0.2039 - mse: 0.0667 - val_loss: 0.3526 - val_mse: 0.1876\n",
      "Epoch 39/200\n",
      "8/8 [==============================] - 0s 8ms/step - loss: 0.2331 - mse: 0.0905 - val_loss: 0.3366 - val_mse: 0.1673\n",
      "Epoch 40/200\n",
      "8/8 [==============================] - 0s 7ms/step - loss: 0.2547 - mse: 0.0951 - val_loss: 0.3249 - val_mse: 0.1481\n",
      "Epoch 41/200\n",
      "8/8 [==============================] - 0s 7ms/step - loss: 0.2519 - mse: 0.0992 - val_loss: 0.3172 - val_mse: 0.1539\n",
      "Epoch 42/200\n",
      "8/8 [==============================] - 0s 7ms/step - loss: 0.2288 - mse: 0.0825 - val_loss: 0.3202 - val_mse: 0.1499\n",
      "Epoch 43/200\n",
      "8/8 [==============================] - 0s 7ms/step - loss: 0.2172 - mse: 0.0793 - val_loss: 0.3453 - val_mse: 0.1629\n",
      "Epoch 44/200\n",
      "8/8 [==============================] - 0s 7ms/step - loss: 0.2560 - mse: 0.0984 - val_loss: 0.3331 - val_mse: 0.1539\n",
      "Epoch 45/200\n",
      "8/8 [==============================] - 0s 7ms/step - loss: 0.2182 - mse: 0.0836 - val_loss: 0.3095 - val_mse: 0.1446\n",
      "Epoch 46/200\n",
      "8/8 [==============================] - 0s 7ms/step - loss: 0.2327 - mse: 0.0870 - val_loss: 0.3138 - val_mse: 0.1479\n",
      "Epoch 47/200\n",
      "8/8 [==============================] - 0s 7ms/step - loss: 0.2614 - mse: 0.1045 - val_loss: 0.3462 - val_mse: 0.1715\n",
      "Epoch 48/200\n",
      "8/8 [==============================] - 0s 10ms/step - loss: 0.2296 - mse: 0.0799 - val_loss: 0.3613 - val_mse: 0.1858\n",
      "Epoch 49/200\n",
      "8/8 [==============================] - 0s 8ms/step - loss: 0.2538 - mse: 0.0928 - val_loss: 0.3616 - val_mse: 0.1887\n",
      "Epoch 50/200\n"
     ]
    },
    {
     "name": "stdout",
     "output_type": "stream",
     "text": [
      "8/8 [==============================] - 0s 7ms/step - loss: 0.2288 - mse: 0.0846 - val_loss: 0.3419 - val_mse: 0.1756\n",
      "Epoch 51/200\n",
      "8/8 [==============================] - 0s 7ms/step - loss: 0.2896 - mse: 0.1226 - val_loss: 0.3429 - val_mse: 0.1716\n",
      "Epoch 52/200\n",
      "8/8 [==============================] - 0s 7ms/step - loss: 0.2651 - mse: 0.1017 - val_loss: 0.3306 - val_mse: 0.1648\n",
      "Epoch 53/200\n",
      "8/8 [==============================] - 0s 7ms/step - loss: 0.2481 - mse: 0.1006 - val_loss: 0.3343 - val_mse: 0.1714\n",
      "Epoch 54/200\n",
      "8/8 [==============================] - 0s 7ms/step - loss: 0.2355 - mse: 0.0818 - val_loss: 0.3315 - val_mse: 0.1664\n",
      "Epoch 55/200\n",
      "8/8 [==============================] - 0s 7ms/step - loss: 0.2058 - mse: 0.0635 - val_loss: 0.3163 - val_mse: 0.1538\n",
      "Epoch 56/200\n",
      "8/8 [==============================] - 0s 7ms/step - loss: 0.1886 - mse: 0.0576 - val_loss: 0.3306 - val_mse: 0.1592\n",
      "Epoch 57/200\n",
      "8/8 [==============================] - 0s 7ms/step - loss: 0.2167 - mse: 0.0837 - val_loss: 0.3430 - val_mse: 0.1693\n",
      "Epoch 58/200\n",
      "8/8 [==============================] - 0s 7ms/step - loss: 0.1880 - mse: 0.0630 - val_loss: 0.3327 - val_mse: 0.1691\n",
      "Epoch 59/200\n",
      "8/8 [==============================] - 0s 8ms/step - loss: 0.1913 - mse: 0.0619 - val_loss: 0.3593 - val_mse: 0.1826\n",
      "Epoch 60/200\n",
      "8/8 [==============================] - 0s 7ms/step - loss: 0.1888 - mse: 0.0658 - val_loss: 0.3580 - val_mse: 0.1839\n",
      "Epoch 61/200\n",
      "8/8 [==============================] - 0s 7ms/step - loss: 0.2417 - mse: 0.1016 - val_loss: 0.3453 - val_mse: 0.1782\n",
      "Epoch 62/200\n",
      "8/8 [==============================] - 0s 7ms/step - loss: 0.1794 - mse: 0.0514 - val_loss: 0.3397 - val_mse: 0.1754\n",
      "Epoch 63/200\n",
      "8/8 [==============================] - 0s 8ms/step - loss: 0.1715 - mse: 0.0455 - val_loss: 0.3235 - val_mse: 0.1602\n",
      "Epoch 64/200\n",
      "8/8 [==============================] - 0s 7ms/step - loss: 0.1832 - mse: 0.0550 - val_loss: 0.3413 - val_mse: 0.1635\n",
      "Epoch 65/200\n",
      "8/8 [==============================] - 0s 7ms/step - loss: 0.2314 - mse: 0.0863 - val_loss: 0.3214 - val_mse: 0.1602\n",
      "Epoch 66/200\n",
      "8/8 [==============================] - 0s 7ms/step - loss: 0.1769 - mse: 0.0486 - val_loss: 0.3381 - val_mse: 0.1734\n",
      "Epoch 67/200\n",
      "8/8 [==============================] - 0s 7ms/step - loss: 0.1927 - mse: 0.0518 - val_loss: 0.3608 - val_mse: 0.1882\n",
      "Epoch 68/200\n",
      "8/8 [==============================] - 0s 7ms/step - loss: 0.2188 - mse: 0.0628 - val_loss: 0.3611 - val_mse: 0.1806\n",
      "Epoch 69/200\n",
      "8/8 [==============================] - 0s 7ms/step - loss: 0.1933 - mse: 0.0603 - val_loss: 0.3339 - val_mse: 0.1670\n",
      "Epoch 70/200\n",
      "8/8 [==============================] - 0s 7ms/step - loss: 0.2051 - mse: 0.0726 - val_loss: 0.3381 - val_mse: 0.1732\n",
      "Epoch 71/200\n",
      "8/8 [==============================] - 0s 8ms/step - loss: 0.1770 - mse: 0.0492 - val_loss: 0.3120 - val_mse: 0.1519\n",
      "Epoch 72/200\n",
      "8/8 [==============================] - 0s 7ms/step - loss: 0.1908 - mse: 0.0544 - val_loss: 0.3216 - val_mse: 0.1498\n",
      "Epoch 73/200\n",
      "8/8 [==============================] - 0s 7ms/step - loss: 0.2116 - mse: 0.0710 - val_loss: 0.3329 - val_mse: 0.1630\n",
      "Epoch 74/200\n",
      "8/8 [==============================] - 0s 7ms/step - loss: 0.2316 - mse: 0.0799 - val_loss: 0.3522 - val_mse: 0.1731\n",
      "Epoch 75/200\n",
      "8/8 [==============================] - 0s 8ms/step - loss: 0.1684 - mse: 0.0514 - val_loss: 0.3490 - val_mse: 0.1690\n",
      "Epoch 76/200\n",
      "8/8 [==============================] - 0s 7ms/step - loss: 0.2045 - mse: 0.0585 - val_loss: 0.3592 - val_mse: 0.1811\n",
      "Epoch 77/200\n",
      "8/8 [==============================] - 0s 7ms/step - loss: 0.1958 - mse: 0.0563 - val_loss: 0.3546 - val_mse: 0.1822\n",
      "Epoch 78/200\n",
      "8/8 [==============================] - 0s 7ms/step - loss: 0.2184 - mse: 0.0684 - val_loss: 0.3430 - val_mse: 0.1702\n",
      "Epoch 79/200\n",
      "8/8 [==============================] - 0s 7ms/step - loss: 0.1707 - mse: 0.0476 - val_loss: 0.3408 - val_mse: 0.1669\n",
      "Epoch 80/200\n",
      "8/8 [==============================] - 0s 8ms/step - loss: 0.1741 - mse: 0.0529 - val_loss: 0.3221 - val_mse: 0.1569\n",
      "Epoch 81/200\n",
      "8/8 [==============================] - 0s 7ms/step - loss: 0.2336 - mse: 0.0919 - val_loss: 0.3161 - val_mse: 0.1485\n",
      "Epoch 82/200\n",
      "8/8 [==============================] - 0s 7ms/step - loss: 0.1768 - mse: 0.0493 - val_loss: 0.3108 - val_mse: 0.1438\n",
      "Epoch 83/200\n",
      "8/8 [==============================] - 0s 7ms/step - loss: 0.2044 - mse: 0.0580 - val_loss: 0.3291 - val_mse: 0.1587\n",
      "Epoch 84/200\n",
      "8/8 [==============================] - 0s 7ms/step - loss: 0.1628 - mse: 0.0483 - val_loss: 0.3239 - val_mse: 0.1575\n",
      "Epoch 85/200\n",
      "8/8 [==============================] - 0s 7ms/step - loss: 0.2103 - mse: 0.0677 - val_loss: 0.3173 - val_mse: 0.1551\n",
      "Epoch 86/200\n",
      "8/8 [==============================] - 0s 7ms/step - loss: 0.1567 - mse: 0.0414 - val_loss: 0.3278 - val_mse: 0.1611\n",
      "Epoch 87/200\n",
      "8/8 [==============================] - 0s 7ms/step - loss: 0.1814 - mse: 0.0584 - val_loss: 0.3146 - val_mse: 0.1461\n",
      "Epoch 88/200\n",
      "8/8 [==============================] - 0s 7ms/step - loss: 0.2262 - mse: 0.0772 - val_loss: 0.3160 - val_mse: 0.1460\n",
      "Epoch 89/200\n",
      "8/8 [==============================] - 0s 7ms/step - loss: 0.1881 - mse: 0.0503 - val_loss: 0.3182 - val_mse: 0.1548\n",
      "Epoch 90/200\n",
      "8/8 [==============================] - 0s 8ms/step - loss: 0.2092 - mse: 0.0694 - val_loss: 0.3263 - val_mse: 0.1631\n",
      "Epoch 91/200\n",
      "8/8 [==============================] - 0s 7ms/step - loss: 0.1617 - mse: 0.0434 - val_loss: 0.3356 - val_mse: 0.1645\n",
      "Epoch 92/200\n",
      "8/8 [==============================] - 0s 7ms/step - loss: 0.2204 - mse: 0.0773 - val_loss: 0.3496 - val_mse: 0.1740\n",
      "Epoch 93/200\n",
      "8/8 [==============================] - 0s 7ms/step - loss: 0.1840 - mse: 0.0489 - val_loss: 0.3623 - val_mse: 0.1821\n",
      "Epoch 94/200\n",
      "8/8 [==============================] - 0s 7ms/step - loss: 0.1756 - mse: 0.0533 - val_loss: 0.3373 - val_mse: 0.1650\n",
      "Epoch 95/200\n",
      "8/8 [==============================] - 0s 7ms/step - loss: 0.1637 - mse: 0.0486 - val_loss: 0.3268 - val_mse: 0.1694\n",
      "Epoch 96/200\n",
      "8/8 [==============================] - 0s 7ms/step - loss: 0.1648 - mse: 0.0471 - val_loss: 0.3590 - val_mse: 0.1963\n",
      "Epoch 97/200\n",
      "8/8 [==============================] - 0s 7ms/step - loss: 0.1855 - mse: 0.0576 - val_loss: 0.3479 - val_mse: 0.1787\n",
      "Epoch 98/200\n",
      "8/8 [==============================] - 0s 7ms/step - loss: 0.2251 - mse: 0.0812 - val_loss: 0.3297 - val_mse: 0.1606\n",
      "Epoch 99/200\n",
      "8/8 [==============================] - 0s 8ms/step - loss: 0.1712 - mse: 0.0522 - val_loss: 0.3411 - val_mse: 0.1689\n",
      "Epoch 100/200\n",
      "8/8 [==============================] - 0s 7ms/step - loss: 0.2401 - mse: 0.0887 - val_loss: 0.3559 - val_mse: 0.1831\n",
      "Epoch 101/200\n",
      "8/8 [==============================] - 0s 7ms/step - loss: 0.1719 - mse: 0.0499 - val_loss: 0.3199 - val_mse: 0.1571\n",
      "Epoch 102/200\n",
      "8/8 [==============================] - 0s 7ms/step - loss: 0.1803 - mse: 0.0582 - val_loss: 0.3153 - val_mse: 0.1562\n",
      "Epoch 103/200\n",
      "8/8 [==============================] - 0s 7ms/step - loss: 0.1904 - mse: 0.0748 - val_loss: 0.3128 - val_mse: 0.1489\n",
      "Epoch 104/200\n",
      "8/8 [==============================] - 0s 7ms/step - loss: 0.1979 - mse: 0.0599 - val_loss: 0.3235 - val_mse: 0.1536\n",
      "Epoch 105/200\n",
      "8/8 [==============================] - 0s 7ms/step - loss: 0.1946 - mse: 0.0610 - val_loss: 0.3367 - val_mse: 0.1626\n",
      "Epoch 106/200\n",
      "8/8 [==============================] - 0s 7ms/step - loss: 0.1601 - mse: 0.0397 - val_loss: 0.3371 - val_mse: 0.1660\n",
      "Epoch 107/200\n",
      "8/8 [==============================] - 0s 7ms/step - loss: 0.1860 - mse: 0.0600 - val_loss: 0.3345 - val_mse: 0.1655\n",
      "Epoch 108/200\n",
      "8/8 [==============================] - 0s 7ms/step - loss: 0.1889 - mse: 0.0580 - val_loss: 0.3277 - val_mse: 0.1542\n",
      "Epoch 109/200\n",
      "8/8 [==============================] - 0s 7ms/step - loss: 0.2123 - mse: 0.0688 - val_loss: 0.3304 - val_mse: 0.1575\n",
      "Epoch 110/200\n",
      "8/8 [==============================] - 0s 7ms/step - loss: 0.1711 - mse: 0.0613 - val_loss: 0.3194 - val_mse: 0.1523\n",
      "Epoch 111/200\n",
      "8/8 [==============================] - 0s 7ms/step - loss: 0.2043 - mse: 0.0791 - val_loss: 0.3182 - val_mse: 0.1549\n",
      "Epoch 112/200\n",
      "8/8 [==============================] - 0s 7ms/step - loss: 0.1410 - mse: 0.0362 - val_loss: 0.3296 - val_mse: 0.1621\n",
      "Epoch 113/200\n"
     ]
    },
    {
     "name": "stdout",
     "output_type": "stream",
     "text": [
      "8/8 [==============================] - 0s 7ms/step - loss: 0.1861 - mse: 0.0548 - val_loss: 0.3457 - val_mse: 0.1730\n",
      "Epoch 114/200\n",
      "8/8 [==============================] - 0s 7ms/step - loss: 0.1733 - mse: 0.0516 - val_loss: 0.3467 - val_mse: 0.1796\n",
      "Epoch 115/200\n",
      "8/8 [==============================] - 0s 7ms/step - loss: 0.1631 - mse: 0.0434 - val_loss: 0.3352 - val_mse: 0.1623\n",
      "Epoch 116/200\n",
      "8/8 [==============================] - 0s 7ms/step - loss: 0.1813 - mse: 0.0527 - val_loss: 0.3238 - val_mse: 0.1527\n",
      "Epoch 117/200\n",
      "8/8 [==============================] - 0s 7ms/step - loss: 0.1902 - mse: 0.0598 - val_loss: 0.3291 - val_mse: 0.1576\n",
      "Epoch 118/200\n",
      "8/8 [==============================] - 0s 7ms/step - loss: 0.1560 - mse: 0.0424 - val_loss: 0.3347 - val_mse: 0.1626\n",
      "Epoch 119/200\n",
      "8/8 [==============================] - 0s 7ms/step - loss: 0.1877 - mse: 0.0557 - val_loss: 0.3263 - val_mse: 0.1522\n",
      "Epoch 120/200\n",
      "8/8 [==============================] - 0s 7ms/step - loss: 0.1986 - mse: 0.0643 - val_loss: 0.3249 - val_mse: 0.1492\n",
      "Epoch 121/200\n",
      "8/8 [==============================] - 0s 7ms/step - loss: 0.1586 - mse: 0.0391 - val_loss: 0.3152 - val_mse: 0.1461\n",
      "Epoch 122/200\n",
      "8/8 [==============================] - 0s 7ms/step - loss: 0.1696 - mse: 0.0482 - val_loss: 0.3137 - val_mse: 0.1512\n",
      "Epoch 123/200\n",
      "8/8 [==============================] - 0s 7ms/step - loss: 0.1522 - mse: 0.0474 - val_loss: 0.3204 - val_mse: 0.1615\n",
      "Epoch 124/200\n",
      "8/8 [==============================] - 0s 8ms/step - loss: 0.2046 - mse: 0.0704 - val_loss: 0.3216 - val_mse: 0.1582\n",
      "Epoch 125/200\n",
      "8/8 [==============================] - 0s 7ms/step - loss: 0.1733 - mse: 0.0475 - val_loss: 0.3309 - val_mse: 0.1593\n",
      "Epoch 126/200\n",
      "8/8 [==============================] - 0s 7ms/step - loss: 0.1429 - mse: 0.0317 - val_loss: 0.3362 - val_mse: 0.1603\n",
      "Epoch 127/200\n",
      "8/8 [==============================] - 0s 8ms/step - loss: 0.1900 - mse: 0.0622 - val_loss: 0.3227 - val_mse: 0.1537\n",
      "Epoch 128/200\n",
      "8/8 [==============================] - 0s 7ms/step - loss: 0.1631 - mse: 0.0419 - val_loss: 0.3203 - val_mse: 0.1590\n",
      "Epoch 129/200\n",
      "8/8 [==============================] - 0s 7ms/step - loss: 0.1930 - mse: 0.0623 - val_loss: 0.3173 - val_mse: 0.1543\n",
      "Epoch 130/200\n",
      "8/8 [==============================] - 0s 7ms/step - loss: 0.1539 - mse: 0.0481 - val_loss: 0.3182 - val_mse: 0.1580\n",
      "Epoch 131/200\n",
      "8/8 [==============================] - 0s 7ms/step - loss: 0.1754 - mse: 0.0466 - val_loss: 0.3224 - val_mse: 0.1564\n",
      "Epoch 132/200\n",
      "8/8 [==============================] - 0s 8ms/step - loss: 0.1556 - mse: 0.0553 - val_loss: 0.3270 - val_mse: 0.1651\n",
      "Epoch 133/200\n",
      "8/8 [==============================] - 0s 7ms/step - loss: 0.1492 - mse: 0.0394 - val_loss: 0.3022 - val_mse: 0.1431\n",
      "Epoch 134/200\n",
      "8/8 [==============================] - 0s 7ms/step - loss: 0.1830 - mse: 0.0534 - val_loss: 0.3051 - val_mse: 0.1412\n",
      "Epoch 135/200\n",
      "8/8 [==============================] - 0s 7ms/step - loss: 0.1508 - mse: 0.0399 - val_loss: 0.3086 - val_mse: 0.1442\n",
      "Epoch 136/200\n",
      "8/8 [==============================] - 0s 7ms/step - loss: 0.1959 - mse: 0.0804 - val_loss: 0.3234 - val_mse: 0.1553\n",
      "Epoch 137/200\n",
      "8/8 [==============================] - 0s 8ms/step - loss: 0.1602 - mse: 0.0420 - val_loss: 0.3094 - val_mse: 0.1496\n",
      "Epoch 138/200\n",
      "8/8 [==============================] - 0s 7ms/step - loss: 0.1622 - mse: 0.0414 - val_loss: 0.3103 - val_mse: 0.1447\n",
      "Epoch 139/200\n",
      "8/8 [==============================] - 0s 7ms/step - loss: 0.1888 - mse: 0.0568 - val_loss: 0.3164 - val_mse: 0.1469\n",
      "Epoch 140/200\n",
      "8/8 [==============================] - 0s 8ms/step - loss: 0.1601 - mse: 0.0423 - val_loss: 0.3051 - val_mse: 0.1518\n",
      "Epoch 141/200\n",
      "8/8 [==============================] - 0s 7ms/step - loss: 0.1655 - mse: 0.0401 - val_loss: 0.3105 - val_mse: 0.1532\n",
      "Epoch 142/200\n",
      "8/8 [==============================] - 0s 8ms/step - loss: 0.1566 - mse: 0.0479 - val_loss: 0.3227 - val_mse: 0.1510\n",
      "Epoch 143/200\n",
      "8/8 [==============================] - 0s 7ms/step - loss: 0.1705 - mse: 0.0489 - val_loss: 0.3168 - val_mse: 0.1445\n",
      "Epoch 144/200\n",
      "8/8 [==============================] - 0s 7ms/step - loss: 0.1442 - mse: 0.0418 - val_loss: 0.2964 - val_mse: 0.1362\n",
      "Epoch 145/200\n",
      "8/8 [==============================] - 0s 8ms/step - loss: 0.1550 - mse: 0.0429 - val_loss: 0.2892 - val_mse: 0.1301\n",
      "Epoch 146/200\n",
      "8/8 [==============================] - 0s 8ms/step - loss: 0.1750 - mse: 0.0595 - val_loss: 0.3091 - val_mse: 0.1455\n",
      "Epoch 147/200\n",
      "8/8 [==============================] - 0s 7ms/step - loss: 0.1521 - mse: 0.0384 - val_loss: 0.3103 - val_mse: 0.1482\n",
      "Epoch 148/200\n",
      "8/8 [==============================] - 0s 7ms/step - loss: 0.1466 - mse: 0.0398 - val_loss: 0.3361 - val_mse: 0.1617\n",
      "Epoch 149/200\n",
      "8/8 [==============================] - 0s 7ms/step - loss: 0.1746 - mse: 0.0498 - val_loss: 0.3508 - val_mse: 0.1701\n",
      "Epoch 150/200\n",
      "8/8 [==============================] - 0s 8ms/step - loss: 0.1727 - mse: 0.0533 - val_loss: 0.3392 - val_mse: 0.1766\n",
      "Epoch 151/200\n",
      "8/8 [==============================] - 0s 7ms/step - loss: 0.1789 - mse: 0.0459 - val_loss: 0.3337 - val_mse: 0.1641\n",
      "Epoch 152/200\n",
      "8/8 [==============================] - 0s 7ms/step - loss: 0.1602 - mse: 0.0388 - val_loss: 0.3389 - val_mse: 0.1558\n",
      "Epoch 153/200\n",
      "8/8 [==============================] - 0s 7ms/step - loss: 0.1781 - mse: 0.0614 - val_loss: 0.3157 - val_mse: 0.1626\n",
      "Epoch 154/200\n",
      "8/8 [==============================] - 0s 7ms/step - loss: 0.1620 - mse: 0.0502 - val_loss: 0.3333 - val_mse: 0.1680\n",
      "Epoch 155/200\n",
      "8/8 [==============================] - 0s 7ms/step - loss: 0.1530 - mse: 0.0389 - val_loss: 0.3511 - val_mse: 0.1746\n",
      "Epoch 156/200\n",
      "8/8 [==============================] - 0s 7ms/step - loss: 0.1839 - mse: 0.0541 - val_loss: 0.3263 - val_mse: 0.1579\n",
      "Epoch 157/200\n",
      "8/8 [==============================] - 0s 8ms/step - loss: 0.1950 - mse: 0.0746 - val_loss: 0.2926 - val_mse: 0.1554\n",
      "Epoch 158/200\n",
      "8/8 [==============================] - 0s 7ms/step - loss: 0.1549 - mse: 0.0395 - val_loss: 0.3035 - val_mse: 0.1543\n",
      "Epoch 159/200\n",
      "8/8 [==============================] - 0s 7ms/step - loss: 0.1623 - mse: 0.0519 - val_loss: 0.3161 - val_mse: 0.1539\n",
      "Epoch 160/200\n",
      "8/8 [==============================] - 0s 7ms/step - loss: 0.1518 - mse: 0.0438 - val_loss: 0.3289 - val_mse: 0.1636\n",
      "Epoch 161/200\n",
      "8/8 [==============================] - 0s 7ms/step - loss: 0.1703 - mse: 0.0457 - val_loss: 0.3328 - val_mse: 0.1650\n",
      "Epoch 162/200\n",
      "8/8 [==============================] - 0s 7ms/step - loss: 0.1335 - mse: 0.0342 - val_loss: 0.3190 - val_mse: 0.1593\n",
      "Epoch 163/200\n",
      "8/8 [==============================] - 0s 7ms/step - loss: 0.1686 - mse: 0.0620 - val_loss: 0.3161 - val_mse: 0.1517\n",
      "Epoch 164/200\n",
      "8/8 [==============================] - 0s 8ms/step - loss: 0.1775 - mse: 0.0502 - val_loss: 0.3152 - val_mse: 0.1556\n",
      "Epoch 165/200\n",
      "8/8 [==============================] - 0s 7ms/step - loss: 0.1364 - mse: 0.0355 - val_loss: 0.3197 - val_mse: 0.1580\n",
      "Epoch 166/200\n",
      "8/8 [==============================] - 0s 7ms/step - loss: 0.1580 - mse: 0.0448 - val_loss: 0.3318 - val_mse: 0.1639\n",
      "Epoch 167/200\n",
      "8/8 [==============================] - 0s 7ms/step - loss: 0.1547 - mse: 0.0480 - val_loss: 0.3317 - val_mse: 0.1601\n",
      "Epoch 168/200\n",
      "8/8 [==============================] - 0s 7ms/step - loss: 0.1503 - mse: 0.0358 - val_loss: 0.3076 - val_mse: 0.1430\n",
      "Epoch 169/200\n",
      "8/8 [==============================] - 0s 7ms/step - loss: 0.1825 - mse: 0.0526 - val_loss: 0.2962 - val_mse: 0.1403\n",
      "Epoch 170/200\n",
      "8/8 [==============================] - 0s 7ms/step - loss: 0.1762 - mse: 0.0551 - val_loss: 0.2970 - val_mse: 0.1435\n",
      "Epoch 171/200\n",
      "8/8 [==============================] - 0s 7ms/step - loss: 0.1764 - mse: 0.0521 - val_loss: 0.3262 - val_mse: 0.1566\n",
      "Epoch 172/200\n",
      "8/8 [==============================] - 0s 7ms/step - loss: 0.1975 - mse: 0.0648 - val_loss: 0.3303 - val_mse: 0.1597\n",
      "Epoch 173/200\n",
      "8/8 [==============================] - 0s 8ms/step - loss: 0.1579 - mse: 0.0397 - val_loss: 0.3209 - val_mse: 0.1551\n",
      "Epoch 174/200\n",
      "8/8 [==============================] - 0s 8ms/step - loss: 0.1833 - mse: 0.0542 - val_loss: 0.3125 - val_mse: 0.1489\n",
      "Epoch 175/200\n",
      "8/8 [==============================] - 0s 7ms/step - loss: 0.1650 - mse: 0.0524 - val_loss: 0.2863 - val_mse: 0.1368\n",
      "Epoch 176/200\n",
      "8/8 [==============================] - 0s 7ms/step - loss: 0.1753 - mse: 0.0562 - val_loss: 0.2828 - val_mse: 0.1323\n",
      "Epoch 177/200\n",
      "8/8 [==============================] - 0s 8ms/step - loss: 0.1546 - mse: 0.0386 - val_loss: 0.2921 - val_mse: 0.1343\n",
      "Epoch 178/200\n",
      "8/8 [==============================] - 0s 7ms/step - loss: 0.1708 - mse: 0.0459 - val_loss: 0.2943 - val_mse: 0.1317\n",
      "Epoch 179/200\n",
      "8/8 [==============================] - 0s 7ms/step - loss: 0.1666 - mse: 0.0477 - val_loss: 0.3010 - val_mse: 0.1381\n",
      "Epoch 180/200\n",
      "8/8 [==============================] - 0s 7ms/step - loss: 0.1504 - mse: 0.0405 - val_loss: 0.3084 - val_mse: 0.1429\n",
      "Epoch 181/200\n",
      "8/8 [==============================] - 0s 8ms/step - loss: 0.1548 - mse: 0.0405 - val_loss: 0.3148 - val_mse: 0.1461\n",
      "Epoch 182/200\n",
      "8/8 [==============================] - 0s 8ms/step - loss: 0.1783 - mse: 0.0505 - val_loss: 0.3092 - val_mse: 0.1439\n",
      "Epoch 183/200\n",
      "8/8 [==============================] - 0s 8ms/step - loss: 0.1767 - mse: 0.0570 - val_loss: 0.2958 - val_mse: 0.1348\n",
      "Epoch 184/200\n",
      "8/8 [==============================] - 0s 7ms/step - loss: 0.1676 - mse: 0.0453 - val_loss: 0.2922 - val_mse: 0.1342\n",
      "Epoch 185/200\n",
      "8/8 [==============================] - 0s 7ms/step - loss: 0.1596 - mse: 0.0441 - val_loss: 0.2823 - val_mse: 0.1346\n",
      "Epoch 186/200\n",
      "8/8 [==============================] - 0s 7ms/step - loss: 0.1461 - mse: 0.0388 - val_loss: 0.2983 - val_mse: 0.1296\n",
      "Epoch 187/200\n",
      "8/8 [==============================] - 0s 7ms/step - loss: 0.1624 - mse: 0.0370 - val_loss: 0.2892 - val_mse: 0.1302\n",
      "Epoch 188/200\n",
      "8/8 [==============================] - 0s 7ms/step - loss: 0.2059 - mse: 0.0665 - val_loss: 0.2962 - val_mse: 0.1396\n",
      "Epoch 189/200\n",
      "8/8 [==============================] - 0s 7ms/step - loss: 0.1589 - mse: 0.0456 - val_loss: 0.3016 - val_mse: 0.1393\n",
      "Epoch 190/200\n",
      "8/8 [==============================] - 0s 7ms/step - loss: 0.1571 - mse: 0.0405 - val_loss: 0.3055 - val_mse: 0.1367\n",
      "Epoch 191/200\n",
      "8/8 [==============================] - 0s 8ms/step - loss: 0.1798 - mse: 0.0530 - val_loss: 0.3004 - val_mse: 0.1411\n",
      "Epoch 192/200\n",
      "8/8 [==============================] - 0s 7ms/step - loss: 0.1986 - mse: 0.0650 - val_loss: 0.2967 - val_mse: 0.1395\n",
      "Epoch 193/200\n",
      "8/8 [==============================] - 0s 7ms/step - loss: 0.1482 - mse: 0.0396 - val_loss: 0.2884 - val_mse: 0.1341\n",
      "Epoch 194/200\n",
      "8/8 [==============================] - 0s 8ms/step - loss: 0.1496 - mse: 0.0458 - val_loss: 0.2981 - val_mse: 0.1360\n",
      "Epoch 195/200\n",
      "8/8 [==============================] - 0s 7ms/step - loss: 0.1418 - mse: 0.0345 - val_loss: 0.2894 - val_mse: 0.1313\n",
      "Epoch 196/200\n",
      "8/8 [==============================] - 0s 7ms/step - loss: 0.1961 - mse: 0.0602 - val_loss: 0.2986 - val_mse: 0.1326\n",
      "Epoch 197/200\n",
      "8/8 [==============================] - 0s 8ms/step - loss: 0.1384 - mse: 0.0381 - val_loss: 0.2912 - val_mse: 0.1337\n",
      "Epoch 198/200\n",
      "8/8 [==============================] - 0s 7ms/step - loss: 0.1669 - mse: 0.0453 - val_loss: 0.2981 - val_mse: 0.1370\n",
      "Epoch 199/200\n",
      "8/8 [==============================] - 0s 7ms/step - loss: 0.1323 - mse: 0.0329 - val_loss: 0.3034 - val_mse: 0.1410\n",
      "Epoch 200/200\n",
      "8/8 [==============================] - 0s 7ms/step - loss: 0.1673 - mse: 0.0500 - val_loss: 0.2869 - val_mse: 0.1331\n"
     ]
    }
   ],
   "source": [
    "EPOCHS=200\n",
    "\n",
    "model = crear_modeloFF()\n",
    "\n",
    "history=model.fit(x_train,y_train,epochs=EPOCHS,validation_data=(x_val,y_val),batch_size=look_back)"
   ]
  },
  {
   "cell_type": "markdown",
   "metadata": {},
   "source": [
    "# Visualizamos resultados"
   ]
  },
  {
   "cell_type": "code",
   "execution_count": 27,
   "metadata": {},
   "outputs": [],
   "source": [
    "def mape(actual, pred): \n",
    "    actual, pred = np.array(actual), np.array(pred)\n",
    "    return np.mean(np.abs((actual - pred) / actual)) * 100\n",
    "\n",
    "\n",
    "def compute_metrics_fn(y_valid_resc, y_hat_resc):\n",
    "    mae_ = mean_absolute_error(y_valid_resc, y_hat_resc)\n",
    "    mse_ = mean_squared_error(y_valid_resc, y_hat_resc)\n",
    "    rmse_ = mean_squared_error(y_valid_resc, y_hat_resc, squared = False)\n",
    "    cvrmse_ = rmse_/np.mean(y_valid_resc)*100\n",
    "    mape_ = mape(y_valid_resc, y_hat_resc)\n",
    "    \n",
    "    return mae_, mse_, rmse_, cvrmse_, mape_"
   ]
  },
  {
   "cell_type": "code",
   "execution_count": 28,
   "metadata": {},
   "outputs": [],
   "source": [
    "# hacemos las predicciones\n",
    "trainPredict = model.predict(x_train)\n",
    "testPredict = model.predict(x_val)\n",
    "\n",
    "# invertimos las predicciones\n",
    "trainPredict = scaler.inverse_transform(trainPredict)\n",
    "trainY = y_train.reshape(y_train.shape[0], 1)\n",
    "trainY_scalerInverse = scaler.inverse_transform(trainY)\n",
    "testPredict = scaler.inverse_transform(testPredict)\n",
    "testY = y_val.reshape(y_val.shape[0], 1)\n",
    "testY_scalerInverse = scaler.inverse_transform(testY)"
   ]
  },
  {
   "cell_type": "code",
   "execution_count": 29,
   "metadata": {},
   "outputs": [
    {
     "name": "stdout",
     "output_type": "stream",
     "text": [
      "Resultado del entrenamiento: 32.49 MAE\n",
      "Resultado del entrenamiento: 2119.79 MSE\n",
      "Resultado del entrenamiento: 46.04 RMSE\n",
      "Resultado del entrenamiento: 12.91 CVRMSE\n",
      "Resultado del entrenamiento: 12.03 MAPE \n",
      "\n",
      "Resultado del test: 72.31 MAE\n",
      "Resultado del test: 8451.15 MSE\n",
      "Resultado del test: 91.93 RMSE\n",
      "Resultado del test: 20.56 CVRMSE\n",
      "Resultado del test: 15.46 MAPE\n"
     ]
    }
   ],
   "source": [
    "# calculamos las metricas de error\n",
    "trainScore_MAE, trainScore_MSE, trainScore_RMSE, trainScore_CVRMSE, trainScore_MAPE  =  compute_metrics_fn(trainY_scalerInverse, trainPredict)\n",
    "print('Resultado del entrenamiento: %.2f MAE' % (trainScore_MAE))\n",
    "print('Resultado del entrenamiento: %.2f MSE' % (trainScore_MSE))\n",
    "print('Resultado del entrenamiento: %.2f RMSE' % (trainScore_RMSE))\n",
    "print('Resultado del entrenamiento: %.2f CVRMSE' % (trainScore_CVRMSE))\n",
    "print('Resultado del entrenamiento: %.2f MAPE \\n' % (trainScore_MAPE))\n",
    "\n",
    "testScore_MAE, testScore_MSE, testScore_RMSE, testScore_CVRMSE, testScore_MAPE  =  compute_metrics_fn(testY_scalerInverse, testPredict)\n",
    "print('Resultado del test: %.2f MAE' % (testScore_MAE))\n",
    "print('Resultado del test: %.2f MSE' % (testScore_MSE))\n",
    "print('Resultado del test: %.2f RMSE' % (testScore_RMSE))\n",
    "print('Resultado del test: %.2f CVRMSE' % (testScore_CVRMSE))\n",
    "print('Resultado del test: %.2f MAPE' % (testScore_MAPE))"
   ]
  },
  {
   "cell_type": "code",
   "execution_count": 30,
   "metadata": {},
   "outputs": [
    {
     "data": {
      "image/png": "[encoded data removed]",
      "text/plain": [
       "<Figure size 432x288 with 1 Axes>"
      ]
     },
     "metadata": {
      "needs_background": "light"
     },
     "output_type": "display_data"
    }
   ],
   "source": [
    "dataset = df_ine.values\n",
    "dataset = dataset.astype('float32')\n",
    "# predicciones del entrenamiento de cambio para plotear\n",
    "trainPredictPlot = np.empty_like(dataset)\n",
    "trainPredictPlot[:, :] = np.nan\n",
    "trainPredictPlot[look_back:len(trainPredict)+look_back, :] = trainPredict\n",
    "# predicciones del test de cambio para plotear\n",
    "testPredictPlot = np.empty_like(dataset)\n",
    "testPredictPlot[:, :] = np.nan\n",
    "testPredictPlot[len(trainPredict)+(look_back):len(dataset), :] = testPredict\n",
    "# plot baseline and predictions\n",
    "plt.plot(df_ine.values)\n",
    "# ploteamos linea base y predicciones\n",
    "plt.plot(trainPredictPlot,'r', linewidth = 2)\n",
    "plt.plot(testPredictPlot,'m', linewidth = 2)\n",
    "plt.legend( ('Datos', 'Prediccion datos entramiento', 'Prediccion sobre los datos de test'), loc = 'upper left')\n",
    "plt.grid(True)\n",
    "plt.title(\"Viajes totales\", fontsize = 15)\n",
    "plt.xlabel(\"Tiempo (dias)\", fontsize = 10)\n",
    "plt.ylabel(\"viajes (en miles)\", fontsize = 10)\n",
    "plt.show()"
   ]
  },
  {
   "cell_type": "code",
   "execution_count": 31,
   "metadata": {},
   "outputs": [
    {
     "data": {
      "image/png": "[encoded data removed]",
      "text/plain": [
       "<Figure size 432x288 with 1 Axes>"
      ]
     },
     "metadata": {
      "needs_background": "light"
     },
     "output_type": "display_data"
    }
   ],
   "source": [
    "results=model.predict(x_val)\n",
    "\n",
    "plt.scatter(range(len(y_val)),y_val,c='g')\n",
    "plt.scatter(range(len(results)),results,c='r')\n",
    "plt.title('validate')\n",
    "plt.xlabel(\"Tiempo (dias)\", fontsize = 10)\n",
    "plt.ylabel(\"viajes (en miles)\", fontsize = 10)\n",
    "plt.show()"
   ]
  },
  {
   "cell_type": "code",
   "execution_count": 32,
   "metadata": {},
   "outputs": [
    {
     "data": {
      "image/png": "[encoded data removed]",
      "text/plain": [
       "<Figure size 432x288 with 1 Axes>"
      ]
     },
     "metadata": {
      "needs_background": "light"
     },
     "output_type": "display_data"
    }
   ],
   "source": [
    "plt.plot(history.history['loss'])\n",
    "plt.plot(history.history['val_loss'])\n",
    "plt.title('loss')\n",
    "plt.legend( ('training loss', 'validate loss'), loc = 'upper right')\n",
    "plt.show()"
   ]
  },
  {
   "cell_type": "markdown",
   "metadata": {},
   "source": [
    "# Prediccion a futuro"
   ]
  },
  {
   "cell_type": "code",
   "execution_count": 33,
   "metadata": {},
   "outputs": [
    {
     "data": {
      "text/html": [
       "<div>\n",
       "<style scoped>\n",
       "    .dataframe tbody tr th:only-of-type {\n",
       "        vertical-align: middle;\n",
       "    }\n",
       "\n",
       "    .dataframe tbody tr th {\n",
       "        vertical-align: top;\n",
       "    }\n",
       "\n",
       "    .dataframe thead th {\n",
       "        text-align: right;\n",
       "    }\n",
       "</style>\n",
       "<table border=\"1\" class=\"dataframe\">\n",
       "  <thead>\n",
       "    <tr style=\"text-align: right;\">\n",
       "      <th></th>\n",
       "      <th>Viajes</th>\n",
       "    </tr>\n",
       "  </thead>\n",
       "  <tbody>\n",
       "    <tr>\n",
       "      <th>2020-06-07</th>\n",
       "      <td>2</td>\n",
       "    </tr>\n",
       "    <tr>\n",
       "      <th>2020-06-08</th>\n",
       "      <td>0</td>\n",
       "    </tr>\n",
       "    <tr>\n",
       "      <th>2020-06-09</th>\n",
       "      <td>2</td>\n",
       "    </tr>\n",
       "    <tr>\n",
       "      <th>2020-06-10</th>\n",
       "      <td>0</td>\n",
       "    </tr>\n",
       "    <tr>\n",
       "      <th>2020-06-11</th>\n",
       "      <td>0</td>\n",
       "    </tr>\n",
       "    <tr>\n",
       "      <th>2020-06-12</th>\n",
       "      <td>2</td>\n",
       "    </tr>\n",
       "    <tr>\n",
       "      <th>2020-06-13</th>\n",
       "      <td>0</td>\n",
       "    </tr>\n",
       "    <tr>\n",
       "      <th>2020-06-14</th>\n",
       "      <td>0</td>\n",
       "    </tr>\n",
       "    <tr>\n",
       "      <th>2020-06-15</th>\n",
       "      <td>0</td>\n",
       "    </tr>\n",
       "    <tr>\n",
       "      <th>2020-06-16</th>\n",
       "      <td>0</td>\n",
       "    </tr>\n",
       "    <tr>\n",
       "      <th>2020-06-17</th>\n",
       "      <td>3</td>\n",
       "    </tr>\n",
       "    <tr>\n",
       "      <th>2020-06-18</th>\n",
       "      <td>1</td>\n",
       "    </tr>\n",
       "    <tr>\n",
       "      <th>2020-06-19</th>\n",
       "      <td>0</td>\n",
       "    </tr>\n",
       "    <tr>\n",
       "      <th>2020-06-20</th>\n",
       "      <td>0</td>\n",
       "    </tr>\n",
       "  </tbody>\n",
       "</table>\n",
       "</div>"
      ],
      "text/plain": [
       "            Viajes\n",
       "2020-06-07       2\n",
       "2020-06-08       0\n",
       "2020-06-09       2\n",
       "2020-06-10       0\n",
       "2020-06-11       0\n",
       "2020-06-12       2\n",
       "2020-06-13       0\n",
       "2020-06-14       0\n",
       "2020-06-15       0\n",
       "2020-06-16       0\n",
       "2020-06-17       3\n",
       "2020-06-18       1\n",
       "2020-06-19       0\n",
       "2020-06-20       0"
      ]
     },
     "execution_count": 33,
     "metadata": {},
     "output_type": "execute_result"
    }
   ],
   "source": [
    "# usaremos los 14 ultimos dias del confinamiento en junio para predecir como habrian sido los dias del 21 al 27 en caso de que\n",
    "# el confinamiento se hubiese alargado por una semana mas\n",
    "\n",
    "ultimosDias_twt = df_twt['2020-6-7':'2020-6-20']\n",
    "ultimosDias_ine = df_ine['2020-6-7':'2020-6-20']\n",
    "ultimosDias_twt"
   ]
  },
  {
   "cell_type": "markdown",
   "metadata": {},
   "source": [
    "# Preparamos los datos para el test"
   ]
  },
  {
   "cell_type": "code",
   "execution_count": 34,
   "metadata": {},
   "outputs": [
    {
     "data": {
      "text/html": [
       "<div>\n",
       "<style scoped>\n",
       "    .dataframe tbody tr th:only-of-type {\n",
       "        vertical-align: middle;\n",
       "    }\n",
       "\n",
       "    .dataframe tbody tr th {\n",
       "        vertical-align: top;\n",
       "    }\n",
       "\n",
       "    .dataframe thead th {\n",
       "        text-align: right;\n",
       "    }\n",
       "</style>\n",
       "<table border=\"1\" class=\"dataframe\">\n",
       "  <thead>\n",
       "    <tr style=\"text-align: right;\">\n",
       "      <th></th>\n",
       "      <th>var1(t-7)</th>\n",
       "      <th>var2(t-7)</th>\n",
       "      <th>var1(t-6)</th>\n",
       "      <th>var2(t-6)</th>\n",
       "      <th>var1(t-5)</th>\n",
       "      <th>var2(t-5)</th>\n",
       "      <th>var1(t-4)</th>\n",
       "      <th>var2(t-4)</th>\n",
       "      <th>var1(t-3)</th>\n",
       "      <th>var2(t-3)</th>\n",
       "      <th>var1(t-2)</th>\n",
       "      <th>var2(t-2)</th>\n",
       "      <th>var1(t-1)</th>\n",
       "      <th>var2(t-1)</th>\n",
       "    </tr>\n",
       "  </thead>\n",
       "  <tbody>\n",
       "    <tr>\n",
       "      <th>7</th>\n",
       "      <td>0.333333</td>\n",
       "      <td>-1.000000</td>\n",
       "      <td>-1.000000</td>\n",
       "      <td>-0.896996</td>\n",
       "      <td>0.333333</td>\n",
       "      <td>-0.725322</td>\n",
       "      <td>-1.000000</td>\n",
       "      <td>-0.442060</td>\n",
       "      <td>-1.000000</td>\n",
       "      <td>-0.330472</td>\n",
       "      <td>0.333333</td>\n",
       "      <td>-0.725322</td>\n",
       "      <td>-1.000000</td>\n",
       "      <td>-0.871245</td>\n",
       "    </tr>\n",
       "    <tr>\n",
       "      <th>8</th>\n",
       "      <td>-1.000000</td>\n",
       "      <td>-0.896996</td>\n",
       "      <td>0.333333</td>\n",
       "      <td>-0.725322</td>\n",
       "      <td>-1.000000</td>\n",
       "      <td>-0.442060</td>\n",
       "      <td>-1.000000</td>\n",
       "      <td>-0.330472</td>\n",
       "      <td>0.333333</td>\n",
       "      <td>-0.725322</td>\n",
       "      <td>-1.000000</td>\n",
       "      <td>-0.871245</td>\n",
       "      <td>-1.000000</td>\n",
       "      <td>-1.000000</td>\n",
       "    </tr>\n",
       "    <tr>\n",
       "      <th>9</th>\n",
       "      <td>0.333333</td>\n",
       "      <td>-0.725322</td>\n",
       "      <td>-1.000000</td>\n",
       "      <td>-0.442060</td>\n",
       "      <td>-1.000000</td>\n",
       "      <td>-0.330472</td>\n",
       "      <td>0.333333</td>\n",
       "      <td>-0.725322</td>\n",
       "      <td>-1.000000</td>\n",
       "      <td>-0.871245</td>\n",
       "      <td>-1.000000</td>\n",
       "      <td>-1.000000</td>\n",
       "      <td>-1.000000</td>\n",
       "      <td>1.000000</td>\n",
       "    </tr>\n",
       "    <tr>\n",
       "      <th>10</th>\n",
       "      <td>-1.000000</td>\n",
       "      <td>-0.442060</td>\n",
       "      <td>-1.000000</td>\n",
       "      <td>-0.330472</td>\n",
       "      <td>0.333333</td>\n",
       "      <td>-0.725322</td>\n",
       "      <td>-1.000000</td>\n",
       "      <td>-0.871245</td>\n",
       "      <td>-1.000000</td>\n",
       "      <td>-1.000000</td>\n",
       "      <td>-1.000000</td>\n",
       "      <td>1.000000</td>\n",
       "      <td>-1.000000</td>\n",
       "      <td>-0.253219</td>\n",
       "    </tr>\n",
       "    <tr>\n",
       "      <th>11</th>\n",
       "      <td>-1.000000</td>\n",
       "      <td>-0.330472</td>\n",
       "      <td>0.333333</td>\n",
       "      <td>-0.725322</td>\n",
       "      <td>-1.000000</td>\n",
       "      <td>-0.871245</td>\n",
       "      <td>-1.000000</td>\n",
       "      <td>-1.000000</td>\n",
       "      <td>-1.000000</td>\n",
       "      <td>1.000000</td>\n",
       "      <td>-1.000000</td>\n",
       "      <td>-0.253219</td>\n",
       "      <td>1.000000</td>\n",
       "      <td>-0.381974</td>\n",
       "    </tr>\n",
       "    <tr>\n",
       "      <th>12</th>\n",
       "      <td>0.333333</td>\n",
       "      <td>-0.725322</td>\n",
       "      <td>-1.000000</td>\n",
       "      <td>-0.871245</td>\n",
       "      <td>-1.000000</td>\n",
       "      <td>-1.000000</td>\n",
       "      <td>-1.000000</td>\n",
       "      <td>1.000000</td>\n",
       "      <td>-1.000000</td>\n",
       "      <td>-0.253219</td>\n",
       "      <td>1.000000</td>\n",
       "      <td>-0.381974</td>\n",
       "      <td>-0.333333</td>\n",
       "      <td>-0.416309</td>\n",
       "    </tr>\n",
       "    <tr>\n",
       "      <th>13</th>\n",
       "      <td>-1.000000</td>\n",
       "      <td>-0.871245</td>\n",
       "      <td>-1.000000</td>\n",
       "      <td>-1.000000</td>\n",
       "      <td>-1.000000</td>\n",
       "      <td>1.000000</td>\n",
       "      <td>-1.000000</td>\n",
       "      <td>-0.253219</td>\n",
       "      <td>1.000000</td>\n",
       "      <td>-0.381974</td>\n",
       "      <td>-0.333333</td>\n",
       "      <td>-0.416309</td>\n",
       "      <td>-1.000000</td>\n",
       "      <td>0.373391</td>\n",
       "    </tr>\n",
       "  </tbody>\n",
       "</table>\n",
       "</div>"
      ],
      "text/plain": [
       "    var1(t-7)  var2(t-7)  var1(t-6)  var2(t-6)  var1(t-5)  var2(t-5)  \\\n",
       "7    0.333333  -1.000000  -1.000000  -0.896996   0.333333  -0.725322   \n",
       "8   -1.000000  -0.896996   0.333333  -0.725322  -1.000000  -0.442060   \n",
       "9    0.333333  -0.725322  -1.000000  -0.442060  -1.000000  -0.330472   \n",
       "10  -1.000000  -0.442060  -1.000000  -0.330472   0.333333  -0.725322   \n",
       "11  -1.000000  -0.330472   0.333333  -0.725322  -1.000000  -0.871245   \n",
       "12   0.333333  -0.725322  -1.000000  -0.871245  -1.000000  -1.000000   \n",
       "13  -1.000000  -0.871245  -1.000000  -1.000000  -1.000000   1.000000   \n",
       "\n",
       "    var1(t-4)  var2(t-4)  var1(t-3)  var2(t-3)  var1(t-2)  var2(t-2)  \\\n",
       "7   -1.000000  -0.442060  -1.000000  -0.330472   0.333333  -0.725322   \n",
       "8   -1.000000  -0.330472   0.333333  -0.725322  -1.000000  -0.871245   \n",
       "9    0.333333  -0.725322  -1.000000  -0.871245  -1.000000  -1.000000   \n",
       "10  -1.000000  -0.871245  -1.000000  -1.000000  -1.000000   1.000000   \n",
       "11  -1.000000  -1.000000  -1.000000   1.000000  -1.000000  -0.253219   \n",
       "12  -1.000000   1.000000  -1.000000  -0.253219   1.000000  -0.381974   \n",
       "13  -1.000000  -0.253219   1.000000  -0.381974  -0.333333  -0.416309   \n",
       "\n",
       "    var1(t-1)  var2(t-1)  \n",
       "7   -1.000000  -0.871245  \n",
       "8   -1.000000  -1.000000  \n",
       "9   -1.000000   1.000000  \n",
       "10  -1.000000  -0.253219  \n",
       "11   1.000000  -0.381974  \n",
       "12  -0.333333  -0.416309  \n",
       "13  -1.000000   0.373391  "
      ]
     },
     "execution_count": 34,
     "metadata": {},
     "output_type": "execute_result"
    }
   ],
   "source": [
    "# cargamos el dataframe en la variable values\n",
    "values_twt = ultimosDias_twt.values\n",
    "values_ine = ultimosDias_ine.values\n",
    "\n",
    "# convertimos los enteros en floats\n",
    "values_twt = values_twt.astype('float32')\n",
    "values_ine = values_ine.astype('float32')\n",
    "\n",
    "# normalizamos los datos a escala de entre -1 y 1\n",
    "values_twt =values_twt.reshape(-1, 1)\n",
    "scaled_twt = scaler.fit_transform(values_twt)\n",
    "values_ine =values_ine.reshape(-1, 1) # esto lo hacemos porque tenemos 1 sola dimension\n",
    "scaled_ine = scaler.fit_transform(values_ine)\n",
    "\n",
    "# usamos la funcion definida previamente\n",
    "reframed_twt = series_to_supervised(scaled_twt, look_back, 1)\n",
    "reframed_ine = series_to_supervised(scaled_ine, look_back, 1)\n",
    "\n",
    "# eliminamos la ultima columna pues es parte de lo que queremos hayar\n",
    "reframed_twt.drop(reframed_twt.columns[[7]], inplace=True, axis=1)\n",
    "reframed_ine.drop(reframed_ine.columns[[7]], inplace=True, axis=1)\n",
    "\n",
    "#unimos los dataframes\n",
    "reframed_ine.columns = ['var2(t-7)', 'var2(t-6)', 'var2(t-5)', 'var2(t-4)', 'var2(t-3)', 'var2(t-2)', 'var2(t-1)']\n",
    "reframed = pd.concat([reframed_twt.iloc[:, 0], reframed_ine.iloc[:, 0]], axis=1)\n",
    "\n",
    "for i in range(6):\n",
    "    reframed = pd.concat([reframed, reframed_twt.iloc[:, i+1]], axis=1)\n",
    "    reframed = pd.concat([reframed, reframed_ine.iloc[:, i+1]], axis=1)\n",
    "\n",
    "#mostramos el set de entrenamiento\n",
    "reframed.head(7)"
   ]
  },
  {
   "cell_type": "code",
   "execution_count": 35,
   "metadata": {},
   "outputs": [
    {
     "name": "stdout",
     "output_type": "stream",
     "text": [
      "(1, 1, 14)\n"
     ]
    },
    {
     "data": {
      "text/plain": [
       "array([[[-1.        , -0.87124467, -1.        , -1.        ,\n",
       "         -1.        ,  1.        , -1.        , -0.25321865,\n",
       "          1.        , -0.38197422, -0.3333333 , -0.41630888,\n",
       "         -1.        ,  0.37339067]]], dtype=float32)"
      ]
     },
     "execution_count": 35,
     "metadata": {},
     "output_type": "execute_result"
    }
   ],
   "source": [
    "values = reframed.values\n",
    "\n",
    "#tomamos los valores para realizar el test\n",
    "x_test = values[6:, :]\n",
    "\n",
    "# reshape input to be 3D [samples, timesteps, features] - preguntar\n",
    "x_test = x_test.reshape((x_test.shape[0], 1, x_test.shape[1]))\n",
    "print(x_test.shape)\n",
    "x_test"
   ]
  },
  {
   "cell_type": "code",
   "execution_count": 36,
   "metadata": {},
   "outputs": [],
   "source": [
    "#definimos la funcion para realizar el desplazamiento que se hara en el array cada prediccion pues para hacer\n",
    "#la siguiente prediccion eliminamos el dia mas antiguo, desplazamos un lugar el resto de dias y añadimos el ultimo dia que\n",
    "#se ha predecido, esto es por que para predecir un dia se usan los 7 dias previos\n",
    "\n",
    "def agregarNuevoValor(x_test,nuevoValor):\n",
    "    for i in range(x_test.shape[2]-1):\n",
    "        x_test[0][0][i] = x_test[0][0][i+1]\n",
    "    x_test[0][0][x_test.shape[2]-1]=nuevoValor\n",
    "    return x_test"
   ]
  },
  {
   "cell_type": "markdown",
   "metadata": {},
   "source": [
    "# Predicciones para la proxima semana"
   ]
  },
  {
   "cell_type": "code",
   "execution_count": 37,
   "metadata": {},
   "outputs": [
    {
     "name": "stdout",
     "output_type": "stream",
     "text": [
      "[[[-1.         -0.87124467 -1.         -1.         -1.\n",
      "    1.         -1.         -0.25321865  1.         -0.38197422\n",
      "   -0.3333333  -0.41630888 -1.          0.37339067]]]\n",
      "[[[-0.87124467 -1.         -1.         -1.          1.\n",
      "   -1.         -0.25321865  1.         -0.38197422 -0.3333333\n",
      "   -0.41630888 -1.          0.37339067  0.40754506]]]\n",
      "[[[-1.         -1.         -1.          1.         -1.\n",
      "   -0.25321865  1.         -0.38197422 -0.3333333  -0.41630888\n",
      "   -1.          0.37339067  0.40754506  0.09150053]]]\n",
      "[[[-1.         -1.          1.         -1.         -0.25321865\n",
      "    1.         -0.38197422 -0.3333333  -0.41630888 -1.\n",
      "    0.37339067  0.40754506  0.09150053  0.4041308 ]]]\n",
      "[[[-1.          1.         -1.         -0.25321865  1.\n",
      "   -0.38197422 -0.3333333  -0.41630888 -1.          0.37339067\n",
      "    0.40754506  0.09150053  0.4041308   0.20133366]]]\n",
      "[[[ 1.         -1.         -0.25321865  1.         -0.38197422\n",
      "   -0.3333333  -0.41630888 -1.          0.37339067  0.40754506\n",
      "    0.09150053  0.4041308   0.20133366  0.51655185]]]\n",
      "[[[-1.         -0.25321865  1.         -0.38197422 -0.3333333\n",
      "   -0.41630888 -1.          0.37339067  0.40754506  0.09150053\n",
      "    0.4041308   0.20133366  0.51655185 -0.07873124]]]\n"
     ]
    }
   ],
   "source": [
    "results=[]\n",
    "for i in range(7):\n",
    "    parcial=model.predict(x_test)\n",
    "    results.append(parcial[0])\n",
    "    print(x_test)\n",
    "    x_test=agregarNuevoValor(x_test,parcial[0])"
   ]
  },
  {
   "cell_type": "markdown",
   "metadata": {},
   "source": [
    "# Re-Convertimos los resultados"
   ]
  },
  {
   "cell_type": "code",
   "execution_count": 38,
   "metadata": {},
   "outputs": [
    {
     "name": "stdout",
     "output_type": "stream",
     "text": [
      "[array([0.40754506], dtype=float32), array([0.09150053], dtype=float32), array([0.4041308], dtype=float32), array([0.20133366], dtype=float32), array([0.51655185], dtype=float32), array([-0.07873124], dtype=float32), array([0.07728112], dtype=float32)]\n"
     ]
    },
    {
     "data": {
      "text/plain": [
       "array([[544.97899501],\n",
       "       [508.15980699],\n",
       "       [544.58123218],\n",
       "       [520.95536652],\n",
       "       [557.67828634],\n",
       "       [488.3278061 ],\n",
       "       [506.50324651]])"
      ]
     },
     "execution_count": 38,
     "metadata": {},
     "output_type": "execute_result"
    }
   ],
   "source": [
    "adimen = [x for x in results]    \n",
    "print(adimen)\n",
    "inverted = scaler.inverse_transform(adimen)\n",
    "inverted"
   ]
  },
  {
   "cell_type": "markdown",
   "metadata": {},
   "source": [
    "# Visualizamos el pronostico"
   ]
  },
  {
   "cell_type": "code",
   "execution_count": 39,
   "metadata": {},
   "outputs": [
    {
     "data": {
      "text/plain": [
       "<AxesSubplot:>"
      ]
     },
     "execution_count": 39,
     "metadata": {},
     "output_type": "execute_result"
    },
    {
     "data": {
      "image/png": "[encoded data removed]",
      "text/plain": [
       "<Figure size 432x288 with 1 Axes>"
      ]
     },
     "metadata": {
      "needs_background": "light"
     },
     "output_type": "display_data"
    }
   ],
   "source": [
    "prediccion = pd.DataFrame(inverted)\n",
    "prediccion.columns = ['pronostico']\n",
    "prediccion.plot()"
   ]
  },
  {
   "cell_type": "markdown",
   "metadata": {},
   "source": [
    "# Prediccion con datos actuales"
   ]
  },
  {
   "cell_type": "code",
   "execution_count": 40,
   "metadata": {
    "scrolled": true
   },
   "outputs": [
    {
     "data": {
      "text/html": [
       "<div>\n",
       "<style scoped>\n",
       "    .dataframe tbody tr th:only-of-type {\n",
       "        vertical-align: middle;\n",
       "    }\n",
       "\n",
       "    .dataframe tbody tr th {\n",
       "        vertical-align: top;\n",
       "    }\n",
       "\n",
       "    .dataframe thead th {\n",
       "        text-align: right;\n",
       "    }\n",
       "</style>\n",
       "<table border=\"1\" class=\"dataframe\">\n",
       "  <thead>\n",
       "    <tr style=\"text-align: right;\">\n",
       "      <th></th>\n",
       "      <th>Viajes</th>\n",
       "    </tr>\n",
       "  </thead>\n",
       "  <tbody>\n",
       "    <tr>\n",
       "      <th>2020-05-11</th>\n",
       "      <td>0</td>\n",
       "    </tr>\n",
       "    <tr>\n",
       "      <th>2020-05-12</th>\n",
       "      <td>0</td>\n",
       "    </tr>\n",
       "    <tr>\n",
       "      <th>2020-05-13</th>\n",
       "      <td>0</td>\n",
       "    </tr>\n",
       "    <tr>\n",
       "      <th>2020-05-14</th>\n",
       "      <td>0</td>\n",
       "    </tr>\n",
       "    <tr>\n",
       "      <th>2020-05-15</th>\n",
       "      <td>0</td>\n",
       "    </tr>\n",
       "    <tr>\n",
       "      <th>2020-05-16</th>\n",
       "      <td>0</td>\n",
       "    </tr>\n",
       "    <tr>\n",
       "      <th>2020-05-17</th>\n",
       "      <td>0</td>\n",
       "    </tr>\n",
       "    <tr>\n",
       "      <th>2020-05-18</th>\n",
       "      <td>0</td>\n",
       "    </tr>\n",
       "    <tr>\n",
       "      <th>2020-05-19</th>\n",
       "      <td>0</td>\n",
       "    </tr>\n",
       "    <tr>\n",
       "      <th>2020-05-20</th>\n",
       "      <td>0</td>\n",
       "    </tr>\n",
       "    <tr>\n",
       "      <th>2020-05-21</th>\n",
       "      <td>0</td>\n",
       "    </tr>\n",
       "    <tr>\n",
       "      <th>2020-05-22</th>\n",
       "      <td>0</td>\n",
       "    </tr>\n",
       "    <tr>\n",
       "      <th>2020-05-23</th>\n",
       "      <td>0</td>\n",
       "    </tr>\n",
       "    <tr>\n",
       "      <th>2020-05-24</th>\n",
       "      <td>1</td>\n",
       "    </tr>\n",
       "  </tbody>\n",
       "</table>\n",
       "</div>"
      ],
      "text/plain": [
       "            Viajes\n",
       "2020-05-11       0\n",
       "2020-05-12       0\n",
       "2020-05-13       0\n",
       "2020-05-14       0\n",
       "2020-05-15       0\n",
       "2020-05-16       0\n",
       "2020-05-17       0\n",
       "2020-05-18       0\n",
       "2020-05-19       0\n",
       "2020-05-20       0\n",
       "2020-05-21       0\n",
       "2020-05-22       0\n",
       "2020-05-23       0\n",
       "2020-05-24       1"
      ]
     },
     "execution_count": 40,
     "metadata": {},
     "output_type": "execute_result"
    }
   ],
   "source": [
    "# usaremos 14 dias que poseemos para predecir los 7 dias siguientes tras esto compararemos los resultados con los que\n",
    "# poseemos para ver el grado de error\n",
    "\n",
    "Dias_twt = df_twt['2020-5-11':'2020-5-24']\n",
    "Dias_ine = df_ine['2020-5-11':'2020-5-24']\n",
    "Dias_twt"
   ]
  },
  {
   "cell_type": "markdown",
   "metadata": {},
   "source": [
    "# Preparamos los datos para el test"
   ]
  },
  {
   "cell_type": "code",
   "execution_count": 41,
   "metadata": {},
   "outputs": [
    {
     "data": {
      "text/html": [
       "<div>\n",
       "<style scoped>\n",
       "    .dataframe tbody tr th:only-of-type {\n",
       "        vertical-align: middle;\n",
       "    }\n",
       "\n",
       "    .dataframe tbody tr th {\n",
       "        vertical-align: top;\n",
       "    }\n",
       "\n",
       "    .dataframe thead th {\n",
       "        text-align: right;\n",
       "    }\n",
       "</style>\n",
       "<table border=\"1\" class=\"dataframe\">\n",
       "  <thead>\n",
       "    <tr style=\"text-align: right;\">\n",
       "      <th></th>\n",
       "      <th>var1(t-7)</th>\n",
       "      <th>var2(t-7)</th>\n",
       "      <th>var1(t-6)</th>\n",
       "      <th>var2(t-6)</th>\n",
       "      <th>var1(t-5)</th>\n",
       "      <th>var2(t-5)</th>\n",
       "      <th>var1(t-4)</th>\n",
       "      <th>var2(t-4)</th>\n",
       "      <th>var1(t-3)</th>\n",
       "      <th>var2(t-3)</th>\n",
       "      <th>var1(t-2)</th>\n",
       "      <th>var2(t-2)</th>\n",
       "      <th>var1(t-1)</th>\n",
       "      <th>var2(t-1)</th>\n",
       "    </tr>\n",
       "  </thead>\n",
       "  <tbody>\n",
       "    <tr>\n",
       "      <th>7</th>\n",
       "      <td>-1.0</td>\n",
       "      <td>-0.162562</td>\n",
       "      <td>-1.0</td>\n",
       "      <td>-0.103448</td>\n",
       "      <td>-1.0</td>\n",
       "      <td>0.783251</td>\n",
       "      <td>-1.0</td>\n",
       "      <td>-0.093596</td>\n",
       "      <td>-1.0</td>\n",
       "      <td>-0.290641</td>\n",
       "      <td>-1.0</td>\n",
       "      <td>-0.024631</td>\n",
       "      <td>-1.0</td>\n",
       "      <td>-1.000000</td>\n",
       "    </tr>\n",
       "    <tr>\n",
       "      <th>8</th>\n",
       "      <td>-1.0</td>\n",
       "      <td>-0.103448</td>\n",
       "      <td>-1.0</td>\n",
       "      <td>0.783251</td>\n",
       "      <td>-1.0</td>\n",
       "      <td>-0.093596</td>\n",
       "      <td>-1.0</td>\n",
       "      <td>-0.290641</td>\n",
       "      <td>-1.0</td>\n",
       "      <td>-0.024631</td>\n",
       "      <td>-1.0</td>\n",
       "      <td>-1.000000</td>\n",
       "      <td>-1.0</td>\n",
       "      <td>0.073892</td>\n",
       "    </tr>\n",
       "    <tr>\n",
       "      <th>9</th>\n",
       "      <td>-1.0</td>\n",
       "      <td>0.783251</td>\n",
       "      <td>-1.0</td>\n",
       "      <td>-0.093596</td>\n",
       "      <td>-1.0</td>\n",
       "      <td>-0.290641</td>\n",
       "      <td>-1.0</td>\n",
       "      <td>-0.024631</td>\n",
       "      <td>-1.0</td>\n",
       "      <td>-1.000000</td>\n",
       "      <td>-1.0</td>\n",
       "      <td>0.073892</td>\n",
       "      <td>-1.0</td>\n",
       "      <td>-0.024631</td>\n",
       "    </tr>\n",
       "    <tr>\n",
       "      <th>10</th>\n",
       "      <td>-1.0</td>\n",
       "      <td>-0.093596</td>\n",
       "      <td>-1.0</td>\n",
       "      <td>-0.290641</td>\n",
       "      <td>-1.0</td>\n",
       "      <td>-0.024631</td>\n",
       "      <td>-1.0</td>\n",
       "      <td>-1.000000</td>\n",
       "      <td>-1.0</td>\n",
       "      <td>0.073892</td>\n",
       "      <td>-1.0</td>\n",
       "      <td>-0.024631</td>\n",
       "      <td>-1.0</td>\n",
       "      <td>0.290640</td>\n",
       "    </tr>\n",
       "    <tr>\n",
       "      <th>11</th>\n",
       "      <td>-1.0</td>\n",
       "      <td>-0.290641</td>\n",
       "      <td>-1.0</td>\n",
       "      <td>-0.024631</td>\n",
       "      <td>-1.0</td>\n",
       "      <td>-1.000000</td>\n",
       "      <td>-1.0</td>\n",
       "      <td>0.073892</td>\n",
       "      <td>-1.0</td>\n",
       "      <td>-0.024631</td>\n",
       "      <td>-1.0</td>\n",
       "      <td>0.290640</td>\n",
       "      <td>-1.0</td>\n",
       "      <td>0.172414</td>\n",
       "    </tr>\n",
       "    <tr>\n",
       "      <th>12</th>\n",
       "      <td>-1.0</td>\n",
       "      <td>-0.024631</td>\n",
       "      <td>-1.0</td>\n",
       "      <td>-1.000000</td>\n",
       "      <td>-1.0</td>\n",
       "      <td>0.073892</td>\n",
       "      <td>-1.0</td>\n",
       "      <td>-0.024631</td>\n",
       "      <td>-1.0</td>\n",
       "      <td>0.290640</td>\n",
       "      <td>-1.0</td>\n",
       "      <td>0.172414</td>\n",
       "      <td>-1.0</td>\n",
       "      <td>-0.044335</td>\n",
       "    </tr>\n",
       "    <tr>\n",
       "      <th>13</th>\n",
       "      <td>-1.0</td>\n",
       "      <td>-1.000000</td>\n",
       "      <td>-1.0</td>\n",
       "      <td>0.073892</td>\n",
       "      <td>-1.0</td>\n",
       "      <td>-0.024631</td>\n",
       "      <td>-1.0</td>\n",
       "      <td>0.290640</td>\n",
       "      <td>-1.0</td>\n",
       "      <td>0.172414</td>\n",
       "      <td>-1.0</td>\n",
       "      <td>-0.044335</td>\n",
       "      <td>-1.0</td>\n",
       "      <td>1.000000</td>\n",
       "    </tr>\n",
       "  </tbody>\n",
       "</table>\n",
       "</div>"
      ],
      "text/plain": [
       "    var1(t-7)  var2(t-7)  var1(t-6)  var2(t-6)  var1(t-5)  var2(t-5)  \\\n",
       "7        -1.0  -0.162562       -1.0  -0.103448       -1.0   0.783251   \n",
       "8        -1.0  -0.103448       -1.0   0.783251       -1.0  -0.093596   \n",
       "9        -1.0   0.783251       -1.0  -0.093596       -1.0  -0.290641   \n",
       "10       -1.0  -0.093596       -1.0  -0.290641       -1.0  -0.024631   \n",
       "11       -1.0  -0.290641       -1.0  -0.024631       -1.0  -1.000000   \n",
       "12       -1.0  -0.024631       -1.0  -1.000000       -1.0   0.073892   \n",
       "13       -1.0  -1.000000       -1.0   0.073892       -1.0  -0.024631   \n",
       "\n",
       "    var1(t-4)  var2(t-4)  var1(t-3)  var2(t-3)  var1(t-2)  var2(t-2)  \\\n",
       "7        -1.0  -0.093596       -1.0  -0.290641       -1.0  -0.024631   \n",
       "8        -1.0  -0.290641       -1.0  -0.024631       -1.0  -1.000000   \n",
       "9        -1.0  -0.024631       -1.0  -1.000000       -1.0   0.073892   \n",
       "10       -1.0  -1.000000       -1.0   0.073892       -1.0  -0.024631   \n",
       "11       -1.0   0.073892       -1.0  -0.024631       -1.0   0.290640   \n",
       "12       -1.0  -0.024631       -1.0   0.290640       -1.0   0.172414   \n",
       "13       -1.0   0.290640       -1.0   0.172414       -1.0  -0.044335   \n",
       "\n",
       "    var1(t-1)  var2(t-1)  \n",
       "7        -1.0  -1.000000  \n",
       "8        -1.0   0.073892  \n",
       "9        -1.0  -0.024631  \n",
       "10       -1.0   0.290640  \n",
       "11       -1.0   0.172414  \n",
       "12       -1.0  -0.044335  \n",
       "13       -1.0   1.000000  "
      ]
     },
     "execution_count": 41,
     "metadata": {},
     "output_type": "execute_result"
    }
   ],
   "source": [
    "# cargamos el dataframe en la variable values\n",
    "values_twt = Dias_twt.values\n",
    "values_ine = Dias_ine.values\n",
    "\n",
    "# convertimos los enteros en floats\n",
    "values_twt = values_twt.astype('float32')\n",
    "values_ine = values_ine.astype('float32')\n",
    "\n",
    "# normalizamos los datos a escala de entre -1 y 1\n",
    "values_twt =values_twt.reshape(-1, 1)\n",
    "scaled_twt = scaler.fit_transform(values_twt)\n",
    "values_ine =values_ine.reshape(-1, 1) # esto lo hacemos porque tenemos 1 sola dimension\n",
    "scaled_ine = scaler.fit_transform(values_ine)\n",
    "\n",
    "# usamos la funcion definida previamente\n",
    "reframed_twt = series_to_supervised(scaled_twt, look_back, 1)\n",
    "reframed_ine = series_to_supervised(scaled_ine, look_back, 1)\n",
    "\n",
    "# eliminamos la ultima columna pues es parte de lo que queremos hayar\n",
    "reframed_twt.drop(reframed_twt.columns[[7]], inplace=True, axis=1)\n",
    "reframed_ine.drop(reframed_ine.columns[[7]], inplace=True, axis=1)\n",
    "\n",
    "#unimos los dataframes\n",
    "reframed_ine.columns = ['var2(t-7)', 'var2(t-6)', 'var2(t-5)', 'var2(t-4)', 'var2(t-3)', 'var2(t-2)', 'var2(t-1)']\n",
    "reframed = pd.concat([reframed_twt.iloc[:, 0], reframed_ine.iloc[:, 0]], axis=1)\n",
    "\n",
    "for i in range(6):\n",
    "    reframed = pd.concat([reframed, reframed_twt.iloc[:, i+1]], axis=1)\n",
    "    reframed = pd.concat([reframed, reframed_ine.iloc[:, i+1]], axis=1)\n",
    "\n",
    "#mostramos el set de entrenamiento\n",
    "reframed.head(7)"
   ]
  },
  {
   "cell_type": "code",
   "execution_count": 42,
   "metadata": {},
   "outputs": [
    {
     "name": "stdout",
     "output_type": "stream",
     "text": [
      "(1, 1, 14)\n"
     ]
    },
    {
     "data": {
      "text/plain": [
       "array([[[-1.        , -1.        , -1.        ,  0.07389164,\n",
       "         -1.        , -0.02463055, -1.        ,  0.29064035,\n",
       "         -1.        ,  0.17241383, -1.        , -0.04433489,\n",
       "         -1.        ,  1.        ]]], dtype=float32)"
      ]
     },
     "execution_count": 42,
     "metadata": {},
     "output_type": "execute_result"
    }
   ],
   "source": [
    "values = reframed.values\n",
    "\n",
    "#tomamos los valores para realizar el test\n",
    "x_test = values[6:, :]\n",
    "\n",
    "# reshape input to be 3D [samples, timesteps, features] - preguntar\n",
    "x_test = x_test.reshape((x_test.shape[0], 1, x_test.shape[1]))\n",
    "print(x_test.shape)\n",
    "x_test"
   ]
  },
  {
   "cell_type": "code",
   "execution_count": 43,
   "metadata": {},
   "outputs": [],
   "source": [
    "#en la linea 24 definimos la funcion para realizar el desplazamiento que se hara en el array cada prediccion pues para hacer\n",
    "#la siguiente prediccion eliminamos el dia mas antiguo, desplazamos un lugar el resto de dias y añadimos el ultimo dia que\n",
    "#se ha predecido, esto es por que para predecir un dia se usan los 7 dias previos, y que usaremos a continuación"
   ]
  },
  {
   "cell_type": "markdown",
   "metadata": {},
   "source": [
    "# Realizamos la prediccion "
   ]
  },
  {
   "cell_type": "code",
   "execution_count": 44,
   "metadata": {},
   "outputs": [
    {
     "name": "stdout",
     "output_type": "stream",
     "text": [
      "[[[-1.         -1.         -1.          0.07389164 -1.\n",
      "   -0.02463055 -1.          0.29064035 -1.          0.17241383\n",
      "   -1.         -0.04433489 -1.          1.        ]]]\n",
      "[[[-1.         -1.          0.07389164 -1.         -0.02463055\n",
      "   -1.          0.29064035 -1.          0.17241383 -1.\n",
      "   -0.04433489 -1.          1.         -0.01768191]]]\n",
      "[[[-1.          0.07389164 -1.         -0.02463055 -1.\n",
      "    0.29064035 -1.          0.17241383 -1.         -0.04433489\n",
      "   -1.          1.         -0.01768191 -0.15579377]]]\n",
      "[[[ 0.07389164 -1.         -0.02463055 -1.          0.29064035\n",
      "   -1.          0.17241383 -1.         -0.04433489 -1.\n",
      "    1.         -0.01768191 -0.15579377  0.21205299]]]\n",
      "[[[-1.         -0.02463055 -1.          0.29064035 -1.\n",
      "    0.17241383 -1.         -0.04433489 -1.          1.\n",
      "   -0.01768191 -0.15579377  0.21205299  0.05412006]]]\n",
      "[[[-0.02463055 -1.          0.29064035 -1.          0.17241383\n",
      "   -1.         -0.04433489 -1.          1.         -0.01768191\n",
      "   -0.15579377  0.21205299  0.05412006 -0.19496025]]]\n",
      "[[[-1.          0.29064035 -1.          0.17241383 -1.\n",
      "   -0.04433489 -1.          1.         -0.01768191 -0.15579377\n",
      "    0.21205299  0.05412006 -0.19496025  0.17992574]]]\n"
     ]
    }
   ],
   "source": [
    "results=[]\n",
    "for i in range(7):\n",
    "    parcial=model.predict(x_test)\n",
    "    results.append(parcial[0])\n",
    "    print(x_test)\n",
    "    x_test=agregarNuevoValor(x_test,parcial[0])"
   ]
  },
  {
   "cell_type": "markdown",
   "metadata": {},
   "source": [
    "# Re-Convertimos los resultados"
   ]
  },
  {
   "cell_type": "code",
   "execution_count": 45,
   "metadata": {
    "scrolled": false
   },
   "outputs": [
    {
     "name": "stdout",
     "output_type": "stream",
     "text": [
      "[array([-0.01768191], dtype=float32), array([-0.15579377], dtype=float32), array([0.21205299], dtype=float32), array([0.05412006], dtype=float32), array([-0.19496025], dtype=float32), array([0.17992574], dtype=float32), array([0.3709452], dtype=float32)]\n"
     ]
    },
    {
     "data": {
      "text/plain": [
       "array([[432],\n",
       "       [418],\n",
       "       [455],\n",
       "       [439],\n",
       "       [414],\n",
       "       [452],\n",
       "       [471]])"
      ]
     },
     "execution_count": 45,
     "metadata": {},
     "output_type": "execute_result"
    }
   ],
   "source": [
    "adimen = [x for x in results]    \n",
    "print(adimen)\n",
    "inverted = scaler.inverse_transform(adimen)\n",
    "\n",
    "#en nuestro problema no tienen sentido los decimales pues no se pueden hacer 0.5 viajes o 0.25 viajes\n",
    "inverted = inverted.round()\n",
    "inverted = inverted.astype(int)\n",
    "inverted"
   ]
  },
  {
   "cell_type": "markdown",
   "metadata": {},
   "source": [
    "# Visualizamos el pronostico"
   ]
  },
  {
   "cell_type": "code",
   "execution_count": 46,
   "metadata": {
    "scrolled": false
   },
   "outputs": [
    {
     "data": {
      "text/plain": [
       "<AxesSubplot:>"
      ]
     },
     "execution_count": 46,
     "metadata": {},
     "output_type": "execute_result"
    },
    {
     "data": {
      "image/png": "[encoded data removed]",
      "text/plain": [
       "<Figure size 432x288 with 1 Axes>"
      ]
     },
     "metadata": {
      "needs_background": "light"
     },
     "output_type": "display_data"
    }
   ],
   "source": [
    "e_date = datetime.datetime.strptime('2020-05-31', '%Y-%m-%d')\n",
    "i_date = datetime.datetime.strptime('2020-05-25', '%Y-%m-%d')\n",
    "delta = e_date - i_date\n",
    "\n",
    "index_days = []\n",
    "for i in range(delta.days + 1):\n",
    "    day = i_date + timedelta(days=i)\n",
    "    index_days.append(day)\n",
    "\n",
    "prediccion = pd.DataFrame(inverted, index= index_days)\n",
    "prediccion.columns = ['pronostico']\n",
    "prediccion.plot()"
   ]
  },
  {
   "cell_type": "code",
   "execution_count": 47,
   "metadata": {},
   "outputs": [
    {
     "data": {
      "text/html": [
       "<div>\n",
       "<style scoped>\n",
       "    .dataframe tbody tr th:only-of-type {\n",
       "        vertical-align: middle;\n",
       "    }\n",
       "\n",
       "    .dataframe tbody tr th {\n",
       "        vertical-align: top;\n",
       "    }\n",
       "\n",
       "    .dataframe thead th {\n",
       "        text-align: right;\n",
       "    }\n",
       "</style>\n",
       "<table border=\"1\" class=\"dataframe\">\n",
       "  <thead>\n",
       "    <tr style=\"text-align: right;\">\n",
       "      <th></th>\n",
       "      <th>real</th>\n",
       "      <th>prediccion</th>\n",
       "    </tr>\n",
       "  </thead>\n",
       "  <tbody>\n",
       "    <tr>\n",
       "      <th>2020-05-25</th>\n",
       "      <td>435</td>\n",
       "      <td>432</td>\n",
       "    </tr>\n",
       "    <tr>\n",
       "      <th>2020-05-26</th>\n",
       "      <td>421</td>\n",
       "      <td>418</td>\n",
       "    </tr>\n",
       "    <tr>\n",
       "      <th>2020-05-27</th>\n",
       "      <td>521</td>\n",
       "      <td>455</td>\n",
       "    </tr>\n",
       "    <tr>\n",
       "      <th>2020-05-28</th>\n",
       "      <td>442</td>\n",
       "      <td>439</td>\n",
       "    </tr>\n",
       "    <tr>\n",
       "      <th>2020-05-29</th>\n",
       "      <td>476</td>\n",
       "      <td>414</td>\n",
       "    </tr>\n",
       "    <tr>\n",
       "      <th>2020-05-30</th>\n",
       "      <td>433</td>\n",
       "      <td>452</td>\n",
       "    </tr>\n",
       "    <tr>\n",
       "      <th>2020-05-31</th>\n",
       "      <td>404</td>\n",
       "      <td>471</td>\n",
       "    </tr>\n",
       "  </tbody>\n",
       "</table>\n",
       "</div>"
      ],
      "text/plain": [
       "            real  prediccion\n",
       "2020-05-25   435         432\n",
       "2020-05-26   421         418\n",
       "2020-05-27   521         455\n",
       "2020-05-28   442         439\n",
       "2020-05-29   476         414\n",
       "2020-05-30   433         452\n",
       "2020-05-31   404         471"
      ]
     },
     "execution_count": 47,
     "metadata": {},
     "output_type": "execute_result"
    }
   ],
   "source": [
    "datosReales = df_ine['2020-5-25':'2020-5-31']\n",
    "\n",
    "compara = pd.concat([datosReales, prediccion], axis=1)\n",
    "compara.columns = ['real', 'prediccion']\n",
    "compara"
   ]
  },
  {
   "cell_type": "code",
   "execution_count": 48,
   "metadata": {},
   "outputs": [
    {
     "data": {
      "text/plain": [
       "<AxesSubplot:>"
      ]
     },
     "execution_count": 48,
     "metadata": {},
     "output_type": "execute_result"
    },
    {
     "data": {
      "image/png": "[encoded data removed]",
      "text/plain": [
       "<Figure size 432x288 with 1 Axes>"
      ]
     },
     "metadata": {
      "needs_background": "light"
     },
     "output_type": "display_data"
    }
   ],
   "source": [
    "compara['real'].plot()\n",
    "compara['prediccion'].plot()"
   ]
  },
  {
   "cell_type": "code",
   "execution_count": 49,
   "metadata": {
    "scrolled": false
   },
   "outputs": [
    {
     "name": "stdout",
     "output_type": "stream",
     "text": [
      "Resultado del test: 31.86 MAE\n",
      "Resultado del test: 1868.14 MSE\n",
      "Resultado del test: 43.22 RMSE\n",
      "Resultado del test: 9.82 CVRMSE\n",
      "Resultado del test: 7.14 MAPE\n"
     ]
    }
   ],
   "source": [
    "# calculamos las metricas de error\n",
    "testScore_MAE, testScore_MSE, testScore_RMSE, testScore_CVRMSE, testScore_MAPE  =  compute_metrics_fn(prediccion, datosReales)\n",
    "print('Resultado del test: %.2f MAE' % (testScore_MAE))\n",
    "print('Resultado del test: %.2f MSE' % (testScore_MSE))\n",
    "print('Resultado del test: %.2f RMSE' % (testScore_RMSE))\n",
    "print('Resultado del test: %.2f CVRMSE' % (testScore_CVRMSE))\n",
    "print('Resultado del test: %.2f MAPE' % (testScore_MAPE))"
   ]
  },
  {
   "cell_type": "code",
   "execution_count": null,
   "metadata": {},
   "outputs": [],
   "source": []
  }
 ],
 "metadata": {
  "kernelspec": {
   "display_name": "Python 3",
   "language": "python",
   "name": "python3"
  },
  "language_info": {
   "codemirror_mode": {
    "name": "ipython",
    "version": 3
   },
   "file_extension": ".py",
   "mimetype": "text/x-python",
   "name": "python",
   "nbconvert_exporter": "python",
   "pygments_lexer": "ipython3",
   "version": "3.8.5"
  }
 },
 "nbformat": 4,
 "nbformat_minor": 4
}
