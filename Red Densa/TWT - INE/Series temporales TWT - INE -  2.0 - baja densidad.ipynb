{
 "cells": [
  {
   "cell_type": "code",
   "execution_count": 1,
   "metadata": {},
   "outputs": [],
   "source": [
    "import pandas as pd\n",
    "import numpy as np\n",
    "from tqdm import tqdm_notebook\n",
    "import os\n",
    "from sklearn.metrics import mean_squared_error, mean_absolute_error\n",
    "from sklearn.preprocessing import MinMaxScaler\n",
    "from keras.models import Sequential\n",
    "from keras.layers import Dense,Activation,Flatten,Dropout\n",
    "\n",
    "import matplotlib.pyplot as plt\n",
    "%matplotlib inline\n",
    "\n",
    "import warnings\n",
    "warnings.filterwarnings(\"ignore\")\n",
    "\n",
    "import datetime\n",
    "from datetime import date, timedelta\n",
    "e_date = datetime.datetime.strptime('2020-06-20', '%Y-%m-%d')\n",
    "i_date = datetime.datetime.strptime('2020-04-01', '%Y-%m-%d')\n",
    "\n",
    "data_path = 'D:/universidad/universidad 4/TFG/recursos para el desarrollo/datos procesados/OD'"
   ]
  },
  {
   "cell_type": "code",
   "execution_count": 2,
   "metadata": {},
   "outputs": [],
   "source": [
    "delta = e_date - i_date\n",
    "\n",
    "target_days = []\n",
    "for i in range(delta.days + 1):\n",
    "    day = i_date + timedelta(days=i)\n",
    "    target_days.append(day)"
   ]
  },
  {
   "cell_type": "code",
   "execution_count": 3,
   "metadata": {},
   "outputs": [],
   "source": [
    "def read_OD_fn(source_type):\n",
    "    ods = {}\n",
    "    for date in tqdm_notebook(target_days):\n",
    "        od_date= pd.read_csv(os.path.join(data_path, 'date_{}_OD_{}.csv'.format(source_type,date.strftime('%Y-%m-%d'))), \n",
    "                            index_col=0)\n",
    "        ods[date] = od_date\n",
    "    return ods"
   ]
  },
  {
   "cell_type": "code",
   "execution_count": 4,
   "metadata": {},
   "outputs": [
    {
     "data": {
      "application/vnd.jupyter.widget-view+json": {
       "model_id": "180b9a7a9e8b42f3900b6634811f4921",
       "version_major": 2,
       "version_minor": 0
      },
      "text/plain": [
       "  0%|          | 0/81 [00:00<?, ?it/s]"
      ]
     },
     "metadata": {},
     "output_type": "display_data"
    }
   ],
   "source": [
    "ine_ods = read_OD_fn('INE')"
   ]
  },
  {
   "cell_type": "code",
   "execution_count": 5,
   "metadata": {
    "scrolled": true
   },
   "outputs": [
    {
     "data": {
      "application/vnd.jupyter.widget-view+json": {
       "model_id": "aa7c44e78f9841b9b15a677dd89956a1",
       "version_major": 2,
       "version_minor": 0
      },
      "text/plain": [
       "  0%|          | 0/81 [00:00<?, ?it/s]"
      ]
     },
     "metadata": {},
     "output_type": "display_data"
    }
   ],
   "source": [
    "twt_ods = read_OD_fn('TWT')"
   ]
  },
  {
   "cell_type": "markdown",
   "metadata": {},
   "source": [
    "# Serializar los datos"
   ]
  },
  {
   "cell_type": "code",
   "execution_count": 6,
   "metadata": {
    "scrolled": true
   },
   "outputs": [
    {
     "data": {
      "application/vnd.jupyter.widget-view+json": {
       "model_id": "ff302c6f185b46fa80268af58d4f129f",
       "version_major": 2,
       "version_minor": 0
      },
      "text/plain": [
       "  0%|          | 0/81 [00:00<?, ?it/s]"
      ]
     },
     "metadata": {},
     "output_type": "display_data"
    },
    {
     "data": {
      "application/vnd.jupyter.widget-view+json": {
       "model_id": "764f0f9289cb45e19414fb661ba6ccf6",
       "version_major": 2,
       "version_minor": 0
      },
      "text/plain": [
       "  0%|          | 0/81 [00:00<?, ?it/s]"
      ]
     },
     "metadata": {},
     "output_type": "display_data"
    }
   ],
   "source": [
    "lista_twt1 = []\n",
    "lista_twt2 = []\n",
    "lista_twt3 = []\n",
    "lista_twt4 = []\n",
    "lista_twt5 = []\n",
    "\n",
    "for date in tqdm_notebook(target_days):\n",
    "    lista_twt1.append(twt_ods[date].loc['11CA','total'])\n",
    "    lista_twt2.append(twt_ods[date].loc['33PO','total'])\n",
    "    lista_twt3.append(twt_ods[date].loc['026V','total'])\n",
    "    lista_twt4.append(twt_ods[date].loc['21BU','total'])\n",
    "    lista_twt5.append(twt_ods[date].loc['49GI','total'])\n",
    "    \n",
    "    \n",
    "lista_ine1 = []\n",
    "lista_ine2 = []\n",
    "lista_ine3 = []\n",
    "lista_ine4 = []\n",
    "lista_ine5 = []\n",
    "\n",
    "for date in tqdm_notebook(target_days):\n",
    "    lista_ine1.append(ine_ods[date].loc['11CA','total'])\n",
    "    lista_ine2.append(ine_ods[date].loc['33PO','total'])\n",
    "    lista_ine3.append(ine_ods[date].loc['026V','total'])\n",
    "    lista_ine4.append(ine_ods[date].loc['21BU','total'])\n",
    "    lista_ine5.append(ine_ods[date].loc['49GI','total'])\n",
    "    "
   ]
  },
  {
   "cell_type": "code",
   "execution_count": 7,
   "metadata": {
    "scrolled": true
   },
   "outputs": [],
   "source": [
    "df_twt1 = pd.DataFrame (lista_twt1, columns = ['Viajes'], index= target_days)\n",
    "df_ine1 = pd.DataFrame (lista_ine1, columns = ['Viajes'], index= target_days)\n",
    "\n",
    "df_twt2 = pd.DataFrame (lista_twt2, columns = ['Viajes'], index= target_days)\n",
    "df_ine2 = pd.DataFrame (lista_ine2, columns = ['Viajes'], index= target_days)\n",
    "\n",
    "df_twt3 = pd.DataFrame (lista_twt3, columns = ['Viajes'], index= target_days)\n",
    "df_ine3 = pd.DataFrame (lista_ine3, columns = ['Viajes'], index= target_days)\n",
    "\n",
    "df_twt4 = pd.DataFrame (lista_twt4, columns = ['Viajes'], index= target_days)\n",
    "df_ine4 = pd.DataFrame (lista_ine4, columns = ['Viajes'], index= target_days)\n",
    "\n",
    "df_twt5 = pd.DataFrame (lista_twt5, columns = ['Viajes'], index= target_days)\n",
    "df_ine5 = pd.DataFrame (lista_ine5, columns = ['Viajes'], index= target_days)"
   ]
  },
  {
   "cell_type": "code",
   "execution_count": 8,
   "metadata": {},
   "outputs": [],
   "source": [
    "lista_twt = []\n",
    "lista_ine = []\n",
    "\n",
    "df_twt = df_twt1 + df_twt2 + df_twt3 + df_twt4 + df_twt5\n",
    "df_ine = df_ine1 + df_ine2 + df_ine3 + df_ine4 + df_ine5"
   ]
  },
  {
   "cell_type": "code",
   "execution_count": 9,
   "metadata": {},
   "outputs": [
    {
     "data": {
      "text/html": [
       "<div>\n",
       "<style scoped>\n",
       "    .dataframe tbody tr th:only-of-type {\n",
       "        vertical-align: middle;\n",
       "    }\n",
       "\n",
       "    .dataframe tbody tr th {\n",
       "        vertical-align: top;\n",
       "    }\n",
       "\n",
       "    .dataframe thead th {\n",
       "        text-align: right;\n",
       "    }\n",
       "</style>\n",
       "<table border=\"1\" class=\"dataframe\">\n",
       "  <thead>\n",
       "    <tr style=\"text-align: right;\">\n",
       "      <th></th>\n",
       "      <th>Viajes</th>\n",
       "    </tr>\n",
       "  </thead>\n",
       "  <tbody>\n",
       "    <tr>\n",
       "      <th>2020-04-01</th>\n",
       "      <td>0</td>\n",
       "    </tr>\n",
       "    <tr>\n",
       "      <th>2020-04-02</th>\n",
       "      <td>2</td>\n",
       "    </tr>\n",
       "    <tr>\n",
       "      <th>2020-04-03</th>\n",
       "      <td>0</td>\n",
       "    </tr>\n",
       "    <tr>\n",
       "      <th>2020-04-04</th>\n",
       "      <td>0</td>\n",
       "    </tr>\n",
       "    <tr>\n",
       "      <th>2020-04-05</th>\n",
       "      <td>0</td>\n",
       "    </tr>\n",
       "  </tbody>\n",
       "</table>\n",
       "</div>"
      ],
      "text/plain": [
       "            Viajes\n",
       "2020-04-01       0\n",
       "2020-04-02       2\n",
       "2020-04-03       0\n",
       "2020-04-04       0\n",
       "2020-04-05       0"
      ]
     },
     "execution_count": 9,
     "metadata": {},
     "output_type": "execute_result"
    }
   ],
   "source": [
    "df_twt.head()"
   ]
  },
  {
   "cell_type": "code",
   "execution_count": 10,
   "metadata": {},
   "outputs": [
    {
     "data": {
      "text/html": [
       "<div>\n",
       "<style scoped>\n",
       "    .dataframe tbody tr th:only-of-type {\n",
       "        vertical-align: middle;\n",
       "    }\n",
       "\n",
       "    .dataframe tbody tr th {\n",
       "        vertical-align: top;\n",
       "    }\n",
       "\n",
       "    .dataframe thead th {\n",
       "        text-align: right;\n",
       "    }\n",
       "</style>\n",
       "<table border=\"1\" class=\"dataframe\">\n",
       "  <thead>\n",
       "    <tr style=\"text-align: right;\">\n",
       "      <th></th>\n",
       "      <th>Viajes</th>\n",
       "    </tr>\n",
       "  </thead>\n",
       "  <tbody>\n",
       "    <tr>\n",
       "      <th>2020-04-01</th>\n",
       "      <td>194</td>\n",
       "    </tr>\n",
       "    <tr>\n",
       "      <th>2020-04-02</th>\n",
       "      <td>183</td>\n",
       "    </tr>\n",
       "    <tr>\n",
       "      <th>2020-04-03</th>\n",
       "      <td>317</td>\n",
       "    </tr>\n",
       "    <tr>\n",
       "      <th>2020-04-04</th>\n",
       "      <td>177</td>\n",
       "    </tr>\n",
       "    <tr>\n",
       "      <th>2020-04-05</th>\n",
       "      <td>142</td>\n",
       "    </tr>\n",
       "  </tbody>\n",
       "</table>\n",
       "</div>"
      ],
      "text/plain": [
       "            Viajes\n",
       "2020-04-01     194\n",
       "2020-04-02     183\n",
       "2020-04-03     317\n",
       "2020-04-04     177\n",
       "2020-04-05     142"
      ]
     },
     "execution_count": 10,
     "metadata": {},
     "output_type": "execute_result"
    }
   ],
   "source": [
    "df_ine.head()"
   ]
  },
  {
   "cell_type": "code",
   "execution_count": 11,
   "metadata": {},
   "outputs": [],
   "source": [
    "del twt_ods\n",
    "del ine_ods"
   ]
  },
  {
   "cell_type": "markdown",
   "metadata": {},
   "source": [
    "# Visualización de datos"
   ]
  },
  {
   "cell_type": "code",
   "execution_count": 12,
   "metadata": {},
   "outputs": [
    {
     "name": "stdout",
     "output_type": "stream",
     "text": [
      "2020-04-01 00:00:00\n",
      "2020-06-20 00:00:00\n"
     ]
    }
   ],
   "source": [
    "print(df_twt.index.min())\n",
    "print(df_ine.index.max())"
   ]
  },
  {
   "cell_type": "code",
   "execution_count": 13,
   "metadata": {
    "scrolled": true
   },
   "outputs": [
    {
     "name": "stdout",
     "output_type": "stream",
     "text": [
      "81\n"
     ]
    }
   ],
   "source": [
    "print(len(df_twt['2020']))"
   ]
  },
  {
   "cell_type": "code",
   "execution_count": 14,
   "metadata": {},
   "outputs": [
    {
     "name": "stdout",
     "output_type": "stream",
     "text": [
      "81\n"
     ]
    }
   ],
   "source": [
    "print(len(df_ine['2020']))"
   ]
  },
  {
   "cell_type": "code",
   "execution_count": 15,
   "metadata": {
    "scrolled": true
   },
   "outputs": [
    {
     "data": {
      "text/html": [
       "<div>\n",
       "<style scoped>\n",
       "    .dataframe tbody tr th:only-of-type {\n",
       "        vertical-align: middle;\n",
       "    }\n",
       "\n",
       "    .dataframe tbody tr th {\n",
       "        vertical-align: top;\n",
       "    }\n",
       "\n",
       "    .dataframe thead th {\n",
       "        text-align: right;\n",
       "    }\n",
       "</style>\n",
       "<table border=\"1\" class=\"dataframe\">\n",
       "  <thead>\n",
       "    <tr style=\"text-align: right;\">\n",
       "      <th></th>\n",
       "      <th>Viajes</th>\n",
       "    </tr>\n",
       "  </thead>\n",
       "  <tbody>\n",
       "    <tr>\n",
       "      <th>count</th>\n",
       "      <td>81.000000</td>\n",
       "    </tr>\n",
       "    <tr>\n",
       "      <th>mean</th>\n",
       "      <td>0.407407</td>\n",
       "    </tr>\n",
       "    <tr>\n",
       "      <th>std</th>\n",
       "      <td>0.862812</td>\n",
       "    </tr>\n",
       "    <tr>\n",
       "      <th>min</th>\n",
       "      <td>0.000000</td>\n",
       "    </tr>\n",
       "    <tr>\n",
       "      <th>25%</th>\n",
       "      <td>0.000000</td>\n",
       "    </tr>\n",
       "    <tr>\n",
       "      <th>50%</th>\n",
       "      <td>0.000000</td>\n",
       "    </tr>\n",
       "    <tr>\n",
       "      <th>75%</th>\n",
       "      <td>0.000000</td>\n",
       "    </tr>\n",
       "    <tr>\n",
       "      <th>max</th>\n",
       "      <td>4.000000</td>\n",
       "    </tr>\n",
       "  </tbody>\n",
       "</table>\n",
       "</div>"
      ],
      "text/plain": [
       "          Viajes\n",
       "count  81.000000\n",
       "mean    0.407407\n",
       "std     0.862812\n",
       "min     0.000000\n",
       "25%     0.000000\n",
       "50%     0.000000\n",
       "75%     0.000000\n",
       "max     4.000000"
      ]
     },
     "execution_count": 15,
     "metadata": {},
     "output_type": "execute_result"
    }
   ],
   "source": [
    "df_twt.describe()"
   ]
  },
  {
   "cell_type": "code",
   "execution_count": 16,
   "metadata": {},
   "outputs": [
    {
     "data": {
      "text/html": [
       "<div>\n",
       "<style scoped>\n",
       "    .dataframe tbody tr th:only-of-type {\n",
       "        vertical-align: middle;\n",
       "    }\n",
       "\n",
       "    .dataframe tbody tr th {\n",
       "        vertical-align: top;\n",
       "    }\n",
       "\n",
       "    .dataframe thead th {\n",
       "        text-align: right;\n",
       "    }\n",
       "</style>\n",
       "<table border=\"1\" class=\"dataframe\">\n",
       "  <thead>\n",
       "    <tr style=\"text-align: right;\">\n",
       "      <th></th>\n",
       "      <th>Viajes</th>\n",
       "    </tr>\n",
       "  </thead>\n",
       "  <tbody>\n",
       "    <tr>\n",
       "      <th>count</th>\n",
       "      <td>81.000000</td>\n",
       "    </tr>\n",
       "    <tr>\n",
       "      <th>mean</th>\n",
       "      <td>366.592593</td>\n",
       "    </tr>\n",
       "    <tr>\n",
       "      <th>std</th>\n",
       "      <td>108.663446</td>\n",
       "    </tr>\n",
       "    <tr>\n",
       "      <th>min</th>\n",
       "      <td>110.000000</td>\n",
       "    </tr>\n",
       "    <tr>\n",
       "      <th>25%</th>\n",
       "      <td>303.000000</td>\n",
       "    </tr>\n",
       "    <tr>\n",
       "      <th>50%</th>\n",
       "      <td>390.000000</td>\n",
       "    </tr>\n",
       "    <tr>\n",
       "      <th>75%</th>\n",
       "      <td>433.000000</td>\n",
       "    </tr>\n",
       "    <tr>\n",
       "      <th>max</th>\n",
       "      <td>614.000000</td>\n",
       "    </tr>\n",
       "  </tbody>\n",
       "</table>\n",
       "</div>"
      ],
      "text/plain": [
       "           Viajes\n",
       "count   81.000000\n",
       "mean   366.592593\n",
       "std    108.663446\n",
       "min    110.000000\n",
       "25%    303.000000\n",
       "50%    390.000000\n",
       "75%    433.000000\n",
       "max    614.000000"
      ]
     },
     "execution_count": 16,
     "metadata": {},
     "output_type": "execute_result"
    }
   ],
   "source": [
    "df_ine.describe()"
   ]
  },
  {
   "cell_type": "code",
   "execution_count": 17,
   "metadata": {
    "scrolled": true
   },
   "outputs": [
    {
     "data": {
      "text/html": [
       "<div>\n",
       "<style scoped>\n",
       "    .dataframe tbody tr th:only-of-type {\n",
       "        vertical-align: middle;\n",
       "    }\n",
       "\n",
       "    .dataframe tbody tr th {\n",
       "        vertical-align: top;\n",
       "    }\n",
       "\n",
       "    .dataframe thead th {\n",
       "        text-align: right;\n",
       "    }\n",
       "</style>\n",
       "<table border=\"1\" class=\"dataframe\">\n",
       "  <thead>\n",
       "    <tr style=\"text-align: right;\">\n",
       "      <th></th>\n",
       "      <th>Viajes</th>\n",
       "    </tr>\n",
       "  </thead>\n",
       "  <tbody>\n",
       "    <tr>\n",
       "      <th>2020-04-30</th>\n",
       "      <td>0.366667</td>\n",
       "    </tr>\n",
       "    <tr>\n",
       "      <th>2020-05-31</th>\n",
       "      <td>0.387097</td>\n",
       "    </tr>\n",
       "    <tr>\n",
       "      <th>2020-06-30</th>\n",
       "      <td>0.500000</td>\n",
       "    </tr>\n",
       "  </tbody>\n",
       "</table>\n",
       "</div>"
      ],
      "text/plain": [
       "              Viajes\n",
       "2020-04-30  0.366667\n",
       "2020-05-31  0.387097\n",
       "2020-06-30  0.500000"
      ]
     },
     "execution_count": 17,
     "metadata": {},
     "output_type": "execute_result"
    }
   ],
   "source": [
    "meses = df_twt.resample('M').mean()\n",
    "meses"
   ]
  },
  {
   "cell_type": "code",
   "execution_count": 18,
   "metadata": {},
   "outputs": [
    {
     "data": {
      "text/html": [
       "<div>\n",
       "<style scoped>\n",
       "    .dataframe tbody tr th:only-of-type {\n",
       "        vertical-align: middle;\n",
       "    }\n",
       "\n",
       "    .dataframe tbody tr th {\n",
       "        vertical-align: top;\n",
       "    }\n",
       "\n",
       "    .dataframe thead th {\n",
       "        text-align: right;\n",
       "    }\n",
       "</style>\n",
       "<table border=\"1\" class=\"dataframe\">\n",
       "  <thead>\n",
       "    <tr style=\"text-align: right;\">\n",
       "      <th></th>\n",
       "      <th>Viajes</th>\n",
       "    </tr>\n",
       "  </thead>\n",
       "  <tbody>\n",
       "    <tr>\n",
       "      <th>2020-04-30</th>\n",
       "      <td>276.233333</td>\n",
       "    </tr>\n",
       "    <tr>\n",
       "      <th>2020-05-31</th>\n",
       "      <td>402.096774</td>\n",
       "    </tr>\n",
       "    <tr>\n",
       "      <th>2020-06-30</th>\n",
       "      <td>447.100000</td>\n",
       "    </tr>\n",
       "  </tbody>\n",
       "</table>\n",
       "</div>"
      ],
      "text/plain": [
       "                Viajes\n",
       "2020-04-30  276.233333\n",
       "2020-05-31  402.096774\n",
       "2020-06-30  447.100000"
      ]
     },
     "execution_count": 18,
     "metadata": {},
     "output_type": "execute_result"
    }
   ],
   "source": [
    "meses = df_ine.resample('M').mean()\n",
    "meses"
   ]
  },
  {
   "cell_type": "code",
   "execution_count": 19,
   "metadata": {
    "scrolled": true
   },
   "outputs": [
    {
     "data": {
      "text/plain": [
       "[<matplotlib.lines.Line2D at 0x1fcd5e94bb0>]"
      ]
     },
     "execution_count": 19,
     "metadata": {},
     "output_type": "execute_result"
    },
    {
     "data": {
      "image/png": "[encoded data removed]",
      "text/plain": [
       "<Figure size 432x288 with 1 Axes>"
      ]
     },
     "metadata": {
      "needs_background": "light"
     },
     "output_type": "display_data"
    }
   ],
   "source": [
    "abril = df_twt['2020-04-01':'2020-04-30']\n",
    "plt.plot(abril.values)\n",
    "mayo = df_twt['2020-05-01':'2020-05-31']\n",
    "plt.plot(mayo.values)\n",
    "junio = df_twt['2020-06-01':'2020-06-20']\n",
    "plt.plot(junio.values)"
   ]
  },
  {
   "cell_type": "code",
   "execution_count": 20,
   "metadata": {},
   "outputs": [
    {
     "data": {
      "text/plain": [
       "[<matplotlib.lines.Line2D at 0x1fceb44a670>]"
      ]
     },
     "execution_count": 20,
     "metadata": {},
     "output_type": "execute_result"
    },
    {
     "data": {
      "image/png": "[encoded data removed]",
      "text/plain": [
       "<Figure size 432x288 with 1 Axes>"
      ]
     },
     "metadata": {
      "needs_background": "light"
     },
     "output_type": "display_data"
    }
   ],
   "source": [
    "abril = df_ine['2020-04-01':'2020-04-30']\n",
    "plt.plot(abril.values)\n",
    "mayo = df_ine['2020-05-01':'2020-05-31']\n",
    "plt.plot(mayo.values)\n",
    "junio = df_ine['2020-06-01':'2020-06-20']\n",
    "plt.plot(junio.values)"
   ]
  },
  {
   "cell_type": "markdown",
   "metadata": {},
   "source": [
    "# Preprocesado de datos"
   ]
  },
  {
   "cell_type": "code",
   "execution_count": 21,
   "metadata": {},
   "outputs": [
    {
     "data": {
      "text/html": [
       "<div>\n",
       "<style scoped>\n",
       "    .dataframe tbody tr th:only-of-type {\n",
       "        vertical-align: middle;\n",
       "    }\n",
       "\n",
       "    .dataframe tbody tr th {\n",
       "        vertical-align: top;\n",
       "    }\n",
       "\n",
       "    .dataframe thead th {\n",
       "        text-align: right;\n",
       "    }\n",
       "</style>\n",
       "<table border=\"1\" class=\"dataframe\">\n",
       "  <thead>\n",
       "    <tr style=\"text-align: right;\">\n",
       "      <th></th>\n",
       "      <th>var1(t-7)</th>\n",
       "      <th>var1(t-6)</th>\n",
       "      <th>var1(t-5)</th>\n",
       "      <th>var1(t-4)</th>\n",
       "      <th>var1(t-3)</th>\n",
       "      <th>var1(t-2)</th>\n",
       "      <th>var1(t-1)</th>\n",
       "      <th>var1(t)</th>\n",
       "    </tr>\n",
       "  </thead>\n",
       "  <tbody>\n",
       "    <tr>\n",
       "      <th>76</th>\n",
       "      <td>0.0</td>\n",
       "      <td>-1.0</td>\n",
       "      <td>-1.0</td>\n",
       "      <td>0.0</td>\n",
       "      <td>-1.0</td>\n",
       "      <td>-1.0</td>\n",
       "      <td>-1.0</td>\n",
       "      <td>-1.0</td>\n",
       "    </tr>\n",
       "    <tr>\n",
       "      <th>77</th>\n",
       "      <td>-1.0</td>\n",
       "      <td>-1.0</td>\n",
       "      <td>0.0</td>\n",
       "      <td>-1.0</td>\n",
       "      <td>-1.0</td>\n",
       "      <td>-1.0</td>\n",
       "      <td>-1.0</td>\n",
       "      <td>0.5</td>\n",
       "    </tr>\n",
       "    <tr>\n",
       "      <th>78</th>\n",
       "      <td>-1.0</td>\n",
       "      <td>0.0</td>\n",
       "      <td>-1.0</td>\n",
       "      <td>-1.0</td>\n",
       "      <td>-1.0</td>\n",
       "      <td>-1.0</td>\n",
       "      <td>0.5</td>\n",
       "      <td>-0.5</td>\n",
       "    </tr>\n",
       "    <tr>\n",
       "      <th>79</th>\n",
       "      <td>0.0</td>\n",
       "      <td>-1.0</td>\n",
       "      <td>-1.0</td>\n",
       "      <td>-1.0</td>\n",
       "      <td>-1.0</td>\n",
       "      <td>0.5</td>\n",
       "      <td>-0.5</td>\n",
       "      <td>-1.0</td>\n",
       "    </tr>\n",
       "    <tr>\n",
       "      <th>80</th>\n",
       "      <td>-1.0</td>\n",
       "      <td>-1.0</td>\n",
       "      <td>-1.0</td>\n",
       "      <td>-1.0</td>\n",
       "      <td>0.5</td>\n",
       "      <td>-0.5</td>\n",
       "      <td>-1.0</td>\n",
       "      <td>-1.0</td>\n",
       "    </tr>\n",
       "  </tbody>\n",
       "</table>\n",
       "</div>"
      ],
      "text/plain": [
       "    var1(t-7)  var1(t-6)  var1(t-5)  var1(t-4)  var1(t-3)  var1(t-2)  \\\n",
       "76        0.0       -1.0       -1.0        0.0       -1.0       -1.0   \n",
       "77       -1.0       -1.0        0.0       -1.0       -1.0       -1.0   \n",
       "78       -1.0        0.0       -1.0       -1.0       -1.0       -1.0   \n",
       "79        0.0       -1.0       -1.0       -1.0       -1.0        0.5   \n",
       "80       -1.0       -1.0       -1.0       -1.0        0.5       -0.5   \n",
       "\n",
       "    var1(t-1)  var1(t)  \n",
       "76       -1.0     -1.0  \n",
       "77       -1.0      0.5  \n",
       "78        0.5     -0.5  \n",
       "79       -0.5     -1.0  \n",
       "80       -1.0     -1.0  "
      ]
     },
     "execution_count": 21,
     "metadata": {},
     "output_type": "execute_result"
    }
   ],
   "source": [
    "# cantidad de dias previos que se usaran para predecir el siguiente dia \n",
    "look_back=7\n",
    "\n",
    "# convertir series en conocimiento supervisado\n",
    "def series_to_supervised(data, n_in=1, n_out=1, dropnan=True):\n",
    "    n_vars = 1 if type(data) is list else data.shape[1]\n",
    "    df = pd.DataFrame(data)\n",
    "    cols, names = list(), list()\n",
    "    # secuencia de entrada (t-n, ... t-1)\n",
    "    for i in range(n_in, 0, -1):\n",
    "        cols.append(df.shift(i))\n",
    "        names += [('var%d(t-%d)' % (j+1, i)) for j in range(n_vars)]\n",
    "    # secuencia del pronostico (t, t+1, ... t+n)\n",
    "    for i in range(0, n_out):\n",
    "        cols.append(df.shift(-i))\n",
    "        if i == 0:\n",
    "            names += [('var%d(t)' % (j+1)) for j in range(n_vars)]\n",
    "        else:\n",
    "            names += [('var%d(t+%d)' % (j+1, i)) for j in range(n_vars)]\n",
    "    # unimos todo\n",
    "    agg = pd.concat(cols, axis=1)\n",
    "    agg.columns = names\n",
    "    # eliminamos todos los valores nulos\n",
    "    if dropnan:\n",
    "        agg.dropna(inplace=True)\n",
    "    return agg\n",
    " \n",
    "# cargamos el dataframe en la variable values\n",
    "values_twt = df_twt.values\n",
    "values_ine = df_ine.values\n",
    "\n",
    "# convertimos los enteros en floats\n",
    "values_twt = values_twt.astype('float32')\n",
    "values_ine = values_ine.astype('float32')\n",
    "\n",
    "# normalizamos los datos a escala de entre -1 y 1\n",
    "scaler = MinMaxScaler(feature_range=(-1, 1))\n",
    "values_twt=values_twt.reshape(-1, 1) # esto lo hacemos porque tenemos 1 sola dimension\n",
    "values_ine=values_ine.reshape(-1, 1) # esto lo hacemos porque tenemos 1 sola dimension\n",
    "scaled_twt = scaler.fit_transform(values_twt)\n",
    "scaled_ine = scaler.fit_transform(values_ine)\n",
    "\n",
    "# usamos la funcion definida previamente\n",
    "reframed_twt = series_to_supervised(scaled_twt, look_back, 1)\n",
    "reframed_ine = series_to_supervised(scaled_ine, look_back, 1)\n",
    "\n",
    "#imprimimos los nuevos datos\n",
    "reframed_twt.tail()"
   ]
  },
  {
   "cell_type": "code",
   "execution_count": 22,
   "metadata": {
    "scrolled": false
   },
   "outputs": [
    {
     "data": {
      "text/html": [
       "<div>\n",
       "<style scoped>\n",
       "    .dataframe tbody tr th:only-of-type {\n",
       "        vertical-align: middle;\n",
       "    }\n",
       "\n",
       "    .dataframe tbody tr th {\n",
       "        vertical-align: top;\n",
       "    }\n",
       "\n",
       "    .dataframe thead th {\n",
       "        text-align: right;\n",
       "    }\n",
       "</style>\n",
       "<table border=\"1\" class=\"dataframe\">\n",
       "  <thead>\n",
       "    <tr style=\"text-align: right;\">\n",
       "      <th></th>\n",
       "      <th>var2(t-7)</th>\n",
       "      <th>var2(t-6)</th>\n",
       "      <th>var2(t-5)</th>\n",
       "      <th>var2(t-4)</th>\n",
       "      <th>var2(t-3)</th>\n",
       "      <th>var2(t-2)</th>\n",
       "      <th>var2(t-1)</th>\n",
       "      <th>var2(t)</th>\n",
       "    </tr>\n",
       "  </thead>\n",
       "  <tbody>\n",
       "    <tr>\n",
       "      <th>76</th>\n",
       "      <td>0.202381</td>\n",
       "      <td>0.333333</td>\n",
       "      <td>0.384921</td>\n",
       "      <td>0.202381</td>\n",
       "      <td>0.134921</td>\n",
       "      <td>0.075397</td>\n",
       "      <td>1.000000</td>\n",
       "      <td>0.420635</td>\n",
       "    </tr>\n",
       "    <tr>\n",
       "      <th>77</th>\n",
       "      <td>0.333333</td>\n",
       "      <td>0.384921</td>\n",
       "      <td>0.202381</td>\n",
       "      <td>0.134921</td>\n",
       "      <td>0.075397</td>\n",
       "      <td>1.000000</td>\n",
       "      <td>0.420635</td>\n",
       "      <td>0.361111</td>\n",
       "    </tr>\n",
       "    <tr>\n",
       "      <th>78</th>\n",
       "      <td>0.384921</td>\n",
       "      <td>0.202381</td>\n",
       "      <td>0.134921</td>\n",
       "      <td>0.075397</td>\n",
       "      <td>1.000000</td>\n",
       "      <td>0.420635</td>\n",
       "      <td>0.361111</td>\n",
       "      <td>0.345238</td>\n",
       "    </tr>\n",
       "    <tr>\n",
       "      <th>79</th>\n",
       "      <td>0.202381</td>\n",
       "      <td>0.134921</td>\n",
       "      <td>0.075397</td>\n",
       "      <td>1.000000</td>\n",
       "      <td>0.420635</td>\n",
       "      <td>0.361111</td>\n",
       "      <td>0.345238</td>\n",
       "      <td>0.710318</td>\n",
       "    </tr>\n",
       "    <tr>\n",
       "      <th>80</th>\n",
       "      <td>0.134921</td>\n",
       "      <td>0.075397</td>\n",
       "      <td>1.000000</td>\n",
       "      <td>0.420635</td>\n",
       "      <td>0.361111</td>\n",
       "      <td>0.345238</td>\n",
       "      <td>0.710318</td>\n",
       "      <td>0.111111</td>\n",
       "    </tr>\n",
       "  </tbody>\n",
       "</table>\n",
       "</div>"
      ],
      "text/plain": [
       "    var2(t-7)  var2(t-6)  var2(t-5)  var2(t-4)  var2(t-3)  var2(t-2)  \\\n",
       "76   0.202381   0.333333   0.384921   0.202381   0.134921   0.075397   \n",
       "77   0.333333   0.384921   0.202381   0.134921   0.075397   1.000000   \n",
       "78   0.384921   0.202381   0.134921   0.075397   1.000000   0.420635   \n",
       "79   0.202381   0.134921   0.075397   1.000000   0.420635   0.361111   \n",
       "80   0.134921   0.075397   1.000000   0.420635   0.361111   0.345238   \n",
       "\n",
       "    var2(t-1)   var2(t)  \n",
       "76   1.000000  0.420635  \n",
       "77   0.420635  0.361111  \n",
       "78   0.361111  0.345238  \n",
       "79   0.345238  0.710318  \n",
       "80   0.710318  0.111111  "
      ]
     },
     "execution_count": 22,
     "metadata": {},
     "output_type": "execute_result"
    }
   ],
   "source": [
    "#cambiamos el nombre de las columnas\n",
    "reframed_ine.columns = ['var2(t-7)', 'var2(t-6)', 'var2(t-5)', 'var2(t-4)', 'var2(t-3)', 'var2(t-2)', 'var2(t-1)', 'var2(t)']\n",
    "reframed_ine.tail()"
   ]
  },
  {
   "cell_type": "code",
   "execution_count": 23,
   "metadata": {
    "scrolled": false
   },
   "outputs": [
    {
     "data": {
      "text/html": [
       "<div>\n",
       "<style scoped>\n",
       "    .dataframe tbody tr th:only-of-type {\n",
       "        vertical-align: middle;\n",
       "    }\n",
       "\n",
       "    .dataframe tbody tr th {\n",
       "        vertical-align: top;\n",
       "    }\n",
       "\n",
       "    .dataframe thead th {\n",
       "        text-align: right;\n",
       "    }\n",
       "</style>\n",
       "<table border=\"1\" class=\"dataframe\">\n",
       "  <thead>\n",
       "    <tr style=\"text-align: right;\">\n",
       "      <th></th>\n",
       "      <th>var1(t-7)</th>\n",
       "      <th>var2(t-7)</th>\n",
       "      <th>var1(t-6)</th>\n",
       "      <th>var2(t-6)</th>\n",
       "      <th>var1(t-5)</th>\n",
       "      <th>var2(t-5)</th>\n",
       "      <th>var1(t-4)</th>\n",
       "      <th>var2(t-4)</th>\n",
       "      <th>var1(t-3)</th>\n",
       "      <th>var2(t-3)</th>\n",
       "      <th>var1(t-2)</th>\n",
       "      <th>var2(t-2)</th>\n",
       "      <th>var1(t-1)</th>\n",
       "      <th>var2(t-1)</th>\n",
       "      <th>var2(t)</th>\n",
       "    </tr>\n",
       "  </thead>\n",
       "  <tbody>\n",
       "    <tr>\n",
       "      <th>76</th>\n",
       "      <td>0.0</td>\n",
       "      <td>0.202381</td>\n",
       "      <td>-1.0</td>\n",
       "      <td>0.333333</td>\n",
       "      <td>-1.0</td>\n",
       "      <td>0.384921</td>\n",
       "      <td>0.0</td>\n",
       "      <td>0.202381</td>\n",
       "      <td>-1.0</td>\n",
       "      <td>0.134921</td>\n",
       "      <td>-1.0</td>\n",
       "      <td>0.075397</td>\n",
       "      <td>-1.0</td>\n",
       "      <td>1.000000</td>\n",
       "      <td>0.420635</td>\n",
       "    </tr>\n",
       "    <tr>\n",
       "      <th>77</th>\n",
       "      <td>-1.0</td>\n",
       "      <td>0.333333</td>\n",
       "      <td>-1.0</td>\n",
       "      <td>0.384921</td>\n",
       "      <td>0.0</td>\n",
       "      <td>0.202381</td>\n",
       "      <td>-1.0</td>\n",
       "      <td>0.134921</td>\n",
       "      <td>-1.0</td>\n",
       "      <td>0.075397</td>\n",
       "      <td>-1.0</td>\n",
       "      <td>1.000000</td>\n",
       "      <td>-1.0</td>\n",
       "      <td>0.420635</td>\n",
       "      <td>0.361111</td>\n",
       "    </tr>\n",
       "    <tr>\n",
       "      <th>78</th>\n",
       "      <td>-1.0</td>\n",
       "      <td>0.384921</td>\n",
       "      <td>0.0</td>\n",
       "      <td>0.202381</td>\n",
       "      <td>-1.0</td>\n",
       "      <td>0.134921</td>\n",
       "      <td>-1.0</td>\n",
       "      <td>0.075397</td>\n",
       "      <td>-1.0</td>\n",
       "      <td>1.000000</td>\n",
       "      <td>-1.0</td>\n",
       "      <td>0.420635</td>\n",
       "      <td>0.5</td>\n",
       "      <td>0.361111</td>\n",
       "      <td>0.345238</td>\n",
       "    </tr>\n",
       "    <tr>\n",
       "      <th>79</th>\n",
       "      <td>0.0</td>\n",
       "      <td>0.202381</td>\n",
       "      <td>-1.0</td>\n",
       "      <td>0.134921</td>\n",
       "      <td>-1.0</td>\n",
       "      <td>0.075397</td>\n",
       "      <td>-1.0</td>\n",
       "      <td>1.000000</td>\n",
       "      <td>-1.0</td>\n",
       "      <td>0.420635</td>\n",
       "      <td>0.5</td>\n",
       "      <td>0.361111</td>\n",
       "      <td>-0.5</td>\n",
       "      <td>0.345238</td>\n",
       "      <td>0.710318</td>\n",
       "    </tr>\n",
       "    <tr>\n",
       "      <th>80</th>\n",
       "      <td>-1.0</td>\n",
       "      <td>0.134921</td>\n",
       "      <td>-1.0</td>\n",
       "      <td>0.075397</td>\n",
       "      <td>-1.0</td>\n",
       "      <td>1.000000</td>\n",
       "      <td>-1.0</td>\n",
       "      <td>0.420635</td>\n",
       "      <td>0.5</td>\n",
       "      <td>0.361111</td>\n",
       "      <td>-0.5</td>\n",
       "      <td>0.345238</td>\n",
       "      <td>-1.0</td>\n",
       "      <td>0.710318</td>\n",
       "      <td>0.111111</td>\n",
       "    </tr>\n",
       "  </tbody>\n",
       "</table>\n",
       "</div>"
      ],
      "text/plain": [
       "    var1(t-7)  var2(t-7)  var1(t-6)  var2(t-6)  var1(t-5)  var2(t-5)  \\\n",
       "76        0.0   0.202381       -1.0   0.333333       -1.0   0.384921   \n",
       "77       -1.0   0.333333       -1.0   0.384921        0.0   0.202381   \n",
       "78       -1.0   0.384921        0.0   0.202381       -1.0   0.134921   \n",
       "79        0.0   0.202381       -1.0   0.134921       -1.0   0.075397   \n",
       "80       -1.0   0.134921       -1.0   0.075397       -1.0   1.000000   \n",
       "\n",
       "    var1(t-4)  var2(t-4)  var1(t-3)  var2(t-3)  var1(t-2)  var2(t-2)  \\\n",
       "76        0.0   0.202381       -1.0   0.134921       -1.0   0.075397   \n",
       "77       -1.0   0.134921       -1.0   0.075397       -1.0   1.000000   \n",
       "78       -1.0   0.075397       -1.0   1.000000       -1.0   0.420635   \n",
       "79       -1.0   1.000000       -1.0   0.420635        0.5   0.361111   \n",
       "80       -1.0   0.420635        0.5   0.361111       -0.5   0.345238   \n",
       "\n",
       "    var1(t-1)  var2(t-1)   var2(t)  \n",
       "76       -1.0   1.000000  0.420635  \n",
       "77       -1.0   0.420635  0.361111  \n",
       "78        0.5   0.361111  0.345238  \n",
       "79       -0.5   0.345238  0.710318  \n",
       "80       -1.0   0.710318  0.111111  "
      ]
     },
     "execution_count": 23,
     "metadata": {},
     "output_type": "execute_result"
    }
   ],
   "source": [
    "#unimos los datos del ine con los de twitter\n",
    "reframed = pd.concat([reframed_twt.iloc[:, 0], reframed_ine.iloc[:, 0]], axis=1)\n",
    "\n",
    "for i in range(6):\n",
    "    reframed = pd.concat([reframed, reframed_twt.iloc[:, i+1]], axis=1)\n",
    "    reframed = pd.concat([reframed, reframed_ine.iloc[:, i+1]], axis=1)\n",
    "    \n",
    "reframed = pd.concat([reframed, reframed_ine.iloc[:, 7]], axis=1)\n",
    "\n",
    "reframed.tail()"
   ]
  },
  {
   "cell_type": "markdown",
   "metadata": {},
   "source": [
    "# Dividimos los datos en sets de entrenamiento y validacion"
   ]
  },
  {
   "cell_type": "code",
   "execution_count": 24,
   "metadata": {},
   "outputs": [
    {
     "name": "stdout",
     "output_type": "stream",
     "text": [
      "(54, 1, 14) (54,) (20, 1, 14) (20,)\n"
     ]
    }
   ],
   "source": [
    "#dividimos nuestro valores entre sets de entrenamiento y de test\n",
    "values = reframed.values\n",
    "n_train_days = 71 - (10+look_back)\n",
    "train = values[:n_train_days, :]\n",
    "test = values[n_train_days:, :]\n",
    "\n",
    "# split into input and outputs\n",
    "x_train, y_train = train[:, :-1], train[:, -1]\n",
    "x_val, y_val = test[:, :-1], test[:, -1]\n",
    "\n",
    "# reshape input to be 3D [samples, timesteps, features] - preguntar\n",
    "x_train = x_train.reshape((x_train.shape[0], 1, x_train.shape[1]))\n",
    "x_val = x_val.reshape((x_val.shape[0], 1, x_val.shape[1]))\n",
    "print(x_train.shape, y_train.shape, x_val.shape, y_val.shape)"
   ]
  },
  {
   "cell_type": "markdown",
   "metadata": {},
   "source": [
    "# Creamos la red neuronal"
   ]
  },
  {
   "cell_type": "code",
   "execution_count": 25,
   "metadata": {},
   "outputs": [],
   "source": [
    "def crear_modeloFF():\n",
    "    model = Sequential() \n",
    "    model.add(Dense(look_back, input_shape=(1,look_back*2),activation='tanh'))\n",
    "    model.add(Flatten())\n",
    "    model.add(Dense(100, activation='tanh'))\n",
    "    model.add(Dropout(0.30))\n",
    "    model.add(Dense(100, activation='tanh'))\n",
    "    model.add(Dropout(0.30))\n",
    "    model.add(Dense(100, activation='tanh'))\n",
    "    model.add(Dropout(0.30))\n",
    "    model.add(Dense(100, activation='tanh'))\n",
    "    model.add(Dropout(0.30))\n",
    "    model.add(Dense(1, activation='tanh'))\n",
    "    model.compile(loss='mean_absolute_error',optimizer='Adam',metrics=[\"mse\"])\n",
    "    model.summary()\n",
    "    return model"
   ]
  },
  {
   "cell_type": "code",
   "execution_count": 26,
   "metadata": {},
   "outputs": [
    {
     "name": "stdout",
     "output_type": "stream",
     "text": [
      "Model: \"sequential\"\n",
      "_________________________________________________________________\n",
      "Layer (type)                 Output Shape              Param #   \n",
      "=================================================================\n",
      "dense (Dense)                (None, 1, 7)              105       \n",
      "_________________________________________________________________\n",
      "flatten (Flatten)            (None, 7)                 0         \n",
      "_________________________________________________________________\n",
      "dense_1 (Dense)              (None, 100)               800       \n",
      "_________________________________________________________________\n",
      "dropout (Dropout)            (None, 100)               0         \n",
      "_________________________________________________________________\n",
      "dense_2 (Dense)              (None, 100)               10100     \n",
      "_________________________________________________________________\n",
      "dropout_1 (Dropout)          (None, 100)               0         \n",
      "_________________________________________________________________\n",
      "dense_3 (Dense)              (None, 100)               10100     \n",
      "_________________________________________________________________\n",
      "dropout_2 (Dropout)          (None, 100)               0         \n",
      "_________________________________________________________________\n",
      "dense_4 (Dense)              (None, 100)               10100     \n",
      "_________________________________________________________________\n",
      "dropout_3 (Dropout)          (None, 100)               0         \n",
      "_________________________________________________________________\n",
      "dense_5 (Dense)              (None, 1)                 101       \n",
      "=================================================================\n",
      "Total params: 31,306\n",
      "Trainable params: 31,306\n",
      "Non-trainable params: 0\n",
      "_________________________________________________________________\n",
      "Epoch 1/200\n",
      "8/8 [==============================] - 3s 278ms/step - loss: 0.4682 - mse: 0.3191 - val_loss: 0.2832 - val_mse: 0.1509\n",
      "Epoch 2/200\n",
      "8/8 [==============================] - 0s 13ms/step - loss: 0.3778 - mse: 0.2402 - val_loss: 0.3299 - val_mse: 0.1790\n",
      "Epoch 3/200\n",
      "8/8 [==============================] - 0s 12ms/step - loss: 0.4388 - mse: 0.3189 - val_loss: 0.2699 - val_mse: 0.1173\n",
      "Epoch 4/200\n",
      "8/8 [==============================] - 0s 12ms/step - loss: 0.3015 - mse: 0.1632 - val_loss: 0.3670 - val_mse: 0.2121\n",
      "Epoch 5/200\n",
      "8/8 [==============================] - 0s 14ms/step - loss: 0.4757 - mse: 0.3373 - val_loss: 0.3645 - val_mse: 0.2124\n",
      "Epoch 6/200\n",
      "8/8 [==============================] - 0s 13ms/step - loss: 0.4046 - mse: 0.2483 - val_loss: 0.2915 - val_mse: 0.1159\n",
      "Epoch 7/200\n",
      "8/8 [==============================] - 0s 11ms/step - loss: 0.3535 - mse: 0.1966 - val_loss: 0.2569 - val_mse: 0.1152\n",
      "Epoch 8/200\n",
      "8/8 [==============================] - 0s 12ms/step - loss: 0.3338 - mse: 0.1795 - val_loss: 0.2692 - val_mse: 0.1407\n",
      "Epoch 9/200\n",
      "8/8 [==============================] - 0s 12ms/step - loss: 0.3191 - mse: 0.1641 - val_loss: 0.2647 - val_mse: 0.1224\n",
      "Epoch 10/200\n",
      "8/8 [==============================] - 0s 12ms/step - loss: 0.2711 - mse: 0.1248 - val_loss: 0.2618 - val_mse: 0.1331\n",
      "Epoch 11/200\n",
      "8/8 [==============================] - 0s 13ms/step - loss: 0.2902 - mse: 0.1325 - val_loss: 0.2537 - val_mse: 0.1007\n",
      "Epoch 12/200\n",
      "8/8 [==============================] - 0s 12ms/step - loss: 0.2902 - mse: 0.1294 - val_loss: 0.2645 - val_mse: 0.1075\n",
      "Epoch 13/200\n",
      "8/8 [==============================] - 0s 12ms/step - loss: 0.2295 - mse: 0.0855 - val_loss: 0.2988 - val_mse: 0.1275\n",
      "Epoch 14/200\n",
      "8/8 [==============================] - 0s 13ms/step - loss: 0.3149 - mse: 0.1365 - val_loss: 0.3264 - val_mse: 0.1393\n",
      "Epoch 15/200\n",
      "8/8 [==============================] - 0s 13ms/step - loss: 0.3096 - mse: 0.1532 - val_loss: 0.2556 - val_mse: 0.1093\n",
      "Epoch 16/200\n",
      "8/8 [==============================] - 0s 11ms/step - loss: 0.2895 - mse: 0.1201 - val_loss: 0.2332 - val_mse: 0.0947\n",
      "Epoch 17/200\n",
      "8/8 [==============================] - 0s 11ms/step - loss: 0.3023 - mse: 0.1295 - val_loss: 0.2780 - val_mse: 0.1092\n",
      "Epoch 18/200\n",
      "8/8 [==============================] - 0s 7ms/step - loss: 0.2785 - mse: 0.1165 - val_loss: 0.2798 - val_mse: 0.1158\n",
      "Epoch 19/200\n",
      "8/8 [==============================] - 0s 7ms/step - loss: 0.2522 - mse: 0.1151 - val_loss: 0.2688 - val_mse: 0.1080\n",
      "Epoch 20/200\n",
      "8/8 [==============================] - 0s 6ms/step - loss: 0.2477 - mse: 0.1103 - val_loss: 0.2680 - val_mse: 0.1079\n",
      "Epoch 21/200\n",
      "8/8 [==============================] - 0s 6ms/step - loss: 0.2613 - mse: 0.1032 - val_loss: 0.2606 - val_mse: 0.1139\n",
      "Epoch 22/200\n",
      "8/8 [==============================] - 0s 6ms/step - loss: 0.2189 - mse: 0.0876 - val_loss: 0.2553 - val_mse: 0.1071\n",
      "Epoch 23/200\n",
      "8/8 [==============================] - 0s 6ms/step - loss: 0.2656 - mse: 0.1189 - val_loss: 0.2517 - val_mse: 0.1128\n",
      "Epoch 24/200\n",
      "8/8 [==============================] - 0s 6ms/step - loss: 0.2003 - mse: 0.0664 - val_loss: 0.2606 - val_mse: 0.1012\n",
      "Epoch 25/200\n",
      "8/8 [==============================] - 0s 6ms/step - loss: 0.2435 - mse: 0.0897 - val_loss: 0.2644 - val_mse: 0.1085\n",
      "Epoch 26/200\n",
      "8/8 [==============================] - 0s 7ms/step - loss: 0.2541 - mse: 0.1127 - val_loss: 0.2709 - val_mse: 0.1162\n",
      "Epoch 27/200\n",
      "8/8 [==============================] - 0s 7ms/step - loss: 0.2815 - mse: 0.1282 - val_loss: 0.2751 - val_mse: 0.1243\n",
      "Epoch 28/200\n",
      "8/8 [==============================] - 0s 8ms/step - loss: 0.2406 - mse: 0.0899 - val_loss: 0.2685 - val_mse: 0.1250\n",
      "Epoch 29/200\n",
      "8/8 [==============================] - 0s 7ms/step - loss: 0.2574 - mse: 0.1019 - val_loss: 0.2487 - val_mse: 0.1051\n",
      "Epoch 30/200\n",
      "8/8 [==============================] - 0s 7ms/step - loss: 0.2319 - mse: 0.0900 - val_loss: 0.2509 - val_mse: 0.1067\n",
      "Epoch 31/200\n",
      "8/8 [==============================] - 0s 7ms/step - loss: 0.2209 - mse: 0.0695 - val_loss: 0.2434 - val_mse: 0.0982\n",
      "Epoch 32/200\n",
      "8/8 [==============================] - 0s 7ms/step - loss: 0.2560 - mse: 0.0941 - val_loss: 0.2322 - val_mse: 0.0885\n",
      "Epoch 33/200\n",
      "8/8 [==============================] - 0s 7ms/step - loss: 0.2314 - mse: 0.0915 - val_loss: 0.2237 - val_mse: 0.0835\n",
      "Epoch 34/200\n",
      "8/8 [==============================] - 0s 7ms/step - loss: 0.2146 - mse: 0.0767 - val_loss: 0.2127 - val_mse: 0.0794\n",
      "Epoch 35/200\n",
      "8/8 [==============================] - 0s 7ms/step - loss: 0.2437 - mse: 0.0892 - val_loss: 0.2158 - val_mse: 0.0861\n",
      "Epoch 36/200\n",
      "8/8 [==============================] - 0s 7ms/step - loss: 0.2167 - mse: 0.0776 - val_loss: 0.2577 - val_mse: 0.0988\n",
      "Epoch 37/200\n",
      "8/8 [==============================] - 0s 7ms/step - loss: 0.2350 - mse: 0.0998 - val_loss: 0.2599 - val_mse: 0.1014\n",
      "Epoch 38/200\n",
      "8/8 [==============================] - 0s 8ms/step - loss: 0.2309 - mse: 0.0818 - val_loss: 0.2587 - val_mse: 0.1029\n",
      "Epoch 39/200\n",
      "8/8 [==============================] - 0s 7ms/step - loss: 0.2418 - mse: 0.0843 - val_loss: 0.2537 - val_mse: 0.1024\n",
      "Epoch 40/200\n",
      "8/8 [==============================] - 0s 7ms/step - loss: 0.1892 - mse: 0.0566 - val_loss: 0.2541 - val_mse: 0.1006\n",
      "Epoch 41/200\n",
      "8/8 [==============================] - 0s 7ms/step - loss: 0.2403 - mse: 0.0962 - val_loss: 0.2399 - val_mse: 0.0986\n",
      "Epoch 42/200\n",
      "8/8 [==============================] - 0s 7ms/step - loss: 0.2185 - mse: 0.0678 - val_loss: 0.2389 - val_mse: 0.0986\n",
      "Epoch 43/200\n",
      "8/8 [==============================] - 0s 7ms/step - loss: 0.2142 - mse: 0.0809 - val_loss: 0.2517 - val_mse: 0.1020\n",
      "Epoch 44/200\n",
      "8/8 [==============================] - 0s 6ms/step - loss: 0.2217 - mse: 0.0899 - val_loss: 0.2452 - val_mse: 0.0991\n",
      "Epoch 45/200\n",
      "8/8 [==============================] - 0s 7ms/step - loss: 0.1923 - mse: 0.0581 - val_loss: 0.2464 - val_mse: 0.0984\n",
      "Epoch 46/200\n",
      "8/8 [==============================] - 0s 7ms/step - loss: 0.2652 - mse: 0.1023 - val_loss: 0.2514 - val_mse: 0.0990\n",
      "Epoch 47/200\n",
      "8/8 [==============================] - 0s 7ms/step - loss: 0.2124 - mse: 0.0700 - val_loss: 0.2492 - val_mse: 0.1006\n",
      "Epoch 48/200\n",
      "8/8 [==============================] - 0s 6ms/step - loss: 0.2369 - mse: 0.0957 - val_loss: 0.2379 - val_mse: 0.0945\n",
      "Epoch 49/200\n",
      "8/8 [==============================] - 0s 7ms/step - loss: 0.2234 - mse: 0.0719 - val_loss: 0.2215 - val_mse: 0.0891\n",
      "Epoch 50/200\n"
     ]
    },
    {
     "name": "stdout",
     "output_type": "stream",
     "text": [
      "8/8 [==============================] - 0s 7ms/step - loss: 0.1977 - mse: 0.0705 - val_loss: 0.2271 - val_mse: 0.0949\n",
      "Epoch 51/200\n",
      "8/8 [==============================] - 0s 7ms/step - loss: 0.2238 - mse: 0.0775 - val_loss: 0.2519 - val_mse: 0.1042\n",
      "Epoch 52/200\n",
      "8/8 [==============================] - 0s 7ms/step - loss: 0.2039 - mse: 0.0600 - val_loss: 0.2737 - val_mse: 0.1132\n",
      "Epoch 53/200\n",
      "8/8 [==============================] - 0s 6ms/step - loss: 0.1968 - mse: 0.0629 - val_loss: 0.2551 - val_mse: 0.1092\n",
      "Epoch 54/200\n",
      "8/8 [==============================] - 0s 6ms/step - loss: 0.2179 - mse: 0.0726 - val_loss: 0.2588 - val_mse: 0.1117\n",
      "Epoch 55/200\n",
      "8/8 [==============================] - 0s 6ms/step - loss: 0.2223 - mse: 0.0721 - val_loss: 0.2588 - val_mse: 0.1122\n",
      "Epoch 56/200\n",
      "8/8 [==============================] - 0s 6ms/step - loss: 0.1813 - mse: 0.0626 - val_loss: 0.2578 - val_mse: 0.1071\n",
      "Epoch 57/200\n",
      "8/8 [==============================] - 0s 6ms/step - loss: 0.1928 - mse: 0.0657 - val_loss: 0.2537 - val_mse: 0.1093\n",
      "Epoch 58/200\n",
      "8/8 [==============================] - 0s 6ms/step - loss: 0.2221 - mse: 0.0759 - val_loss: 0.2628 - val_mse: 0.1122\n",
      "Epoch 59/200\n",
      "8/8 [==============================] - 0s 7ms/step - loss: 0.1924 - mse: 0.0670 - val_loss: 0.2604 - val_mse: 0.1126\n",
      "Epoch 60/200\n",
      "8/8 [==============================] - ETA: 0s - loss: 0.1682 - mse: 0.038 - 0s 7ms/step - loss: 0.2368 - mse: 0.0846 - val_loss: 0.2710 - val_mse: 0.1146\n",
      "Epoch 61/200\n",
      "8/8 [==============================] - 0s 7ms/step - loss: 0.2177 - mse: 0.0749 - val_loss: 0.2530 - val_mse: 0.1095\n",
      "Epoch 62/200\n",
      "8/8 [==============================] - 0s 7ms/step - loss: 0.2117 - mse: 0.0809 - val_loss: 0.2632 - val_mse: 0.1128\n",
      "Epoch 63/200\n",
      "8/8 [==============================] - 0s 6ms/step - loss: 0.1998 - mse: 0.0660 - val_loss: 0.2596 - val_mse: 0.1153\n",
      "Epoch 64/200\n",
      "8/8 [==============================] - 0s 6ms/step - loss: 0.2240 - mse: 0.0801 - val_loss: 0.2595 - val_mse: 0.1118\n",
      "Epoch 65/200\n",
      "8/8 [==============================] - 0s 6ms/step - loss: 0.2260 - mse: 0.0784 - val_loss: 0.2570 - val_mse: 0.1092\n",
      "Epoch 66/200\n",
      "8/8 [==============================] - 0s 6ms/step - loss: 0.1769 - mse: 0.0469 - val_loss: 0.2600 - val_mse: 0.1109\n",
      "Epoch 67/200\n",
      "8/8 [==============================] - 0s 7ms/step - loss: 0.2404 - mse: 0.0854 - val_loss: 0.2508 - val_mse: 0.1080\n",
      "Epoch 68/200\n",
      "8/8 [==============================] - 0s 7ms/step - loss: 0.2321 - mse: 0.0790 - val_loss: 0.2469 - val_mse: 0.1020\n",
      "Epoch 69/200\n",
      "8/8 [==============================] - 0s 7ms/step - loss: 0.2186 - mse: 0.0722 - val_loss: 0.2473 - val_mse: 0.1006\n",
      "Epoch 70/200\n",
      "8/8 [==============================] - 0s 7ms/step - loss: 0.1633 - mse: 0.0419 - val_loss: 0.2473 - val_mse: 0.1008\n",
      "Epoch 71/200\n",
      "8/8 [==============================] - 0s 7ms/step - loss: 0.2006 - mse: 0.0645 - val_loss: 0.2587 - val_mse: 0.1094\n",
      "Epoch 72/200\n",
      "8/8 [==============================] - 0s 7ms/step - loss: 0.2302 - mse: 0.0759 - val_loss: 0.2638 - val_mse: 0.1132\n",
      "Epoch 73/200\n",
      "8/8 [==============================] - 0s 7ms/step - loss: 0.2109 - mse: 0.0710 - val_loss: 0.2576 - val_mse: 0.1167\n",
      "Epoch 74/200\n",
      "8/8 [==============================] - 0s 6ms/step - loss: 0.1948 - mse: 0.0628 - val_loss: 0.2761 - val_mse: 0.1149\n",
      "Epoch 75/200\n",
      "8/8 [==============================] - 0s 7ms/step - loss: 0.2113 - mse: 0.0789 - val_loss: 0.2923 - val_mse: 0.1228\n",
      "Epoch 76/200\n",
      "8/8 [==============================] - 0s 7ms/step - loss: 0.2026 - mse: 0.0634 - val_loss: 0.2770 - val_mse: 0.1182\n",
      "Epoch 77/200\n",
      "8/8 [==============================] - 0s 7ms/step - loss: 0.2110 - mse: 0.0747 - val_loss: 0.2667 - val_mse: 0.1121\n",
      "Epoch 78/200\n",
      "8/8 [==============================] - 0s 7ms/step - loss: 0.1868 - mse: 0.0573 - val_loss: 0.2521 - val_mse: 0.1058\n",
      "Epoch 79/200\n",
      "8/8 [==============================] - 0s 7ms/step - loss: 0.2080 - mse: 0.0612 - val_loss: 0.2393 - val_mse: 0.1017\n",
      "Epoch 80/200\n",
      "8/8 [==============================] - 0s 7ms/step - loss: 0.1642 - mse: 0.0408 - val_loss: 0.2400 - val_mse: 0.1022\n",
      "Epoch 81/200\n",
      "8/8 [==============================] - 0s 7ms/step - loss: 0.1662 - mse: 0.0446 - val_loss: 0.2492 - val_mse: 0.1040\n",
      "Epoch 82/200\n",
      "8/8 [==============================] - 0s 7ms/step - loss: 0.2187 - mse: 0.0812 - val_loss: 0.2547 - val_mse: 0.1126\n",
      "Epoch 83/200\n",
      "8/8 [==============================] - 0s 7ms/step - loss: 0.2051 - mse: 0.0671 - val_loss: 0.2898 - val_mse: 0.1251\n",
      "Epoch 84/200\n",
      "8/8 [==============================] - 0s 7ms/step - loss: 0.1991 - mse: 0.0733 - val_loss: 0.3010 - val_mse: 0.1323\n",
      "Epoch 85/200\n",
      "8/8 [==============================] - 0s 7ms/step - loss: 0.2061 - mse: 0.0640 - val_loss: 0.2977 - val_mse: 0.1299\n",
      "Epoch 86/200\n",
      "8/8 [==============================] - 0s 7ms/step - loss: 0.1726 - mse: 0.0545 - val_loss: 0.2783 - val_mse: 0.1254\n",
      "Epoch 87/200\n",
      "8/8 [==============================] - 0s 7ms/step - loss: 0.1866 - mse: 0.0556 - val_loss: 0.2796 - val_mse: 0.1303\n",
      "Epoch 88/200\n",
      "8/8 [==============================] - 0s 7ms/step - loss: 0.2009 - mse: 0.0651 - val_loss: 0.2555 - val_mse: 0.1163\n",
      "Epoch 89/200\n",
      "8/8 [==============================] - 0s 7ms/step - loss: 0.1914 - mse: 0.0596 - val_loss: 0.2573 - val_mse: 0.1099\n",
      "Epoch 90/200\n",
      "8/8 [==============================] - ETA: 0s - loss: 0.1714 - mse: 0.043 - 0s 7ms/step - loss: 0.1830 - mse: 0.0579 - val_loss: 0.2658 - val_mse: 0.1130\n",
      "Epoch 91/200\n",
      "8/8 [==============================] - 0s 7ms/step - loss: 0.1735 - mse: 0.0515 - val_loss: 0.2772 - val_mse: 0.1196\n",
      "Epoch 92/200\n",
      "8/8 [==============================] - 0s 7ms/step - loss: 0.2168 - mse: 0.0785 - val_loss: 0.2656 - val_mse: 0.1150\n",
      "Epoch 93/200\n",
      "8/8 [==============================] - 0s 6ms/step - loss: 0.1532 - mse: 0.0398 - val_loss: 0.2438 - val_mse: 0.1089\n",
      "Epoch 94/200\n",
      "8/8 [==============================] - ETA: 0s - loss: 0.1457 - mse: 0.031 - 0s 7ms/step - loss: 0.2003 - mse: 0.0716 - val_loss: 0.2533 - val_mse: 0.1035\n",
      "Epoch 95/200\n",
      "8/8 [==============================] - 0s 7ms/step - loss: 0.2086 - mse: 0.0721 - val_loss: 0.2540 - val_mse: 0.1087\n",
      "Epoch 96/200\n",
      "8/8 [==============================] - 0s 7ms/step - loss: 0.1700 - mse: 0.0475 - val_loss: 0.2566 - val_mse: 0.1113\n",
      "Epoch 97/200\n",
      "8/8 [==============================] - 0s 6ms/step - loss: 0.1619 - mse: 0.0480 - val_loss: 0.2558 - val_mse: 0.1082\n",
      "Epoch 98/200\n",
      "8/8 [==============================] - 0s 6ms/step - loss: 0.1645 - mse: 0.0399 - val_loss: 0.2578 - val_mse: 0.1044\n",
      "Epoch 99/200\n",
      "8/8 [==============================] - 0s 7ms/step - loss: 0.1785 - mse: 0.0463 - val_loss: 0.2515 - val_mse: 0.1047\n",
      "Epoch 100/200\n",
      "8/8 [==============================] - 0s 7ms/step - loss: 0.1945 - mse: 0.0619 - val_loss: 0.2524 - val_mse: 0.1041\n",
      "Epoch 101/200\n",
      "8/8 [==============================] - 0s 7ms/step - loss: 0.1874 - mse: 0.0533 - val_loss: 0.2647 - val_mse: 0.1074\n",
      "Epoch 102/200\n",
      "8/8 [==============================] - 0s 6ms/step - loss: 0.1783 - mse: 0.0466 - val_loss: 0.2556 - val_mse: 0.1031\n",
      "Epoch 103/200\n",
      "8/8 [==============================] - 0s 7ms/step - loss: 0.1946 - mse: 0.0821 - val_loss: 0.2492 - val_mse: 0.1101\n",
      "Epoch 104/200\n",
      "8/8 [==============================] - 0s 6ms/step - loss: 0.1860 - mse: 0.0478 - val_loss: 0.2479 - val_mse: 0.1067\n",
      "Epoch 105/200\n",
      "8/8 [==============================] - 0s 6ms/step - loss: 0.1687 - mse: 0.0443 - val_loss: 0.2781 - val_mse: 0.1140\n",
      "Epoch 106/200\n",
      "8/8 [==============================] - 0s 6ms/step - loss: 0.2061 - mse: 0.0646 - val_loss: 0.2821 - val_mse: 0.1165\n",
      "Epoch 107/200\n",
      "8/8 [==============================] - 0s 6ms/step - loss: 0.2029 - mse: 0.0616 - val_loss: 0.2549 - val_mse: 0.1076\n",
      "Epoch 108/200\n",
      "8/8 [==============================] - 0s 6ms/step - loss: 0.2014 - mse: 0.0623 - val_loss: 0.2442 - val_mse: 0.1068\n",
      "Epoch 109/200\n",
      "8/8 [==============================] - 0s 7ms/step - loss: 0.1788 - mse: 0.0608 - val_loss: 0.2592 - val_mse: 0.1079\n",
      "Epoch 110/200\n",
      "8/8 [==============================] - 0s 7ms/step - loss: 0.2103 - mse: 0.0605 - val_loss: 0.2648 - val_mse: 0.1092\n",
      "Epoch 111/200\n",
      "8/8 [==============================] - 0s 7ms/step - loss: 0.1600 - mse: 0.0526 - val_loss: 0.2465 - val_mse: 0.1006\n",
      "Epoch 112/200\n"
     ]
    },
    {
     "name": "stdout",
     "output_type": "stream",
     "text": [
      "8/8 [==============================] - 0s 6ms/step - loss: 0.2030 - mse: 0.0597 - val_loss: 0.2626 - val_mse: 0.1068\n",
      "Epoch 113/200\n",
      "8/8 [==============================] - 0s 6ms/step - loss: 0.1678 - mse: 0.0424 - val_loss: 0.2552 - val_mse: 0.1057\n",
      "Epoch 114/200\n",
      "8/8 [==============================] - 0s 6ms/step - loss: 0.1823 - mse: 0.0493 - val_loss: 0.2530 - val_mse: 0.1057\n",
      "Epoch 115/200\n",
      "8/8 [==============================] - ETA: 0s - loss: 0.1894 - mse: 0.057 - 0s 6ms/step - loss: 0.1764 - mse: 0.0542 - val_loss: 0.2600 - val_mse: 0.1097\n",
      "Epoch 116/200\n",
      "8/8 [==============================] - 0s 6ms/step - loss: 0.1684 - mse: 0.0540 - val_loss: 0.2568 - val_mse: 0.1078\n",
      "Epoch 117/200\n",
      "8/8 [==============================] - 0s 6ms/step - loss: 0.1497 - mse: 0.0421 - val_loss: 0.2568 - val_mse: 0.1081\n",
      "Epoch 118/200\n",
      "8/8 [==============================] - 0s 6ms/step - loss: 0.1796 - mse: 0.0524 - val_loss: 0.2527 - val_mse: 0.1062\n",
      "Epoch 119/200\n",
      "8/8 [==============================] - 0s 6ms/step - loss: 0.1811 - mse: 0.0549 - val_loss: 0.2553 - val_mse: 0.1080\n",
      "Epoch 120/200\n",
      "8/8 [==============================] - 0s 6ms/step - loss: 0.1731 - mse: 0.0513 - val_loss: 0.2626 - val_mse: 0.1116\n",
      "Epoch 121/200\n",
      "8/8 [==============================] - 0s 6ms/step - loss: 0.1713 - mse: 0.0448 - val_loss: 0.2634 - val_mse: 0.1121\n",
      "Epoch 122/200\n",
      "8/8 [==============================] - 0s 7ms/step - loss: 0.1812 - mse: 0.0561 - val_loss: 0.2702 - val_mse: 0.1161\n",
      "Epoch 123/200\n",
      "8/8 [==============================] - 0s 7ms/step - loss: 0.2028 - mse: 0.0538 - val_loss: 0.2719 - val_mse: 0.1156\n",
      "Epoch 124/200\n",
      "8/8 [==============================] - 0s 7ms/step - loss: 0.2198 - mse: 0.0772 - val_loss: 0.2795 - val_mse: 0.1193\n",
      "Epoch 125/200\n",
      "8/8 [==============================] - 0s 6ms/step - loss: 0.1758 - mse: 0.0581 - val_loss: 0.2789 - val_mse: 0.1211\n",
      "Epoch 126/200\n",
      "8/8 [==============================] - 0s 7ms/step - loss: 0.1751 - mse: 0.0543 - val_loss: 0.2738 - val_mse: 0.1169\n",
      "Epoch 127/200\n",
      "8/8 [==============================] - 0s 7ms/step - loss: 0.1723 - mse: 0.0456 - val_loss: 0.2675 - val_mse: 0.1127\n",
      "Epoch 128/200\n",
      "8/8 [==============================] - 0s 6ms/step - loss: 0.1868 - mse: 0.0609 - val_loss: 0.2597 - val_mse: 0.1083\n",
      "Epoch 129/200\n",
      "8/8 [==============================] - 0s 8ms/step - loss: 0.1429 - mse: 0.0324 - val_loss: 0.2654 - val_mse: 0.1114\n",
      "Epoch 130/200\n",
      "8/8 [==============================] - 0s 8ms/step - loss: 0.1585 - mse: 0.0458 - val_loss: 0.2795 - val_mse: 0.1191\n",
      "Epoch 131/200\n",
      "8/8 [==============================] - 0s 8ms/step - loss: 0.1921 - mse: 0.0643 - val_loss: 0.2883 - val_mse: 0.1238\n",
      "Epoch 132/200\n",
      "8/8 [==============================] - 0s 8ms/step - loss: 0.1411 - mse: 0.0320 - val_loss: 0.2795 - val_mse: 0.1190\n",
      "Epoch 133/200\n",
      "8/8 [==============================] - 0s 8ms/step - loss: 0.1563 - mse: 0.0405 - val_loss: 0.2840 - val_mse: 0.1219\n",
      "Epoch 134/200\n",
      "8/8 [==============================] - 0s 8ms/step - loss: 0.1471 - mse: 0.0391 - val_loss: 0.2945 - val_mse: 0.1295\n",
      "Epoch 135/200\n",
      "8/8 [==============================] - 0s 8ms/step - loss: 0.1754 - mse: 0.0601 - val_loss: 0.2959 - val_mse: 0.1341\n",
      "Epoch 136/200\n",
      "8/8 [==============================] - 0s 8ms/step - loss: 0.1679 - mse: 0.0498 - val_loss: 0.3069 - val_mse: 0.1431\n",
      "Epoch 137/200\n",
      "8/8 [==============================] - 0s 8ms/step - loss: 0.1427 - mse: 0.0353 - val_loss: 0.3053 - val_mse: 0.1416\n",
      "Epoch 138/200\n",
      "8/8 [==============================] - 0s 7ms/step - loss: 0.2165 - mse: 0.0755 - val_loss: 0.2941 - val_mse: 0.1316\n",
      "Epoch 139/200\n",
      "8/8 [==============================] - 0s 8ms/step - loss: 0.1516 - mse: 0.0444 - val_loss: 0.2945 - val_mse: 0.1287\n",
      "Epoch 140/200\n",
      "8/8 [==============================] - 0s 7ms/step - loss: 0.1831 - mse: 0.0480 - val_loss: 0.2876 - val_mse: 0.1291\n",
      "Epoch 141/200\n",
      "8/8 [==============================] - 0s 7ms/step - loss: 0.1768 - mse: 0.0502 - val_loss: 0.2897 - val_mse: 0.1303\n",
      "Epoch 142/200\n",
      "8/8 [==============================] - 0s 7ms/step - loss: 0.1650 - mse: 0.0550 - val_loss: 0.3130 - val_mse: 0.1389\n",
      "Epoch 143/200\n",
      "8/8 [==============================] - 0s 7ms/step - loss: 0.1585 - mse: 0.0434 - val_loss: 0.3135 - val_mse: 0.1365\n",
      "Epoch 144/200\n",
      "8/8 [==============================] - 0s 9ms/step - loss: 0.1883 - mse: 0.0545 - val_loss: 0.2961 - val_mse: 0.1270\n",
      "Epoch 145/200\n",
      "8/8 [==============================] - 0s 8ms/step - loss: 0.1852 - mse: 0.0505 - val_loss: 0.2700 - val_mse: 0.1219\n",
      "Epoch 146/200\n",
      "8/8 [==============================] - 0s 8ms/step - loss: 0.1762 - mse: 0.0505 - val_loss: 0.2674 - val_mse: 0.1190\n",
      "Epoch 147/200\n",
      "8/8 [==============================] - 0s 8ms/step - loss: 0.1461 - mse: 0.0352 - val_loss: 0.2859 - val_mse: 0.1263\n",
      "Epoch 148/200\n",
      "8/8 [==============================] - 0s 8ms/step - loss: 0.1815 - mse: 0.0501 - val_loss: 0.3046 - val_mse: 0.1383\n",
      "Epoch 149/200\n",
      "8/8 [==============================] - 0s 8ms/step - loss: 0.1664 - mse: 0.0475 - val_loss: 0.3069 - val_mse: 0.1415\n",
      "Epoch 150/200\n",
      "8/8 [==============================] - 0s 8ms/step - loss: 0.1676 - mse: 0.0484 - val_loss: 0.2939 - val_mse: 0.1358\n",
      "Epoch 151/200\n",
      "8/8 [==============================] - ETA: 0s - loss: 0.1749 - mse: 0.038 - 0s 8ms/step - loss: 0.1929 - mse: 0.0568 - val_loss: 0.2760 - val_mse: 0.1237\n",
      "Epoch 152/200\n",
      "8/8 [==============================] - 0s 8ms/step - loss: 0.1779 - mse: 0.0560 - val_loss: 0.2831 - val_mse: 0.1223\n",
      "Epoch 153/200\n",
      "8/8 [==============================] - 0s 8ms/step - loss: 0.1778 - mse: 0.0497 - val_loss: 0.3010 - val_mse: 0.1312\n",
      "Epoch 154/200\n",
      "8/8 [==============================] - 0s 7ms/step - loss: 0.1764 - mse: 0.0531 - val_loss: 0.3022 - val_mse: 0.1334\n",
      "Epoch 155/200\n",
      "8/8 [==============================] - 0s 8ms/step - loss: 0.1767 - mse: 0.0551 - val_loss: 0.2901 - val_mse: 0.1294\n",
      "Epoch 156/200\n",
      "8/8 [==============================] - 0s 7ms/step - loss: 0.1393 - mse: 0.0374 - val_loss: 0.2810 - val_mse: 0.1267\n",
      "Epoch 157/200\n",
      "8/8 [==============================] - 0s 8ms/step - loss: 0.1337 - mse: 0.0357 - val_loss: 0.2742 - val_mse: 0.1190\n",
      "Epoch 158/200\n",
      "8/8 [==============================] - 0s 8ms/step - loss: 0.1925 - mse: 0.0598 - val_loss: 0.2796 - val_mse: 0.1217\n",
      "Epoch 159/200\n",
      "8/8 [==============================] - 0s 8ms/step - loss: 0.1738 - mse: 0.0466 - val_loss: 0.2876 - val_mse: 0.1269\n",
      "Epoch 160/200\n",
      "8/8 [==============================] - 0s 7ms/step - loss: 0.1957 - mse: 0.0614 - val_loss: 0.2911 - val_mse: 0.1314\n",
      "Epoch 161/200\n",
      "8/8 [==============================] - 0s 8ms/step - loss: 0.1638 - mse: 0.0461 - val_loss: 0.2720 - val_mse: 0.1205\n",
      "Epoch 162/200\n",
      "8/8 [==============================] - 0s 8ms/step - loss: 0.1834 - mse: 0.0591 - val_loss: 0.2705 - val_mse: 0.1195\n",
      "Epoch 163/200\n",
      "8/8 [==============================] - 0s 8ms/step - loss: 0.1763 - mse: 0.0450 - val_loss: 0.2752 - val_mse: 0.1228\n",
      "Epoch 164/200\n",
      "8/8 [==============================] - 0s 8ms/step - loss: 0.1401 - mse: 0.0333 - val_loss: 0.3008 - val_mse: 0.1331\n",
      "Epoch 165/200\n",
      "8/8 [==============================] - 0s 7ms/step - loss: 0.1622 - mse: 0.0477 - val_loss: 0.3160 - val_mse: 0.1426\n",
      "Epoch 166/200\n",
      "8/8 [==============================] - 0s 7ms/step - loss: 0.1917 - mse: 0.0669 - val_loss: 0.3084 - val_mse: 0.1434\n",
      "Epoch 167/200\n",
      "8/8 [==============================] - 0s 7ms/step - loss: 0.1522 - mse: 0.0406 - val_loss: 0.2972 - val_mse: 0.1357\n",
      "Epoch 168/200\n",
      "8/8 [==============================] - 0s 7ms/step - loss: 0.1818 - mse: 0.0573 - val_loss: 0.3089 - val_mse: 0.1371\n",
      "Epoch 169/200\n",
      "8/8 [==============================] - 0s 7ms/step - loss: 0.1899 - mse: 0.0609 - val_loss: 0.2906 - val_mse: 0.1316\n",
      "Epoch 170/200\n",
      "8/8 [==============================] - 0s 7ms/step - loss: 0.1730 - mse: 0.0455 - val_loss: 0.2918 - val_mse: 0.1318\n",
      "Epoch 171/200\n",
      "8/8 [==============================] - 0s 7ms/step - loss: 0.1685 - mse: 0.0499 - val_loss: 0.3039 - val_mse: 0.1372\n",
      "Epoch 172/200\n",
      "8/8 [==============================] - 0s 7ms/step - loss: 0.1809 - mse: 0.0544 - val_loss: 0.2989 - val_mse: 0.1384\n",
      "Epoch 173/200\n",
      "8/8 [==============================] - 0s 7ms/step - loss: 0.1756 - mse: 0.0558 - val_loss: 0.2897 - val_mse: 0.1328\n",
      "Epoch 174/200\n"
     ]
    },
    {
     "name": "stdout",
     "output_type": "stream",
     "text": [
      "8/8 [==============================] - 0s 7ms/step - loss: 0.1665 - mse: 0.0495 - val_loss: 0.2912 - val_mse: 0.1328\n",
      "Epoch 175/200\n",
      "8/8 [==============================] - 0s 7ms/step - loss: 0.1578 - mse: 0.0400 - val_loss: 0.2949 - val_mse: 0.1359\n",
      "Epoch 176/200\n",
      "8/8 [==============================] - 0s 7ms/step - loss: 0.1641 - mse: 0.0474 - val_loss: 0.2961 - val_mse: 0.1351\n",
      "Epoch 177/200\n",
      "8/8 [==============================] - 0s 7ms/step - loss: 0.1777 - mse: 0.0499 - val_loss: 0.2910 - val_mse: 0.1311\n",
      "Epoch 178/200\n",
      "8/8 [==============================] - 0s 7ms/step - loss: 0.1694 - mse: 0.0494 - val_loss: 0.2885 - val_mse: 0.1284\n",
      "Epoch 179/200\n",
      "8/8 [==============================] - 0s 7ms/step - loss: 0.1579 - mse: 0.0470 - val_loss: 0.2763 - val_mse: 0.1230\n",
      "Epoch 180/200\n",
      "8/8 [==============================] - 0s 7ms/step - loss: 0.1293 - mse: 0.0325 - val_loss: 0.2761 - val_mse: 0.1213\n",
      "Epoch 181/200\n",
      "8/8 [==============================] - 0s 7ms/step - loss: 0.1651 - mse: 0.0441 - val_loss: 0.2887 - val_mse: 0.1331\n",
      "Epoch 182/200\n",
      "8/8 [==============================] - 0s 7ms/step - loss: 0.1610 - mse: 0.0416 - val_loss: 0.2763 - val_mse: 0.1261\n",
      "Epoch 183/200\n",
      "8/8 [==============================] - ETA: 0s - loss: 0.1027 - mse: 0.024 - 0s 7ms/step - loss: 0.1478 - mse: 0.0388 - val_loss: 0.2711 - val_mse: 0.1231\n",
      "Epoch 184/200\n",
      "8/8 [==============================] - 0s 6ms/step - loss: 0.1621 - mse: 0.0516 - val_loss: 0.2664 - val_mse: 0.1163\n",
      "Epoch 185/200\n",
      "8/8 [==============================] - 0s 6ms/step - loss: 0.1804 - mse: 0.0603 - val_loss: 0.2736 - val_mse: 0.1186\n",
      "Epoch 186/200\n",
      "8/8 [==============================] - ETA: 0s - loss: 0.1352 - mse: 0.034 - 0s 6ms/step - loss: 0.1605 - mse: 0.0455 - val_loss: 0.2868 - val_mse: 0.1255\n",
      "Epoch 187/200\n",
      "8/8 [==============================] - 0s 6ms/step - loss: 0.1688 - mse: 0.0507 - val_loss: 0.3027 - val_mse: 0.1349\n",
      "Epoch 188/200\n",
      "8/8 [==============================] - 0s 6ms/step - loss: 0.1797 - mse: 0.0524 - val_loss: 0.3110 - val_mse: 0.1426\n",
      "Epoch 189/200\n",
      "8/8 [==============================] - 0s 6ms/step - loss: 0.1795 - mse: 0.0559 - val_loss: 0.3058 - val_mse: 0.1420\n",
      "Epoch 190/200\n",
      "8/8 [==============================] - ETA: 0s - loss: 0.1348 - mse: 0.020 - 0s 6ms/step - loss: 0.1667 - mse: 0.0436 - val_loss: 0.2980 - val_mse: 0.1361\n",
      "Epoch 191/200\n",
      "8/8 [==============================] - 0s 6ms/step - loss: 0.1678 - mse: 0.0490 - val_loss: 0.2855 - val_mse: 0.1245\n",
      "Epoch 192/200\n",
      "8/8 [==============================] - 0s 7ms/step - loss: 0.1375 - mse: 0.0328 - val_loss: 0.2932 - val_mse: 0.1314\n",
      "Epoch 193/200\n",
      "8/8 [==============================] - 0s 7ms/step - loss: 0.1452 - mse: 0.0328 - val_loss: 0.3099 - val_mse: 0.1390\n",
      "Epoch 194/200\n",
      "8/8 [==============================] - 0s 6ms/step - loss: 0.1513 - mse: 0.0425 - val_loss: 0.3083 - val_mse: 0.1399\n",
      "Epoch 195/200\n",
      "8/8 [==============================] - 0s 6ms/step - loss: 0.1533 - mse: 0.0396 - val_loss: 0.2868 - val_mse: 0.1298\n",
      "Epoch 196/200\n",
      "8/8 [==============================] - 0s 6ms/step - loss: 0.1669 - mse: 0.0452 - val_loss: 0.2765 - val_mse: 0.1268\n",
      "Epoch 197/200\n",
      "8/8 [==============================] - 0s 6ms/step - loss: 0.1632 - mse: 0.0441 - val_loss: 0.2881 - val_mse: 0.1368\n",
      "Epoch 198/200\n",
      "8/8 [==============================] - 0s 6ms/step - loss: 0.1609 - mse: 0.0414 - val_loss: 0.3050 - val_mse: 0.1425\n",
      "Epoch 199/200\n",
      "8/8 [==============================] - 0s 7ms/step - loss: 0.1339 - mse: 0.0286 - val_loss: 0.3071 - val_mse: 0.1417\n",
      "Epoch 200/200\n",
      "8/8 [==============================] - 0s 6ms/step - loss: 0.1511 - mse: 0.0397 - val_loss: 0.2729 - val_mse: 0.1274\n"
     ]
    }
   ],
   "source": [
    "EPOCHS=200\n",
    "\n",
    "model = crear_modeloFF()\n",
    "\n",
    "history=model.fit(x_train,y_train,epochs=EPOCHS,validation_data=(x_val,y_val),batch_size=look_back)"
   ]
  },
  {
   "cell_type": "markdown",
   "metadata": {},
   "source": [
    "# Visualizamos resultados"
   ]
  },
  {
   "cell_type": "code",
   "execution_count": 27,
   "metadata": {},
   "outputs": [],
   "source": [
    "def mape(actual, pred): \n",
    "    actual, pred = np.array(actual), np.array(pred)\n",
    "    return np.mean(np.abs((actual - pred) / actual)) * 100\n",
    "\n",
    "\n",
    "def compute_metrics_fn(y_valid_resc, y_hat_resc):\n",
    "    mae_ = mean_absolute_error(y_valid_resc, y_hat_resc)\n",
    "    mse_ = mean_squared_error(y_valid_resc, y_hat_resc)\n",
    "    rmse_ = mean_squared_error(y_valid_resc, y_hat_resc, squared = False)\n",
    "    cvrmse_ = rmse_/np.mean(y_valid_resc)*100\n",
    "    mape_ = mape(y_valid_resc, y_hat_resc)\n",
    "    \n",
    "    return mae_, mse_, rmse_, cvrmse_, mape_"
   ]
  },
  {
   "cell_type": "code",
   "execution_count": 28,
   "metadata": {},
   "outputs": [],
   "source": [
    "# hacemos las predicciones\n",
    "trainPredict = model.predict(x_train)\n",
    "testPredict = model.predict(x_val)\n",
    "\n",
    "# invertimos las predicciones\n",
    "trainPredict = scaler.inverse_transform(trainPredict)\n",
    "trainY = y_train.reshape(y_train.shape[0], 1)\n",
    "trainY_scalerInverse = scaler.inverse_transform(trainY)\n",
    "testPredict = scaler.inverse_transform(testPredict)\n",
    "testY = y_val.reshape(y_val.shape[0], 1)\n",
    "testY_scalerInverse = scaler.inverse_transform(testY)"
   ]
  },
  {
   "cell_type": "code",
   "execution_count": 29,
   "metadata": {},
   "outputs": [
    {
     "name": "stdout",
     "output_type": "stream",
     "text": [
      "Resultado del entrenamiento: 34.97 MAE\n",
      "Resultado del entrenamiento: 2300.54 MSE\n",
      "Resultado del entrenamiento: 47.96 RMSE\n",
      "Resultado del entrenamiento: 13.45 CVRMSE\n",
      "Resultado del entrenamiento: 12.54 MAPE \n",
      "\n",
      "Resultado del test: 68.77 MAE\n",
      "Resultado del test: 8090.94 MSE\n",
      "Resultado del test: 89.95 RMSE\n",
      "Resultado del test: 20.12 CVRMSE\n",
      "Resultado del test: 14.67 MAPE\n"
     ]
    }
   ],
   "source": [
    "# calculamos las metricas de error\n",
    "trainScore_MAE, trainScore_MSE, trainScore_RMSE, trainScore_CVRMSE, trainScore_MAPE  =  compute_metrics_fn(trainY_scalerInverse, trainPredict)\n",
    "print('Resultado del entrenamiento: %.2f MAE' % (trainScore_MAE))\n",
    "print('Resultado del entrenamiento: %.2f MSE' % (trainScore_MSE))\n",
    "print('Resultado del entrenamiento: %.2f RMSE' % (trainScore_RMSE))\n",
    "print('Resultado del entrenamiento: %.2f CVRMSE' % (trainScore_CVRMSE))\n",
    "print('Resultado del entrenamiento: %.2f MAPE \\n' % (trainScore_MAPE))\n",
    "\n",
    "testScore_MAE, testScore_MSE, testScore_RMSE, testScore_CVRMSE, testScore_MAPE  =  compute_metrics_fn(testY_scalerInverse, testPredict)\n",
    "print('Resultado del test: %.2f MAE' % (testScore_MAE))\n",
    "print('Resultado del test: %.2f MSE' % (testScore_MSE))\n",
    "print('Resultado del test: %.2f RMSE' % (testScore_RMSE))\n",
    "print('Resultado del test: %.2f CVRMSE' % (testScore_CVRMSE))\n",
    "print('Resultado del test: %.2f MAPE' % (testScore_MAPE))"
   ]
  },
  {
   "cell_type": "code",
   "execution_count": 30,
   "metadata": {},
   "outputs": [
    {
     "data": {
      "image/png": "[encoded data removed]",
      "text/plain": [
       "<Figure size 432x288 with 1 Axes>"
      ]
     },
     "metadata": {
      "needs_background": "light"
     },
     "output_type": "display_data"
    }
   ],
   "source": [
    "dataset = df_ine.values\n",
    "dataset = dataset.astype('float32')\n",
    "# predicciones del entrenamiento de cambio para plotear\n",
    "trainPredictPlot = np.empty_like(dataset)\n",
    "trainPredictPlot[:, :] = np.nan\n",
    "trainPredictPlot[look_back:len(trainPredict)+look_back, :] = trainPredict\n",
    "# predicciones del test de cambio para plotear\n",
    "testPredictPlot = np.empty_like(dataset)\n",
    "testPredictPlot[:, :] = np.nan\n",
    "testPredictPlot[len(trainPredict)+(look_back):len(dataset), :] = testPredict\n",
    "# plot baseline and predictions\n",
    "plt.plot(df_ine.values)\n",
    "# ploteamos linea base y predicciones\n",
    "plt.plot(trainPredictPlot,'r', linewidth = 2)\n",
    "plt.plot(testPredictPlot,'m', linewidth = 2)\n",
    "plt.legend( ('Datos', 'Prediccion datos entramiento', 'Prediccion sobre los datos de test'), loc = 'upper left')\n",
    "plt.grid(True)\n",
    "plt.title(\"Viajes totales\", fontsize = 15)\n",
    "plt.xlabel(\"Tiempo (dias)\", fontsize = 10)\n",
    "plt.ylabel(\"viajes (en miles)\", fontsize = 10)\n",
    "plt.show()"
   ]
  },
  {
   "cell_type": "code",
   "execution_count": 31,
   "metadata": {},
   "outputs": [
    {
     "data": {
      "image/png": "[encoded data removed]",
      "text/plain": [
       "<Figure size 432x288 with 1 Axes>"
      ]
     },
     "metadata": {
      "needs_background": "light"
     },
     "output_type": "display_data"
    }
   ],
   "source": [
    "results=model.predict(x_val)\n",
    "\n",
    "plt.scatter(range(len(y_val)),y_val,c='g')\n",
    "plt.scatter(range(len(results)),results,c='r')\n",
    "plt.title('validate')\n",
    "plt.xlabel(\"Tiempo (dias)\", fontsize = 10)\n",
    "plt.ylabel(\"viajes (en miles)\", fontsize = 10)\n",
    "plt.show()"
   ]
  },
  {
   "cell_type": "code",
   "execution_count": 32,
   "metadata": {},
   "outputs": [
    {
     "data": {
      "image/png": "[encoded data removed]",
      "text/plain": [
       "<Figure size 432x288 with 1 Axes>"
      ]
     },
     "metadata": {
      "needs_background": "light"
     },
     "output_type": "display_data"
    }
   ],
   "source": [
    "plt.plot(history.history['loss'])\n",
    "plt.plot(history.history['val_loss'])\n",
    "plt.title('loss')\n",
    "plt.legend( ('training loss', 'validate loss'), loc = 'upper right')\n",
    "plt.show()"
   ]
  },
  {
   "cell_type": "markdown",
   "metadata": {},
   "source": [
    "# Prediccion a futuro"
   ]
  },
  {
   "cell_type": "code",
   "execution_count": 33,
   "metadata": {},
   "outputs": [
    {
     "data": {
      "text/html": [
       "<div>\n",
       "<style scoped>\n",
       "    .dataframe tbody tr th:only-of-type {\n",
       "        vertical-align: middle;\n",
       "    }\n",
       "\n",
       "    .dataframe tbody tr th {\n",
       "        vertical-align: top;\n",
       "    }\n",
       "\n",
       "    .dataframe thead th {\n",
       "        text-align: right;\n",
       "    }\n",
       "</style>\n",
       "<table border=\"1\" class=\"dataframe\">\n",
       "  <thead>\n",
       "    <tr style=\"text-align: right;\">\n",
       "      <th></th>\n",
       "      <th>Viajes</th>\n",
       "    </tr>\n",
       "  </thead>\n",
       "  <tbody>\n",
       "    <tr>\n",
       "      <th>2020-06-07</th>\n",
       "      <td>2</td>\n",
       "    </tr>\n",
       "    <tr>\n",
       "      <th>2020-06-08</th>\n",
       "      <td>0</td>\n",
       "    </tr>\n",
       "    <tr>\n",
       "      <th>2020-06-09</th>\n",
       "      <td>2</td>\n",
       "    </tr>\n",
       "    <tr>\n",
       "      <th>2020-06-10</th>\n",
       "      <td>0</td>\n",
       "    </tr>\n",
       "    <tr>\n",
       "      <th>2020-06-11</th>\n",
       "      <td>0</td>\n",
       "    </tr>\n",
       "    <tr>\n",
       "      <th>2020-06-12</th>\n",
       "      <td>2</td>\n",
       "    </tr>\n",
       "    <tr>\n",
       "      <th>2020-06-13</th>\n",
       "      <td>0</td>\n",
       "    </tr>\n",
       "    <tr>\n",
       "      <th>2020-06-14</th>\n",
       "      <td>0</td>\n",
       "    </tr>\n",
       "    <tr>\n",
       "      <th>2020-06-15</th>\n",
       "      <td>0</td>\n",
       "    </tr>\n",
       "    <tr>\n",
       "      <th>2020-06-16</th>\n",
       "      <td>0</td>\n",
       "    </tr>\n",
       "    <tr>\n",
       "      <th>2020-06-17</th>\n",
       "      <td>3</td>\n",
       "    </tr>\n",
       "    <tr>\n",
       "      <th>2020-06-18</th>\n",
       "      <td>1</td>\n",
       "    </tr>\n",
       "    <tr>\n",
       "      <th>2020-06-19</th>\n",
       "      <td>0</td>\n",
       "    </tr>\n",
       "    <tr>\n",
       "      <th>2020-06-20</th>\n",
       "      <td>0</td>\n",
       "    </tr>\n",
       "  </tbody>\n",
       "</table>\n",
       "</div>"
      ],
      "text/plain": [
       "            Viajes\n",
       "2020-06-07       2\n",
       "2020-06-08       0\n",
       "2020-06-09       2\n",
       "2020-06-10       0\n",
       "2020-06-11       0\n",
       "2020-06-12       2\n",
       "2020-06-13       0\n",
       "2020-06-14       0\n",
       "2020-06-15       0\n",
       "2020-06-16       0\n",
       "2020-06-17       3\n",
       "2020-06-18       1\n",
       "2020-06-19       0\n",
       "2020-06-20       0"
      ]
     },
     "execution_count": 33,
     "metadata": {},
     "output_type": "execute_result"
    }
   ],
   "source": [
    "# usaremos los 14 ultimos dias del confinamiento en junio para predecir como habrian sido los dias del 21 al 27 en caso de que\n",
    "# el confinamiento se hubiese alargado por una semana mas\n",
    "\n",
    "ultimosDias_twt = df_twt['2020-6-7':'2020-6-20']\n",
    "ultimosDias_ine = df_ine['2020-6-7':'2020-6-20']\n",
    "ultimosDias_twt"
   ]
  },
  {
   "cell_type": "markdown",
   "metadata": {},
   "source": [
    "# Preparamos los datos para el test"
   ]
  },
  {
   "cell_type": "code",
   "execution_count": 34,
   "metadata": {},
   "outputs": [
    {
     "data": {
      "text/html": [
       "<div>\n",
       "<style scoped>\n",
       "    .dataframe tbody tr th:only-of-type {\n",
       "        vertical-align: middle;\n",
       "    }\n",
       "\n",
       "    .dataframe tbody tr th {\n",
       "        vertical-align: top;\n",
       "    }\n",
       "\n",
       "    .dataframe thead th {\n",
       "        text-align: right;\n",
       "    }\n",
       "</style>\n",
       "<table border=\"1\" class=\"dataframe\">\n",
       "  <thead>\n",
       "    <tr style=\"text-align: right;\">\n",
       "      <th></th>\n",
       "      <th>var1(t-7)</th>\n",
       "      <th>var2(t-7)</th>\n",
       "      <th>var1(t-6)</th>\n",
       "      <th>var2(t-6)</th>\n",
       "      <th>var1(t-5)</th>\n",
       "      <th>var2(t-5)</th>\n",
       "      <th>var1(t-4)</th>\n",
       "      <th>var2(t-4)</th>\n",
       "      <th>var1(t-3)</th>\n",
       "      <th>var2(t-3)</th>\n",
       "      <th>var1(t-2)</th>\n",
       "      <th>var2(t-2)</th>\n",
       "      <th>var1(t-1)</th>\n",
       "      <th>var2(t-1)</th>\n",
       "    </tr>\n",
       "  </thead>\n",
       "  <tbody>\n",
       "    <tr>\n",
       "      <th>7</th>\n",
       "      <td>0.333333</td>\n",
       "      <td>-1.000000</td>\n",
       "      <td>-1.000000</td>\n",
       "      <td>-0.896996</td>\n",
       "      <td>0.333333</td>\n",
       "      <td>-0.725322</td>\n",
       "      <td>-1.000000</td>\n",
       "      <td>-0.442060</td>\n",
       "      <td>-1.000000</td>\n",
       "      <td>-0.330472</td>\n",
       "      <td>0.333333</td>\n",
       "      <td>-0.725322</td>\n",
       "      <td>-1.000000</td>\n",
       "      <td>-0.871245</td>\n",
       "    </tr>\n",
       "    <tr>\n",
       "      <th>8</th>\n",
       "      <td>-1.000000</td>\n",
       "      <td>-0.896996</td>\n",
       "      <td>0.333333</td>\n",
       "      <td>-0.725322</td>\n",
       "      <td>-1.000000</td>\n",
       "      <td>-0.442060</td>\n",
       "      <td>-1.000000</td>\n",
       "      <td>-0.330472</td>\n",
       "      <td>0.333333</td>\n",
       "      <td>-0.725322</td>\n",
       "      <td>-1.000000</td>\n",
       "      <td>-0.871245</td>\n",
       "      <td>-1.000000</td>\n",
       "      <td>-1.000000</td>\n",
       "    </tr>\n",
       "    <tr>\n",
       "      <th>9</th>\n",
       "      <td>0.333333</td>\n",
       "      <td>-0.725322</td>\n",
       "      <td>-1.000000</td>\n",
       "      <td>-0.442060</td>\n",
       "      <td>-1.000000</td>\n",
       "      <td>-0.330472</td>\n",
       "      <td>0.333333</td>\n",
       "      <td>-0.725322</td>\n",
       "      <td>-1.000000</td>\n",
       "      <td>-0.871245</td>\n",
       "      <td>-1.000000</td>\n",
       "      <td>-1.000000</td>\n",
       "      <td>-1.000000</td>\n",
       "      <td>1.000000</td>\n",
       "    </tr>\n",
       "    <tr>\n",
       "      <th>10</th>\n",
       "      <td>-1.000000</td>\n",
       "      <td>-0.442060</td>\n",
       "      <td>-1.000000</td>\n",
       "      <td>-0.330472</td>\n",
       "      <td>0.333333</td>\n",
       "      <td>-0.725322</td>\n",
       "      <td>-1.000000</td>\n",
       "      <td>-0.871245</td>\n",
       "      <td>-1.000000</td>\n",
       "      <td>-1.000000</td>\n",
       "      <td>-1.000000</td>\n",
       "      <td>1.000000</td>\n",
       "      <td>-1.000000</td>\n",
       "      <td>-0.253219</td>\n",
       "    </tr>\n",
       "    <tr>\n",
       "      <th>11</th>\n",
       "      <td>-1.000000</td>\n",
       "      <td>-0.330472</td>\n",
       "      <td>0.333333</td>\n",
       "      <td>-0.725322</td>\n",
       "      <td>-1.000000</td>\n",
       "      <td>-0.871245</td>\n",
       "      <td>-1.000000</td>\n",
       "      <td>-1.000000</td>\n",
       "      <td>-1.000000</td>\n",
       "      <td>1.000000</td>\n",
       "      <td>-1.000000</td>\n",
       "      <td>-0.253219</td>\n",
       "      <td>1.000000</td>\n",
       "      <td>-0.381974</td>\n",
       "    </tr>\n",
       "    <tr>\n",
       "      <th>12</th>\n",
       "      <td>0.333333</td>\n",
       "      <td>-0.725322</td>\n",
       "      <td>-1.000000</td>\n",
       "      <td>-0.871245</td>\n",
       "      <td>-1.000000</td>\n",
       "      <td>-1.000000</td>\n",
       "      <td>-1.000000</td>\n",
       "      <td>1.000000</td>\n",
       "      <td>-1.000000</td>\n",
       "      <td>-0.253219</td>\n",
       "      <td>1.000000</td>\n",
       "      <td>-0.381974</td>\n",
       "      <td>-0.333333</td>\n",
       "      <td>-0.416309</td>\n",
       "    </tr>\n",
       "    <tr>\n",
       "      <th>13</th>\n",
       "      <td>-1.000000</td>\n",
       "      <td>-0.871245</td>\n",
       "      <td>-1.000000</td>\n",
       "      <td>-1.000000</td>\n",
       "      <td>-1.000000</td>\n",
       "      <td>1.000000</td>\n",
       "      <td>-1.000000</td>\n",
       "      <td>-0.253219</td>\n",
       "      <td>1.000000</td>\n",
       "      <td>-0.381974</td>\n",
       "      <td>-0.333333</td>\n",
       "      <td>-0.416309</td>\n",
       "      <td>-1.000000</td>\n",
       "      <td>0.373391</td>\n",
       "    </tr>\n",
       "  </tbody>\n",
       "</table>\n",
       "</div>"
      ],
      "text/plain": [
       "    var1(t-7)  var2(t-7)  var1(t-6)  var2(t-6)  var1(t-5)  var2(t-5)  \\\n",
       "7    0.333333  -1.000000  -1.000000  -0.896996   0.333333  -0.725322   \n",
       "8   -1.000000  -0.896996   0.333333  -0.725322  -1.000000  -0.442060   \n",
       "9    0.333333  -0.725322  -1.000000  -0.442060  -1.000000  -0.330472   \n",
       "10  -1.000000  -0.442060  -1.000000  -0.330472   0.333333  -0.725322   \n",
       "11  -1.000000  -0.330472   0.333333  -0.725322  -1.000000  -0.871245   \n",
       "12   0.333333  -0.725322  -1.000000  -0.871245  -1.000000  -1.000000   \n",
       "13  -1.000000  -0.871245  -1.000000  -1.000000  -1.000000   1.000000   \n",
       "\n",
       "    var1(t-4)  var2(t-4)  var1(t-3)  var2(t-3)  var1(t-2)  var2(t-2)  \\\n",
       "7   -1.000000  -0.442060  -1.000000  -0.330472   0.333333  -0.725322   \n",
       "8   -1.000000  -0.330472   0.333333  -0.725322  -1.000000  -0.871245   \n",
       "9    0.333333  -0.725322  -1.000000  -0.871245  -1.000000  -1.000000   \n",
       "10  -1.000000  -0.871245  -1.000000  -1.000000  -1.000000   1.000000   \n",
       "11  -1.000000  -1.000000  -1.000000   1.000000  -1.000000  -0.253219   \n",
       "12  -1.000000   1.000000  -1.000000  -0.253219   1.000000  -0.381974   \n",
       "13  -1.000000  -0.253219   1.000000  -0.381974  -0.333333  -0.416309   \n",
       "\n",
       "    var1(t-1)  var2(t-1)  \n",
       "7   -1.000000  -0.871245  \n",
       "8   -1.000000  -1.000000  \n",
       "9   -1.000000   1.000000  \n",
       "10  -1.000000  -0.253219  \n",
       "11   1.000000  -0.381974  \n",
       "12  -0.333333  -0.416309  \n",
       "13  -1.000000   0.373391  "
      ]
     },
     "execution_count": 34,
     "metadata": {},
     "output_type": "execute_result"
    }
   ],
   "source": [
    "# cargamos el dataframe en la variable values\n",
    "values_twt = ultimosDias_twt.values\n",
    "values_ine = ultimosDias_ine.values\n",
    "\n",
    "# convertimos los enteros en floats\n",
    "values_twt = values_twt.astype('float32')\n",
    "values_ine = values_ine.astype('float32')\n",
    "\n",
    "# normalizamos los datos a escala de entre -1 y 1\n",
    "values_twt =values_twt.reshape(-1, 1)\n",
    "scaled_twt = scaler.fit_transform(values_twt)\n",
    "values_ine =values_ine.reshape(-1, 1) # esto lo hacemos porque tenemos 1 sola dimension\n",
    "scaled_ine = scaler.fit_transform(values_ine)\n",
    "\n",
    "# usamos la funcion definida previamente\n",
    "reframed_twt = series_to_supervised(scaled_twt, look_back, 1)\n",
    "reframed_ine = series_to_supervised(scaled_ine, look_back, 1)\n",
    "\n",
    "# eliminamos la ultima columna pues es parte de lo que queremos hayar\n",
    "reframed_twt.drop(reframed_twt.columns[[7]], inplace=True, axis=1)\n",
    "reframed_ine.drop(reframed_ine.columns[[7]], inplace=True, axis=1)\n",
    "\n",
    "#unimos los dataframes\n",
    "reframed_ine.columns = ['var2(t-7)', 'var2(t-6)', 'var2(t-5)', 'var2(t-4)', 'var2(t-3)', 'var2(t-2)', 'var2(t-1)']\n",
    "reframed = pd.concat([reframed_twt.iloc[:, 0], reframed_ine.iloc[:, 0]], axis=1)\n",
    "\n",
    "for i in range(6):\n",
    "    reframed = pd.concat([reframed, reframed_twt.iloc[:, i+1]], axis=1)\n",
    "    reframed = pd.concat([reframed, reframed_ine.iloc[:, i+1]], axis=1)\n",
    "\n",
    "#mostramos el set de entrenamiento\n",
    "reframed.head(7)"
   ]
  },
  {
   "cell_type": "code",
   "execution_count": 35,
   "metadata": {},
   "outputs": [
    {
     "name": "stdout",
     "output_type": "stream",
     "text": [
      "(1, 1, 14)\n"
     ]
    },
    {
     "data": {
      "text/plain": [
       "array([[[-1.        , -0.87124467, -1.        , -1.        ,\n",
       "         -1.        ,  1.        , -1.        , -0.25321865,\n",
       "          1.        , -0.38197422, -0.3333333 , -0.41630888,\n",
       "         -1.        ,  0.37339067]]], dtype=float32)"
      ]
     },
     "execution_count": 35,
     "metadata": {},
     "output_type": "execute_result"
    }
   ],
   "source": [
    "values = reframed.values\n",
    "\n",
    "#tomamos los valores para realizar el test\n",
    "x_test = values[6:, :]\n",
    "\n",
    "# reshape input to be 3D [samples, timesteps, features] - preguntar\n",
    "x_test = x_test.reshape((x_test.shape[0], 1, x_test.shape[1]))\n",
    "print(x_test.shape)\n",
    "x_test"
   ]
  },
  {
   "cell_type": "code",
   "execution_count": 36,
   "metadata": {},
   "outputs": [],
   "source": [
    "#definimos la funcion para realizar el desplazamiento que se hara en el array cada prediccion pues para hacer\n",
    "#la siguiente prediccion eliminamos el dia mas antiguo, desplazamos un lugar el resto de dias y añadimos el ultimo dia que\n",
    "#se ha predecido, esto es por que para predecir un dia se usan los 7 dias previos\n",
    "\n",
    "def agregarNuevoValor(x_test,nuevoValor):\n",
    "    for i in range(x_test.shape[2]-1):\n",
    "        x_test[0][0][i] = x_test[0][0][i+1]\n",
    "    x_test[0][0][x_test.shape[2]-1]=nuevoValor\n",
    "    return x_test"
   ]
  },
  {
   "cell_type": "markdown",
   "metadata": {},
   "source": [
    "# Predicciones para la proxima semana"
   ]
  },
  {
   "cell_type": "code",
   "execution_count": 37,
   "metadata": {},
   "outputs": [
    {
     "name": "stdout",
     "output_type": "stream",
     "text": [
      "[[[-1.         -0.87124467 -1.         -1.         -1.\n",
      "    1.         -1.         -0.25321865  1.         -0.38197422\n",
      "   -0.3333333  -0.41630888 -1.          0.37339067]]]\n",
      "[[[-0.87124467 -1.         -1.         -1.          1.\n",
      "   -1.         -0.25321865  1.         -0.38197422 -0.3333333\n",
      "   -0.41630888 -1.          0.37339067  0.5294953 ]]]\n",
      "[[[-1.         -1.         -1.          1.         -1.\n",
      "   -0.25321865  1.         -0.38197422 -0.3333333  -0.41630888\n",
      "   -1.          0.37339067  0.5294953   0.24159692]]]\n",
      "[[[-1.         -1.          1.         -1.         -0.25321865\n",
      "    1.         -0.38197422 -0.3333333  -0.41630888 -1.\n",
      "    0.37339067  0.5294953   0.24159692  0.12343063]]]\n",
      "[[[-1.          1.         -1.         -0.25321865  1.\n",
      "   -0.38197422 -0.3333333  -0.41630888 -1.          0.37339067\n",
      "    0.5294953   0.24159692  0.12343063  0.01684439]]]\n",
      "[[[ 1.         -1.         -0.25321865  1.         -0.38197422\n",
      "   -0.3333333  -0.41630888 -1.          0.37339067  0.5294953\n",
      "    0.24159692  0.12343063  0.01684439  0.11012324]]]\n",
      "[[[-1.         -0.25321865  1.         -0.38197422 -0.3333333\n",
      "   -0.41630888 -1.          0.37339067  0.5294953   0.24159692\n",
      "    0.12343063  0.01684439  0.11012324 -0.23927084]]]\n"
     ]
    }
   ],
   "source": [
    "results=[]\n",
    "for i in range(7):\n",
    "    parcial=model.predict(x_test)\n",
    "    results.append(parcial[0])\n",
    "    print(x_test)\n",
    "    x_test=agregarNuevoValor(x_test,parcial[0])"
   ]
  },
  {
   "cell_type": "markdown",
   "metadata": {},
   "source": [
    "# Re-Convertimos los resultados"
   ]
  },
  {
   "cell_type": "code",
   "execution_count": 38,
   "metadata": {},
   "outputs": [
    {
     "name": "stdout",
     "output_type": "stream",
     "text": [
      "[array([0.5294953], dtype=float32), array([0.24159692], dtype=float32), array([0.12343063], dtype=float32), array([0.01684439], dtype=float32), array([0.11012324], dtype=float32), array([-0.23927084], dtype=float32), array([-0.07619429], dtype=float32)]\n"
     ]
    },
    {
     "data": {
      "text/plain": [
       "array([[559.18619788],\n",
       "       [525.64603694],\n",
       "       [511.8796641 ],\n",
       "       [499.46236731],\n",
       "       [510.32935286],\n",
       "       [469.62494298],\n",
       "       [488.62336107]])"
      ]
     },
     "execution_count": 38,
     "metadata": {},
     "output_type": "execute_result"
    }
   ],
   "source": [
    "adimen = [x for x in results]    \n",
    "print(adimen)\n",
    "inverted = scaler.inverse_transform(adimen)\n",
    "inverted"
   ]
  },
  {
   "cell_type": "markdown",
   "metadata": {},
   "source": [
    "# Visualizamos el pronostico"
   ]
  },
  {
   "cell_type": "code",
   "execution_count": 39,
   "metadata": {},
   "outputs": [
    {
     "data": {
      "text/plain": [
       "<AxesSubplot:>"
      ]
     },
     "execution_count": 39,
     "metadata": {},
     "output_type": "execute_result"
    },
    {
     "data": {
      "image/png": "[encoded data removed]",
      "text/plain": [
       "<Figure size 432x288 with 1 Axes>"
      ]
     },
     "metadata": {
      "needs_background": "light"
     },
     "output_type": "display_data"
    }
   ],
   "source": [
    "prediccion = pd.DataFrame(inverted)\n",
    "prediccion.columns = ['pronostico']\n",
    "prediccion.plot()"
   ]
  },
  {
   "cell_type": "markdown",
   "metadata": {},
   "source": [
    "# Prediccion con datos actuales"
   ]
  },
  {
   "cell_type": "code",
   "execution_count": 40,
   "metadata": {
    "scrolled": true
   },
   "outputs": [
    {
     "data": {
      "text/html": [
       "<div>\n",
       "<style scoped>\n",
       "    .dataframe tbody tr th:only-of-type {\n",
       "        vertical-align: middle;\n",
       "    }\n",
       "\n",
       "    .dataframe tbody tr th {\n",
       "        vertical-align: top;\n",
       "    }\n",
       "\n",
       "    .dataframe thead th {\n",
       "        text-align: right;\n",
       "    }\n",
       "</style>\n",
       "<table border=\"1\" class=\"dataframe\">\n",
       "  <thead>\n",
       "    <tr style=\"text-align: right;\">\n",
       "      <th></th>\n",
       "      <th>Viajes</th>\n",
       "    </tr>\n",
       "  </thead>\n",
       "  <tbody>\n",
       "    <tr>\n",
       "      <th>2020-05-11</th>\n",
       "      <td>0</td>\n",
       "    </tr>\n",
       "    <tr>\n",
       "      <th>2020-05-12</th>\n",
       "      <td>0</td>\n",
       "    </tr>\n",
       "    <tr>\n",
       "      <th>2020-05-13</th>\n",
       "      <td>0</td>\n",
       "    </tr>\n",
       "    <tr>\n",
       "      <th>2020-05-14</th>\n",
       "      <td>0</td>\n",
       "    </tr>\n",
       "    <tr>\n",
       "      <th>2020-05-15</th>\n",
       "      <td>0</td>\n",
       "    </tr>\n",
       "    <tr>\n",
       "      <th>2020-05-16</th>\n",
       "      <td>0</td>\n",
       "    </tr>\n",
       "    <tr>\n",
       "      <th>2020-05-17</th>\n",
       "      <td>0</td>\n",
       "    </tr>\n",
       "    <tr>\n",
       "      <th>2020-05-18</th>\n",
       "      <td>0</td>\n",
       "    </tr>\n",
       "    <tr>\n",
       "      <th>2020-05-19</th>\n",
       "      <td>0</td>\n",
       "    </tr>\n",
       "    <tr>\n",
       "      <th>2020-05-20</th>\n",
       "      <td>0</td>\n",
       "    </tr>\n",
       "    <tr>\n",
       "      <th>2020-05-21</th>\n",
       "      <td>0</td>\n",
       "    </tr>\n",
       "    <tr>\n",
       "      <th>2020-05-22</th>\n",
       "      <td>0</td>\n",
       "    </tr>\n",
       "    <tr>\n",
       "      <th>2020-05-23</th>\n",
       "      <td>0</td>\n",
       "    </tr>\n",
       "    <tr>\n",
       "      <th>2020-05-24</th>\n",
       "      <td>1</td>\n",
       "    </tr>\n",
       "  </tbody>\n",
       "</table>\n",
       "</div>"
      ],
      "text/plain": [
       "            Viajes\n",
       "2020-05-11       0\n",
       "2020-05-12       0\n",
       "2020-05-13       0\n",
       "2020-05-14       0\n",
       "2020-05-15       0\n",
       "2020-05-16       0\n",
       "2020-05-17       0\n",
       "2020-05-18       0\n",
       "2020-05-19       0\n",
       "2020-05-20       0\n",
       "2020-05-21       0\n",
       "2020-05-22       0\n",
       "2020-05-23       0\n",
       "2020-05-24       1"
      ]
     },
     "execution_count": 40,
     "metadata": {},
     "output_type": "execute_result"
    }
   ],
   "source": [
    "# usaremos 14 dias que poseemos para predecir los 7 dias siguientes tras esto compararemos los resultados con los que\n",
    "# poseemos para ver el grado de error\n",
    "\n",
    "Dias_twt = df_twt['2020-5-11':'2020-5-24']\n",
    "Dias_ine = df_ine['2020-5-11':'2020-5-24']\n",
    "Dias_twt"
   ]
  },
  {
   "cell_type": "markdown",
   "metadata": {},
   "source": [
    "# Preparamos los datos para el test"
   ]
  },
  {
   "cell_type": "code",
   "execution_count": 41,
   "metadata": {},
   "outputs": [
    {
     "data": {
      "text/html": [
       "<div>\n",
       "<style scoped>\n",
       "    .dataframe tbody tr th:only-of-type {\n",
       "        vertical-align: middle;\n",
       "    }\n",
       "\n",
       "    .dataframe tbody tr th {\n",
       "        vertical-align: top;\n",
       "    }\n",
       "\n",
       "    .dataframe thead th {\n",
       "        text-align: right;\n",
       "    }\n",
       "</style>\n",
       "<table border=\"1\" class=\"dataframe\">\n",
       "  <thead>\n",
       "    <tr style=\"text-align: right;\">\n",
       "      <th></th>\n",
       "      <th>var1(t-7)</th>\n",
       "      <th>var2(t-7)</th>\n",
       "      <th>var1(t-6)</th>\n",
       "      <th>var2(t-6)</th>\n",
       "      <th>var1(t-5)</th>\n",
       "      <th>var2(t-5)</th>\n",
       "      <th>var1(t-4)</th>\n",
       "      <th>var2(t-4)</th>\n",
       "      <th>var1(t-3)</th>\n",
       "      <th>var2(t-3)</th>\n",
       "      <th>var1(t-2)</th>\n",
       "      <th>var2(t-2)</th>\n",
       "      <th>var1(t-1)</th>\n",
       "      <th>var2(t-1)</th>\n",
       "    </tr>\n",
       "  </thead>\n",
       "  <tbody>\n",
       "    <tr>\n",
       "      <th>7</th>\n",
       "      <td>-1.0</td>\n",
       "      <td>-0.162562</td>\n",
       "      <td>-1.0</td>\n",
       "      <td>-0.103448</td>\n",
       "      <td>-1.0</td>\n",
       "      <td>0.783251</td>\n",
       "      <td>-1.0</td>\n",
       "      <td>-0.093596</td>\n",
       "      <td>-1.0</td>\n",
       "      <td>-0.290641</td>\n",
       "      <td>-1.0</td>\n",
       "      <td>-0.024631</td>\n",
       "      <td>-1.0</td>\n",
       "      <td>-1.000000</td>\n",
       "    </tr>\n",
       "    <tr>\n",
       "      <th>8</th>\n",
       "      <td>-1.0</td>\n",
       "      <td>-0.103448</td>\n",
       "      <td>-1.0</td>\n",
       "      <td>0.783251</td>\n",
       "      <td>-1.0</td>\n",
       "      <td>-0.093596</td>\n",
       "      <td>-1.0</td>\n",
       "      <td>-0.290641</td>\n",
       "      <td>-1.0</td>\n",
       "      <td>-0.024631</td>\n",
       "      <td>-1.0</td>\n",
       "      <td>-1.000000</td>\n",
       "      <td>-1.0</td>\n",
       "      <td>0.073892</td>\n",
       "    </tr>\n",
       "    <tr>\n",
       "      <th>9</th>\n",
       "      <td>-1.0</td>\n",
       "      <td>0.783251</td>\n",
       "      <td>-1.0</td>\n",
       "      <td>-0.093596</td>\n",
       "      <td>-1.0</td>\n",
       "      <td>-0.290641</td>\n",
       "      <td>-1.0</td>\n",
       "      <td>-0.024631</td>\n",
       "      <td>-1.0</td>\n",
       "      <td>-1.000000</td>\n",
       "      <td>-1.0</td>\n",
       "      <td>0.073892</td>\n",
       "      <td>-1.0</td>\n",
       "      <td>-0.024631</td>\n",
       "    </tr>\n",
       "    <tr>\n",
       "      <th>10</th>\n",
       "      <td>-1.0</td>\n",
       "      <td>-0.093596</td>\n",
       "      <td>-1.0</td>\n",
       "      <td>-0.290641</td>\n",
       "      <td>-1.0</td>\n",
       "      <td>-0.024631</td>\n",
       "      <td>-1.0</td>\n",
       "      <td>-1.000000</td>\n",
       "      <td>-1.0</td>\n",
       "      <td>0.073892</td>\n",
       "      <td>-1.0</td>\n",
       "      <td>-0.024631</td>\n",
       "      <td>-1.0</td>\n",
       "      <td>0.290640</td>\n",
       "    </tr>\n",
       "    <tr>\n",
       "      <th>11</th>\n",
       "      <td>-1.0</td>\n",
       "      <td>-0.290641</td>\n",
       "      <td>-1.0</td>\n",
       "      <td>-0.024631</td>\n",
       "      <td>-1.0</td>\n",
       "      <td>-1.000000</td>\n",
       "      <td>-1.0</td>\n",
       "      <td>0.073892</td>\n",
       "      <td>-1.0</td>\n",
       "      <td>-0.024631</td>\n",
       "      <td>-1.0</td>\n",
       "      <td>0.290640</td>\n",
       "      <td>-1.0</td>\n",
       "      <td>0.172414</td>\n",
       "    </tr>\n",
       "    <tr>\n",
       "      <th>12</th>\n",
       "      <td>-1.0</td>\n",
       "      <td>-0.024631</td>\n",
       "      <td>-1.0</td>\n",
       "      <td>-1.000000</td>\n",
       "      <td>-1.0</td>\n",
       "      <td>0.073892</td>\n",
       "      <td>-1.0</td>\n",
       "      <td>-0.024631</td>\n",
       "      <td>-1.0</td>\n",
       "      <td>0.290640</td>\n",
       "      <td>-1.0</td>\n",
       "      <td>0.172414</td>\n",
       "      <td>-1.0</td>\n",
       "      <td>-0.044335</td>\n",
       "    </tr>\n",
       "    <tr>\n",
       "      <th>13</th>\n",
       "      <td>-1.0</td>\n",
       "      <td>-1.000000</td>\n",
       "      <td>-1.0</td>\n",
       "      <td>0.073892</td>\n",
       "      <td>-1.0</td>\n",
       "      <td>-0.024631</td>\n",
       "      <td>-1.0</td>\n",
       "      <td>0.290640</td>\n",
       "      <td>-1.0</td>\n",
       "      <td>0.172414</td>\n",
       "      <td>-1.0</td>\n",
       "      <td>-0.044335</td>\n",
       "      <td>-1.0</td>\n",
       "      <td>1.000000</td>\n",
       "    </tr>\n",
       "  </tbody>\n",
       "</table>\n",
       "</div>"
      ],
      "text/plain": [
       "    var1(t-7)  var2(t-7)  var1(t-6)  var2(t-6)  var1(t-5)  var2(t-5)  \\\n",
       "7        -1.0  -0.162562       -1.0  -0.103448       -1.0   0.783251   \n",
       "8        -1.0  -0.103448       -1.0   0.783251       -1.0  -0.093596   \n",
       "9        -1.0   0.783251       -1.0  -0.093596       -1.0  -0.290641   \n",
       "10       -1.0  -0.093596       -1.0  -0.290641       -1.0  -0.024631   \n",
       "11       -1.0  -0.290641       -1.0  -0.024631       -1.0  -1.000000   \n",
       "12       -1.0  -0.024631       -1.0  -1.000000       -1.0   0.073892   \n",
       "13       -1.0  -1.000000       -1.0   0.073892       -1.0  -0.024631   \n",
       "\n",
       "    var1(t-4)  var2(t-4)  var1(t-3)  var2(t-3)  var1(t-2)  var2(t-2)  \\\n",
       "7        -1.0  -0.093596       -1.0  -0.290641       -1.0  -0.024631   \n",
       "8        -1.0  -0.290641       -1.0  -0.024631       -1.0  -1.000000   \n",
       "9        -1.0  -0.024631       -1.0  -1.000000       -1.0   0.073892   \n",
       "10       -1.0  -1.000000       -1.0   0.073892       -1.0  -0.024631   \n",
       "11       -1.0   0.073892       -1.0  -0.024631       -1.0   0.290640   \n",
       "12       -1.0  -0.024631       -1.0   0.290640       -1.0   0.172414   \n",
       "13       -1.0   0.290640       -1.0   0.172414       -1.0  -0.044335   \n",
       "\n",
       "    var1(t-1)  var2(t-1)  \n",
       "7        -1.0  -1.000000  \n",
       "8        -1.0   0.073892  \n",
       "9        -1.0  -0.024631  \n",
       "10       -1.0   0.290640  \n",
       "11       -1.0   0.172414  \n",
       "12       -1.0  -0.044335  \n",
       "13       -1.0   1.000000  "
      ]
     },
     "execution_count": 41,
     "metadata": {},
     "output_type": "execute_result"
    }
   ],
   "source": [
    "# cargamos el dataframe en la variable values\n",
    "values_twt = Dias_twt.values\n",
    "values_ine = Dias_ine.values\n",
    "\n",
    "# convertimos los enteros en floats\n",
    "values_twt = values_twt.astype('float32')\n",
    "values_ine = values_ine.astype('float32')\n",
    "\n",
    "# normalizamos los datos a escala de entre -1 y 1\n",
    "values_twt =values_twt.reshape(-1, 1)\n",
    "scaled_twt = scaler.fit_transform(values_twt)\n",
    "values_ine =values_ine.reshape(-1, 1) # esto lo hacemos porque tenemos 1 sola dimension\n",
    "scaled_ine = scaler.fit_transform(values_ine)\n",
    "\n",
    "# usamos la funcion definida previamente\n",
    "reframed_twt = series_to_supervised(scaled_twt, look_back, 1)\n",
    "reframed_ine = series_to_supervised(scaled_ine, look_back, 1)\n",
    "\n",
    "# eliminamos la ultima columna pues es parte de lo que queremos hayar\n",
    "reframed_twt.drop(reframed_twt.columns[[7]], inplace=True, axis=1)\n",
    "reframed_ine.drop(reframed_ine.columns[[7]], inplace=True, axis=1)\n",
    "\n",
    "#unimos los dataframes\n",
    "reframed_ine.columns = ['var2(t-7)', 'var2(t-6)', 'var2(t-5)', 'var2(t-4)', 'var2(t-3)', 'var2(t-2)', 'var2(t-1)']\n",
    "reframed = pd.concat([reframed_twt.iloc[:, 0], reframed_ine.iloc[:, 0]], axis=1)\n",
    "\n",
    "for i in range(6):\n",
    "    reframed = pd.concat([reframed, reframed_twt.iloc[:, i+1]], axis=1)\n",
    "    reframed = pd.concat([reframed, reframed_ine.iloc[:, i+1]], axis=1)\n",
    "\n",
    "#mostramos el set de entrenamiento\n",
    "reframed.head(7)"
   ]
  },
  {
   "cell_type": "code",
   "execution_count": 42,
   "metadata": {},
   "outputs": [
    {
     "name": "stdout",
     "output_type": "stream",
     "text": [
      "(1, 1, 14)\n"
     ]
    },
    {
     "data": {
      "text/plain": [
       "array([[[-1.        , -1.        , -1.        ,  0.07389164,\n",
       "         -1.        , -0.02463055, -1.        ,  0.29064035,\n",
       "         -1.        ,  0.17241383, -1.        , -0.04433489,\n",
       "         -1.        ,  1.        ]]], dtype=float32)"
      ]
     },
     "execution_count": 42,
     "metadata": {},
     "output_type": "execute_result"
    }
   ],
   "source": [
    "values = reframed.values\n",
    "\n",
    "#tomamos los valores para realizar el test\n",
    "x_test = values[6:, :]\n",
    "\n",
    "# reshape input to be 3D [samples, timesteps, features] - preguntar\n",
    "x_test = x_test.reshape((x_test.shape[0], 1, x_test.shape[1]))\n",
    "print(x_test.shape)\n",
    "x_test"
   ]
  },
  {
   "cell_type": "code",
   "execution_count": 43,
   "metadata": {},
   "outputs": [],
   "source": [
    "#en la linea 24 definimos la funcion para realizar el desplazamiento que se hara en el array cada prediccion pues para hacer\n",
    "#la siguiente prediccion eliminamos el dia mas antiguo, desplazamos un lugar el resto de dias y añadimos el ultimo dia que\n",
    "#se ha predecido, esto es por que para predecir un dia se usan los 7 dias previos, y que usaremos a continuación"
   ]
  },
  {
   "cell_type": "markdown",
   "metadata": {},
   "source": [
    "# Realizamos la prediccion "
   ]
  },
  {
   "cell_type": "code",
   "execution_count": 44,
   "metadata": {},
   "outputs": [
    {
     "name": "stdout",
     "output_type": "stream",
     "text": [
      "[[[-1.         -1.         -1.          0.07389164 -1.\n",
      "   -0.02463055 -1.          0.29064035 -1.          0.17241383\n",
      "   -1.         -0.04433489 -1.          1.        ]]]\n",
      "[[[-1.         -1.          0.07389164 -1.         -0.02463055\n",
      "   -1.          0.29064035 -1.          0.17241383 -1.\n",
      "   -0.04433489 -1.          1.          0.26665172]]]\n",
      "[[[-1.          0.07389164 -1.         -0.02463055 -1.\n",
      "    0.29064035 -1.          0.17241383 -1.         -0.04433489\n",
      "   -1.          1.          0.26665172  0.12898104]]]\n",
      "[[[ 0.07389164 -1.         -0.02463055 -1.          0.29064035\n",
      "   -1.          0.17241383 -1.         -0.04433489 -1.\n",
      "    1.          0.26665172  0.12898104  0.2115503 ]]]\n",
      "[[[-1.         -0.02463055 -1.          0.29064035 -1.\n",
      "    0.17241383 -1.         -0.04433489 -1.          1.\n",
      "    0.26665172  0.12898104  0.2115503   0.06854929]]]\n",
      "[[[-0.02463055 -1.          0.29064035 -1.          0.17241383\n",
      "   -1.         -0.04433489 -1.          1.          0.26665172\n",
      "    0.12898104  0.2115503   0.06854929 -0.22320828]]]\n",
      "[[[-1.          0.29064035 -1.          0.17241383 -1.\n",
      "   -0.04433489 -1.          1.          0.26665172  0.12898104\n",
      "    0.2115503   0.06854929 -0.22320828  0.04503049]]]\n"
     ]
    }
   ],
   "source": [
    "results=[]\n",
    "for i in range(7):\n",
    "    parcial=model.predict(x_test)\n",
    "    results.append(parcial[0])\n",
    "    print(x_test)\n",
    "    x_test=agregarNuevoValor(x_test,parcial[0])"
   ]
  },
  {
   "cell_type": "markdown",
   "metadata": {},
   "source": [
    "# Re-Convertimos los resultados"
   ]
  },
  {
   "cell_type": "code",
   "execution_count": 45,
   "metadata": {
    "scrolled": false
   },
   "outputs": [
    {
     "name": "stdout",
     "output_type": "stream",
     "text": [
      "[array([0.26665172], dtype=float32), array([0.12898104], dtype=float32), array([0.2115503], dtype=float32), array([0.06854929], dtype=float32), array([-0.22320828], dtype=float32), array([0.04503049], dtype=float32), array([0.50642896], dtype=float32)]\n"
     ]
    },
    {
     "data": {
      "text/plain": [
       "array([[461],\n",
       "       [447],\n",
       "       [455],\n",
       "       [440],\n",
       "       [411],\n",
       "       [438],\n",
       "       [485]])"
      ]
     },
     "execution_count": 45,
     "metadata": {},
     "output_type": "execute_result"
    }
   ],
   "source": [
    "adimen = [x for x in results]    \n",
    "print(adimen)\n",
    "inverted = scaler.inverse_transform(adimen)\n",
    "\n",
    "#en nuestro problema no tienen sentido los decimales pues no se pueden hacer 0.5 viajes o 0.25 viajes\n",
    "inverted = inverted.round()\n",
    "inverted = inverted.astype(int)\n",
    "inverted"
   ]
  },
  {
   "cell_type": "markdown",
   "metadata": {},
   "source": [
    "# Visualizamos el pronostico"
   ]
  },
  {
   "cell_type": "code",
   "execution_count": 46,
   "metadata": {
    "scrolled": false
   },
   "outputs": [
    {
     "data": {
      "text/plain": [
       "<AxesSubplot:>"
      ]
     },
     "execution_count": 46,
     "metadata": {},
     "output_type": "execute_result"
    },
    {
     "data": {
      "image/png": "[encoded data removed]",
      "text/plain": [
       "<Figure size 432x288 with 1 Axes>"
      ]
     },
     "metadata": {
      "needs_background": "light"
     },
     "output_type": "display_data"
    }
   ],
   "source": [
    "e_date = datetime.datetime.strptime('2020-05-31', '%Y-%m-%d')\n",
    "i_date = datetime.datetime.strptime('2020-05-25', '%Y-%m-%d')\n",
    "delta = e_date - i_date\n",
    "\n",
    "index_days = []\n",
    "for i in range(delta.days + 1):\n",
    "    day = i_date + timedelta(days=i)\n",
    "    index_days.append(day)\n",
    "\n",
    "prediccion = pd.DataFrame(inverted, index= index_days)\n",
    "prediccion.columns = ['pronostico']\n",
    "prediccion.plot()"
   ]
  },
  {
   "cell_type": "code",
   "execution_count": 47,
   "metadata": {},
   "outputs": [
    {
     "data": {
      "text/html": [
       "<div>\n",
       "<style scoped>\n",
       "    .dataframe tbody tr th:only-of-type {\n",
       "        vertical-align: middle;\n",
       "    }\n",
       "\n",
       "    .dataframe tbody tr th {\n",
       "        vertical-align: top;\n",
       "    }\n",
       "\n",
       "    .dataframe thead th {\n",
       "        text-align: right;\n",
       "    }\n",
       "</style>\n",
       "<table border=\"1\" class=\"dataframe\">\n",
       "  <thead>\n",
       "    <tr style=\"text-align: right;\">\n",
       "      <th></th>\n",
       "      <th>real</th>\n",
       "      <th>prediccion</th>\n",
       "    </tr>\n",
       "  </thead>\n",
       "  <tbody>\n",
       "    <tr>\n",
       "      <th>2020-05-25</th>\n",
       "      <td>435</td>\n",
       "      <td>461</td>\n",
       "    </tr>\n",
       "    <tr>\n",
       "      <th>2020-05-26</th>\n",
       "      <td>421</td>\n",
       "      <td>447</td>\n",
       "    </tr>\n",
       "    <tr>\n",
       "      <th>2020-05-27</th>\n",
       "      <td>521</td>\n",
       "      <td>455</td>\n",
       "    </tr>\n",
       "    <tr>\n",
       "      <th>2020-05-28</th>\n",
       "      <td>442</td>\n",
       "      <td>440</td>\n",
       "    </tr>\n",
       "    <tr>\n",
       "      <th>2020-05-29</th>\n",
       "      <td>476</td>\n",
       "      <td>411</td>\n",
       "    </tr>\n",
       "    <tr>\n",
       "      <th>2020-05-30</th>\n",
       "      <td>433</td>\n",
       "      <td>438</td>\n",
       "    </tr>\n",
       "    <tr>\n",
       "      <th>2020-05-31</th>\n",
       "      <td>404</td>\n",
       "      <td>485</td>\n",
       "    </tr>\n",
       "  </tbody>\n",
       "</table>\n",
       "</div>"
      ],
      "text/plain": [
       "            real  prediccion\n",
       "2020-05-25   435         461\n",
       "2020-05-26   421         447\n",
       "2020-05-27   521         455\n",
       "2020-05-28   442         440\n",
       "2020-05-29   476         411\n",
       "2020-05-30   433         438\n",
       "2020-05-31   404         485"
      ]
     },
     "execution_count": 47,
     "metadata": {},
     "output_type": "execute_result"
    }
   ],
   "source": [
    "datosReales = df_ine['2020-5-25':'2020-5-31']\n",
    "\n",
    "compara = pd.concat([datosReales, prediccion], axis=1)\n",
    "compara.columns = ['real', 'prediccion']\n",
    "compara"
   ]
  },
  {
   "cell_type": "code",
   "execution_count": 48,
   "metadata": {},
   "outputs": [
    {
     "data": {
      "text/plain": [
       "<AxesSubplot:>"
      ]
     },
     "execution_count": 48,
     "metadata": {},
     "output_type": "execute_result"
    },
    {
     "data": {
      "image/png": "[encoded data removed]",
      "text/plain": [
       "<Figure size 432x288 with 1 Axes>"
      ]
     },
     "metadata": {
      "needs_background": "light"
     },
     "output_type": "display_data"
    }
   ],
   "source": [
    "compara['real'].plot()\n",
    "compara['prediccion'].plot()"
   ]
  },
  {
   "cell_type": "code",
   "execution_count": 49,
   "metadata": {
    "scrolled": false
   },
   "outputs": [
    {
     "name": "stdout",
     "output_type": "stream",
     "text": [
      "Resultado del test: 38.71 MAE\n",
      "Resultado del test: 2360.43 MSE\n",
      "Resultado del test: 48.58 RMSE\n",
      "Resultado del test: 10.84 CVRMSE\n",
      "Resultado del test: 8.58 MAPE\n"
     ]
    }
   ],
   "source": [
    "# calculamos las metricas de error\n",
    "testScore_MAE, testScore_MSE, testScore_RMSE, testScore_CVRMSE, testScore_MAPE  =  compute_metrics_fn(prediccion, datosReales)\n",
    "print('Resultado del test: %.2f MAE' % (testScore_MAE))\n",
    "print('Resultado del test: %.2f MSE' % (testScore_MSE))\n",
    "print('Resultado del test: %.2f RMSE' % (testScore_RMSE))\n",
    "print('Resultado del test: %.2f CVRMSE' % (testScore_CVRMSE))\n",
    "print('Resultado del test: %.2f MAPE' % (testScore_MAPE))"
   ]
  },
  {
   "cell_type": "code",
   "execution_count": 50,
   "metadata": {},
   "outputs": [
    {
     "name": "stdout",
     "output_type": "stream",
     "text": [
      "Resultado del test dia 1: 26.00 MAE\n",
      "Resultado del test dia 1: 676.00 MSE\n",
      "Resultado del test dia 1: 26.00 RMSE\n",
      "Resultado del test dia 1: 5.64 CVRMSE\n",
      "Resultado del test dia 1: 5.64 MAPE \n",
      "\n",
      "Resultado del test dia 2: 26.00 MAE\n",
      "Resultado del test dia 2: 676.00 MSE\n",
      "Resultado del test dia 2: 26.00 RMSE\n",
      "Resultado del test dia 2: 5.82 CVRMSE\n",
      "Resultado del test dia 2: 5.82 MAPE \n",
      "\n",
      "Resultado del test dia 3: 66.00 MAE\n",
      "Resultado del test dia 3: 4356.00 MSE\n",
      "Resultado del test dia 3: 66.00 RMSE\n",
      "Resultado del test dia 3: 14.51 CVRMSE\n",
      "Resultado del test dia 3: 14.51 MAPE \n",
      "\n",
      "Resultado del test dia 4: 2.00 MAE\n",
      "Resultado del test dia 4: 4.00 MSE\n",
      "Resultado del test dia 4: 2.00 RMSE\n",
      "Resultado del test dia 4: 0.45 CVRMSE\n",
      "Resultado del test dia 4: 0.45 MAPE \n",
      "\n",
      "Resultado del test dia 5: 65.00 MAE\n",
      "Resultado del test dia 5: 4225.00 MSE\n",
      "Resultado del test dia 5: 65.00 RMSE\n",
      "Resultado del test dia 5: 15.82 CVRMSE\n",
      "Resultado del test dia 5: 15.82 MAPE \n",
      "\n",
      "Resultado del test dia 6: 5.00 MAE\n",
      "Resultado del test dia 6: 25.00 MSE\n",
      "Resultado del test dia 6: 5.00 RMSE\n",
      "Resultado del test dia 6: 1.14 CVRMSE\n",
      "Resultado del test dia 6: 1.14 MAPE \n",
      "\n",
      "Resultado del test dia 7: 81.00 MAE\n",
      "Resultado del test dia 7: 6561.00 MSE\n",
      "Resultado del test dia 7: 81.00 RMSE\n",
      "Resultado del test dia 7: 16.70 CVRMSE\n",
      "Resultado del test dia 7: 16.70 MAPE \n",
      "\n"
     ]
    }
   ],
   "source": [
    "# calculamos las metricas de error para cada dia por separado\n",
    "for i in range(7):\n",
    "    testScore_MAE, testScore_MSE, testScore_RMSE, testScore_CVRMSE, testScore_MAPE  =  compute_metrics_fn(prediccion.values[i], datosReales.values[i])\n",
    "    day = i + 1\n",
    "    print('Resultado del test dia %d: %.2f MAE' % (day, testScore_MAE))\n",
    "    print('Resultado del test dia %d: %.2f MSE' % (day, testScore_MSE))\n",
    "    print('Resultado del test dia %d: %.2f RMSE' % (day, testScore_RMSE))\n",
    "    print('Resultado del test dia %d: %.2f CVRMSE' % (day, testScore_CVRMSE))\n",
    "    print('Resultado del test dia %d: %.2f MAPE \\n' % (day, testScore_MAPE))"
   ]
  }
 ],
 "metadata": {
  "kernelspec": {
   "display_name": "Python 3",
   "language": "python",
   "name": "python3"
  },
  "language_info": {
   "codemirror_mode": {
    "name": "ipython",
    "version": 3
   },
   "file_extension": ".py",
   "mimetype": "text/x-python",
   "name": "python",
   "nbconvert_exporter": "python",
   "pygments_lexer": "ipython3",
   "version": "3.8.5"
  }
 },
 "nbformat": 4,
 "nbformat_minor": 4
}
