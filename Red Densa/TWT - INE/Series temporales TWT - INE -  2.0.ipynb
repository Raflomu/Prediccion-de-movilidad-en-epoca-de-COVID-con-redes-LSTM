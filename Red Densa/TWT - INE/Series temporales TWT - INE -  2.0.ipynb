{
 "cells": [
  {
   "cell_type": "code",
   "execution_count": 1,
   "metadata": {},
   "outputs": [],
   "source": [
    "import pandas as pd\n",
    "import numpy as np\n",
    "from tqdm import tqdm_notebook\n",
    "import os\n",
    "from sklearn.metrics import mean_squared_error, mean_absolute_error\n",
    "from sklearn.preprocessing import MinMaxScaler\n",
    "from keras.models import Sequential\n",
    "from keras.layers import Dense,Activation,Flatten,Dropout\n",
    "\n",
    "import matplotlib.pyplot as plt\n",
    "%matplotlib inline\n",
    "\n",
    "import warnings\n",
    "warnings.filterwarnings(\"ignore\")\n",
    "\n",
    "import datetime\n",
    "from datetime import date, timedelta\n",
    "e_date = datetime.datetime.strptime('2020-06-20', '%Y-%m-%d')\n",
    "i_date = datetime.datetime.strptime('2020-04-01', '%Y-%m-%d')\n",
    "\n",
    "data_path = 'D:/universidad/universidad 4/TFG/recursos para el desarrollo/datos procesados/OD'"
   ]
  },
  {
   "cell_type": "code",
   "execution_count": 2,
   "metadata": {},
   "outputs": [],
   "source": [
    "delta = e_date - i_date\n",
    "\n",
    "target_days = []\n",
    "for i in range(delta.days + 1):\n",
    "    day = i_date + timedelta(days=i)\n",
    "    target_days.append(day)"
   ]
  },
  {
   "cell_type": "code",
   "execution_count": 3,
   "metadata": {},
   "outputs": [],
   "source": [
    "def read_OD_fn(source_type):\n",
    "    ods = {}\n",
    "    for date in tqdm_notebook(target_days):\n",
    "        od_date= pd.read_csv(os.path.join(data_path, 'date_{}_OD_{}.csv'.format(source_type,date.strftime('%Y-%m-%d'))), \n",
    "                            index_col=0)\n",
    "        ods[date] = od_date\n",
    "    return ods"
   ]
  },
  {
   "cell_type": "code",
   "execution_count": 4,
   "metadata": {},
   "outputs": [
    {
     "data": {
      "application/vnd.jupyter.widget-view+json": {
       "model_id": "8d79de55e01244e7a7fbf6e84a4a1cdf",
       "version_major": 2,
       "version_minor": 0
      },
      "text/plain": [
       "  0%|          | 0/81 [00:00<?, ?it/s]"
      ]
     },
     "metadata": {},
     "output_type": "display_data"
    }
   ],
   "source": [
    "ine_ods = read_OD_fn('INE')"
   ]
  },
  {
   "cell_type": "code",
   "execution_count": 5,
   "metadata": {
    "scrolled": true
   },
   "outputs": [
    {
     "data": {
      "application/vnd.jupyter.widget-view+json": {
       "model_id": "4ac9e50e50344292a927fd8049aaf069",
       "version_major": 2,
       "version_minor": 0
      },
      "text/plain": [
       "  0%|          | 0/81 [00:00<?, ?it/s]"
      ]
     },
     "metadata": {},
     "output_type": "display_data"
    }
   ],
   "source": [
    "twt_ods = read_OD_fn('TWT')"
   ]
  },
  {
   "cell_type": "markdown",
   "metadata": {},
   "source": [
    "# Serializar los datos"
   ]
  },
  {
   "cell_type": "code",
   "execution_count": 6,
   "metadata": {
    "scrolled": true
   },
   "outputs": [
    {
     "data": {
      "application/vnd.jupyter.widget-view+json": {
       "model_id": "ab6e63152a494599824b545612c1f2f5",
       "version_major": 2,
       "version_minor": 0
      },
      "text/plain": [
       "  0%|          | 0/81 [00:00<?, ?it/s]"
      ]
     },
     "metadata": {},
     "output_type": "display_data"
    },
    {
     "data": {
      "application/vnd.jupyter.widget-view+json": {
       "model_id": "077e09919e7843b28c2b87c6fd100faa",
       "version_major": 2,
       "version_minor": 0
      },
      "text/plain": [
       "  0%|          | 0/81 [00:00<?, ?it/s]"
      ]
     },
     "metadata": {},
     "output_type": "display_data"
    }
   ],
   "source": [
    "lista_twt = []\n",
    "\n",
    "for date in tqdm_notebook(target_days):\n",
    "    lista_twt.append(twt_ods[date].loc['total','total'])\n",
    "    \n",
    "del twt_ods\n",
    "    \n",
    "lista_ine = []\n",
    "\n",
    "for date in tqdm_notebook(target_days):\n",
    "    lista_ine.append(ine_ods[date].loc['total','total'])\n",
    "    \n",
    "del ine_ods"
   ]
  },
  {
   "cell_type": "code",
   "execution_count": 7,
   "metadata": {
    "scrolled": true
   },
   "outputs": [],
   "source": [
    "df_twt = pd.DataFrame (lista_twt, columns = ['Viajes'], index= target_days)\n",
    "df_ine = pd.DataFrame (lista_ine, columns = ['Viajes'], index= target_days)"
   ]
  },
  {
   "cell_type": "code",
   "execution_count": 8,
   "metadata": {},
   "outputs": [
    {
     "data": {
      "text/html": [
       "<div>\n",
       "<style scoped>\n",
       "    .dataframe tbody tr th:only-of-type {\n",
       "        vertical-align: middle;\n",
       "    }\n",
       "\n",
       "    .dataframe tbody tr th {\n",
       "        vertical-align: top;\n",
       "    }\n",
       "\n",
       "    .dataframe thead th {\n",
       "        text-align: right;\n",
       "    }\n",
       "</style>\n",
       "<table border=\"1\" class=\"dataframe\">\n",
       "  <thead>\n",
       "    <tr style=\"text-align: right;\">\n",
       "      <th></th>\n",
       "      <th>Viajes</th>\n",
       "    </tr>\n",
       "  </thead>\n",
       "  <tbody>\n",
       "    <tr>\n",
       "      <th>2020-04-01</th>\n",
       "      <td>2375</td>\n",
       "    </tr>\n",
       "    <tr>\n",
       "      <th>2020-04-02</th>\n",
       "      <td>2450</td>\n",
       "    </tr>\n",
       "    <tr>\n",
       "      <th>2020-04-03</th>\n",
       "      <td>2503</td>\n",
       "    </tr>\n",
       "    <tr>\n",
       "      <th>2020-04-04</th>\n",
       "      <td>554</td>\n",
       "    </tr>\n",
       "    <tr>\n",
       "      <th>2020-04-05</th>\n",
       "      <td>1319</td>\n",
       "    </tr>\n",
       "  </tbody>\n",
       "</table>\n",
       "</div>"
      ],
      "text/plain": [
       "            Viajes\n",
       "2020-04-01    2375\n",
       "2020-04-02    2450\n",
       "2020-04-03    2503\n",
       "2020-04-04     554\n",
       "2020-04-05    1319"
      ]
     },
     "execution_count": 8,
     "metadata": {},
     "output_type": "execute_result"
    }
   ],
   "source": [
    "df_twt.head()"
   ]
  },
  {
   "cell_type": "markdown",
   "metadata": {},
   "source": [
    "# Visualización de datos"
   ]
  },
  {
   "cell_type": "code",
   "execution_count": 9,
   "metadata": {},
   "outputs": [
    {
     "name": "stdout",
     "output_type": "stream",
     "text": [
      "2020-04-01 00:00:00\n",
      "2020-06-20 00:00:00\n"
     ]
    }
   ],
   "source": [
    "print(df_twt.index.min())\n",
    "print(df_ine.index.max())"
   ]
  },
  {
   "cell_type": "code",
   "execution_count": 10,
   "metadata": {
    "scrolled": true
   },
   "outputs": [
    {
     "name": "stdout",
     "output_type": "stream",
     "text": [
      "81\n"
     ]
    }
   ],
   "source": [
    "print(len(df_twt['2020']))"
   ]
  },
  {
   "cell_type": "code",
   "execution_count": 11,
   "metadata": {},
   "outputs": [
    {
     "name": "stdout",
     "output_type": "stream",
     "text": [
      "81\n"
     ]
    }
   ],
   "source": [
    "print(len(df_ine['2020']))"
   ]
  },
  {
   "cell_type": "code",
   "execution_count": 12,
   "metadata": {
    "scrolled": true
   },
   "outputs": [
    {
     "data": {
      "text/html": [
       "<div>\n",
       "<style scoped>\n",
       "    .dataframe tbody tr th:only-of-type {\n",
       "        vertical-align: middle;\n",
       "    }\n",
       "\n",
       "    .dataframe tbody tr th {\n",
       "        vertical-align: top;\n",
       "    }\n",
       "\n",
       "    .dataframe thead th {\n",
       "        text-align: right;\n",
       "    }\n",
       "</style>\n",
       "<table border=\"1\" class=\"dataframe\">\n",
       "  <thead>\n",
       "    <tr style=\"text-align: right;\">\n",
       "      <th></th>\n",
       "      <th>Viajes</th>\n",
       "    </tr>\n",
       "  </thead>\n",
       "  <tbody>\n",
       "    <tr>\n",
       "      <th>count</th>\n",
       "      <td>81.000000</td>\n",
       "    </tr>\n",
       "    <tr>\n",
       "      <th>mean</th>\n",
       "      <td>2943.000000</td>\n",
       "    </tr>\n",
       "    <tr>\n",
       "      <th>std</th>\n",
       "      <td>887.069149</td>\n",
       "    </tr>\n",
       "    <tr>\n",
       "      <th>min</th>\n",
       "      <td>0.000000</td>\n",
       "    </tr>\n",
       "    <tr>\n",
       "      <th>25%</th>\n",
       "      <td>2363.000000</td>\n",
       "    </tr>\n",
       "    <tr>\n",
       "      <th>50%</th>\n",
       "      <td>2904.000000</td>\n",
       "    </tr>\n",
       "    <tr>\n",
       "      <th>75%</th>\n",
       "      <td>3629.000000</td>\n",
       "    </tr>\n",
       "    <tr>\n",
       "      <th>max</th>\n",
       "      <td>4738.000000</td>\n",
       "    </tr>\n",
       "  </tbody>\n",
       "</table>\n",
       "</div>"
      ],
      "text/plain": [
       "            Viajes\n",
       "count    81.000000\n",
       "mean   2943.000000\n",
       "std     887.069149\n",
       "min       0.000000\n",
       "25%    2363.000000\n",
       "50%    2904.000000\n",
       "75%    3629.000000\n",
       "max    4738.000000"
      ]
     },
     "execution_count": 12,
     "metadata": {},
     "output_type": "execute_result"
    }
   ],
   "source": [
    "df_twt.describe()"
   ]
  },
  {
   "cell_type": "code",
   "execution_count": 13,
   "metadata": {},
   "outputs": [
    {
     "data": {
      "text/html": [
       "<div>\n",
       "<style scoped>\n",
       "    .dataframe tbody tr th:only-of-type {\n",
       "        vertical-align: middle;\n",
       "    }\n",
       "\n",
       "    .dataframe tbody tr th {\n",
       "        vertical-align: top;\n",
       "    }\n",
       "\n",
       "    .dataframe thead th {\n",
       "        text-align: right;\n",
       "    }\n",
       "</style>\n",
       "<table border=\"1\" class=\"dataframe\">\n",
       "  <thead>\n",
       "    <tr style=\"text-align: right;\">\n",
       "      <th></th>\n",
       "      <th>Viajes</th>\n",
       "    </tr>\n",
       "  </thead>\n",
       "  <tbody>\n",
       "    <tr>\n",
       "      <th>count</th>\n",
       "      <td>8.100000e+01</td>\n",
       "    </tr>\n",
       "    <tr>\n",
       "      <th>mean</th>\n",
       "      <td>3.438222e+06</td>\n",
       "    </tr>\n",
       "    <tr>\n",
       "      <th>std</th>\n",
       "      <td>1.174931e+06</td>\n",
       "    </tr>\n",
       "    <tr>\n",
       "      <th>min</th>\n",
       "      <td>1.535886e+06</td>\n",
       "    </tr>\n",
       "    <tr>\n",
       "      <th>25%</th>\n",
       "      <td>2.488436e+06</td>\n",
       "    </tr>\n",
       "    <tr>\n",
       "      <th>50%</th>\n",
       "      <td>3.396402e+06</td>\n",
       "    </tr>\n",
       "    <tr>\n",
       "      <th>75%</th>\n",
       "      <td>4.445190e+06</td>\n",
       "    </tr>\n",
       "    <tr>\n",
       "      <th>max</th>\n",
       "      <td>5.519725e+06</td>\n",
       "    </tr>\n",
       "  </tbody>\n",
       "</table>\n",
       "</div>"
      ],
      "text/plain": [
       "             Viajes\n",
       "count  8.100000e+01\n",
       "mean   3.438222e+06\n",
       "std    1.174931e+06\n",
       "min    1.535886e+06\n",
       "25%    2.488436e+06\n",
       "50%    3.396402e+06\n",
       "75%    4.445190e+06\n",
       "max    5.519725e+06"
      ]
     },
     "execution_count": 13,
     "metadata": {},
     "output_type": "execute_result"
    }
   ],
   "source": [
    "df_ine.describe()"
   ]
  },
  {
   "cell_type": "code",
   "execution_count": 14,
   "metadata": {
    "scrolled": true
   },
   "outputs": [
    {
     "data": {
      "text/html": [
       "<div>\n",
       "<style scoped>\n",
       "    .dataframe tbody tr th:only-of-type {\n",
       "        vertical-align: middle;\n",
       "    }\n",
       "\n",
       "    .dataframe tbody tr th {\n",
       "        vertical-align: top;\n",
       "    }\n",
       "\n",
       "    .dataframe thead th {\n",
       "        text-align: right;\n",
       "    }\n",
       "</style>\n",
       "<table border=\"1\" class=\"dataframe\">\n",
       "  <thead>\n",
       "    <tr style=\"text-align: right;\">\n",
       "      <th></th>\n",
       "      <th>Viajes</th>\n",
       "    </tr>\n",
       "  </thead>\n",
       "  <tbody>\n",
       "    <tr>\n",
       "      <th>2020-04-30</th>\n",
       "      <td>2157.500000</td>\n",
       "    </tr>\n",
       "    <tr>\n",
       "      <th>2020-05-31</th>\n",
       "      <td>3128.193548</td>\n",
       "    </tr>\n",
       "    <tr>\n",
       "      <th>2020-06-30</th>\n",
       "      <td>3834.200000</td>\n",
       "    </tr>\n",
       "  </tbody>\n",
       "</table>\n",
       "</div>"
      ],
      "text/plain": [
       "                 Viajes\n",
       "2020-04-30  2157.500000\n",
       "2020-05-31  3128.193548\n",
       "2020-06-30  3834.200000"
      ]
     },
     "execution_count": 14,
     "metadata": {},
     "output_type": "execute_result"
    }
   ],
   "source": [
    "meses = df_twt.resample('M').mean()\n",
    "meses"
   ]
  },
  {
   "cell_type": "code",
   "execution_count": 15,
   "metadata": {},
   "outputs": [
    {
     "data": {
      "text/html": [
       "<div>\n",
       "<style scoped>\n",
       "    .dataframe tbody tr th:only-of-type {\n",
       "        vertical-align: middle;\n",
       "    }\n",
       "\n",
       "    .dataframe tbody tr th {\n",
       "        vertical-align: top;\n",
       "    }\n",
       "\n",
       "    .dataframe thead th {\n",
       "        text-align: right;\n",
       "    }\n",
       "</style>\n",
       "<table border=\"1\" class=\"dataframe\">\n",
       "  <thead>\n",
       "    <tr style=\"text-align: right;\">\n",
       "      <th></th>\n",
       "      <th>Viajes</th>\n",
       "    </tr>\n",
       "  </thead>\n",
       "  <tbody>\n",
       "    <tr>\n",
       "      <th>2020-04-30</th>\n",
       "      <td>2.356878e+06</td>\n",
       "    </tr>\n",
       "    <tr>\n",
       "      <th>2020-05-31</th>\n",
       "      <td>3.590722e+06</td>\n",
       "    </tr>\n",
       "    <tr>\n",
       "      <th>2020-06-30</th>\n",
       "      <td>4.823862e+06</td>\n",
       "    </tr>\n",
       "  </tbody>\n",
       "</table>\n",
       "</div>"
      ],
      "text/plain": [
       "                  Viajes\n",
       "2020-04-30  2.356878e+06\n",
       "2020-05-31  3.590722e+06\n",
       "2020-06-30  4.823862e+06"
      ]
     },
     "execution_count": 15,
     "metadata": {},
     "output_type": "execute_result"
    }
   ],
   "source": [
    "meses = df_ine.resample('M').mean()\n",
    "meses"
   ]
  },
  {
   "cell_type": "code",
   "execution_count": 16,
   "metadata": {
    "scrolled": true
   },
   "outputs": [
    {
     "data": {
      "text/plain": [
       "[<matplotlib.lines.Line2D at 0x26b2d98e550>]"
      ]
     },
     "execution_count": 16,
     "metadata": {},
     "output_type": "execute_result"
    },
    {
     "data": {
      "image/png": "[encoded data removed]",
      "text/plain": [
       "<Figure size 432x288 with 1 Axes>"
      ]
     },
     "metadata": {
      "needs_background": "light"
     },
     "output_type": "display_data"
    }
   ],
   "source": [
    "abril = df_twt['2020-04-01':'2020-04-30']\n",
    "plt.plot(abril.values)\n",
    "mayo = df_twt['2020-05-01':'2020-05-31']\n",
    "plt.plot(mayo.values)\n",
    "junio = df_twt['2020-06-01':'2020-06-20']\n",
    "plt.plot(junio.values)"
   ]
  },
  {
   "cell_type": "code",
   "execution_count": 17,
   "metadata": {},
   "outputs": [
    {
     "data": {
      "text/plain": [
       "[<matplotlib.lines.Line2D at 0x26b7bf93a00>]"
      ]
     },
     "execution_count": 17,
     "metadata": {},
     "output_type": "execute_result"
    },
    {
     "data": {
      "image/png": "[encoded data removed]",
      "text/plain": [
       "<Figure size 432x288 with 1 Axes>"
      ]
     },
     "metadata": {
      "needs_background": "light"
     },
     "output_type": "display_data"
    }
   ],
   "source": [
    "abril = df_ine['2020-04-01':'2020-04-30']\n",
    "plt.plot(abril.values)\n",
    "mayo = df_ine['2020-05-01':'2020-05-31']\n",
    "plt.plot(mayo.values)\n",
    "junio = df_ine['2020-06-01':'2020-06-20']\n",
    "plt.plot(junio.values)"
   ]
  },
  {
   "cell_type": "markdown",
   "metadata": {},
   "source": [
    "# Preprocesado de datos"
   ]
  },
  {
   "cell_type": "code",
   "execution_count": 18,
   "metadata": {},
   "outputs": [
    {
     "data": {
      "text/html": [
       "<div>\n",
       "<style scoped>\n",
       "    .dataframe tbody tr th:only-of-type {\n",
       "        vertical-align: middle;\n",
       "    }\n",
       "\n",
       "    .dataframe tbody tr th {\n",
       "        vertical-align: top;\n",
       "    }\n",
       "\n",
       "    .dataframe thead th {\n",
       "        text-align: right;\n",
       "    }\n",
       "</style>\n",
       "<table border=\"1\" class=\"dataframe\">\n",
       "  <thead>\n",
       "    <tr style=\"text-align: right;\">\n",
       "      <th></th>\n",
       "      <th>var1(t-7)</th>\n",
       "      <th>var1(t-6)</th>\n",
       "      <th>var1(t-5)</th>\n",
       "      <th>var1(t-4)</th>\n",
       "      <th>var1(t-3)</th>\n",
       "      <th>var1(t-2)</th>\n",
       "      <th>var1(t-1)</th>\n",
       "      <th>var1(t)</th>\n",
       "    </tr>\n",
       "  </thead>\n",
       "  <tbody>\n",
       "    <tr>\n",
       "      <th>76</th>\n",
       "      <td>0.712537</td>\n",
       "      <td>0.561418</td>\n",
       "      <td>0.780498</td>\n",
       "      <td>0.847615</td>\n",
       "      <td>0.876741</td>\n",
       "      <td>0.747151</td>\n",
       "      <td>0.551710</td>\n",
       "      <td>0.549599</td>\n",
       "    </tr>\n",
       "    <tr>\n",
       "      <th>77</th>\n",
       "      <td>0.561418</td>\n",
       "      <td>0.780498</td>\n",
       "      <td>0.847615</td>\n",
       "      <td>0.876741</td>\n",
       "      <td>0.747151</td>\n",
       "      <td>0.551710</td>\n",
       "      <td>0.549599</td>\n",
       "      <td>0.559308</td>\n",
       "    </tr>\n",
       "    <tr>\n",
       "      <th>78</th>\n",
       "      <td>0.780498</td>\n",
       "      <td>0.847615</td>\n",
       "      <td>0.876741</td>\n",
       "      <td>0.747151</td>\n",
       "      <td>0.551710</td>\n",
       "      <td>0.549599</td>\n",
       "      <td>0.559308</td>\n",
       "      <td>0.846771</td>\n",
       "    </tr>\n",
       "    <tr>\n",
       "      <th>79</th>\n",
       "      <td>0.847615</td>\n",
       "      <td>0.876741</td>\n",
       "      <td>0.747151</td>\n",
       "      <td>0.551710</td>\n",
       "      <td>0.549599</td>\n",
       "      <td>0.559308</td>\n",
       "      <td>0.846771</td>\n",
       "      <td>1.000000</td>\n",
       "    </tr>\n",
       "    <tr>\n",
       "      <th>80</th>\n",
       "      <td>0.876741</td>\n",
       "      <td>0.747151</td>\n",
       "      <td>0.551710</td>\n",
       "      <td>0.549599</td>\n",
       "      <td>0.559308</td>\n",
       "      <td>0.846771</td>\n",
       "      <td>1.000000</td>\n",
       "      <td>-0.153229</td>\n",
       "    </tr>\n",
       "  </tbody>\n",
       "</table>\n",
       "</div>"
      ],
      "text/plain": [
       "    var1(t-7)  var1(t-6)  var1(t-5)  var1(t-4)  var1(t-3)  var1(t-2)  \\\n",
       "76   0.712537   0.561418   0.780498   0.847615   0.876741   0.747151   \n",
       "77   0.561418   0.780498   0.847615   0.876741   0.747151   0.551710   \n",
       "78   0.780498   0.847615   0.876741   0.747151   0.551710   0.549599   \n",
       "79   0.847615   0.876741   0.747151   0.551710   0.549599   0.559308   \n",
       "80   0.876741   0.747151   0.551710   0.549599   0.559308   0.846771   \n",
       "\n",
       "    var1(t-1)   var1(t)  \n",
       "76   0.551710  0.549599  \n",
       "77   0.549599  0.559308  \n",
       "78   0.559308  0.846771  \n",
       "79   0.846771  1.000000  \n",
       "80   1.000000 -0.153229  "
      ]
     },
     "execution_count": 18,
     "metadata": {},
     "output_type": "execute_result"
    }
   ],
   "source": [
    "# cantidad de dias previos que se usaran para predecir el siguiente dia \n",
    "look_back=7\n",
    "\n",
    "# convertir series en conocimiento supervisado\n",
    "def series_to_supervised(data, n_in=1, n_out=1, dropnan=True):\n",
    "    n_vars = 1 if type(data) is list else data.shape[1]\n",
    "    df = pd.DataFrame(data)\n",
    "    cols, names = list(), list()\n",
    "    # secuencia de entrada (t-n, ... t-1)\n",
    "    for i in range(n_in, 0, -1):\n",
    "        cols.append(df.shift(i))\n",
    "        names += [('var%d(t-%d)' % (j+1, i)) for j in range(n_vars)]\n",
    "    # secuencia del pronostico (t, t+1, ... t+n)\n",
    "    for i in range(0, n_out):\n",
    "        cols.append(df.shift(-i))\n",
    "        if i == 0:\n",
    "            names += [('var%d(t)' % (j+1)) for j in range(n_vars)]\n",
    "        else:\n",
    "            names += [('var%d(t+%d)' % (j+1, i)) for j in range(n_vars)]\n",
    "    # unimos todo\n",
    "    agg = pd.concat(cols, axis=1)\n",
    "    agg.columns = names\n",
    "    # eliminamos todos los valores nulos\n",
    "    if dropnan:\n",
    "        agg.dropna(inplace=True)\n",
    "    return agg\n",
    " \n",
    "# cargamos el dataframe en la variable values\n",
    "values_twt = df_twt.values\n",
    "values_ine = df_ine.values\n",
    "\n",
    "# convertimos los enteros en floats\n",
    "values_twt = values_twt.astype('float32')\n",
    "values_ine = values_ine.astype('float32')\n",
    "\n",
    "# normalizamos los datos a escala de entre -1 y 1\n",
    "scaler = MinMaxScaler(feature_range=(-1, 1))\n",
    "values_twt=values_twt.reshape(-1, 1) # esto lo hacemos porque tenemos 1 sola dimension\n",
    "values_ine=values_ine.reshape(-1, 1) # esto lo hacemos porque tenemos 1 sola dimension\n",
    "scaled_twt = scaler.fit_transform(values_twt)\n",
    "scaled_ine = scaler.fit_transform(values_ine)\n",
    "\n",
    "# usamos la funcion definida previamente\n",
    "reframed_twt = series_to_supervised(scaled_twt, look_back, 1)\n",
    "reframed_ine = series_to_supervised(scaled_ine, look_back, 1)\n",
    "\n",
    "#imprimimos los nuevos datos\n",
    "reframed_twt.tail()"
   ]
  },
  {
   "cell_type": "code",
   "execution_count": 19,
   "metadata": {
    "scrolled": false
   },
   "outputs": [
    {
     "data": {
      "text/html": [
       "<div>\n",
       "<style scoped>\n",
       "    .dataframe tbody tr th:only-of-type {\n",
       "        vertical-align: middle;\n",
       "    }\n",
       "\n",
       "    .dataframe tbody tr th {\n",
       "        vertical-align: top;\n",
       "    }\n",
       "\n",
       "    .dataframe thead th {\n",
       "        text-align: right;\n",
       "    }\n",
       "</style>\n",
       "<table border=\"1\" class=\"dataframe\">\n",
       "  <thead>\n",
       "    <tr style=\"text-align: right;\">\n",
       "      <th></th>\n",
       "      <th>var2(t-7)</th>\n",
       "      <th>var2(t-6)</th>\n",
       "      <th>var2(t-5)</th>\n",
       "      <th>var2(t-4)</th>\n",
       "      <th>var2(t-3)</th>\n",
       "      <th>var2(t-2)</th>\n",
       "      <th>var2(t-1)</th>\n",
       "      <th>var2(t)</th>\n",
       "    </tr>\n",
       "  </thead>\n",
       "  <tbody>\n",
       "    <tr>\n",
       "      <th>76</th>\n",
       "      <td>0.477061</td>\n",
       "      <td>0.891413</td>\n",
       "      <td>0.839957</td>\n",
       "      <td>0.847171</td>\n",
       "      <td>0.460553</td>\n",
       "      <td>0.113062</td>\n",
       "      <td>0.725623</td>\n",
       "      <td>0.894152</td>\n",
       "    </tr>\n",
       "    <tr>\n",
       "      <th>77</th>\n",
       "      <td>0.891413</td>\n",
       "      <td>0.839957</td>\n",
       "      <td>0.847171</td>\n",
       "      <td>0.460553</td>\n",
       "      <td>0.113062</td>\n",
       "      <td>0.725623</td>\n",
       "      <td>0.894152</td>\n",
       "      <td>0.923149</td>\n",
       "    </tr>\n",
       "    <tr>\n",
       "      <th>78</th>\n",
       "      <td>0.839957</td>\n",
       "      <td>0.847171</td>\n",
       "      <td>0.460553</td>\n",
       "      <td>0.113062</td>\n",
       "      <td>0.725623</td>\n",
       "      <td>0.894152</td>\n",
       "      <td>0.923149</td>\n",
       "      <td>0.959687</td>\n",
       "    </tr>\n",
       "    <tr>\n",
       "      <th>79</th>\n",
       "      <td>0.847171</td>\n",
       "      <td>0.460553</td>\n",
       "      <td>0.113062</td>\n",
       "      <td>0.725623</td>\n",
       "      <td>0.894152</td>\n",
       "      <td>0.923149</td>\n",
       "      <td>0.959687</td>\n",
       "      <td>1.000000</td>\n",
       "    </tr>\n",
       "    <tr>\n",
       "      <th>80</th>\n",
       "      <td>0.460553</td>\n",
       "      <td>0.113062</td>\n",
       "      <td>0.725623</td>\n",
       "      <td>0.894152</td>\n",
       "      <td>0.923149</td>\n",
       "      <td>0.959687</td>\n",
       "      <td>1.000000</td>\n",
       "      <td>0.551599</td>\n",
       "    </tr>\n",
       "  </tbody>\n",
       "</table>\n",
       "</div>"
      ],
      "text/plain": [
       "    var2(t-7)  var2(t-6)  var2(t-5)  var2(t-4)  var2(t-3)  var2(t-2)  \\\n",
       "76   0.477061   0.891413   0.839957   0.847171   0.460553   0.113062   \n",
       "77   0.891413   0.839957   0.847171   0.460553   0.113062   0.725623   \n",
       "78   0.839957   0.847171   0.460553   0.113062   0.725623   0.894152   \n",
       "79   0.847171   0.460553   0.113062   0.725623   0.894152   0.923149   \n",
       "80   0.460553   0.113062   0.725623   0.894152   0.923149   0.959687   \n",
       "\n",
       "    var2(t-1)   var2(t)  \n",
       "76   0.725623  0.894152  \n",
       "77   0.894152  0.923149  \n",
       "78   0.923149  0.959687  \n",
       "79   0.959687  1.000000  \n",
       "80   1.000000  0.551599  "
      ]
     },
     "execution_count": 19,
     "metadata": {},
     "output_type": "execute_result"
    }
   ],
   "source": [
    "#cambiamos el nombre de las columnas\n",
    "reframed_ine.columns = ['var2(t-7)', 'var2(t-6)', 'var2(t-5)', 'var2(t-4)', 'var2(t-3)', 'var2(t-2)', 'var2(t-1)', 'var2(t)']\n",
    "reframed_ine.tail()"
   ]
  },
  {
   "cell_type": "code",
   "execution_count": 20,
   "metadata": {
    "scrolled": false
   },
   "outputs": [
    {
     "data": {
      "text/html": [
       "<div>\n",
       "<style scoped>\n",
       "    .dataframe tbody tr th:only-of-type {\n",
       "        vertical-align: middle;\n",
       "    }\n",
       "\n",
       "    .dataframe tbody tr th {\n",
       "        vertical-align: top;\n",
       "    }\n",
       "\n",
       "    .dataframe thead th {\n",
       "        text-align: right;\n",
       "    }\n",
       "</style>\n",
       "<table border=\"1\" class=\"dataframe\">\n",
       "  <thead>\n",
       "    <tr style=\"text-align: right;\">\n",
       "      <th></th>\n",
       "      <th>var1(t-7)</th>\n",
       "      <th>var2(t-7)</th>\n",
       "      <th>var1(t-6)</th>\n",
       "      <th>var2(t-6)</th>\n",
       "      <th>var1(t-5)</th>\n",
       "      <th>var2(t-5)</th>\n",
       "      <th>var1(t-4)</th>\n",
       "      <th>var2(t-4)</th>\n",
       "      <th>var1(t-3)</th>\n",
       "      <th>var2(t-3)</th>\n",
       "      <th>var1(t-2)</th>\n",
       "      <th>var2(t-2)</th>\n",
       "      <th>var1(t-1)</th>\n",
       "      <th>var2(t-1)</th>\n",
       "      <th>var2(t)</th>\n",
       "    </tr>\n",
       "  </thead>\n",
       "  <tbody>\n",
       "    <tr>\n",
       "      <th>76</th>\n",
       "      <td>0.712537</td>\n",
       "      <td>0.477061</td>\n",
       "      <td>0.561418</td>\n",
       "      <td>0.891413</td>\n",
       "      <td>0.780498</td>\n",
       "      <td>0.839957</td>\n",
       "      <td>0.847615</td>\n",
       "      <td>0.847171</td>\n",
       "      <td>0.876741</td>\n",
       "      <td>0.460553</td>\n",
       "      <td>0.747151</td>\n",
       "      <td>0.113062</td>\n",
       "      <td>0.551710</td>\n",
       "      <td>0.725623</td>\n",
       "      <td>0.894152</td>\n",
       "    </tr>\n",
       "    <tr>\n",
       "      <th>77</th>\n",
       "      <td>0.561418</td>\n",
       "      <td>0.891413</td>\n",
       "      <td>0.780498</td>\n",
       "      <td>0.839957</td>\n",
       "      <td>0.847615</td>\n",
       "      <td>0.847171</td>\n",
       "      <td>0.876741</td>\n",
       "      <td>0.460553</td>\n",
       "      <td>0.747151</td>\n",
       "      <td>0.113062</td>\n",
       "      <td>0.551710</td>\n",
       "      <td>0.725623</td>\n",
       "      <td>0.549599</td>\n",
       "      <td>0.894152</td>\n",
       "      <td>0.923149</td>\n",
       "    </tr>\n",
       "    <tr>\n",
       "      <th>78</th>\n",
       "      <td>0.780498</td>\n",
       "      <td>0.839957</td>\n",
       "      <td>0.847615</td>\n",
       "      <td>0.847171</td>\n",
       "      <td>0.876741</td>\n",
       "      <td>0.460553</td>\n",
       "      <td>0.747151</td>\n",
       "      <td>0.113062</td>\n",
       "      <td>0.551710</td>\n",
       "      <td>0.725623</td>\n",
       "      <td>0.549599</td>\n",
       "      <td>0.894152</td>\n",
       "      <td>0.559308</td>\n",
       "      <td>0.923149</td>\n",
       "      <td>0.959687</td>\n",
       "    </tr>\n",
       "    <tr>\n",
       "      <th>79</th>\n",
       "      <td>0.847615</td>\n",
       "      <td>0.847171</td>\n",
       "      <td>0.876741</td>\n",
       "      <td>0.460553</td>\n",
       "      <td>0.747151</td>\n",
       "      <td>0.113062</td>\n",
       "      <td>0.551710</td>\n",
       "      <td>0.725623</td>\n",
       "      <td>0.549599</td>\n",
       "      <td>0.894152</td>\n",
       "      <td>0.559308</td>\n",
       "      <td>0.923149</td>\n",
       "      <td>0.846771</td>\n",
       "      <td>0.959687</td>\n",
       "      <td>1.000000</td>\n",
       "    </tr>\n",
       "    <tr>\n",
       "      <th>80</th>\n",
       "      <td>0.876741</td>\n",
       "      <td>0.460553</td>\n",
       "      <td>0.747151</td>\n",
       "      <td>0.113062</td>\n",
       "      <td>0.551710</td>\n",
       "      <td>0.725623</td>\n",
       "      <td>0.549599</td>\n",
       "      <td>0.894152</td>\n",
       "      <td>0.559308</td>\n",
       "      <td>0.923149</td>\n",
       "      <td>0.846771</td>\n",
       "      <td>0.959687</td>\n",
       "      <td>1.000000</td>\n",
       "      <td>1.000000</td>\n",
       "      <td>0.551599</td>\n",
       "    </tr>\n",
       "  </tbody>\n",
       "</table>\n",
       "</div>"
      ],
      "text/plain": [
       "    var1(t-7)  var2(t-7)  var1(t-6)  var2(t-6)  var1(t-5)  var2(t-5)  \\\n",
       "76   0.712537   0.477061   0.561418   0.891413   0.780498   0.839957   \n",
       "77   0.561418   0.891413   0.780498   0.839957   0.847615   0.847171   \n",
       "78   0.780498   0.839957   0.847615   0.847171   0.876741   0.460553   \n",
       "79   0.847615   0.847171   0.876741   0.460553   0.747151   0.113062   \n",
       "80   0.876741   0.460553   0.747151   0.113062   0.551710   0.725623   \n",
       "\n",
       "    var1(t-4)  var2(t-4)  var1(t-3)  var2(t-3)  var1(t-2)  var2(t-2)  \\\n",
       "76   0.847615   0.847171   0.876741   0.460553   0.747151   0.113062   \n",
       "77   0.876741   0.460553   0.747151   0.113062   0.551710   0.725623   \n",
       "78   0.747151   0.113062   0.551710   0.725623   0.549599   0.894152   \n",
       "79   0.551710   0.725623   0.549599   0.894152   0.559308   0.923149   \n",
       "80   0.549599   0.894152   0.559308   0.923149   0.846771   0.959687   \n",
       "\n",
       "    var1(t-1)  var2(t-1)   var2(t)  \n",
       "76   0.551710   0.725623  0.894152  \n",
       "77   0.549599   0.894152  0.923149  \n",
       "78   0.559308   0.923149  0.959687  \n",
       "79   0.846771   0.959687  1.000000  \n",
       "80   1.000000   1.000000  0.551599  "
      ]
     },
     "execution_count": 20,
     "metadata": {},
     "output_type": "execute_result"
    }
   ],
   "source": [
    "#unimos los datos del ine con los de twitter\n",
    "reframed = pd.concat([reframed_twt.iloc[:, 0], reframed_ine.iloc[:, 0]], axis=1)\n",
    "\n",
    "for i in range(6):\n",
    "    reframed = pd.concat([reframed, reframed_twt.iloc[:, i+1]], axis=1)\n",
    "    reframed = pd.concat([reframed, reframed_ine.iloc[:, i+1]], axis=1)\n",
    "    \n",
    "reframed = pd.concat([reframed, reframed_ine.iloc[:, 7]], axis=1)\n",
    "\n",
    "reframed.tail()"
   ]
  },
  {
   "cell_type": "markdown",
   "metadata": {},
   "source": [
    "# Dividimos los datos en sets de entrenamiento y validacion"
   ]
  },
  {
   "cell_type": "code",
   "execution_count": 21,
   "metadata": {},
   "outputs": [
    {
     "name": "stdout",
     "output_type": "stream",
     "text": [
      "(54, 1, 14) (54,) (20, 1, 14) (20,)\n"
     ]
    }
   ],
   "source": [
    "#dividimos nuestro valores entre sets de entrenamiento y de test\n",
    "values = reframed.values\n",
    "n_train_days = 71 - (10+look_back)\n",
    "train = values[:n_train_days, :]\n",
    "test = values[n_train_days:, :]\n",
    "\n",
    "# split into input and outputs\n",
    "x_train, y_train = train[:, :-1], train[:, -1]\n",
    "x_val, y_val = test[:, :-1], test[:, -1]\n",
    "\n",
    "# reshape input to be 3D [samples, timesteps, features] - preguntar\n",
    "x_train = x_train.reshape((x_train.shape[0], 1, x_train.shape[1]))\n",
    "x_val = x_val.reshape((x_val.shape[0], 1, x_val.shape[1]))\n",
    "print(x_train.shape, y_train.shape, x_val.shape, y_val.shape)"
   ]
  },
  {
   "cell_type": "markdown",
   "metadata": {},
   "source": [
    "# Creamos la red neuronal"
   ]
  },
  {
   "cell_type": "code",
   "execution_count": 22,
   "metadata": {},
   "outputs": [],
   "source": [
    "def crear_modeloFF():\n",
    "    model = Sequential() \n",
    "    model.add(Dense(look_back, input_shape=(1,look_back*2),activation='tanh'))\n",
    "    model.add(Flatten())\n",
    "    model.add(Dense(100, activation='tanh'))\n",
    "    model.add(Dropout(0.30))\n",
    "    model.add(Dense(100, activation='tanh'))\n",
    "    model.add(Dropout(0.30))\n",
    "    model.add(Dense(100, activation='tanh'))\n",
    "    model.add(Dropout(0.30))\n",
    "    model.add(Dense(100, activation='tanh'))\n",
    "    model.add(Dropout(0.30))\n",
    "    model.add(Dense(1, activation='tanh'))\n",
    "    model.compile(loss='mean_absolute_error',optimizer='Adam',metrics=[\"mse\"])\n",
    "    model.summary()\n",
    "    return model"
   ]
  },
  {
   "cell_type": "code",
   "execution_count": 23,
   "metadata": {},
   "outputs": [
    {
     "name": "stdout",
     "output_type": "stream",
     "text": [
      "Model: \"sequential\"\n",
      "_________________________________________________________________\n",
      "Layer (type)                 Output Shape              Param #   \n",
      "=================================================================\n",
      "dense (Dense)                (None, 1, 7)              105       \n",
      "_________________________________________________________________\n",
      "flatten (Flatten)            (None, 7)                 0         \n",
      "_________________________________________________________________\n",
      "dense_1 (Dense)              (None, 100)               800       \n",
      "_________________________________________________________________\n",
      "dropout (Dropout)            (None, 100)               0         \n",
      "_________________________________________________________________\n",
      "dense_2 (Dense)              (None, 100)               10100     \n",
      "_________________________________________________________________\n",
      "dropout_1 (Dropout)          (None, 100)               0         \n",
      "_________________________________________________________________\n",
      "dense_3 (Dense)              (None, 100)               10100     \n",
      "_________________________________________________________________\n",
      "dropout_2 (Dropout)          (None, 100)               0         \n",
      "_________________________________________________________________\n",
      "dense_4 (Dense)              (None, 100)               10100     \n",
      "_________________________________________________________________\n",
      "dropout_3 (Dropout)          (None, 100)               0         \n",
      "_________________________________________________________________\n",
      "dense_5 (Dense)              (None, 1)                 101       \n",
      "=================================================================\n",
      "Total params: 31,306\n",
      "Trainable params: 31,306\n",
      "Non-trainable params: 0\n",
      "_________________________________________________________________\n",
      "Epoch 1/200\n",
      "8/8 [==============================] - 3s 289ms/step - loss: 0.4206 - mse: 0.2405 - val_loss: 0.2903 - val_mse: 0.1505\n",
      "Epoch 2/200\n",
      "8/8 [==============================] - 0s 13ms/step - loss: 0.3158 - mse: 0.1666 - val_loss: 0.2597 - val_mse: 0.1254\n",
      "Epoch 3/200\n",
      "8/8 [==============================] - 0s 13ms/step - loss: 0.2381 - mse: 0.0933 - val_loss: 0.1897 - val_mse: 0.0684\n",
      "Epoch 4/200\n",
      "8/8 [==============================] - 0s 12ms/step - loss: 0.3290 - mse: 0.1608 - val_loss: 0.1793 - val_mse: 0.0573\n",
      "Epoch 5/200\n",
      "8/8 [==============================] - 0s 12ms/step - loss: 0.2655 - mse: 0.1066 - val_loss: 0.1867 - val_mse: 0.0737\n",
      "Epoch 6/200\n",
      "8/8 [==============================] - 0s 13ms/step - loss: 0.2631 - mse: 0.1070 - val_loss: 0.2051 - val_mse: 0.0875\n",
      "Epoch 7/200\n",
      "8/8 [==============================] - 0s 12ms/step - loss: 0.2661 - mse: 0.0928 - val_loss: 0.2029 - val_mse: 0.0789\n",
      "Epoch 8/200\n",
      "8/8 [==============================] - 0s 12ms/step - loss: 0.2931 - mse: 0.1418 - val_loss: 0.1810 - val_mse: 0.0528\n",
      "Epoch 9/200\n",
      "8/8 [==============================] - 0s 12ms/step - loss: 0.2623 - mse: 0.1033 - val_loss: 0.1626 - val_mse: 0.0507\n",
      "Epoch 10/200\n",
      "8/8 [==============================] - 0s 13ms/step - loss: 0.2646 - mse: 0.1173 - val_loss: 0.2005 - val_mse: 0.0776\n",
      "Epoch 11/200\n",
      "8/8 [==============================] - 0s 14ms/step - loss: 0.2700 - mse: 0.1051 - val_loss: 0.1901 - val_mse: 0.0622\n",
      "Epoch 12/200\n",
      "8/8 [==============================] - 0s 12ms/step - loss: 0.2370 - mse: 0.0900 - val_loss: 0.1704 - val_mse: 0.0494\n",
      "Epoch 13/200\n",
      "8/8 [==============================] - 0s 12ms/step - loss: 0.3196 - mse: 0.1404 - val_loss: 0.1700 - val_mse: 0.0540\n",
      "Epoch 14/200\n",
      "8/8 [==============================] - 0s 13ms/step - loss: 0.2629 - mse: 0.1042 - val_loss: 0.1864 - val_mse: 0.0698\n",
      "Epoch 15/200\n",
      "8/8 [==============================] - 0s 14ms/step - loss: 0.2820 - mse: 0.1203 - val_loss: 0.1936 - val_mse: 0.0745\n",
      "Epoch 16/200\n",
      "8/8 [==============================] - 0s 12ms/step - loss: 0.2460 - mse: 0.0949 - val_loss: 0.2068 - val_mse: 0.0815\n",
      "Epoch 17/200\n",
      "8/8 [==============================] - 0s 10ms/step - loss: 0.2722 - mse: 0.1175 - val_loss: 0.1910 - val_mse: 0.0510\n",
      "Epoch 18/200\n",
      "8/8 [==============================] - 0s 7ms/step - loss: 0.2139 - mse: 0.0792 - val_loss: 0.2100 - val_mse: 0.0550\n",
      "Epoch 19/200\n",
      "8/8 [==============================] - 0s 7ms/step - loss: 0.2268 - mse: 0.0805 - val_loss: 0.1774 - val_mse: 0.0443\n",
      "Epoch 20/200\n",
      "8/8 [==============================] - 0s 7ms/step - loss: 0.2739 - mse: 0.0996 - val_loss: 0.1857 - val_mse: 0.0482\n",
      "Epoch 21/200\n",
      "8/8 [==============================] - 0s 7ms/step - loss: 0.2285 - mse: 0.0937 - val_loss: 0.1830 - val_mse: 0.0503\n",
      "Epoch 22/200\n",
      "8/8 [==============================] - 0s 7ms/step - loss: 0.2486 - mse: 0.0919 - val_loss: 0.2038 - val_mse: 0.0781\n",
      "Epoch 23/200\n",
      "8/8 [==============================] - 0s 7ms/step - loss: 0.2349 - mse: 0.0854 - val_loss: 0.1984 - val_mse: 0.0782\n",
      "Epoch 24/200\n",
      "8/8 [==============================] - 0s 7ms/step - loss: 0.2282 - mse: 0.0743 - val_loss: 0.1878 - val_mse: 0.0693\n",
      "Epoch 25/200\n",
      "8/8 [==============================] - 0s 6ms/step - loss: 0.2478 - mse: 0.0937 - val_loss: 0.1680 - val_mse: 0.0507\n",
      "Epoch 26/200\n",
      "8/8 [==============================] - 0s 7ms/step - loss: 0.2184 - mse: 0.0709 - val_loss: 0.1926 - val_mse: 0.0483\n",
      "Epoch 27/200\n",
      "8/8 [==============================] - 0s 6ms/step - loss: 0.2459 - mse: 0.0905 - val_loss: 0.2772 - val_mse: 0.0952\n",
      "Epoch 28/200\n",
      "8/8 [==============================] - 0s 7ms/step - loss: 0.2436 - mse: 0.0868 - val_loss: 0.1743 - val_mse: 0.0406\n",
      "Epoch 29/200\n",
      "8/8 [==============================] - 0s 6ms/step - loss: 0.2117 - mse: 0.0680 - val_loss: 0.1636 - val_mse: 0.0421\n",
      "Epoch 30/200\n",
      "8/8 [==============================] - 0s 7ms/step - loss: 0.2408 - mse: 0.0957 - val_loss: 0.2125 - val_mse: 0.0871\n",
      "Epoch 31/200\n",
      "8/8 [==============================] - 0s 7ms/step - loss: 0.2215 - mse: 0.0839 - val_loss: 0.2126 - val_mse: 0.0884\n",
      "Epoch 32/200\n",
      "8/8 [==============================] - 0s 8ms/step - loss: 0.2640 - mse: 0.0953 - val_loss: 0.1743 - val_mse: 0.0457\n",
      "Epoch 33/200\n",
      "8/8 [==============================] - 0s 7ms/step - loss: 0.1910 - mse: 0.0637 - val_loss: 0.2162 - val_mse: 0.0568\n",
      "Epoch 34/200\n",
      "8/8 [==============================] - 0s 7ms/step - loss: 0.2032 - mse: 0.0640 - val_loss: 0.1694 - val_mse: 0.0377\n",
      "Epoch 35/200\n",
      "8/8 [==============================] - 0s 7ms/step - loss: 0.2395 - mse: 0.0850 - val_loss: 0.1496 - val_mse: 0.0390\n",
      "Epoch 36/200\n",
      "8/8 [==============================] - 0s 7ms/step - loss: 0.2080 - mse: 0.0707 - val_loss: 0.1557 - val_mse: 0.0409\n",
      "Epoch 37/200\n",
      "8/8 [==============================] - 0s 7ms/step - loss: 0.1917 - mse: 0.0564 - val_loss: 0.1643 - val_mse: 0.0403\n",
      "Epoch 38/200\n",
      "8/8 [==============================] - 0s 7ms/step - loss: 0.2493 - mse: 0.0914 - val_loss: 0.1748 - val_mse: 0.0460\n",
      "Epoch 39/200\n",
      "8/8 [==============================] - 0s 7ms/step - loss: 0.2195 - mse: 0.0849 - val_loss: 0.1793 - val_mse: 0.0449\n",
      "Epoch 40/200\n",
      "8/8 [==============================] - 0s 6ms/step - loss: 0.2196 - mse: 0.0662 - val_loss: 0.1828 - val_mse: 0.0467\n",
      "Epoch 41/200\n",
      "8/8 [==============================] - 0s 7ms/step - loss: 0.2100 - mse: 0.0586 - val_loss: 0.1766 - val_mse: 0.0500\n",
      "Epoch 42/200\n",
      "8/8 [==============================] - 0s 7ms/step - loss: 0.2197 - mse: 0.0774 - val_loss: 0.1787 - val_mse: 0.0539\n",
      "Epoch 43/200\n",
      "8/8 [==============================] - 0s 7ms/step - loss: 0.1974 - mse: 0.0551 - val_loss: 0.1672 - val_mse: 0.0450\n",
      "Epoch 44/200\n",
      "8/8 [==============================] - 0s 7ms/step - loss: 0.2236 - mse: 0.0841 - val_loss: 0.1740 - val_mse: 0.0393\n",
      "Epoch 45/200\n",
      "8/8 [==============================] - 0s 7ms/step - loss: 0.1882 - mse: 0.0503 - val_loss: 0.1610 - val_mse: 0.0389\n",
      "Epoch 46/200\n",
      "8/8 [==============================] - 0s 7ms/step - loss: 0.2185 - mse: 0.0669 - val_loss: 0.1549 - val_mse: 0.0359\n",
      "Epoch 47/200\n",
      "8/8 [==============================] - 0s 7ms/step - loss: 0.1667 - mse: 0.0451 - val_loss: 0.1535 - val_mse: 0.0349\n",
      "Epoch 48/200\n",
      "8/8 [==============================] - 0s 7ms/step - loss: 0.2379 - mse: 0.0910 - val_loss: 0.1548 - val_mse: 0.0352\n",
      "Epoch 49/200\n",
      "8/8 [==============================] - 0s 7ms/step - loss: 0.1835 - mse: 0.0525 - val_loss: 0.1528 - val_mse: 0.0383\n",
      "Epoch 50/200\n"
     ]
    },
    {
     "name": "stdout",
     "output_type": "stream",
     "text": [
      "8/8 [==============================] - 0s 7ms/step - loss: 0.1986 - mse: 0.0618 - val_loss: 0.1573 - val_mse: 0.0373\n",
      "Epoch 51/200\n",
      "8/8 [==============================] - 0s 7ms/step - loss: 0.2208 - mse: 0.0866 - val_loss: 0.1979 - val_mse: 0.0505\n",
      "Epoch 52/200\n",
      "8/8 [==============================] - 0s 7ms/step - loss: 0.2498 - mse: 0.0909 - val_loss: 0.1622 - val_mse: 0.0378\n",
      "Epoch 53/200\n",
      "8/8 [==============================] - 0s 7ms/step - loss: 0.2091 - mse: 0.0620 - val_loss: 0.1666 - val_mse: 0.0464\n",
      "Epoch 54/200\n",
      "8/8 [==============================] - 0s 7ms/step - loss: 0.2065 - mse: 0.0747 - val_loss: 0.1624 - val_mse: 0.0378\n",
      "Epoch 55/200\n",
      "8/8 [==============================] - 0s 8ms/step - loss: 0.2049 - mse: 0.0613 - val_loss: 0.1563 - val_mse: 0.0340\n",
      "Epoch 56/200\n",
      "8/8 [==============================] - 0s 7ms/step - loss: 0.1939 - mse: 0.0579 - val_loss: 0.1478 - val_mse: 0.0322\n",
      "Epoch 57/200\n",
      "8/8 [==============================] - 0s 8ms/step - loss: 0.2105 - mse: 0.0692 - val_loss: 0.1500 - val_mse: 0.0323\n",
      "Epoch 58/200\n",
      "8/8 [==============================] - 0s 7ms/step - loss: 0.1689 - mse: 0.0519 - val_loss: 0.1550 - val_mse: 0.0357\n",
      "Epoch 59/200\n",
      "8/8 [==============================] - 0s 7ms/step - loss: 0.1702 - mse: 0.0530 - val_loss: 0.1508 - val_mse: 0.0366\n",
      "Epoch 60/200\n",
      "8/8 [==============================] - 0s 7ms/step - loss: 0.1925 - mse: 0.0546 - val_loss: 0.1385 - val_mse: 0.0290\n",
      "Epoch 61/200\n",
      "8/8 [==============================] - 0s 7ms/step - loss: 0.1865 - mse: 0.0569 - val_loss: 0.1365 - val_mse: 0.0272\n",
      "Epoch 62/200\n",
      "8/8 [==============================] - 0s 7ms/step - loss: 0.1950 - mse: 0.0595 - val_loss: 0.1380 - val_mse: 0.0278\n",
      "Epoch 63/200\n",
      "8/8 [==============================] - 0s 7ms/step - loss: 0.1962 - mse: 0.0575 - val_loss: 0.1473 - val_mse: 0.0345\n",
      "Epoch 64/200\n",
      "8/8 [==============================] - 0s 7ms/step - loss: 0.2129 - mse: 0.0795 - val_loss: 0.1449 - val_mse: 0.0339\n",
      "Epoch 65/200\n",
      "8/8 [==============================] - 0s 7ms/step - loss: 0.1526 - mse: 0.0378 - val_loss: 0.1570 - val_mse: 0.0448\n",
      "Epoch 66/200\n",
      "8/8 [==============================] - 0s 8ms/step - loss: 0.1689 - mse: 0.0479 - val_loss: 0.1658 - val_mse: 0.0389\n",
      "Epoch 67/200\n",
      "8/8 [==============================] - 0s 7ms/step - loss: 0.1898 - mse: 0.0525 - val_loss: 0.1513 - val_mse: 0.0354\n",
      "Epoch 68/200\n",
      "8/8 [==============================] - 0s 7ms/step - loss: 0.1520 - mse: 0.0393 - val_loss: 0.1464 - val_mse: 0.0372\n",
      "Epoch 69/200\n",
      "8/8 [==============================] - 0s 7ms/step - loss: 0.1745 - mse: 0.0489 - val_loss: 0.1424 - val_mse: 0.0296\n",
      "Epoch 70/200\n",
      "8/8 [==============================] - 0s 8ms/step - loss: 0.1718 - mse: 0.0416 - val_loss: 0.1375 - val_mse: 0.0279\n",
      "Epoch 71/200\n",
      "8/8 [==============================] - 0s 7ms/step - loss: 0.1847 - mse: 0.0545 - val_loss: 0.1444 - val_mse: 0.0296\n",
      "Epoch 72/200\n",
      "8/8 [==============================] - 0s 7ms/step - loss: 0.1839 - mse: 0.0502 - val_loss: 0.1448 - val_mse: 0.0303\n",
      "Epoch 73/200\n",
      "8/8 [==============================] - 0s 7ms/step - loss: 0.1726 - mse: 0.0475 - val_loss: 0.1558 - val_mse: 0.0405\n",
      "Epoch 74/200\n",
      "8/8 [==============================] - 0s 7ms/step - loss: 0.1989 - mse: 0.0576 - val_loss: 0.1702 - val_mse: 0.0525\n",
      "Epoch 75/200\n",
      "8/8 [==============================] - 0s 7ms/step - loss: 0.1906 - mse: 0.0592 - val_loss: 0.1429 - val_mse: 0.0321\n",
      "Epoch 76/200\n",
      "8/8 [==============================] - 0s 7ms/step - loss: 0.1948 - mse: 0.0645 - val_loss: 0.1386 - val_mse: 0.0271\n",
      "Epoch 77/200\n",
      "8/8 [==============================] - 0s 7ms/step - loss: 0.1906 - mse: 0.0628 - val_loss: 0.1488 - val_mse: 0.0301\n",
      "Epoch 78/200\n",
      "8/8 [==============================] - 0s 7ms/step - loss: 0.1867 - mse: 0.0516 - val_loss: 0.1603 - val_mse: 0.0381\n",
      "Epoch 79/200\n",
      "8/8 [==============================] - 0s 7ms/step - loss: 0.1759 - mse: 0.0538 - val_loss: 0.1581 - val_mse: 0.0369\n",
      "Epoch 80/200\n",
      "8/8 [==============================] - 0s 6ms/step - loss: 0.1843 - mse: 0.0490 - val_loss: 0.1535 - val_mse: 0.0359\n",
      "Epoch 81/200\n",
      "8/8 [==============================] - ETA: 0s - loss: 0.1721 - mse: 0.034 - 0s 7ms/step - loss: 0.1645 - mse: 0.0405 - val_loss: 0.1500 - val_mse: 0.0345\n",
      "Epoch 82/200\n",
      "8/8 [==============================] - 0s 7ms/step - loss: 0.1582 - mse: 0.0402 - val_loss: 0.1491 - val_mse: 0.0369\n",
      "Epoch 83/200\n",
      "8/8 [==============================] - 0s 7ms/step - loss: 0.1762 - mse: 0.0452 - val_loss: 0.1502 - val_mse: 0.0311\n",
      "Epoch 84/200\n",
      "8/8 [==============================] - 0s 8ms/step - loss: 0.1761 - mse: 0.0568 - val_loss: 0.1517 - val_mse: 0.0370\n",
      "Epoch 85/200\n",
      "8/8 [==============================] - 0s 7ms/step - loss: 0.1746 - mse: 0.0477 - val_loss: 0.1650 - val_mse: 0.0502\n",
      "Epoch 86/200\n",
      "8/8 [==============================] - 0s 8ms/step - loss: 0.1762 - mse: 0.0486 - val_loss: 0.1687 - val_mse: 0.0382\n",
      "Epoch 87/200\n",
      "8/8 [==============================] - 0s 7ms/step - loss: 0.1618 - mse: 0.0352 - val_loss: 0.1504 - val_mse: 0.0321\n",
      "Epoch 88/200\n",
      "8/8 [==============================] - 0s 7ms/step - loss: 0.2092 - mse: 0.0724 - val_loss: 0.1609 - val_mse: 0.0453\n",
      "Epoch 89/200\n",
      "8/8 [==============================] - 0s 7ms/step - loss: 0.1775 - mse: 0.0461 - val_loss: 0.1523 - val_mse: 0.0400\n",
      "Epoch 90/200\n",
      "8/8 [==============================] - 0s 7ms/step - loss: 0.1683 - mse: 0.0466 - val_loss: 0.1469 - val_mse: 0.0295\n",
      "Epoch 91/200\n",
      "8/8 [==============================] - 0s 6ms/step - loss: 0.2119 - mse: 0.0723 - val_loss: 0.1670 - val_mse: 0.0369\n",
      "Epoch 92/200\n",
      "8/8 [==============================] - 0s 7ms/step - loss: 0.1875 - mse: 0.0536 - val_loss: 0.1660 - val_mse: 0.0368\n",
      "Epoch 93/200\n",
      "8/8 [==============================] - 0s 7ms/step - loss: 0.1885 - mse: 0.0533 - val_loss: 0.1536 - val_mse: 0.0407\n",
      "Epoch 94/200\n",
      "8/8 [==============================] - 0s 7ms/step - loss: 0.1716 - mse: 0.0473 - val_loss: 0.1467 - val_mse: 0.0374\n",
      "Epoch 95/200\n",
      "8/8 [==============================] - 0s 6ms/step - loss: 0.1711 - mse: 0.0473 - val_loss: 0.1854 - val_mse: 0.0419\n",
      "Epoch 96/200\n",
      "8/8 [==============================] - 0s 7ms/step - loss: 0.1555 - mse: 0.0345 - val_loss: 0.1699 - val_mse: 0.0362\n",
      "Epoch 97/200\n",
      "8/8 [==============================] - 0s 7ms/step - loss: 0.1751 - mse: 0.0418 - val_loss: 0.1352 - val_mse: 0.0265\n",
      "Epoch 98/200\n",
      "8/8 [==============================] - 0s 7ms/step - loss: 0.1540 - mse: 0.0429 - val_loss: 0.1406 - val_mse: 0.0337\n",
      "Epoch 99/200\n",
      "8/8 [==============================] - 0s 7ms/step - loss: 0.1526 - mse: 0.0376 - val_loss: 0.1363 - val_mse: 0.0268\n",
      "Epoch 100/200\n",
      "8/8 [==============================] - 0s 7ms/step - loss: 0.1615 - mse: 0.0409 - val_loss: 0.1389 - val_mse: 0.0289\n",
      "Epoch 101/200\n",
      "8/8 [==============================] - 0s 6ms/step - loss: 0.1660 - mse: 0.0464 - val_loss: 0.1437 - val_mse: 0.0298\n",
      "Epoch 102/200\n",
      "8/8 [==============================] - 0s 7ms/step - loss: 0.1405 - mse: 0.0342 - val_loss: 0.1444 - val_mse: 0.0297\n",
      "Epoch 103/200\n",
      "8/8 [==============================] - 0s 7ms/step - loss: 0.1796 - mse: 0.0509 - val_loss: 0.1611 - val_mse: 0.0339\n",
      "Epoch 104/200\n",
      "8/8 [==============================] - ETA: 0s - loss: 0.2630 - mse: 0.117 - 0s 7ms/step - loss: 0.2179 - mse: 0.0834 - val_loss: 0.1378 - val_mse: 0.0269\n",
      "Epoch 105/200\n",
      "8/8 [==============================] - 0s 7ms/step - loss: 0.1553 - mse: 0.0431 - val_loss: 0.1304 - val_mse: 0.0239\n",
      "Epoch 106/200\n",
      "8/8 [==============================] - 0s 7ms/step - loss: 0.1595 - mse: 0.0457 - val_loss: 0.1272 - val_mse: 0.0233\n",
      "Epoch 107/200\n",
      "8/8 [==============================] - 0s 6ms/step - loss: 0.1570 - mse: 0.0418 - val_loss: 0.1438 - val_mse: 0.0279\n",
      "Epoch 108/200\n",
      "8/8 [==============================] - ETA: 0s - loss: 0.2316 - mse: 0.094 - 0s 7ms/step - loss: 0.1908 - mse: 0.0616 - val_loss: 0.1384 - val_mse: 0.0269\n",
      "Epoch 109/200\n",
      "8/8 [==============================] - 0s 7ms/step - loss: 0.1521 - mse: 0.0443 - val_loss: 0.1385 - val_mse: 0.0305\n",
      "Epoch 110/200\n",
      "8/8 [==============================] - 0s 7ms/step - loss: 0.1637 - mse: 0.0444 - val_loss: 0.1340 - val_mse: 0.0249\n",
      "Epoch 111/200\n",
      "8/8 [==============================] - 0s 6ms/step - loss: 0.1665 - mse: 0.0415 - val_loss: 0.1402 - val_mse: 0.0271\n",
      "Epoch 112/200\n",
      "8/8 [==============================] - 0s 6ms/step - loss: 0.1454 - mse: 0.0380 - val_loss: 0.1473 - val_mse: 0.0364\n",
      "Epoch 113/200\n",
      "8/8 [==============================] - 0s 7ms/step - loss: 0.1705 - mse: 0.0491 - val_loss: 0.1456 - val_mse: 0.0294\n",
      "Epoch 114/200\n",
      "8/8 [==============================] - 0s 8ms/step - loss: 0.1716 - mse: 0.0518 - val_loss: 0.1985 - val_mse: 0.0479\n",
      "Epoch 115/200\n",
      "8/8 [==============================] - 0s 8ms/step - loss: 0.1834 - mse: 0.0484 - val_loss: 0.1364 - val_mse: 0.0262\n",
      "Epoch 116/200\n",
      "8/8 [==============================] - 0s 7ms/step - loss: 0.1381 - mse: 0.0333 - val_loss: 0.1369 - val_mse: 0.0296\n",
      "Epoch 117/200\n",
      "8/8 [==============================] - 0s 8ms/step - loss: 0.1744 - mse: 0.0520 - val_loss: 0.1398 - val_mse: 0.0301\n",
      "Epoch 118/200\n",
      "8/8 [==============================] - 0s 8ms/step - loss: 0.1328 - mse: 0.0319 - val_loss: 0.1407 - val_mse: 0.0281\n",
      "Epoch 119/200\n",
      "8/8 [==============================] - 0s 7ms/step - loss: 0.1526 - mse: 0.0341 - val_loss: 0.1451 - val_mse: 0.0287\n",
      "Epoch 120/200\n",
      "8/8 [==============================] - 0s 7ms/step - loss: 0.1779 - mse: 0.0515 - val_loss: 0.1341 - val_mse: 0.0306\n",
      "Epoch 121/200\n",
      "8/8 [==============================] - 0s 7ms/step - loss: 0.1548 - mse: 0.0403 - val_loss: 0.1367 - val_mse: 0.0296\n",
      "Epoch 122/200\n",
      "8/8 [==============================] - 0s 7ms/step - loss: 0.1772 - mse: 0.0471 - val_loss: 0.1322 - val_mse: 0.0257\n",
      "Epoch 123/200\n",
      "8/8 [==============================] - 0s 7ms/step - loss: 0.1118 - mse: 0.0243 - val_loss: 0.1273 - val_mse: 0.0231\n",
      "Epoch 124/200\n",
      "8/8 [==============================] - 0s 7ms/step - loss: 0.1640 - mse: 0.0470 - val_loss: 0.1525 - val_mse: 0.0307\n",
      "Epoch 125/200\n",
      "8/8 [==============================] - 0s 7ms/step - loss: 0.1300 - mse: 0.0356 - val_loss: 0.1361 - val_mse: 0.0265\n",
      "Epoch 126/200\n",
      "8/8 [==============================] - 0s 7ms/step - loss: 0.1531 - mse: 0.0406 - val_loss: 0.1419 - val_mse: 0.0329\n",
      "Epoch 127/200\n",
      "8/8 [==============================] - 0s 7ms/step - loss: 0.1317 - mse: 0.0296 - val_loss: 0.1370 - val_mse: 0.0266\n",
      "Epoch 128/200\n",
      "8/8 [==============================] - 0s 7ms/step - loss: 0.1436 - mse: 0.0334 - val_loss: 0.1379 - val_mse: 0.0267\n",
      "Epoch 129/200\n",
      "8/8 [==============================] - 0s 7ms/step - loss: 0.1656 - mse: 0.0410 - val_loss: 0.1650 - val_mse: 0.0469\n",
      "Epoch 130/200\n",
      "8/8 [==============================] - 0s 7ms/step - loss: 0.1302 - mse: 0.0328 - val_loss: 0.1375 - val_mse: 0.0295\n",
      "Epoch 131/200\n",
      "8/8 [==============================] - 0s 7ms/step - loss: 0.1435 - mse: 0.0326 - val_loss: 0.1787 - val_mse: 0.0399\n",
      "Epoch 132/200\n",
      "8/8 [==============================] - 0s 7ms/step - loss: 0.1286 - mse: 0.0279 - val_loss: 0.1463 - val_mse: 0.0300\n",
      "Epoch 133/200\n",
      "8/8 [==============================] - 0s 7ms/step - loss: 0.1408 - mse: 0.0365 - val_loss: 0.1419 - val_mse: 0.0321\n",
      "Epoch 134/200\n",
      "8/8 [==============================] - 0s 7ms/step - loss: 0.1291 - mse: 0.0245 - val_loss: 0.1366 - val_mse: 0.0280\n",
      "Epoch 135/200\n",
      "8/8 [==============================] - 0s 7ms/step - loss: 0.1749 - mse: 0.0519 - val_loss: 0.1232 - val_mse: 0.0218\n",
      "Epoch 136/200\n",
      "8/8 [==============================] - 0s 7ms/step - loss: 0.1843 - mse: 0.0507 - val_loss: 0.1287 - val_mse: 0.0242\n",
      "Epoch 137/200\n",
      "8/8 [==============================] - 0s 7ms/step - loss: 0.1712 - mse: 0.0432 - val_loss: 0.1401 - val_mse: 0.0277\n",
      "Epoch 138/200\n",
      "8/8 [==============================] - 0s 7ms/step - loss: 0.1587 - mse: 0.0398 - val_loss: 0.1417 - val_mse: 0.0280\n",
      "Epoch 139/200\n",
      "8/8 [==============================] - 0s 7ms/step - loss: 0.1498 - mse: 0.0366 - val_loss: 0.1418 - val_mse: 0.0334\n",
      "Epoch 140/200\n",
      "8/8 [==============================] - 0s 7ms/step - loss: 0.1363 - mse: 0.0305 - val_loss: 0.1419 - val_mse: 0.0311\n",
      "Epoch 141/200\n",
      "8/8 [==============================] - 0s 6ms/step - loss: 0.1562 - mse: 0.0368 - val_loss: 0.1450 - val_mse: 0.0288\n",
      "Epoch 142/200\n",
      "8/8 [==============================] - 0s 6ms/step - loss: 0.1259 - mse: 0.0296 - val_loss: 0.1660 - val_mse: 0.0349\n",
      "Epoch 143/200\n",
      "8/8 [==============================] - 0s 7ms/step - loss: 0.1773 - mse: 0.0529 - val_loss: 0.1342 - val_mse: 0.0269\n",
      "Epoch 144/200\n",
      "8/8 [==============================] - 0s 7ms/step - loss: 0.1440 - mse: 0.0341 - val_loss: 0.1346 - val_mse: 0.0297\n",
      "Epoch 145/200\n",
      "8/8 [==============================] - 0s 7ms/step - loss: 0.1475 - mse: 0.0356 - val_loss: 0.1259 - val_mse: 0.0225\n",
      "Epoch 146/200\n",
      "8/8 [==============================] - 0s 7ms/step - loss: 0.1603 - mse: 0.0436 - val_loss: 0.1583 - val_mse: 0.0318\n",
      "Epoch 147/200\n",
      "8/8 [==============================] - ETA: 0s - loss: 0.1698 - mse: 0.052 - 0s 7ms/step - loss: 0.1475 - mse: 0.0386 - val_loss: 0.1366 - val_mse: 0.0278\n",
      "Epoch 148/200\n",
      "8/8 [==============================] - 0s 7ms/step - loss: 0.1613 - mse: 0.0352 - val_loss: 0.1419 - val_mse: 0.0357\n",
      "Epoch 149/200\n",
      "8/8 [==============================] - ETA: 0s - loss: 0.1519 - mse: 0.033 - 0s 6ms/step - loss: 0.1514 - mse: 0.0380 - val_loss: 0.1307 - val_mse: 0.0276\n",
      "Epoch 150/200\n",
      "8/8 [==============================] - 0s 7ms/step - loss: 0.1315 - mse: 0.0323 - val_loss: 0.1362 - val_mse: 0.0268\n",
      "Epoch 151/200\n",
      "8/8 [==============================] - 0s 7ms/step - loss: 0.1560 - mse: 0.0382 - val_loss: 0.1359 - val_mse: 0.0265\n",
      "Epoch 152/200\n",
      "8/8 [==============================] - 0s 6ms/step - loss: 0.1378 - mse: 0.0372 - val_loss: 0.1391 - val_mse: 0.0333\n",
      "Epoch 153/200\n",
      "8/8 [==============================] - 0s 6ms/step - loss: 0.1626 - mse: 0.0419 - val_loss: 0.1322 - val_mse: 0.0301\n",
      "Epoch 154/200\n",
      "8/8 [==============================] - 0s 6ms/step - loss: 0.1721 - mse: 0.0467 - val_loss: 0.1242 - val_mse: 0.0227\n",
      "Epoch 155/200\n",
      "8/8 [==============================] - 0s 6ms/step - loss: 0.1651 - mse: 0.0402 - val_loss: 0.1449 - val_mse: 0.0280\n",
      "Epoch 156/200\n",
      "8/8 [==============================] - 0s 7ms/step - loss: 0.1623 - mse: 0.0410 - val_loss: 0.1289 - val_mse: 0.0243\n",
      "Epoch 157/200\n",
      "8/8 [==============================] - 0s 7ms/step - loss: 0.1336 - mse: 0.0302 - val_loss: 0.1343 - val_mse: 0.0259\n",
      "Epoch 158/200\n",
      "8/8 [==============================] - 0s 7ms/step - loss: 0.1170 - mse: 0.0248 - val_loss: 0.1402 - val_mse: 0.0273\n",
      "Epoch 159/200\n",
      "8/8 [==============================] - 0s 7ms/step - loss: 0.1395 - mse: 0.0307 - val_loss: 0.1297 - val_mse: 0.0252\n",
      "Epoch 160/200\n",
      "8/8 [==============================] - 0s 7ms/step - loss: 0.1437 - mse: 0.0345 - val_loss: 0.1294 - val_mse: 0.0252\n",
      "Epoch 161/200\n",
      "8/8 [==============================] - 0s 7ms/step - loss: 0.1403 - mse: 0.0390 - val_loss: 0.1292 - val_mse: 0.0269\n",
      "Epoch 162/200\n",
      "8/8 [==============================] - 0s 7ms/step - loss: 0.1350 - mse: 0.0358 - val_loss: 0.1273 - val_mse: 0.0230\n",
      "Epoch 163/200\n",
      "8/8 [==============================] - 0s 8ms/step - loss: 0.1338 - mse: 0.0328 - val_loss: 0.1207 - val_mse: 0.0220\n",
      "Epoch 164/200\n",
      "8/8 [==============================] - 0s 7ms/step - loss: 0.1279 - mse: 0.0331 - val_loss: 0.1297 - val_mse: 0.0273\n",
      "Epoch 165/200\n",
      "8/8 [==============================] - 0s 7ms/step - loss: 0.1303 - mse: 0.0322 - val_loss: 0.1354 - val_mse: 0.0263\n",
      "Epoch 166/200\n",
      "8/8 [==============================] - 0s 7ms/step - loss: 0.1255 - mse: 0.0328 - val_loss: 0.1414 - val_mse: 0.0272\n",
      "Epoch 167/200\n",
      "8/8 [==============================] - 0s 7ms/step - loss: 0.1383 - mse: 0.0328 - val_loss: 0.1423 - val_mse: 0.0279\n",
      "Epoch 168/200\n",
      "8/8 [==============================] - 0s 7ms/step - loss: 0.1348 - mse: 0.0296 - val_loss: 0.1305 - val_mse: 0.0241\n",
      "Epoch 169/200\n",
      "8/8 [==============================] - 0s 8ms/step - loss: 0.1322 - mse: 0.0331 - val_loss: 0.1357 - val_mse: 0.0292\n",
      "Epoch 170/200\n",
      "8/8 [==============================] - 0s 7ms/step - loss: 0.1221 - mse: 0.0264 - val_loss: 0.1219 - val_mse: 0.0239\n",
      "Epoch 171/200\n",
      "8/8 [==============================] - 0s 7ms/step - loss: 0.1540 - mse: 0.0387 - val_loss: 0.1221 - val_mse: 0.0230\n",
      "Epoch 172/200\n",
      "8/8 [==============================] - 0s 9ms/step - loss: 0.1266 - mse: 0.0303 - val_loss: 0.1193 - val_mse: 0.0213\n",
      "Epoch 173/200\n",
      "8/8 [==============================] - 0s 9ms/step - loss: 0.1409 - mse: 0.0358 - val_loss: 0.1409 - val_mse: 0.0263\n",
      "Epoch 174/200\n"
     ]
    },
    {
     "name": "stdout",
     "output_type": "stream",
     "text": [
      "8/8 [==============================] - 0s 8ms/step - loss: 0.1571 - mse: 0.0434 - val_loss: 0.1290 - val_mse: 0.0270\n",
      "Epoch 175/200\n",
      "8/8 [==============================] - 0s 8ms/step - loss: 0.1367 - mse: 0.0369 - val_loss: 0.1248 - val_mse: 0.0255\n",
      "Epoch 176/200\n",
      "8/8 [==============================] - 0s 9ms/step - loss: 0.1492 - mse: 0.0441 - val_loss: 0.1230 - val_mse: 0.0232\n",
      "Epoch 177/200\n",
      "8/8 [==============================] - 0s 8ms/step - loss: 0.1027 - mse: 0.0217 - val_loss: 0.1240 - val_mse: 0.0239\n",
      "Epoch 178/200\n",
      "8/8 [==============================] - 0s 8ms/step - loss: 0.1543 - mse: 0.0371 - val_loss: 0.1323 - val_mse: 0.0306\n",
      "Epoch 179/200\n",
      "8/8 [==============================] - 0s 8ms/step - loss: 0.1321 - mse: 0.0322 - val_loss: 0.1335 - val_mse: 0.0270\n",
      "Epoch 180/200\n",
      "8/8 [==============================] - 0s 8ms/step - loss: 0.1377 - mse: 0.0337 - val_loss: 0.1392 - val_mse: 0.0261\n",
      "Epoch 181/200\n",
      "8/8 [==============================] - 0s 7ms/step - loss: 0.1523 - mse: 0.0479 - val_loss: 0.1304 - val_mse: 0.0245\n",
      "Epoch 182/200\n",
      "8/8 [==============================] - 0s 6ms/step - loss: 0.1612 - mse: 0.0394 - val_loss: 0.1295 - val_mse: 0.0249\n",
      "Epoch 183/200\n",
      "8/8 [==============================] - 0s 7ms/step - loss: 0.1375 - mse: 0.0290 - val_loss: 0.1323 - val_mse: 0.0274\n",
      "Epoch 184/200\n",
      "8/8 [==============================] - ETA: 0s - loss: 0.1326 - mse: 0.029 - 0s 7ms/step - loss: 0.1306 - mse: 0.0279 - val_loss: 0.1306 - val_mse: 0.0248\n",
      "Epoch 185/200\n",
      "8/8 [==============================] - 0s 7ms/step - loss: 0.1419 - mse: 0.0356 - val_loss: 0.1306 - val_mse: 0.0248\n",
      "Epoch 186/200\n",
      "8/8 [==============================] - 0s 6ms/step - loss: 0.1426 - mse: 0.0370 - val_loss: 0.1379 - val_mse: 0.0282\n",
      "Epoch 187/200\n",
      "8/8 [==============================] - 0s 6ms/step - loss: 0.1300 - mse: 0.0333 - val_loss: 0.1293 - val_mse: 0.0243\n",
      "Epoch 188/200\n",
      "8/8 [==============================] - 0s 6ms/step - loss: 0.1282 - mse: 0.0290 - val_loss: 0.1368 - val_mse: 0.0271\n",
      "Epoch 189/200\n",
      "8/8 [==============================] - 0s 8ms/step - loss: 0.1257 - mse: 0.0272 - val_loss: 0.1468 - val_mse: 0.0346\n",
      "Epoch 190/200\n",
      "8/8 [==============================] - 0s 7ms/step - loss: 0.1344 - mse: 0.0271 - val_loss: 0.1489 - val_mse: 0.0311\n",
      "Epoch 191/200\n",
      "8/8 [==============================] - 0s 7ms/step - loss: 0.1384 - mse: 0.0312 - val_loss: 0.1492 - val_mse: 0.0303\n",
      "Epoch 192/200\n",
      "8/8 [==============================] - 0s 7ms/step - loss: 0.1386 - mse: 0.0306 - val_loss: 0.1298 - val_mse: 0.0271\n",
      "Epoch 193/200\n",
      "8/8 [==============================] - 0s 9ms/step - loss: 0.1403 - mse: 0.0337 - val_loss: 0.1252 - val_mse: 0.0261\n",
      "Epoch 194/200\n",
      "8/8 [==============================] - 0s 9ms/step - loss: 0.1325 - mse: 0.0276 - val_loss: 0.1310 - val_mse: 0.0238\n",
      "Epoch 195/200\n",
      "8/8 [==============================] - 0s 10ms/step - loss: 0.1211 - mse: 0.0272 - val_loss: 0.1286 - val_mse: 0.0234\n",
      "Epoch 196/200\n",
      "8/8 [==============================] - 0s 9ms/step - loss: 0.1323 - mse: 0.0296 - val_loss: 0.1336 - val_mse: 0.0316\n",
      "Epoch 197/200\n",
      "8/8 [==============================] - 0s 9ms/step - loss: 0.1334 - mse: 0.0295 - val_loss: 0.1275 - val_mse: 0.0246\n",
      "Epoch 198/200\n",
      "8/8 [==============================] - 0s 8ms/step - loss: 0.1112 - mse: 0.0210 - val_loss: 0.1813 - val_mse: 0.0397\n",
      "Epoch 199/200\n",
      "8/8 [==============================] - 0s 8ms/step - loss: 0.1381 - mse: 0.0316 - val_loss: 0.1258 - val_mse: 0.0262\n",
      "Epoch 200/200\n",
      "8/8 [==============================] - 0s 8ms/step - loss: 0.1529 - mse: 0.0471 - val_loss: 0.1283 - val_mse: 0.0270\n"
     ]
    }
   ],
   "source": [
    "EPOCHS=200\n",
    "\n",
    "model = crear_modeloFF()\n",
    "\n",
    "history=model.fit(x_train,y_train,epochs=EPOCHS,validation_data=(x_val,y_val),batch_size=look_back)"
   ]
  },
  {
   "cell_type": "markdown",
   "metadata": {},
   "source": [
    "# Visualizamos resultados"
   ]
  },
  {
   "cell_type": "code",
   "execution_count": 24,
   "metadata": {},
   "outputs": [],
   "source": [
    "def mape(actual, pred): \n",
    "    actual, pred = np.array(actual), np.array(pred)\n",
    "    return np.mean(np.abs((actual - pred) / actual)) * 100\n",
    "\n",
    "\n",
    "def compute_metrics_fn(y_valid_resc, y_hat_resc):\n",
    "    mae_ = mean_absolute_error(y_valid_resc, y_hat_resc)\n",
    "    mse_ = mean_squared_error(y_valid_resc, y_hat_resc)\n",
    "    rmse_ = mean_squared_error(y_valid_resc, y_hat_resc, squared = False)\n",
    "    cvrmse_ = rmse_/np.mean(y_valid_resc)*100\n",
    "    mape_ = mape(y_valid_resc, y_hat_resc)\n",
    "    \n",
    "    return mae_, mse_, rmse_, cvrmse_, mape_"
   ]
  },
  {
   "cell_type": "code",
   "execution_count": 25,
   "metadata": {},
   "outputs": [],
   "source": [
    "# hacemos las predicciones\n",
    "trainPredict = model.predict(x_train)\n",
    "testPredict = model.predict(x_val)\n",
    "\n",
    "# invertimos las predicciones\n",
    "trainPredict = scaler.inverse_transform(trainPredict)\n",
    "trainY = y_train.reshape(y_train.shape[0], 1)\n",
    "trainY_scalerInverse = scaler.inverse_transform(trainY)\n",
    "testPredict = scaler.inverse_transform(testPredict)\n",
    "testY = y_val.reshape(y_val.shape[0], 1)\n",
    "testY_scalerInverse = scaler.inverse_transform(testY)"
   ]
  },
  {
   "cell_type": "code",
   "execution_count": 26,
   "metadata": {},
   "outputs": [
    {
     "name": "stdout",
     "output_type": "stream",
     "text": [
      "Resultado del entrenamiento: 222566.70 MAE\n",
      "Resultado del entrenamiento: 104855887872.00 MSE\n",
      "Resultado del entrenamiento: 323814.59 RMSE\n",
      "Resultado del entrenamiento: 10.49 CVRMSE\n",
      "Resultado del entrenamiento: 8.16 MAPE \n",
      "\n",
      "Resultado del test: 255521.66 MAE\n",
      "Resultado del test: 107086331904.00 MSE\n",
      "Resultado del test: 327240.47 RMSE\n",
      "Resultado del test: 6.78 CVRMSE\n",
      "Resultado del test: 5.65 MAPE\n"
     ]
    }
   ],
   "source": [
    "# calculamos las metricas de error\n",
    "trainScore_MAE, trainScore_MSE, trainScore_RMSE, trainScore_CVRMSE, trainScore_MAPE  =  compute_metrics_fn(trainY_scalerInverse, trainPredict)\n",
    "print('Resultado del entrenamiento: %.2f MAE' % (trainScore_MAE))\n",
    "print('Resultado del entrenamiento: %.2f MSE' % (trainScore_MSE))\n",
    "print('Resultado del entrenamiento: %.2f RMSE' % (trainScore_RMSE))\n",
    "print('Resultado del entrenamiento: %.2f CVRMSE' % (trainScore_CVRMSE))\n",
    "print('Resultado del entrenamiento: %.2f MAPE \\n' % (trainScore_MAPE))\n",
    "\n",
    "testScore_MAE, testScore_MSE, testScore_RMSE, testScore_CVRMSE, testScore_MAPE  =  compute_metrics_fn(testY_scalerInverse, testPredict)\n",
    "print('Resultado del test: %.2f MAE' % (testScore_MAE))\n",
    "print('Resultado del test: %.2f MSE' % (testScore_MSE))\n",
    "print('Resultado del test: %.2f RMSE' % (testScore_RMSE))\n",
    "print('Resultado del test: %.2f CVRMSE' % (testScore_CVRMSE))\n",
    "print('Resultado del test: %.2f MAPE' % (testScore_MAPE))"
   ]
  },
  {
   "cell_type": "code",
   "execution_count": 27,
   "metadata": {},
   "outputs": [
    {
     "data": {
      "image/png": "[encoded data removed]",
      "text/plain": [
       "<Figure size 432x288 with 1 Axes>"
      ]
     },
     "metadata": {
      "needs_background": "light"
     },
     "output_type": "display_data"
    }
   ],
   "source": [
    "plt.plot(df_ine.values)\n",
    "plt.grid(True)\n",
    "plt.title(\"Viajes totales según el INE\", fontsize = 15)\n",
    "plt.xlabel(\"Tiempo (dias)\", fontsize = 10)\n",
    "plt.ylabel(\"viajes (en miles)\", fontsize = 10)\n",
    "plt.show()"
   ]
  },
  {
   "cell_type": "code",
   "execution_count": 28,
   "metadata": {},
   "outputs": [
    {
     "data": {
      "image/png": "[encoded data removed]",
      "text/plain": [
       "<Figure size 432x288 with 1 Axes>"
      ]
     },
     "metadata": {
      "needs_background": "light"
     },
     "output_type": "display_data"
    }
   ],
   "source": [
    "plt.plot(df_twt.values)\n",
    "plt.grid(True)\n",
    "plt.title(\"Viajes totales según TWT\", fontsize = 15)\n",
    "plt.xlabel(\"Tiempo (dias)\", fontsize = 10)\n",
    "plt.ylabel(\"viajes (en miles)\", fontsize = 10)\n",
    "plt.show()"
   ]
  },
  {
   "cell_type": "code",
   "execution_count": 29,
   "metadata": {},
   "outputs": [
    {
     "data": {
      "image/png": "[encoded data removed]",
      "text/plain": [
       "<Figure size 432x288 with 1 Axes>"
      ]
     },
     "metadata": {
      "needs_background": "light"
     },
     "output_type": "display_data"
    }
   ],
   "source": [
    "dataset = df_ine.values\n",
    "dataset = dataset.astype('float32')\n",
    "# predicciones del entrenamiento de cambio para plotear\n",
    "trainPredictPlot = np.empty_like(dataset)\n",
    "trainPredictPlot[:, :] = np.nan\n",
    "trainPredictPlot[look_back:len(trainPredict)+look_back, :] = trainPredict\n",
    "# predicciones del test de cambio para plotear\n",
    "testPredictPlot = np.empty_like(dataset)\n",
    "testPredictPlot[:, :] = np.nan\n",
    "testPredictPlot[len(trainPredict)+(look_back):len(dataset), :] = testPredict\n",
    "# plot baseline and predictions\n",
    "plt.plot(df_ine.values)\n",
    "# ploteamos linea base y predicciones\n",
    "plt.plot(trainPredictPlot,'r', linewidth = 2)\n",
    "plt.plot(testPredictPlot,'m', linewidth = 2)\n",
    "plt.legend( ('Datos', 'Prediccion datos entramiento', 'Prediccion sobre los datos de test'), loc = 'upper left')\n",
    "plt.grid(True)\n",
    "plt.title(\"Viajes totales\", fontsize = 15)\n",
    "plt.xlabel(\"Tiempo (dias)\", fontsize = 10)\n",
    "plt.ylabel(\"viajes (en miles)\", fontsize = 10)\n",
    "plt.show()"
   ]
  },
  {
   "cell_type": "code",
   "execution_count": 30,
   "metadata": {},
   "outputs": [
    {
     "data": {
      "image/png": "[encoded data removed]",
      "text/plain": [
       "<Figure size 432x288 with 1 Axes>"
      ]
     },
     "metadata": {
      "needs_background": "light"
     },
     "output_type": "display_data"
    }
   ],
   "source": [
    "results=model.predict(x_val)\n",
    "\n",
    "plt.scatter(range(len(y_val)),y_val,c='g')\n",
    "plt.scatter(range(len(results)),results,c='r')\n",
    "plt.title('validate')\n",
    "plt.xlabel(\"Tiempo (dias)\", fontsize = 10)\n",
    "plt.ylabel(\"viajes (en miles)\", fontsize = 10)\n",
    "plt.show()"
   ]
  },
  {
   "cell_type": "code",
   "execution_count": 31,
   "metadata": {},
   "outputs": [
    {
     "data": {
      "image/png": "[encoded data removed]",
      "text/plain": [
       "<Figure size 432x288 with 1 Axes>"
      ]
     },
     "metadata": {
      "needs_background": "light"
     },
     "output_type": "display_data"
    }
   ],
   "source": [
    "plt.plot(history.history['loss'])\n",
    "plt.plot(history.history['val_loss'])\n",
    "plt.title('loss')\n",
    "plt.grid() #dibuja una malla, probar mas tarde\n",
    "plt.legend( ('training loss', 'validate loss'), loc = 'upper right')\n",
    "plt.show()"
   ]
  },
  {
   "cell_type": "markdown",
   "metadata": {},
   "source": [
    "# Prediccion a futuro"
   ]
  },
  {
   "cell_type": "code",
   "execution_count": 32,
   "metadata": {},
   "outputs": [
    {
     "data": {
      "text/html": [
       "<div>\n",
       "<style scoped>\n",
       "    .dataframe tbody tr th:only-of-type {\n",
       "        vertical-align: middle;\n",
       "    }\n",
       "\n",
       "    .dataframe tbody tr th {\n",
       "        vertical-align: top;\n",
       "    }\n",
       "\n",
       "    .dataframe thead th {\n",
       "        text-align: right;\n",
       "    }\n",
       "</style>\n",
       "<table border=\"1\" class=\"dataframe\">\n",
       "  <thead>\n",
       "    <tr style=\"text-align: right;\">\n",
       "      <th></th>\n",
       "      <th>Viajes</th>\n",
       "    </tr>\n",
       "  </thead>\n",
       "  <tbody>\n",
       "    <tr>\n",
       "      <th>2020-06-07</th>\n",
       "      <td>3420</td>\n",
       "    </tr>\n",
       "    <tr>\n",
       "      <th>2020-06-08</th>\n",
       "      <td>3845</td>\n",
       "    </tr>\n",
       "    <tr>\n",
       "      <th>2020-06-09</th>\n",
       "      <td>4057</td>\n",
       "    </tr>\n",
       "    <tr>\n",
       "      <th>2020-06-10</th>\n",
       "      <td>3699</td>\n",
       "    </tr>\n",
       "    <tr>\n",
       "      <th>2020-06-11</th>\n",
       "      <td>4218</td>\n",
       "    </tr>\n",
       "    <tr>\n",
       "      <th>2020-06-12</th>\n",
       "      <td>4377</td>\n",
       "    </tr>\n",
       "    <tr>\n",
       "      <th>2020-06-13</th>\n",
       "      <td>4446</td>\n",
       "    </tr>\n",
       "    <tr>\n",
       "      <th>2020-06-14</th>\n",
       "      <td>4139</td>\n",
       "    </tr>\n",
       "    <tr>\n",
       "      <th>2020-06-15</th>\n",
       "      <td>3676</td>\n",
       "    </tr>\n",
       "    <tr>\n",
       "      <th>2020-06-16</th>\n",
       "      <td>3671</td>\n",
       "    </tr>\n",
       "    <tr>\n",
       "      <th>2020-06-17</th>\n",
       "      <td>3694</td>\n",
       "    </tr>\n",
       "    <tr>\n",
       "      <th>2020-06-18</th>\n",
       "      <td>4375</td>\n",
       "    </tr>\n",
       "    <tr>\n",
       "      <th>2020-06-19</th>\n",
       "      <td>4738</td>\n",
       "    </tr>\n",
       "    <tr>\n",
       "      <th>2020-06-20</th>\n",
       "      <td>2006</td>\n",
       "    </tr>\n",
       "  </tbody>\n",
       "</table>\n",
       "</div>"
      ],
      "text/plain": [
       "            Viajes\n",
       "2020-06-07    3420\n",
       "2020-06-08    3845\n",
       "2020-06-09    4057\n",
       "2020-06-10    3699\n",
       "2020-06-11    4218\n",
       "2020-06-12    4377\n",
       "2020-06-13    4446\n",
       "2020-06-14    4139\n",
       "2020-06-15    3676\n",
       "2020-06-16    3671\n",
       "2020-06-17    3694\n",
       "2020-06-18    4375\n",
       "2020-06-19    4738\n",
       "2020-06-20    2006"
      ]
     },
     "execution_count": 32,
     "metadata": {},
     "output_type": "execute_result"
    }
   ],
   "source": [
    "# usaremos los 14 ultimos dias del confinamiento en junio para predecir como habrian sido los dias del 21 al 27 en caso de que\n",
    "# el confinamiento se hubiese alargado por una semana mas\n",
    "\n",
    "ultimosDias_twt = df_twt['2020-6-7':'2020-6-20']\n",
    "ultimosDias_ine = df_ine['2020-6-7':'2020-6-20']\n",
    "ultimosDias_twt"
   ]
  },
  {
   "cell_type": "markdown",
   "metadata": {},
   "source": [
    "# Preparamos los datos para el test"
   ]
  },
  {
   "cell_type": "code",
   "execution_count": 33,
   "metadata": {},
   "outputs": [
    {
     "data": {
      "text/html": [
       "<div>\n",
       "<style scoped>\n",
       "    .dataframe tbody tr th:only-of-type {\n",
       "        vertical-align: middle;\n",
       "    }\n",
       "\n",
       "    .dataframe tbody tr th {\n",
       "        vertical-align: top;\n",
       "    }\n",
       "\n",
       "    .dataframe thead th {\n",
       "        text-align: right;\n",
       "    }\n",
       "</style>\n",
       "<table border=\"1\" class=\"dataframe\">\n",
       "  <thead>\n",
       "    <tr style=\"text-align: right;\">\n",
       "      <th></th>\n",
       "      <th>var1(t-7)</th>\n",
       "      <th>var2(t-7)</th>\n",
       "      <th>var1(t-6)</th>\n",
       "      <th>var2(t-6)</th>\n",
       "      <th>var1(t-5)</th>\n",
       "      <th>var2(t-5)</th>\n",
       "      <th>var1(t-4)</th>\n",
       "      <th>var2(t-4)</th>\n",
       "      <th>var1(t-3)</th>\n",
       "      <th>var2(t-3)</th>\n",
       "      <th>var1(t-2)</th>\n",
       "      <th>var2(t-2)</th>\n",
       "      <th>var1(t-1)</th>\n",
       "      <th>var2(t-1)</th>\n",
       "    </tr>\n",
       "  </thead>\n",
       "  <tbody>\n",
       "    <tr>\n",
       "      <th>7</th>\n",
       "      <td>0.035139</td>\n",
       "      <td>-1.000000</td>\n",
       "      <td>0.346267</td>\n",
       "      <td>0.002901</td>\n",
       "      <td>0.501464</td>\n",
       "      <td>0.018846</td>\n",
       "      <td>0.239385</td>\n",
       "      <td>0.796266</td>\n",
       "      <td>0.619327</td>\n",
       "      <td>0.699721</td>\n",
       "      <td>0.735725</td>\n",
       "      <td>0.713258</td>\n",
       "      <td>0.786237</td>\n",
       "      <td>-0.012126</td>\n",
       "    </tr>\n",
       "    <tr>\n",
       "      <th>8</th>\n",
       "      <td>0.346267</td>\n",
       "      <td>0.002901</td>\n",
       "      <td>0.501464</td>\n",
       "      <td>0.018846</td>\n",
       "      <td>0.239385</td>\n",
       "      <td>0.796266</td>\n",
       "      <td>0.619327</td>\n",
       "      <td>0.699721</td>\n",
       "      <td>0.735725</td>\n",
       "      <td>0.713258</td>\n",
       "      <td>0.786237</td>\n",
       "      <td>-0.012126</td>\n",
       "      <td>0.561494</td>\n",
       "      <td>-0.664099</td>\n",
       "    </tr>\n",
       "    <tr>\n",
       "      <th>9</th>\n",
       "      <td>0.501464</td>\n",
       "      <td>0.018846</td>\n",
       "      <td>0.239385</td>\n",
       "      <td>0.796266</td>\n",
       "      <td>0.619327</td>\n",
       "      <td>0.699721</td>\n",
       "      <td>0.735725</td>\n",
       "      <td>0.713258</td>\n",
       "      <td>0.786237</td>\n",
       "      <td>-0.012126</td>\n",
       "      <td>0.561494</td>\n",
       "      <td>-0.664099</td>\n",
       "      <td>0.222548</td>\n",
       "      <td>0.485206</td>\n",
       "    </tr>\n",
       "    <tr>\n",
       "      <th>10</th>\n",
       "      <td>0.239385</td>\n",
       "      <td>0.796266</td>\n",
       "      <td>0.619327</td>\n",
       "      <td>0.699721</td>\n",
       "      <td>0.735725</td>\n",
       "      <td>0.713258</td>\n",
       "      <td>0.786237</td>\n",
       "      <td>-0.012126</td>\n",
       "      <td>0.561494</td>\n",
       "      <td>-0.664099</td>\n",
       "      <td>0.222548</td>\n",
       "      <td>0.485206</td>\n",
       "      <td>0.218887</td>\n",
       "      <td>0.801405</td>\n",
       "    </tr>\n",
       "    <tr>\n",
       "      <th>11</th>\n",
       "      <td>0.619327</td>\n",
       "      <td>0.699721</td>\n",
       "      <td>0.735725</td>\n",
       "      <td>0.713258</td>\n",
       "      <td>0.786237</td>\n",
       "      <td>-0.012126</td>\n",
       "      <td>0.561494</td>\n",
       "      <td>-0.664099</td>\n",
       "      <td>0.222548</td>\n",
       "      <td>0.485206</td>\n",
       "      <td>0.218887</td>\n",
       "      <td>0.801405</td>\n",
       "      <td>0.235725</td>\n",
       "      <td>0.855810</td>\n",
       "    </tr>\n",
       "    <tr>\n",
       "      <th>12</th>\n",
       "      <td>0.735725</td>\n",
       "      <td>0.713258</td>\n",
       "      <td>0.786237</td>\n",
       "      <td>-0.012126</td>\n",
       "      <td>0.561494</td>\n",
       "      <td>-0.664099</td>\n",
       "      <td>0.222548</td>\n",
       "      <td>0.485206</td>\n",
       "      <td>0.218887</td>\n",
       "      <td>0.801405</td>\n",
       "      <td>0.235725</td>\n",
       "      <td>0.855810</td>\n",
       "      <td>0.734261</td>\n",
       "      <td>0.924364</td>\n",
       "    </tr>\n",
       "    <tr>\n",
       "      <th>13</th>\n",
       "      <td>0.786237</td>\n",
       "      <td>-0.012126</td>\n",
       "      <td>0.561494</td>\n",
       "      <td>-0.664099</td>\n",
       "      <td>0.222548</td>\n",
       "      <td>0.485206</td>\n",
       "      <td>0.218887</td>\n",
       "      <td>0.801405</td>\n",
       "      <td>0.235725</td>\n",
       "      <td>0.855810</td>\n",
       "      <td>0.734261</td>\n",
       "      <td>0.924364</td>\n",
       "      <td>1.000000</td>\n",
       "      <td>1.000000</td>\n",
       "    </tr>\n",
       "  </tbody>\n",
       "</table>\n",
       "</div>"
      ],
      "text/plain": [
       "    var1(t-7)  var2(t-7)  var1(t-6)  var2(t-6)  var1(t-5)  var2(t-5)  \\\n",
       "7    0.035139  -1.000000   0.346267   0.002901   0.501464   0.018846   \n",
       "8    0.346267   0.002901   0.501464   0.018846   0.239385   0.796266   \n",
       "9    0.501464   0.018846   0.239385   0.796266   0.619327   0.699721   \n",
       "10   0.239385   0.796266   0.619327   0.699721   0.735725   0.713258   \n",
       "11   0.619327   0.699721   0.735725   0.713258   0.786237  -0.012126   \n",
       "12   0.735725   0.713258   0.786237  -0.012126   0.561494  -0.664099   \n",
       "13   0.786237  -0.012126   0.561494  -0.664099   0.222548   0.485206   \n",
       "\n",
       "    var1(t-4)  var2(t-4)  var1(t-3)  var2(t-3)  var1(t-2)  var2(t-2)  \\\n",
       "7    0.239385   0.796266   0.619327   0.699721   0.735725   0.713258   \n",
       "8    0.619327   0.699721   0.735725   0.713258   0.786237  -0.012126   \n",
       "9    0.735725   0.713258   0.786237  -0.012126   0.561494  -0.664099   \n",
       "10   0.786237  -0.012126   0.561494  -0.664099   0.222548   0.485206   \n",
       "11   0.561494  -0.664099   0.222548   0.485206   0.218887   0.801405   \n",
       "12   0.222548   0.485206   0.218887   0.801405   0.235725   0.855810   \n",
       "13   0.218887   0.801405   0.235725   0.855810   0.734261   0.924364   \n",
       "\n",
       "    var1(t-1)  var2(t-1)  \n",
       "7    0.786237  -0.012126  \n",
       "8    0.561494  -0.664099  \n",
       "9    0.222548   0.485206  \n",
       "10   0.218887   0.801405  \n",
       "11   0.235725   0.855810  \n",
       "12   0.734261   0.924364  \n",
       "13   1.000000   1.000000  "
      ]
     },
     "execution_count": 33,
     "metadata": {},
     "output_type": "execute_result"
    }
   ],
   "source": [
    "# cargamos el dataframe en la variable values\n",
    "values_twt = ultimosDias_twt.values\n",
    "values_ine = ultimosDias_ine.values\n",
    "\n",
    "# convertimos los enteros en floats\n",
    "values_twt = values_twt.astype('float32')\n",
    "values_ine = values_ine.astype('float32')\n",
    "\n",
    "# normalizamos los datos a escala de entre -1 y 1\n",
    "values_twt =values_twt.reshape(-1, 1)\n",
    "scaled_twt = scaler.fit_transform(values_twt)\n",
    "values_ine =values_ine.reshape(-1, 1) # esto lo hacemos porque tenemos 1 sola dimension\n",
    "scaled_ine = scaler.fit_transform(values_ine)\n",
    "\n",
    "# usamos la funcion definida previamente\n",
    "reframed_twt = series_to_supervised(scaled_twt, look_back, 1)\n",
    "reframed_ine = series_to_supervised(scaled_ine, look_back, 1)\n",
    "\n",
    "# eliminamos la ultima columna pues es parte de lo que queremos hayar\n",
    "reframed_twt.drop(reframed_twt.columns[[7]], inplace=True, axis=1)\n",
    "reframed_ine.drop(reframed_ine.columns[[7]], inplace=True, axis=1)\n",
    "\n",
    "#unimos los dataframes\n",
    "reframed_ine.columns = ['var2(t-7)', 'var2(t-6)', 'var2(t-5)', 'var2(t-4)', 'var2(t-3)', 'var2(t-2)', 'var2(t-1)']\n",
    "reframed = pd.concat([reframed_twt.iloc[:, 0], reframed_ine.iloc[:, 0]], axis=1)\n",
    "\n",
    "for i in range(6):\n",
    "    reframed = pd.concat([reframed, reframed_twt.iloc[:, i+1]], axis=1)\n",
    "    reframed = pd.concat([reframed, reframed_ine.iloc[:, i+1]], axis=1)\n",
    "\n",
    "#mostramos el set de entrenamiento\n",
    "reframed.head(7)"
   ]
  },
  {
   "cell_type": "code",
   "execution_count": 34,
   "metadata": {},
   "outputs": [
    {
     "name": "stdout",
     "output_type": "stream",
     "text": [
      "(1, 1, 14)\n"
     ]
    },
    {
     "data": {
      "text/plain": [
       "array([[[ 0.78623724, -0.01212597,  0.56149364, -0.6640985 ,\n",
       "          0.22254777,  0.48520565,  0.21888733,  0.80140543,\n",
       "          0.23572493,  0.8558097 ,  0.7342608 ,  0.9243636 ,\n",
       "          1.        ,  1.        ]]], dtype=float32)"
      ]
     },
     "execution_count": 34,
     "metadata": {},
     "output_type": "execute_result"
    }
   ],
   "source": [
    "values = reframed.values\n",
    "\n",
    "#tomamos los valores para realizar el test\n",
    "x_test = values[6:, :]\n",
    "\n",
    "# reshape input to be 3D [samples, timesteps, features] - preguntar\n",
    "x_test = x_test.reshape((x_test.shape[0], 1, x_test.shape[1]))\n",
    "print(x_test.shape)\n",
    "x_test"
   ]
  },
  {
   "cell_type": "code",
   "execution_count": 35,
   "metadata": {},
   "outputs": [],
   "source": [
    "#definimos la funcion para realizar el desplazamiento que se hara en el array cada prediccion pues para hacer\n",
    "#la siguiente prediccion eliminamos el dia mas antiguo, desplazamos un lugar el resto de dias y añadimos el ultimo dia que\n",
    "#se ha predecido, esto es por que para predecir un dia se usan los 7 dias previos\n",
    "\n",
    "def agregarNuevoValor(x_test,nuevoValor):\n",
    "    for i in range(x_test.shape[2]-1):\n",
    "        x_test[0][0][i] = x_test[0][0][i+1]\n",
    "    x_test[0][0][x_test.shape[2]-1]=nuevoValor\n",
    "    return x_test"
   ]
  },
  {
   "cell_type": "markdown",
   "metadata": {},
   "source": [
    "# Predicciones para la proxima semana"
   ]
  },
  {
   "cell_type": "code",
   "execution_count": 36,
   "metadata": {},
   "outputs": [
    {
     "name": "stdout",
     "output_type": "stream",
     "text": [
      "[[[ 0.78623724 -0.01212597  0.56149364 -0.6640985   0.22254777\n",
      "    0.48520565  0.21888733  0.80140543  0.23572493  0.8558097\n",
      "    0.7342608   0.9243636   1.          1.        ]]]\n",
      "[[[-0.01212597  0.56149364 -0.6640985   0.22254777  0.48520565\n",
      "    0.21888733  0.80140543  0.23572493  0.8558097   0.7342608\n",
      "    0.9243636   1.          1.          0.09344975]]]\n",
      "[[[ 0.56149364 -0.6640985   0.22254777  0.48520565  0.21888733\n",
      "    0.80140543  0.23572493  0.8558097   0.7342608   0.9243636\n",
      "    1.          1.          0.09344975  0.8316865 ]]]\n",
      "[[[-0.6640985   0.22254777  0.48520565  0.21888733  0.80140543\n",
      "    0.23572493  0.8558097   0.7342608   0.9243636   1.\n",
      "    1.          0.09344975  0.8316865  -0.7166231 ]]]\n",
      "[[[ 0.22254777  0.48520565  0.21888733  0.80140543  0.23572493\n",
      "    0.8558097   0.7342608   0.9243636   1.          1.\n",
      "    0.09344975  0.8316865  -0.7166231   0.7550428 ]]]\n",
      "[[[ 0.48520565  0.21888733  0.80140543  0.23572493  0.8558097\n",
      "    0.7342608   0.9243636   1.          1.          0.09344975\n",
      "    0.8316865  -0.7166231   0.7550428  -0.39711893]]]\n",
      "[[[ 0.21888733  0.80140543  0.23572493  0.8558097   0.7342608\n",
      "    0.9243636   1.          1.          0.09344975  0.8316865\n",
      "   -0.7166231   0.7550428  -0.39711893  0.79380643]]]\n"
     ]
    }
   ],
   "source": [
    "results=[]\n",
    "for i in range(7):\n",
    "    parcial=model.predict(x_test)\n",
    "    results.append(parcial[0])\n",
    "    print(x_test)\n",
    "    x_test=agregarNuevoValor(x_test,parcial[0])"
   ]
  },
  {
   "cell_type": "markdown",
   "metadata": {},
   "source": [
    "# Re-Convertimos los resultados"
   ]
  },
  {
   "cell_type": "code",
   "execution_count": 37,
   "metadata": {},
   "outputs": [
    {
     "name": "stdout",
     "output_type": "stream",
     "text": [
      "[array([0.09344975], dtype=float32), array([0.8316865], dtype=float32), array([-0.7166231], dtype=float32), array([0.7550428], dtype=float32), array([-0.39711893], dtype=float32), array([0.79380643], dtype=float32), array([-0.27955452], dtype=float32)]\n"
     ]
    },
    {
     "data": {
      "text/plain": [
       "array([[4557275.70940933],\n",
       "       [5341033.22166493],\n",
       "       [3697252.54687371],\n",
       "       [5259663.55260156],\n",
       "       [4036457.84766683],\n",
       "       [5300817.41815906],\n",
       "       [4161271.45221599]])"
      ]
     },
     "execution_count": 37,
     "metadata": {},
     "output_type": "execute_result"
    }
   ],
   "source": [
    "adimen = [x for x in results]    \n",
    "print(adimen)\n",
    "inverted = scaler.inverse_transform(adimen)\n",
    "inverted"
   ]
  },
  {
   "cell_type": "markdown",
   "metadata": {},
   "source": [
    "# Visualizamos el pronostico"
   ]
  },
  {
   "cell_type": "code",
   "execution_count": 38,
   "metadata": {},
   "outputs": [
    {
     "data": {
      "text/plain": [
       "<AxesSubplot:>"
      ]
     },
     "execution_count": 38,
     "metadata": {},
     "output_type": "execute_result"
    },
    {
     "data": {
      "image/png": "[encoded data removed]",
      "text/plain": [
       "<Figure size 432x288 with 1 Axes>"
      ]
     },
     "metadata": {
      "needs_background": "light"
     },
     "output_type": "display_data"
    }
   ],
   "source": [
    "prediccion = pd.DataFrame(inverted)\n",
    "prediccion.columns = ['pronostico']\n",
    "prediccion.plot()"
   ]
  },
  {
   "cell_type": "markdown",
   "metadata": {},
   "source": [
    "# Prediccion con datos actuales"
   ]
  },
  {
   "cell_type": "code",
   "execution_count": 39,
   "metadata": {
    "scrolled": true
   },
   "outputs": [
    {
     "data": {
      "text/html": [
       "<div>\n",
       "<style scoped>\n",
       "    .dataframe tbody tr th:only-of-type {\n",
       "        vertical-align: middle;\n",
       "    }\n",
       "\n",
       "    .dataframe tbody tr th {\n",
       "        vertical-align: top;\n",
       "    }\n",
       "\n",
       "    .dataframe thead th {\n",
       "        text-align: right;\n",
       "    }\n",
       "</style>\n",
       "<table border=\"1\" class=\"dataframe\">\n",
       "  <thead>\n",
       "    <tr style=\"text-align: right;\">\n",
       "      <th></th>\n",
       "      <th>Viajes</th>\n",
       "    </tr>\n",
       "  </thead>\n",
       "  <tbody>\n",
       "    <tr>\n",
       "      <th>2020-05-11</th>\n",
       "      <td>3128</td>\n",
       "    </tr>\n",
       "    <tr>\n",
       "      <th>2020-05-12</th>\n",
       "      <td>3085</td>\n",
       "    </tr>\n",
       "    <tr>\n",
       "      <th>2020-05-13</th>\n",
       "      <td>3015</td>\n",
       "    </tr>\n",
       "    <tr>\n",
       "      <th>2020-05-14</th>\n",
       "      <td>3181</td>\n",
       "    </tr>\n",
       "    <tr>\n",
       "      <th>2020-05-15</th>\n",
       "      <td>3129</td>\n",
       "    </tr>\n",
       "    <tr>\n",
       "      <th>2020-05-16</th>\n",
       "      <td>2896</td>\n",
       "    </tr>\n",
       "    <tr>\n",
       "      <th>2020-05-17</th>\n",
       "      <td>2787</td>\n",
       "    </tr>\n",
       "    <tr>\n",
       "      <th>2020-05-18</th>\n",
       "      <td>3258</td>\n",
       "    </tr>\n",
       "    <tr>\n",
       "      <th>2020-05-19</th>\n",
       "      <td>3487</td>\n",
       "    </tr>\n",
       "    <tr>\n",
       "      <th>2020-05-20</th>\n",
       "      <td>3324</td>\n",
       "    </tr>\n",
       "    <tr>\n",
       "      <th>2020-05-21</th>\n",
       "      <td>3445</td>\n",
       "    </tr>\n",
       "    <tr>\n",
       "      <th>2020-05-22</th>\n",
       "      <td>3488</td>\n",
       "    </tr>\n",
       "    <tr>\n",
       "      <th>2020-05-23</th>\n",
       "      <td>3526</td>\n",
       "    </tr>\n",
       "    <tr>\n",
       "      <th>2020-05-24</th>\n",
       "      <td>3056</td>\n",
       "    </tr>\n",
       "  </tbody>\n",
       "</table>\n",
       "</div>"
      ],
      "text/plain": [
       "            Viajes\n",
       "2020-05-11    3128\n",
       "2020-05-12    3085\n",
       "2020-05-13    3015\n",
       "2020-05-14    3181\n",
       "2020-05-15    3129\n",
       "2020-05-16    2896\n",
       "2020-05-17    2787\n",
       "2020-05-18    3258\n",
       "2020-05-19    3487\n",
       "2020-05-20    3324\n",
       "2020-05-21    3445\n",
       "2020-05-22    3488\n",
       "2020-05-23    3526\n",
       "2020-05-24    3056"
      ]
     },
     "execution_count": 39,
     "metadata": {},
     "output_type": "execute_result"
    }
   ],
   "source": [
    "# usaremos 14 dias que poseemos para predecir los 7 dias siguientes tras esto compararemos los resultados con los que\n",
    "# poseemos para ver el grado de error\n",
    "\n",
    "Dias_twt = df_twt['2020-5-11':'2020-5-24']\n",
    "Dias_ine = df_ine['2020-5-11':'2020-5-24']\n",
    "Dias_twt"
   ]
  },
  {
   "cell_type": "markdown",
   "metadata": {},
   "source": [
    "# Preparamos los datos para el test"
   ]
  },
  {
   "cell_type": "code",
   "execution_count": 40,
   "metadata": {},
   "outputs": [
    {
     "data": {
      "text/html": [
       "<div>\n",
       "<style scoped>\n",
       "    .dataframe tbody tr th:only-of-type {\n",
       "        vertical-align: middle;\n",
       "    }\n",
       "\n",
       "    .dataframe tbody tr th {\n",
       "        vertical-align: top;\n",
       "    }\n",
       "\n",
       "    .dataframe thead th {\n",
       "        text-align: right;\n",
       "    }\n",
       "</style>\n",
       "<table border=\"1\" class=\"dataframe\">\n",
       "  <thead>\n",
       "    <tr style=\"text-align: right;\">\n",
       "      <th></th>\n",
       "      <th>var1(t-7)</th>\n",
       "      <th>var2(t-7)</th>\n",
       "      <th>var1(t-6)</th>\n",
       "      <th>var2(t-6)</th>\n",
       "      <th>var1(t-5)</th>\n",
       "      <th>var2(t-5)</th>\n",
       "      <th>var1(t-4)</th>\n",
       "      <th>var2(t-4)</th>\n",
       "      <th>var1(t-3)</th>\n",
       "      <th>var2(t-3)</th>\n",
       "      <th>var1(t-2)</th>\n",
       "      <th>var2(t-2)</th>\n",
       "      <th>var1(t-1)</th>\n",
       "      <th>var2(t-1)</th>\n",
       "    </tr>\n",
       "  </thead>\n",
       "  <tbody>\n",
       "    <tr>\n",
       "      <th>7</th>\n",
       "      <td>-0.077132</td>\n",
       "      <td>0.150527</td>\n",
       "      <td>-0.193505</td>\n",
       "      <td>0.604381</td>\n",
       "      <td>-0.382951</td>\n",
       "      <td>0.539155</td>\n",
       "      <td>0.066305</td>\n",
       "      <td>0.459777</td>\n",
       "      <td>-0.074426</td>\n",
       "      <td>0.356781</td>\n",
       "      <td>-0.705008</td>\n",
       "      <td>-0.429630</td>\n",
       "      <td>-1.000000</td>\n",
       "      <td>-1.000000</td>\n",
       "    </tr>\n",
       "    <tr>\n",
       "      <th>8</th>\n",
       "      <td>-0.193505</td>\n",
       "      <td>0.604381</td>\n",
       "      <td>-0.382951</td>\n",
       "      <td>0.539155</td>\n",
       "      <td>0.066305</td>\n",
       "      <td>0.459777</td>\n",
       "      <td>-0.074426</td>\n",
       "      <td>0.356781</td>\n",
       "      <td>-0.705008</td>\n",
       "      <td>-0.429630</td>\n",
       "      <td>-1.000000</td>\n",
       "      <td>-1.000000</td>\n",
       "      <td>0.274695</td>\n",
       "      <td>0.512966</td>\n",
       "    </tr>\n",
       "    <tr>\n",
       "      <th>9</th>\n",
       "      <td>-0.382951</td>\n",
       "      <td>0.539155</td>\n",
       "      <td>0.066305</td>\n",
       "      <td>0.459777</td>\n",
       "      <td>-0.074426</td>\n",
       "      <td>0.356781</td>\n",
       "      <td>-0.705008</td>\n",
       "      <td>-0.429630</td>\n",
       "      <td>-1.000000</td>\n",
       "      <td>-1.000000</td>\n",
       "      <td>0.274695</td>\n",
       "      <td>0.512966</td>\n",
       "      <td>0.894451</td>\n",
       "      <td>0.912932</td>\n",
       "    </tr>\n",
       "    <tr>\n",
       "      <th>10</th>\n",
       "      <td>0.066305</td>\n",
       "      <td>0.459777</td>\n",
       "      <td>-0.074426</td>\n",
       "      <td>0.356781</td>\n",
       "      <td>-0.705008</td>\n",
       "      <td>-0.429630</td>\n",
       "      <td>-1.000000</td>\n",
       "      <td>-1.000000</td>\n",
       "      <td>0.274695</td>\n",
       "      <td>0.512966</td>\n",
       "      <td>0.894451</td>\n",
       "      <td>0.912932</td>\n",
       "      <td>0.453315</td>\n",
       "      <td>0.938927</td>\n",
       "    </tr>\n",
       "    <tr>\n",
       "      <th>11</th>\n",
       "      <td>-0.074426</td>\n",
       "      <td>0.356781</td>\n",
       "      <td>-0.705008</td>\n",
       "      <td>-0.429630</td>\n",
       "      <td>-1.000000</td>\n",
       "      <td>-1.000000</td>\n",
       "      <td>0.274695</td>\n",
       "      <td>0.512966</td>\n",
       "      <td>0.894451</td>\n",
       "      <td>0.912932</td>\n",
       "      <td>0.453315</td>\n",
       "      <td>0.938927</td>\n",
       "      <td>0.780785</td>\n",
       "      <td>0.955663</td>\n",
       "    </tr>\n",
       "    <tr>\n",
       "      <th>12</th>\n",
       "      <td>-0.705008</td>\n",
       "      <td>-0.429630</td>\n",
       "      <td>-1.000000</td>\n",
       "      <td>-1.000000</td>\n",
       "      <td>0.274695</td>\n",
       "      <td>0.512966</td>\n",
       "      <td>0.894451</td>\n",
       "      <td>0.912932</td>\n",
       "      <td>0.453315</td>\n",
       "      <td>0.938927</td>\n",
       "      <td>0.780785</td>\n",
       "      <td>0.955663</td>\n",
       "      <td>0.897158</td>\n",
       "      <td>1.000000</td>\n",
       "    </tr>\n",
       "    <tr>\n",
       "      <th>13</th>\n",
       "      <td>-1.000000</td>\n",
       "      <td>-1.000000</td>\n",
       "      <td>0.274695</td>\n",
       "      <td>0.512966</td>\n",
       "      <td>0.894451</td>\n",
       "      <td>0.912932</td>\n",
       "      <td>0.453315</td>\n",
       "      <td>0.938927</td>\n",
       "      <td>0.780785</td>\n",
       "      <td>0.955663</td>\n",
       "      <td>0.897158</td>\n",
       "      <td>1.000000</td>\n",
       "      <td>0.999999</td>\n",
       "      <td>0.169306</td>\n",
       "    </tr>\n",
       "  </tbody>\n",
       "</table>\n",
       "</div>"
      ],
      "text/plain": [
       "    var1(t-7)  var2(t-7)  var1(t-6)  var2(t-6)  var1(t-5)  var2(t-5)  \\\n",
       "7   -0.077132   0.150527  -0.193505   0.604381  -0.382951   0.539155   \n",
       "8   -0.193505   0.604381  -0.382951   0.539155   0.066305   0.459777   \n",
       "9   -0.382951   0.539155   0.066305   0.459777  -0.074426   0.356781   \n",
       "10   0.066305   0.459777  -0.074426   0.356781  -0.705008  -0.429630   \n",
       "11  -0.074426   0.356781  -0.705008  -0.429630  -1.000000  -1.000000   \n",
       "12  -0.705008  -0.429630  -1.000000  -1.000000   0.274695   0.512966   \n",
       "13  -1.000000  -1.000000   0.274695   0.512966   0.894451   0.912932   \n",
       "\n",
       "    var1(t-4)  var2(t-4)  var1(t-3)  var2(t-3)  var1(t-2)  var2(t-2)  \\\n",
       "7    0.066305   0.459777  -0.074426   0.356781  -0.705008  -0.429630   \n",
       "8   -0.074426   0.356781  -0.705008  -0.429630  -1.000000  -1.000000   \n",
       "9   -0.705008  -0.429630  -1.000000  -1.000000   0.274695   0.512966   \n",
       "10  -1.000000  -1.000000   0.274695   0.512966   0.894451   0.912932   \n",
       "11   0.274695   0.512966   0.894451   0.912932   0.453315   0.938927   \n",
       "12   0.894451   0.912932   0.453315   0.938927   0.780785   0.955663   \n",
       "13   0.453315   0.938927   0.780785   0.955663   0.897158   1.000000   \n",
       "\n",
       "    var1(t-1)  var2(t-1)  \n",
       "7   -1.000000  -1.000000  \n",
       "8    0.274695   0.512966  \n",
       "9    0.894451   0.912932  \n",
       "10   0.453315   0.938927  \n",
       "11   0.780785   0.955663  \n",
       "12   0.897158   1.000000  \n",
       "13   0.999999   0.169306  "
      ]
     },
     "execution_count": 40,
     "metadata": {},
     "output_type": "execute_result"
    }
   ],
   "source": [
    "# cargamos el dataframe en la variable values\n",
    "values_twt = Dias_twt.values\n",
    "values_ine = Dias_ine.values\n",
    "\n",
    "# convertimos los enteros en floats\n",
    "values_twt = values_twt.astype('float32')\n",
    "values_ine = values_ine.astype('float32')\n",
    "\n",
    "# normalizamos los datos a escala de entre -1 y 1\n",
    "values_twt =values_twt.reshape(-1, 1)\n",
    "scaled_twt = scaler.fit_transform(values_twt)\n",
    "values_ine =values_ine.reshape(-1, 1) # esto lo hacemos porque tenemos 1 sola dimension\n",
    "scaled_ine = scaler.fit_transform(values_ine)\n",
    "\n",
    "# usamos la funcion definida previamente\n",
    "reframed_twt = series_to_supervised(scaled_twt, look_back, 1)\n",
    "reframed_ine = series_to_supervised(scaled_ine, look_back, 1)\n",
    "\n",
    "# eliminamos la ultima columna pues es parte de lo que queremos hayar\n",
    "reframed_twt.drop(reframed_twt.columns[[7]], inplace=True, axis=1)\n",
    "reframed_ine.drop(reframed_ine.columns[[7]], inplace=True, axis=1)\n",
    "\n",
    "#unimos los dataframes\n",
    "reframed_ine.columns = ['var2(t-7)', 'var2(t-6)', 'var2(t-5)', 'var2(t-4)', 'var2(t-3)', 'var2(t-2)', 'var2(t-1)']\n",
    "reframed = pd.concat([reframed_twt.iloc[:, 0], reframed_ine.iloc[:, 0]], axis=1)\n",
    "\n",
    "for i in range(6):\n",
    "    reframed = pd.concat([reframed, reframed_twt.iloc[:, i+1]], axis=1)\n",
    "    reframed = pd.concat([reframed, reframed_ine.iloc[:, i+1]], axis=1)\n",
    "\n",
    "#mostramos el set de entrenamiento\n",
    "reframed.head(7)"
   ]
  },
  {
   "cell_type": "code",
   "execution_count": 41,
   "metadata": {},
   "outputs": [
    {
     "name": "stdout",
     "output_type": "stream",
     "text": [
      "(1, 1, 14)\n"
     ]
    },
    {
     "data": {
      "text/plain": [
       "array([[[-1.0000005 , -1.        ,  0.2746954 ,  0.51296616,\n",
       "          0.89445114,  0.9129319 ,  0.45331478,  0.9389267 ,\n",
       "          0.7807846 ,  0.9556627 ,  0.89715767,  1.        ,\n",
       "          0.99999905,  0.16930556]]], dtype=float32)"
      ]
     },
     "execution_count": 41,
     "metadata": {},
     "output_type": "execute_result"
    }
   ],
   "source": [
    "values = reframed.values\n",
    "\n",
    "#tomamos los valores para realizar el test\n",
    "x_test = values[6:, :]\n",
    "\n",
    "# reshape input to be 3D [samples, timesteps, features] - preguntar\n",
    "x_test = x_test.reshape((x_test.shape[0], 1, x_test.shape[1]))\n",
    "print(x_test.shape)\n",
    "x_test"
   ]
  },
  {
   "cell_type": "code",
   "execution_count": 42,
   "metadata": {},
   "outputs": [],
   "source": [
    "#en la linea 24 definimos la funcion para realizar el desplazamiento que se hara en el array cada prediccion pues para hacer\n",
    "#la siguiente prediccion eliminamos el dia mas antiguo, desplazamos un lugar el resto de dias y añadimos el ultimo dia que\n",
    "#se ha predecido, esto es por que para predecir un dia se usan los 7 dias previos, y que usaremos a continuación"
   ]
  },
  {
   "cell_type": "markdown",
   "metadata": {},
   "source": [
    "# Realizamos la prediccion "
   ]
  },
  {
   "cell_type": "code",
   "execution_count": 43,
   "metadata": {},
   "outputs": [
    {
     "name": "stdout",
     "output_type": "stream",
     "text": [
      "[[[-1.0000005  -1.          0.2746954   0.51296616  0.89445114\n",
      "    0.9129319   0.45331478  0.9389267   0.7807846   0.9556627\n",
      "    0.89715767  1.          0.99999905  0.16930556]]]\n",
      "[[[-1.          0.2746954   0.51296616  0.89445114  0.9129319\n",
      "    0.45331478  0.9389267   0.7807846   0.9556627   0.89715767\n",
      "    1.          0.99999905  0.16930556 -0.33901355]]]\n",
      "[[[ 0.2746954   0.51296616  0.89445114  0.9129319   0.45331478\n",
      "    0.9389267   0.7807846   0.9556627   0.89715767  1.\n",
      "    0.99999905  0.16930556 -0.33901355  0.64639753]]]\n",
      "[[[ 0.51296616  0.89445114  0.9129319   0.45331478  0.9389267\n",
      "    0.7807846   0.9556627   0.89715767  1.          0.99999905\n",
      "    0.16930556 -0.33901355  0.64639753  0.61634904]]]\n",
      "[[[ 0.89445114  0.9129319   0.45331478  0.9389267   0.7807846\n",
      "    0.9556627   0.89715767  1.          0.99999905  0.16930556\n",
      "   -0.33901355  0.64639753  0.61634904  0.8586041 ]]]\n",
      "[[[ 0.9129319   0.45331478  0.9389267   0.7807846   0.9556627\n",
      "    0.89715767  1.          0.99999905  0.16930556 -0.33901355\n",
      "    0.64639753  0.61634904  0.8586041   0.5119703 ]]]\n",
      "[[[ 0.45331478  0.9389267   0.7807846   0.9556627   0.89715767\n",
      "    1.          0.99999905  0.16930556 -0.33901355  0.64639753\n",
      "    0.61634904  0.8586041   0.5119703   0.5873738 ]]]\n"
     ]
    }
   ],
   "source": [
    "results=[]\n",
    "for i in range(7):\n",
    "    parcial=model.predict(x_test)\n",
    "    results.append(parcial[0])\n",
    "    print(x_test)\n",
    "    x_test=agregarNuevoValor(x_test,parcial[0])"
   ]
  },
  {
   "cell_type": "markdown",
   "metadata": {},
   "source": [
    "# Re-Convertimos los resultados"
   ]
  },
  {
   "cell_type": "code",
   "execution_count": 44,
   "metadata": {
    "scrolled": false
   },
   "outputs": [
    {
     "name": "stdout",
     "output_type": "stream",
     "text": [
      "[array([-0.33901355], dtype=float32), array([0.64639753], dtype=float32), array([0.61634904], dtype=float32), array([0.8586041], dtype=float32), array([0.5119703], dtype=float32), array([0.5873738], dtype=float32), array([0.79416203], dtype=float32)]\n"
     ]
    },
    {
     "data": {
      "text/plain": [
       "array([[3071081],\n",
       "       [4026105],\n",
       "       [3996983],\n",
       "       [4231767],\n",
       "       [3895823],\n",
       "       [3968901],\n",
       "       [4169313]])"
      ]
     },
     "execution_count": 44,
     "metadata": {},
     "output_type": "execute_result"
    }
   ],
   "source": [
    "adimen = [x for x in results]    \n",
    "print(adimen)\n",
    "inverted = scaler.inverse_transform(adimen)\n",
    "\n",
    "#en nuestro problema no tienen sentido los decimales pues no se pueden hacer 0.5 viajes o 0.25 viajes\n",
    "inverted = inverted.round()\n",
    "inverted = inverted.astype(int)\n",
    "inverted"
   ]
  },
  {
   "cell_type": "markdown",
   "metadata": {},
   "source": [
    "# Visualizamos el pronostico"
   ]
  },
  {
   "cell_type": "code",
   "execution_count": 45,
   "metadata": {
    "scrolled": false
   },
   "outputs": [
    {
     "data": {
      "text/plain": [
       "<AxesSubplot:>"
      ]
     },
     "execution_count": 45,
     "metadata": {},
     "output_type": "execute_result"
    },
    {
     "data": {
      "image/png": "[encoded data removed]",
      "text/plain": [
       "<Figure size 432x288 with 1 Axes>"
      ]
     },
     "metadata": {
      "needs_background": "light"
     },
     "output_type": "display_data"
    }
   ],
   "source": [
    "e_date = datetime.datetime.strptime('2020-05-31', '%Y-%m-%d')\n",
    "i_date = datetime.datetime.strptime('2020-05-25', '%Y-%m-%d')\n",
    "delta = e_date - i_date\n",
    "\n",
    "index_days = []\n",
    "for i in range(delta.days + 1):\n",
    "    day = i_date + timedelta(days=i)\n",
    "    index_days.append(day)\n",
    "\n",
    "prediccion = pd.DataFrame(inverted, index= index_days)\n",
    "prediccion.columns = ['pronostico']\n",
    "prediccion.plot()"
   ]
  },
  {
   "cell_type": "code",
   "execution_count": 46,
   "metadata": {},
   "outputs": [
    {
     "data": {
      "text/html": [
       "<div>\n",
       "<style scoped>\n",
       "    .dataframe tbody tr th:only-of-type {\n",
       "        vertical-align: middle;\n",
       "    }\n",
       "\n",
       "    .dataframe tbody tr th {\n",
       "        vertical-align: top;\n",
       "    }\n",
       "\n",
       "    .dataframe thead th {\n",
       "        text-align: right;\n",
       "    }\n",
       "</style>\n",
       "<table border=\"1\" class=\"dataframe\">\n",
       "  <thead>\n",
       "    <tr style=\"text-align: right;\">\n",
       "      <th></th>\n",
       "      <th>real</th>\n",
       "      <th>prediccion</th>\n",
       "    </tr>\n",
       "  </thead>\n",
       "  <tbody>\n",
       "    <tr>\n",
       "      <th>2020-05-25</th>\n",
       "      <td>4382232</td>\n",
       "      <td>3071081</td>\n",
       "    </tr>\n",
       "    <tr>\n",
       "      <th>2020-05-26</th>\n",
       "      <td>4709433</td>\n",
       "      <td>4026105</td>\n",
       "    </tr>\n",
       "    <tr>\n",
       "      <th>2020-05-27</th>\n",
       "      <td>4837770</td>\n",
       "      <td>3996983</td>\n",
       "    </tr>\n",
       "    <tr>\n",
       "      <th>2020-05-28</th>\n",
       "      <td>4898946</td>\n",
       "      <td>4231767</td>\n",
       "    </tr>\n",
       "    <tr>\n",
       "      <th>2020-05-29</th>\n",
       "      <td>4909824</td>\n",
       "      <td>3895823</td>\n",
       "    </tr>\n",
       "    <tr>\n",
       "      <th>2020-05-30</th>\n",
       "      <td>4202334</td>\n",
       "      <td>3968901</td>\n",
       "    </tr>\n",
       "    <tr>\n",
       "      <th>2020-05-31</th>\n",
       "      <td>3305717</td>\n",
       "      <td>4169313</td>\n",
       "    </tr>\n",
       "  </tbody>\n",
       "</table>\n",
       "</div>"
      ],
      "text/plain": [
       "               real  prediccion\n",
       "2020-05-25  4382232     3071081\n",
       "2020-05-26  4709433     4026105\n",
       "2020-05-27  4837770     3996983\n",
       "2020-05-28  4898946     4231767\n",
       "2020-05-29  4909824     3895823\n",
       "2020-05-30  4202334     3968901\n",
       "2020-05-31  3305717     4169313"
      ]
     },
     "execution_count": 46,
     "metadata": {},
     "output_type": "execute_result"
    }
   ],
   "source": [
    "datosReales = df_ine['2020-5-25':'2020-5-31']\n",
    "\n",
    "compara = pd.concat([datosReales, prediccion], axis=1)\n",
    "compara.columns = ['real', 'prediccion']\n",
    "compara"
   ]
  },
  {
   "cell_type": "code",
   "execution_count": 47,
   "metadata": {},
   "outputs": [
    {
     "data": {
      "text/plain": [
       "<matplotlib.legend.Legend at 0x26b2b662520>"
      ]
     },
     "execution_count": 47,
     "metadata": {},
     "output_type": "execute_result"
    },
    {
     "data": {
      "image/png": "[encoded data removed]",
      "text/plain": [
       "<Figure size 432x288 with 1 Axes>"
      ]
     },
     "metadata": {
      "needs_background": "light"
     },
     "output_type": "display_data"
    }
   ],
   "source": [
    "compara['real'].plot()\n",
    "compara['prediccion'].plot()\n",
    "plt.xlabel(\"Tiempo (dias)\", fontsize = 10)\n",
    "plt.ylabel(\"viajes (en miles)\", fontsize = 10)\n",
    "plt.legend( ('Datos reales', 'Prediccion'), loc = 'lower right')"
   ]
  },
  {
   "cell_type": "code",
   "execution_count": 48,
   "metadata": {
    "scrolled": false
   },
   "outputs": [
    {
     "name": "stdout",
     "output_type": "stream",
     "text": [
      "Resultado del test: 801925.00 MAE\n",
      "Resultado del test: 738084534643.00 MSE\n",
      "Resultado del test: 859118.46 RMSE\n",
      "Resultado del test: 21.98 CVRMSE\n",
      "Resultado del test: 21.30 MAPE\n"
     ]
    }
   ],
   "source": [
    "# calculamos las metricas de error\n",
    "testScore_MAE, testScore_MSE, testScore_RMSE, testScore_CVRMSE, testScore_MAPE  =  compute_metrics_fn(prediccion, datosReales)\n",
    "print('Resultado del test: %.2f MAE' % (testScore_MAE))\n",
    "print('Resultado del test: %.2f MSE' % (testScore_MSE))\n",
    "print('Resultado del test: %.2f RMSE' % (testScore_RMSE))\n",
    "print('Resultado del test: %.2f CVRMSE' % (testScore_CVRMSE))\n",
    "print('Resultado del test: %.2f MAPE' % (testScore_MAPE))"
   ]
  },
  {
   "cell_type": "code",
   "execution_count": 49,
   "metadata": {},
   "outputs": [
    {
     "name": "stdout",
     "output_type": "stream",
     "text": [
      "Resultado del test dia 1: 1311151.00 MAE\n",
      "Resultado del test dia 1: 1719116944801.00 MSE\n",
      "Resultado del test dia 1: 1311151.00 RMSE\n",
      "Resultado del test dia 1: 42.69 CVRMSE\n",
      "Resultado del test dia 1: 42.69 MAPE \n",
      "\n",
      "Resultado del test dia 2: 683328.00 MAE\n",
      "Resultado del test dia 2: 466937155584.00 MSE\n",
      "Resultado del test dia 2: 683328.00 RMSE\n",
      "Resultado del test dia 2: 16.97 CVRMSE\n",
      "Resultado del test dia 2: 16.97 MAPE \n",
      "\n",
      "Resultado del test dia 3: 840787.00 MAE\n",
      "Resultado del test dia 3: 706922779369.00 MSE\n",
      "Resultado del test dia 3: 840787.00 RMSE\n",
      "Resultado del test dia 3: 21.04 CVRMSE\n",
      "Resultado del test dia 3: 21.04 MAPE \n",
      "\n",
      "Resultado del test dia 4: 667179.00 MAE\n",
      "Resultado del test dia 4: 445127818041.00 MSE\n",
      "Resultado del test dia 4: 667179.00 RMSE\n",
      "Resultado del test dia 4: 15.77 CVRMSE\n",
      "Resultado del test dia 4: 15.77 MAPE \n",
      "\n",
      "Resultado del test dia 5: 1014001.00 MAE\n",
      "Resultado del test dia 5: 1028198028001.00 MSE\n",
      "Resultado del test dia 5: 1014001.00 RMSE\n",
      "Resultado del test dia 5: 26.03 CVRMSE\n",
      "Resultado del test dia 5: 26.03 MAPE \n",
      "\n",
      "Resultado del test dia 6: 233433.00 MAE\n",
      "Resultado del test dia 6: 54490965489.00 MSE\n",
      "Resultado del test dia 6: 233433.00 RMSE\n",
      "Resultado del test dia 6: 5.88 CVRMSE\n",
      "Resultado del test dia 6: 5.88 MAPE \n",
      "\n",
      "Resultado del test dia 7: 863596.00 MAE\n",
      "Resultado del test dia 7: 745798051216.00 MSE\n",
      "Resultado del test dia 7: 863596.00 RMSE\n",
      "Resultado del test dia 7: 20.71 CVRMSE\n",
      "Resultado del test dia 7: 20.71 MAPE \n",
      "\n"
     ]
    }
   ],
   "source": [
    "# calculamos las metricas de error para cada dia por separado\n",
    "for i in range(7):\n",
    "    testScore_MAE, testScore_MSE, testScore_RMSE, testScore_CVRMSE, testScore_MAPE  =  compute_metrics_fn(prediccion.values[i], datosReales.values[i])\n",
    "    day = i + 1\n",
    "    print('Resultado del test dia %d: %.2f MAE' % (day, testScore_MAE))\n",
    "    print('Resultado del test dia %d: %.2f MSE' % (day, testScore_MSE))\n",
    "    print('Resultado del test dia %d: %.2f RMSE' % (day, testScore_RMSE))\n",
    "    print('Resultado del test dia %d: %.2f CVRMSE' % (day, testScore_CVRMSE))\n",
    "    print('Resultado del test dia %d: %.2f MAPE \\n' % (day, testScore_MAPE))"
   ]
  },
  {
   "cell_type": "code",
   "execution_count": null,
   "metadata": {},
   "outputs": [],
   "source": []
  }
 ],
 "metadata": {
  "kernelspec": {
   "display_name": "Python 3",
   "language": "python",
   "name": "python3"
  },
  "language_info": {
   "codemirror_mode": {
    "name": "ipython",
    "version": 3
   },
   "file_extension": ".py",
   "mimetype": "text/x-python",
   "name": "python",
   "nbconvert_exporter": "python",
   "pygments_lexer": "ipython3",
   "version": "3.8.5"
  }
 },
 "nbformat": 4,
 "nbformat_minor": 4
}
