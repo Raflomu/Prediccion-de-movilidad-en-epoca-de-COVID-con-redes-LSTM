{
 "cells": [
  {
   "cell_type": "code",
   "execution_count": 1,
   "metadata": {},
   "outputs": [],
   "source": [
    "import pandas as pd\n",
    "import numpy as np\n",
    "from tqdm import tqdm_notebook\n",
    "import os\n",
    "import math\n",
    "from sklearn.metrics import mean_squared_error, mean_absolute_error\n",
    "from sklearn.preprocessing import MinMaxScaler\n",
    "from keras.models import Sequential\n",
    "from keras.layers import Dense,Activation,Flatten,Dropout\n",
    "\n",
    "import matplotlib.pyplot as plt\n",
    "%matplotlib inline\n",
    "\n",
    "import warnings\n",
    "warnings.filterwarnings(\"ignore\")\n",
    "\n",
    "import datetime\n",
    "from datetime import date, timedelta\n",
    "e_date = datetime.datetime.strptime('2020-06-20', '%Y-%m-%d')\n",
    "i_date = datetime.datetime.strptime('2020-04-01', '%Y-%m-%d')\n",
    "\n",
    "data_path = 'D:/universidad/universidad 4/TFG/recursos para el desarrollo/datos procesados/OD'"
   ]
  },
  {
   "cell_type": "code",
   "execution_count": 2,
   "metadata": {},
   "outputs": [],
   "source": [
    "delta = e_date - i_date\n",
    "\n",
    "target_days = []\n",
    "for i in range(delta.days + 1):\n",
    "    day = i_date + timedelta(days=i)\n",
    "    target_days.append(day)"
   ]
  },
  {
   "cell_type": "code",
   "execution_count": 3,
   "metadata": {},
   "outputs": [],
   "source": [
    "def read_OD_fn(source_type):\n",
    "    ods = {}\n",
    "    for date in tqdm_notebook(target_days):\n",
    "        od_date= pd.read_csv(os.path.join(data_path, 'date_{}_OD_{}.csv'.format(source_type,date.strftime('%Y-%m-%d'))), \n",
    "                            index_col=0)\n",
    "        ods[date] = od_date\n",
    "    return ods"
   ]
  },
  {
   "cell_type": "code",
   "execution_count": 4,
   "metadata": {},
   "outputs": [
    {
     "data": {
      "application/vnd.jupyter.widget-view+json": {
       "model_id": "ac7a27873421442bbaf0cf6b386f2666",
       "version_major": 2,
       "version_minor": 0
      },
      "text/plain": [
       "  0%|          | 0/81 [00:00<?, ?it/s]"
      ]
     },
     "metadata": {},
     "output_type": "display_data"
    }
   ],
   "source": [
    "ine_ods = read_OD_fn('INE')"
   ]
  },
  {
   "cell_type": "markdown",
   "metadata": {},
   "source": [
    "# Serializar los datos"
   ]
  },
  {
   "cell_type": "code",
   "execution_count": 5,
   "metadata": {
    "scrolled": true
   },
   "outputs": [
    {
     "data": {
      "application/vnd.jupyter.widget-view+json": {
       "model_id": "64fe30215837489ab7a0717c5f55099d",
       "version_major": 2,
       "version_minor": 0
      },
      "text/plain": [
       "  0%|          | 0/81 [00:00<?, ?it/s]"
      ]
     },
     "metadata": {},
     "output_type": "display_data"
    }
   ],
   "source": [
    "lista_ine1 = []\n",
    "lista_ine2 = []\n",
    "lista_ine3 = []\n",
    "lista_ine4 = []\n",
    "lista_ine5 = []\n",
    "\n",
    "for date in tqdm_notebook(target_days):\n",
    "    lista_ine1.append(ine_ods[date].loc['58MA','total'])\n",
    "    lista_ine2.append(ine_ods[date].loc['156B','total'])\n",
    "    lista_ine3.append(ine_ods[date].loc['34CZ','total'])\n",
    "    lista_ine4.append(ine_ods[date].loc['165V','total'])\n",
    "    lista_ine5.append(ine_ods[date].loc['13VI','total'])"
   ]
  },
  {
   "cell_type": "code",
   "execution_count": 6,
   "metadata": {
    "scrolled": true
   },
   "outputs": [],
   "source": [
    "df_ine1 = pd.DataFrame (lista_ine1, columns = ['Viajes'], index= target_days)\n",
    "df_ine2 = pd.DataFrame (lista_ine2, columns = ['Viajes'], index= target_days)\n",
    "df_ine3 = pd.DataFrame (lista_ine3, columns = ['Viajes'], index= target_days)\n",
    "df_ine4 = pd.DataFrame (lista_ine4, columns = ['Viajes'], index= target_days)\n",
    "df_ine5 = pd.DataFrame (lista_ine5, columns = ['Viajes'], index= target_days)"
   ]
  },
  {
   "cell_type": "code",
   "execution_count": 7,
   "metadata": {},
   "outputs": [],
   "source": [
    "lista_ine = []\n",
    "\n",
    "df = df_ine1 + df_ine2 + df_ine3 + df_ine4 + df_ine5"
   ]
  },
  {
   "cell_type": "code",
   "execution_count": 8,
   "metadata": {},
   "outputs": [
    {
     "data": {
      "text/html": [
       "<div>\n",
       "<style scoped>\n",
       "    .dataframe tbody tr th:only-of-type {\n",
       "        vertical-align: middle;\n",
       "    }\n",
       "\n",
       "    .dataframe tbody tr th {\n",
       "        vertical-align: top;\n",
       "    }\n",
       "\n",
       "    .dataframe thead th {\n",
       "        text-align: right;\n",
       "    }\n",
       "</style>\n",
       "<table border=\"1\" class=\"dataframe\">\n",
       "  <thead>\n",
       "    <tr style=\"text-align: right;\">\n",
       "      <th></th>\n",
       "      <th>Viajes</th>\n",
       "    </tr>\n",
       "  </thead>\n",
       "  <tbody>\n",
       "    <tr>\n",
       "      <th>2020-04-01</th>\n",
       "      <td>16278</td>\n",
       "    </tr>\n",
       "    <tr>\n",
       "      <th>2020-04-02</th>\n",
       "      <td>16895</td>\n",
       "    </tr>\n",
       "    <tr>\n",
       "      <th>2020-04-03</th>\n",
       "      <td>18153</td>\n",
       "    </tr>\n",
       "    <tr>\n",
       "      <th>2020-04-04</th>\n",
       "      <td>13180</td>\n",
       "    </tr>\n",
       "    <tr>\n",
       "      <th>2020-04-05</th>\n",
       "      <td>11805</td>\n",
       "    </tr>\n",
       "  </tbody>\n",
       "</table>\n",
       "</div>"
      ],
      "text/plain": [
       "            Viajes\n",
       "2020-04-01   16278\n",
       "2020-04-02   16895\n",
       "2020-04-03   18153\n",
       "2020-04-04   13180\n",
       "2020-04-05   11805"
      ]
     },
     "execution_count": 8,
     "metadata": {},
     "output_type": "execute_result"
    }
   ],
   "source": [
    "df.head()"
   ]
  },
  {
   "cell_type": "code",
   "execution_count": 9,
   "metadata": {},
   "outputs": [],
   "source": [
    "del ine_ods"
   ]
  },
  {
   "cell_type": "markdown",
   "metadata": {},
   "source": [
    "# Visualización de datos"
   ]
  },
  {
   "cell_type": "code",
   "execution_count": 10,
   "metadata": {},
   "outputs": [
    {
     "name": "stdout",
     "output_type": "stream",
     "text": [
      "2020-04-01 00:00:00\n",
      "2020-06-20 00:00:00\n"
     ]
    }
   ],
   "source": [
    "print(df.index.min())\n",
    "print(df.index.max())"
   ]
  },
  {
   "cell_type": "code",
   "execution_count": 11,
   "metadata": {
    "scrolled": true
   },
   "outputs": [
    {
     "name": "stdout",
     "output_type": "stream",
     "text": [
      "81\n"
     ]
    }
   ],
   "source": [
    "print(len(df['2020']))"
   ]
  },
  {
   "cell_type": "code",
   "execution_count": 12,
   "metadata": {},
   "outputs": [
    {
     "data": {
      "text/html": [
       "<div>\n",
       "<style scoped>\n",
       "    .dataframe tbody tr th:only-of-type {\n",
       "        vertical-align: middle;\n",
       "    }\n",
       "\n",
       "    .dataframe tbody tr th {\n",
       "        vertical-align: top;\n",
       "    }\n",
       "\n",
       "    .dataframe thead th {\n",
       "        text-align: right;\n",
       "    }\n",
       "</style>\n",
       "<table border=\"1\" class=\"dataframe\">\n",
       "  <thead>\n",
       "    <tr style=\"text-align: right;\">\n",
       "      <th></th>\n",
       "      <th>Viajes</th>\n",
       "    </tr>\n",
       "  </thead>\n",
       "  <tbody>\n",
       "    <tr>\n",
       "      <th>count</th>\n",
       "      <td>81.000000</td>\n",
       "    </tr>\n",
       "    <tr>\n",
       "      <th>mean</th>\n",
       "      <td>30777.061728</td>\n",
       "    </tr>\n",
       "    <tr>\n",
       "      <th>std</th>\n",
       "      <td>13658.229593</td>\n",
       "    </tr>\n",
       "    <tr>\n",
       "      <th>min</th>\n",
       "      <td>10416.000000</td>\n",
       "    </tr>\n",
       "    <tr>\n",
       "      <th>25%</th>\n",
       "      <td>18843.000000</td>\n",
       "    </tr>\n",
       "    <tr>\n",
       "      <th>50%</th>\n",
       "      <td>30457.000000</td>\n",
       "    </tr>\n",
       "    <tr>\n",
       "      <th>75%</th>\n",
       "      <td>42480.000000</td>\n",
       "    </tr>\n",
       "    <tr>\n",
       "      <th>max</th>\n",
       "      <td>55828.000000</td>\n",
       "    </tr>\n",
       "  </tbody>\n",
       "</table>\n",
       "</div>"
      ],
      "text/plain": [
       "             Viajes\n",
       "count     81.000000\n",
       "mean   30777.061728\n",
       "std    13658.229593\n",
       "min    10416.000000\n",
       "25%    18843.000000\n",
       "50%    30457.000000\n",
       "75%    42480.000000\n",
       "max    55828.000000"
      ]
     },
     "execution_count": 12,
     "metadata": {},
     "output_type": "execute_result"
    }
   ],
   "source": [
    "df.describe()"
   ]
  },
  {
   "cell_type": "code",
   "execution_count": 13,
   "metadata": {},
   "outputs": [
    {
     "data": {
      "text/html": [
       "<div>\n",
       "<style scoped>\n",
       "    .dataframe tbody tr th:only-of-type {\n",
       "        vertical-align: middle;\n",
       "    }\n",
       "\n",
       "    .dataframe tbody tr th {\n",
       "        vertical-align: top;\n",
       "    }\n",
       "\n",
       "    .dataframe thead th {\n",
       "        text-align: right;\n",
       "    }\n",
       "</style>\n",
       "<table border=\"1\" class=\"dataframe\">\n",
       "  <thead>\n",
       "    <tr style=\"text-align: right;\">\n",
       "      <th></th>\n",
       "      <th>Viajes</th>\n",
       "    </tr>\n",
       "  </thead>\n",
       "  <tbody>\n",
       "    <tr>\n",
       "      <th>2020-04-30</th>\n",
       "      <td>18261.733333</td>\n",
       "    </tr>\n",
       "    <tr>\n",
       "      <th>2020-05-31</th>\n",
       "      <td>32278.387097</td>\n",
       "    </tr>\n",
       "    <tr>\n",
       "      <th>2020-06-30</th>\n",
       "      <td>47223.000000</td>\n",
       "    </tr>\n",
       "  </tbody>\n",
       "</table>\n",
       "</div>"
      ],
      "text/plain": [
       "                  Viajes\n",
       "2020-04-30  18261.733333\n",
       "2020-05-31  32278.387097\n",
       "2020-06-30  47223.000000"
      ]
     },
     "execution_count": 13,
     "metadata": {},
     "output_type": "execute_result"
    }
   ],
   "source": [
    "meses = df.resample('M').mean()\n",
    "meses"
   ]
  },
  {
   "cell_type": "code",
   "execution_count": 14,
   "metadata": {},
   "outputs": [
    {
     "data": {
      "text/plain": [
       "[<matplotlib.lines.Line2D at 0x2598bc0b370>]"
      ]
     },
     "execution_count": 14,
     "metadata": {},
     "output_type": "execute_result"
    },
    {
     "data": {
      "image/png": "[encoded data removed]",
      "text/plain": [
       "<Figure size 432x288 with 1 Axes>"
      ]
     },
     "metadata": {
      "needs_background": "light"
     },
     "output_type": "display_data"
    }
   ],
   "source": [
    "abril = df['2020-04-01':'2020-04-30']\n",
    "plt.plot(abril.values)\n",
    "mayo = df['2020-05-01':'2020-05-31']\n",
    "plt.plot(mayo.values)\n",
    "junio = df['2020-06-01':'2020-06-20']\n",
    "plt.plot(junio.values)"
   ]
  },
  {
   "cell_type": "markdown",
   "metadata": {},
   "source": [
    "# Preprocesado de datos"
   ]
  },
  {
   "cell_type": "code",
   "execution_count": 15,
   "metadata": {},
   "outputs": [
    {
     "data": {
      "text/html": [
       "<div>\n",
       "<style scoped>\n",
       "    .dataframe tbody tr th:only-of-type {\n",
       "        vertical-align: middle;\n",
       "    }\n",
       "\n",
       "    .dataframe tbody tr th {\n",
       "        vertical-align: top;\n",
       "    }\n",
       "\n",
       "    .dataframe thead th {\n",
       "        text-align: right;\n",
       "    }\n",
       "</style>\n",
       "<table border=\"1\" class=\"dataframe\">\n",
       "  <thead>\n",
       "    <tr style=\"text-align: right;\">\n",
       "      <th></th>\n",
       "      <th>var1(t-7)</th>\n",
       "      <th>var1(t-6)</th>\n",
       "      <th>var1(t-5)</th>\n",
       "      <th>var1(t-4)</th>\n",
       "      <th>var1(t-3)</th>\n",
       "      <th>var1(t-2)</th>\n",
       "      <th>var1(t-1)</th>\n",
       "      <th>var1(t)</th>\n",
       "    </tr>\n",
       "  </thead>\n",
       "  <tbody>\n",
       "    <tr>\n",
       "      <th>76</th>\n",
       "      <td>0.377698</td>\n",
       "      <td>0.872853</td>\n",
       "      <td>0.876464</td>\n",
       "      <td>0.817185</td>\n",
       "      <td>0.426715</td>\n",
       "      <td>0.129569</td>\n",
       "      <td>0.774113</td>\n",
       "      <td>0.881133</td>\n",
       "    </tr>\n",
       "    <tr>\n",
       "      <th>77</th>\n",
       "      <td>0.872853</td>\n",
       "      <td>0.876464</td>\n",
       "      <td>0.817185</td>\n",
       "      <td>0.426715</td>\n",
       "      <td>0.129569</td>\n",
       "      <td>0.774113</td>\n",
       "      <td>0.881133</td>\n",
       "      <td>0.905576</td>\n",
       "    </tr>\n",
       "    <tr>\n",
       "      <th>78</th>\n",
       "      <td>0.876464</td>\n",
       "      <td>0.817185</td>\n",
       "      <td>0.426715</td>\n",
       "      <td>0.129569</td>\n",
       "      <td>0.774113</td>\n",
       "      <td>0.881133</td>\n",
       "      <td>0.905576</td>\n",
       "      <td>0.910684</td>\n",
       "    </tr>\n",
       "    <tr>\n",
       "      <th>79</th>\n",
       "      <td>0.817185</td>\n",
       "      <td>0.426715</td>\n",
       "      <td>0.129569</td>\n",
       "      <td>0.774113</td>\n",
       "      <td>0.881133</td>\n",
       "      <td>0.905576</td>\n",
       "      <td>0.910684</td>\n",
       "      <td>1.000000</td>\n",
       "    </tr>\n",
       "    <tr>\n",
       "      <th>80</th>\n",
       "      <td>0.426715</td>\n",
       "      <td>0.129569</td>\n",
       "      <td>0.774113</td>\n",
       "      <td>0.881133</td>\n",
       "      <td>0.905576</td>\n",
       "      <td>0.910684</td>\n",
       "      <td>1.000000</td>\n",
       "      <td>0.573417</td>\n",
       "    </tr>\n",
       "  </tbody>\n",
       "</table>\n",
       "</div>"
      ],
      "text/plain": [
       "    var1(t-7)  var1(t-6)  var1(t-5)  var1(t-4)  var1(t-3)  var1(t-2)  \\\n",
       "76   0.377698   0.872853   0.876464   0.817185   0.426715   0.129569   \n",
       "77   0.872853   0.876464   0.817185   0.426715   0.129569   0.774113   \n",
       "78   0.876464   0.817185   0.426715   0.129569   0.774113   0.881133   \n",
       "79   0.817185   0.426715   0.129569   0.774113   0.881133   0.905576   \n",
       "80   0.426715   0.129569   0.774113   0.881133   0.905576   0.910684   \n",
       "\n",
       "    var1(t-1)   var1(t)  \n",
       "76   0.774113  0.881133  \n",
       "77   0.881133  0.905576  \n",
       "78   0.905576  0.910684  \n",
       "79   0.910684  1.000000  \n",
       "80   1.000000  0.573417  "
      ]
     },
     "execution_count": 15,
     "metadata": {},
     "output_type": "execute_result"
    }
   ],
   "source": [
    "# cantidad de dias previos que se usaran para predecir el siguiente dia \n",
    "look_back=7\n",
    "\n",
    "# convertir series en conocimiento supervisado\n",
    "def series_to_supervised(data, n_in=1, n_out=1, dropnan=True):\n",
    "    n_vars = 1 if type(data) is list else data.shape[1]\n",
    "    df = pd.DataFrame(data)\n",
    "    cols, names = list(), list()\n",
    "    # secuencia de entrada (t-n, ... t-1)\n",
    "    for i in range(n_in, 0, -1):\n",
    "        cols.append(df.shift(i))\n",
    "        names += [('var%d(t-%d)' % (j+1, i)) for j in range(n_vars)]\n",
    "    # secuencia del pronostico (t, t+1, ... t+n)\n",
    "    for i in range(0, n_out):\n",
    "        cols.append(df.shift(-i))\n",
    "        if i == 0:\n",
    "            names += [('var%d(t)' % (j+1)) for j in range(n_vars)]\n",
    "        else:\n",
    "            names += [('var%d(t+%d)' % (j+1, i)) for j in range(n_vars)]\n",
    "    # unimos todo\n",
    "    agg = pd.concat(cols, axis=1)\n",
    "    agg.columns = names\n",
    "    # eliminamos todos los valores nulos\n",
    "    if dropnan:\n",
    "        agg.dropna(inplace=True)\n",
    "    return agg\n",
    " \n",
    "# cargamos el dataframe en la variable values\n",
    "values = df.values\n",
    "\n",
    "# convertimos los enteros en floats\n",
    "values = values.astype('float32')\n",
    "\n",
    "# normalizamos los datos a escala de entre -1 y 1\n",
    "scaler = MinMaxScaler(feature_range=(-1, 1))\n",
    "values=values.reshape(-1, 1) # esto lo hacemos porque tenemos 1 sola dimension\n",
    "scaled = scaler.fit_transform(values)\n",
    "\n",
    "# usamos la funcion definida previamente\n",
    "reframed = series_to_supervised(scaled, look_back, 1)\n",
    "\n",
    "# imprimimos los nuevos datos\n",
    "reframed.tail()"
   ]
  },
  {
   "cell_type": "markdown",
   "metadata": {},
   "source": [
    "# Dividimos los datos en sets de entrenamiento y validacion"
   ]
  },
  {
   "cell_type": "code",
   "execution_count": 16,
   "metadata": {},
   "outputs": [
    {
     "name": "stdout",
     "output_type": "stream",
     "text": [
      "(54, 1, 7) (54,) (20, 1, 7) (20,)\n"
     ]
    }
   ],
   "source": [
    "# dividimos nuestro valores entre sets de entrenamiento y de test\n",
    "values = reframed.values\n",
    "n_train_days = 71 - (10+look_back)\n",
    "train = values[:n_train_days, :]\n",
    "test = values[n_train_days:, :]\n",
    "\n",
    "# los volvemos a dividir en entradas y salidas\n",
    "x_train, y_train = train[:, :-1], train[:, -1]\n",
    "x_val, y_val = test[:, :-1], test[:, -1]\n",
    "\n",
    "# remodelamos la muestras para ser de las dimensiones [samples, timesteps, features]\n",
    "trainX = x_train.reshape((x_train.shape[0], 1, x_train.shape[1]))\n",
    "testX = x_val.reshape((x_val.shape[0], 1, x_val.shape[1]))\n",
    "\n",
    "print(trainX.shape, y_train.shape, testX.shape, y_val.shape)"
   ]
  },
  {
   "cell_type": "markdown",
   "metadata": {},
   "source": [
    "# Creamos la red neuronal"
   ]
  },
  {
   "cell_type": "code",
   "execution_count": 17,
   "metadata": {},
   "outputs": [],
   "source": [
    "def crear_modeloFF():\n",
    "    model = Sequential() \n",
    "    model.add(Dense(look_back, input_shape=(1,look_back),activation='tanh'))\n",
    "    model.add(Flatten())\n",
    "    model.add(Dense(100, activation='tanh'))\n",
    "    model.add(Dropout(0.30))\n",
    "    model.add(Dense(100, activation='tanh'))\n",
    "    model.add(Dropout(0.30))\n",
    "    model.add(Dense(100, activation='tanh'))\n",
    "    model.add(Dropout(0.30))\n",
    "    model.add(Dense(100, activation='tanh'))\n",
    "    model.add(Dropout(0.30))\n",
    "    model.add(Dense(1, activation='tanh'))\n",
    "    model.compile(loss='mean_absolute_error',optimizer='Adam',metrics=[\"mse\"])\n",
    "    model.summary()\n",
    "    return model"
   ]
  },
  {
   "cell_type": "code",
   "execution_count": 18,
   "metadata": {},
   "outputs": [
    {
     "name": "stdout",
     "output_type": "stream",
     "text": [
      "Model: \"sequential\"\n",
      "_________________________________________________________________\n",
      "Layer (type)                 Output Shape              Param #   \n",
      "=================================================================\n",
      "dense (Dense)                (None, 1, 7)              56        \n",
      "_________________________________________________________________\n",
      "flatten (Flatten)            (None, 7)                 0         \n",
      "_________________________________________________________________\n",
      "dense_1 (Dense)              (None, 100)               800       \n",
      "_________________________________________________________________\n",
      "dropout (Dropout)            (None, 100)               0         \n",
      "_________________________________________________________________\n",
      "dense_2 (Dense)              (None, 100)               10100     \n",
      "_________________________________________________________________\n",
      "dropout_1 (Dropout)          (None, 100)               0         \n",
      "_________________________________________________________________\n",
      "dense_3 (Dense)              (None, 100)               10100     \n",
      "_________________________________________________________________\n",
      "dropout_2 (Dropout)          (None, 100)               0         \n",
      "_________________________________________________________________\n",
      "dense_4 (Dense)              (None, 100)               10100     \n",
      "_________________________________________________________________\n",
      "dropout_3 (Dropout)          (None, 100)               0         \n",
      "_________________________________________________________________\n",
      "dense_5 (Dense)              (None, 1)                 101       \n",
      "=================================================================\n",
      "Total params: 31,257\n",
      "Trainable params: 31,257\n",
      "Non-trainable params: 0\n",
      "_________________________________________________________________\n",
      "Epoch 1/200\n",
      "8/8 [==============================] - 2s 175ms/step - loss: 0.3617 - mse: 0.2193 - val_loss: 0.2767 - val_mse: 0.1511\n",
      "Epoch 2/200\n",
      "8/8 [==============================] - 0s 12ms/step - loss: 0.3756 - mse: 0.2145 - val_loss: 0.2247 - val_mse: 0.1021\n",
      "Epoch 3/200\n",
      "8/8 [==============================] - 0s 12ms/step - loss: 0.2673 - mse: 0.1318 - val_loss: 0.1668 - val_mse: 0.0404\n",
      "Epoch 4/200\n",
      "8/8 [==============================] - 0s 12ms/step - loss: 0.2217 - mse: 0.0916 - val_loss: 0.2122 - val_mse: 0.0806\n",
      "Epoch 5/200\n",
      "8/8 [==============================] - 0s 11ms/step - loss: 0.2695 - mse: 0.1172 - val_loss: 0.2310 - val_mse: 0.0904\n",
      "Epoch 6/200\n",
      "8/8 [==============================] - 0s 10ms/step - loss: 0.3061 - mse: 0.1529 - val_loss: 0.2752 - val_mse: 0.1271\n",
      "Epoch 7/200\n",
      "8/8 [==============================] - 0s 11ms/step - loss: 0.3195 - mse: 0.1618 - val_loss: 0.2806 - val_mse: 0.1328\n",
      "Epoch 8/200\n",
      "8/8 [==============================] - 0s 12ms/step - loss: 0.2895 - mse: 0.1468 - val_loss: 0.2072 - val_mse: 0.0754\n",
      "Epoch 9/200\n",
      "8/8 [==============================] - 0s 12ms/step - loss: 0.2702 - mse: 0.1180 - val_loss: 0.2134 - val_mse: 0.0779\n",
      "Epoch 10/200\n",
      "8/8 [==============================] - 0s 12ms/step - loss: 0.2585 - mse: 0.1084 - val_loss: 0.1841 - val_mse: 0.0530\n",
      "Epoch 11/200\n",
      "8/8 [==============================] - 0s 12ms/step - loss: 0.2588 - mse: 0.0976 - val_loss: 0.2021 - val_mse: 0.0657\n",
      "Epoch 12/200\n",
      "8/8 [==============================] - 0s 11ms/step - loss: 0.2673 - mse: 0.1031 - val_loss: 0.2021 - val_mse: 0.0696\n",
      "Epoch 13/200\n",
      "8/8 [==============================] - 0s 11ms/step - loss: 0.2312 - mse: 0.0877 - val_loss: 0.1928 - val_mse: 0.0599\n",
      "Epoch 14/200\n",
      "8/8 [==============================] - 0s 12ms/step - loss: 0.2604 - mse: 0.1169 - val_loss: 0.1862 - val_mse: 0.0549\n",
      "Epoch 15/200\n",
      "8/8 [==============================] - 0s 12ms/step - loss: 0.2254 - mse: 0.0800 - val_loss: 0.1575 - val_mse: 0.0363\n",
      "Epoch 16/200\n",
      "8/8 [==============================] - 0s 12ms/step - loss: 0.2310 - mse: 0.1014 - val_loss: 0.1850 - val_mse: 0.0556\n",
      "Epoch 17/200\n",
      "8/8 [==============================] - 0s 11ms/step - loss: 0.2156 - mse: 0.0758 - val_loss: 0.1701 - val_mse: 0.0440\n",
      "Epoch 18/200\n",
      "8/8 [==============================] - 0s 6ms/step - loss: 0.2144 - mse: 0.0697 - val_loss: 0.1826 - val_mse: 0.0525\n",
      "Epoch 19/200\n",
      "8/8 [==============================] - 0s 6ms/step - loss: 0.1899 - mse: 0.0559 - val_loss: 0.1722 - val_mse: 0.0459\n",
      "Epoch 20/200\n",
      "8/8 [==============================] - 0s 7ms/step - loss: 0.2538 - mse: 0.0953 - val_loss: 0.1842 - val_mse: 0.0517\n",
      "Epoch 21/200\n",
      "8/8 [==============================] - 0s 7ms/step - loss: 0.1755 - mse: 0.0624 - val_loss: 0.2134 - val_mse: 0.0744\n",
      "Epoch 22/200\n",
      "8/8 [==============================] - 0s 6ms/step - loss: 0.2210 - mse: 0.0860 - val_loss: 0.1650 - val_mse: 0.0414\n",
      "Epoch 23/200\n",
      "8/8 [==============================] - 0s 7ms/step - loss: 0.1776 - mse: 0.0526 - val_loss: 0.1533 - val_mse: 0.0377\n",
      "Epoch 24/200\n",
      "8/8 [==============================] - 0s 7ms/step - loss: 0.2676 - mse: 0.1064 - val_loss: 0.1567 - val_mse: 0.0348\n",
      "Epoch 25/200\n",
      "8/8 [==============================] - 0s 7ms/step - loss: 0.2431 - mse: 0.0987 - val_loss: 0.1988 - val_mse: 0.0678\n",
      "Epoch 26/200\n",
      "8/8 [==============================] - 0s 7ms/step - loss: 0.2039 - mse: 0.0605 - val_loss: 0.1837 - val_mse: 0.0536\n",
      "Epoch 27/200\n",
      "8/8 [==============================] - 0s 7ms/step - loss: 0.2140 - mse: 0.0709 - val_loss: 0.1919 - val_mse: 0.0614\n",
      "Epoch 28/200\n",
      "8/8 [==============================] - 0s 6ms/step - loss: 0.2290 - mse: 0.0954 - val_loss: 0.1837 - val_mse: 0.0562\n",
      "Epoch 29/200\n",
      "8/8 [==============================] - 0s 7ms/step - loss: 0.2250 - mse: 0.0755 - val_loss: 0.1489 - val_mse: 0.0343\n",
      "Epoch 30/200\n",
      "8/8 [==============================] - 0s 7ms/step - loss: 0.1958 - mse: 0.0680 - val_loss: 0.1794 - val_mse: 0.0515\n",
      "Epoch 31/200\n",
      "8/8 [==============================] - 0s 6ms/step - loss: 0.2337 - mse: 0.1040 - val_loss: 0.1647 - val_mse: 0.0408\n",
      "Epoch 32/200\n",
      "8/8 [==============================] - 0s 7ms/step - loss: 0.2449 - mse: 0.0891 - val_loss: 0.1461 - val_mse: 0.0324\n",
      "Epoch 33/200\n",
      "8/8 [==============================] - 0s 7ms/step - loss: 0.1958 - mse: 0.0615 - val_loss: 0.1621 - val_mse: 0.0392\n",
      "Epoch 34/200\n",
      "8/8 [==============================] - 0s 7ms/step - loss: 0.2270 - mse: 0.0803 - val_loss: 0.1826 - val_mse: 0.0525\n",
      "Epoch 35/200\n",
      "8/8 [==============================] - 0s 6ms/step - loss: 0.2001 - mse: 0.0720 - val_loss: 0.1633 - val_mse: 0.0395\n",
      "Epoch 36/200\n",
      "8/8 [==============================] - 0s 6ms/step - loss: 0.2156 - mse: 0.0722 - val_loss: 0.1627 - val_mse: 0.0391\n",
      "Epoch 37/200\n",
      "8/8 [==============================] - 0s 6ms/step - loss: 0.1720 - mse: 0.0482 - val_loss: 0.1562 - val_mse: 0.0349\n",
      "Epoch 38/200\n",
      "8/8 [==============================] - 0s 6ms/step - loss: 0.2006 - mse: 0.0610 - val_loss: 0.1420 - val_mse: 0.0295\n",
      "Epoch 39/200\n",
      "8/8 [==============================] - 0s 6ms/step - loss: 0.1692 - mse: 0.0529 - val_loss: 0.1351 - val_mse: 0.0279\n",
      "Epoch 40/200\n",
      "8/8 [==============================] - 0s 6ms/step - loss: 0.2045 - mse: 0.0690 - val_loss: 0.1473 - val_mse: 0.0310\n",
      "Epoch 41/200\n",
      "8/8 [==============================] - 0s 6ms/step - loss: 0.2314 - mse: 0.0809 - val_loss: 0.1761 - val_mse: 0.0480\n",
      "Epoch 42/200\n",
      "8/8 [==============================] - 0s 7ms/step - loss: 0.2056 - mse: 0.0806 - val_loss: 0.1919 - val_mse: 0.0594\n",
      "Epoch 43/200\n",
      "8/8 [==============================] - 0s 6ms/step - loss: 0.1695 - mse: 0.0487 - val_loss: 0.1808 - val_mse: 0.0509\n",
      "Epoch 44/200\n",
      "8/8 [==============================] - 0s 6ms/step - loss: 0.1781 - mse: 0.0536 - val_loss: 0.1593 - val_mse: 0.0368\n",
      "Epoch 45/200\n",
      "8/8 [==============================] - 0s 6ms/step - loss: 0.2142 - mse: 0.0743 - val_loss: 0.1294 - val_mse: 0.0278\n",
      "Epoch 46/200\n",
      "8/8 [==============================] - 0s 6ms/step - loss: 0.1890 - mse: 0.0572 - val_loss: 0.1317 - val_mse: 0.0270\n",
      "Epoch 47/200\n",
      "8/8 [==============================] - 0s 6ms/step - loss: 0.1803 - mse: 0.0568 - val_loss: 0.1430 - val_mse: 0.0305\n",
      "Epoch 48/200\n",
      "8/8 [==============================] - 0s 6ms/step - loss: 0.1952 - mse: 0.0584 - val_loss: 0.1818 - val_mse: 0.0522\n",
      "Epoch 49/200\n",
      "8/8 [==============================] - 0s 6ms/step - loss: 0.1814 - mse: 0.0457 - val_loss: 0.1815 - val_mse: 0.0518\n",
      "Epoch 50/200\n"
     ]
    },
    {
     "name": "stdout",
     "output_type": "stream",
     "text": [
      "8/8 [==============================] - 0s 6ms/step - loss: 0.1247 - mse: 0.0278 - val_loss: 0.1721 - val_mse: 0.0454\n",
      "Epoch 51/200\n",
      "8/8 [==============================] - 0s 6ms/step - loss: 0.1644 - mse: 0.0466 - val_loss: 0.1617 - val_mse: 0.0396\n",
      "Epoch 52/200\n",
      "8/8 [==============================] - 0s 6ms/step - loss: 0.1852 - mse: 0.0541 - val_loss: 0.1799 - val_mse: 0.0516\n",
      "Epoch 53/200\n",
      "8/8 [==============================] - 0s 6ms/step - loss: 0.1593 - mse: 0.0401 - val_loss: 0.1708 - val_mse: 0.0450\n",
      "Epoch 54/200\n",
      "8/8 [==============================] - 0s 6ms/step - loss: 0.1500 - mse: 0.0360 - val_loss: 0.1593 - val_mse: 0.0365\n",
      "Epoch 55/200\n",
      "8/8 [==============================] - 0s 6ms/step - loss: 0.1744 - mse: 0.0554 - val_loss: 0.1630 - val_mse: 0.0385\n",
      "Epoch 56/200\n",
      "8/8 [==============================] - 0s 6ms/step - loss: 0.1560 - mse: 0.0407 - val_loss: 0.1505 - val_mse: 0.0334\n",
      "Epoch 57/200\n",
      "8/8 [==============================] - 0s 6ms/step - loss: 0.1555 - mse: 0.0423 - val_loss: 0.1651 - val_mse: 0.0409\n",
      "Epoch 58/200\n",
      "8/8 [==============================] - 0s 7ms/step - loss: 0.1554 - mse: 0.0389 - val_loss: 0.1602 - val_mse: 0.0403\n",
      "Epoch 59/200\n",
      "8/8 [==============================] - 0s 6ms/step - loss: 0.1370 - mse: 0.0338 - val_loss: 0.1356 - val_mse: 0.0279\n",
      "Epoch 60/200\n",
      "8/8 [==============================] - 0s 6ms/step - loss: 0.1599 - mse: 0.0407 - val_loss: 0.1586 - val_mse: 0.0368\n",
      "Epoch 61/200\n",
      "8/8 [==============================] - 0s 6ms/step - loss: 0.1704 - mse: 0.0540 - val_loss: 0.1549 - val_mse: 0.0361\n",
      "Epoch 62/200\n",
      "8/8 [==============================] - 0s 6ms/step - loss: 0.1628 - mse: 0.0392 - val_loss: 0.1661 - val_mse: 0.0433\n",
      "Epoch 63/200\n",
      "8/8 [==============================] - 0s 6ms/step - loss: 0.1823 - mse: 0.0621 - val_loss: 0.1615 - val_mse: 0.0401\n",
      "Epoch 64/200\n",
      "8/8 [==============================] - 0s 6ms/step - loss: 0.1584 - mse: 0.0418 - val_loss: 0.1454 - val_mse: 0.0324\n",
      "Epoch 65/200\n",
      "8/8 [==============================] - 0s 6ms/step - loss: 0.1984 - mse: 0.0793 - val_loss: 0.1598 - val_mse: 0.0393\n",
      "Epoch 66/200\n",
      "8/8 [==============================] - 0s 6ms/step - loss: 0.1304 - mse: 0.0334 - val_loss: 0.1389 - val_mse: 0.0293\n",
      "Epoch 67/200\n",
      "8/8 [==============================] - 0s 6ms/step - loss: 0.1727 - mse: 0.0479 - val_loss: 0.1592 - val_mse: 0.0379\n",
      "Epoch 68/200\n",
      "8/8 [==============================] - 0s 6ms/step - loss: 0.1424 - mse: 0.0352 - val_loss: 0.1511 - val_mse: 0.0322\n",
      "Epoch 69/200\n",
      "8/8 [==============================] - 0s 6ms/step - loss: 0.1567 - mse: 0.0439 - val_loss: 0.1524 - val_mse: 0.0324\n",
      "Epoch 70/200\n",
      "8/8 [==============================] - 0s 6ms/step - loss: 0.2062 - mse: 0.0566 - val_loss: 0.1662 - val_mse: 0.0416\n",
      "Epoch 71/200\n",
      "8/8 [==============================] - 0s 6ms/step - loss: 0.1797 - mse: 0.0505 - val_loss: 0.1647 - val_mse: 0.0411\n",
      "Epoch 72/200\n",
      "8/8 [==============================] - 0s 6ms/step - loss: 0.1715 - mse: 0.0578 - val_loss: 0.1488 - val_mse: 0.0331\n",
      "Epoch 73/200\n",
      "8/8 [==============================] - 0s 6ms/step - loss: 0.1616 - mse: 0.0448 - val_loss: 0.1549 - val_mse: 0.0361\n",
      "Epoch 74/200\n",
      "8/8 [==============================] - 0s 6ms/step - loss: 0.1922 - mse: 0.0650 - val_loss: 0.1698 - val_mse: 0.0446\n",
      "Epoch 75/200\n",
      "8/8 [==============================] - 0s 6ms/step - loss: 0.1857 - mse: 0.0562 - val_loss: 0.1499 - val_mse: 0.0329\n",
      "Epoch 76/200\n",
      "8/8 [==============================] - 0s 6ms/step - loss: 0.1706 - mse: 0.0463 - val_loss: 0.1496 - val_mse: 0.0324\n",
      "Epoch 77/200\n",
      "8/8 [==============================] - 0s 6ms/step - loss: 0.1767 - mse: 0.0531 - val_loss: 0.1603 - val_mse: 0.0385\n",
      "Epoch 78/200\n",
      "8/8 [==============================] - 0s 6ms/step - loss: 0.1509 - mse: 0.0362 - val_loss: 0.1548 - val_mse: 0.0361\n",
      "Epoch 79/200\n",
      "8/8 [==============================] - 0s 6ms/step - loss: 0.1323 - mse: 0.0348 - val_loss: 0.1410 - val_mse: 0.0287\n",
      "Epoch 80/200\n",
      "8/8 [==============================] - 0s 6ms/step - loss: 0.1511 - mse: 0.0355 - val_loss: 0.1416 - val_mse: 0.0304\n",
      "Epoch 81/200\n",
      "8/8 [==============================] - 0s 7ms/step - loss: 0.1565 - mse: 0.0430 - val_loss: 0.1507 - val_mse: 0.0345\n",
      "Epoch 82/200\n",
      "8/8 [==============================] - 0s 6ms/step - loss: 0.1982 - mse: 0.0682 - val_loss: 0.1501 - val_mse: 0.0341\n",
      "Epoch 83/200\n",
      "8/8 [==============================] - 0s 6ms/step - loss: 0.1530 - mse: 0.0389 - val_loss: 0.1441 - val_mse: 0.0300\n",
      "Epoch 84/200\n",
      "8/8 [==============================] - 0s 6ms/step - loss: 0.1478 - mse: 0.0333 - val_loss: 0.1506 - val_mse: 0.0339\n",
      "Epoch 85/200\n",
      "8/8 [==============================] - 0s 6ms/step - loss: 0.1592 - mse: 0.0400 - val_loss: 0.1632 - val_mse: 0.0415\n",
      "Epoch 86/200\n",
      "8/8 [==============================] - 0s 6ms/step - loss: 0.1720 - mse: 0.0504 - val_loss: 0.1482 - val_mse: 0.0321\n",
      "Epoch 87/200\n",
      "8/8 [==============================] - 0s 6ms/step - loss: 0.1688 - mse: 0.0462 - val_loss: 0.1567 - val_mse: 0.0361\n",
      "Epoch 88/200\n",
      "8/8 [==============================] - 0s 7ms/step - loss: 0.1448 - mse: 0.0358 - val_loss: 0.1604 - val_mse: 0.0376\n",
      "Epoch 89/200\n",
      "8/8 [==============================] - 0s 6ms/step - loss: 0.1347 - mse: 0.0368 - val_loss: 0.1523 - val_mse: 0.0336\n",
      "Epoch 90/200\n",
      "8/8 [==============================] - 0s 6ms/step - loss: 0.1596 - mse: 0.0399 - val_loss: 0.1614 - val_mse: 0.0396\n",
      "Epoch 91/200\n",
      "8/8 [==============================] - 0s 6ms/step - loss: 0.1415 - mse: 0.0319 - val_loss: 0.1739 - val_mse: 0.0469\n",
      "Epoch 92/200\n",
      "8/8 [==============================] - 0s 6ms/step - loss: 0.1461 - mse: 0.0357 - val_loss: 0.1692 - val_mse: 0.0434\n",
      "Epoch 93/200\n",
      "8/8 [==============================] - 0s 6ms/step - loss: 0.1771 - mse: 0.0466 - val_loss: 0.1565 - val_mse: 0.0346\n",
      "Epoch 94/200\n",
      "8/8 [==============================] - 0s 6ms/step - loss: 0.1437 - mse: 0.0328 - val_loss: 0.1753 - val_mse: 0.0487\n",
      "Epoch 95/200\n",
      "8/8 [==============================] - 0s 6ms/step - loss: 0.1707 - mse: 0.0445 - val_loss: 0.1722 - val_mse: 0.0471\n",
      "Epoch 96/200\n",
      "8/8 [==============================] - 0s 6ms/step - loss: 0.1969 - mse: 0.0604 - val_loss: 0.1515 - val_mse: 0.0339\n",
      "Epoch 97/200\n",
      "8/8 [==============================] - 0s 6ms/step - loss: 0.1243 - mse: 0.0285 - val_loss: 0.1479 - val_mse: 0.0333\n",
      "Epoch 98/200\n",
      "8/8 [==============================] - 0s 6ms/step - loss: 0.1725 - mse: 0.0598 - val_loss: 0.1872 - val_mse: 0.0573\n",
      "Epoch 99/200\n",
      "8/8 [==============================] - 0s 6ms/step - loss: 0.1387 - mse: 0.0342 - val_loss: 0.1677 - val_mse: 0.0427\n",
      "Epoch 100/200\n",
      "8/8 [==============================] - 0s 6ms/step - loss: 0.1763 - mse: 0.0440 - val_loss: 0.1490 - val_mse: 0.0309\n",
      "Epoch 101/200\n",
      "8/8 [==============================] - 0s 6ms/step - loss: 0.1426 - mse: 0.0384 - val_loss: 0.1463 - val_mse: 0.0312\n",
      "Epoch 102/200\n",
      "8/8 [==============================] - 0s 7ms/step - loss: 0.1320 - mse: 0.0325 - val_loss: 0.1719 - val_mse: 0.0477\n",
      "Epoch 103/200\n",
      "8/8 [==============================] - 0s 6ms/step - loss: 0.1867 - mse: 0.0544 - val_loss: 0.1542 - val_mse: 0.0367\n",
      "Epoch 104/200\n",
      "8/8 [==============================] - 0s 7ms/step - loss: 0.1424 - mse: 0.0317 - val_loss: 0.1343 - val_mse: 0.0264\n",
      "Epoch 105/200\n",
      "8/8 [==============================] - 0s 6ms/step - loss: 0.1669 - mse: 0.0442 - val_loss: 0.1455 - val_mse: 0.0322\n",
      "Epoch 106/200\n",
      "8/8 [==============================] - 0s 6ms/step - loss: 0.1858 - mse: 0.0590 - val_loss: 0.1586 - val_mse: 0.0383\n",
      "Epoch 107/200\n",
      "8/8 [==============================] - 0s 6ms/step - loss: 0.1434 - mse: 0.0365 - val_loss: 0.1626 - val_mse: 0.0404\n",
      "Epoch 108/200\n",
      "8/8 [==============================] - 0s 6ms/step - loss: 0.1625 - mse: 0.0492 - val_loss: 0.1451 - val_mse: 0.0315\n",
      "Epoch 109/200\n",
      "8/8 [==============================] - ETA: 0s - loss: 0.2125 - mse: 0.076 - 0s 6ms/step - loss: 0.1833 - mse: 0.0566 - val_loss: 0.1446 - val_mse: 0.0295\n",
      "Epoch 110/200\n",
      "8/8 [==============================] - 0s 6ms/step - loss: 0.1580 - mse: 0.0409 - val_loss: 0.1546 - val_mse: 0.0372\n",
      "Epoch 111/200\n",
      "8/8 [==============================] - 0s 6ms/step - loss: 0.1502 - mse: 0.0340 - val_loss: 0.1367 - val_mse: 0.0286\n",
      "Epoch 112/200\n",
      "8/8 [==============================] - 0s 6ms/step - loss: 0.1451 - mse: 0.0357 - val_loss: 0.1362 - val_mse: 0.0278\n"
     ]
    },
    {
     "name": "stdout",
     "output_type": "stream",
     "text": [
      "Epoch 113/200\n",
      "8/8 [==============================] - 0s 6ms/step - loss: 0.1586 - mse: 0.0392 - val_loss: 0.1359 - val_mse: 0.0278\n",
      "Epoch 114/200\n",
      "8/8 [==============================] - 0s 6ms/step - loss: 0.1601 - mse: 0.0402 - val_loss: 0.1450 - val_mse: 0.0331\n",
      "Epoch 115/200\n",
      "8/8 [==============================] - 0s 8ms/step - loss: 0.1458 - mse: 0.0450 - val_loss: 0.1456 - val_mse: 0.0328\n",
      "Epoch 116/200\n",
      "8/8 [==============================] - 0s 7ms/step - loss: 0.1392 - mse: 0.0316 - val_loss: 0.1365 - val_mse: 0.0269\n",
      "Epoch 117/200\n",
      "8/8 [==============================] - 0s 6ms/step - loss: 0.1582 - mse: 0.0428 - val_loss: 0.1397 - val_mse: 0.0312\n",
      "Epoch 118/200\n",
      "8/8 [==============================] - 0s 6ms/step - loss: 0.1547 - mse: 0.0396 - val_loss: 0.1794 - val_mse: 0.0511\n",
      "Epoch 119/200\n",
      "8/8 [==============================] - 0s 6ms/step - loss: 0.1691 - mse: 0.0448 - val_loss: 0.1524 - val_mse: 0.0372\n",
      "Epoch 120/200\n",
      "8/8 [==============================] - 0s 6ms/step - loss: 0.1998 - mse: 0.0575 - val_loss: 0.1468 - val_mse: 0.0331\n",
      "Epoch 121/200\n",
      "8/8 [==============================] - 0s 6ms/step - loss: 0.1602 - mse: 0.0402 - val_loss: 0.1682 - val_mse: 0.0449\n",
      "Epoch 122/200\n",
      "8/8 [==============================] - 0s 6ms/step - loss: 0.1614 - mse: 0.0475 - val_loss: 0.1623 - val_mse: 0.0402\n",
      "Epoch 123/200\n",
      "8/8 [==============================] - 0s 6ms/step - loss: 0.1357 - mse: 0.0329 - val_loss: 0.1544 - val_mse: 0.0336\n",
      "Epoch 124/200\n",
      "8/8 [==============================] - 0s 6ms/step - loss: 0.1439 - mse: 0.0326 - val_loss: 0.1585 - val_mse: 0.0387\n",
      "Epoch 125/200\n",
      "8/8 [==============================] - ETA: 0s - loss: 0.1163 - mse: 0.017 - 0s 6ms/step - loss: 0.1328 - mse: 0.0285 - val_loss: 0.1589 - val_mse: 0.0396\n",
      "Epoch 126/200\n",
      "8/8 [==============================] - 0s 6ms/step - loss: 0.1565 - mse: 0.0406 - val_loss: 0.1427 - val_mse: 0.0290\n",
      "Epoch 127/200\n",
      "8/8 [==============================] - 0s 6ms/step - loss: 0.1424 - mse: 0.0370 - val_loss: 0.1501 - val_mse: 0.0347\n",
      "Epoch 128/200\n",
      "8/8 [==============================] - 0s 6ms/step - loss: 0.1488 - mse: 0.0313 - val_loss: 0.1498 - val_mse: 0.0361\n",
      "Epoch 129/200\n",
      "8/8 [==============================] - 0s 6ms/step - loss: 0.1583 - mse: 0.0442 - val_loss: 0.1495 - val_mse: 0.0358\n",
      "Epoch 130/200\n",
      "8/8 [==============================] - 0s 6ms/step - loss: 0.1501 - mse: 0.0373 - val_loss: 0.1524 - val_mse: 0.0362\n",
      "Epoch 131/200\n",
      "8/8 [==============================] - 0s 6ms/step - loss: 0.1567 - mse: 0.0479 - val_loss: 0.1386 - val_mse: 0.0293\n",
      "Epoch 132/200\n",
      "8/8 [==============================] - 0s 6ms/step - loss: 0.1320 - mse: 0.0305 - val_loss: 0.1401 - val_mse: 0.0302\n",
      "Epoch 133/200\n",
      "8/8 [==============================] - 0s 6ms/step - loss: 0.1888 - mse: 0.0512 - val_loss: 0.1550 - val_mse: 0.0370\n",
      "Epoch 134/200\n",
      "8/8 [==============================] - 0s 6ms/step - loss: 0.1520 - mse: 0.0355 - val_loss: 0.1778 - val_mse: 0.0507\n",
      "Epoch 135/200\n",
      "8/8 [==============================] - 0s 6ms/step - loss: 0.1460 - mse: 0.0338 - val_loss: 0.1508 - val_mse: 0.0344\n",
      "Epoch 136/200\n",
      "8/8 [==============================] - 0s 6ms/step - loss: 0.1329 - mse: 0.0259 - val_loss: 0.1481 - val_mse: 0.0306\n",
      "Epoch 137/200\n",
      "8/8 [==============================] - 0s 7ms/step - loss: 0.1473 - mse: 0.0344 - val_loss: 0.1485 - val_mse: 0.0315\n",
      "Epoch 138/200\n",
      "8/8 [==============================] - 0s 7ms/step - loss: 0.1275 - mse: 0.0258 - val_loss: 0.1743 - val_mse: 0.0484\n",
      "Epoch 139/200\n",
      "8/8 [==============================] - 0s 6ms/step - loss: 0.1447 - mse: 0.0313 - val_loss: 0.1702 - val_mse: 0.0451\n",
      "Epoch 140/200\n",
      "8/8 [==============================] - 0s 6ms/step - loss: 0.1532 - mse: 0.0337 - val_loss: 0.1509 - val_mse: 0.0321\n",
      "Epoch 141/200\n",
      "8/8 [==============================] - 0s 6ms/step - loss: 0.1436 - mse: 0.0372 - val_loss: 0.1412 - val_mse: 0.0282\n",
      "Epoch 142/200\n",
      "8/8 [==============================] - 0s 6ms/step - loss: 0.1617 - mse: 0.0478 - val_loss: 0.1456 - val_mse: 0.0305\n",
      "Epoch 143/200\n",
      "8/8 [==============================] - 0s 6ms/step - loss: 0.1225 - mse: 0.0278 - val_loss: 0.1399 - val_mse: 0.0300\n",
      "Epoch 144/200\n",
      "8/8 [==============================] - 0s 6ms/step - loss: 0.1543 - mse: 0.0385 - val_loss: 0.1567 - val_mse: 0.0384\n",
      "Epoch 145/200\n",
      "8/8 [==============================] - 0s 6ms/step - loss: 0.1358 - mse: 0.0286 - val_loss: 0.1550 - val_mse: 0.0383\n",
      "Epoch 146/200\n",
      "8/8 [==============================] - 0s 6ms/step - loss: 0.1581 - mse: 0.0479 - val_loss: 0.1390 - val_mse: 0.0288\n",
      "Epoch 147/200\n",
      "8/8 [==============================] - 0s 6ms/step - loss: 0.1637 - mse: 0.0464 - val_loss: 0.1446 - val_mse: 0.0320\n",
      "Epoch 148/200\n",
      "8/8 [==============================] - 0s 6ms/step - loss: 0.1738 - mse: 0.0607 - val_loss: 0.1500 - val_mse: 0.0337\n",
      "Epoch 149/200\n",
      "8/8 [==============================] - 0s 9ms/step - loss: 0.1527 - mse: 0.0458 - val_loss: 0.1399 - val_mse: 0.0286\n",
      "Epoch 150/200\n",
      "8/8 [==============================] - 0s 8ms/step - loss: 0.1426 - mse: 0.0435 - val_loss: 0.1579 - val_mse: 0.0388\n",
      "Epoch 151/200\n",
      "8/8 [==============================] - 0s 7ms/step - loss: 0.1536 - mse: 0.0411 - val_loss: 0.1567 - val_mse: 0.0383\n",
      "Epoch 152/200\n",
      "8/8 [==============================] - 0s 6ms/step - loss: 0.1725 - mse: 0.0459 - val_loss: 0.1457 - val_mse: 0.0326\n",
      "Epoch 153/200\n",
      "8/8 [==============================] - 0s 7ms/step - loss: 0.1218 - mse: 0.0254 - val_loss: 0.1427 - val_mse: 0.0313\n",
      "Epoch 154/200\n",
      "8/8 [==============================] - 0s 6ms/step - loss: 0.1344 - mse: 0.0359 - val_loss: 0.1411 - val_mse: 0.0301\n",
      "Epoch 155/200\n",
      "8/8 [==============================] - 0s 7ms/step - loss: 0.1418 - mse: 0.0361 - val_loss: 0.1511 - val_mse: 0.0321\n",
      "Epoch 156/200\n",
      "8/8 [==============================] - 0s 8ms/step - loss: 0.1252 - mse: 0.0262 - val_loss: 0.1638 - val_mse: 0.0391\n",
      "Epoch 157/200\n",
      "8/8 [==============================] - 0s 7ms/step - loss: 0.1430 - mse: 0.0380 - val_loss: 0.1782 - val_mse: 0.0503\n",
      "Epoch 158/200\n",
      "8/8 [==============================] - 0s 7ms/step - loss: 0.1400 - mse: 0.0318 - val_loss: 0.1769 - val_mse: 0.0504\n",
      "Epoch 159/200\n",
      "8/8 [==============================] - 0s 7ms/step - loss: 0.1589 - mse: 0.0376 - val_loss: 0.1525 - val_mse: 0.0346\n",
      "Epoch 160/200\n",
      "8/8 [==============================] - 0s 7ms/step - loss: 0.1678 - mse: 0.0421 - val_loss: 0.1392 - val_mse: 0.0294\n",
      "Epoch 161/200\n",
      "8/8 [==============================] - 0s 7ms/step - loss: 0.1372 - mse: 0.0319 - val_loss: 0.1453 - val_mse: 0.0325\n",
      "Epoch 162/200\n",
      "8/8 [==============================] - 0s 7ms/step - loss: 0.1156 - mse: 0.0262 - val_loss: 0.1436 - val_mse: 0.0317\n",
      "Epoch 163/200\n",
      "8/8 [==============================] - 0s 7ms/step - loss: 0.1481 - mse: 0.0397 - val_loss: 0.1387 - val_mse: 0.0287\n",
      "Epoch 164/200\n",
      "8/8 [==============================] - 0s 7ms/step - loss: 0.1584 - mse: 0.0480 - val_loss: 0.1376 - val_mse: 0.0286\n",
      "Epoch 165/200\n",
      "8/8 [==============================] - 0s 7ms/step - loss: 0.1481 - mse: 0.0355 - val_loss: 0.1722 - val_mse: 0.0470\n",
      "Epoch 166/200\n",
      "8/8 [==============================] - 0s 7ms/step - loss: 0.1279 - mse: 0.0267 - val_loss: 0.1571 - val_mse: 0.0383\n",
      "Epoch 167/200\n",
      "8/8 [==============================] - 0s 6ms/step - loss: 0.1455 - mse: 0.0315 - val_loss: 0.1403 - val_mse: 0.0297\n",
      "Epoch 168/200\n",
      "8/8 [==============================] - 0s 6ms/step - loss: 0.1404 - mse: 0.0355 - val_loss: 0.1455 - val_mse: 0.0302\n",
      "Epoch 169/200\n",
      "8/8 [==============================] - 0s 7ms/step - loss: 0.1664 - mse: 0.0458 - val_loss: 0.1596 - val_mse: 0.0365\n",
      "Epoch 170/200\n",
      "8/8 [==============================] - 0s 7ms/step - loss: 0.1507 - mse: 0.0365 - val_loss: 0.1428 - val_mse: 0.0298\n",
      "Epoch 171/200\n",
      "8/8 [==============================] - 0s 7ms/step - loss: 0.1637 - mse: 0.0545 - val_loss: 0.1422 - val_mse: 0.0316\n",
      "Epoch 172/200\n",
      "8/8 [==============================] - 0s 7ms/step - loss: 0.1434 - mse: 0.0458 - val_loss: 0.1400 - val_mse: 0.0299\n",
      "Epoch 173/200\n",
      "8/8 [==============================] - 0s 7ms/step - loss: 0.1588 - mse: 0.0450 - val_loss: 0.1400 - val_mse: 0.0291\n",
      "Epoch 174/200\n",
      "8/8 [==============================] - 0s 6ms/step - loss: 0.1314 - mse: 0.0345 - val_loss: 0.1429 - val_mse: 0.0323\n",
      "Epoch 175/200\n"
     ]
    },
    {
     "name": "stdout",
     "output_type": "stream",
     "text": [
      "8/8 [==============================] - 0s 6ms/step - loss: 0.1515 - mse: 0.0362 - val_loss: 0.1429 - val_mse: 0.0299\n",
      "Epoch 176/200\n",
      "8/8 [==============================] - 0s 7ms/step - loss: 0.1252 - mse: 0.0260 - val_loss: 0.1379 - val_mse: 0.0284\n",
      "Epoch 177/200\n",
      "8/8 [==============================] - 0s 6ms/step - loss: 0.1628 - mse: 0.0408 - val_loss: 0.1374 - val_mse: 0.0286\n",
      "Epoch 178/200\n",
      "8/8 [==============================] - 0s 7ms/step - loss: 0.1643 - mse: 0.0375 - val_loss: 0.1469 - val_mse: 0.0333\n",
      "Epoch 179/200\n",
      "8/8 [==============================] - 0s 6ms/step - loss: 0.1451 - mse: 0.0415 - val_loss: 0.1636 - val_mse: 0.0408\n",
      "Epoch 180/200\n",
      "8/8 [==============================] - ETA: 0s - loss: 0.1618 - mse: 0.053 - 0s 6ms/step - loss: 0.1430 - mse: 0.0403 - val_loss: 0.1531 - val_mse: 0.0354\n",
      "Epoch 181/200\n",
      "8/8 [==============================] - 0s 6ms/step - loss: 0.1283 - mse: 0.0345 - val_loss: 0.1460 - val_mse: 0.0334\n",
      "Epoch 182/200\n",
      "8/8 [==============================] - 0s 7ms/step - loss: 0.1433 - mse: 0.0324 - val_loss: 0.1351 - val_mse: 0.0282\n",
      "Epoch 183/200\n",
      "8/8 [==============================] - 0s 6ms/step - loss: 0.1244 - mse: 0.0268 - val_loss: 0.1428 - val_mse: 0.0323\n",
      "Epoch 184/200\n",
      "8/8 [==============================] - 0s 6ms/step - loss: 0.1232 - mse: 0.0258 - val_loss: 0.1631 - val_mse: 0.0412\n",
      "Epoch 185/200\n",
      "8/8 [==============================] - 0s 6ms/step - loss: 0.1398 - mse: 0.0335 - val_loss: 0.1524 - val_mse: 0.0333\n",
      "Epoch 186/200\n",
      "8/8 [==============================] - 0s 6ms/step - loss: 0.1363 - mse: 0.0338 - val_loss: 0.1497 - val_mse: 0.0317\n",
      "Epoch 187/200\n",
      "8/8 [==============================] - 0s 6ms/step - loss: 0.1293 - mse: 0.0329 - val_loss: 0.1545 - val_mse: 0.0355\n",
      "Epoch 188/200\n",
      "8/8 [==============================] - 0s 6ms/step - loss: 0.1613 - mse: 0.0406 - val_loss: 0.1571 - val_mse: 0.0372\n",
      "Epoch 189/200\n",
      "8/8 [==============================] - 0s 6ms/step - loss: 0.1655 - mse: 0.0376 - val_loss: 0.1381 - val_mse: 0.0281\n",
      "Epoch 190/200\n",
      "8/8 [==============================] - 0s 6ms/step - loss: 0.1619 - mse: 0.0448 - val_loss: 0.1471 - val_mse: 0.0321\n",
      "Epoch 191/200\n",
      "8/8 [==============================] - 0s 6ms/step - loss: 0.1603 - mse: 0.0428 - val_loss: 0.1862 - val_mse: 0.0558\n",
      "Epoch 192/200\n",
      "8/8 [==============================] - 0s 6ms/step - loss: 0.1756 - mse: 0.0441 - val_loss: 0.1497 - val_mse: 0.0328\n",
      "Epoch 193/200\n",
      "8/8 [==============================] - 0s 7ms/step - loss: 0.1451 - mse: 0.0358 - val_loss: 0.1445 - val_mse: 0.0336\n",
      "Epoch 194/200\n",
      "8/8 [==============================] - 0s 6ms/step - loss: 0.1595 - mse: 0.0447 - val_loss: 0.1483 - val_mse: 0.0313\n",
      "Epoch 195/200\n",
      "8/8 [==============================] - 0s 6ms/step - loss: 0.1517 - mse: 0.0411 - val_loss: 0.1421 - val_mse: 0.0302\n",
      "Epoch 196/200\n",
      "8/8 [==============================] - 0s 7ms/step - loss: 0.1710 - mse: 0.0476 - val_loss: 0.1537 - val_mse: 0.0353\n",
      "Epoch 197/200\n",
      "8/8 [==============================] - 0s 7ms/step - loss: 0.1127 - mse: 0.0251 - val_loss: 0.1638 - val_mse: 0.0412\n",
      "Epoch 198/200\n",
      "8/8 [==============================] - 0s 6ms/step - loss: 0.1300 - mse: 0.0296 - val_loss: 0.1512 - val_mse: 0.0334\n",
      "Epoch 199/200\n",
      "8/8 [==============================] - 0s 6ms/step - loss: 0.1519 - mse: 0.0392 - val_loss: 0.1545 - val_mse: 0.0357\n",
      "Epoch 200/200\n",
      "8/8 [==============================] - 0s 6ms/step - loss: 0.1316 - mse: 0.0335 - val_loss: 0.1596 - val_mse: 0.0390\n"
     ]
    }
   ],
   "source": [
    "EPOCHS=200\n",
    "\n",
    "model = crear_modeloFF()\n",
    "\n",
    "history=model.fit(trainX,y_train,epochs=EPOCHS,validation_data=(testX,y_val),batch_size=look_back)"
   ]
  },
  {
   "cell_type": "markdown",
   "metadata": {},
   "source": [
    "# Visualizamos resultados"
   ]
  },
  {
   "cell_type": "code",
   "execution_count": 19,
   "metadata": {},
   "outputs": [],
   "source": [
    "def mape(actual, pred): \n",
    "    actual, pred = np.array(actual), np.array(pred)\n",
    "    return np.mean(np.abs((actual - pred) / actual)) * 100\n",
    "\n",
    "\n",
    "def compute_metrics_fn(y_valid_resc, y_hat_resc):\n",
    "    mae_ = mean_absolute_error(y_valid_resc, y_hat_resc)\n",
    "    mse_ = mean_squared_error(y_valid_resc, y_hat_resc)\n",
    "    rmse_ = mean_squared_error(y_valid_resc, y_hat_resc, squared = False)\n",
    "    cvrmse_ = rmse_/np.mean(y_valid_resc)*100\n",
    "    mape_ = mape(y_valid_resc, y_hat_resc)\n",
    "    \n",
    "    return mae_, mse_, rmse_, cvrmse_, mape_"
   ]
  },
  {
   "cell_type": "code",
   "execution_count": 20,
   "metadata": {},
   "outputs": [
    {
     "name": "stdout",
     "output_type": "stream",
     "text": [
      "WARNING:tensorflow:Model was constructed with shape (None, 1, 7) for input KerasTensor(type_spec=TensorSpec(shape=(None, 1, 7), dtype=tf.float32, name='dense_input'), name='dense_input', description=\"created by layer 'dense_input'\"), but it was called on an input with incompatible shape (None, 7).\n"
     ]
    }
   ],
   "source": [
    "# hacemos las predicciones\n",
    "trainPredict = model.predict(x_train)\n",
    "testPredict = model.predict(x_val)\n",
    "\n",
    "# invertimos las predicciones\n",
    "trainPredict = scaler.inverse_transform(trainPredict)\n",
    "trainY = y_train.reshape(y_train.shape[0], 1)\n",
    "trainY_scalerInverse = scaler.inverse_transform(trainY)\n",
    "testPredict = scaler.inverse_transform(testPredict)\n",
    "testY = y_val.reshape(y_val.shape[0], 1)\n",
    "testY_scalerInverse = scaler.inverse_transform(testY)"
   ]
  },
  {
   "cell_type": "code",
   "execution_count": 21,
   "metadata": {},
   "outputs": [
    {
     "name": "stdout",
     "output_type": "stream",
     "text": [
      "Resultado del entrenamiento: 2840.31 MAE\n",
      "Resultado del entrenamiento: 15573952.00 MSE\n",
      "Resultado del entrenamiento: 3946.38 RMSE\n",
      "Resultado del entrenamiento: 14.86 CVRMSE\n",
      "Resultado del entrenamiento: 12.71 MAPE \n",
      "\n",
      "Resultado del test: 3625.01 MAE\n",
      "Resultado del test: 20122360.00 MSE\n",
      "Resultado del test: 4485.80 RMSE\n",
      "Resultado del test: 9.50 CVRMSE\n",
      "Resultado del test: 8.43 MAPE\n"
     ]
    }
   ],
   "source": [
    "# calculamos las metricas de error\n",
    "trainScore_MAE, trainScore_MSE, trainScore_RMSE, trainScore_CVRMSE, trainScore_MAPE  =  compute_metrics_fn(trainY_scalerInverse, trainPredict)\n",
    "print('Resultado del entrenamiento: %.2f MAE' % (trainScore_MAE))\n",
    "print('Resultado del entrenamiento: %.2f MSE' % (trainScore_MSE))\n",
    "print('Resultado del entrenamiento: %.2f RMSE' % (trainScore_RMSE))\n",
    "print('Resultado del entrenamiento: %.2f CVRMSE' % (trainScore_CVRMSE))\n",
    "print('Resultado del entrenamiento: %.2f MAPE \\n' % (trainScore_MAPE))\n",
    "\n",
    "testScore_MAE, testScore_MSE, testScore_RMSE, testScore_CVRMSE, testScore_MAPE  =  compute_metrics_fn(testY_scalerInverse, testPredict)\n",
    "print('Resultado del test: %.2f MAE' % (testScore_MAE))\n",
    "print('Resultado del test: %.2f MSE' % (testScore_MSE))\n",
    "print('Resultado del test: %.2f RMSE' % (testScore_RMSE))\n",
    "print('Resultado del test: %.2f CVRMSE' % (testScore_CVRMSE))\n",
    "print('Resultado del test: %.2f MAPE' % (testScore_MAPE))"
   ]
  },
  {
   "cell_type": "code",
   "execution_count": 22,
   "metadata": {},
   "outputs": [
    {
     "data": {
      "image/png": "[encoded data removed]",
      "text/plain": [
       "<Figure size 432x288 with 1 Axes>"
      ]
     },
     "metadata": {
      "needs_background": "light"
     },
     "output_type": "display_data"
    }
   ],
   "source": [
    "plt.plot(df.values)\n",
    "plt.grid(True)\n",
    "plt.title(\"Viajes totales según el INE\", fontsize = 15)\n",
    "plt.xlabel(\"Tiempo (dias)\", fontsize = 10)\n",
    "plt.ylabel(\"viajes (en miles)\", fontsize = 10)\n",
    "plt.show()"
   ]
  },
  {
   "cell_type": "code",
   "execution_count": 23,
   "metadata": {},
   "outputs": [
    {
     "data": {
      "image/png": "[encoded data removed]",
      "text/plain": [
       "<Figure size 432x288 with 1 Axes>"
      ]
     },
     "metadata": {
      "needs_background": "light"
     },
     "output_type": "display_data"
    }
   ],
   "source": [
    "dataset = df.values\n",
    "dataset = dataset.astype('float32')\n",
    "# predicciones del entrenamiento de cambio para plotear\n",
    "trainPredictPlot = np.empty_like(dataset)\n",
    "trainPredictPlot[:, :] = np.nan\n",
    "trainPredictPlot[look_back:len(trainPredict)+look_back, :] = trainPredict\n",
    "# predicciones del test de cambio para plotear\n",
    "testPredictPlot = np.empty_like(dataset)\n",
    "testPredictPlot[:, :] = np.nan\n",
    "testPredictPlot[len(trainPredict)+(look_back):len(dataset), :] = testPredict\n",
    "# plot baseline and predictions\n",
    "plt.plot(df.values)\n",
    "# ploteamos linea base y predicciones\n",
    "plt.plot(trainPredictPlot,'r', linewidth = 2)\n",
    "plt.plot(testPredictPlot,'m', linewidth = 2)\n",
    "plt.legend( ('Datos', 'Prediccion datos entramiento', 'Prediccion sobre los datos de test'), loc = 'upper left')\n",
    "plt.grid(True)\n",
    "plt.title(\"Viajes totales\", fontsize = 15)\n",
    "plt.xlabel(\"Tiempo (dias)\", fontsize = 10)\n",
    "plt.ylabel(\"viajes (en miles)\", fontsize = 10)\n",
    "plt.show()"
   ]
  },
  {
   "cell_type": "code",
   "execution_count": 24,
   "metadata": {},
   "outputs": [
    {
     "data": {
      "image/png": "[encoded data removed]",
      "text/plain": [
       "<Figure size 432x288 with 1 Axes>"
      ]
     },
     "metadata": {
      "needs_background": "light"
     },
     "output_type": "display_data"
    }
   ],
   "source": [
    "results=model.predict(x_val)\n",
    "\n",
    "plt.scatter(range(len(y_val)),y_val,c='g')\n",
    "plt.scatter(range(len(results)),results,c='r')\n",
    "plt.title('validate')\n",
    "plt.xlabel(\"Tiempo (dias)\", fontsize = 10)\n",
    "plt.ylabel(\"viajes (en miles)\", fontsize = 10)\n",
    "plt.show()"
   ]
  },
  {
   "cell_type": "code",
   "execution_count": 25,
   "metadata": {},
   "outputs": [
    {
     "data": {
      "image/png": "[encoded data removed]",
      "text/plain": [
       "<Figure size 432x288 with 1 Axes>"
      ]
     },
     "metadata": {
      "needs_background": "light"
     },
     "output_type": "display_data"
    }
   ],
   "source": [
    "plt.plot(history.history['loss'])\n",
    "plt.plot(history.history['val_loss'])\n",
    "plt.title('loss')\n",
    "plt.legend( ('training loss', 'validate loss'), loc = 'upper right')\n",
    "plt.show()"
   ]
  },
  {
   "cell_type": "markdown",
   "metadata": {},
   "source": [
    "# Prediccion a futuro"
   ]
  },
  {
   "cell_type": "code",
   "execution_count": 26,
   "metadata": {},
   "outputs": [
    {
     "data": {
      "text/html": [
       "<div>\n",
       "<style scoped>\n",
       "    .dataframe tbody tr th:only-of-type {\n",
       "        vertical-align: middle;\n",
       "    }\n",
       "\n",
       "    .dataframe tbody tr th {\n",
       "        vertical-align: top;\n",
       "    }\n",
       "\n",
       "    .dataframe thead th {\n",
       "        text-align: right;\n",
       "    }\n",
       "</style>\n",
       "<table border=\"1\" class=\"dataframe\">\n",
       "  <thead>\n",
       "    <tr style=\"text-align: right;\">\n",
       "      <th></th>\n",
       "      <th>Viajes</th>\n",
       "    </tr>\n",
       "  </thead>\n",
       "  <tbody>\n",
       "    <tr>\n",
       "      <th>2020-06-07</th>\n",
       "      <td>30490</td>\n",
       "    </tr>\n",
       "    <tr>\n",
       "      <th>2020-06-08</th>\n",
       "      <td>43136</td>\n",
       "    </tr>\n",
       "    <tr>\n",
       "      <th>2020-06-09</th>\n",
       "      <td>41698</td>\n",
       "    </tr>\n",
       "    <tr>\n",
       "      <th>2020-06-10</th>\n",
       "      <td>52941</td>\n",
       "    </tr>\n",
       "    <tr>\n",
       "      <th>2020-06-11</th>\n",
       "      <td>53023</td>\n",
       "    </tr>\n",
       "    <tr>\n",
       "      <th>2020-06-12</th>\n",
       "      <td>51677</td>\n",
       "    </tr>\n",
       "    <tr>\n",
       "      <th>2020-06-13</th>\n",
       "      <td>42811</td>\n",
       "    </tr>\n",
       "    <tr>\n",
       "      <th>2020-06-14</th>\n",
       "      <td>36064</td>\n",
       "    </tr>\n",
       "    <tr>\n",
       "      <th>2020-06-15</th>\n",
       "      <td>50699</td>\n",
       "    </tr>\n",
       "    <tr>\n",
       "      <th>2020-06-16</th>\n",
       "      <td>53129</td>\n",
       "    </tr>\n",
       "    <tr>\n",
       "      <th>2020-06-17</th>\n",
       "      <td>53684</td>\n",
       "    </tr>\n",
       "    <tr>\n",
       "      <th>2020-06-18</th>\n",
       "      <td>53800</td>\n",
       "    </tr>\n",
       "    <tr>\n",
       "      <th>2020-06-19</th>\n",
       "      <td>55828</td>\n",
       "    </tr>\n",
       "    <tr>\n",
       "      <th>2020-06-20</th>\n",
       "      <td>46142</td>\n",
       "    </tr>\n",
       "  </tbody>\n",
       "</table>\n",
       "</div>"
      ],
      "text/plain": [
       "            Viajes\n",
       "2020-06-07   30490\n",
       "2020-06-08   43136\n",
       "2020-06-09   41698\n",
       "2020-06-10   52941\n",
       "2020-06-11   53023\n",
       "2020-06-12   51677\n",
       "2020-06-13   42811\n",
       "2020-06-14   36064\n",
       "2020-06-15   50699\n",
       "2020-06-16   53129\n",
       "2020-06-17   53684\n",
       "2020-06-18   53800\n",
       "2020-06-19   55828\n",
       "2020-06-20   46142"
      ]
     },
     "execution_count": 26,
     "metadata": {},
     "output_type": "execute_result"
    }
   ],
   "source": [
    "# usaremos los 14 ultimos dias del confinamiento en junio para predecir como habrian sido los dias del 21 al 27 en caso de que\n",
    "# el confinamiento se hubiese alargado por una semana mas\n",
    "\n",
    "ultimosDias = df['2020-6-7':'2020-6-20']\n",
    "ultimosDias"
   ]
  },
  {
   "cell_type": "markdown",
   "metadata": {},
   "source": [
    "# Preparamos los datos para el test"
   ]
  },
  {
   "cell_type": "code",
   "execution_count": 27,
   "metadata": {},
   "outputs": [
    {
     "data": {
      "text/html": [
       "<div>\n",
       "<style scoped>\n",
       "    .dataframe tbody tr th:only-of-type {\n",
       "        vertical-align: middle;\n",
       "    }\n",
       "\n",
       "    .dataframe tbody tr th {\n",
       "        vertical-align: top;\n",
       "    }\n",
       "\n",
       "    .dataframe thead th {\n",
       "        text-align: right;\n",
       "    }\n",
       "</style>\n",
       "<table border=\"1\" class=\"dataframe\">\n",
       "  <thead>\n",
       "    <tr style=\"text-align: right;\">\n",
       "      <th></th>\n",
       "      <th>var1(t-7)</th>\n",
       "      <th>var1(t-6)</th>\n",
       "      <th>var1(t-5)</th>\n",
       "      <th>var1(t-4)</th>\n",
       "      <th>var1(t-3)</th>\n",
       "      <th>var1(t-2)</th>\n",
       "      <th>var1(t-1)</th>\n",
       "    </tr>\n",
       "  </thead>\n",
       "  <tbody>\n",
       "    <tr>\n",
       "      <th>7</th>\n",
       "      <td>-1.000000</td>\n",
       "      <td>-0.001815</td>\n",
       "      <td>-0.115321</td>\n",
       "      <td>0.772121</td>\n",
       "      <td>0.778593</td>\n",
       "      <td>0.672350</td>\n",
       "      <td>-0.027468</td>\n",
       "    </tr>\n",
       "    <tr>\n",
       "      <th>8</th>\n",
       "      <td>-0.001815</td>\n",
       "      <td>-0.115321</td>\n",
       "      <td>0.772121</td>\n",
       "      <td>0.778593</td>\n",
       "      <td>0.672350</td>\n",
       "      <td>-0.027468</td>\n",
       "      <td>-0.560028</td>\n",
       "    </tr>\n",
       "    <tr>\n",
       "      <th>9</th>\n",
       "      <td>-0.115321</td>\n",
       "      <td>0.772121</td>\n",
       "      <td>0.778593</td>\n",
       "      <td>0.672350</td>\n",
       "      <td>-0.027468</td>\n",
       "      <td>-0.560028</td>\n",
       "      <td>0.595154</td>\n",
       "    </tr>\n",
       "    <tr>\n",
       "      <th>10</th>\n",
       "      <td>0.772121</td>\n",
       "      <td>0.778593</td>\n",
       "      <td>0.672350</td>\n",
       "      <td>-0.027468</td>\n",
       "      <td>-0.560028</td>\n",
       "      <td>0.595154</td>\n",
       "      <td>0.786960</td>\n",
       "    </tr>\n",
       "    <tr>\n",
       "      <th>11</th>\n",
       "      <td>0.778593</td>\n",
       "      <td>0.672350</td>\n",
       "      <td>-0.027468</td>\n",
       "      <td>-0.560028</td>\n",
       "      <td>0.595154</td>\n",
       "      <td>0.786960</td>\n",
       "      <td>0.830768</td>\n",
       "    </tr>\n",
       "    <tr>\n",
       "      <th>12</th>\n",
       "      <td>0.672350</td>\n",
       "      <td>-0.027468</td>\n",
       "      <td>-0.560028</td>\n",
       "      <td>0.595154</td>\n",
       "      <td>0.786960</td>\n",
       "      <td>0.830768</td>\n",
       "      <td>0.839924</td>\n",
       "    </tr>\n",
       "    <tr>\n",
       "      <th>13</th>\n",
       "      <td>-0.027468</td>\n",
       "      <td>-0.560028</td>\n",
       "      <td>0.595154</td>\n",
       "      <td>0.786960</td>\n",
       "      <td>0.830768</td>\n",
       "      <td>0.839924</td>\n",
       "      <td>1.000000</td>\n",
       "    </tr>\n",
       "  </tbody>\n",
       "</table>\n",
       "</div>"
      ],
      "text/plain": [
       "    var1(t-7)  var1(t-6)  var1(t-5)  var1(t-4)  var1(t-3)  var1(t-2)  \\\n",
       "7   -1.000000  -0.001815  -0.115321   0.772121   0.778593   0.672350   \n",
       "8   -0.001815  -0.115321   0.772121   0.778593   0.672350  -0.027468   \n",
       "9   -0.115321   0.772121   0.778593   0.672350  -0.027468  -0.560028   \n",
       "10   0.772121   0.778593   0.672350  -0.027468  -0.560028   0.595154   \n",
       "11   0.778593   0.672350  -0.027468  -0.560028   0.595154   0.786960   \n",
       "12   0.672350  -0.027468  -0.560028   0.595154   0.786960   0.830768   \n",
       "13  -0.027468  -0.560028   0.595154   0.786960   0.830768   0.839924   \n",
       "\n",
       "    var1(t-1)  \n",
       "7   -0.027468  \n",
       "8   -0.560028  \n",
       "9    0.595154  \n",
       "10   0.786960  \n",
       "11   0.830768  \n",
       "12   0.839924  \n",
       "13   1.000000  "
      ]
     },
     "execution_count": 27,
     "metadata": {},
     "output_type": "execute_result"
    }
   ],
   "source": [
    "# cargamos el dataframe en la variable values\n",
    "values = ultimosDias.values\n",
    "\n",
    "# convertimos los enteros en floats\n",
    "values = values.astype('float32')\n",
    "\n",
    "# normalizamos los datos a escala de entre -1 y 1\n",
    "values=values.reshape(-1, 1) # esto lo hacemos porque tenemos 1 sola dimension\n",
    "scaled = scaler.fit_transform(values)\n",
    "\n",
    "# usamos la funcion definida previamente\n",
    "reframed = series_to_supervised(scaled, look_back, 1)\n",
    "\n",
    "# eliminamos la ultima columna pues es parte de lo que queremos hayar\n",
    "reframed.drop(reframed.columns[[7]], inplace=True, axis=1)\n",
    "reframed.head(7)"
   ]
  },
  {
   "cell_type": "code",
   "execution_count": 28,
   "metadata": {},
   "outputs": [
    {
     "name": "stdout",
     "output_type": "stream",
     "text": [
      "(1, 1, 7)\n"
     ]
    },
    {
     "data": {
      "text/plain": [
       "array([[[-0.02746844, -0.5600283 ,  0.59515357,  0.78696036,\n",
       "          0.83076787,  0.8399241 ,  1.0000002 ]]], dtype=float32)"
      ]
     },
     "execution_count": 28,
     "metadata": {},
     "output_type": "execute_result"
    }
   ],
   "source": [
    "values = reframed.values\n",
    "\n",
    "#tomamos los valores para realizar el test\n",
    "x_test = values[6:, :]\n",
    "\n",
    "# reshape input to be 3D [samples, timesteps, features]\n",
    "x_test = x_test.reshape((x_test.shape[0], 1, x_test.shape[1]))\n",
    "print(x_test.shape)\n",
    "x_test"
   ]
  },
  {
   "cell_type": "code",
   "execution_count": 29,
   "metadata": {},
   "outputs": [],
   "source": [
    "#definimos la funcion para realizar el desplazamiento que se hara en el array cada prediccion pues para hacer\n",
    "#la siguiente prediccion eliminamos el dia mas antiguo, desplazamos un lugar el resto de dias y añadimos el ultimo dia que\n",
    "#se ha predecido, esto es por que para predecir un dia se usan los 7 dias previos\n",
    "\n",
    "def agregarNuevoValor(x_test,nuevoValor):\n",
    "    for i in range(x_test.shape[2]-1):\n",
    "        x_test[0][0][i] = x_test[0][0][i+1]\n",
    "    x_test[0][0][x_test.shape[2]-1]=nuevoValor\n",
    "    return x_test"
   ]
  },
  {
   "cell_type": "markdown",
   "metadata": {},
   "source": [
    "# Predicciones para la proxima semana"
   ]
  },
  {
   "cell_type": "code",
   "execution_count": 30,
   "metadata": {},
   "outputs": [
    {
     "name": "stdout",
     "output_type": "stream",
     "text": [
      "[[[-0.02746844 -0.5600283   0.59515357  0.78696036  0.83076787\n",
      "    0.8399241   1.0000002 ]]]\n",
      "[[[-0.5600283   0.59515357  0.78696036  0.83076787  0.8399241\n",
      "    1.0000002   0.4678515 ]]]\n",
      "[[[ 0.59515357  0.78696036  0.83076787  0.8399241   1.0000002\n",
      "    0.4678515  -0.06825192]]]\n",
      "[[[ 0.78696036  0.83076787  0.8399241   1.0000002   0.4678515\n",
      "   -0.06825192  0.6839959 ]]]\n",
      "[[[ 0.83076787  0.8399241   1.0000002   0.4678515  -0.06825192\n",
      "    0.6839959   0.8676207 ]]]\n",
      "[[[ 0.8399241   1.0000002   0.4678515  -0.06825192  0.6839959\n",
      "    0.8676207   0.86606824]]]\n",
      "[[[ 1.0000002   0.4678515  -0.06825192  0.6839959   0.8676207\n",
      "    0.86606824  0.87520045]]]\n"
     ]
    }
   ],
   "source": [
    "results=[]\n",
    "for i in range(7):\n",
    "    parcial=model.predict(x_test)\n",
    "    results.append(parcial[0])\n",
    "    print(x_test)\n",
    "    x_test=agregarNuevoValor(x_test,parcial[0])"
   ]
  },
  {
   "cell_type": "markdown",
   "metadata": {},
   "source": [
    "# Re-Convertimos los resultados"
   ]
  },
  {
   "cell_type": "code",
   "execution_count": 31,
   "metadata": {},
   "outputs": [
    {
     "name": "stdout",
     "output_type": "stream",
     "text": [
      "[array([0.4678515], dtype=float32), array([-0.06825192], dtype=float32), array([0.6839959], dtype=float32), array([0.8676207], dtype=float32), array([0.86606824], dtype=float32), array([0.87520045], dtype=float32), array([0.87902147], dtype=float32)]\n"
     ]
    },
    {
     "data": {
      "text/plain": [
       "array([[49086.20956607],\n",
       "       [42294.31534123],\n",
       "       [51824.54320633],\n",
       "       [54150.88591222],\n",
       "       [54131.21776328],\n",
       "       [54246.91368984],\n",
       "       [54295.32213474]])"
      ]
     },
     "execution_count": 31,
     "metadata": {},
     "output_type": "execute_result"
    }
   ],
   "source": [
    "adimen = [x for x in results]    \n",
    "print(adimen)\n",
    "inverted = scaler.inverse_transform(adimen)\n",
    "inverted"
   ]
  },
  {
   "cell_type": "markdown",
   "metadata": {},
   "source": [
    "# Visualizamos el pronostico"
   ]
  },
  {
   "cell_type": "code",
   "execution_count": 32,
   "metadata": {},
   "outputs": [
    {
     "data": {
      "text/plain": [
       "<AxesSubplot:>"
      ]
     },
     "execution_count": 32,
     "metadata": {},
     "output_type": "execute_result"
    },
    {
     "data": {
      "image/png": "[encoded data removed]",
      "text/plain": [
       "<Figure size 432x288 with 1 Axes>"
      ]
     },
     "metadata": {
      "needs_background": "light"
     },
     "output_type": "display_data"
    }
   ],
   "source": [
    "prediccion = pd.DataFrame(inverted)\n",
    "prediccion.columns = ['pronostico']\n",
    "prediccion.plot()"
   ]
  },
  {
   "cell_type": "markdown",
   "metadata": {},
   "source": [
    "# Prediccion con datos actuales"
   ]
  },
  {
   "cell_type": "code",
   "execution_count": 33,
   "metadata": {},
   "outputs": [
    {
     "data": {
      "text/html": [
       "<div>\n",
       "<style scoped>\n",
       "    .dataframe tbody tr th:only-of-type {\n",
       "        vertical-align: middle;\n",
       "    }\n",
       "\n",
       "    .dataframe tbody tr th {\n",
       "        vertical-align: top;\n",
       "    }\n",
       "\n",
       "    .dataframe thead th {\n",
       "        text-align: right;\n",
       "    }\n",
       "</style>\n",
       "<table border=\"1\" class=\"dataframe\">\n",
       "  <thead>\n",
       "    <tr style=\"text-align: right;\">\n",
       "      <th></th>\n",
       "      <th>Viajes</th>\n",
       "    </tr>\n",
       "  </thead>\n",
       "  <tbody>\n",
       "    <tr>\n",
       "      <th>2020-05-11</th>\n",
       "      <td>31864</td>\n",
       "    </tr>\n",
       "    <tr>\n",
       "      <th>2020-05-12</th>\n",
       "      <td>35389</td>\n",
       "    </tr>\n",
       "    <tr>\n",
       "      <th>2020-05-13</th>\n",
       "      <td>35472</td>\n",
       "    </tr>\n",
       "    <tr>\n",
       "      <th>2020-05-14</th>\n",
       "      <td>34340</td>\n",
       "    </tr>\n",
       "    <tr>\n",
       "      <th>2020-05-15</th>\n",
       "      <td>34073</td>\n",
       "    </tr>\n",
       "    <tr>\n",
       "      <th>2020-05-16</th>\n",
       "      <td>21471</td>\n",
       "    </tr>\n",
       "    <tr>\n",
       "      <th>2020-05-17</th>\n",
       "      <td>17975</td>\n",
       "    </tr>\n",
       "    <tr>\n",
       "      <th>2020-05-18</th>\n",
       "      <td>38016</td>\n",
       "    </tr>\n",
       "    <tr>\n",
       "      <th>2020-05-19</th>\n",
       "      <td>41277</td>\n",
       "    </tr>\n",
       "    <tr>\n",
       "      <th>2020-05-20</th>\n",
       "      <td>41436</td>\n",
       "    </tr>\n",
       "    <tr>\n",
       "      <th>2020-05-21</th>\n",
       "      <td>41440</td>\n",
       "    </tr>\n",
       "    <tr>\n",
       "      <th>2020-05-22</th>\n",
       "      <td>41823</td>\n",
       "    </tr>\n",
       "    <tr>\n",
       "      <th>2020-05-23</th>\n",
       "      <td>31577</td>\n",
       "    </tr>\n",
       "    <tr>\n",
       "      <th>2020-05-24</th>\n",
       "      <td>26132</td>\n",
       "    </tr>\n",
       "  </tbody>\n",
       "</table>\n",
       "</div>"
      ],
      "text/plain": [
       "            Viajes\n",
       "2020-05-11   31864\n",
       "2020-05-12   35389\n",
       "2020-05-13   35472\n",
       "2020-05-14   34340\n",
       "2020-05-15   34073\n",
       "2020-05-16   21471\n",
       "2020-05-17   17975\n",
       "2020-05-18   38016\n",
       "2020-05-19   41277\n",
       "2020-05-20   41436\n",
       "2020-05-21   41440\n",
       "2020-05-22   41823\n",
       "2020-05-23   31577\n",
       "2020-05-24   26132"
      ]
     },
     "execution_count": 33,
     "metadata": {},
     "output_type": "execute_result"
    }
   ],
   "source": [
    "# usaremos 14 dias que poseemos para predecir los 7 dias siguientes tras esto compararemos los resultados con los que\n",
    "# poseemos para ver el grado de error\n",
    "\n",
    "Dias = df['2020-5-11':'2020-5-24']\n",
    "Dias"
   ]
  },
  {
   "cell_type": "markdown",
   "metadata": {},
   "source": [
    "# Preparamos los datos para el test"
   ]
  },
  {
   "cell_type": "code",
   "execution_count": 34,
   "metadata": {},
   "outputs": [
    {
     "data": {
      "text/html": [
       "<div>\n",
       "<style scoped>\n",
       "    .dataframe tbody tr th:only-of-type {\n",
       "        vertical-align: middle;\n",
       "    }\n",
       "\n",
       "    .dataframe tbody tr th {\n",
       "        vertical-align: top;\n",
       "    }\n",
       "\n",
       "    .dataframe thead th {\n",
       "        text-align: right;\n",
       "    }\n",
       "</style>\n",
       "<table border=\"1\" class=\"dataframe\">\n",
       "  <thead>\n",
       "    <tr style=\"text-align: right;\">\n",
       "      <th></th>\n",
       "      <th>var1(t-7)</th>\n",
       "      <th>var1(t-6)</th>\n",
       "      <th>var1(t-5)</th>\n",
       "      <th>var1(t-4)</th>\n",
       "      <th>var1(t-3)</th>\n",
       "      <th>var1(t-2)</th>\n",
       "      <th>var1(t-1)</th>\n",
       "    </tr>\n",
       "  </thead>\n",
       "  <tbody>\n",
       "    <tr>\n",
       "      <th>7</th>\n",
       "      <td>0.164794</td>\n",
       "      <td>0.460416</td>\n",
       "      <td>0.467377</td>\n",
       "      <td>0.372442</td>\n",
       "      <td>0.350050</td>\n",
       "      <td>-0.706810</td>\n",
       "      <td>-1.000000</td>\n",
       "    </tr>\n",
       "    <tr>\n",
       "      <th>8</th>\n",
       "      <td>0.460416</td>\n",
       "      <td>0.467377</td>\n",
       "      <td>0.372442</td>\n",
       "      <td>0.350050</td>\n",
       "      <td>-0.706810</td>\n",
       "      <td>-1.000000</td>\n",
       "      <td>0.680728</td>\n",
       "    </tr>\n",
       "    <tr>\n",
       "      <th>9</th>\n",
       "      <td>0.467377</td>\n",
       "      <td>0.372442</td>\n",
       "      <td>0.350050</td>\n",
       "      <td>-0.706810</td>\n",
       "      <td>-1.000000</td>\n",
       "      <td>0.680728</td>\n",
       "      <td>0.954210</td>\n",
       "    </tr>\n",
       "    <tr>\n",
       "      <th>10</th>\n",
       "      <td>0.372442</td>\n",
       "      <td>0.350050</td>\n",
       "      <td>-0.706810</td>\n",
       "      <td>-1.000000</td>\n",
       "      <td>0.680728</td>\n",
       "      <td>0.954210</td>\n",
       "      <td>0.967545</td>\n",
       "    </tr>\n",
       "    <tr>\n",
       "      <th>11</th>\n",
       "      <td>0.350050</td>\n",
       "      <td>-0.706810</td>\n",
       "      <td>-1.000000</td>\n",
       "      <td>0.680728</td>\n",
       "      <td>0.954210</td>\n",
       "      <td>0.967545</td>\n",
       "      <td>0.967880</td>\n",
       "    </tr>\n",
       "    <tr>\n",
       "      <th>12</th>\n",
       "      <td>-0.706810</td>\n",
       "      <td>-1.000000</td>\n",
       "      <td>0.680728</td>\n",
       "      <td>0.954210</td>\n",
       "      <td>0.967545</td>\n",
       "      <td>0.967880</td>\n",
       "      <td>1.000000</td>\n",
       "    </tr>\n",
       "    <tr>\n",
       "      <th>13</th>\n",
       "      <td>-1.000000</td>\n",
       "      <td>0.680728</td>\n",
       "      <td>0.954210</td>\n",
       "      <td>0.967545</td>\n",
       "      <td>0.967880</td>\n",
       "      <td>1.000000</td>\n",
       "      <td>0.140725</td>\n",
       "    </tr>\n",
       "  </tbody>\n",
       "</table>\n",
       "</div>"
      ],
      "text/plain": [
       "    var1(t-7)  var1(t-6)  var1(t-5)  var1(t-4)  var1(t-3)  var1(t-2)  \\\n",
       "7    0.164794   0.460416   0.467377   0.372442   0.350050  -0.706810   \n",
       "8    0.460416   0.467377   0.372442   0.350050  -0.706810  -1.000000   \n",
       "9    0.467377   0.372442   0.350050  -0.706810  -1.000000   0.680728   \n",
       "10   0.372442   0.350050  -0.706810  -1.000000   0.680728   0.954210   \n",
       "11   0.350050  -0.706810  -1.000000   0.680728   0.954210   0.967545   \n",
       "12  -0.706810  -1.000000   0.680728   0.954210   0.967545   0.967880   \n",
       "13  -1.000000   0.680728   0.954210   0.967545   0.967880   1.000000   \n",
       "\n",
       "    var1(t-1)  \n",
       "7   -1.000000  \n",
       "8    0.680728  \n",
       "9    0.954210  \n",
       "10   0.967545  \n",
       "11   0.967880  \n",
       "12   1.000000  \n",
       "13   0.140725  "
      ]
     },
     "execution_count": 34,
     "metadata": {},
     "output_type": "execute_result"
    }
   ],
   "source": [
    "# cargamos el dataframe en la variable values\n",
    "values = Dias.values\n",
    "\n",
    "# convertimos los enteros en floats\n",
    "values = values.astype('float32')\n",
    "\n",
    "# normalizamos los datos a escala de entre -1 y 1\n",
    "values=values.reshape(-1, 1) # esto lo hacemos porque tenemos 1 sola dimension\n",
    "scaled = scaler.fit_transform(values)\n",
    "\n",
    "# usamos la funcion definida previamente\n",
    "reframed = series_to_supervised(scaled, look_back, 1)\n",
    "\n",
    "# eliminamos la ultima columna pues es parte de lo que queremos hayar\n",
    "reframed.drop(reframed.columns[[7]], inplace=True, axis=1)\n",
    "reframed.head(7)"
   ]
  },
  {
   "cell_type": "code",
   "execution_count": 35,
   "metadata": {},
   "outputs": [
    {
     "name": "stdout",
     "output_type": "stream",
     "text": [
      "(1, 1, 7)\n"
     ]
    },
    {
     "data": {
      "text/plain": [
       "array([[[-1.        ,  0.68072796,  0.95421004,  0.96754456,\n",
       "          0.96788   ,  1.        ,  0.14072466]]], dtype=float32)"
      ]
     },
     "execution_count": 35,
     "metadata": {},
     "output_type": "execute_result"
    }
   ],
   "source": [
    "values = reframed.values\n",
    "\n",
    "#tomamos los valores para realizar el test\n",
    "x_test = values[6:, :]\n",
    "\n",
    "# reshape input to be 3D [samples, timesteps, features] - preguntar\n",
    "x_test = x_test.reshape((x_test.shape[0], 1, x_test.shape[1]))\n",
    "print(x_test.shape)\n",
    "x_test"
   ]
  },
  {
   "cell_type": "code",
   "execution_count": 36,
   "metadata": {},
   "outputs": [],
   "source": [
    "#en la linea 24 definimos la funcion para realizar el desplazamiento que se hara en el array cada prediccion pues para hacer\n",
    "#la siguiente prediccion eliminamos el dia mas antiguo, desplazamos un lugar el resto de dias y añadimos el ultimo dia que\n",
    "#se ha predecido, esto es por que para predecir un dia se usan los 7 dias previos, y que usaremos a continuación"
   ]
  },
  {
   "cell_type": "markdown",
   "metadata": {},
   "source": [
    "# Realizamos la prediccion "
   ]
  },
  {
   "cell_type": "code",
   "execution_count": 37,
   "metadata": {},
   "outputs": [
    {
     "name": "stdout",
     "output_type": "stream",
     "text": [
      "[[[-1.          0.68072796  0.95421004  0.96754456  0.96788\n",
      "    1.          0.14072466]]]\n",
      "[[[ 0.68072796  0.95421004  0.96754456  0.96788     1.\n",
      "    0.14072466 -0.38362512]]]\n",
      "[[[ 0.95421004  0.96754456  0.96788     1.          0.14072466\n",
      "   -0.38362512  0.6924941 ]]]\n",
      "[[[ 0.96754456  0.96788     1.          0.14072466 -0.38362512\n",
      "    0.6924941   0.89910966]]]\n",
      "[[[ 0.96788     1.          0.14072466 -0.38362512  0.6924941\n",
      "    0.89910966  0.8852819 ]]]\n",
      "[[[ 1.          0.14072466 -0.38362512  0.6924941   0.89910966\n",
      "    0.8852819   0.89209723]]]\n",
      "[[[ 0.14072466 -0.38362512  0.6924941   0.89910966  0.8852819\n",
      "    0.89209723  0.8760704 ]]]\n"
     ]
    }
   ],
   "source": [
    "results=[]\n",
    "for i in range(7):\n",
    "    parcial=model.predict(x_test)\n",
    "    results.append(parcial[0])\n",
    "    print(x_test)\n",
    "    x_test=agregarNuevoValor(x_test,parcial[0])"
   ]
  },
  {
   "cell_type": "markdown",
   "metadata": {},
   "source": [
    "# Re-Convertimos los resultados"
   ]
  },
  {
   "cell_type": "code",
   "execution_count": 38,
   "metadata": {
    "scrolled": false
   },
   "outputs": [
    {
     "name": "stdout",
     "output_type": "stream",
     "text": [
      "[array([-0.38362512], dtype=float32), array([0.6924941], dtype=float32), array([0.89910966], dtype=float32), array([0.8852819], dtype=float32), array([0.89209723], dtype=float32), array([0.8760704], dtype=float32), array([0.5588808], dtype=float32)]\n"
     ]
    },
    {
     "data": {
      "text/plain": [
       "array([[25325],\n",
       "       [38156],\n",
       "       [40620],\n",
       "       [40455],\n",
       "       [40536],\n",
       "       [40345],\n",
       "       [36563]])"
      ]
     },
     "execution_count": 38,
     "metadata": {},
     "output_type": "execute_result"
    }
   ],
   "source": [
    "adimen = [x for x in results]    \n",
    "print(adimen)\n",
    "inverted = scaler.inverse_transform(adimen)\n",
    "\n",
    "#en nuestro problema no tienen sentido los decimales pues no se pueden hacer 0.5 viajes o 0.25 viajes\n",
    "inverted = inverted.round()\n",
    "inverted = inverted.astype(int)\n",
    "inverted"
   ]
  },
  {
   "cell_type": "markdown",
   "metadata": {},
   "source": [
    "# Visualizamos el pronostico"
   ]
  },
  {
   "cell_type": "code",
   "execution_count": 39,
   "metadata": {
    "scrolled": true
   },
   "outputs": [
    {
     "data": {
      "text/plain": [
       "<AxesSubplot:>"
      ]
     },
     "execution_count": 39,
     "metadata": {},
     "output_type": "execute_result"
    },
    {
     "data": {
      "image/png": "[encoded data removed]",
      "text/plain": [
       "<Figure size 432x288 with 1 Axes>"
      ]
     },
     "metadata": {
      "needs_background": "light"
     },
     "output_type": "display_data"
    }
   ],
   "source": [
    "e_date = datetime.datetime.strptime('2020-05-31', '%Y-%m-%d')\n",
    "i_date = datetime.datetime.strptime('2020-05-25', '%Y-%m-%d')\n",
    "delta = e_date - i_date\n",
    "\n",
    "index_days = []\n",
    "for i in range(delta.days + 1):\n",
    "    day = i_date + timedelta(days=i)\n",
    "    index_days.append(day)\n",
    "\n",
    "prediccion = pd.DataFrame(inverted, index= index_days)\n",
    "prediccion.columns = ['pronostico']\n",
    "prediccion.plot()"
   ]
  },
  {
   "cell_type": "code",
   "execution_count": 40,
   "metadata": {},
   "outputs": [
    {
     "data": {
      "text/html": [
       "<div>\n",
       "<style scoped>\n",
       "    .dataframe tbody tr th:only-of-type {\n",
       "        vertical-align: middle;\n",
       "    }\n",
       "\n",
       "    .dataframe tbody tr th {\n",
       "        vertical-align: top;\n",
       "    }\n",
       "\n",
       "    .dataframe thead th {\n",
       "        text-align: right;\n",
       "    }\n",
       "</style>\n",
       "<table border=\"1\" class=\"dataframe\">\n",
       "  <thead>\n",
       "    <tr style=\"text-align: right;\">\n",
       "      <th></th>\n",
       "      <th>real</th>\n",
       "      <th>prediccion</th>\n",
       "    </tr>\n",
       "  </thead>\n",
       "  <tbody>\n",
       "    <tr>\n",
       "      <th>2020-05-25</th>\n",
       "      <td>42126</td>\n",
       "      <td>25325</td>\n",
       "    </tr>\n",
       "    <tr>\n",
       "      <th>2020-05-26</th>\n",
       "      <td>45321</td>\n",
       "      <td>38156</td>\n",
       "    </tr>\n",
       "    <tr>\n",
       "      <th>2020-05-27</th>\n",
       "      <td>46185</td>\n",
       "      <td>40620</td>\n",
       "    </tr>\n",
       "    <tr>\n",
       "      <th>2020-05-28</th>\n",
       "      <td>47441</td>\n",
       "      <td>40455</td>\n",
       "    </tr>\n",
       "    <tr>\n",
       "      <th>2020-05-29</th>\n",
       "      <td>48454</td>\n",
       "      <td>40536</td>\n",
       "    </tr>\n",
       "    <tr>\n",
       "      <th>2020-05-30</th>\n",
       "      <td>40358</td>\n",
       "      <td>40345</td>\n",
       "    </tr>\n",
       "    <tr>\n",
       "      <th>2020-05-31</th>\n",
       "      <td>29599</td>\n",
       "      <td>36563</td>\n",
       "    </tr>\n",
       "  </tbody>\n",
       "</table>\n",
       "</div>"
      ],
      "text/plain": [
       "             real  prediccion\n",
       "2020-05-25  42126       25325\n",
       "2020-05-26  45321       38156\n",
       "2020-05-27  46185       40620\n",
       "2020-05-28  47441       40455\n",
       "2020-05-29  48454       40536\n",
       "2020-05-30  40358       40345\n",
       "2020-05-31  29599       36563"
      ]
     },
     "execution_count": 40,
     "metadata": {},
     "output_type": "execute_result"
    }
   ],
   "source": [
    "datosReales = df['2020-5-25':'2020-5-31']\n",
    "\n",
    "compara = pd.concat([datosReales, prediccion], axis=1)\n",
    "compara.columns = ['real', 'prediccion']\n",
    "compara"
   ]
  },
  {
   "cell_type": "code",
   "execution_count": 41,
   "metadata": {},
   "outputs": [
    {
     "data": {
      "text/plain": [
       "<AxesSubplot:>"
      ]
     },
     "execution_count": 41,
     "metadata": {},
     "output_type": "execute_result"
    },
    {
     "data": {
      "image/png": "[encoded data removed]",
      "text/plain": [
       "<Figure size 432x288 with 1 Axes>"
      ]
     },
     "metadata": {
      "needs_background": "light"
     },
     "output_type": "display_data"
    }
   ],
   "source": [
    "compara['real'].plot()\n",
    "compara['prediccion'].plot()"
   ]
  },
  {
   "cell_type": "code",
   "execution_count": 42,
   "metadata": {
    "scrolled": false
   },
   "outputs": [
    {
     "name": "stdout",
     "output_type": "stream",
     "text": [
      "Resultado del test: 7344.57 MAE\n",
      "Resultado del test: 74939490.86 MSE\n",
      "Resultado del test: 8656.76 RMSE\n",
      "Resultado del test: 23.13 CVRMSE\n",
      "Resultado del test: 22.10 MAPE\n"
     ]
    }
   ],
   "source": [
    "# calculamos las metricas de error\n",
    "testScore_MAE, testScore_MSE, testScore_RMSE, testScore_CVRMSE, testScore_MAPE  =  compute_metrics_fn(prediccion, datosReales)\n",
    "print('Resultado del test: %.2f MAE' % (testScore_MAE))\n",
    "print('Resultado del test: %.2f MSE' % (testScore_MSE))\n",
    "print('Resultado del test: %.2f RMSE' % (testScore_RMSE))\n",
    "print('Resultado del test: %.2f CVRMSE' % (testScore_CVRMSE))\n",
    "print('Resultado del test: %.2f MAPE' % (testScore_MAPE))"
   ]
  },
  {
   "cell_type": "code",
   "execution_count": 43,
   "metadata": {},
   "outputs": [
    {
     "name": "stdout",
     "output_type": "stream",
     "text": [
      "Resultado del test dia 1: 16801.00 MAE\n",
      "Resultado del test dia 1: 282273601.00 MSE\n",
      "Resultado del test dia 1: 16801.00 RMSE\n",
      "Resultado del test dia 1: 66.34 CVRMSE\n",
      "Resultado del test dia 1: 66.34 MAPE \n",
      "\n",
      "Resultado del test dia 2: 7165.00 MAE\n",
      "Resultado del test dia 2: 51337225.00 MSE\n",
      "Resultado del test dia 2: 7165.00 RMSE\n",
      "Resultado del test dia 2: 18.78 CVRMSE\n",
      "Resultado del test dia 2: 18.78 MAPE \n",
      "\n",
      "Resultado del test dia 3: 5565.00 MAE\n",
      "Resultado del test dia 3: 30969225.00 MSE\n",
      "Resultado del test dia 3: 5565.00 RMSE\n",
      "Resultado del test dia 3: 13.70 CVRMSE\n",
      "Resultado del test dia 3: 13.70 MAPE \n",
      "\n",
      "Resultado del test dia 4: 6986.00 MAE\n",
      "Resultado del test dia 4: 48804196.00 MSE\n",
      "Resultado del test dia 4: 6986.00 RMSE\n",
      "Resultado del test dia 4: 17.27 CVRMSE\n",
      "Resultado del test dia 4: 17.27 MAPE \n",
      "\n",
      "Resultado del test dia 5: 7918.00 MAE\n",
      "Resultado del test dia 5: 62694724.00 MSE\n",
      "Resultado del test dia 5: 7918.00 RMSE\n",
      "Resultado del test dia 5: 19.53 CVRMSE\n",
      "Resultado del test dia 5: 19.53 MAPE \n",
      "\n",
      "Resultado del test dia 6: 13.00 MAE\n",
      "Resultado del test dia 6: 169.00 MSE\n",
      "Resultado del test dia 6: 13.00 RMSE\n",
      "Resultado del test dia 6: 0.03 CVRMSE\n",
      "Resultado del test dia 6: 0.03 MAPE \n",
      "\n",
      "Resultado del test dia 7: 6964.00 MAE\n",
      "Resultado del test dia 7: 48497296.00 MSE\n",
      "Resultado del test dia 7: 6964.00 RMSE\n",
      "Resultado del test dia 7: 19.05 CVRMSE\n",
      "Resultado del test dia 7: 19.05 MAPE \n",
      "\n"
     ]
    }
   ],
   "source": [
    "# calculamos las metricas de error para cada dia por separado\n",
    "for i in range(7):\n",
    "    testScore_MAE, testScore_MSE, testScore_RMSE, testScore_CVRMSE, testScore_MAPE  =  compute_metrics_fn(prediccion.values[i], datosReales.values[i])\n",
    "    day = i + 1\n",
    "    print('Resultado del test dia %d: %.2f MAE' % (day, testScore_MAE))\n",
    "    print('Resultado del test dia %d: %.2f MSE' % (day, testScore_MSE))\n",
    "    print('Resultado del test dia %d: %.2f RMSE' % (day, testScore_RMSE))\n",
    "    print('Resultado del test dia %d: %.2f CVRMSE' % (day, testScore_CVRMSE))\n",
    "    print('Resultado del test dia %d: %.2f MAPE \\n' % (day, testScore_MAPE))"
   ]
  }
 ],
 "metadata": {
  "kernelspec": {
   "display_name": "Python 3",
   "language": "python",
   "name": "python3"
  },
  "language_info": {
   "codemirror_mode": {
    "name": "ipython",
    "version": 3
   },
   "file_extension": ".py",
   "mimetype": "text/x-python",
   "name": "python",
   "nbconvert_exporter": "python",
   "pygments_lexer": "ipython3",
   "version": "3.8.5"
  }
 },
 "nbformat": 4,
 "nbformat_minor": 4
}
