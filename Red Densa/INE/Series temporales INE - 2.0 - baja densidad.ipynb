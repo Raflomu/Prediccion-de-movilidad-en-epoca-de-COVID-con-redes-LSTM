{
 "cells": [
  {
   "cell_type": "code",
   "execution_count": 1,
   "metadata": {},
   "outputs": [],
   "source": [
    "import pandas as pd\n",
    "import numpy as np\n",
    "from tqdm import tqdm_notebook\n",
    "import os\n",
    "import math\n",
    "from sklearn.metrics import mean_squared_error, mean_absolute_error\n",
    "from sklearn.preprocessing import MinMaxScaler\n",
    "from keras.models import Sequential\n",
    "from keras.layers import Dense,Activation,Flatten,Dropout\n",
    "\n",
    "import matplotlib.pyplot as plt\n",
    "%matplotlib inline\n",
    "\n",
    "import warnings\n",
    "warnings.filterwarnings(\"ignore\")\n",
    "\n",
    "import datetime\n",
    "from datetime import date, timedelta\n",
    "e_date = datetime.datetime.strptime('2020-06-20', '%Y-%m-%d')\n",
    "i_date = datetime.datetime.strptime('2020-04-01', '%Y-%m-%d')\n",
    "\n",
    "data_path = 'D:/universidad/universidad 4/TFG/recursos para el desarrollo/datos procesados/OD'"
   ]
  },
  {
   "cell_type": "code",
   "execution_count": 2,
   "metadata": {},
   "outputs": [],
   "source": [
    "delta = e_date - i_date\n",
    "\n",
    "target_days = []\n",
    "for i in range(delta.days + 1):\n",
    "    day = i_date + timedelta(days=i)\n",
    "    target_days.append(day)"
   ]
  },
  {
   "cell_type": "code",
   "execution_count": 3,
   "metadata": {},
   "outputs": [],
   "source": [
    "def read_OD_fn(source_type):\n",
    "    ods = {}\n",
    "    for date in tqdm_notebook(target_days):\n",
    "        od_date= pd.read_csv(os.path.join(data_path, 'date_{}_OD_{}.csv'.format(source_type,date.strftime('%Y-%m-%d'))), \n",
    "                            index_col=0)\n",
    "        ods[date] = od_date\n",
    "    return ods"
   ]
  },
  {
   "cell_type": "code",
   "execution_count": 4,
   "metadata": {},
   "outputs": [
    {
     "data": {
      "application/vnd.jupyter.widget-view+json": {
       "model_id": "fdf33a6b082d4229985fd89e3b85dd21",
       "version_major": 2,
       "version_minor": 0
      },
      "text/plain": [
       "  0%|          | 0/81 [00:00<?, ?it/s]"
      ]
     },
     "metadata": {},
     "output_type": "display_data"
    }
   ],
   "source": [
    "ine_ods = read_OD_fn('INE')"
   ]
  },
  {
   "cell_type": "markdown",
   "metadata": {},
   "source": [
    "# Serializar los datos"
   ]
  },
  {
   "cell_type": "code",
   "execution_count": 5,
   "metadata": {
    "scrolled": true
   },
   "outputs": [
    {
     "data": {
      "application/vnd.jupyter.widget-view+json": {
       "model_id": "4d213ce9592a425ba29f5e6557876d6f",
       "version_major": 2,
       "version_minor": 0
      },
      "text/plain": [
       "  0%|          | 0/81 [00:00<?, ?it/s]"
      ]
     },
     "metadata": {},
     "output_type": "display_data"
    }
   ],
   "source": [
    "lista_ine1 = []\n",
    "lista_ine2 = []\n",
    "lista_ine3 = []\n",
    "lista_ine4 = []\n",
    "lista_ine5 = []\n",
    "\n",
    "for date in tqdm_notebook(target_days):\n",
    "    lista_ine1.append(ine_ods[date].loc['11CA','total'])\n",
    "    lista_ine2.append(ine_ods[date].loc['33PO','total'])\n",
    "    lista_ine3.append(ine_ods[date].loc['026V','total'])\n",
    "    lista_ine4.append(ine_ods[date].loc['21BU','total'])\n",
    "    lista_ine5.append(ine_ods[date].loc['49GI','total'])"
   ]
  },
  {
   "cell_type": "code",
   "execution_count": 6,
   "metadata": {
    "scrolled": true
   },
   "outputs": [],
   "source": [
    "df_ine1 = pd.DataFrame (lista_ine1, columns = ['Viajes'], index= target_days)\n",
    "df_ine2 = pd.DataFrame (lista_ine2, columns = ['Viajes'], index= target_days)\n",
    "df_ine3 = pd.DataFrame (lista_ine3, columns = ['Viajes'], index= target_days)\n",
    "df_ine4 = pd.DataFrame (lista_ine4, columns = ['Viajes'], index= target_days)\n",
    "df_ine5 = pd.DataFrame (lista_ine5, columns = ['Viajes'], index= target_days)"
   ]
  },
  {
   "cell_type": "code",
   "execution_count": 7,
   "metadata": {},
   "outputs": [],
   "source": [
    "lista_ine = []\n",
    "\n",
    "df = df_ine1 + df_ine2 + df_ine3 + df_ine4 + df_ine5"
   ]
  },
  {
   "cell_type": "code",
   "execution_count": 8,
   "metadata": {},
   "outputs": [
    {
     "data": {
      "text/html": [
       "<div>\n",
       "<style scoped>\n",
       "    .dataframe tbody tr th:only-of-type {\n",
       "        vertical-align: middle;\n",
       "    }\n",
       "\n",
       "    .dataframe tbody tr th {\n",
       "        vertical-align: top;\n",
       "    }\n",
       "\n",
       "    .dataframe thead th {\n",
       "        text-align: right;\n",
       "    }\n",
       "</style>\n",
       "<table border=\"1\" class=\"dataframe\">\n",
       "  <thead>\n",
       "    <tr style=\"text-align: right;\">\n",
       "      <th></th>\n",
       "      <th>Viajes</th>\n",
       "    </tr>\n",
       "  </thead>\n",
       "  <tbody>\n",
       "    <tr>\n",
       "      <th>2020-04-01</th>\n",
       "      <td>194</td>\n",
       "    </tr>\n",
       "    <tr>\n",
       "      <th>2020-04-02</th>\n",
       "      <td>183</td>\n",
       "    </tr>\n",
       "    <tr>\n",
       "      <th>2020-04-03</th>\n",
       "      <td>317</td>\n",
       "    </tr>\n",
       "    <tr>\n",
       "      <th>2020-04-04</th>\n",
       "      <td>177</td>\n",
       "    </tr>\n",
       "    <tr>\n",
       "      <th>2020-04-05</th>\n",
       "      <td>142</td>\n",
       "    </tr>\n",
       "  </tbody>\n",
       "</table>\n",
       "</div>"
      ],
      "text/plain": [
       "            Viajes\n",
       "2020-04-01     194\n",
       "2020-04-02     183\n",
       "2020-04-03     317\n",
       "2020-04-04     177\n",
       "2020-04-05     142"
      ]
     },
     "execution_count": 8,
     "metadata": {},
     "output_type": "execute_result"
    }
   ],
   "source": [
    "df.head()"
   ]
  },
  {
   "cell_type": "code",
   "execution_count": 9,
   "metadata": {},
   "outputs": [],
   "source": [
    "del ine_ods"
   ]
  },
  {
   "cell_type": "markdown",
   "metadata": {},
   "source": [
    "# Visualización de datos"
   ]
  },
  {
   "cell_type": "code",
   "execution_count": 10,
   "metadata": {},
   "outputs": [
    {
     "name": "stdout",
     "output_type": "stream",
     "text": [
      "2020-04-01 00:00:00\n",
      "2020-06-20 00:00:00\n"
     ]
    }
   ],
   "source": [
    "print(df.index.min())\n",
    "print(df.index.max())"
   ]
  },
  {
   "cell_type": "code",
   "execution_count": 11,
   "metadata": {
    "scrolled": true
   },
   "outputs": [
    {
     "name": "stdout",
     "output_type": "stream",
     "text": [
      "81\n"
     ]
    }
   ],
   "source": [
    "print(len(df['2020']))"
   ]
  },
  {
   "cell_type": "code",
   "execution_count": 12,
   "metadata": {},
   "outputs": [
    {
     "data": {
      "text/html": [
       "<div>\n",
       "<style scoped>\n",
       "    .dataframe tbody tr th:only-of-type {\n",
       "        vertical-align: middle;\n",
       "    }\n",
       "\n",
       "    .dataframe tbody tr th {\n",
       "        vertical-align: top;\n",
       "    }\n",
       "\n",
       "    .dataframe thead th {\n",
       "        text-align: right;\n",
       "    }\n",
       "</style>\n",
       "<table border=\"1\" class=\"dataframe\">\n",
       "  <thead>\n",
       "    <tr style=\"text-align: right;\">\n",
       "      <th></th>\n",
       "      <th>Viajes</th>\n",
       "    </tr>\n",
       "  </thead>\n",
       "  <tbody>\n",
       "    <tr>\n",
       "      <th>count</th>\n",
       "      <td>81.000000</td>\n",
       "    </tr>\n",
       "    <tr>\n",
       "      <th>mean</th>\n",
       "      <td>366.592593</td>\n",
       "    </tr>\n",
       "    <tr>\n",
       "      <th>std</th>\n",
       "      <td>108.663446</td>\n",
       "    </tr>\n",
       "    <tr>\n",
       "      <th>min</th>\n",
       "      <td>110.000000</td>\n",
       "    </tr>\n",
       "    <tr>\n",
       "      <th>25%</th>\n",
       "      <td>303.000000</td>\n",
       "    </tr>\n",
       "    <tr>\n",
       "      <th>50%</th>\n",
       "      <td>390.000000</td>\n",
       "    </tr>\n",
       "    <tr>\n",
       "      <th>75%</th>\n",
       "      <td>433.000000</td>\n",
       "    </tr>\n",
       "    <tr>\n",
       "      <th>max</th>\n",
       "      <td>614.000000</td>\n",
       "    </tr>\n",
       "  </tbody>\n",
       "</table>\n",
       "</div>"
      ],
      "text/plain": [
       "           Viajes\n",
       "count   81.000000\n",
       "mean   366.592593\n",
       "std    108.663446\n",
       "min    110.000000\n",
       "25%    303.000000\n",
       "50%    390.000000\n",
       "75%    433.000000\n",
       "max    614.000000"
      ]
     },
     "execution_count": 12,
     "metadata": {},
     "output_type": "execute_result"
    }
   ],
   "source": [
    "df.describe()"
   ]
  },
  {
   "cell_type": "code",
   "execution_count": 13,
   "metadata": {},
   "outputs": [
    {
     "data": {
      "text/html": [
       "<div>\n",
       "<style scoped>\n",
       "    .dataframe tbody tr th:only-of-type {\n",
       "        vertical-align: middle;\n",
       "    }\n",
       "\n",
       "    .dataframe tbody tr th {\n",
       "        vertical-align: top;\n",
       "    }\n",
       "\n",
       "    .dataframe thead th {\n",
       "        text-align: right;\n",
       "    }\n",
       "</style>\n",
       "<table border=\"1\" class=\"dataframe\">\n",
       "  <thead>\n",
       "    <tr style=\"text-align: right;\">\n",
       "      <th></th>\n",
       "      <th>Viajes</th>\n",
       "    </tr>\n",
       "  </thead>\n",
       "  <tbody>\n",
       "    <tr>\n",
       "      <th>2020-04-30</th>\n",
       "      <td>276.233333</td>\n",
       "    </tr>\n",
       "    <tr>\n",
       "      <th>2020-05-31</th>\n",
       "      <td>402.096774</td>\n",
       "    </tr>\n",
       "    <tr>\n",
       "      <th>2020-06-30</th>\n",
       "      <td>447.100000</td>\n",
       "    </tr>\n",
       "  </tbody>\n",
       "</table>\n",
       "</div>"
      ],
      "text/plain": [
       "                Viajes\n",
       "2020-04-30  276.233333\n",
       "2020-05-31  402.096774\n",
       "2020-06-30  447.100000"
      ]
     },
     "execution_count": 13,
     "metadata": {},
     "output_type": "execute_result"
    }
   ],
   "source": [
    "meses = df.resample('M').mean()\n",
    "meses"
   ]
  },
  {
   "cell_type": "code",
   "execution_count": 14,
   "metadata": {},
   "outputs": [
    {
     "data": {
      "text/plain": [
       "[<matplotlib.lines.Line2D at 0x24731ae2400>]"
      ]
     },
     "execution_count": 14,
     "metadata": {},
     "output_type": "execute_result"
    },
    {
     "data": {
      "image/png": "[encoded data removed]",
      "text/plain": [
       "<Figure size 432x288 with 1 Axes>"
      ]
     },
     "metadata": {
      "needs_background": "light"
     },
     "output_type": "display_data"
    }
   ],
   "source": [
    "abril = df['2020-04-01':'2020-04-30']\n",
    "plt.plot(abril.values)\n",
    "mayo = df['2020-05-01':'2020-05-31']\n",
    "plt.plot(mayo.values)\n",
    "junio = df['2020-06-01':'2020-06-20']\n",
    "plt.plot(junio.values)"
   ]
  },
  {
   "cell_type": "markdown",
   "metadata": {},
   "source": [
    "# Preprocesado de datos"
   ]
  },
  {
   "cell_type": "code",
   "execution_count": 15,
   "metadata": {},
   "outputs": [
    {
     "data": {
      "text/html": [
       "<div>\n",
       "<style scoped>\n",
       "    .dataframe tbody tr th:only-of-type {\n",
       "        vertical-align: middle;\n",
       "    }\n",
       "\n",
       "    .dataframe tbody tr th {\n",
       "        vertical-align: top;\n",
       "    }\n",
       "\n",
       "    .dataframe thead th {\n",
       "        text-align: right;\n",
       "    }\n",
       "</style>\n",
       "<table border=\"1\" class=\"dataframe\">\n",
       "  <thead>\n",
       "    <tr style=\"text-align: right;\">\n",
       "      <th></th>\n",
       "      <th>var1(t-7)</th>\n",
       "      <th>var1(t-6)</th>\n",
       "      <th>var1(t-5)</th>\n",
       "      <th>var1(t-4)</th>\n",
       "      <th>var1(t-3)</th>\n",
       "      <th>var1(t-2)</th>\n",
       "      <th>var1(t-1)</th>\n",
       "      <th>var1(t)</th>\n",
       "    </tr>\n",
       "  </thead>\n",
       "  <tbody>\n",
       "    <tr>\n",
       "      <th>76</th>\n",
       "      <td>0.202381</td>\n",
       "      <td>0.333333</td>\n",
       "      <td>0.384921</td>\n",
       "      <td>0.202381</td>\n",
       "      <td>0.134921</td>\n",
       "      <td>0.075397</td>\n",
       "      <td>1.000000</td>\n",
       "      <td>0.420635</td>\n",
       "    </tr>\n",
       "    <tr>\n",
       "      <th>77</th>\n",
       "      <td>0.333333</td>\n",
       "      <td>0.384921</td>\n",
       "      <td>0.202381</td>\n",
       "      <td>0.134921</td>\n",
       "      <td>0.075397</td>\n",
       "      <td>1.000000</td>\n",
       "      <td>0.420635</td>\n",
       "      <td>0.361111</td>\n",
       "    </tr>\n",
       "    <tr>\n",
       "      <th>78</th>\n",
       "      <td>0.384921</td>\n",
       "      <td>0.202381</td>\n",
       "      <td>0.134921</td>\n",
       "      <td>0.075397</td>\n",
       "      <td>1.000000</td>\n",
       "      <td>0.420635</td>\n",
       "      <td>0.361111</td>\n",
       "      <td>0.345238</td>\n",
       "    </tr>\n",
       "    <tr>\n",
       "      <th>79</th>\n",
       "      <td>0.202381</td>\n",
       "      <td>0.134921</td>\n",
       "      <td>0.075397</td>\n",
       "      <td>1.000000</td>\n",
       "      <td>0.420635</td>\n",
       "      <td>0.361111</td>\n",
       "      <td>0.345238</td>\n",
       "      <td>0.710318</td>\n",
       "    </tr>\n",
       "    <tr>\n",
       "      <th>80</th>\n",
       "      <td>0.134921</td>\n",
       "      <td>0.075397</td>\n",
       "      <td>1.000000</td>\n",
       "      <td>0.420635</td>\n",
       "      <td>0.361111</td>\n",
       "      <td>0.345238</td>\n",
       "      <td>0.710318</td>\n",
       "      <td>0.111111</td>\n",
       "    </tr>\n",
       "  </tbody>\n",
       "</table>\n",
       "</div>"
      ],
      "text/plain": [
       "    var1(t-7)  var1(t-6)  var1(t-5)  var1(t-4)  var1(t-3)  var1(t-2)  \\\n",
       "76   0.202381   0.333333   0.384921   0.202381   0.134921   0.075397   \n",
       "77   0.333333   0.384921   0.202381   0.134921   0.075397   1.000000   \n",
       "78   0.384921   0.202381   0.134921   0.075397   1.000000   0.420635   \n",
       "79   0.202381   0.134921   0.075397   1.000000   0.420635   0.361111   \n",
       "80   0.134921   0.075397   1.000000   0.420635   0.361111   0.345238   \n",
       "\n",
       "    var1(t-1)   var1(t)  \n",
       "76   1.000000  0.420635  \n",
       "77   0.420635  0.361111  \n",
       "78   0.361111  0.345238  \n",
       "79   0.345238  0.710318  \n",
       "80   0.710318  0.111111  "
      ]
     },
     "execution_count": 15,
     "metadata": {},
     "output_type": "execute_result"
    }
   ],
   "source": [
    "# cantidad de dias previos que se usaran para predecir el siguiente dia \n",
    "look_back=7\n",
    "\n",
    "# convertir series en conocimiento supervisado\n",
    "def series_to_supervised(data, n_in=1, n_out=1, dropnan=True):\n",
    "    n_vars = 1 if type(data) is list else data.shape[1]\n",
    "    df = pd.DataFrame(data)\n",
    "    cols, names = list(), list()\n",
    "    # secuencia de entrada (t-n, ... t-1)\n",
    "    for i in range(n_in, 0, -1):\n",
    "        cols.append(df.shift(i))\n",
    "        names += [('var%d(t-%d)' % (j+1, i)) for j in range(n_vars)]\n",
    "    # secuencia del pronostico (t, t+1, ... t+n)\n",
    "    for i in range(0, n_out):\n",
    "        cols.append(df.shift(-i))\n",
    "        if i == 0:\n",
    "            names += [('var%d(t)' % (j+1)) for j in range(n_vars)]\n",
    "        else:\n",
    "            names += [('var%d(t+%d)' % (j+1, i)) for j in range(n_vars)]\n",
    "    # unimos todo\n",
    "    agg = pd.concat(cols, axis=1)\n",
    "    agg.columns = names\n",
    "    # eliminamos todos los valores nulos\n",
    "    if dropnan:\n",
    "        agg.dropna(inplace=True)\n",
    "    return agg\n",
    " \n",
    "# cargamos el dataframe en la variable values\n",
    "values = df.values\n",
    "\n",
    "# convertimos los enteros en floats\n",
    "values = values.astype('float32')\n",
    "\n",
    "# normalizamos los datos a escala de entre -1 y 1\n",
    "scaler = MinMaxScaler(feature_range=(-1, 1))\n",
    "values=values.reshape(-1, 1) # esto lo hacemos porque tenemos 1 sola dimension\n",
    "scaled = scaler.fit_transform(values)\n",
    "\n",
    "# usamos la funcion definida previamente\n",
    "reframed = series_to_supervised(scaled, look_back, 1)\n",
    "\n",
    "# imprimimos los nuevos datos\n",
    "reframed.tail()"
   ]
  },
  {
   "cell_type": "markdown",
   "metadata": {},
   "source": [
    "# Dividimos los datos en sets de entrenamiento y validacion"
   ]
  },
  {
   "cell_type": "code",
   "execution_count": 16,
   "metadata": {},
   "outputs": [
    {
     "name": "stdout",
     "output_type": "stream",
     "text": [
      "(54, 1, 7) (54,) (20, 1, 7) (20,)\n"
     ]
    }
   ],
   "source": [
    "# dividimos nuestro valores entre sets de entrenamiento y de test\n",
    "values = reframed.values\n",
    "n_train_days = 71 - (10+look_back)\n",
    "train = values[:n_train_days, :]\n",
    "test = values[n_train_days:, :]\n",
    "\n",
    "# los volvemos a dividir en entradas y salidas\n",
    "x_train, y_train = train[:, :-1], train[:, -1]\n",
    "x_val, y_val = test[:, :-1], test[:, -1]\n",
    "\n",
    "# remodelamos la muestras para ser de las dimensiones [samples, timesteps, features]\n",
    "trainX = x_train.reshape((x_train.shape[0], 1, x_train.shape[1]))\n",
    "testX = x_val.reshape((x_val.shape[0], 1, x_val.shape[1]))\n",
    "\n",
    "print(trainX.shape, y_train.shape, testX.shape, y_val.shape)"
   ]
  },
  {
   "cell_type": "markdown",
   "metadata": {},
   "source": [
    "# Creamos la red neuronal"
   ]
  },
  {
   "cell_type": "code",
   "execution_count": 17,
   "metadata": {},
   "outputs": [],
   "source": [
    "def crear_modeloFF():\n",
    "    model = Sequential() \n",
    "    model.add(Dense(look_back, input_shape=(1,look_back),activation='tanh'))\n",
    "    model.add(Flatten())\n",
    "    model.add(Dense(100, activation='tanh'))\n",
    "    model.add(Dropout(0.30))\n",
    "    model.add(Dense(100, activation='tanh'))\n",
    "    model.add(Dropout(0.30))\n",
    "    model.add(Dense(100, activation='tanh'))\n",
    "    model.add(Dropout(0.30))\n",
    "    model.add(Dense(100, activation='tanh'))\n",
    "    model.add(Dropout(0.30))\n",
    "    model.add(Dense(1, activation='tanh'))\n",
    "    model.compile(loss='mean_absolute_error',optimizer='Adam',metrics=[\"mse\"])\n",
    "    model.summary()\n",
    "    return model"
   ]
  },
  {
   "cell_type": "code",
   "execution_count": 18,
   "metadata": {},
   "outputs": [
    {
     "name": "stdout",
     "output_type": "stream",
     "text": [
      "Model: \"sequential\"\n",
      "_________________________________________________________________\n",
      "Layer (type)                 Output Shape              Param #   \n",
      "=================================================================\n",
      "dense (Dense)                (None, 1, 7)              56        \n",
      "_________________________________________________________________\n",
      "flatten (Flatten)            (None, 7)                 0         \n",
      "_________________________________________________________________\n",
      "dense_1 (Dense)              (None, 100)               800       \n",
      "_________________________________________________________________\n",
      "dropout (Dropout)            (None, 100)               0         \n",
      "_________________________________________________________________\n",
      "dense_2 (Dense)              (None, 100)               10100     \n",
      "_________________________________________________________________\n",
      "dropout_1 (Dropout)          (None, 100)               0         \n",
      "_________________________________________________________________\n",
      "dense_3 (Dense)              (None, 100)               10100     \n",
      "_________________________________________________________________\n",
      "dropout_2 (Dropout)          (None, 100)               0         \n",
      "_________________________________________________________________\n",
      "dense_4 (Dense)              (None, 100)               10100     \n",
      "_________________________________________________________________\n",
      "dropout_3 (Dropout)          (None, 100)               0         \n",
      "_________________________________________________________________\n",
      "dense_5 (Dense)              (None, 1)                 101       \n",
      "=================================================================\n",
      "Total params: 31,257\n",
      "Trainable params: 31,257\n",
      "Non-trainable params: 0\n",
      "_________________________________________________________________\n",
      "Epoch 1/200\n",
      "8/8 [==============================] - 3s 274ms/step - loss: 0.2991 - mse: 0.1476 - val_loss: 0.2913 - val_mse: 0.1061\n",
      "Epoch 2/200\n",
      "8/8 [==============================] - 0s 12ms/step - loss: 0.2746 - mse: 0.1073 - val_loss: 0.2499 - val_mse: 0.0916\n",
      "Epoch 3/200\n",
      "8/8 [==============================] - 0s 12ms/step - loss: 0.3612 - mse: 0.2083 - val_loss: 0.2554 - val_mse: 0.1242\n",
      "Epoch 4/200\n",
      "8/8 [==============================] - 0s 13ms/step - loss: 0.3892 - mse: 0.2568 - val_loss: 0.2297 - val_mse: 0.0890\n",
      "Epoch 5/200\n",
      "8/8 [==============================] - 0s 12ms/step - loss: 0.2657 - mse: 0.1226 - val_loss: 0.2431 - val_mse: 0.0917\n",
      "Epoch 6/200\n",
      "8/8 [==============================] - 0s 14ms/step - loss: 0.2981 - mse: 0.1313 - val_loss: 0.2439 - val_mse: 0.0960\n",
      "Epoch 7/200\n",
      "8/8 [==============================] - 0s 13ms/step - loss: 0.3128 - mse: 0.1389 - val_loss: 0.2576 - val_mse: 0.0978\n",
      "Epoch 8/200\n",
      "8/8 [==============================] - 0s 13ms/step - loss: 0.2431 - mse: 0.1044 - val_loss: 0.2767 - val_mse: 0.1021\n",
      "Epoch 9/200\n",
      "8/8 [==============================] - 0s 13ms/step - loss: 0.2607 - mse: 0.1060 - val_loss: 0.2472 - val_mse: 0.0913\n",
      "Epoch 10/200\n",
      "8/8 [==============================] - 0s 13ms/step - loss: 0.2374 - mse: 0.0858 - val_loss: 0.2505 - val_mse: 0.0955\n",
      "Epoch 11/200\n",
      "8/8 [==============================] - 0s 13ms/step - loss: 0.2546 - mse: 0.0983 - val_loss: 0.2663 - val_mse: 0.1011\n",
      "Epoch 12/200\n",
      "8/8 [==============================] - 0s 13ms/step - loss: 0.2165 - mse: 0.0782 - val_loss: 0.2769 - val_mse: 0.1060\n",
      "Epoch 13/200\n",
      "8/8 [==============================] - 0s 12ms/step - loss: 0.2491 - mse: 0.1095 - val_loss: 0.2862 - val_mse: 0.1103\n",
      "Epoch 14/200\n",
      "8/8 [==============================] - 0s 13ms/step - loss: 0.2373 - mse: 0.1011 - val_loss: 0.3008 - val_mse: 0.1215\n",
      "Epoch 15/200\n",
      "8/8 [==============================] - 0s 13ms/step - loss: 0.2076 - mse: 0.0653 - val_loss: 0.2698 - val_mse: 0.1046\n",
      "Epoch 16/200\n",
      "8/8 [==============================] - 0s 12ms/step - loss: 0.2698 - mse: 0.1170 - val_loss: 0.2499 - val_mse: 0.0946\n",
      "Epoch 17/200\n",
      "8/8 [==============================] - 0s 10ms/step - loss: 0.2341 - mse: 0.0841 - val_loss: 0.2889 - val_mse: 0.1096\n",
      "Epoch 18/200\n",
      "8/8 [==============================] - 0s 7ms/step - loss: 0.2786 - mse: 0.1342 - val_loss: 0.2275 - val_mse: 0.0885\n",
      "Epoch 19/200\n",
      "8/8 [==============================] - 0s 7ms/step - loss: 0.2624 - mse: 0.1167 - val_loss: 0.2319 - val_mse: 0.0903\n",
      "Epoch 20/200\n",
      "8/8 [==============================] - 0s 7ms/step - loss: 0.2399 - mse: 0.0993 - val_loss: 0.2704 - val_mse: 0.0982\n",
      "Epoch 21/200\n",
      "8/8 [==============================] - 0s 7ms/step - loss: 0.1938 - mse: 0.0699 - val_loss: 0.2510 - val_mse: 0.0921\n",
      "Epoch 22/200\n",
      "8/8 [==============================] - 0s 7ms/step - loss: 0.2494 - mse: 0.1013 - val_loss: 0.2357 - val_mse: 0.0926\n",
      "Epoch 23/200\n",
      "8/8 [==============================] - 0s 7ms/step - loss: 0.2360 - mse: 0.0829 - val_loss: 0.2588 - val_mse: 0.0968\n",
      "Epoch 24/200\n",
      "8/8 [==============================] - 0s 7ms/step - loss: 0.2004 - mse: 0.0641 - val_loss: 0.2590 - val_mse: 0.0988\n",
      "Epoch 25/200\n",
      "8/8 [==============================] - 0s 7ms/step - loss: 0.2456 - mse: 0.1054 - val_loss: 0.2544 - val_mse: 0.0993\n",
      "Epoch 26/200\n",
      "8/8 [==============================] - 0s 7ms/step - loss: 0.2904 - mse: 0.1418 - val_loss: 0.2360 - val_mse: 0.0936\n",
      "Epoch 27/200\n",
      "8/8 [==============================] - 0s 7ms/step - loss: 0.2455 - mse: 0.0941 - val_loss: 0.2569 - val_mse: 0.0969\n",
      "Epoch 28/200\n",
      "8/8 [==============================] - 0s 7ms/step - loss: 0.2038 - mse: 0.0688 - val_loss: 0.2601 - val_mse: 0.0991\n",
      "Epoch 29/200\n",
      "8/8 [==============================] - 0s 7ms/step - loss: 0.2597 - mse: 0.1125 - val_loss: 0.2667 - val_mse: 0.1039\n",
      "Epoch 30/200\n",
      "8/8 [==============================] - 0s 7ms/step - loss: 0.2973 - mse: 0.1307 - val_loss: 0.2706 - val_mse: 0.1048\n",
      "Epoch 31/200\n",
      "8/8 [==============================] - 0s 7ms/step - loss: 0.2645 - mse: 0.1040 - val_loss: 0.2494 - val_mse: 0.0954\n",
      "Epoch 32/200\n",
      "8/8 [==============================] - 0s 7ms/step - loss: 0.2317 - mse: 0.0921 - val_loss: 0.2489 - val_mse: 0.0966\n",
      "Epoch 33/200\n",
      "8/8 [==============================] - 0s 7ms/step - loss: 0.2193 - mse: 0.0697 - val_loss: 0.2367 - val_mse: 0.0943\n",
      "Epoch 34/200\n",
      "8/8 [==============================] - 0s 7ms/step - loss: 0.2381 - mse: 0.0908 - val_loss: 0.2548 - val_mse: 0.0968\n",
      "Epoch 35/200\n",
      "8/8 [==============================] - 0s 7ms/step - loss: 0.2138 - mse: 0.0792 - val_loss: 0.2783 - val_mse: 0.1045\n",
      "Epoch 36/200\n",
      "8/8 [==============================] - 0s 7ms/step - loss: 0.2281 - mse: 0.0775 - val_loss: 0.2455 - val_mse: 0.0940\n",
      "Epoch 37/200\n",
      "8/8 [==============================] - 0s 7ms/step - loss: 0.2446 - mse: 0.0912 - val_loss: 0.2587 - val_mse: 0.1043\n",
      "Epoch 38/200\n",
      "8/8 [==============================] - 0s 7ms/step - loss: 0.2219 - mse: 0.0991 - val_loss: 0.2529 - val_mse: 0.0967\n",
      "Epoch 39/200\n",
      "8/8 [==============================] - 0s 6ms/step - loss: 0.2546 - mse: 0.1221 - val_loss: 0.2436 - val_mse: 0.0899\n",
      "Epoch 40/200\n",
      "8/8 [==============================] - 0s 6ms/step - loss: 0.1960 - mse: 0.0738 - val_loss: 0.2509 - val_mse: 0.0932\n",
      "Epoch 41/200\n",
      "8/8 [==============================] - 0s 6ms/step - loss: 0.2242 - mse: 0.0800 - val_loss: 0.2689 - val_mse: 0.1005\n",
      "Epoch 42/200\n",
      "8/8 [==============================] - 0s 7ms/step - loss: 0.1954 - mse: 0.0663 - val_loss: 0.2437 - val_mse: 0.0931\n",
      "Epoch 43/200\n",
      "8/8 [==============================] - 0s 7ms/step - loss: 0.2525 - mse: 0.1038 - val_loss: 0.2544 - val_mse: 0.0958\n",
      "Epoch 44/200\n",
      "8/8 [==============================] - 0s 6ms/step - loss: 0.2314 - mse: 0.0827 - val_loss: 0.2889 - val_mse: 0.1131\n",
      "Epoch 45/200\n",
      "8/8 [==============================] - 0s 6ms/step - loss: 0.2144 - mse: 0.0761 - val_loss: 0.2820 - val_mse: 0.1106\n",
      "Epoch 46/200\n",
      "8/8 [==============================] - 0s 6ms/step - loss: 0.2340 - mse: 0.0957 - val_loss: 0.2551 - val_mse: 0.0979\n",
      "Epoch 47/200\n",
      "8/8 [==============================] - 0s 6ms/step - loss: 0.2460 - mse: 0.1036 - val_loss: 0.2510 - val_mse: 0.0951\n",
      "Epoch 48/200\n",
      "8/8 [==============================] - 0s 6ms/step - loss: 0.2474 - mse: 0.1067 - val_loss: 0.2458 - val_mse: 0.0926\n",
      "Epoch 49/200\n",
      "8/8 [==============================] - 0s 6ms/step - loss: 0.2580 - mse: 0.1047 - val_loss: 0.2434 - val_mse: 0.0942\n",
      "Epoch 50/200\n"
     ]
    },
    {
     "name": "stdout",
     "output_type": "stream",
     "text": [
      "8/8 [==============================] - 0s 6ms/step - loss: 0.2152 - mse: 0.0769 - val_loss: 0.2445 - val_mse: 0.0931\n",
      "Epoch 51/200\n",
      "8/8 [==============================] - 0s 6ms/step - loss: 0.1886 - mse: 0.0518 - val_loss: 0.2499 - val_mse: 0.0962\n",
      "Epoch 52/200\n",
      "8/8 [==============================] - 0s 7ms/step - loss: 0.2160 - mse: 0.0813 - val_loss: 0.2444 - val_mse: 0.0956\n",
      "Epoch 53/200\n",
      "8/8 [==============================] - 0s 6ms/step - loss: 0.1894 - mse: 0.0588 - val_loss: 0.2530 - val_mse: 0.0988\n",
      "Epoch 54/200\n",
      "8/8 [==============================] - 0s 7ms/step - loss: 0.2562 - mse: 0.0953 - val_loss: 0.2387 - val_mse: 0.0931\n",
      "Epoch 55/200\n",
      "8/8 [==============================] - 0s 7ms/step - loss: 0.2201 - mse: 0.0806 - val_loss: 0.2411 - val_mse: 0.0934\n",
      "Epoch 56/200\n",
      "8/8 [==============================] - 0s 7ms/step - loss: 0.2058 - mse: 0.0680 - val_loss: 0.2486 - val_mse: 0.0952\n",
      "Epoch 57/200\n",
      "8/8 [==============================] - 0s 7ms/step - loss: 0.2164 - mse: 0.0924 - val_loss: 0.2471 - val_mse: 0.0939\n",
      "Epoch 58/200\n",
      "8/8 [==============================] - 0s 6ms/step - loss: 0.2464 - mse: 0.1081 - val_loss: 0.2356 - val_mse: 0.0889\n",
      "Epoch 59/200\n",
      "8/8 [==============================] - 0s 6ms/step - loss: 0.2187 - mse: 0.0775 - val_loss: 0.2360 - val_mse: 0.0881\n",
      "Epoch 60/200\n",
      "8/8 [==============================] - 0s 6ms/step - loss: 0.2028 - mse: 0.0699 - val_loss: 0.2807 - val_mse: 0.1025\n",
      "Epoch 61/200\n",
      "8/8 [==============================] - 0s 6ms/step - loss: 0.2086 - mse: 0.0773 - val_loss: 0.2815 - val_mse: 0.1027\n",
      "Epoch 62/200\n",
      "8/8 [==============================] - 0s 7ms/step - loss: 0.2043 - mse: 0.0650 - val_loss: 0.2389 - val_mse: 0.0885\n",
      "Epoch 63/200\n",
      "8/8 [==============================] - 0s 6ms/step - loss: 0.1894 - mse: 0.0624 - val_loss: 0.2307 - val_mse: 0.0915\n",
      "Epoch 64/200\n",
      "8/8 [==============================] - 0s 6ms/step - loss: 0.2274 - mse: 0.0898 - val_loss: 0.2576 - val_mse: 0.0964\n",
      "Epoch 65/200\n",
      "8/8 [==============================] - 0s 6ms/step - loss: 0.2351 - mse: 0.0870 - val_loss: 0.2585 - val_mse: 0.0972\n",
      "Epoch 66/200\n",
      "8/8 [==============================] - 0s 6ms/step - loss: 0.1947 - mse: 0.0700 - val_loss: 0.2280 - val_mse: 0.0889\n",
      "Epoch 67/200\n",
      "8/8 [==============================] - 0s 6ms/step - loss: 0.2105 - mse: 0.0702 - val_loss: 0.2330 - val_mse: 0.0925\n",
      "Epoch 68/200\n",
      "8/8 [==============================] - 0s 6ms/step - loss: 0.2094 - mse: 0.0702 - val_loss: 0.2462 - val_mse: 0.0981\n",
      "Epoch 69/200\n",
      "8/8 [==============================] - 0s 6ms/step - loss: 0.2647 - mse: 0.1114 - val_loss: 0.2749 - val_mse: 0.1124\n",
      "Epoch 70/200\n",
      "8/8 [==============================] - 0s 7ms/step - loss: 0.1870 - mse: 0.0635 - val_loss: 0.3062 - val_mse: 0.1255\n",
      "Epoch 71/200\n",
      "8/8 [==============================] - 0s 7ms/step - loss: 0.2072 - mse: 0.0620 - val_loss: 0.2849 - val_mse: 0.1105\n",
      "Epoch 72/200\n",
      "8/8 [==============================] - 0s 6ms/step - loss: 0.2065 - mse: 0.0764 - val_loss: 0.2412 - val_mse: 0.0947\n",
      "Epoch 73/200\n",
      "8/8 [==============================] - 0s 7ms/step - loss: 0.2097 - mse: 0.0740 - val_loss: 0.2385 - val_mse: 0.0954\n",
      "Epoch 74/200\n",
      "8/8 [==============================] - 0s 7ms/step - loss: 0.1738 - mse: 0.0536 - val_loss: 0.2301 - val_mse: 0.0897\n",
      "Epoch 75/200\n",
      "8/8 [==============================] - 0s 7ms/step - loss: 0.2393 - mse: 0.1099 - val_loss: 0.2480 - val_mse: 0.0933\n",
      "Epoch 76/200\n",
      "8/8 [==============================] - 0s 7ms/step - loss: 0.2092 - mse: 0.0750 - val_loss: 0.2612 - val_mse: 0.1007\n",
      "Epoch 77/200\n",
      "8/8 [==============================] - 0s 7ms/step - loss: 0.2116 - mse: 0.0736 - val_loss: 0.2439 - val_mse: 0.0928\n",
      "Epoch 78/200\n",
      "8/8 [==============================] - 0s 7ms/step - loss: 0.2170 - mse: 0.0744 - val_loss: 0.2394 - val_mse: 0.0908\n",
      "Epoch 79/200\n",
      "8/8 [==============================] - 0s 7ms/step - loss: 0.1936 - mse: 0.0618 - val_loss: 0.2471 - val_mse: 0.0968\n",
      "Epoch 80/200\n",
      "8/8 [==============================] - 0s 7ms/step - loss: 0.1844 - mse: 0.0591 - val_loss: 0.2581 - val_mse: 0.0992\n",
      "Epoch 81/200\n",
      "8/8 [==============================] - 0s 7ms/step - loss: 0.2054 - mse: 0.0667 - val_loss: 0.2354 - val_mse: 0.0960\n",
      "Epoch 82/200\n",
      "8/8 [==============================] - 0s 7ms/step - loss: 0.2351 - mse: 0.0981 - val_loss: 0.2315 - val_mse: 0.0904\n",
      "Epoch 83/200\n",
      "8/8 [==============================] - 0s 6ms/step - loss: 0.2207 - mse: 0.0821 - val_loss: 0.2446 - val_mse: 0.0896\n",
      "Epoch 84/200\n",
      "8/8 [==============================] - 0s 6ms/step - loss: 0.2037 - mse: 0.0700 - val_loss: 0.2459 - val_mse: 0.0920\n",
      "Epoch 85/200\n",
      "8/8 [==============================] - 0s 6ms/step - loss: 0.2023 - mse: 0.0797 - val_loss: 0.2337 - val_mse: 0.0915\n",
      "Epoch 86/200\n",
      "8/8 [==============================] - 0s 6ms/step - loss: 0.1786 - mse: 0.0578 - val_loss: 0.2259 - val_mse: 0.0909\n",
      "Epoch 87/200\n",
      "8/8 [==============================] - 0s 6ms/step - loss: 0.1964 - mse: 0.0632 - val_loss: 0.2320 - val_mse: 0.0889\n",
      "Epoch 88/200\n",
      "8/8 [==============================] - 0s 6ms/step - loss: 0.2368 - mse: 0.0926 - val_loss: 0.2389 - val_mse: 0.0908\n",
      "Epoch 89/200\n",
      "8/8 [==============================] - 0s 6ms/step - loss: 0.2017 - mse: 0.0777 - val_loss: 0.2446 - val_mse: 0.0932\n",
      "Epoch 90/200\n",
      "8/8 [==============================] - 0s 6ms/step - loss: 0.1897 - mse: 0.0636 - val_loss: 0.2334 - val_mse: 0.0894\n",
      "Epoch 91/200\n",
      "8/8 [==============================] - 0s 6ms/step - loss: 0.2092 - mse: 0.0724 - val_loss: 0.2286 - val_mse: 0.0905\n",
      "Epoch 92/200\n",
      "8/8 [==============================] - 0s 6ms/step - loss: 0.2370 - mse: 0.0795 - val_loss: 0.2538 - val_mse: 0.0929\n",
      "Epoch 93/200\n",
      "8/8 [==============================] - 0s 6ms/step - loss: 0.1830 - mse: 0.0546 - val_loss: 0.2955 - val_mse: 0.1158\n",
      "Epoch 94/200\n",
      "8/8 [==============================] - 0s 6ms/step - loss: 0.2391 - mse: 0.0860 - val_loss: 0.2787 - val_mse: 0.1104\n",
      "Epoch 95/200\n",
      "8/8 [==============================] - 0s 6ms/step - loss: 0.1581 - mse: 0.0439 - val_loss: 0.2529 - val_mse: 0.1019\n",
      "Epoch 96/200\n",
      "8/8 [==============================] - 0s 6ms/step - loss: 0.2048 - mse: 0.0653 - val_loss: 0.2390 - val_mse: 0.0936\n",
      "Epoch 97/200\n",
      "8/8 [==============================] - 0s 6ms/step - loss: 0.1857 - mse: 0.0526 - val_loss: 0.2488 - val_mse: 0.0922\n",
      "Epoch 98/200\n",
      "8/8 [==============================] - 0s 6ms/step - loss: 0.2075 - mse: 0.0646 - val_loss: 0.2376 - val_mse: 0.0920\n",
      "Epoch 99/200\n",
      "8/8 [==============================] - 0s 6ms/step - loss: 0.2152 - mse: 0.0804 - val_loss: 0.2429 - val_mse: 0.0948\n",
      "Epoch 100/200\n",
      "8/8 [==============================] - 0s 6ms/step - loss: 0.2042 - mse: 0.0662 - val_loss: 0.2461 - val_mse: 0.0977\n",
      "Epoch 101/200\n",
      "8/8 [==============================] - 0s 7ms/step - loss: 0.2448 - mse: 0.0874 - val_loss: 0.2712 - val_mse: 0.1075\n",
      "Epoch 102/200\n",
      "8/8 [==============================] - 0s 6ms/step - loss: 0.1720 - mse: 0.0475 - val_loss: 0.2600 - val_mse: 0.1068\n",
      "Epoch 103/200\n",
      "8/8 [==============================] - 0s 6ms/step - loss: 0.2276 - mse: 0.0843 - val_loss: 0.2530 - val_mse: 0.1039\n",
      "Epoch 104/200\n",
      "8/8 [==============================] - 0s 6ms/step - loss: 0.1622 - mse: 0.0447 - val_loss: 0.2377 - val_mse: 0.0968\n",
      "Epoch 105/200\n",
      "8/8 [==============================] - 0s 6ms/step - loss: 0.1714 - mse: 0.0560 - val_loss: 0.2491 - val_mse: 0.0959\n",
      "Epoch 106/200\n",
      "8/8 [==============================] - 0s 6ms/step - loss: 0.2305 - mse: 0.1026 - val_loss: 0.2800 - val_mse: 0.1072\n",
      "Epoch 107/200\n",
      "8/8 [==============================] - 0s 6ms/step - loss: 0.2286 - mse: 0.0863 - val_loss: 0.2683 - val_mse: 0.1081\n",
      "Epoch 108/200\n",
      "8/8 [==============================] - 0s 6ms/step - loss: 0.2406 - mse: 0.1042 - val_loss: 0.2588 - val_mse: 0.1056\n",
      "Epoch 109/200\n",
      "8/8 [==============================] - 0s 6ms/step - loss: 0.2036 - mse: 0.0662 - val_loss: 0.2461 - val_mse: 0.0978\n",
      "Epoch 110/200\n",
      "8/8 [==============================] - 0s 6ms/step - loss: 0.1791 - mse: 0.0568 - val_loss: 0.2345 - val_mse: 0.0883\n",
      "Epoch 111/200\n",
      "8/8 [==============================] - 0s 6ms/step - loss: 0.2033 - mse: 0.0691 - val_loss: 0.2269 - val_mse: 0.0858\n",
      "Epoch 112/200\n",
      "8/8 [==============================] - 0s 6ms/step - loss: 0.2209 - mse: 0.0714 - val_loss: 0.2478 - val_mse: 0.0939\n",
      "Epoch 113/200\n"
     ]
    },
    {
     "name": "stdout",
     "output_type": "stream",
     "text": [
      "8/8 [==============================] - 0s 6ms/step - loss: 0.2167 - mse: 0.0870 - val_loss: 0.2586 - val_mse: 0.1001\n",
      "Epoch 114/200\n",
      "8/8 [==============================] - 0s 6ms/step - loss: 0.1792 - mse: 0.0571 - val_loss: 0.2481 - val_mse: 0.0995\n",
      "Epoch 115/200\n",
      "8/8 [==============================] - 0s 6ms/step - loss: 0.1636 - mse: 0.0505 - val_loss: 0.2536 - val_mse: 0.1010\n",
      "Epoch 116/200\n",
      "8/8 [==============================] - 0s 6ms/step - loss: 0.1784 - mse: 0.0545 - val_loss: 0.2561 - val_mse: 0.1020\n",
      "Epoch 117/200\n",
      "8/8 [==============================] - 0s 6ms/step - loss: 0.1813 - mse: 0.0533 - val_loss: 0.2618 - val_mse: 0.1003\n",
      "Epoch 118/200\n",
      "8/8 [==============================] - 0s 6ms/step - loss: 0.2309 - mse: 0.0759 - val_loss: 0.2657 - val_mse: 0.1005\n",
      "Epoch 119/200\n",
      "8/8 [==============================] - 0s 7ms/step - loss: 0.1914 - mse: 0.0635 - val_loss: 0.2428 - val_mse: 0.0952\n",
      "Epoch 120/200\n",
      "8/8 [==============================] - 0s 6ms/step - loss: 0.1806 - mse: 0.0454 - val_loss: 0.2392 - val_mse: 0.0973\n",
      "Epoch 121/200\n",
      "8/8 [==============================] - 0s 6ms/step - loss: 0.1893 - mse: 0.0633 - val_loss: 0.2348 - val_mse: 0.0928\n",
      "Epoch 122/200\n",
      "8/8 [==============================] - 0s 6ms/step - loss: 0.2069 - mse: 0.0695 - val_loss: 0.2466 - val_mse: 0.0985\n",
      "Epoch 123/200\n",
      "8/8 [==============================] - 0s 7ms/step - loss: 0.1852 - mse: 0.0543 - val_loss: 0.2558 - val_mse: 0.1008\n",
      "Epoch 124/200\n",
      "8/8 [==============================] - 0s 7ms/step - loss: 0.1709 - mse: 0.0540 - val_loss: 0.2569 - val_mse: 0.1013\n",
      "Epoch 125/200\n",
      "8/8 [==============================] - 0s 6ms/step - loss: 0.1865 - mse: 0.0605 - val_loss: 0.2356 - val_mse: 0.0953\n",
      "Epoch 126/200\n",
      "8/8 [==============================] - 0s 6ms/step - loss: 0.1893 - mse: 0.0642 - val_loss: 0.2250 - val_mse: 0.0899\n",
      "Epoch 127/200\n",
      "8/8 [==============================] - 0s 6ms/step - loss: 0.1680 - mse: 0.0523 - val_loss: 0.2306 - val_mse: 0.0906\n",
      "Epoch 128/200\n",
      "8/8 [==============================] - 0s 7ms/step - loss: 0.2149 - mse: 0.0926 - val_loss: 0.2522 - val_mse: 0.0954\n",
      "Epoch 129/200\n",
      "8/8 [==============================] - 0s 6ms/step - loss: 0.2200 - mse: 0.0892 - val_loss: 0.2575 - val_mse: 0.1003\n",
      "Epoch 130/200\n",
      "8/8 [==============================] - 0s 6ms/step - loss: 0.1691 - mse: 0.0624 - val_loss: 0.2369 - val_mse: 0.0966\n",
      "Epoch 131/200\n",
      "8/8 [==============================] - 0s 7ms/step - loss: 0.1836 - mse: 0.0572 - val_loss: 0.2512 - val_mse: 0.0998\n",
      "Epoch 132/200\n",
      "8/8 [==============================] - 0s 6ms/step - loss: 0.1504 - mse: 0.0405 - val_loss: 0.2455 - val_mse: 0.0973\n",
      "Epoch 133/200\n",
      "8/8 [==============================] - 0s 6ms/step - loss: 0.1902 - mse: 0.0570 - val_loss: 0.2557 - val_mse: 0.1023\n",
      "Epoch 134/200\n",
      "8/8 [==============================] - 0s 6ms/step - loss: 0.1660 - mse: 0.0497 - val_loss: 0.2510 - val_mse: 0.1007\n",
      "Epoch 135/200\n",
      "8/8 [==============================] - 0s 6ms/step - loss: 0.2033 - mse: 0.0676 - val_loss: 0.2462 - val_mse: 0.1000\n",
      "Epoch 136/200\n",
      "8/8 [==============================] - ETA: 0s - loss: 0.0838 - mse: 0.012 - 0s 7ms/step - loss: 0.1972 - mse: 0.0666 - val_loss: 0.2531 - val_mse: 0.1039\n",
      "Epoch 137/200\n",
      "8/8 [==============================] - 0s 6ms/step - loss: 0.1713 - mse: 0.0471 - val_loss: 0.2528 - val_mse: 0.1037\n",
      "Epoch 138/200\n",
      "8/8 [==============================] - 0s 6ms/step - loss: 0.1951 - mse: 0.0669 - val_loss: 0.2431 - val_mse: 0.0976\n",
      "Epoch 139/200\n",
      "8/8 [==============================] - 0s 6ms/step - loss: 0.1982 - mse: 0.0686 - val_loss: 0.2430 - val_mse: 0.0963\n",
      "Epoch 140/200\n",
      "8/8 [==============================] - 0s 7ms/step - loss: 0.1725 - mse: 0.0507 - val_loss: 0.2396 - val_mse: 0.0939\n",
      "Epoch 141/200\n",
      "8/8 [==============================] - 0s 6ms/step - loss: 0.1502 - mse: 0.0422 - val_loss: 0.2666 - val_mse: 0.1044\n",
      "Epoch 142/200\n",
      "8/8 [==============================] - 0s 6ms/step - loss: 0.1733 - mse: 0.0478 - val_loss: 0.2755 - val_mse: 0.1098\n",
      "Epoch 143/200\n",
      "8/8 [==============================] - 0s 6ms/step - loss: 0.1556 - mse: 0.0407 - val_loss: 0.2470 - val_mse: 0.0990\n",
      "Epoch 144/200\n",
      "8/8 [==============================] - 0s 6ms/step - loss: 0.1763 - mse: 0.0544 - val_loss: 0.2502 - val_mse: 0.0952\n",
      "Epoch 145/200\n",
      "8/8 [==============================] - 0s 6ms/step - loss: 0.1892 - mse: 0.0708 - val_loss: 0.2380 - val_mse: 0.0910\n",
      "Epoch 146/200\n",
      "8/8 [==============================] - 0s 6ms/step - loss: 0.1721 - mse: 0.0542 - val_loss: 0.2355 - val_mse: 0.0910\n",
      "Epoch 147/200\n",
      "8/8 [==============================] - ETA: 0s - loss: 0.1648 - mse: 0.041 - 0s 6ms/step - loss: 0.1636 - mse: 0.0458 - val_loss: 0.2437 - val_mse: 0.0914\n",
      "Epoch 148/200\n",
      "8/8 [==============================] - 0s 6ms/step - loss: 0.2189 - mse: 0.0766 - val_loss: 0.2388 - val_mse: 0.0898\n",
      "Epoch 149/200\n",
      "8/8 [==============================] - 0s 6ms/step - loss: 0.2070 - mse: 0.0612 - val_loss: 0.2486 - val_mse: 0.0963\n",
      "Epoch 150/200\n",
      "8/8 [==============================] - 0s 6ms/step - loss: 0.1515 - mse: 0.0458 - val_loss: 0.2571 - val_mse: 0.0990\n",
      "Epoch 151/200\n",
      "8/8 [==============================] - 0s 6ms/step - loss: 0.1865 - mse: 0.0602 - val_loss: 0.2388 - val_mse: 0.0884\n",
      "Epoch 152/200\n",
      "8/8 [==============================] - 0s 6ms/step - loss: 0.1474 - mse: 0.0445 - val_loss: 0.2459 - val_mse: 0.0912\n",
      "Epoch 153/200\n",
      "8/8 [==============================] - 0s 6ms/step - loss: 0.1765 - mse: 0.0588 - val_loss: 0.2567 - val_mse: 0.0970\n",
      "Epoch 154/200\n",
      "8/8 [==============================] - 0s 6ms/step - loss: 0.1666 - mse: 0.0453 - val_loss: 0.2646 - val_mse: 0.1040\n",
      "Epoch 155/200\n",
      "8/8 [==============================] - 0s 6ms/step - loss: 0.2148 - mse: 0.0811 - val_loss: 0.2417 - val_mse: 0.0956\n",
      "Epoch 156/200\n",
      "8/8 [==============================] - 0s 6ms/step - loss: 0.1909 - mse: 0.0554 - val_loss: 0.2348 - val_mse: 0.0882\n",
      "Epoch 157/200\n",
      "8/8 [==============================] - 0s 6ms/step - loss: 0.1616 - mse: 0.0569 - val_loss: 0.2364 - val_mse: 0.0888\n",
      "Epoch 158/200\n",
      "8/8 [==============================] - 0s 6ms/step - loss: 0.2076 - mse: 0.0726 - val_loss: 0.2416 - val_mse: 0.0975\n",
      "Epoch 159/200\n",
      "8/8 [==============================] - 0s 6ms/step - loss: 0.1811 - mse: 0.0522 - val_loss: 0.2606 - val_mse: 0.1024\n",
      "Epoch 160/200\n",
      "8/8 [==============================] - 0s 6ms/step - loss: 0.2128 - mse: 0.0747 - val_loss: 0.2452 - val_mse: 0.0976\n",
      "Epoch 161/200\n",
      "8/8 [==============================] - 0s 6ms/step - loss: 0.1711 - mse: 0.0495 - val_loss: 0.2351 - val_mse: 0.0939\n",
      "Epoch 162/200\n",
      "8/8 [==============================] - 0s 9ms/step - loss: 0.2022 - mse: 0.0686 - val_loss: 0.2413 - val_mse: 0.0924\n",
      "Epoch 163/200\n",
      "8/8 [==============================] - 0s 7ms/step - loss: 0.1942 - mse: 0.0603 - val_loss: 0.2493 - val_mse: 0.0956\n",
      "Epoch 164/200\n",
      "8/8 [==============================] - 0s 6ms/step - loss: 0.1607 - mse: 0.0464 - val_loss: 0.2536 - val_mse: 0.1014\n",
      "Epoch 165/200\n",
      "8/8 [==============================] - 0s 7ms/step - loss: 0.2142 - mse: 0.0700 - val_loss: 0.2351 - val_mse: 0.0954\n",
      "Epoch 166/200\n",
      "8/8 [==============================] - 0s 7ms/step - loss: 0.1904 - mse: 0.0588 - val_loss: 0.2334 - val_mse: 0.0980\n",
      "Epoch 167/200\n",
      "8/8 [==============================] - 0s 7ms/step - loss: 0.1752 - mse: 0.0644 - val_loss: 0.2306 - val_mse: 0.0919\n",
      "Epoch 168/200\n",
      "8/8 [==============================] - 0s 7ms/step - loss: 0.1957 - mse: 0.0614 - val_loss: 0.2843 - val_mse: 0.1092\n",
      "Epoch 169/200\n",
      "8/8 [==============================] - 0s 7ms/step - loss: 0.2124 - mse: 0.0703 - val_loss: 0.2806 - val_mse: 0.1076\n",
      "Epoch 170/200\n",
      "8/8 [==============================] - 0s 7ms/step - loss: 0.1829 - mse: 0.0566 - val_loss: 0.2526 - val_mse: 0.0946\n",
      "Epoch 171/200\n",
      "8/8 [==============================] - 0s 7ms/step - loss: 0.1833 - mse: 0.0608 - val_loss: 0.2254 - val_mse: 0.0901\n",
      "Epoch 172/200\n",
      "8/8 [==============================] - 0s 7ms/step - loss: 0.1859 - mse: 0.0742 - val_loss: 0.2362 - val_mse: 0.0945\n",
      "Epoch 173/200\n",
      "8/8 [==============================] - 0s 7ms/step - loss: 0.1868 - mse: 0.0510 - val_loss: 0.2705 - val_mse: 0.1046\n",
      "Epoch 174/200\n",
      "8/8 [==============================] - 0s 7ms/step - loss: 0.1846 - mse: 0.0586 - val_loss: 0.2841 - val_mse: 0.1110\n",
      "Epoch 175/200\n"
     ]
    },
    {
     "name": "stdout",
     "output_type": "stream",
     "text": [
      "8/8 [==============================] - 0s 7ms/step - loss: 0.1923 - mse: 0.0623 - val_loss: 0.2648 - val_mse: 0.0989\n",
      "Epoch 176/200\n",
      "8/8 [==============================] - 0s 7ms/step - loss: 0.1659 - mse: 0.0518 - val_loss: 0.2540 - val_mse: 0.0941\n",
      "Epoch 177/200\n",
      "8/8 [==============================] - 0s 7ms/step - loss: 0.1973 - mse: 0.0665 - val_loss: 0.2415 - val_mse: 0.0917\n",
      "Epoch 178/200\n",
      "8/8 [==============================] - 0s 7ms/step - loss: 0.1676 - mse: 0.0487 - val_loss: 0.2346 - val_mse: 0.0902\n",
      "Epoch 179/200\n",
      "8/8 [==============================] - 0s 6ms/step - loss: 0.1658 - mse: 0.0479 - val_loss: 0.2563 - val_mse: 0.0963\n",
      "Epoch 180/200\n",
      "8/8 [==============================] - 0s 7ms/step - loss: 0.1551 - mse: 0.0384 - val_loss: 0.2724 - val_mse: 0.1040\n",
      "Epoch 181/200\n",
      "8/8 [==============================] - 0s 7ms/step - loss: 0.1498 - mse: 0.0352 - val_loss: 0.2616 - val_mse: 0.1025\n",
      "Epoch 182/200\n",
      "8/8 [==============================] - 0s 7ms/step - loss: 0.1587 - mse: 0.0436 - val_loss: 0.2572 - val_mse: 0.0994\n",
      "Epoch 183/200\n",
      "8/8 [==============================] - 0s 7ms/step - loss: 0.1505 - mse: 0.0339 - val_loss: 0.2430 - val_mse: 0.0944\n",
      "Epoch 184/200\n",
      "8/8 [==============================] - 0s 7ms/step - loss: 0.1522 - mse: 0.0508 - val_loss: 0.2585 - val_mse: 0.1005\n",
      "Epoch 185/200\n",
      "8/8 [==============================] - 0s 7ms/step - loss: 0.1597 - mse: 0.0455 - val_loss: 0.2751 - val_mse: 0.1073\n",
      "Epoch 186/200\n",
      "8/8 [==============================] - 0s 7ms/step - loss: 0.2044 - mse: 0.0634 - val_loss: 0.2585 - val_mse: 0.0971\n",
      "Epoch 187/200\n",
      "8/8 [==============================] - 0s 6ms/step - loss: 0.1662 - mse: 0.0464 - val_loss: 0.2663 - val_mse: 0.0990\n",
      "Epoch 188/200\n",
      "8/8 [==============================] - 0s 6ms/step - loss: 0.2123 - mse: 0.0740 - val_loss: 0.2376 - val_mse: 0.0922\n",
      "Epoch 189/200\n",
      "8/8 [==============================] - 0s 7ms/step - loss: 0.1797 - mse: 0.0690 - val_loss: 0.2418 - val_mse: 0.0922\n",
      "Epoch 190/200\n",
      "8/8 [==============================] - 0s 6ms/step - loss: 0.1600 - mse: 0.0479 - val_loss: 0.2924 - val_mse: 0.1127\n",
      "Epoch 191/200\n",
      "8/8 [==============================] - 0s 6ms/step - loss: 0.1719 - mse: 0.0515 - val_loss: 0.2931 - val_mse: 0.1152\n",
      "Epoch 192/200\n",
      "8/8 [==============================] - 0s 6ms/step - loss: 0.2109 - mse: 0.0738 - val_loss: 0.2819 - val_mse: 0.1107\n",
      "Epoch 193/200\n",
      "8/8 [==============================] - 0s 6ms/step - loss: 0.1323 - mse: 0.0345 - val_loss: 0.2700 - val_mse: 0.1053\n",
      "Epoch 194/200\n",
      "8/8 [==============================] - 0s 6ms/step - loss: 0.1743 - mse: 0.0494 - val_loss: 0.2552 - val_mse: 0.0964\n",
      "Epoch 195/200\n",
      "8/8 [==============================] - 0s 6ms/step - loss: 0.1697 - mse: 0.0501 - val_loss: 0.2509 - val_mse: 0.0938\n",
      "Epoch 196/200\n",
      "8/8 [==============================] - 0s 6ms/step - loss: 0.1780 - mse: 0.0555 - val_loss: 0.2429 - val_mse: 0.0925\n",
      "Epoch 197/200\n",
      "8/8 [==============================] - 0s 6ms/step - loss: 0.1625 - mse: 0.0463 - val_loss: 0.2441 - val_mse: 0.0937\n",
      "Epoch 198/200\n",
      "8/8 [==============================] - 0s 6ms/step - loss: 0.1737 - mse: 0.0495 - val_loss: 0.2532 - val_mse: 0.0968\n",
      "Epoch 199/200\n",
      "8/8 [==============================] - 0s 6ms/step - loss: 0.1704 - mse: 0.0599 - val_loss: 0.2876 - val_mse: 0.1106\n",
      "Epoch 200/200\n",
      "8/8 [==============================] - 0s 6ms/step - loss: 0.1523 - mse: 0.0449 - val_loss: 0.2763 - val_mse: 0.1037\n"
     ]
    }
   ],
   "source": [
    "EPOCHS=200\n",
    "\n",
    "model = crear_modeloFF()\n",
    "\n",
    "history=model.fit(trainX,y_train,epochs=EPOCHS,validation_data=(testX,y_val),batch_size=look_back)"
   ]
  },
  {
   "cell_type": "markdown",
   "metadata": {},
   "source": [
    "# Visualizamos resultados"
   ]
  },
  {
   "cell_type": "code",
   "execution_count": 19,
   "metadata": {},
   "outputs": [],
   "source": [
    "def mape(actual, pred): \n",
    "    actual, pred = np.array(actual), np.array(pred)\n",
    "    return np.mean(np.abs((actual - pred) / actual)) * 100\n",
    "\n",
    "\n",
    "def compute_metrics_fn(y_valid_resc, y_hat_resc):\n",
    "    mae_ = mean_absolute_error(y_valid_resc, y_hat_resc)\n",
    "    mse_ = mean_squared_error(y_valid_resc, y_hat_resc)\n",
    "    rmse_ = mean_squared_error(y_valid_resc, y_hat_resc, squared = False)\n",
    "    cvrmse_ = rmse_/np.mean(y_valid_resc)*100\n",
    "    mape_ = mape(y_valid_resc, y_hat_resc)\n",
    "    \n",
    "    return mae_, mse_, rmse_, cvrmse_, mape_"
   ]
  },
  {
   "cell_type": "code",
   "execution_count": 20,
   "metadata": {},
   "outputs": [
    {
     "name": "stdout",
     "output_type": "stream",
     "text": [
      "WARNING:tensorflow:Model was constructed with shape (None, 1, 7) for input KerasTensor(type_spec=TensorSpec(shape=(None, 1, 7), dtype=tf.float32, name='dense_input'), name='dense_input', description=\"created by layer 'dense_input'\"), but it was called on an input with incompatible shape (None, 7).\n"
     ]
    }
   ],
   "source": [
    "# hacemos las predicciones\n",
    "trainPredict = model.predict(x_train)\n",
    "testPredict = model.predict(x_val)\n",
    "\n",
    "# invertimos las predicciones\n",
    "trainPredict = scaler.inverse_transform(trainPredict)\n",
    "trainY = y_train.reshape(y_train.shape[0], 1)\n",
    "trainY_scalerInverse = scaler.inverse_transform(trainY)\n",
    "testPredict = scaler.inverse_transform(testPredict)\n",
    "testY = y_val.reshape(y_val.shape[0], 1)\n",
    "testY_scalerInverse = scaler.inverse_transform(testY)"
   ]
  },
  {
   "cell_type": "code",
   "execution_count": 21,
   "metadata": {},
   "outputs": [
    {
     "name": "stdout",
     "output_type": "stream",
     "text": [
      "Resultado del entrenamiento: 41.86 MAE\n",
      "Resultado del entrenamiento: 3103.61 MSE\n",
      "Resultado del entrenamiento: 55.71 RMSE\n",
      "Resultado del entrenamiento: 15.62 CVRMSE\n",
      "Resultado del entrenamiento: 15.63 MAPE \n",
      "\n",
      "Resultado del test: 69.63 MAE\n",
      "Resultado del test: 6582.75 MSE\n",
      "Resultado del test: 81.13 RMSE\n",
      "Resultado del test: 18.15 CVRMSE\n",
      "Resultado del test: 15.77 MAPE\n"
     ]
    }
   ],
   "source": [
    "# calculamos las metricas de error\n",
    "trainScore_MAE, trainScore_MSE, trainScore_RMSE, trainScore_CVRMSE, trainScore_MAPE  =  compute_metrics_fn(trainY_scalerInverse, trainPredict)\n",
    "print('Resultado del entrenamiento: %.2f MAE' % (trainScore_MAE))\n",
    "print('Resultado del entrenamiento: %.2f MSE' % (trainScore_MSE))\n",
    "print('Resultado del entrenamiento: %.2f RMSE' % (trainScore_RMSE))\n",
    "print('Resultado del entrenamiento: %.2f CVRMSE' % (trainScore_CVRMSE))\n",
    "print('Resultado del entrenamiento: %.2f MAPE \\n' % (trainScore_MAPE))\n",
    "\n",
    "testScore_MAE, testScore_MSE, testScore_RMSE, testScore_CVRMSE, testScore_MAPE  =  compute_metrics_fn(testY_scalerInverse, testPredict)\n",
    "print('Resultado del test: %.2f MAE' % (testScore_MAE))\n",
    "print('Resultado del test: %.2f MSE' % (testScore_MSE))\n",
    "print('Resultado del test: %.2f RMSE' % (testScore_RMSE))\n",
    "print('Resultado del test: %.2f CVRMSE' % (testScore_CVRMSE))\n",
    "print('Resultado del test: %.2f MAPE' % (testScore_MAPE))"
   ]
  },
  {
   "cell_type": "code",
   "execution_count": 22,
   "metadata": {},
   "outputs": [
    {
     "data": {
      "image/png": "[encoded data removed]",
      "text/plain": [
       "<Figure size 432x288 with 1 Axes>"
      ]
     },
     "metadata": {
      "needs_background": "light"
     },
     "output_type": "display_data"
    }
   ],
   "source": [
    "dataset = df.values\n",
    "dataset = dataset.astype('float32')\n",
    "# predicciones del entrenamiento de cambio para plotear\n",
    "trainPredictPlot = np.empty_like(dataset)\n",
    "trainPredictPlot[:, :] = np.nan\n",
    "trainPredictPlot[look_back:len(trainPredict)+look_back, :] = trainPredict\n",
    "# predicciones del test de cambio para plotear\n",
    "testPredictPlot = np.empty_like(dataset)\n",
    "testPredictPlot[:, :] = np.nan\n",
    "testPredictPlot[len(trainPredict)+(look_back):len(dataset), :] = testPredict\n",
    "# plot baseline and predictions\n",
    "plt.plot(df.values)\n",
    "# ploteamos linea base y predicciones\n",
    "plt.plot(trainPredictPlot,'r', linewidth = 2)\n",
    "plt.plot(testPredictPlot,'m', linewidth = 2)\n",
    "plt.legend( ('Datos', 'Prediccion datos entramiento', 'Prediccion sobre los datos de test'), loc = 'upper left')\n",
    "plt.grid(True)\n",
    "plt.title(\"Viajes totales\", fontsize = 15)\n",
    "plt.xlabel(\"Tiempo (dias)\", fontsize = 10)\n",
    "plt.ylabel(\"viajes (en miles)\", fontsize = 10)\n",
    "plt.show()"
   ]
  },
  {
   "cell_type": "code",
   "execution_count": 23,
   "metadata": {},
   "outputs": [
    {
     "data": {
      "image/png": "[encoded data removed]",
      "text/plain": [
       "<Figure size 432x288 with 1 Axes>"
      ]
     },
     "metadata": {
      "needs_background": "light"
     },
     "output_type": "display_data"
    }
   ],
   "source": [
    "results=model.predict(x_val)\n",
    "\n",
    "plt.scatter(range(len(y_val)),y_val,c='g')\n",
    "plt.scatter(range(len(results)),results,c='r')\n",
    "plt.title('validate')\n",
    "plt.xlabel(\"Tiempo (dias)\", fontsize = 10)\n",
    "plt.ylabel(\"viajes (en miles)\", fontsize = 10)\n",
    "plt.show()"
   ]
  },
  {
   "cell_type": "code",
   "execution_count": 24,
   "metadata": {},
   "outputs": [
    {
     "data": {
      "image/png": "[encoded data removed]",
      "text/plain": [
       "<Figure size 432x288 with 1 Axes>"
      ]
     },
     "metadata": {
      "needs_background": "light"
     },
     "output_type": "display_data"
    }
   ],
   "source": [
    "plt.plot(history.history['loss'])\n",
    "plt.plot(history.history['val_loss'])\n",
    "plt.title('loss')\n",
    "plt.legend( ('training loss', 'validate loss'), loc = 'upper right')\n",
    "plt.show()"
   ]
  },
  {
   "cell_type": "markdown",
   "metadata": {},
   "source": [
    "# Prediccion a futuro"
   ]
  },
  {
   "cell_type": "code",
   "execution_count": 25,
   "metadata": {},
   "outputs": [
    {
     "data": {
      "text/html": [
       "<div>\n",
       "<style scoped>\n",
       "    .dataframe tbody tr th:only-of-type {\n",
       "        vertical-align: middle;\n",
       "    }\n",
       "\n",
       "    .dataframe tbody tr th {\n",
       "        vertical-align: top;\n",
       "    }\n",
       "\n",
       "    .dataframe thead th {\n",
       "        text-align: right;\n",
       "    }\n",
       "</style>\n",
       "<table border=\"1\" class=\"dataframe\">\n",
       "  <thead>\n",
       "    <tr style=\"text-align: right;\">\n",
       "      <th></th>\n",
       "      <th>Viajes</th>\n",
       "    </tr>\n",
       "  </thead>\n",
       "  <tbody>\n",
       "    <tr>\n",
       "      <th>2020-06-07</th>\n",
       "      <td>381</td>\n",
       "    </tr>\n",
       "    <tr>\n",
       "      <th>2020-06-08</th>\n",
       "      <td>393</td>\n",
       "    </tr>\n",
       "    <tr>\n",
       "      <th>2020-06-09</th>\n",
       "      <td>413</td>\n",
       "    </tr>\n",
       "    <tr>\n",
       "      <th>2020-06-10</th>\n",
       "      <td>446</td>\n",
       "    </tr>\n",
       "    <tr>\n",
       "      <th>2020-06-11</th>\n",
       "      <td>459</td>\n",
       "    </tr>\n",
       "    <tr>\n",
       "      <th>2020-06-12</th>\n",
       "      <td>413</td>\n",
       "    </tr>\n",
       "    <tr>\n",
       "      <th>2020-06-13</th>\n",
       "      <td>396</td>\n",
       "    </tr>\n",
       "    <tr>\n",
       "      <th>2020-06-14</th>\n",
       "      <td>381</td>\n",
       "    </tr>\n",
       "    <tr>\n",
       "      <th>2020-06-15</th>\n",
       "      <td>614</td>\n",
       "    </tr>\n",
       "    <tr>\n",
       "      <th>2020-06-16</th>\n",
       "      <td>468</td>\n",
       "    </tr>\n",
       "    <tr>\n",
       "      <th>2020-06-17</th>\n",
       "      <td>453</td>\n",
       "    </tr>\n",
       "    <tr>\n",
       "      <th>2020-06-18</th>\n",
       "      <td>449</td>\n",
       "    </tr>\n",
       "    <tr>\n",
       "      <th>2020-06-19</th>\n",
       "      <td>541</td>\n",
       "    </tr>\n",
       "    <tr>\n",
       "      <th>2020-06-20</th>\n",
       "      <td>390</td>\n",
       "    </tr>\n",
       "  </tbody>\n",
       "</table>\n",
       "</div>"
      ],
      "text/plain": [
       "            Viajes\n",
       "2020-06-07     381\n",
       "2020-06-08     393\n",
       "2020-06-09     413\n",
       "2020-06-10     446\n",
       "2020-06-11     459\n",
       "2020-06-12     413\n",
       "2020-06-13     396\n",
       "2020-06-14     381\n",
       "2020-06-15     614\n",
       "2020-06-16     468\n",
       "2020-06-17     453\n",
       "2020-06-18     449\n",
       "2020-06-19     541\n",
       "2020-06-20     390"
      ]
     },
     "execution_count": 25,
     "metadata": {},
     "output_type": "execute_result"
    }
   ],
   "source": [
    "# usaremos los 14 ultimos dias del confinamiento en junio para predecir como habrian sido los dias del 21 al 27 en caso de que\n",
    "# el confinamiento se hubiese alargado por una semana mas\n",
    "\n",
    "ultimosDias = df['2020-6-7':'2020-6-20']\n",
    "ultimosDias"
   ]
  },
  {
   "cell_type": "markdown",
   "metadata": {},
   "source": [
    "# Preparamos los datos para el test"
   ]
  },
  {
   "cell_type": "code",
   "execution_count": 26,
   "metadata": {},
   "outputs": [
    {
     "data": {
      "text/html": [
       "<div>\n",
       "<style scoped>\n",
       "    .dataframe tbody tr th:only-of-type {\n",
       "        vertical-align: middle;\n",
       "    }\n",
       "\n",
       "    .dataframe tbody tr th {\n",
       "        vertical-align: top;\n",
       "    }\n",
       "\n",
       "    .dataframe thead th {\n",
       "        text-align: right;\n",
       "    }\n",
       "</style>\n",
       "<table border=\"1\" class=\"dataframe\">\n",
       "  <thead>\n",
       "    <tr style=\"text-align: right;\">\n",
       "      <th></th>\n",
       "      <th>var1(t-7)</th>\n",
       "      <th>var1(t-6)</th>\n",
       "      <th>var1(t-5)</th>\n",
       "      <th>var1(t-4)</th>\n",
       "      <th>var1(t-3)</th>\n",
       "      <th>var1(t-2)</th>\n",
       "      <th>var1(t-1)</th>\n",
       "    </tr>\n",
       "  </thead>\n",
       "  <tbody>\n",
       "    <tr>\n",
       "      <th>7</th>\n",
       "      <td>-1.000000</td>\n",
       "      <td>-0.896996</td>\n",
       "      <td>-0.725322</td>\n",
       "      <td>-0.442060</td>\n",
       "      <td>-0.330472</td>\n",
       "      <td>-0.725322</td>\n",
       "      <td>-0.871245</td>\n",
       "    </tr>\n",
       "    <tr>\n",
       "      <th>8</th>\n",
       "      <td>-0.896996</td>\n",
       "      <td>-0.725322</td>\n",
       "      <td>-0.442060</td>\n",
       "      <td>-0.330472</td>\n",
       "      <td>-0.725322</td>\n",
       "      <td>-0.871245</td>\n",
       "      <td>-1.000000</td>\n",
       "    </tr>\n",
       "    <tr>\n",
       "      <th>9</th>\n",
       "      <td>-0.725322</td>\n",
       "      <td>-0.442060</td>\n",
       "      <td>-0.330472</td>\n",
       "      <td>-0.725322</td>\n",
       "      <td>-0.871245</td>\n",
       "      <td>-1.000000</td>\n",
       "      <td>1.000000</td>\n",
       "    </tr>\n",
       "    <tr>\n",
       "      <th>10</th>\n",
       "      <td>-0.442060</td>\n",
       "      <td>-0.330472</td>\n",
       "      <td>-0.725322</td>\n",
       "      <td>-0.871245</td>\n",
       "      <td>-1.000000</td>\n",
       "      <td>1.000000</td>\n",
       "      <td>-0.253219</td>\n",
       "    </tr>\n",
       "    <tr>\n",
       "      <th>11</th>\n",
       "      <td>-0.330472</td>\n",
       "      <td>-0.725322</td>\n",
       "      <td>-0.871245</td>\n",
       "      <td>-1.000000</td>\n",
       "      <td>1.000000</td>\n",
       "      <td>-0.253219</td>\n",
       "      <td>-0.381974</td>\n",
       "    </tr>\n",
       "    <tr>\n",
       "      <th>12</th>\n",
       "      <td>-0.725322</td>\n",
       "      <td>-0.871245</td>\n",
       "      <td>-1.000000</td>\n",
       "      <td>1.000000</td>\n",
       "      <td>-0.253219</td>\n",
       "      <td>-0.381974</td>\n",
       "      <td>-0.416309</td>\n",
       "    </tr>\n",
       "    <tr>\n",
       "      <th>13</th>\n",
       "      <td>-0.871245</td>\n",
       "      <td>-1.000000</td>\n",
       "      <td>1.000000</td>\n",
       "      <td>-0.253219</td>\n",
       "      <td>-0.381974</td>\n",
       "      <td>-0.416309</td>\n",
       "      <td>0.373391</td>\n",
       "    </tr>\n",
       "  </tbody>\n",
       "</table>\n",
       "</div>"
      ],
      "text/plain": [
       "    var1(t-7)  var1(t-6)  var1(t-5)  var1(t-4)  var1(t-3)  var1(t-2)  \\\n",
       "7   -1.000000  -0.896996  -0.725322  -0.442060  -0.330472  -0.725322   \n",
       "8   -0.896996  -0.725322  -0.442060  -0.330472  -0.725322  -0.871245   \n",
       "9   -0.725322  -0.442060  -0.330472  -0.725322  -0.871245  -1.000000   \n",
       "10  -0.442060  -0.330472  -0.725322  -0.871245  -1.000000   1.000000   \n",
       "11  -0.330472  -0.725322  -0.871245  -1.000000   1.000000  -0.253219   \n",
       "12  -0.725322  -0.871245  -1.000000   1.000000  -0.253219  -0.381974   \n",
       "13  -0.871245  -1.000000   1.000000  -0.253219  -0.381974  -0.416309   \n",
       "\n",
       "    var1(t-1)  \n",
       "7   -0.871245  \n",
       "8   -1.000000  \n",
       "9    1.000000  \n",
       "10  -0.253219  \n",
       "11  -0.381974  \n",
       "12  -0.416309  \n",
       "13   0.373391  "
      ]
     },
     "execution_count": 26,
     "metadata": {},
     "output_type": "execute_result"
    }
   ],
   "source": [
    "# cargamos el dataframe en la variable values\n",
    "values = ultimosDias.values\n",
    "\n",
    "# convertimos los enteros en floats\n",
    "values = values.astype('float32')\n",
    "\n",
    "# normalizamos los datos a escala de entre -1 y 1\n",
    "values=values.reshape(-1, 1) # esto lo hacemos porque tenemos 1 sola dimension\n",
    "scaled = scaler.fit_transform(values)\n",
    "\n",
    "# usamos la funcion definida previamente\n",
    "reframed = series_to_supervised(scaled, look_back, 1)\n",
    "\n",
    "# eliminamos la ultima columna pues es parte de lo que queremos hayar\n",
    "reframed.drop(reframed.columns[[7]], inplace=True, axis=1)\n",
    "reframed.head(7)"
   ]
  },
  {
   "cell_type": "code",
   "execution_count": 27,
   "metadata": {},
   "outputs": [
    {
     "name": "stdout",
     "output_type": "stream",
     "text": [
      "(1, 1, 7)\n"
     ]
    },
    {
     "data": {
      "text/plain": [
       "array([[[-0.87124467, -1.        ,  1.        , -0.25321865,\n",
       "         -0.38197422, -0.41630888,  0.37339067]]], dtype=float32)"
      ]
     },
     "execution_count": 27,
     "metadata": {},
     "output_type": "execute_result"
    }
   ],
   "source": [
    "values = reframed.values\n",
    "\n",
    "#tomamos los valores para realizar el test\n",
    "x_test = values[6:, :]\n",
    "\n",
    "# reshape input to be 3D [samples, timesteps, features]\n",
    "x_test = x_test.reshape((x_test.shape[0], 1, x_test.shape[1]))\n",
    "print(x_test.shape)\n",
    "x_test"
   ]
  },
  {
   "cell_type": "code",
   "execution_count": 28,
   "metadata": {},
   "outputs": [],
   "source": [
    "#definimos la funcion para realizar el desplazamiento que se hara en el array cada prediccion pues para hacer\n",
    "#la siguiente prediccion eliminamos el dia mas antiguo, desplazamos un lugar el resto de dias y añadimos el ultimo dia que\n",
    "#se ha predecido, esto es por que para predecir un dia se usan los 7 dias previos\n",
    "\n",
    "def agregarNuevoValor(x_test,nuevoValor):\n",
    "    for i in range(x_test.shape[2]-1):\n",
    "        x_test[0][0][i] = x_test[0][0][i+1]\n",
    "    x_test[0][0][x_test.shape[2]-1]=nuevoValor\n",
    "    return x_test"
   ]
  },
  {
   "cell_type": "markdown",
   "metadata": {},
   "source": [
    "# Predicciones para la proxima semana"
   ]
  },
  {
   "cell_type": "code",
   "execution_count": 29,
   "metadata": {},
   "outputs": [
    {
     "name": "stdout",
     "output_type": "stream",
     "text": [
      "[[[-0.87124467 -1.          1.         -0.25321865 -0.38197422\n",
      "   -0.41630888  0.37339067]]]\n",
      "[[[-1.          1.         -0.25321865 -0.38197422 -0.41630888\n",
      "    0.37339067 -0.09874243]]]\n",
      "[[[ 1.         -0.25321865 -0.38197422 -0.41630888  0.37339067\n",
      "   -0.09874243 -0.40459114]]]\n",
      "[[[-0.25321865 -0.38197422 -0.41630888  0.37339067 -0.09874243\n",
      "   -0.40459114  0.16540909]]]\n",
      "[[[-0.38197422 -0.41630888  0.37339067 -0.09874243 -0.40459114\n",
      "    0.16540909  0.21328378]]]\n",
      "[[[-0.41630888  0.37339067 -0.09874243 -0.40459114  0.16540909\n",
      "    0.21328378  0.0735407 ]]]\n",
      "[[[ 0.37339067 -0.09874243 -0.40459114  0.16540909  0.21328378\n",
      "    0.0735407  -0.29657283]]]\n"
     ]
    }
   ],
   "source": [
    "results=[]\n",
    "for i in range(7):\n",
    "    parcial=model.predict(x_test)\n",
    "    results.append(parcial[0])\n",
    "    print(x_test)\n",
    "    x_test=agregarNuevoValor(x_test,parcial[0])"
   ]
  },
  {
   "cell_type": "markdown",
   "metadata": {},
   "source": [
    "# Re-Convertimos los resultados"
   ]
  },
  {
   "cell_type": "code",
   "execution_count": 30,
   "metadata": {},
   "outputs": [
    {
     "name": "stdout",
     "output_type": "stream",
     "text": [
      "[array([-0.09874243], dtype=float32), array([-0.40459114], dtype=float32), array([0.16540909], dtype=float32), array([0.21328378], dtype=float32), array([0.0735407], dtype=float32), array([-0.29657283], dtype=float32), array([0.18887496], dtype=float32)]\n"
     ]
    },
    {
     "data": {
      "text/plain": [
       "array([[485.99650199],\n",
       "       [450.36512718],\n",
       "       [516.77015425],\n",
       "       [522.34755554],\n",
       "       [506.0674873 ],\n",
       "       [462.94926019],\n",
       "       [519.50392832]])"
      ]
     },
     "execution_count": 30,
     "metadata": {},
     "output_type": "execute_result"
    }
   ],
   "source": [
    "adimen = [x for x in results]    \n",
    "print(adimen)\n",
    "inverted = scaler.inverse_transform(adimen)\n",
    "inverted"
   ]
  },
  {
   "cell_type": "markdown",
   "metadata": {},
   "source": [
    "# Visualizamos el pronostico"
   ]
  },
  {
   "cell_type": "code",
   "execution_count": 31,
   "metadata": {},
   "outputs": [
    {
     "data": {
      "text/plain": [
       "<AxesSubplot:>"
      ]
     },
     "execution_count": 31,
     "metadata": {},
     "output_type": "execute_result"
    },
    {
     "data": {
      "image/png": "[encoded data removed]",
      "text/plain": [
       "<Figure size 432x288 with 1 Axes>"
      ]
     },
     "metadata": {
      "needs_background": "light"
     },
     "output_type": "display_data"
    }
   ],
   "source": [
    "prediccion = pd.DataFrame(inverted)\n",
    "prediccion.columns = ['pronostico']\n",
    "prediccion.plot()"
   ]
  },
  {
   "cell_type": "markdown",
   "metadata": {},
   "source": [
    "# Prediccion con datos actuales"
   ]
  },
  {
   "cell_type": "code",
   "execution_count": 32,
   "metadata": {},
   "outputs": [
    {
     "data": {
      "text/html": [
       "<div>\n",
       "<style scoped>\n",
       "    .dataframe tbody tr th:only-of-type {\n",
       "        vertical-align: middle;\n",
       "    }\n",
       "\n",
       "    .dataframe tbody tr th {\n",
       "        vertical-align: top;\n",
       "    }\n",
       "\n",
       "    .dataframe thead th {\n",
       "        text-align: right;\n",
       "    }\n",
       "</style>\n",
       "<table border=\"1\" class=\"dataframe\">\n",
       "  <thead>\n",
       "    <tr style=\"text-align: right;\">\n",
       "      <th></th>\n",
       "      <th>Viajes</th>\n",
       "    </tr>\n",
       "  </thead>\n",
       "  <tbody>\n",
       "    <tr>\n",
       "      <th>2020-05-11</th>\n",
       "      <td>417</td>\n",
       "    </tr>\n",
       "    <tr>\n",
       "      <th>2020-05-12</th>\n",
       "      <td>423</td>\n",
       "    </tr>\n",
       "    <tr>\n",
       "      <th>2020-05-13</th>\n",
       "      <td>513</td>\n",
       "    </tr>\n",
       "    <tr>\n",
       "      <th>2020-05-14</th>\n",
       "      <td>424</td>\n",
       "    </tr>\n",
       "    <tr>\n",
       "      <th>2020-05-15</th>\n",
       "      <td>404</td>\n",
       "    </tr>\n",
       "    <tr>\n",
       "      <th>2020-05-16</th>\n",
       "      <td>431</td>\n",
       "    </tr>\n",
       "    <tr>\n",
       "      <th>2020-05-17</th>\n",
       "      <td>332</td>\n",
       "    </tr>\n",
       "    <tr>\n",
       "      <th>2020-05-18</th>\n",
       "      <td>441</td>\n",
       "    </tr>\n",
       "    <tr>\n",
       "      <th>2020-05-19</th>\n",
       "      <td>431</td>\n",
       "    </tr>\n",
       "    <tr>\n",
       "      <th>2020-05-20</th>\n",
       "      <td>463</td>\n",
       "    </tr>\n",
       "    <tr>\n",
       "      <th>2020-05-21</th>\n",
       "      <td>451</td>\n",
       "    </tr>\n",
       "    <tr>\n",
       "      <th>2020-05-22</th>\n",
       "      <td>429</td>\n",
       "    </tr>\n",
       "    <tr>\n",
       "      <th>2020-05-23</th>\n",
       "      <td>535</td>\n",
       "    </tr>\n",
       "    <tr>\n",
       "      <th>2020-05-24</th>\n",
       "      <td>346</td>\n",
       "    </tr>\n",
       "  </tbody>\n",
       "</table>\n",
       "</div>"
      ],
      "text/plain": [
       "            Viajes\n",
       "2020-05-11     417\n",
       "2020-05-12     423\n",
       "2020-05-13     513\n",
       "2020-05-14     424\n",
       "2020-05-15     404\n",
       "2020-05-16     431\n",
       "2020-05-17     332\n",
       "2020-05-18     441\n",
       "2020-05-19     431\n",
       "2020-05-20     463\n",
       "2020-05-21     451\n",
       "2020-05-22     429\n",
       "2020-05-23     535\n",
       "2020-05-24     346"
      ]
     },
     "execution_count": 32,
     "metadata": {},
     "output_type": "execute_result"
    }
   ],
   "source": [
    "# usaremos 14 dias que poseemos para predecir los 7 dias siguientes tras esto compararemos los resultados con los que\n",
    "# poseemos para ver el grado de error\n",
    "\n",
    "Dias = df['2020-5-11':'2020-5-24']\n",
    "Dias"
   ]
  },
  {
   "cell_type": "markdown",
   "metadata": {},
   "source": [
    "# Preparamos los datos para el test"
   ]
  },
  {
   "cell_type": "code",
   "execution_count": 33,
   "metadata": {},
   "outputs": [
    {
     "data": {
      "text/html": [
       "<div>\n",
       "<style scoped>\n",
       "    .dataframe tbody tr th:only-of-type {\n",
       "        vertical-align: middle;\n",
       "    }\n",
       "\n",
       "    .dataframe tbody tr th {\n",
       "        vertical-align: top;\n",
       "    }\n",
       "\n",
       "    .dataframe thead th {\n",
       "        text-align: right;\n",
       "    }\n",
       "</style>\n",
       "<table border=\"1\" class=\"dataframe\">\n",
       "  <thead>\n",
       "    <tr style=\"text-align: right;\">\n",
       "      <th></th>\n",
       "      <th>var1(t-7)</th>\n",
       "      <th>var1(t-6)</th>\n",
       "      <th>var1(t-5)</th>\n",
       "      <th>var1(t-4)</th>\n",
       "      <th>var1(t-3)</th>\n",
       "      <th>var1(t-2)</th>\n",
       "      <th>var1(t-1)</th>\n",
       "    </tr>\n",
       "  </thead>\n",
       "  <tbody>\n",
       "    <tr>\n",
       "      <th>7</th>\n",
       "      <td>-0.162562</td>\n",
       "      <td>-0.103448</td>\n",
       "      <td>0.783251</td>\n",
       "      <td>-0.093596</td>\n",
       "      <td>-0.290641</td>\n",
       "      <td>-0.024631</td>\n",
       "      <td>-1.000000</td>\n",
       "    </tr>\n",
       "    <tr>\n",
       "      <th>8</th>\n",
       "      <td>-0.103448</td>\n",
       "      <td>0.783251</td>\n",
       "      <td>-0.093596</td>\n",
       "      <td>-0.290641</td>\n",
       "      <td>-0.024631</td>\n",
       "      <td>-1.000000</td>\n",
       "      <td>0.073892</td>\n",
       "    </tr>\n",
       "    <tr>\n",
       "      <th>9</th>\n",
       "      <td>0.783251</td>\n",
       "      <td>-0.093596</td>\n",
       "      <td>-0.290641</td>\n",
       "      <td>-0.024631</td>\n",
       "      <td>-1.000000</td>\n",
       "      <td>0.073892</td>\n",
       "      <td>-0.024631</td>\n",
       "    </tr>\n",
       "    <tr>\n",
       "      <th>10</th>\n",
       "      <td>-0.093596</td>\n",
       "      <td>-0.290641</td>\n",
       "      <td>-0.024631</td>\n",
       "      <td>-1.000000</td>\n",
       "      <td>0.073892</td>\n",
       "      <td>-0.024631</td>\n",
       "      <td>0.290640</td>\n",
       "    </tr>\n",
       "    <tr>\n",
       "      <th>11</th>\n",
       "      <td>-0.290641</td>\n",
       "      <td>-0.024631</td>\n",
       "      <td>-1.000000</td>\n",
       "      <td>0.073892</td>\n",
       "      <td>-0.024631</td>\n",
       "      <td>0.290640</td>\n",
       "      <td>0.172414</td>\n",
       "    </tr>\n",
       "    <tr>\n",
       "      <th>12</th>\n",
       "      <td>-0.024631</td>\n",
       "      <td>-1.000000</td>\n",
       "      <td>0.073892</td>\n",
       "      <td>-0.024631</td>\n",
       "      <td>0.290640</td>\n",
       "      <td>0.172414</td>\n",
       "      <td>-0.044335</td>\n",
       "    </tr>\n",
       "    <tr>\n",
       "      <th>13</th>\n",
       "      <td>-1.000000</td>\n",
       "      <td>0.073892</td>\n",
       "      <td>-0.024631</td>\n",
       "      <td>0.290640</td>\n",
       "      <td>0.172414</td>\n",
       "      <td>-0.044335</td>\n",
       "      <td>1.000000</td>\n",
       "    </tr>\n",
       "  </tbody>\n",
       "</table>\n",
       "</div>"
      ],
      "text/plain": [
       "    var1(t-7)  var1(t-6)  var1(t-5)  var1(t-4)  var1(t-3)  var1(t-2)  \\\n",
       "7   -0.162562  -0.103448   0.783251  -0.093596  -0.290641  -0.024631   \n",
       "8   -0.103448   0.783251  -0.093596  -0.290641  -0.024631  -1.000000   \n",
       "9    0.783251  -0.093596  -0.290641  -0.024631  -1.000000   0.073892   \n",
       "10  -0.093596  -0.290641  -0.024631  -1.000000   0.073892  -0.024631   \n",
       "11  -0.290641  -0.024631  -1.000000   0.073892  -0.024631   0.290640   \n",
       "12  -0.024631  -1.000000   0.073892  -0.024631   0.290640   0.172414   \n",
       "13  -1.000000   0.073892  -0.024631   0.290640   0.172414  -0.044335   \n",
       "\n",
       "    var1(t-1)  \n",
       "7   -1.000000  \n",
       "8    0.073892  \n",
       "9   -0.024631  \n",
       "10   0.290640  \n",
       "11   0.172414  \n",
       "12  -0.044335  \n",
       "13   1.000000  "
      ]
     },
     "execution_count": 33,
     "metadata": {},
     "output_type": "execute_result"
    }
   ],
   "source": [
    "# cargamos el dataframe en la variable values\n",
    "values = Dias.values\n",
    "\n",
    "# convertimos los enteros en floats\n",
    "values = values.astype('float32')\n",
    "\n",
    "# normalizamos los datos a escala de entre -1 y 1\n",
    "values=values.reshape(-1, 1) # esto lo hacemos porque tenemos 1 sola dimension\n",
    "scaled = scaler.fit_transform(values)\n",
    "\n",
    "# usamos la funcion definida previamente\n",
    "reframed = series_to_supervised(scaled, look_back, 1)\n",
    "\n",
    "# eliminamos la ultima columna pues es parte de lo que queremos hayar\n",
    "reframed.drop(reframed.columns[[7]], inplace=True, axis=1)\n",
    "reframed.head(7)"
   ]
  },
  {
   "cell_type": "code",
   "execution_count": 34,
   "metadata": {},
   "outputs": [
    {
     "name": "stdout",
     "output_type": "stream",
     "text": [
      "(1, 1, 7)\n"
     ]
    },
    {
     "data": {
      "text/plain": [
       "array([[[-1.        ,  0.07389164, -0.02463055,  0.29064035,\n",
       "          0.17241383, -0.04433489,  1.        ]]], dtype=float32)"
      ]
     },
     "execution_count": 34,
     "metadata": {},
     "output_type": "execute_result"
    }
   ],
   "source": [
    "values = reframed.values\n",
    "\n",
    "#tomamos los valores para realizar el test\n",
    "x_test = values[6:, :]\n",
    "\n",
    "# reshape input to be 3D [samples, timesteps, features] - preguntar\n",
    "x_test = x_test.reshape((x_test.shape[0], 1, x_test.shape[1]))\n",
    "print(x_test.shape)\n",
    "x_test"
   ]
  },
  {
   "cell_type": "code",
   "execution_count": 35,
   "metadata": {},
   "outputs": [],
   "source": [
    "#en la linea 24 definimos la funcion para realizar el desplazamiento que se hara en el array cada prediccion pues para hacer\n",
    "#la siguiente prediccion eliminamos el dia mas antiguo, desplazamos un lugar el resto de dias y añadimos el ultimo dia que\n",
    "#se ha predecido, esto es por que para predecir un dia se usan los 7 dias previos, y que usaremos a continuación"
   ]
  },
  {
   "cell_type": "markdown",
   "metadata": {},
   "source": [
    "# Realizamos la prediccion "
   ]
  },
  {
   "cell_type": "code",
   "execution_count": 36,
   "metadata": {},
   "outputs": [
    {
     "name": "stdout",
     "output_type": "stream",
     "text": [
      "[[[-1.          0.07389164 -0.02463055  0.29064035  0.17241383\n",
      "   -0.04433489  1.        ]]]\n",
      "[[[ 0.07389164 -0.02463055  0.29064035  0.17241383 -0.04433489\n",
      "    1.          0.12016375]]]\n",
      "[[[-0.02463055  0.29064035  0.17241383 -0.04433489  1.\n",
      "    0.12016375  0.39755064]]]\n",
      "[[[ 0.29064035  0.17241383 -0.04433489  1.          0.12016375\n",
      "    0.39755064  0.08497828]]]\n",
      "[[[ 0.17241383 -0.04433489  1.          0.12016375  0.39755064\n",
      "    0.08497828  0.60063666]]]\n",
      "[[[-0.04433489  1.          0.12016375  0.39755064  0.08497828\n",
      "    0.60063666  0.43866912]]]\n",
      "[[[1.         0.12016375 0.39755064 0.08497828 0.60063666 0.43866912\n",
      "   0.28090283]]]\n"
     ]
    }
   ],
   "source": [
    "results=[]\n",
    "for i in range(7):\n",
    "    parcial=model.predict(x_test)\n",
    "    results.append(parcial[0])\n",
    "    print(x_test)\n",
    "    x_test=agregarNuevoValor(x_test,parcial[0])"
   ]
  },
  {
   "cell_type": "markdown",
   "metadata": {},
   "source": [
    "# Re-Convertimos los resultados"
   ]
  },
  {
   "cell_type": "code",
   "execution_count": 37,
   "metadata": {
    "scrolled": false
   },
   "outputs": [
    {
     "name": "stdout",
     "output_type": "stream",
     "text": [
      "[array([0.12016375], dtype=float32), array([0.39755064], dtype=float32), array([0.08497828], dtype=float32), array([0.60063666], dtype=float32), array([0.43866912], dtype=float32), array([0.28090283], dtype=float32), array([0.62333703], dtype=float32)]\n"
     ]
    },
    {
     "data": {
      "text/plain": [
       "array([[446],\n",
       "       [474],\n",
       "       [442],\n",
       "       [494],\n",
       "       [478],\n",
       "       [462],\n",
       "       [497]])"
      ]
     },
     "execution_count": 37,
     "metadata": {},
     "output_type": "execute_result"
    }
   ],
   "source": [
    "adimen = [x for x in results]    \n",
    "print(adimen)\n",
    "inverted = scaler.inverse_transform(adimen)\n",
    "\n",
    "#en nuestro problema no tienen sentido los decimales pues no se pueden hacer 0.5 viajes o 0.25 viajes\n",
    "inverted = inverted.round()\n",
    "inverted = inverted.astype(int)\n",
    "inverted"
   ]
  },
  {
   "cell_type": "markdown",
   "metadata": {},
   "source": [
    "# Visualizamos el pronostico"
   ]
  },
  {
   "cell_type": "code",
   "execution_count": 38,
   "metadata": {
    "scrolled": true
   },
   "outputs": [
    {
     "data": {
      "text/plain": [
       "<AxesSubplot:>"
      ]
     },
     "execution_count": 38,
     "metadata": {},
     "output_type": "execute_result"
    },
    {
     "data": {
      "image/png": "[encoded data removed]",
      "text/plain": [
       "<Figure size 432x288 with 1 Axes>"
      ]
     },
     "metadata": {
      "needs_background": "light"
     },
     "output_type": "display_data"
    }
   ],
   "source": [
    "e_date = datetime.datetime.strptime('2020-05-31', '%Y-%m-%d')\n",
    "i_date = datetime.datetime.strptime('2020-05-25', '%Y-%m-%d')\n",
    "delta = e_date - i_date\n",
    "\n",
    "index_days = []\n",
    "for i in range(delta.days + 1):\n",
    "    day = i_date + timedelta(days=i)\n",
    "    index_days.append(day)\n",
    "\n",
    "prediccion = pd.DataFrame(inverted, index= index_days)\n",
    "prediccion.columns = ['pronostico']\n",
    "prediccion.plot()"
   ]
  },
  {
   "cell_type": "code",
   "execution_count": 39,
   "metadata": {},
   "outputs": [
    {
     "data": {
      "text/html": [
       "<div>\n",
       "<style scoped>\n",
       "    .dataframe tbody tr th:only-of-type {\n",
       "        vertical-align: middle;\n",
       "    }\n",
       "\n",
       "    .dataframe tbody tr th {\n",
       "        vertical-align: top;\n",
       "    }\n",
       "\n",
       "    .dataframe thead th {\n",
       "        text-align: right;\n",
       "    }\n",
       "</style>\n",
       "<table border=\"1\" class=\"dataframe\">\n",
       "  <thead>\n",
       "    <tr style=\"text-align: right;\">\n",
       "      <th></th>\n",
       "      <th>real</th>\n",
       "      <th>prediccion</th>\n",
       "    </tr>\n",
       "  </thead>\n",
       "  <tbody>\n",
       "    <tr>\n",
       "      <th>2020-05-25</th>\n",
       "      <td>435</td>\n",
       "      <td>446</td>\n",
       "    </tr>\n",
       "    <tr>\n",
       "      <th>2020-05-26</th>\n",
       "      <td>421</td>\n",
       "      <td>474</td>\n",
       "    </tr>\n",
       "    <tr>\n",
       "      <th>2020-05-27</th>\n",
       "      <td>521</td>\n",
       "      <td>442</td>\n",
       "    </tr>\n",
       "    <tr>\n",
       "      <th>2020-05-28</th>\n",
       "      <td>442</td>\n",
       "      <td>494</td>\n",
       "    </tr>\n",
       "    <tr>\n",
       "      <th>2020-05-29</th>\n",
       "      <td>476</td>\n",
       "      <td>478</td>\n",
       "    </tr>\n",
       "    <tr>\n",
       "      <th>2020-05-30</th>\n",
       "      <td>433</td>\n",
       "      <td>462</td>\n",
       "    </tr>\n",
       "    <tr>\n",
       "      <th>2020-05-31</th>\n",
       "      <td>404</td>\n",
       "      <td>497</td>\n",
       "    </tr>\n",
       "  </tbody>\n",
       "</table>\n",
       "</div>"
      ],
      "text/plain": [
       "            real  prediccion\n",
       "2020-05-25   435         446\n",
       "2020-05-26   421         474\n",
       "2020-05-27   521         442\n",
       "2020-05-28   442         494\n",
       "2020-05-29   476         478\n",
       "2020-05-30   433         462\n",
       "2020-05-31   404         497"
      ]
     },
     "execution_count": 39,
     "metadata": {},
     "output_type": "execute_result"
    }
   ],
   "source": [
    "datosReales = df['2020-5-25':'2020-5-31']\n",
    "\n",
    "compara = pd.concat([datosReales, prediccion], axis=1)\n",
    "compara.columns = ['real', 'prediccion']\n",
    "compara"
   ]
  },
  {
   "cell_type": "code",
   "execution_count": 40,
   "metadata": {},
   "outputs": [
    {
     "data": {
      "text/plain": [
       "<AxesSubplot:>"
      ]
     },
     "execution_count": 40,
     "metadata": {},
     "output_type": "execute_result"
    },
    {
     "data": {
      "image/png": "[encoded data removed]",
      "text/plain": [
       "<Figure size 432x288 with 1 Axes>"
      ]
     },
     "metadata": {
      "needs_background": "light"
     },
     "output_type": "display_data"
    }
   ],
   "source": [
    "compara['real'].plot()\n",
    "compara['prediccion'].plot()"
   ]
  },
  {
   "cell_type": "code",
   "execution_count": 41,
   "metadata": {
    "scrolled": false
   },
   "outputs": [
    {
     "name": "stdout",
     "output_type": "stream",
     "text": [
      "Resultado del test: 45.57 MAE\n",
      "Resultado del test: 3052.71 MSE\n",
      "Resultado del test: 55.25 RMSE\n",
      "Resultado del test: 11.74 CVRMSE\n",
      "Resultado del test: 9.64 MAPE\n"
     ]
    }
   ],
   "source": [
    "# calculamos las metricas de error\n",
    "testScore_MAE, testScore_MSE, testScore_RMSE, testScore_CVRMSE, testScore_MAPE  =  compute_metrics_fn(prediccion, datosReales)\n",
    "print('Resultado del test: %.2f MAE' % (testScore_MAE))\n",
    "print('Resultado del test: %.2f MSE' % (testScore_MSE))\n",
    "print('Resultado del test: %.2f RMSE' % (testScore_RMSE))\n",
    "print('Resultado del test: %.2f CVRMSE' % (testScore_CVRMSE))\n",
    "print('Resultado del test: %.2f MAPE' % (testScore_MAPE))"
   ]
  },
  {
   "cell_type": "code",
   "execution_count": 42,
   "metadata": {},
   "outputs": [
    {
     "name": "stdout",
     "output_type": "stream",
     "text": [
      "Resultado del test dia 1: 11.00 MAE\n",
      "Resultado del test dia 1: 121.00 MSE\n",
      "Resultado del test dia 1: 11.00 RMSE\n",
      "Resultado del test dia 1: 2.47 CVRMSE\n",
      "Resultado del test dia 1: 2.47 MAPE \n",
      "\n",
      "Resultado del test dia 2: 53.00 MAE\n",
      "Resultado del test dia 2: 2809.00 MSE\n",
      "Resultado del test dia 2: 53.00 RMSE\n",
      "Resultado del test dia 2: 11.18 CVRMSE\n",
      "Resultado del test dia 2: 11.18 MAPE \n",
      "\n",
      "Resultado del test dia 3: 79.00 MAE\n",
      "Resultado del test dia 3: 6241.00 MSE\n",
      "Resultado del test dia 3: 79.00 RMSE\n",
      "Resultado del test dia 3: 17.87 CVRMSE\n",
      "Resultado del test dia 3: 17.87 MAPE \n",
      "\n",
      "Resultado del test dia 4: 52.00 MAE\n",
      "Resultado del test dia 4: 2704.00 MSE\n",
      "Resultado del test dia 4: 52.00 RMSE\n",
      "Resultado del test dia 4: 10.53 CVRMSE\n",
      "Resultado del test dia 4: 10.53 MAPE \n",
      "\n",
      "Resultado del test dia 5: 2.00 MAE\n",
      "Resultado del test dia 5: 4.00 MSE\n",
      "Resultado del test dia 5: 2.00 RMSE\n",
      "Resultado del test dia 5: 0.42 CVRMSE\n",
      "Resultado del test dia 5: 0.42 MAPE \n",
      "\n",
      "Resultado del test dia 6: 29.00 MAE\n",
      "Resultado del test dia 6: 841.00 MSE\n",
      "Resultado del test dia 6: 29.00 RMSE\n",
      "Resultado del test dia 6: 6.28 CVRMSE\n",
      "Resultado del test dia 6: 6.28 MAPE \n",
      "\n",
      "Resultado del test dia 7: 93.00 MAE\n",
      "Resultado del test dia 7: 8649.00 MSE\n",
      "Resultado del test dia 7: 93.00 RMSE\n",
      "Resultado del test dia 7: 18.71 CVRMSE\n",
      "Resultado del test dia 7: 18.71 MAPE \n",
      "\n"
     ]
    }
   ],
   "source": [
    "# calculamos las metricas de error para cada dia por separado\n",
    "for i in range(7):\n",
    "    testScore_MAE, testScore_MSE, testScore_RMSE, testScore_CVRMSE, testScore_MAPE  =  compute_metrics_fn(prediccion.values[i], datosReales.values[i])\n",
    "    day = i + 1\n",
    "    print('Resultado del test dia %d: %.2f MAE' % (day, testScore_MAE))\n",
    "    print('Resultado del test dia %d: %.2f MSE' % (day, testScore_MSE))\n",
    "    print('Resultado del test dia %d: %.2f RMSE' % (day, testScore_RMSE))\n",
    "    print('Resultado del test dia %d: %.2f CVRMSE' % (day, testScore_CVRMSE))\n",
    "    print('Resultado del test dia %d: %.2f MAPE \\n' % (day, testScore_MAPE))"
   ]
  }
 ],
 "metadata": {
  "kernelspec": {
   "display_name": "Python 3",
   "language": "python",
   "name": "python3"
  },
  "language_info": {
   "codemirror_mode": {
    "name": "ipython",
    "version": 3
   },
   "file_extension": ".py",
   "mimetype": "text/x-python",
   "name": "python",
   "nbconvert_exporter": "python",
   "pygments_lexer": "ipython3",
   "version": "3.8.5"
  }
 },
 "nbformat": 4,
 "nbformat_minor": 4
}
