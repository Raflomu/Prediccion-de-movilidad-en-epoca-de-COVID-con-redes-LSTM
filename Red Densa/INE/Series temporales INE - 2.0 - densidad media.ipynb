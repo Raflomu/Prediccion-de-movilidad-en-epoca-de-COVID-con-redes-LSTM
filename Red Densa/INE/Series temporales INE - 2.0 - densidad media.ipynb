{
 "cells": [
  {
   "cell_type": "code",
   "execution_count": 1,
   "metadata": {},
   "outputs": [],
   "source": [
    "import pandas as pd\n",
    "import numpy as np\n",
    "from tqdm import tqdm_notebook\n",
    "import os\n",
    "import math\n",
    "from sklearn.metrics import mean_squared_error, mean_absolute_error\n",
    "from sklearn.preprocessing import MinMaxScaler\n",
    "from keras.models import Sequential\n",
    "from keras.layers import Dense,Activation,Flatten,Dropout\n",
    "\n",
    "import matplotlib.pyplot as plt\n",
    "%matplotlib inline\n",
    "\n",
    "import warnings\n",
    "warnings.filterwarnings(\"ignore\")\n",
    "\n",
    "import datetime\n",
    "from datetime import date, timedelta\n",
    "e_date = datetime.datetime.strptime('2020-06-20', '%Y-%m-%d')\n",
    "i_date = datetime.datetime.strptime('2020-04-01', '%Y-%m-%d')\n",
    "\n",
    "data_path = 'D:/universidad/universidad 4/TFG/recursos para el desarrollo/datos procesados/OD'"
   ]
  },
  {
   "cell_type": "code",
   "execution_count": 2,
   "metadata": {},
   "outputs": [],
   "source": [
    "delta = e_date - i_date\n",
    "\n",
    "target_days = []\n",
    "for i in range(delta.days + 1):\n",
    "    day = i_date + timedelta(days=i)\n",
    "    target_days.append(day)"
   ]
  },
  {
   "cell_type": "code",
   "execution_count": 3,
   "metadata": {},
   "outputs": [],
   "source": [
    "def read_OD_fn(source_type):\n",
    "    ods = {}\n",
    "    for date in tqdm_notebook(target_days):\n",
    "        od_date= pd.read_csv(os.path.join(data_path, 'date_{}_OD_{}.csv'.format(source_type,date.strftime('%Y-%m-%d'))), \n",
    "                            index_col=0)\n",
    "        ods[date] = od_date\n",
    "    return ods"
   ]
  },
  {
   "cell_type": "code",
   "execution_count": 4,
   "metadata": {},
   "outputs": [
    {
     "data": {
      "application/vnd.jupyter.widget-view+json": {
       "model_id": "1fcc186f0e8246c487a9a7fb91792fa2",
       "version_major": 2,
       "version_minor": 0
      },
      "text/plain": [
       "  0%|          | 0/81 [00:00<?, ?it/s]"
      ]
     },
     "metadata": {},
     "output_type": "display_data"
    }
   ],
   "source": [
    "ine_ods = read_OD_fn('INE')"
   ]
  },
  {
   "cell_type": "markdown",
   "metadata": {},
   "source": [
    "# Serializar los datos"
   ]
  },
  {
   "cell_type": "code",
   "execution_count": 5,
   "metadata": {
    "scrolled": true
   },
   "outputs": [
    {
     "data": {
      "application/vnd.jupyter.widget-view+json": {
       "model_id": "9a450e3cf9d94630834c8384e9e8421c",
       "version_major": 2,
       "version_minor": 0
      },
      "text/plain": [
       "  0%|          | 0/81 [00:00<?, ?it/s]"
      ]
     },
     "metadata": {},
     "output_type": "display_data"
    }
   ],
   "source": [
    "lista_ine1 = []\n",
    "lista_ine2 = []\n",
    "lista_ine3 = []\n",
    "lista_ine4 = []\n",
    "lista_ine5 = []\n",
    "\n",
    "for date in tqdm_notebook(target_days):\n",
    "    lista_ine1.append(ine_ods[date].loc['18GU','total'])\n",
    "    lista_ine2.append(ine_ods[date].loc['013B','total'])\n",
    "    lista_ine3.append(ine_ods[date].loc['021S','total'])\n",
    "    lista_ine4.append(ine_ods[date].loc['219M','total'])\n",
    "    lista_ine5.append(ine_ods[date].loc['01CA','total'])"
   ]
  },
  {
   "cell_type": "code",
   "execution_count": 6,
   "metadata": {
    "scrolled": true
   },
   "outputs": [],
   "source": [
    "df_ine1 = pd.DataFrame (lista_ine1, columns = ['Viajes'], index= target_days)\n",
    "df_ine2 = pd.DataFrame (lista_ine2, columns = ['Viajes'], index= target_days)\n",
    "df_ine3 = pd.DataFrame (lista_ine3, columns = ['Viajes'], index= target_days)\n",
    "df_ine4 = pd.DataFrame (lista_ine4, columns = ['Viajes'], index= target_days)\n",
    "df_ine5 = pd.DataFrame (lista_ine5, columns = ['Viajes'], index= target_days)"
   ]
  },
  {
   "cell_type": "code",
   "execution_count": 7,
   "metadata": {},
   "outputs": [],
   "source": [
    "lista_ine = []\n",
    "\n",
    "df = df_ine1 + df_ine2 + df_ine3 + df_ine4 + df_ine5"
   ]
  },
  {
   "cell_type": "code",
   "execution_count": 8,
   "metadata": {},
   "outputs": [
    {
     "data": {
      "text/html": [
       "<div>\n",
       "<style scoped>\n",
       "    .dataframe tbody tr th:only-of-type {\n",
       "        vertical-align: middle;\n",
       "    }\n",
       "\n",
       "    .dataframe tbody tr th {\n",
       "        vertical-align: top;\n",
       "    }\n",
       "\n",
       "    .dataframe thead th {\n",
       "        text-align: right;\n",
       "    }\n",
       "</style>\n",
       "<table border=\"1\" class=\"dataframe\">\n",
       "  <thead>\n",
       "    <tr style=\"text-align: right;\">\n",
       "      <th></th>\n",
       "      <th>Viajes</th>\n",
       "    </tr>\n",
       "  </thead>\n",
       "  <tbody>\n",
       "    <tr>\n",
       "      <th>2020-04-01</th>\n",
       "      <td>3314</td>\n",
       "    </tr>\n",
       "    <tr>\n",
       "      <th>2020-04-02</th>\n",
       "      <td>3220</td>\n",
       "    </tr>\n",
       "    <tr>\n",
       "      <th>2020-04-03</th>\n",
       "      <td>3934</td>\n",
       "    </tr>\n",
       "    <tr>\n",
       "      <th>2020-04-04</th>\n",
       "      <td>3141</td>\n",
       "    </tr>\n",
       "    <tr>\n",
       "      <th>2020-04-05</th>\n",
       "      <td>2520</td>\n",
       "    </tr>\n",
       "  </tbody>\n",
       "</table>\n",
       "</div>"
      ],
      "text/plain": [
       "            Viajes\n",
       "2020-04-01    3314\n",
       "2020-04-02    3220\n",
       "2020-04-03    3934\n",
       "2020-04-04    3141\n",
       "2020-04-05    2520"
      ]
     },
     "execution_count": 8,
     "metadata": {},
     "output_type": "execute_result"
    }
   ],
   "source": [
    "df.head()"
   ]
  },
  {
   "cell_type": "code",
   "execution_count": 9,
   "metadata": {},
   "outputs": [],
   "source": [
    "del ine_ods"
   ]
  },
  {
   "cell_type": "markdown",
   "metadata": {},
   "source": [
    "# Visualización de datos"
   ]
  },
  {
   "cell_type": "code",
   "execution_count": 10,
   "metadata": {},
   "outputs": [
    {
     "name": "stdout",
     "output_type": "stream",
     "text": [
      "2020-04-01 00:00:00\n",
      "2020-06-20 00:00:00\n"
     ]
    }
   ],
   "source": [
    "print(df.index.min())\n",
    "print(df.index.max())"
   ]
  },
  {
   "cell_type": "code",
   "execution_count": 11,
   "metadata": {
    "scrolled": true
   },
   "outputs": [
    {
     "name": "stdout",
     "output_type": "stream",
     "text": [
      "81\n"
     ]
    }
   ],
   "source": [
    "print(len(df['2020']))"
   ]
  },
  {
   "cell_type": "code",
   "execution_count": 12,
   "metadata": {},
   "outputs": [
    {
     "data": {
      "text/html": [
       "<div>\n",
       "<style scoped>\n",
       "    .dataframe tbody tr th:only-of-type {\n",
       "        vertical-align: middle;\n",
       "    }\n",
       "\n",
       "    .dataframe tbody tr th {\n",
       "        vertical-align: top;\n",
       "    }\n",
       "\n",
       "    .dataframe thead th {\n",
       "        text-align: right;\n",
       "    }\n",
       "</style>\n",
       "<table border=\"1\" class=\"dataframe\">\n",
       "  <thead>\n",
       "    <tr style=\"text-align: right;\">\n",
       "      <th></th>\n",
       "      <th>Viajes</th>\n",
       "    </tr>\n",
       "  </thead>\n",
       "  <tbody>\n",
       "    <tr>\n",
       "      <th>count</th>\n",
       "      <td>81.000000</td>\n",
       "    </tr>\n",
       "    <tr>\n",
       "      <th>mean</th>\n",
       "      <td>4188.802469</td>\n",
       "    </tr>\n",
       "    <tr>\n",
       "      <th>std</th>\n",
       "      <td>922.684743</td>\n",
       "    </tr>\n",
       "    <tr>\n",
       "      <th>min</th>\n",
       "      <td>2282.000000</td>\n",
       "    </tr>\n",
       "    <tr>\n",
       "      <th>25%</th>\n",
       "      <td>3503.000000</td>\n",
       "    </tr>\n",
       "    <tr>\n",
       "      <th>50%</th>\n",
       "      <td>4243.000000</td>\n",
       "    </tr>\n",
       "    <tr>\n",
       "      <th>75%</th>\n",
       "      <td>4933.000000</td>\n",
       "    </tr>\n",
       "    <tr>\n",
       "      <th>max</th>\n",
       "      <td>5827.000000</td>\n",
       "    </tr>\n",
       "  </tbody>\n",
       "</table>\n",
       "</div>"
      ],
      "text/plain": [
       "            Viajes\n",
       "count    81.000000\n",
       "mean   4188.802469\n",
       "std     922.684743\n",
       "min    2282.000000\n",
       "25%    3503.000000\n",
       "50%    4243.000000\n",
       "75%    4933.000000\n",
       "max    5827.000000"
      ]
     },
     "execution_count": 12,
     "metadata": {},
     "output_type": "execute_result"
    }
   ],
   "source": [
    "df.describe()"
   ]
  },
  {
   "cell_type": "code",
   "execution_count": 13,
   "metadata": {},
   "outputs": [
    {
     "data": {
      "text/html": [
       "<div>\n",
       "<style scoped>\n",
       "    .dataframe tbody tr th:only-of-type {\n",
       "        vertical-align: middle;\n",
       "    }\n",
       "\n",
       "    .dataframe tbody tr th {\n",
       "        vertical-align: top;\n",
       "    }\n",
       "\n",
       "    .dataframe thead th {\n",
       "        text-align: right;\n",
       "    }\n",
       "</style>\n",
       "<table border=\"1\" class=\"dataframe\">\n",
       "  <thead>\n",
       "    <tr style=\"text-align: right;\">\n",
       "      <th></th>\n",
       "      <th>Viajes</th>\n",
       "    </tr>\n",
       "  </thead>\n",
       "  <tbody>\n",
       "    <tr>\n",
       "      <th>2020-04-30</th>\n",
       "      <td>3410.966667</td>\n",
       "    </tr>\n",
       "    <tr>\n",
       "      <th>2020-05-31</th>\n",
       "      <td>4262.193548</td>\n",
       "    </tr>\n",
       "    <tr>\n",
       "      <th>2020-06-30</th>\n",
       "      <td>5241.800000</td>\n",
       "    </tr>\n",
       "  </tbody>\n",
       "</table>\n",
       "</div>"
      ],
      "text/plain": [
       "                 Viajes\n",
       "2020-04-30  3410.966667\n",
       "2020-05-31  4262.193548\n",
       "2020-06-30  5241.800000"
      ]
     },
     "execution_count": 13,
     "metadata": {},
     "output_type": "execute_result"
    }
   ],
   "source": [
    "meses = df.resample('M').mean()\n",
    "meses"
   ]
  },
  {
   "cell_type": "code",
   "execution_count": 14,
   "metadata": {},
   "outputs": [
    {
     "data": {
      "text/plain": [
       "[<matplotlib.lines.Line2D at 0x2181181a400>]"
      ]
     },
     "execution_count": 14,
     "metadata": {},
     "output_type": "execute_result"
    },
    {
     "data": {
      "image/png": "[encoded data removed]",
      "text/plain": [
       "<Figure size 432x288 with 1 Axes>"
      ]
     },
     "metadata": {
      "needs_background": "light"
     },
     "output_type": "display_data"
    }
   ],
   "source": [
    "abril = df['2020-04-01':'2020-04-30']\n",
    "plt.plot(abril.values)\n",
    "mayo = df['2020-05-01':'2020-05-31']\n",
    "plt.plot(mayo.values)\n",
    "junio = df['2020-06-01':'2020-06-20']\n",
    "plt.plot(junio.values)"
   ]
  },
  {
   "cell_type": "markdown",
   "metadata": {},
   "source": [
    "# Preprocesado de datos"
   ]
  },
  {
   "cell_type": "code",
   "execution_count": 15,
   "metadata": {},
   "outputs": [
    {
     "data": {
      "text/html": [
       "<div>\n",
       "<style scoped>\n",
       "    .dataframe tbody tr th:only-of-type {\n",
       "        vertical-align: middle;\n",
       "    }\n",
       "\n",
       "    .dataframe tbody tr th {\n",
       "        vertical-align: top;\n",
       "    }\n",
       "\n",
       "    .dataframe thead th {\n",
       "        text-align: right;\n",
       "    }\n",
       "</style>\n",
       "<table border=\"1\" class=\"dataframe\">\n",
       "  <thead>\n",
       "    <tr style=\"text-align: right;\">\n",
       "      <th></th>\n",
       "      <th>var1(t-7)</th>\n",
       "      <th>var1(t-6)</th>\n",
       "      <th>var1(t-5)</th>\n",
       "      <th>var1(t-4)</th>\n",
       "      <th>var1(t-3)</th>\n",
       "      <th>var1(t-2)</th>\n",
       "      <th>var1(t-1)</th>\n",
       "      <th>var1(t)</th>\n",
       "    </tr>\n",
       "  </thead>\n",
       "  <tbody>\n",
       "    <tr>\n",
       "      <th>76</th>\n",
       "      <td>0.339916</td>\n",
       "      <td>0.822285</td>\n",
       "      <td>0.737095</td>\n",
       "      <td>0.892243</td>\n",
       "      <td>0.559380</td>\n",
       "      <td>-0.013822</td>\n",
       "      <td>0.614105</td>\n",
       "      <td>0.686883</td>\n",
       "    </tr>\n",
       "    <tr>\n",
       "      <th>77</th>\n",
       "      <td>0.822285</td>\n",
       "      <td>0.737095</td>\n",
       "      <td>0.892243</td>\n",
       "      <td>0.559380</td>\n",
       "      <td>-0.013822</td>\n",
       "      <td>0.614105</td>\n",
       "      <td>0.686883</td>\n",
       "      <td>0.924401</td>\n",
       "    </tr>\n",
       "    <tr>\n",
       "      <th>78</th>\n",
       "      <td>0.737095</td>\n",
       "      <td>0.892243</td>\n",
       "      <td>0.559380</td>\n",
       "      <td>-0.013822</td>\n",
       "      <td>0.614105</td>\n",
       "      <td>0.686883</td>\n",
       "      <td>0.924401</td>\n",
       "      <td>0.897885</td>\n",
       "    </tr>\n",
       "    <tr>\n",
       "      <th>79</th>\n",
       "      <td>0.892243</td>\n",
       "      <td>0.559380</td>\n",
       "      <td>-0.013822</td>\n",
       "      <td>0.614105</td>\n",
       "      <td>0.686883</td>\n",
       "      <td>0.924401</td>\n",
       "      <td>0.897885</td>\n",
       "      <td>1.000000</td>\n",
       "    </tr>\n",
       "    <tr>\n",
       "      <th>80</th>\n",
       "      <td>0.559380</td>\n",
       "      <td>-0.013822</td>\n",
       "      <td>0.614105</td>\n",
       "      <td>0.686883</td>\n",
       "      <td>0.924401</td>\n",
       "      <td>0.897885</td>\n",
       "      <td>1.000000</td>\n",
       "      <td>0.801975</td>\n",
       "    </tr>\n",
       "  </tbody>\n",
       "</table>\n",
       "</div>"
      ],
      "text/plain": [
       "    var1(t-7)  var1(t-6)  var1(t-5)  var1(t-4)  var1(t-3)  var1(t-2)  \\\n",
       "76   0.339916   0.822285   0.737095   0.892243   0.559380  -0.013822   \n",
       "77   0.822285   0.737095   0.892243   0.559380  -0.013822   0.614105   \n",
       "78   0.737095   0.892243   0.559380  -0.013822   0.614105   0.686883   \n",
       "79   0.892243   0.559380  -0.013822   0.614105   0.686883   0.924401   \n",
       "80   0.559380  -0.013822   0.614105   0.686883   0.924401   0.897885   \n",
       "\n",
       "    var1(t-1)   var1(t)  \n",
       "76   0.614105  0.686883  \n",
       "77   0.686883  0.924401  \n",
       "78   0.924401  0.897885  \n",
       "79   0.897885  1.000000  \n",
       "80   1.000000  0.801975  "
      ]
     },
     "execution_count": 15,
     "metadata": {},
     "output_type": "execute_result"
    }
   ],
   "source": [
    "# cantidad de dias previos que se usaran para predecir el siguiente dia \n",
    "look_back=7\n",
    "\n",
    "# convertir series en conocimiento supervisado\n",
    "def series_to_supervised(data, n_in=1, n_out=1, dropnan=True):\n",
    "    n_vars = 1 if type(data) is list else data.shape[1]\n",
    "    df = pd.DataFrame(data)\n",
    "    cols, names = list(), list()\n",
    "    # secuencia de entrada (t-n, ... t-1)\n",
    "    for i in range(n_in, 0, -1):\n",
    "        cols.append(df.shift(i))\n",
    "        names += [('var%d(t-%d)' % (j+1, i)) for j in range(n_vars)]\n",
    "    # secuencia del pronostico (t, t+1, ... t+n)\n",
    "    for i in range(0, n_out):\n",
    "        cols.append(df.shift(-i))\n",
    "        if i == 0:\n",
    "            names += [('var%d(t)' % (j+1)) for j in range(n_vars)]\n",
    "        else:\n",
    "            names += [('var%d(t+%d)' % (j+1, i)) for j in range(n_vars)]\n",
    "    # unimos todo\n",
    "    agg = pd.concat(cols, axis=1)\n",
    "    agg.columns = names\n",
    "    # eliminamos todos los valores nulos\n",
    "    if dropnan:\n",
    "        agg.dropna(inplace=True)\n",
    "    return agg\n",
    " \n",
    "# cargamos el dataframe en la variable values\n",
    "values = df.values\n",
    "\n",
    "# convertimos los enteros en floats\n",
    "values = values.astype('float32')\n",
    "\n",
    "# normalizamos los datos a escala de entre -1 y 1\n",
    "scaler = MinMaxScaler(feature_range=(-1, 1))\n",
    "values=values.reshape(-1, 1) # esto lo hacemos porque tenemos 1 sola dimension\n",
    "scaled = scaler.fit_transform(values)\n",
    "\n",
    "# usamos la funcion definida previamente\n",
    "reframed = series_to_supervised(scaled, look_back, 1)\n",
    "\n",
    "# imprimimos los nuevos datos\n",
    "reframed.tail()"
   ]
  },
  {
   "cell_type": "markdown",
   "metadata": {},
   "source": [
    "# Dividimos los datos en sets de entrenamiento y validacion"
   ]
  },
  {
   "cell_type": "code",
   "execution_count": 16,
   "metadata": {},
   "outputs": [
    {
     "name": "stdout",
     "output_type": "stream",
     "text": [
      "(54, 1, 7) (54,) (20, 1, 7) (20,)\n"
     ]
    }
   ],
   "source": [
    "# dividimos nuestro valores entre sets de entrenamiento y de test\n",
    "values = reframed.values\n",
    "n_train_days = 71 - (10+look_back)\n",
    "train = values[:n_train_days, :]\n",
    "test = values[n_train_days:, :]\n",
    "\n",
    "# los volvemos a dividir en entradas y salidas\n",
    "x_train, y_train = train[:, :-1], train[:, -1]\n",
    "x_val, y_val = test[:, :-1], test[:, -1]\n",
    "\n",
    "# remodelamos la muestras para ser de las dimensiones [samples, timesteps, features]\n",
    "trainX = x_train.reshape((x_train.shape[0], 1, x_train.shape[1]))\n",
    "testX = x_val.reshape((x_val.shape[0], 1, x_val.shape[1]))\n",
    "\n",
    "print(trainX.shape, y_train.shape, testX.shape, y_val.shape)"
   ]
  },
  {
   "cell_type": "markdown",
   "metadata": {},
   "source": [
    "# Creamos la red neuronal"
   ]
  },
  {
   "cell_type": "code",
   "execution_count": 17,
   "metadata": {},
   "outputs": [],
   "source": [
    "def crear_modeloFF():\n",
    "    model = Sequential() \n",
    "    model.add(Dense(look_back, input_shape=(1,look_back),activation='tanh'))\n",
    "    model.add(Flatten())\n",
    "    model.add(Dense(100, activation='tanh'))\n",
    "    model.add(Dropout(0.30))\n",
    "    model.add(Dense(100, activation='tanh'))\n",
    "    model.add(Dropout(0.30))\n",
    "    model.add(Dense(100, activation='tanh'))\n",
    "    model.add(Dropout(0.30))\n",
    "    model.add(Dense(100, activation='tanh'))\n",
    "    model.add(Dropout(0.30))\n",
    "    model.add(Dense(1, activation='tanh'))\n",
    "    model.compile(loss='mean_absolute_error',optimizer='Adam',metrics=[\"mse\"])\n",
    "    model.summary()\n",
    "    return model"
   ]
  },
  {
   "cell_type": "code",
   "execution_count": 18,
   "metadata": {},
   "outputs": [
    {
     "name": "stdout",
     "output_type": "stream",
     "text": [
      "Model: \"sequential\"\n",
      "_________________________________________________________________\n",
      "Layer (type)                 Output Shape              Param #   \n",
      "=================================================================\n",
      "dense (Dense)                (None, 1, 7)              56        \n",
      "_________________________________________________________________\n",
      "flatten (Flatten)            (None, 7)                 0         \n",
      "_________________________________________________________________\n",
      "dense_1 (Dense)              (None, 100)               800       \n",
      "_________________________________________________________________\n",
      "dropout (Dropout)            (None, 100)               0         \n",
      "_________________________________________________________________\n",
      "dense_2 (Dense)              (None, 100)               10100     \n",
      "_________________________________________________________________\n",
      "dropout_1 (Dropout)          (None, 100)               0         \n",
      "_________________________________________________________________\n",
      "dense_3 (Dense)              (None, 100)               10100     \n",
      "_________________________________________________________________\n",
      "dropout_2 (Dropout)          (None, 100)               0         \n",
      "_________________________________________________________________\n",
      "dense_4 (Dense)              (None, 100)               10100     \n",
      "_________________________________________________________________\n",
      "dropout_3 (Dropout)          (None, 100)               0         \n",
      "_________________________________________________________________\n",
      "dense_5 (Dense)              (None, 1)                 101       \n",
      "=================================================================\n",
      "Total params: 31,257\n",
      "Trainable params: 31,257\n",
      "Non-trainable params: 0\n",
      "_________________________________________________________________\n",
      "Epoch 1/200\n",
      "8/8 [==============================] - 3s 227ms/step - loss: 0.3475 - mse: 0.1926 - val_loss: 0.1843 - val_mse: 0.0656\n",
      "Epoch 2/200\n",
      "8/8 [==============================] - 0s 13ms/step - loss: 0.3714 - mse: 0.1821 - val_loss: 0.2009 - val_mse: 0.0655\n",
      "Epoch 3/200\n",
      "8/8 [==============================] - 0s 12ms/step - loss: 0.3682 - mse: 0.2180 - val_loss: 0.1998 - val_mse: 0.0634\n",
      "Epoch 4/200\n",
      "8/8 [==============================] - 0s 12ms/step - loss: 0.3059 - mse: 0.1527 - val_loss: 0.2030 - val_mse: 0.0646\n",
      "Epoch 5/200\n",
      "8/8 [==============================] - 0s 13ms/step - loss: 0.2947 - mse: 0.1661 - val_loss: 0.2414 - val_mse: 0.0772\n",
      "Epoch 6/200\n",
      "8/8 [==============================] - 0s 12ms/step - loss: 0.2983 - mse: 0.1546 - val_loss: 0.1813 - val_mse: 0.0644\n",
      "Epoch 7/200\n",
      "8/8 [==============================] - 0s 12ms/step - loss: 0.2740 - mse: 0.1096 - val_loss: 0.1876 - val_mse: 0.0635\n",
      "Epoch 8/200\n",
      "8/8 [==============================] - 0s 12ms/step - loss: 0.2861 - mse: 0.1513 - val_loss: 0.1874 - val_mse: 0.0639\n",
      "Epoch 9/200\n",
      "8/8 [==============================] - 0s 13ms/step - loss: 0.3080 - mse: 0.1565 - val_loss: 0.1868 - val_mse: 0.0843\n",
      "Epoch 10/200\n",
      "8/8 [==============================] - 0s 12ms/step - loss: 0.2878 - mse: 0.1255 - val_loss: 0.1722 - val_mse: 0.0693\n",
      "Epoch 11/200\n",
      "8/8 [==============================] - 0s 11ms/step - loss: 0.2395 - mse: 0.1022 - val_loss: 0.1783 - val_mse: 0.0591\n",
      "Epoch 12/200\n",
      "8/8 [==============================] - 0s 12ms/step - loss: 0.2154 - mse: 0.1051 - val_loss: 0.1811 - val_mse: 0.0610\n",
      "Epoch 13/200\n",
      "8/8 [==============================] - 0s 13ms/step - loss: 0.3006 - mse: 0.1529 - val_loss: 0.1783 - val_mse: 0.0726\n",
      "Epoch 14/200\n",
      "8/8 [==============================] - 0s 13ms/step - loss: 0.3392 - mse: 0.1735 - val_loss: 0.2278 - val_mse: 0.0681\n",
      "Epoch 15/200\n",
      "8/8 [==============================] - 0s 12ms/step - loss: 0.3596 - mse: 0.1694 - val_loss: 0.2856 - val_mse: 0.0965\n",
      "Epoch 16/200\n",
      "8/8 [==============================] - 0s 12ms/step - loss: 0.3320 - mse: 0.1752 - val_loss: 0.1792 - val_mse: 0.0583\n",
      "Epoch 17/200\n",
      "8/8 [==============================] - 0s 10ms/step - loss: 0.3160 - mse: 0.1533 - val_loss: 0.1754 - val_mse: 0.0676\n",
      "Epoch 18/200\n",
      "8/8 [==============================] - 0s 7ms/step - loss: 0.2787 - mse: 0.1155 - val_loss: 0.1795 - val_mse: 0.0767\n",
      "Epoch 19/200\n",
      "8/8 [==============================] - 0s 7ms/step - loss: 0.3045 - mse: 0.1350 - val_loss: 0.1850 - val_mse: 0.0606\n",
      "Epoch 20/200\n",
      "8/8 [==============================] - 0s 8ms/step - loss: 0.2593 - mse: 0.1014 - val_loss: 0.2003 - val_mse: 0.0624\n",
      "Epoch 21/200\n",
      "8/8 [==============================] - 0s 8ms/step - loss: 0.2935 - mse: 0.1411 - val_loss: 0.2157 - val_mse: 0.0656\n",
      "Epoch 22/200\n",
      "8/8 [==============================] - 0s 8ms/step - loss: 0.2804 - mse: 0.1143 - val_loss: 0.1823 - val_mse: 0.0557\n",
      "Epoch 23/200\n",
      "8/8 [==============================] - 0s 7ms/step - loss: 0.3318 - mse: 0.1680 - val_loss: 0.1731 - val_mse: 0.0553\n",
      "Epoch 24/200\n",
      "8/8 [==============================] - 0s 7ms/step - loss: 0.2829 - mse: 0.1328 - val_loss: 0.1682 - val_mse: 0.0582\n",
      "Epoch 25/200\n",
      "8/8 [==============================] - 0s 7ms/step - loss: 0.3256 - mse: 0.1631 - val_loss: 0.2146 - val_mse: 0.0623\n",
      "Epoch 26/200\n",
      "8/8 [==============================] - 0s 7ms/step - loss: 0.2960 - mse: 0.1259 - val_loss: 0.2283 - val_mse: 0.0677\n",
      "Epoch 27/200\n",
      "8/8 [==============================] - 0s 7ms/step - loss: 0.2920 - mse: 0.1188 - val_loss: 0.2117 - val_mse: 0.0609\n",
      "Epoch 28/200\n",
      "8/8 [==============================] - 0s 7ms/step - loss: 0.2592 - mse: 0.1063 - val_loss: 0.1777 - val_mse: 0.0546\n",
      "Epoch 29/200\n",
      "8/8 [==============================] - 0s 8ms/step - loss: 0.3037 - mse: 0.1354 - val_loss: 0.1749 - val_mse: 0.0575\n",
      "Epoch 30/200\n",
      "8/8 [==============================] - 0s 7ms/step - loss: 0.2719 - mse: 0.1060 - val_loss: 0.1742 - val_mse: 0.0571\n",
      "Epoch 31/200\n",
      "8/8 [==============================] - 0s 7ms/step - loss: 0.2446 - mse: 0.0991 - val_loss: 0.1772 - val_mse: 0.0554\n",
      "Epoch 32/200\n",
      "8/8 [==============================] - 0s 8ms/step - loss: 0.2845 - mse: 0.1147 - val_loss: 0.1732 - val_mse: 0.0581\n",
      "Epoch 33/200\n",
      "8/8 [==============================] - ETA: 0s - loss: 0.2150 - mse: 0.081 - 0s 11ms/step - loss: 0.2500 - mse: 0.0999 - val_loss: 0.1763 - val_mse: 0.0590\n",
      "Epoch 34/200\n",
      "8/8 [==============================] - 0s 8ms/step - loss: 0.3246 - mse: 0.1546 - val_loss: 0.1853 - val_mse: 0.0584\n",
      "Epoch 35/200\n",
      "8/8 [==============================] - 0s 8ms/step - loss: 0.3498 - mse: 0.1894 - val_loss: 0.1845 - val_mse: 0.0586\n",
      "Epoch 36/200\n",
      "8/8 [==============================] - 0s 8ms/step - loss: 0.2378 - mse: 0.1044 - val_loss: 0.1950 - val_mse: 0.0594\n",
      "Epoch 37/200\n",
      "8/8 [==============================] - 0s 7ms/step - loss: 0.2896 - mse: 0.1298 - val_loss: 0.1918 - val_mse: 0.0603\n",
      "Epoch 38/200\n",
      "8/8 [==============================] - 0s 7ms/step - loss: 0.3010 - mse: 0.1397 - val_loss: 0.1812 - val_mse: 0.0614\n",
      "Epoch 39/200\n",
      "8/8 [==============================] - 0s 7ms/step - loss: 0.3026 - mse: 0.1360 - val_loss: 0.1793 - val_mse: 0.0614\n",
      "Epoch 40/200\n",
      "8/8 [==============================] - 0s 8ms/step - loss: 0.2509 - mse: 0.1026 - val_loss: 0.1802 - val_mse: 0.0596\n",
      "Epoch 41/200\n",
      "8/8 [==============================] - 0s 7ms/step - loss: 0.2885 - mse: 0.1272 - val_loss: 0.1720 - val_mse: 0.0605\n",
      "Epoch 42/200\n",
      "8/8 [==============================] - 0s 8ms/step - loss: 0.2405 - mse: 0.0938 - val_loss: 0.2032 - val_mse: 0.0618\n",
      "Epoch 43/200\n",
      "8/8 [==============================] - 0s 7ms/step - loss: 0.2045 - mse: 0.0667 - val_loss: 0.2130 - val_mse: 0.0643\n",
      "Epoch 44/200\n",
      "8/8 [==============================] - 0s 7ms/step - loss: 0.2340 - mse: 0.0955 - val_loss: 0.1882 - val_mse: 0.0573\n",
      "Epoch 45/200\n",
      "8/8 [==============================] - 0s 6ms/step - loss: 0.2516 - mse: 0.0949 - val_loss: 0.1837 - val_mse: 0.0559\n",
      "Epoch 46/200\n",
      "8/8 [==============================] - 0s 7ms/step - loss: 0.2200 - mse: 0.0887 - val_loss: 0.1722 - val_mse: 0.0594\n",
      "Epoch 47/200\n",
      "8/8 [==============================] - 0s 8ms/step - loss: 0.2985 - mse: 0.1281 - val_loss: 0.1716 - val_mse: 0.0585\n",
      "Epoch 48/200\n",
      "8/8 [==============================] - 0s 10ms/step - loss: 0.2466 - mse: 0.1073 - val_loss: 0.1926 - val_mse: 0.0583\n",
      "Epoch 49/200\n",
      "8/8 [==============================] - 0s 9ms/step - loss: 0.2208 - mse: 0.0780 - val_loss: 0.2224 - val_mse: 0.0657\n"
     ]
    },
    {
     "name": "stdout",
     "output_type": "stream",
     "text": [
      "Epoch 50/200\n",
      "8/8 [==============================] - 0s 7ms/step - loss: 0.3140 - mse: 0.1407 - val_loss: 0.1793 - val_mse: 0.0578\n",
      "Epoch 51/200\n",
      "8/8 [==============================] - 0s 7ms/step - loss: 0.2480 - mse: 0.0968 - val_loss: 0.1840 - val_mse: 0.0560\n",
      "Epoch 52/200\n",
      "8/8 [==============================] - 0s 7ms/step - loss: 0.2289 - mse: 0.0830 - val_loss: 0.2127 - val_mse: 0.0617\n",
      "Epoch 53/200\n",
      "8/8 [==============================] - 0s 7ms/step - loss: 0.2875 - mse: 0.1156 - val_loss: 0.1964 - val_mse: 0.0567\n",
      "Epoch 54/200\n",
      "8/8 [==============================] - 0s 7ms/step - loss: 0.2745 - mse: 0.1142 - val_loss: 0.1908 - val_mse: 0.0549\n",
      "Epoch 55/200\n",
      "8/8 [==============================] - 0s 8ms/step - loss: 0.2523 - mse: 0.1043 - val_loss: 0.1679 - val_mse: 0.0527\n",
      "Epoch 56/200\n",
      "8/8 [==============================] - 0s 9ms/step - loss: 0.3032 - mse: 0.1264 - val_loss: 0.1706 - val_mse: 0.0508\n",
      "Epoch 57/200\n",
      "8/8 [==============================] - 0s 7ms/step - loss: 0.2452 - mse: 0.0960 - val_loss: 0.1656 - val_mse: 0.0546\n",
      "Epoch 58/200\n",
      "8/8 [==============================] - 0s 9ms/step - loss: 0.2452 - mse: 0.0852 - val_loss: 0.1713 - val_mse: 0.0535\n",
      "Epoch 59/200\n",
      "8/8 [==============================] - 0s 15ms/step - loss: 0.2783 - mse: 0.1254 - val_loss: 0.1736 - val_mse: 0.0537\n",
      "Epoch 60/200\n",
      "8/8 [==============================] - 0s 7ms/step - loss: 0.2386 - mse: 0.0964 - val_loss: 0.1700 - val_mse: 0.0562\n",
      "Epoch 61/200\n",
      "8/8 [==============================] - 0s 7ms/step - loss: 0.2561 - mse: 0.1019 - val_loss: 0.1888 - val_mse: 0.0550\n",
      "Epoch 62/200\n",
      "8/8 [==============================] - 0s 8ms/step - loss: 0.2263 - mse: 0.0843 - val_loss: 0.1759 - val_mse: 0.0536\n",
      "Epoch 63/200\n",
      "8/8 [==============================] - 0s 7ms/step - loss: 0.2751 - mse: 0.1157 - val_loss: 0.1682 - val_mse: 0.0584\n",
      "Epoch 64/200\n",
      "8/8 [==============================] - 0s 7ms/step - loss: 0.2878 - mse: 0.1336 - val_loss: 0.1723 - val_mse: 0.0545\n",
      "Epoch 65/200\n",
      "8/8 [==============================] - 0s 7ms/step - loss: 0.2801 - mse: 0.1116 - val_loss: 0.1895 - val_mse: 0.0554\n",
      "Epoch 66/200\n",
      "8/8 [==============================] - 0s 8ms/step - loss: 0.2627 - mse: 0.1117 - val_loss: 0.1920 - val_mse: 0.0561\n",
      "Epoch 67/200\n",
      "8/8 [==============================] - 0s 8ms/step - loss: 0.2328 - mse: 0.0929 - val_loss: 0.1721 - val_mse: 0.0555\n",
      "Epoch 68/200\n",
      "8/8 [==============================] - 0s 7ms/step - loss: 0.2613 - mse: 0.0969 - val_loss: 0.1607 - val_mse: 0.0631\n",
      "Epoch 69/200\n",
      "8/8 [==============================] - 0s 7ms/step - loss: 0.2998 - mse: 0.1338 - val_loss: 0.1776 - val_mse: 0.0538\n",
      "Epoch 70/200\n",
      "8/8 [==============================] - 0s 7ms/step - loss: 0.2589 - mse: 0.1053 - val_loss: 0.2043 - val_mse: 0.0575\n",
      "Epoch 71/200\n",
      "8/8 [==============================] - 0s 7ms/step - loss: 0.2709 - mse: 0.1018 - val_loss: 0.2056 - val_mse: 0.0578\n",
      "Epoch 72/200\n",
      "8/8 [==============================] - 0s 7ms/step - loss: 0.2694 - mse: 0.1089 - val_loss: 0.2078 - val_mse: 0.0582\n",
      "Epoch 73/200\n",
      "8/8 [==============================] - 0s 8ms/step - loss: 0.3028 - mse: 0.1159 - val_loss: 0.1804 - val_mse: 0.0522\n",
      "Epoch 74/200\n",
      "8/8 [==============================] - 0s 7ms/step - loss: 0.2695 - mse: 0.1034 - val_loss: 0.1645 - val_mse: 0.0551\n",
      "Epoch 75/200\n",
      "8/8 [==============================] - 0s 7ms/step - loss: 0.2656 - mse: 0.1044 - val_loss: 0.1659 - val_mse: 0.0541\n",
      "Epoch 76/200\n",
      "8/8 [==============================] - 0s 7ms/step - loss: 0.2885 - mse: 0.1401 - val_loss: 0.1827 - val_mse: 0.0534\n",
      "Epoch 77/200\n",
      "8/8 [==============================] - 0s 7ms/step - loss: 0.2678 - mse: 0.1072 - val_loss: 0.1962 - val_mse: 0.0549\n",
      "Epoch 78/200\n",
      "8/8 [==============================] - 0s 7ms/step - loss: 0.2673 - mse: 0.1115 - val_loss: 0.1924 - val_mse: 0.0538\n",
      "Epoch 79/200\n",
      "8/8 [==============================] - 0s 7ms/step - loss: 0.2817 - mse: 0.1172 - val_loss: 0.1723 - val_mse: 0.0522\n",
      "Epoch 80/200\n",
      "8/8 [==============================] - 0s 9ms/step - loss: 0.1899 - mse: 0.0596 - val_loss: 0.1745 - val_mse: 0.0543\n",
      "Epoch 81/200\n",
      "8/8 [==============================] - 0s 8ms/step - loss: 0.2086 - mse: 0.0638 - val_loss: 0.1759 - val_mse: 0.0532\n",
      "Epoch 82/200\n",
      "8/8 [==============================] - 0s 7ms/step - loss: 0.2559 - mse: 0.0975 - val_loss: 0.1970 - val_mse: 0.0551\n",
      "Epoch 83/200\n",
      "8/8 [==============================] - 0s 7ms/step - loss: 0.2077 - mse: 0.0762 - val_loss: 0.1934 - val_mse: 0.0547\n",
      "Epoch 84/200\n",
      "8/8 [==============================] - 0s 7ms/step - loss: 0.2511 - mse: 0.0903 - val_loss: 0.1865 - val_mse: 0.0532\n",
      "Epoch 85/200\n",
      "8/8 [==============================] - 0s 7ms/step - loss: 0.2669 - mse: 0.1065 - val_loss: 0.1706 - val_mse: 0.0519\n",
      "Epoch 86/200\n",
      "8/8 [==============================] - 0s 8ms/step - loss: 0.2717 - mse: 0.1181 - val_loss: 0.1819 - val_mse: 0.0510\n",
      "Epoch 87/200\n",
      "8/8 [==============================] - 0s 7ms/step - loss: 0.2287 - mse: 0.0804 - val_loss: 0.1727 - val_mse: 0.0495\n",
      "Epoch 88/200\n",
      "8/8 [==============================] - 0s 7ms/step - loss: 0.2675 - mse: 0.1085 - val_loss: 0.1782 - val_mse: 0.0505\n",
      "Epoch 89/200\n",
      "8/8 [==============================] - 0s 7ms/step - loss: 0.2355 - mse: 0.0854 - val_loss: 0.2145 - val_mse: 0.0600\n",
      "Epoch 90/200\n",
      "8/8 [==============================] - 0s 7ms/step - loss: 0.2634 - mse: 0.1075 - val_loss: 0.2075 - val_mse: 0.0593\n",
      "Epoch 91/200\n",
      "8/8 [==============================] - 0s 7ms/step - loss: 0.2207 - mse: 0.0798 - val_loss: 0.1677 - val_mse: 0.0557\n",
      "Epoch 92/200\n",
      "8/8 [==============================] - 0s 7ms/step - loss: 0.2311 - mse: 0.0839 - val_loss: 0.1617 - val_mse: 0.0545\n",
      "Epoch 93/200\n",
      "8/8 [==============================] - 0s 8ms/step - loss: 0.2329 - mse: 0.0862 - val_loss: 0.1808 - val_mse: 0.0519\n",
      "Epoch 94/200\n",
      "8/8 [==============================] - 0s 7ms/step - loss: 0.3065 - mse: 0.1357 - val_loss: 0.1819 - val_mse: 0.0514\n",
      "Epoch 95/200\n",
      "8/8 [==============================] - 0s 7ms/step - loss: 0.2156 - mse: 0.0692 - val_loss: 0.1657 - val_mse: 0.0529\n",
      "Epoch 96/200\n",
      "8/8 [==============================] - 0s 7ms/step - loss: 0.2621 - mse: 0.1079 - val_loss: 0.1806 - val_mse: 0.0538\n",
      "Epoch 97/200\n",
      "8/8 [==============================] - 0s 8ms/step - loss: 0.2882 - mse: 0.1321 - val_loss: 0.1885 - val_mse: 0.0560\n",
      "Epoch 98/200\n",
      "8/8 [==============================] - 0s 7ms/step - loss: 0.2780 - mse: 0.1146 - val_loss: 0.1942 - val_mse: 0.0575\n",
      "Epoch 99/200\n",
      "8/8 [==============================] - 0s 8ms/step - loss: 0.2319 - mse: 0.0915 - val_loss: 0.2163 - val_mse: 0.0632\n",
      "Epoch 100/200\n",
      "8/8 [==============================] - 0s 7ms/step - loss: 0.2111 - mse: 0.0851 - val_loss: 0.2087 - val_mse: 0.0606\n",
      "Epoch 101/200\n",
      "8/8 [==============================] - 0s 8ms/step - loss: 0.2762 - mse: 0.1133 - val_loss: 0.1900 - val_mse: 0.0546\n",
      "Epoch 102/200\n",
      "8/8 [==============================] - 0s 7ms/step - loss: 0.3071 - mse: 0.1496 - val_loss: 0.1789 - val_mse: 0.0517\n",
      "Epoch 103/200\n",
      "8/8 [==============================] - 0s 7ms/step - loss: 0.2376 - mse: 0.0941 - val_loss: 0.1821 - val_mse: 0.0524\n",
      "Epoch 104/200\n",
      "8/8 [==============================] - 0s 8ms/step - loss: 0.2546 - mse: 0.0965 - val_loss: 0.1669 - val_mse: 0.0530\n",
      "Epoch 105/200\n",
      "8/8 [==============================] - 0s 8ms/step - loss: 0.2584 - mse: 0.0966 - val_loss: 0.1669 - val_mse: 0.0543\n",
      "Epoch 106/200\n",
      "8/8 [==============================] - 0s 8ms/step - loss: 0.2558 - mse: 0.1016 - val_loss: 0.1914 - val_mse: 0.0546\n",
      "Epoch 107/200\n",
      "8/8 [==============================] - 0s 7ms/step - loss: 0.2684 - mse: 0.1137 - val_loss: 0.1904 - val_mse: 0.0534\n",
      "Epoch 108/200\n",
      "8/8 [==============================] - 0s 7ms/step - loss: 0.2282 - mse: 0.0745 - val_loss: 0.1850 - val_mse: 0.0540\n",
      "Epoch 109/200\n",
      "8/8 [==============================] - 0s 7ms/step - loss: 0.2314 - mse: 0.0820 - val_loss: 0.1624 - val_mse: 0.0613\n",
      "Epoch 110/200\n",
      "8/8 [==============================] - 0s 7ms/step - loss: 0.2306 - mse: 0.0908 - val_loss: 0.1639 - val_mse: 0.0599\n",
      "Epoch 111/200\n",
      "8/8 [==============================] - 0s 7ms/step - loss: 0.2472 - mse: 0.0893 - val_loss: 0.1918 - val_mse: 0.0570\n",
      "Epoch 112/200\n",
      "8/8 [==============================] - 0s 7ms/step - loss: 0.2580 - mse: 0.1025 - val_loss: 0.2117 - val_mse: 0.0617\n"
     ]
    },
    {
     "name": "stdout",
     "output_type": "stream",
     "text": [
      "Epoch 113/200\n",
      "8/8 [==============================] - 0s 7ms/step - loss: 0.2531 - mse: 0.0939 - val_loss: 0.2005 - val_mse: 0.0574\n",
      "Epoch 114/200\n",
      "8/8 [==============================] - 0s 7ms/step - loss: 0.2577 - mse: 0.0943 - val_loss: 0.1943 - val_mse: 0.0546\n",
      "Epoch 115/200\n",
      "8/8 [==============================] - 0s 7ms/step - loss: 0.2087 - mse: 0.0631 - val_loss: 0.1726 - val_mse: 0.0514\n",
      "Epoch 116/200\n",
      "8/8 [==============================] - 0s 7ms/step - loss: 0.2694 - mse: 0.1083 - val_loss: 0.1652 - val_mse: 0.0522\n",
      "Epoch 117/200\n",
      "8/8 [==============================] - 0s 7ms/step - loss: 0.2552 - mse: 0.0939 - val_loss: 0.2085 - val_mse: 0.0570\n",
      "Epoch 118/200\n",
      "8/8 [==============================] - 0s 8ms/step - loss: 0.2393 - mse: 0.0917 - val_loss: 0.2086 - val_mse: 0.0565\n",
      "Epoch 119/200\n",
      "8/8 [==============================] - 0s 7ms/step - loss: 0.2583 - mse: 0.1031 - val_loss: 0.1756 - val_mse: 0.0514\n",
      "Epoch 120/200\n",
      "8/8 [==============================] - 0s 8ms/step - loss: 0.2169 - mse: 0.0657 - val_loss: 0.1734 - val_mse: 0.0523\n",
      "Epoch 121/200\n",
      "8/8 [==============================] - 0s 7ms/step - loss: 0.2347 - mse: 0.0769 - val_loss: 0.1822 - val_mse: 0.0517\n",
      "Epoch 122/200\n",
      "8/8 [==============================] - 0s 7ms/step - loss: 0.2640 - mse: 0.0933 - val_loss: 0.2012 - val_mse: 0.0545\n",
      "Epoch 123/200\n",
      "8/8 [==============================] - 0s 7ms/step - loss: 0.2603 - mse: 0.1000 - val_loss: 0.1701 - val_mse: 0.0486\n",
      "Epoch 124/200\n",
      "8/8 [==============================] - 0s 10ms/step - loss: 0.2540 - mse: 0.0967 - val_loss: 0.1707 - val_mse: 0.0486\n",
      "Epoch 125/200\n",
      "8/8 [==============================] - 0s 8ms/step - loss: 0.2682 - mse: 0.1058 - val_loss: 0.1696 - val_mse: 0.0512\n",
      "Epoch 126/200\n",
      "8/8 [==============================] - 0s 6ms/step - loss: 0.2279 - mse: 0.0919 - val_loss: 0.1807 - val_mse: 0.0533\n",
      "Epoch 127/200\n",
      "8/8 [==============================] - 0s 7ms/step - loss: 0.2018 - mse: 0.0688 - val_loss: 0.1792 - val_mse: 0.0538\n",
      "Epoch 128/200\n",
      "8/8 [==============================] - 0s 7ms/step - loss: 0.2868 - mse: 0.1208 - val_loss: 0.1783 - val_mse: 0.0538\n",
      "Epoch 129/200\n",
      "8/8 [==============================] - 0s 7ms/step - loss: 0.2632 - mse: 0.1142 - val_loss: 0.1859 - val_mse: 0.0534\n",
      "Epoch 130/200\n",
      "8/8 [==============================] - 0s 7ms/step - loss: 0.2397 - mse: 0.0898 - val_loss: 0.1731 - val_mse: 0.0510\n",
      "Epoch 131/200\n",
      "8/8 [==============================] - 0s 9ms/step - loss: 0.2481 - mse: 0.0888 - val_loss: 0.1645 - val_mse: 0.0532\n",
      "Epoch 132/200\n",
      "8/8 [==============================] - 0s 7ms/step - loss: 0.2346 - mse: 0.0924 - val_loss: 0.1814 - val_mse: 0.0522\n",
      "Epoch 133/200\n",
      "8/8 [==============================] - 0s 7ms/step - loss: 0.2212 - mse: 0.0846 - val_loss: 0.1928 - val_mse: 0.0542\n",
      "Epoch 134/200\n",
      "8/8 [==============================] - 0s 7ms/step - loss: 0.2411 - mse: 0.0877 - val_loss: 0.2187 - val_mse: 0.0613\n",
      "Epoch 135/200\n",
      "8/8 [==============================] - 0s 8ms/step - loss: 0.2758 - mse: 0.1033 - val_loss: 0.1994 - val_mse: 0.0559\n",
      "Epoch 136/200\n",
      "8/8 [==============================] - 0s 7ms/step - loss: 0.2413 - mse: 0.0897 - val_loss: 0.2015 - val_mse: 0.0561\n",
      "Epoch 137/200\n",
      "8/8 [==============================] - 0s 8ms/step - loss: 0.2366 - mse: 0.0861 - val_loss: 0.1683 - val_mse: 0.0516\n",
      "Epoch 138/200\n",
      "8/8 [==============================] - 0s 7ms/step - loss: 0.2785 - mse: 0.1189 - val_loss: 0.1654 - val_mse: 0.0518\n",
      "Epoch 139/200\n",
      "8/8 [==============================] - 0s 7ms/step - loss: 0.2111 - mse: 0.0704 - val_loss: 0.1958 - val_mse: 0.0546\n",
      "Epoch 140/200\n",
      "8/8 [==============================] - 0s 8ms/step - loss: 0.2540 - mse: 0.1039 - val_loss: 0.2268 - val_mse: 0.0641\n",
      "Epoch 141/200\n",
      "8/8 [==============================] - 0s 7ms/step - loss: 0.2451 - mse: 0.0923 - val_loss: 0.2334 - val_mse: 0.0669\n",
      "Epoch 142/200\n",
      "8/8 [==============================] - 0s 7ms/step - loss: 0.2392 - mse: 0.0904 - val_loss: 0.1883 - val_mse: 0.0522\n",
      "Epoch 143/200\n",
      "8/8 [==============================] - 0s 7ms/step - loss: 0.2529 - mse: 0.0858 - val_loss: 0.1664 - val_mse: 0.0512\n",
      "Epoch 144/200\n",
      "8/8 [==============================] - 0s 7ms/step - loss: 0.2160 - mse: 0.0761 - val_loss: 0.1843 - val_mse: 0.0515\n",
      "Epoch 145/200\n",
      "8/8 [==============================] - 0s 9ms/step - loss: 0.2450 - mse: 0.0887 - val_loss: 0.2373 - val_mse: 0.0673\n",
      "Epoch 146/200\n",
      "8/8 [==============================] - 0s 8ms/step - loss: 0.2560 - mse: 0.0946 - val_loss: 0.1906 - val_mse: 0.0530\n",
      "Epoch 147/200\n",
      "8/8 [==============================] - 0s 8ms/step - loss: 0.2471 - mse: 0.0855 - val_loss: 0.1676 - val_mse: 0.0501\n",
      "Epoch 148/200\n",
      "8/8 [==============================] - 0s 7ms/step - loss: 0.2475 - mse: 0.0990 - val_loss: 0.1725 - val_mse: 0.0497\n",
      "Epoch 149/200\n",
      "8/8 [==============================] - 0s 8ms/step - loss: 0.2222 - mse: 0.0809 - val_loss: 0.1878 - val_mse: 0.0510\n",
      "Epoch 150/200\n",
      "8/8 [==============================] - 0s 7ms/step - loss: 0.2375 - mse: 0.0816 - val_loss: 0.1879 - val_mse: 0.0519\n",
      "Epoch 151/200\n",
      "8/8 [==============================] - 0s 7ms/step - loss: 0.2318 - mse: 0.0776 - val_loss: 0.2178 - val_mse: 0.0597\n",
      "Epoch 152/200\n",
      "8/8 [==============================] - 0s 8ms/step - loss: 0.2447 - mse: 0.0834 - val_loss: 0.2173 - val_mse: 0.0592\n",
      "Epoch 153/200\n",
      "8/8 [==============================] - 0s 10ms/step - loss: 0.2199 - mse: 0.0732 - val_loss: 0.2139 - val_mse: 0.0580\n",
      "Epoch 154/200\n",
      "8/8 [==============================] - 0s 8ms/step - loss: 0.2361 - mse: 0.0959 - val_loss: 0.2099 - val_mse: 0.0558\n",
      "Epoch 155/200\n",
      "8/8 [==============================] - 0s 7ms/step - loss: 0.2578 - mse: 0.1003 - val_loss: 0.2421 - val_mse: 0.0685\n",
      "Epoch 156/200\n",
      "8/8 [==============================] - 0s 7ms/step - loss: 0.2461 - mse: 0.0853 - val_loss: 0.2116 - val_mse: 0.0563\n",
      "Epoch 157/200\n",
      "8/8 [==============================] - 0s 14ms/step - loss: 0.2538 - mse: 0.0922 - val_loss: 0.1599 - val_mse: 0.0501\n",
      "Epoch 158/200\n",
      "8/8 [==============================] - 0s 8ms/step - loss: 0.2599 - mse: 0.1003 - val_loss: 0.1537 - val_mse: 0.0570\n",
      "Epoch 159/200\n",
      "8/8 [==============================] - 0s 8ms/step - loss: 0.2737 - mse: 0.1084 - val_loss: 0.1664 - val_mse: 0.0515\n",
      "Epoch 160/200\n",
      "8/8 [==============================] - 0s 8ms/step - loss: 0.2286 - mse: 0.0814 - val_loss: 0.2214 - val_mse: 0.0622\n",
      "Epoch 161/200\n",
      "8/8 [==============================] - 0s 8ms/step - loss: 0.2785 - mse: 0.1110 - val_loss: 0.2629 - val_mse: 0.0792\n",
      "Epoch 162/200\n",
      "8/8 [==============================] - 0s 8ms/step - loss: 0.2609 - mse: 0.0953 - val_loss: 0.2259 - val_mse: 0.0630\n",
      "Epoch 163/200\n",
      "8/8 [==============================] - 0s 9ms/step - loss: 0.2283 - mse: 0.0769 - val_loss: 0.1925 - val_mse: 0.0535\n",
      "Epoch 164/200\n",
      "8/8 [==============================] - 0s 7ms/step - loss: 0.1935 - mse: 0.0649 - val_loss: 0.1930 - val_mse: 0.0537\n",
      "Epoch 165/200\n",
      "8/8 [==============================] - 0s 7ms/step - loss: 0.2382 - mse: 0.0795 - val_loss: 0.1863 - val_mse: 0.0527\n",
      "Epoch 166/200\n",
      "8/8 [==============================] - 0s 8ms/step - loss: 0.2369 - mse: 0.0861 - val_loss: 0.1818 - val_mse: 0.0520\n",
      "Epoch 167/200\n",
      "8/8 [==============================] - 0s 8ms/step - loss: 0.2500 - mse: 0.0885 - val_loss: 0.1794 - val_mse: 0.0508\n",
      "Epoch 168/200\n",
      "8/8 [==============================] - 0s 7ms/step - loss: 0.2166 - mse: 0.0767 - val_loss: 0.1810 - val_mse: 0.0514\n",
      "Epoch 169/200\n",
      "8/8 [==============================] - 0s 7ms/step - loss: 0.2420 - mse: 0.0891 - val_loss: 0.1756 - val_mse: 0.0512\n",
      "Epoch 170/200\n",
      "8/8 [==============================] - 0s 7ms/step - loss: 0.2294 - mse: 0.0863 - val_loss: 0.1638 - val_mse: 0.0510\n",
      "Epoch 171/200\n",
      "8/8 [==============================] - 0s 7ms/step - loss: 0.2539 - mse: 0.1022 - val_loss: 0.1616 - val_mse: 0.0510\n",
      "Epoch 172/200\n",
      "8/8 [==============================] - 0s 8ms/step - loss: 0.2663 - mse: 0.1030 - val_loss: 0.1660 - val_mse: 0.0506\n",
      "Epoch 173/200\n",
      "8/8 [==============================] - 0s 7ms/step - loss: 0.2333 - mse: 0.0898 - val_loss: 0.1837 - val_mse: 0.0509\n",
      "Epoch 174/200\n",
      "8/8 [==============================] - 0s 7ms/step - loss: 0.2174 - mse: 0.0683 - val_loss: 0.1863 - val_mse: 0.0515\n",
      "Epoch 175/200\n",
      "8/8 [==============================] - 0s 7ms/step - loss: 0.2748 - mse: 0.1096 - val_loss: 0.2183 - val_mse: 0.0601\n",
      "Epoch 176/200\n",
      "8/8 [==============================] - 0s 8ms/step - loss: 0.2440 - mse: 0.0870 - val_loss: 0.2261 - val_mse: 0.0634\n",
      "Epoch 177/200\n",
      "8/8 [==============================] - 0s 7ms/step - loss: 0.2181 - mse: 0.0703 - val_loss: 0.1848 - val_mse: 0.0524\n",
      "Epoch 178/200\n",
      "8/8 [==============================] - 0s 7ms/step - loss: 0.2545 - mse: 0.0844 - val_loss: 0.1660 - val_mse: 0.0517\n",
      "Epoch 179/200\n",
      "8/8 [==============================] - 0s 8ms/step - loss: 0.2386 - mse: 0.0856 - val_loss: 0.1677 - val_mse: 0.0503\n",
      "Epoch 180/200\n",
      "8/8 [==============================] - 0s 8ms/step - loss: 0.2468 - mse: 0.0916 - val_loss: 0.1710 - val_mse: 0.0500\n",
      "Epoch 181/200\n",
      "8/8 [==============================] - 0s 7ms/step - loss: 0.2377 - mse: 0.0858 - val_loss: 0.1973 - val_mse: 0.0544\n",
      "Epoch 182/200\n",
      "8/8 [==============================] - 0s 7ms/step - loss: 0.2738 - mse: 0.1047 - val_loss: 0.1982 - val_mse: 0.0547\n",
      "Epoch 183/200\n",
      "8/8 [==============================] - 0s 7ms/step - loss: 0.2242 - mse: 0.0759 - val_loss: 0.2014 - val_mse: 0.0552\n",
      "Epoch 184/200\n",
      "8/8 [==============================] - 0s 7ms/step - loss: 0.2360 - mse: 0.0765 - val_loss: 0.1697 - val_mse: 0.0507\n",
      "Epoch 185/200\n",
      "8/8 [==============================] - 0s 7ms/step - loss: 0.2505 - mse: 0.0946 - val_loss: 0.2163 - val_mse: 0.0590\n",
      "Epoch 186/200\n",
      "8/8 [==============================] - 0s 7ms/step - loss: 0.2395 - mse: 0.0890 - val_loss: 0.2128 - val_mse: 0.0578\n",
      "Epoch 187/200\n",
      "8/8 [==============================] - 0s 7ms/step - loss: 0.2575 - mse: 0.1055 - val_loss: 0.1636 - val_mse: 0.0500\n",
      "Epoch 188/200\n",
      "8/8 [==============================] - 0s 7ms/step - loss: 0.2057 - mse: 0.0661 - val_loss: 0.1612 - val_mse: 0.0493\n",
      "Epoch 189/200\n",
      "8/8 [==============================] - 0s 7ms/step - loss: 0.2304 - mse: 0.0711 - val_loss: 0.1878 - val_mse: 0.0502\n",
      "Epoch 190/200\n",
      "8/8 [==============================] - 0s 7ms/step - loss: 0.2485 - mse: 0.0876 - val_loss: 0.1886 - val_mse: 0.0512\n",
      "Epoch 191/200\n",
      "8/8 [==============================] - 0s 7ms/step - loss: 0.2306 - mse: 0.0796 - val_loss: 0.1920 - val_mse: 0.0526\n",
      "Epoch 192/200\n",
      "8/8 [==============================] - 0s 7ms/step - loss: 0.2541 - mse: 0.0935 - val_loss: 0.2094 - val_mse: 0.0573\n",
      "Epoch 193/200\n",
      "8/8 [==============================] - 0s 8ms/step - loss: 0.2259 - mse: 0.0739 - val_loss: 0.1955 - val_mse: 0.0539\n",
      "Epoch 194/200\n",
      "8/8 [==============================] - 0s 8ms/step - loss: 0.2182 - mse: 0.0737 - val_loss: 0.2199 - val_mse: 0.0611\n",
      "Epoch 195/200\n",
      "8/8 [==============================] - 0s 7ms/step - loss: 0.2477 - mse: 0.0940 - val_loss: 0.1993 - val_mse: 0.0557\n",
      "Epoch 196/200\n",
      "8/8 [==============================] - 0s 7ms/step - loss: 0.2446 - mse: 0.0909 - val_loss: 0.1730 - val_mse: 0.0515\n",
      "Epoch 197/200\n",
      "8/8 [==============================] - 0s 7ms/step - loss: 0.2155 - mse: 0.0737 - val_loss: 0.1767 - val_mse: 0.0508\n",
      "Epoch 198/200\n",
      "8/8 [==============================] - 0s 7ms/step - loss: 0.2462 - mse: 0.0940 - val_loss: 0.1805 - val_mse: 0.0513\n",
      "Epoch 199/200\n",
      "8/8 [==============================] - 0s 7ms/step - loss: 0.2217 - mse: 0.0839 - val_loss: 0.2063 - val_mse: 0.0569\n",
      "Epoch 200/200\n",
      "8/8 [==============================] - 0s 8ms/step - loss: 0.2001 - mse: 0.0665 - val_loss: 0.2160 - val_mse: 0.0590\n"
     ]
    }
   ],
   "source": [
    "EPOCHS=200\n",
    "\n",
    "model = crear_modeloFF()\n",
    "\n",
    "history=model.fit(trainX,y_train,epochs=EPOCHS,validation_data=(testX,y_val),batch_size=look_back)"
   ]
  },
  {
   "cell_type": "markdown",
   "metadata": {},
   "source": [
    "# Visualizamos resultados"
   ]
  },
  {
   "cell_type": "code",
   "execution_count": 19,
   "metadata": {},
   "outputs": [],
   "source": [
    "def mape(actual, pred): \n",
    "    actual, pred = np.array(actual), np.array(pred)\n",
    "    return np.mean(np.abs((actual - pred) / actual)) * 100\n",
    "\n",
    "\n",
    "def compute_metrics_fn(y_valid_resc, y_hat_resc):\n",
    "    mae_ = mean_absolute_error(y_valid_resc, y_hat_resc)\n",
    "    mse_ = mean_squared_error(y_valid_resc, y_hat_resc)\n",
    "    rmse_ = mean_squared_error(y_valid_resc, y_hat_resc, squared = False)\n",
    "    cvrmse_ = rmse_/np.mean(y_valid_resc)*100\n",
    "    mape_ = mape(y_valid_resc, y_hat_resc)\n",
    "    \n",
    "    return mae_, mse_, rmse_, cvrmse_, mape_"
   ]
  },
  {
   "cell_type": "code",
   "execution_count": 20,
   "metadata": {},
   "outputs": [
    {
     "name": "stdout",
     "output_type": "stream",
     "text": [
      "WARNING:tensorflow:Model was constructed with shape (None, 1, 7) for input KerasTensor(type_spec=TensorSpec(shape=(None, 1, 7), dtype=tf.float32, name='dense_input'), name='dense_input', description=\"created by layer 'dense_input'\"), but it was called on an input with incompatible shape (None, 7).\n"
     ]
    }
   ],
   "source": [
    "# hacemos las predicciones\n",
    "trainPredict = model.predict(x_train)\n",
    "testPredict = model.predict(x_val)\n",
    "\n",
    "# invertimos las predicciones\n",
    "trainPredict = scaler.inverse_transform(trainPredict)\n",
    "trainY = y_train.reshape(y_train.shape[0], 1)\n",
    "trainY_scalerInverse = scaler.inverse_transform(trainY)\n",
    "testPredict = scaler.inverse_transform(testPredict)\n",
    "testY = y_val.reshape(y_val.shape[0], 1)\n",
    "testY_scalerInverse = scaler.inverse_transform(testY)"
   ]
  },
  {
   "cell_type": "code",
   "execution_count": 21,
   "metadata": {},
   "outputs": [
    {
     "name": "stdout",
     "output_type": "stream",
     "text": [
      "Resultado del entrenamiento: 399.04 MAE\n",
      "Resultado del entrenamiento: 236401.17 MSE\n",
      "Resultado del entrenamiento: 486.21 RMSE\n",
      "Resultado del entrenamiento: 12.43 CVRMSE\n",
      "Resultado del entrenamiento: 11.29 MAPE \n",
      "\n",
      "Resultado del test: 382.84 MAE\n",
      "Resultado del test: 185295.91 MSE\n",
      "Resultado del test: 430.46 RMSE\n",
      "Resultado del test: 8.21 CVRMSE\n",
      "Resultado del test: 7.49 MAPE\n"
     ]
    }
   ],
   "source": [
    "# calculamos las metricas de error\n",
    "trainScore_MAE, trainScore_MSE, trainScore_RMSE, trainScore_CVRMSE, trainScore_MAPE  =  compute_metrics_fn(trainY_scalerInverse, trainPredict)\n",
    "print('Resultado del entrenamiento: %.2f MAE' % (trainScore_MAE))\n",
    "print('Resultado del entrenamiento: %.2f MSE' % (trainScore_MSE))\n",
    "print('Resultado del entrenamiento: %.2f RMSE' % (trainScore_RMSE))\n",
    "print('Resultado del entrenamiento: %.2f CVRMSE' % (trainScore_CVRMSE))\n",
    "print('Resultado del entrenamiento: %.2f MAPE \\n' % (trainScore_MAPE))\n",
    "\n",
    "testScore_MAE, testScore_MSE, testScore_RMSE, testScore_CVRMSE, testScore_MAPE  =  compute_metrics_fn(testY_scalerInverse, testPredict)\n",
    "print('Resultado del test: %.2f MAE' % (testScore_MAE))\n",
    "print('Resultado del test: %.2f MSE' % (testScore_MSE))\n",
    "print('Resultado del test: %.2f RMSE' % (testScore_RMSE))\n",
    "print('Resultado del test: %.2f CVRMSE' % (testScore_CVRMSE))\n",
    "print('Resultado del test: %.2f MAPE' % (testScore_MAPE))"
   ]
  },
  {
   "cell_type": "code",
   "execution_count": 22,
   "metadata": {},
   "outputs": [
    {
     "data": {
      "image/png": "[encoded data removed]",
      "text/plain": [
       "<Figure size 432x288 with 1 Axes>"
      ]
     },
     "metadata": {
      "needs_background": "light"
     },
     "output_type": "display_data"
    }
   ],
   "source": [
    "dataset = df.values\n",
    "dataset = dataset.astype('float32')\n",
    "# predicciones del entrenamiento de cambio para plotear\n",
    "trainPredictPlot = np.empty_like(dataset)\n",
    "trainPredictPlot[:, :] = np.nan\n",
    "trainPredictPlot[look_back:len(trainPredict)+look_back, :] = trainPredict\n",
    "# predicciones del test de cambio para plotear\n",
    "testPredictPlot = np.empty_like(dataset)\n",
    "testPredictPlot[:, :] = np.nan\n",
    "testPredictPlot[len(trainPredict)+(look_back):len(dataset), :] = testPredict\n",
    "# plot baseline and predictions\n",
    "plt.plot(df.values)\n",
    "# ploteamos linea base y predicciones\n",
    "plt.plot(trainPredictPlot,'r', linewidth = 2)\n",
    "plt.plot(testPredictPlot,'m', linewidth = 2)\n",
    "plt.legend( ('Datos', 'Prediccion datos entramiento', 'Prediccion sobre los datos de test'), loc = 'upper left')\n",
    "plt.grid(True)\n",
    "plt.title(\"Viajes totales\", fontsize = 15)\n",
    "plt.xlabel(\"Tiempo (dias)\", fontsize = 10)\n",
    "plt.ylabel(\"viajes (en miles)\", fontsize = 10)\n",
    "plt.show()"
   ]
  },
  {
   "cell_type": "code",
   "execution_count": 23,
   "metadata": {},
   "outputs": [
    {
     "data": {
      "image/png": "[encoded data removed]",
      "text/plain": [
       "<Figure size 432x288 with 1 Axes>"
      ]
     },
     "metadata": {
      "needs_background": "light"
     },
     "output_type": "display_data"
    }
   ],
   "source": [
    "results=model.predict(x_val)\n",
    "\n",
    "plt.scatter(range(len(y_val)),y_val,c='g')\n",
    "plt.scatter(range(len(results)),results,c='r')\n",
    "plt.title('validate')\n",
    "plt.xlabel(\"Tiempo (dias)\", fontsize = 10)\n",
    "plt.ylabel(\"viajes (en miles)\", fontsize = 10)\n",
    "plt.show()"
   ]
  },
  {
   "cell_type": "code",
   "execution_count": 24,
   "metadata": {},
   "outputs": [
    {
     "data": {
      "image/png": "[encoded data removed]",
      "text/plain": [
       "<Figure size 432x288 with 1 Axes>"
      ]
     },
     "metadata": {
      "needs_background": "light"
     },
     "output_type": "display_data"
    }
   ],
   "source": [
    "plt.plot(history.history['loss'])\n",
    "plt.plot(history.history['val_loss'])\n",
    "plt.title('loss')\n",
    "plt.legend( ('training loss', 'validate loss'), loc = 'upper right')\n",
    "plt.show()"
   ]
  },
  {
   "cell_type": "markdown",
   "metadata": {},
   "source": [
    "# Prediccion a futuro"
   ]
  },
  {
   "cell_type": "code",
   "execution_count": 25,
   "metadata": {},
   "outputs": [
    {
     "data": {
      "text/html": [
       "<div>\n",
       "<style scoped>\n",
       "    .dataframe tbody tr th:only-of-type {\n",
       "        vertical-align: middle;\n",
       "    }\n",
       "\n",
       "    .dataframe tbody tr th {\n",
       "        vertical-align: top;\n",
       "    }\n",
       "\n",
       "    .dataframe thead th {\n",
       "        text-align: right;\n",
       "    }\n",
       "</style>\n",
       "<table border=\"1\" class=\"dataframe\">\n",
       "  <thead>\n",
       "    <tr style=\"text-align: right;\">\n",
       "      <th></th>\n",
       "      <th>Viajes</th>\n",
       "    </tr>\n",
       "  </thead>\n",
       "  <tbody>\n",
       "    <tr>\n",
       "      <th>2020-06-07</th>\n",
       "      <td>4308</td>\n",
       "    </tr>\n",
       "    <tr>\n",
       "      <th>2020-06-08</th>\n",
       "      <td>5054</td>\n",
       "    </tr>\n",
       "    <tr>\n",
       "      <th>2020-06-09</th>\n",
       "      <td>4657</td>\n",
       "    </tr>\n",
       "    <tr>\n",
       "      <th>2020-06-10</th>\n",
       "      <td>5512</td>\n",
       "    </tr>\n",
       "    <tr>\n",
       "      <th>2020-06-11</th>\n",
       "      <td>5361</td>\n",
       "    </tr>\n",
       "    <tr>\n",
       "      <th>2020-06-12</th>\n",
       "      <td>5636</td>\n",
       "    </tr>\n",
       "    <tr>\n",
       "      <th>2020-06-13</th>\n",
       "      <td>5046</td>\n",
       "    </tr>\n",
       "    <tr>\n",
       "      <th>2020-06-14</th>\n",
       "      <td>4030</td>\n",
       "    </tr>\n",
       "    <tr>\n",
       "      <th>2020-06-15</th>\n",
       "      <td>5143</td>\n",
       "    </tr>\n",
       "    <tr>\n",
       "      <th>2020-06-16</th>\n",
       "      <td>5272</td>\n",
       "    </tr>\n",
       "    <tr>\n",
       "      <th>2020-06-17</th>\n",
       "      <td>5693</td>\n",
       "    </tr>\n",
       "    <tr>\n",
       "      <th>2020-06-18</th>\n",
       "      <td>5646</td>\n",
       "    </tr>\n",
       "    <tr>\n",
       "      <th>2020-06-19</th>\n",
       "      <td>5827</td>\n",
       "    </tr>\n",
       "    <tr>\n",
       "      <th>2020-06-20</th>\n",
       "      <td>5476</td>\n",
       "    </tr>\n",
       "  </tbody>\n",
       "</table>\n",
       "</div>"
      ],
      "text/plain": [
       "            Viajes\n",
       "2020-06-07    4308\n",
       "2020-06-08    5054\n",
       "2020-06-09    4657\n",
       "2020-06-10    5512\n",
       "2020-06-11    5361\n",
       "2020-06-12    5636\n",
       "2020-06-13    5046\n",
       "2020-06-14    4030\n",
       "2020-06-15    5143\n",
       "2020-06-16    5272\n",
       "2020-06-17    5693\n",
       "2020-06-18    5646\n",
       "2020-06-19    5827\n",
       "2020-06-20    5476"
      ]
     },
     "execution_count": 25,
     "metadata": {},
     "output_type": "execute_result"
    }
   ],
   "source": [
    "# usaremos los 14 ultimos dias del confinamiento en junio para predecir como habrian sido los dias del 21 al 27 en caso de que\n",
    "# el confinamiento se hubiese alargado por una semana mas\n",
    "\n",
    "ultimosDias = df['2020-6-7':'2020-6-20']\n",
    "ultimosDias"
   ]
  },
  {
   "cell_type": "markdown",
   "metadata": {},
   "source": [
    "# Preparamos los datos para el test"
   ]
  },
  {
   "cell_type": "code",
   "execution_count": 26,
   "metadata": {},
   "outputs": [
    {
     "data": {
      "text/html": [
       "<div>\n",
       "<style scoped>\n",
       "    .dataframe tbody tr th:only-of-type {\n",
       "        vertical-align: middle;\n",
       "    }\n",
       "\n",
       "    .dataframe tbody tr th {\n",
       "        vertical-align: top;\n",
       "    }\n",
       "\n",
       "    .dataframe thead th {\n",
       "        text-align: right;\n",
       "    }\n",
       "</style>\n",
       "<table border=\"1\" class=\"dataframe\">\n",
       "  <thead>\n",
       "    <tr style=\"text-align: right;\">\n",
       "      <th></th>\n",
       "      <th>var1(t-7)</th>\n",
       "      <th>var1(t-6)</th>\n",
       "      <th>var1(t-5)</th>\n",
       "      <th>var1(t-4)</th>\n",
       "      <th>var1(t-3)</th>\n",
       "      <th>var1(t-2)</th>\n",
       "      <th>var1(t-1)</th>\n",
       "    </tr>\n",
       "  </thead>\n",
       "  <tbody>\n",
       "    <tr>\n",
       "      <th>7</th>\n",
       "      <td>-0.690595</td>\n",
       "      <td>0.139678</td>\n",
       "      <td>-0.302170</td>\n",
       "      <td>0.649416</td>\n",
       "      <td>0.481358</td>\n",
       "      <td>0.787424</td>\n",
       "      <td>0.130774</td>\n",
       "    </tr>\n",
       "    <tr>\n",
       "      <th>8</th>\n",
       "      <td>0.139678</td>\n",
       "      <td>-0.302170</td>\n",
       "      <td>0.649416</td>\n",
       "      <td>0.481358</td>\n",
       "      <td>0.787424</td>\n",
       "      <td>0.130774</td>\n",
       "      <td>-1.000000</td>\n",
       "    </tr>\n",
       "    <tr>\n",
       "      <th>9</th>\n",
       "      <td>-0.302170</td>\n",
       "      <td>0.649416</td>\n",
       "      <td>0.481358</td>\n",
       "      <td>0.787424</td>\n",
       "      <td>0.130774</td>\n",
       "      <td>-1.000000</td>\n",
       "      <td>0.238731</td>\n",
       "    </tr>\n",
       "    <tr>\n",
       "      <th>10</th>\n",
       "      <td>0.649416</td>\n",
       "      <td>0.481358</td>\n",
       "      <td>0.787424</td>\n",
       "      <td>0.130774</td>\n",
       "      <td>-1.000000</td>\n",
       "      <td>0.238731</td>\n",
       "      <td>0.382304</td>\n",
       "    </tr>\n",
       "    <tr>\n",
       "      <th>11</th>\n",
       "      <td>0.481358</td>\n",
       "      <td>0.787424</td>\n",
       "      <td>0.130774</td>\n",
       "      <td>-1.000000</td>\n",
       "      <td>0.238731</td>\n",
       "      <td>0.382304</td>\n",
       "      <td>0.850863</td>\n",
       "    </tr>\n",
       "    <tr>\n",
       "      <th>12</th>\n",
       "      <td>0.787424</td>\n",
       "      <td>0.130774</td>\n",
       "      <td>-1.000000</td>\n",
       "      <td>0.238731</td>\n",
       "      <td>0.382304</td>\n",
       "      <td>0.850863</td>\n",
       "      <td>0.798553</td>\n",
       "    </tr>\n",
       "    <tr>\n",
       "      <th>13</th>\n",
       "      <td>0.130774</td>\n",
       "      <td>-1.000000</td>\n",
       "      <td>0.238731</td>\n",
       "      <td>0.382304</td>\n",
       "      <td>0.850863</td>\n",
       "      <td>0.798553</td>\n",
       "      <td>1.000000</td>\n",
       "    </tr>\n",
       "  </tbody>\n",
       "</table>\n",
       "</div>"
      ],
      "text/plain": [
       "    var1(t-7)  var1(t-6)  var1(t-5)  var1(t-4)  var1(t-3)  var1(t-2)  \\\n",
       "7   -0.690595   0.139678  -0.302170   0.649416   0.481358   0.787424   \n",
       "8    0.139678  -0.302170   0.649416   0.481358   0.787424   0.130774   \n",
       "9   -0.302170   0.649416   0.481358   0.787424   0.130774  -1.000000   \n",
       "10   0.649416   0.481358   0.787424   0.130774  -1.000000   0.238731   \n",
       "11   0.481358   0.787424   0.130774  -1.000000   0.238731   0.382304   \n",
       "12   0.787424   0.130774  -1.000000   0.238731   0.382304   0.850863   \n",
       "13   0.130774  -1.000000   0.238731   0.382304   0.850863   0.798553   \n",
       "\n",
       "    var1(t-1)  \n",
       "7    0.130774  \n",
       "8   -1.000000  \n",
       "9    0.238731  \n",
       "10   0.382304  \n",
       "11   0.850863  \n",
       "12   0.798553  \n",
       "13   1.000000  "
      ]
     },
     "execution_count": 26,
     "metadata": {},
     "output_type": "execute_result"
    }
   ],
   "source": [
    "# cargamos el dataframe en la variable values\n",
    "values = ultimosDias.values\n",
    "\n",
    "# convertimos los enteros en floats\n",
    "values = values.astype('float32')\n",
    "\n",
    "# normalizamos los datos a escala de entre -1 y 1\n",
    "values=values.reshape(-1, 1) # esto lo hacemos porque tenemos 1 sola dimension\n",
    "scaled = scaler.fit_transform(values)\n",
    "\n",
    "# usamos la funcion definida previamente\n",
    "reframed = series_to_supervised(scaled, look_back, 1)\n",
    "\n",
    "# eliminamos la ultima columna pues es parte de lo que queremos hayar\n",
    "reframed.drop(reframed.columns[[7]], inplace=True, axis=1)\n",
    "reframed.head(7)"
   ]
  },
  {
   "cell_type": "code",
   "execution_count": 27,
   "metadata": {},
   "outputs": [
    {
     "name": "stdout",
     "output_type": "stream",
     "text": [
      "(1, 1, 7)\n"
     ]
    },
    {
     "data": {
      "text/plain": [
       "array([[[ 0.13077354, -1.        ,  0.23873138,  0.3823037 ,\n",
       "          0.8508625 ,  0.79855347,  1.        ]]], dtype=float32)"
      ]
     },
     "execution_count": 27,
     "metadata": {},
     "output_type": "execute_result"
    }
   ],
   "source": [
    "values = reframed.values\n",
    "\n",
    "#tomamos los valores para realizar el test\n",
    "x_test = values[6:, :]\n",
    "\n",
    "# reshape input to be 3D [samples, timesteps, features]\n",
    "x_test = x_test.reshape((x_test.shape[0], 1, x_test.shape[1]))\n",
    "print(x_test.shape)\n",
    "x_test"
   ]
  },
  {
   "cell_type": "code",
   "execution_count": 28,
   "metadata": {},
   "outputs": [],
   "source": [
    "#definimos la funcion para realizar el desplazamiento que se hara en el array cada prediccion pues para hacer\n",
    "#la siguiente prediccion eliminamos el dia mas antiguo, desplazamos un lugar el resto de dias y añadimos el ultimo dia que\n",
    "#se ha predecido, esto es por que para predecir un dia se usan los 7 dias previos\n",
    "\n",
    "def agregarNuevoValor(x_test,nuevoValor):\n",
    "    for i in range(x_test.shape[2]-1):\n",
    "        x_test[0][0][i] = x_test[0][0][i+1]\n",
    "    x_test[0][0][x_test.shape[2]-1]=nuevoValor\n",
    "    return x_test"
   ]
  },
  {
   "cell_type": "markdown",
   "metadata": {},
   "source": [
    "# Predicciones para la proxima semana"
   ]
  },
  {
   "cell_type": "code",
   "execution_count": 29,
   "metadata": {},
   "outputs": [
    {
     "name": "stdout",
     "output_type": "stream",
     "text": [
      "[[[ 0.13077354 -1.          0.23873138  0.3823037   0.8508625\n",
      "    0.79855347  1.        ]]]\n",
      "[[[-1.          0.23873138  0.3823037   0.8508625   0.79855347\n",
      "    1.          0.46199113]]]\n",
      "[[[ 0.23873138  0.3823037   0.8508625   0.79855347  1.\n",
      "    0.46199113 -0.02619599]]]\n",
      "[[[ 0.3823037   0.8508625   0.79855347  1.          0.46199113\n",
      "   -0.02619599  0.3376911 ]]]\n",
      "[[[ 0.8508625   0.79855347  1.          0.46199113 -0.02619599\n",
      "    0.3376911   0.56264436]]]\n",
      "[[[ 0.79855347  1.          0.46199113 -0.02619599  0.3376911\n",
      "    0.56264436  0.64735323]]]\n",
      "[[[ 1.          0.46199113 -0.02619599  0.3376911   0.56264436\n",
      "    0.64735323  0.64616174]]]\n"
     ]
    }
   ],
   "source": [
    "results=[]\n",
    "for i in range(7):\n",
    "    parcial=model.predict(x_test)\n",
    "    results.append(parcial[0])\n",
    "    print(x_test)\n",
    "    x_test=agregarNuevoValor(x_test,parcial[0])"
   ]
  },
  {
   "cell_type": "markdown",
   "metadata": {},
   "source": [
    "# Re-Convertimos los resultados"
   ]
  },
  {
   "cell_type": "code",
   "execution_count": 30,
   "metadata": {},
   "outputs": [
    {
     "name": "stdout",
     "output_type": "stream",
     "text": [
      "[array([0.46199113], dtype=float32), array([-0.02619599], dtype=float32), array([0.3376911], dtype=float32), array([0.56264436], dtype=float32), array([0.64735323], dtype=float32), array([0.64616174], dtype=float32), array([0.6337873], dtype=float32)]\n"
     ]
    },
    {
     "data": {
      "text/plain": [
       "array([[5343.59893501],\n",
       "       [4904.96282274],\n",
       "       [5231.91536003],\n",
       "       [5434.03585952],\n",
       "       [5510.14677564],\n",
       "       [5509.07621576],\n",
       "       [5497.95776328]])"
      ]
     },
     "execution_count": 30,
     "metadata": {},
     "output_type": "execute_result"
    }
   ],
   "source": [
    "adimen = [x for x in results]    \n",
    "print(adimen)\n",
    "inverted = scaler.inverse_transform(adimen)\n",
    "inverted"
   ]
  },
  {
   "cell_type": "markdown",
   "metadata": {},
   "source": [
    "# Visualizamos el pronostico"
   ]
  },
  {
   "cell_type": "code",
   "execution_count": 31,
   "metadata": {},
   "outputs": [
    {
     "data": {
      "text/plain": [
       "<AxesSubplot:>"
      ]
     },
     "execution_count": 31,
     "metadata": {},
     "output_type": "execute_result"
    },
    {
     "data": {
      "image/png": "[encoded data removed]",
      "text/plain": [
       "<Figure size 432x288 with 1 Axes>"
      ]
     },
     "metadata": {
      "needs_background": "light"
     },
     "output_type": "display_data"
    }
   ],
   "source": [
    "prediccion = pd.DataFrame(inverted)\n",
    "prediccion.columns = ['pronostico']\n",
    "prediccion.plot()"
   ]
  },
  {
   "cell_type": "markdown",
   "metadata": {},
   "source": [
    "# Prediccion con datos actuales"
   ]
  },
  {
   "cell_type": "code",
   "execution_count": 32,
   "metadata": {},
   "outputs": [
    {
     "data": {
      "text/html": [
       "<div>\n",
       "<style scoped>\n",
       "    .dataframe tbody tr th:only-of-type {\n",
       "        vertical-align: middle;\n",
       "    }\n",
       "\n",
       "    .dataframe tbody tr th {\n",
       "        vertical-align: top;\n",
       "    }\n",
       "\n",
       "    .dataframe thead th {\n",
       "        text-align: right;\n",
       "    }\n",
       "</style>\n",
       "<table border=\"1\" class=\"dataframe\">\n",
       "  <thead>\n",
       "    <tr style=\"text-align: right;\">\n",
       "      <th></th>\n",
       "      <th>Viajes</th>\n",
       "    </tr>\n",
       "  </thead>\n",
       "  <tbody>\n",
       "    <tr>\n",
       "      <th>2020-05-11</th>\n",
       "      <td>4133</td>\n",
       "    </tr>\n",
       "    <tr>\n",
       "      <th>2020-05-12</th>\n",
       "      <td>4394</td>\n",
       "    </tr>\n",
       "    <tr>\n",
       "      <th>2020-05-13</th>\n",
       "      <td>4506</td>\n",
       "    </tr>\n",
       "    <tr>\n",
       "      <th>2020-05-14</th>\n",
       "      <td>4265</td>\n",
       "    </tr>\n",
       "    <tr>\n",
       "      <th>2020-05-15</th>\n",
       "      <td>4189</td>\n",
       "    </tr>\n",
       "    <tr>\n",
       "      <th>2020-05-16</th>\n",
       "      <td>4345</td>\n",
       "    </tr>\n",
       "    <tr>\n",
       "      <th>2020-05-17</th>\n",
       "      <td>3299</td>\n",
       "    </tr>\n",
       "    <tr>\n",
       "      <th>2020-05-18</th>\n",
       "      <td>4333</td>\n",
       "    </tr>\n",
       "    <tr>\n",
       "      <th>2020-05-19</th>\n",
       "      <td>4832</td>\n",
       "    </tr>\n",
       "    <tr>\n",
       "      <th>2020-05-20</th>\n",
       "      <td>4421</td>\n",
       "    </tr>\n",
       "    <tr>\n",
       "      <th>2020-05-21</th>\n",
       "      <td>4457</td>\n",
       "    </tr>\n",
       "    <tr>\n",
       "      <th>2020-05-22</th>\n",
       "      <td>4644</td>\n",
       "    </tr>\n",
       "    <tr>\n",
       "      <th>2020-05-23</th>\n",
       "      <td>4578</td>\n",
       "    </tr>\n",
       "    <tr>\n",
       "      <th>2020-05-24</th>\n",
       "      <td>3555</td>\n",
       "    </tr>\n",
       "  </tbody>\n",
       "</table>\n",
       "</div>"
      ],
      "text/plain": [
       "            Viajes\n",
       "2020-05-11    4133\n",
       "2020-05-12    4394\n",
       "2020-05-13    4506\n",
       "2020-05-14    4265\n",
       "2020-05-15    4189\n",
       "2020-05-16    4345\n",
       "2020-05-17    3299\n",
       "2020-05-18    4333\n",
       "2020-05-19    4832\n",
       "2020-05-20    4421\n",
       "2020-05-21    4457\n",
       "2020-05-22    4644\n",
       "2020-05-23    4578\n",
       "2020-05-24    3555"
      ]
     },
     "execution_count": 32,
     "metadata": {},
     "output_type": "execute_result"
    }
   ],
   "source": [
    "# usaremos 14 dias que poseemos para predecir los 7 dias siguientes tras esto compararemos los resultados con los que\n",
    "# poseemos para ver el grado de error\n",
    "\n",
    "Dias = df['2020-5-11':'2020-5-24']\n",
    "Dias"
   ]
  },
  {
   "cell_type": "markdown",
   "metadata": {},
   "source": [
    "# Preparamos los datos para el test"
   ]
  },
  {
   "cell_type": "code",
   "execution_count": 33,
   "metadata": {},
   "outputs": [
    {
     "data": {
      "text/html": [
       "<div>\n",
       "<style scoped>\n",
       "    .dataframe tbody tr th:only-of-type {\n",
       "        vertical-align: middle;\n",
       "    }\n",
       "\n",
       "    .dataframe tbody tr th {\n",
       "        vertical-align: top;\n",
       "    }\n",
       "\n",
       "    .dataframe thead th {\n",
       "        text-align: right;\n",
       "    }\n",
       "</style>\n",
       "<table border=\"1\" class=\"dataframe\">\n",
       "  <thead>\n",
       "    <tr style=\"text-align: right;\">\n",
       "      <th></th>\n",
       "      <th>var1(t-7)</th>\n",
       "      <th>var1(t-6)</th>\n",
       "      <th>var1(t-5)</th>\n",
       "      <th>var1(t-4)</th>\n",
       "      <th>var1(t-3)</th>\n",
       "      <th>var1(t-2)</th>\n",
       "      <th>var1(t-1)</th>\n",
       "    </tr>\n",
       "  </thead>\n",
       "  <tbody>\n",
       "    <tr>\n",
       "      <th>7</th>\n",
       "      <td>0.088062</td>\n",
       "      <td>0.428571</td>\n",
       "      <td>0.574690</td>\n",
       "      <td>0.260274</td>\n",
       "      <td>0.161122</td>\n",
       "      <td>0.364645</td>\n",
       "      <td>-1.000000</td>\n",
       "    </tr>\n",
       "    <tr>\n",
       "      <th>8</th>\n",
       "      <td>0.428571</td>\n",
       "      <td>0.574690</td>\n",
       "      <td>0.260274</td>\n",
       "      <td>0.161122</td>\n",
       "      <td>0.364645</td>\n",
       "      <td>-1.000000</td>\n",
       "      <td>0.348989</td>\n",
       "    </tr>\n",
       "    <tr>\n",
       "      <th>9</th>\n",
       "      <td>0.574690</td>\n",
       "      <td>0.260274</td>\n",
       "      <td>0.161122</td>\n",
       "      <td>0.364645</td>\n",
       "      <td>-1.000000</td>\n",
       "      <td>0.348989</td>\n",
       "      <td>1.000000</td>\n",
       "    </tr>\n",
       "    <tr>\n",
       "      <th>10</th>\n",
       "      <td>0.260274</td>\n",
       "      <td>0.161122</td>\n",
       "      <td>0.364645</td>\n",
       "      <td>-1.000000</td>\n",
       "      <td>0.348989</td>\n",
       "      <td>1.000000</td>\n",
       "      <td>0.463796</td>\n",
       "    </tr>\n",
       "    <tr>\n",
       "      <th>11</th>\n",
       "      <td>0.161122</td>\n",
       "      <td>0.364645</td>\n",
       "      <td>-1.000000</td>\n",
       "      <td>0.348989</td>\n",
       "      <td>1.000000</td>\n",
       "      <td>0.463796</td>\n",
       "      <td>0.510763</td>\n",
       "    </tr>\n",
       "    <tr>\n",
       "      <th>12</th>\n",
       "      <td>0.364645</td>\n",
       "      <td>-1.000000</td>\n",
       "      <td>0.348989</td>\n",
       "      <td>1.000000</td>\n",
       "      <td>0.463796</td>\n",
       "      <td>0.510763</td>\n",
       "      <td>0.754729</td>\n",
       "    </tr>\n",
       "    <tr>\n",
       "      <th>13</th>\n",
       "      <td>-1.000000</td>\n",
       "      <td>0.348989</td>\n",
       "      <td>1.000000</td>\n",
       "      <td>0.463796</td>\n",
       "      <td>0.510763</td>\n",
       "      <td>0.754729</td>\n",
       "      <td>0.668623</td>\n",
       "    </tr>\n",
       "  </tbody>\n",
       "</table>\n",
       "</div>"
      ],
      "text/plain": [
       "    var1(t-7)  var1(t-6)  var1(t-5)  var1(t-4)  var1(t-3)  var1(t-2)  \\\n",
       "7    0.088062   0.428571   0.574690   0.260274   0.161122   0.364645   \n",
       "8    0.428571   0.574690   0.260274   0.161122   0.364645  -1.000000   \n",
       "9    0.574690   0.260274   0.161122   0.364645  -1.000000   0.348989   \n",
       "10   0.260274   0.161122   0.364645  -1.000000   0.348989   1.000000   \n",
       "11   0.161122   0.364645  -1.000000   0.348989   1.000000   0.463796   \n",
       "12   0.364645  -1.000000   0.348989   1.000000   0.463796   0.510763   \n",
       "13  -1.000000   0.348989   1.000000   0.463796   0.510763   0.754729   \n",
       "\n",
       "    var1(t-1)  \n",
       "7   -1.000000  \n",
       "8    0.348989  \n",
       "9    1.000000  \n",
       "10   0.463796  \n",
       "11   0.510763  \n",
       "12   0.754729  \n",
       "13   0.668623  "
      ]
     },
     "execution_count": 33,
     "metadata": {},
     "output_type": "execute_result"
    }
   ],
   "source": [
    "# cargamos el dataframe en la variable values\n",
    "values = Dias.values\n",
    "\n",
    "# convertimos los enteros en floats\n",
    "values = values.astype('float32')\n",
    "\n",
    "# normalizamos los datos a escala de entre -1 y 1\n",
    "values=values.reshape(-1, 1) # esto lo hacemos porque tenemos 1 sola dimension\n",
    "scaled = scaler.fit_transform(values)\n",
    "\n",
    "# usamos la funcion definida previamente\n",
    "reframed = series_to_supervised(scaled, look_back, 1)\n",
    "\n",
    "# eliminamos la ultima columna pues es parte de lo que queremos hayar\n",
    "reframed.drop(reframed.columns[[7]], inplace=True, axis=1)\n",
    "reframed.head(7)"
   ]
  },
  {
   "cell_type": "code",
   "execution_count": 34,
   "metadata": {},
   "outputs": [
    {
     "name": "stdout",
     "output_type": "stream",
     "text": [
      "(1, 1, 7)\n"
     ]
    },
    {
     "data": {
      "text/plain": [
       "array([[[-1.        ,  0.34898853,  1.        ,  0.46379614,\n",
       "          0.51076317,  0.7547293 ,  0.66862345]]], dtype=float32)"
      ]
     },
     "execution_count": 34,
     "metadata": {},
     "output_type": "execute_result"
    }
   ],
   "source": [
    "values = reframed.values\n",
    "\n",
    "#tomamos los valores para realizar el test\n",
    "x_test = values[6:, :]\n",
    "\n",
    "# reshape input to be 3D [samples, timesteps, features] - preguntar\n",
    "x_test = x_test.reshape((x_test.shape[0], 1, x_test.shape[1]))\n",
    "print(x_test.shape)\n",
    "x_test"
   ]
  },
  {
   "cell_type": "code",
   "execution_count": 35,
   "metadata": {},
   "outputs": [],
   "source": [
    "#en la linea 24 definimos la funcion para realizar el desplazamiento que se hara en el array cada prediccion pues para hacer\n",
    "#la siguiente prediccion eliminamos el dia mas antiguo, desplazamos un lugar el resto de dias y añadimos el ultimo dia que\n",
    "#se ha predecido, esto es por que para predecir un dia se usan los 7 dias previos, y que usaremos a continuación"
   ]
  },
  {
   "cell_type": "markdown",
   "metadata": {},
   "source": [
    "# Realizamos la prediccion "
   ]
  },
  {
   "cell_type": "code",
   "execution_count": 36,
   "metadata": {},
   "outputs": [
    {
     "name": "stdout",
     "output_type": "stream",
     "text": [
      "[[[-1.          0.34898853  1.          0.46379614  0.51076317\n",
      "    0.7547293   0.66862345]]]\n",
      "[[[0.34898853 1.         0.46379614 0.51076317 0.7547293  0.66862345\n",
      "   0.19789389]]]\n",
      "[[[1.         0.46379614 0.51076317 0.7547293  0.66862345 0.19789389\n",
      "   0.44555092]]]\n",
      "[[[0.46379614 0.51076317 0.7547293  0.66862345 0.19789389 0.44555092\n",
      "   0.6392463 ]]]\n",
      "[[[0.51076317 0.7547293  0.66862345 0.19789389 0.44555092 0.6392463\n",
      "   0.5917232 ]]]\n",
      "[[[0.7547293  0.66862345 0.19789389 0.44555092 0.6392463  0.5917232\n",
      "   0.5825902 ]]]\n",
      "[[[0.66862345 0.19789389 0.44555092 0.6392463  0.5917232  0.5825902\n",
      "   0.60738313]]]\n"
     ]
    }
   ],
   "source": [
    "results=[]\n",
    "for i in range(7):\n",
    "    parcial=model.predict(x_test)\n",
    "    results.append(parcial[0])\n",
    "    print(x_test)\n",
    "    x_test=agregarNuevoValor(x_test,parcial[0])"
   ]
  },
  {
   "cell_type": "markdown",
   "metadata": {},
   "source": [
    "# Re-Convertimos los resultados"
   ]
  },
  {
   "cell_type": "code",
   "execution_count": 37,
   "metadata": {
    "scrolled": false
   },
   "outputs": [
    {
     "name": "stdout",
     "output_type": "stream",
     "text": [
      "[array([0.19789389], dtype=float32), array([0.44555092], dtype=float32), array([0.6392463], dtype=float32), array([0.5917232], dtype=float32), array([0.5825902], dtype=float32), array([0.60738313], dtype=float32), array([0.57199013], dtype=float32)]\n"
     ]
    },
    {
     "data": {
      "text/plain": [
       "array([[4217],\n",
       "       [4407],\n",
       "       [4555],\n",
       "       [4519],\n",
       "       [4512],\n",
       "       [4531],\n",
       "       [4504]])"
      ]
     },
     "execution_count": 37,
     "metadata": {},
     "output_type": "execute_result"
    }
   ],
   "source": [
    "adimen = [x for x in results]    \n",
    "print(adimen)\n",
    "inverted = scaler.inverse_transform(adimen)\n",
    "\n",
    "#en nuestro problema no tienen sentido los decimales pues no se pueden hacer 0.5 viajes o 0.25 viajes\n",
    "inverted = inverted.round()\n",
    "inverted = inverted.astype(int)\n",
    "inverted"
   ]
  },
  {
   "cell_type": "markdown",
   "metadata": {},
   "source": [
    "# Visualizamos el pronostico"
   ]
  },
  {
   "cell_type": "code",
   "execution_count": 38,
   "metadata": {
    "scrolled": true
   },
   "outputs": [
    {
     "data": {
      "text/plain": [
       "<AxesSubplot:>"
      ]
     },
     "execution_count": 38,
     "metadata": {},
     "output_type": "execute_result"
    },
    {
     "data": {
      "image/png": "[encoded data removed]",
      "text/plain": [
       "<Figure size 432x288 with 1 Axes>"
      ]
     },
     "metadata": {
      "needs_background": "light"
     },
     "output_type": "display_data"
    }
   ],
   "source": [
    "e_date = datetime.datetime.strptime('2020-05-31', '%Y-%m-%d')\n",
    "i_date = datetime.datetime.strptime('2020-05-25', '%Y-%m-%d')\n",
    "delta = e_date - i_date\n",
    "\n",
    "index_days = []\n",
    "for i in range(delta.days + 1):\n",
    "    day = i_date + timedelta(days=i)\n",
    "    index_days.append(day)\n",
    "\n",
    "prediccion = pd.DataFrame(inverted, index= index_days)\n",
    "prediccion.columns = ['pronostico']\n",
    "prediccion.plot()"
   ]
  },
  {
   "cell_type": "code",
   "execution_count": 39,
   "metadata": {},
   "outputs": [
    {
     "data": {
      "text/html": [
       "<div>\n",
       "<style scoped>\n",
       "    .dataframe tbody tr th:only-of-type {\n",
       "        vertical-align: middle;\n",
       "    }\n",
       "\n",
       "    .dataframe tbody tr th {\n",
       "        vertical-align: top;\n",
       "    }\n",
       "\n",
       "    .dataframe thead th {\n",
       "        text-align: right;\n",
       "    }\n",
       "</style>\n",
       "<table border=\"1\" class=\"dataframe\">\n",
       "  <thead>\n",
       "    <tr style=\"text-align: right;\">\n",
       "      <th></th>\n",
       "      <th>real</th>\n",
       "      <th>prediccion</th>\n",
       "    </tr>\n",
       "  </thead>\n",
       "  <tbody>\n",
       "    <tr>\n",
       "      <th>2020-05-25</th>\n",
       "      <td>4688</td>\n",
       "      <td>4217</td>\n",
       "    </tr>\n",
       "    <tr>\n",
       "      <th>2020-05-26</th>\n",
       "      <td>5272</td>\n",
       "      <td>4407</td>\n",
       "    </tr>\n",
       "    <tr>\n",
       "      <th>2020-05-27</th>\n",
       "      <td>5220</td>\n",
       "      <td>4555</td>\n",
       "    </tr>\n",
       "    <tr>\n",
       "      <th>2020-05-28</th>\n",
       "      <td>4933</td>\n",
       "      <td>4519</td>\n",
       "    </tr>\n",
       "    <tr>\n",
       "      <th>2020-05-29</th>\n",
       "      <td>5435</td>\n",
       "      <td>4512</td>\n",
       "    </tr>\n",
       "    <tr>\n",
       "      <th>2020-05-30</th>\n",
       "      <td>5217</td>\n",
       "      <td>4531</td>\n",
       "    </tr>\n",
       "    <tr>\n",
       "      <th>2020-05-31</th>\n",
       "      <td>4351</td>\n",
       "      <td>4504</td>\n",
       "    </tr>\n",
       "  </tbody>\n",
       "</table>\n",
       "</div>"
      ],
      "text/plain": [
       "            real  prediccion\n",
       "2020-05-25  4688        4217\n",
       "2020-05-26  5272        4407\n",
       "2020-05-27  5220        4555\n",
       "2020-05-28  4933        4519\n",
       "2020-05-29  5435        4512\n",
       "2020-05-30  5217        4531\n",
       "2020-05-31  4351        4504"
      ]
     },
     "execution_count": 39,
     "metadata": {},
     "output_type": "execute_result"
    }
   ],
   "source": [
    "datosReales = df['2020-5-25':'2020-5-31']\n",
    "\n",
    "compara = pd.concat([datosReales, prediccion], axis=1)\n",
    "compara.columns = ['real', 'prediccion']\n",
    "compara"
   ]
  },
  {
   "cell_type": "code",
   "execution_count": 40,
   "metadata": {},
   "outputs": [
    {
     "data": {
      "text/plain": [
       "<AxesSubplot:>"
      ]
     },
     "execution_count": 40,
     "metadata": {},
     "output_type": "execute_result"
    },
    {
     "data": {
      "image/png": "[encoded data removed]",
      "text/plain": [
       "<Figure size 432x288 with 1 Axes>"
      ]
     },
     "metadata": {
      "needs_background": "light"
     },
     "output_type": "display_data"
    }
   ],
   "source": [
    "compara['real'].plot()\n",
    "compara['prediccion'].plot()"
   ]
  },
  {
   "cell_type": "code",
   "execution_count": 41,
   "metadata": {
    "scrolled": false
   },
   "outputs": [
    {
     "name": "stdout",
     "output_type": "stream",
     "text": [
      "Resultado del test: 596.71 MAE\n",
      "Resultado del test: 418517.29 MSE\n",
      "Resultado del test: 646.93 RMSE\n",
      "Resultado del test: 14.49 CVRMSE\n",
      "Resultado del test: 13.36 MAPE\n"
     ]
    }
   ],
   "source": [
    "# calculamos las metricas de error\n",
    "testScore_MAE, testScore_MSE, testScore_RMSE, testScore_CVRMSE, testScore_MAPE  =  compute_metrics_fn(prediccion, datosReales)\n",
    "print('Resultado del test: %.2f MAE' % (testScore_MAE))\n",
    "print('Resultado del test: %.2f MSE' % (testScore_MSE))\n",
    "print('Resultado del test: %.2f RMSE' % (testScore_RMSE))\n",
    "print('Resultado del test: %.2f CVRMSE' % (testScore_CVRMSE))\n",
    "print('Resultado del test: %.2f MAPE' % (testScore_MAPE))"
   ]
  },
  {
   "cell_type": "code",
   "execution_count": null,
   "metadata": {},
   "outputs": [],
   "source": []
  }
 ],
 "metadata": {
  "kernelspec": {
   "display_name": "Python 3",
   "language": "python",
   "name": "python3"
  },
  "language_info": {
   "codemirror_mode": {
    "name": "ipython",
    "version": 3
   },
   "file_extension": ".py",
   "mimetype": "text/x-python",
   "name": "python",
   "nbconvert_exporter": "python",
   "pygments_lexer": "ipython3",
   "version": "3.8.5"
  }
 },
 "nbformat": 4,
 "nbformat_minor": 4
}
